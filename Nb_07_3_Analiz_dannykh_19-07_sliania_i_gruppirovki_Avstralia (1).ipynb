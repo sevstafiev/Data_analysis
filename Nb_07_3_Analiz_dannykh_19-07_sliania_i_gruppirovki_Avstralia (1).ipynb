{
 "cells": [
  {
   "cell_type": "code",
   "execution_count": 1,
   "metadata": {},
   "outputs": [],
   "source": [
    "import numpy as np\n",
    "import pandas as pd\n",
    "from IPython.display import display\n",
    "\n",
    "names_air=[\"Airport ID\",\"Name\",\"City\",\"Country\",\"IATA\",\"ICAO\",\"Latitude\", \n",
    "                                           \"Longitude\", \"Altitude\", \"Timezone\", \"DST\", \n",
    "                                           \"Tz database\",\"Type\",\"Source\"]\n",
    "airports=pd.read_csv(\"E://airports.csv\",names=names_air).replace(\"\\\\N\",np.nan)"
   ]
  },
  {
   "cell_type": "code",
   "execution_count": 2,
   "metadata": {},
   "outputs": [],
   "source": [
    "routes_names = [\"Airline\", \"Airline ID\", \"Source airport\", \"Source airport ID\", \n",
    "                \"Destination airport\", \"Destination airport ID\", \n",
    "                \"Codeshare\", \"Stops\", \"Equipment\"]\n",
    "routes = pd.read_csv('E://routes.csv', index_col = \"Airline ID\", \n",
    "                     header = None, names = routes_names).replace(\"\\\\N\",np.nan)"
   ]
  },
  {
   "cell_type": "code",
   "execution_count": 3,
   "metadata": {},
   "outputs": [],
   "source": [
    "US = airports[\n",
    "    (airports['Country'] == 'United States')&(airports['IATA'].notna())\n",
    "    ] \n",
    "US = US[~US.IATA.isin(['OEL','TZR','CWT'])]"
   ]
  },
  {
   "cell_type": "code",
   "execution_count": 4,
   "metadata": {},
   "outputs": [],
   "source": [
    "nonUS = airports[\n",
    "    (airports['Country'] != 'United States')&(airports['IATA'].notna())\n",
    "    ]\n",
    "\n",
    "nonUS = nonUS[~nonUS.IATA.isin(['LND','EMP','LKV','NDZ','QQS','BMQ','JON','BCV'])]"
   ]
  },
  {
   "cell_type": "code",
   "execution_count": 5,
   "metadata": {},
   "outputs": [],
   "source": [
    "USp = US[['Name','Latitude','Longitude']]\n",
    "\n",
    "routes = routes[routes['Source airport'].isin(nonUS.IATA)]\n",
    "routes = routes[routes['Destination airport'].isin(US.IATA)]\n",
    "\n",
    "\n",
    "unstack_table = routes.groupby(['Source airport','Destination airport']).count()\\\n",
    ".drop(['Airline', 'Source airport ID', 'Destination airport ID', 'Codeshare','Equipment'],axis=1)\n",
    "\n",
    "\n",
    "unstack_table = unstack_table.reset_index()\n",
    "\n",
    "\n",
    "nonUS_coords = pd.merge(unstack_table,airports,left_on='Source airport',right_on='IATA',how='left')\n",
    "US_coords = pd.merge(unstack_table,airports,left_on='Destination airport',right_on='IATA',how='left')\n",
    "\n",
    "unstack_table['start_lat'] = nonUS_coords['Latitude']\n",
    "unstack_table['start_lon'] = nonUS_coords['Longitude']\n",
    "unstack_table['end_lat'] = US_coords['Latitude']\n",
    "unstack_table['end_lon'] = US_coords['Longitude']"
   ]
  },
  {
   "cell_type": "code",
   "execution_count": 12,
   "metadata": {},
   "outputs": [],
   "source": [
    "US1 = nonUS[nonUS.IATA.isin(unstack_table['Source airport'].unique())]\n",
    "markers = pd.concat([US,US1])"
   ]
  },
  {
   "cell_type": "code",
   "execution_count": 13,
   "metadata": {},
   "outputs": [
    {
     "data": {
      "application/vnd.plotly.v1+json": {
       "config": {
        "plotlyServerURL": "https://plot.ly"
       },
       "data": [
        {
         "lat": [
          16.757099151611328,
          29.98439979553223
         ],
         "line": {
          "color": "red",
          "width": 1
         },
         "lon": [
          -99.75399780273438,
          -95.34140014648438
         ],
         "mode": "lines",
         "opacity": 0.08333333333333333,
         "type": "scattergeo"
        },
        {
         "lat": [
          5.605189800262451,
          40.63980103
         ],
         "line": {
          "color": "red",
          "width": 1
         },
         "lon": [
          -0.16678600013256073,
          -73.77890015
         ],
         "mode": "lines",
         "opacity": 0.08333333333333333,
         "type": "scattergeo"
        },
        {
         "lat": [
          21.705601,
          32.896800994873054
         ],
         "line": {
          "color": "red",
          "width": 1
         },
         "lon": [
          -102.318001,
          -97.03800201416016
         ],
         "mode": "lines",
         "opacity": 0.16666666666666666,
         "type": "scattergeo"
        },
        {
         "lat": [
          21.705601,
          29.98439979553223
         ],
         "line": {
          "color": "red",
          "width": 1
         },
         "lon": [
          -102.318001,
          -95.34140014648438
         ],
         "mode": "lines",
         "opacity": 0.08333333333333333,
         "type": "scattergeo"
        },
        {
         "lat": [
          21.705601,
          33.94250107
         ],
         "line": {
          "color": "red",
          "width": 1
         },
         "lon": [
          -102.318001,
          -118.40799709999999
         ],
         "mode": "lines",
         "opacity": 0.08333333333333333,
         "type": "scattergeo"
        },
        {
         "lat": [
          -37.0080986023,
          33.94250107
         ],
         "line": {
          "color": "red",
          "width": 1
         },
         "lon": [
          174.79200744599999,
          -118.40799709999999
         ],
         "mode": "lines",
         "opacity": 0.16666666666666666,
         "type": "scattergeo"
        },
        {
         "lat": [
          -37.0080986023,
          37.61899948120117
         ],
         "line": {
          "color": "red",
          "width": 1
         },
         "lon": [
          174.79200744599999,
          -122.375
         ],
         "mode": "lines",
         "opacity": 0.16666666666666666,
         "type": "scattergeo"
        },
        {
         "lat": [
          31.7226009369,
          40.63980103
         ],
         "line": {
          "color": "red",
          "width": 1
         },
         "lon": [
          35.9931983948,
          -73.77890015
         ],
         "mode": "lines",
         "opacity": 0.25,
         "type": "scattergeo"
        },
        {
         "lat": [
          31.7226009369,
          41.97859955
         ],
         "line": {
          "color": "red",
          "width": 1
         },
         "lon": [
          35.9931983948,
          -87.90480042
         ],
         "mode": "lines",
         "opacity": 0.25,
         "type": "scattergeo"
        },
        {
         "lat": [
          52.308601379399995,
          33.63669967651367
         ],
         "line": {
          "color": "red",
          "width": 1
         },
         "lon": [
          4.7638897895799985,
          -84.4281005859375
         ],
         "mode": "lines",
         "opacity": 0.16666666666666666,
         "type": "scattergeo"
        },
        {
         "lat": [
          52.308601379399995,
          42.36429977
         ],
         "line": {
          "color": "red",
          "width": 1
         },
         "lon": [
          4.7638897895799985,
          -71.00520325
         ],
         "mode": "lines",
         "opacity": 0.16666666666666666,
         "type": "scattergeo"
        },
        {
         "lat": [
          52.308601379399995,
          32.896800994873054
         ],
         "line": {
          "color": "red",
          "width": 1
         },
         "lon": [
          4.7638897895799985,
          -97.03800201416016
         ],
         "mode": "lines",
         "opacity": 0.16666666666666666,
         "type": "scattergeo"
        },
        {
         "lat": [
          52.308601379399995,
          42.212398529052734
         ],
         "line": {
          "color": "red",
          "width": 1
         },
         "lon": [
          4.7638897895799985,
          -83.35340118408203
         ],
         "mode": "lines",
         "opacity": 0.16666666666666666,
         "type": "scattergeo"
        },
        {
         "lat": [
          52.308601379399995,
          40.69250106811523
         ],
         "line": {
          "color": "red",
          "width": 1
         },
         "lon": [
          4.7638897895799985,
          -74.168701171875
         ],
         "mode": "lines",
         "opacity": 0.3333333333333333,
         "type": "scattergeo"
        },
        {
         "lat": [
          52.308601379399995,
          38.94449997
         ],
         "line": {
          "color": "red",
          "width": 1
         },
         "lon": [
          4.7638897895799985,
          -77.45580292
         ],
         "mode": "lines",
         "opacity": 0.3333333333333333,
         "type": "scattergeo"
        },
        {
         "lat": [
          52.308601379399995,
          29.98439979553223
         ],
         "line": {
          "color": "red",
          "width": 1
         },
         "lon": [
          4.7638897895799985,
          -95.34140014648438
         ],
         "mode": "lines",
         "opacity": 0.3333333333333333,
         "type": "scattergeo"
        },
        {
         "lat": [
          52.308601379399995,
          40.63980103
         ],
         "line": {
          "color": "red",
          "width": 1
         },
         "lon": [
          4.7638897895799985,
          -73.77890015
         ],
         "mode": "lines",
         "opacity": 0.16666666666666666,
         "type": "scattergeo"
        },
        {
         "lat": [
          52.308601379399995,
          33.94250107
         ],
         "line": {
          "color": "red",
          "width": 1
         },
         "lon": [
          4.7638897895799985,
          -118.40799709999999
         ],
         "mode": "lines",
         "opacity": 0.16666666666666666,
         "type": "scattergeo"
        },
        {
         "lat": [
          52.308601379399995,
          44.8819999695
         ],
         "line": {
          "color": "red",
          "width": 1
         },
         "lon": [
          4.7638897895799985,
          -93.22180175780001
         ],
         "mode": "lines",
         "opacity": 0.16666666666666666,
         "type": "scattergeo"
        },
        {
         "lat": [
          52.308601379399995,
          41.97859955
         ],
         "line": {
          "color": "red",
          "width": 1
         },
         "lon": [
          4.7638897895799985,
          -87.90480042
         ],
         "mode": "lines",
         "opacity": 0.3333333333333333,
         "type": "scattergeo"
        },
        {
         "lat": [
          52.308601379399995,
          45.58869934
         ],
         "line": {
          "color": "red",
          "width": 1
         },
         "lon": [
          4.7638897895799985,
          -122.59799960000001
         ],
         "mode": "lines",
         "opacity": 0.16666666666666666,
         "type": "scattergeo"
        },
        {
         "lat": [
          52.308601379399995,
          39.87189865112305
         ],
         "line": {
          "color": "red",
          "width": 1
         },
         "lon": [
          4.7638897895799985,
          -75.24109649658203
         ],
         "mode": "lines",
         "opacity": 0.16666666666666666,
         "type": "scattergeo"
        },
        {
         "lat": [
          52.308601379399995,
          47.44900131225586
         ],
         "line": {
          "color": "red",
          "width": 1
         },
         "lon": [
          4.7638897895799985,
          -122.30899810791016
         ],
         "mode": "lines",
         "opacity": 0.16666666666666666,
         "type": "scattergeo"
        },
        {
         "lat": [
          52.308601379399995,
          28.7775993347168
         ],
         "line": {
          "color": "red",
          "width": 1
         },
         "lon": [
          4.7638897895799985,
          -81.23750305175781
         ],
         "mode": "lines",
         "opacity": 0.08333333333333333,
         "type": "scattergeo"
        },
        {
         "lat": [
          52.308601379399995,
          37.61899948120117
         ],
         "line": {
          "color": "red",
          "width": 1
         },
         "lon": [
          4.7638897895799985,
          -122.375
         ],
         "mode": "lines",
         "opacity": 0.16666666666666666,
         "type": "scattergeo"
        },
        {
         "lat": [
          17.1367,
          35.2140007019043
         ],
         "line": {
          "color": "red",
          "width": 1
         },
         "lon": [
          -61.792702,
          -80.94309997558594
         ],
         "mode": "lines",
         "opacity": 0.16666666666666666,
         "type": "scattergeo"
        },
        {
         "lat": [
          17.1367,
          40.69250106811523
         ],
         "line": {
          "color": "red",
          "width": 1
         },
         "lon": [
          -61.792702,
          -74.168701171875
         ],
         "mode": "lines",
         "opacity": 0.08333333333333333,
         "type": "scattergeo"
        },
        {
         "lat": [
          17.1367,
          40.63980103
         ],
         "line": {
          "color": "red",
          "width": 1
         },
         "lon": [
          -61.792702,
          -73.77890015
         ],
         "mode": "lines",
         "opacity": 0.16666666666666666,
         "type": "scattergeo"
        },
        {
         "lat": [
          17.1367,
          25.79319953918457
         ],
         "line": {
          "color": "red",
          "width": 1
         },
         "lon": [
          -61.792702,
          -80.29060363769531
         ],
         "mode": "lines",
         "opacity": 0.16666666666666666,
         "type": "scattergeo"
        },
        {
         "lat": [
          -13.829999923706055,
          21.318700790405273
         ],
         "line": {
          "color": "red",
          "width": 1
         },
         "lon": [
          -172.00799560546875,
          -157.9219970703125
         ],
         "mode": "lines",
         "opacity": 0.08333333333333333,
         "type": "scattergeo"
        },
        {
         "lat": [
          59.651901245116996,
          40.69250106811523
         ],
         "line": {
          "color": "red",
          "width": 1
         },
         "lon": [
          17.918600082397,
          -74.168701171875
         ],
         "mode": "lines",
         "opacity": 0.16666666666666666,
         "type": "scattergeo"
        },
        {
         "lat": [
          59.651901245116996,
          26.072599411010746
         ],
         "line": {
          "color": "red",
          "width": 1
         },
         "lon": [
          17.918600082397,
          -80.15270233154297
         ],
         "mode": "lines",
         "opacity": 0.08333333333333333,
         "type": "scattergeo"
        },
        {
         "lat": [
          59.651901245116996,
          40.63980103
         ],
         "line": {
          "color": "red",
          "width": 1
         },
         "lon": [
          17.918600082397,
          -73.77890015
         ],
         "mode": "lines",
         "opacity": 0.08333333333333333,
         "type": "scattergeo"
        },
        {
         "lat": [
          59.651901245116996,
          33.94250107
         ],
         "line": {
          "color": "red",
          "width": 1
         },
         "lon": [
          17.918600082397,
          -118.40799709999999
         ],
         "mode": "lines",
         "opacity": 0.08333333333333333,
         "type": "scattergeo"
        },
        {
         "lat": [
          59.651901245116996,
          37.72129821777344
         ],
         "line": {
          "color": "red",
          "width": 1
         },
         "lon": [
          17.918600082397,
          -122.22100067138672
         ],
         "mode": "lines",
         "opacity": 0.08333333333333333,
         "type": "scattergeo"
        },
        {
         "lat": [
          59.651901245116996,
          41.97859955
         ],
         "line": {
          "color": "red",
          "width": 1
         },
         "lon": [
          17.918600082397,
          -87.90480042
         ],
         "mode": "lines",
         "opacity": 0.08333333333333333,
         "type": "scattergeo"
        },
        {
         "lat": [
          -25.239999771118164,
          25.79319953918457
         ],
         "line": {
          "color": "red",
          "width": 1
         },
         "lon": [
          -57.52000045776367,
          -80.29060363769531
         ],
         "mode": "lines",
         "opacity": 0.16666666666666666,
         "type": "scattergeo"
        },
        {
         "lat": [
          37.9364013672,
          39.87189865112305
         ],
         "line": {
          "color": "red",
          "width": 1
         },
         "lon": [
          23.944499969499997,
          -75.24109649658203
         ],
         "mode": "lines",
         "opacity": 0.25,
         "type": "scattergeo"
        },
        {
         "lat": [
          12.501399993896484,
          33.63669967651367
         ],
         "line": {
          "color": "red",
          "width": 1
         },
         "lon": [
          -70.01519775390625,
          -84.4281005859375
         ],
         "mode": "lines",
         "opacity": 0.25,
         "type": "scattergeo"
        },
        {
         "lat": [
          12.501399993896484,
          42.36429977
         ],
         "line": {
          "color": "red",
          "width": 1
         },
         "lon": [
          -70.01519775390625,
          -71.00520325
         ],
         "mode": "lines",
         "opacity": 0.08333333333333333,
         "type": "scattergeo"
        },
        {
         "lat": [
          12.501399993896484,
          39.17539978
         ],
         "line": {
          "color": "red",
          "width": 1
         },
         "lon": [
          -70.01519775390625,
          -76.66829681
         ],
         "mode": "lines",
         "opacity": 0.08333333333333333,
         "type": "scattergeo"
        },
        {
         "lat": [
          12.501399993896484,
          35.2140007019043
         ],
         "line": {
          "color": "red",
          "width": 1
         },
         "lon": [
          -70.01519775390625,
          -80.94309997558594
         ],
         "mode": "lines",
         "opacity": 0.16666666666666666,
         "type": "scattergeo"
        },
        {
         "lat": [
          12.501399993896484,
          40.69250106811523
         ],
         "line": {
          "color": "red",
          "width": 1
         },
         "lon": [
          -70.01519775390625,
          -74.168701171875
         ],
         "mode": "lines",
         "opacity": 0.08333333333333333,
         "type": "scattergeo"
        },
        {
         "lat": [
          12.501399993896484,
          26.072599411010746
         ],
         "line": {
          "color": "red",
          "width": 1
         },
         "lon": [
          -70.01519775390625,
          -80.15270233154297
         ],
         "mode": "lines",
         "opacity": 0.08333333333333333,
         "type": "scattergeo"
        },
        {
         "lat": [
          12.501399993896484,
          38.94449997
         ],
         "line": {
          "color": "red",
          "width": 1
         },
         "lon": [
          -70.01519775390625,
          -77.45580292
         ],
         "mode": "lines",
         "opacity": 0.08333333333333333,
         "type": "scattergeo"
        },
        {
         "lat": [
          12.501399993896484,
          40.63980103
         ],
         "line": {
          "color": "red",
          "width": 1
         },
         "lon": [
          -70.01519775390625,
          -73.77890015
         ],
         "mode": "lines",
         "opacity": 0.16666666666666666,
         "type": "scattergeo"
        },
        {
         "lat": [
          12.501399993896484,
          40.77719879
         ],
         "line": {
          "color": "red",
          "width": 1
         },
         "lon": [
          -70.01519775390625,
          -73.87259674
         ],
         "mode": "lines",
         "opacity": 0.08333333333333333,
         "type": "scattergeo"
        },
        {
         "lat": [
          12.501399993896484,
          28.429399490356445
         ],
         "line": {
          "color": "red",
          "width": 1
         },
         "lon": [
          -70.01519775390625,
          -81.30899810791016
         ],
         "mode": "lines",
         "opacity": 0.08333333333333333,
         "type": "scattergeo"
        },
        {
         "lat": [
          12.501399993896484,
          25.79319953918457
         ],
         "line": {
          "color": "red",
          "width": 1
         },
         "lon": [
          -70.01519775390625,
          -80.29060363769531
         ],
         "mode": "lines",
         "opacity": 0.4166666666666667,
         "type": "scattergeo"
        },
        {
         "lat": [
          12.501399993896484,
          39.87189865112305
         ],
         "line": {
          "color": "red",
          "width": 1
         },
         "lon": [
          -70.01519775390625,
          -75.24109649658203
         ],
         "mode": "lines",
         "opacity": 0.16666666666666666,
         "type": "scattergeo"
        },
        {
         "lat": [
          24.433000564575195,
          38.94449997
         ],
         "line": {
          "color": "red",
          "width": 1
         },
         "lon": [
          54.651100158691406,
          -77.45580292
         ],
         "mode": "lines",
         "opacity": 0.16666666666666666,
         "type": "scattergeo"
        },
        {
         "lat": [
          24.433000564575195,
          40.63980103
         ],
         "line": {
          "color": "red",
          "width": 1
         },
         "lon": [
          54.651100158691406,
          -73.77890015
         ],
         "mode": "lines",
         "opacity": 0.16666666666666666,
         "type": "scattergeo"
        },
        {
         "lat": [
          24.433000564575195,
          41.97859955
         ],
         "line": {
          "color": "red",
          "width": 1
         },
         "lon": [
          54.651100158691406,
          -87.90480042
         ],
         "mode": "lines",
         "opacity": 0.16666666666666666,
         "type": "scattergeo"
        },
        {
         "lat": [
          4.452780000000001,
          26.072599411010746
         ],
         "line": {
          "color": "red",
          "width": 1
         },
         "lon": [
          -75.7664,
          -80.15270233154297
         ],
         "mode": "lines",
         "opacity": 0.08333333333333333,
         "type": "scattergeo"
        },
        {
         "lat": [
          19.267000198399998,
          40.63980103
         ],
         "line": {
          "color": "red",
          "width": 1
         },
         "lon": [
          -69.7419967651,
          -73.77890015
         ],
         "mode": "lines",
         "opacity": 0.08333333333333333,
         "type": "scattergeo"
        },
        {
         "lat": [
          10.8896,
          25.79319953918457
         ],
         "line": {
          "color": "red",
          "width": 1
         },
         "lon": [
          -74.7808,
          -80.29060363769531
         ],
         "mode": "lines",
         "opacity": 0.25,
         "type": "scattergeo"
        },
        {
         "lat": [
          41.297100067139,
          40.69250106811523
         ],
         "line": {
          "color": "red",
          "width": 1
         },
         "lon": [
          2.0784599781036,
          -74.168701171875
         ],
         "mode": "lines",
         "opacity": 0.16666666666666666,
         "type": "scattergeo"
        },
        {
         "lat": [
          41.297100067139,
          40.63980103
         ],
         "line": {
          "color": "red",
          "width": 1
         },
         "lon": [
          2.0784599781036,
          -73.77890015
         ],
         "mode": "lines",
         "opacity": 0.75,
         "type": "scattergeo"
        },
        {
         "lat": [
          41.297100067139,
          25.79319953918457
         ],
         "line": {
          "color": "red",
          "width": 1
         },
         "lon": [
          2.0784599781036,
          -80.29060363769531
         ],
         "mode": "lines",
         "opacity": 0.4166666666666667,
         "type": "scattergeo"
        },
        {
         "lat": [
          41.297100067139,
          39.87189865112305
         ],
         "line": {
          "color": "red",
          "width": 1
         },
         "lon": [
          2.0784599781036,
          -75.24109649658203
         ],
         "mode": "lines",
         "opacity": 0.16666666666666666,
         "type": "scattergeo"
        },
        {
         "lat": [
          32.363998413085945,
          33.63669967651367
         ],
         "line": {
          "color": "red",
          "width": 1
         },
         "lon": [
          -64.67870330810547,
          -84.4281005859375
         ],
         "mode": "lines",
         "opacity": 0.08333333333333333,
         "type": "scattergeo"
        },
        {
         "lat": [
          32.363998413085945,
          42.36429977
         ],
         "line": {
          "color": "red",
          "width": 1
         },
         "lon": [
          -64.67870330810547,
          -71.00520325
         ],
         "mode": "lines",
         "opacity": 0.08333333333333333,
         "type": "scattergeo"
        },
        {
         "lat": [
          32.363998413085945,
          40.69250106811523
         ],
         "line": {
          "color": "red",
          "width": 1
         },
         "lon": [
          -64.67870330810547,
          -74.168701171875
         ],
         "mode": "lines",
         "opacity": 0.08333333333333333,
         "type": "scattergeo"
        },
        {
         "lat": [
          32.363998413085945,
          40.63980103
         ],
         "line": {
          "color": "red",
          "width": 1
         },
         "lon": [
          -64.67870330810547,
          -73.77890015
         ],
         "mode": "lines",
         "opacity": 0.3333333333333333,
         "type": "scattergeo"
        },
        {
         "lat": [
          32.363998413085945,
          25.79319953918457
         ],
         "line": {
          "color": "red",
          "width": 1
         },
         "lon": [
          -64.67870330810547,
          -80.29060363769531
         ],
         "mode": "lines",
         "opacity": 0.16666666666666666,
         "type": "scattergeo"
        },
        {
         "lat": [
          32.363998413085945,
          39.87189865112305
         ],
         "line": {
          "color": "red",
          "width": 1
         },
         "lon": [
          -64.67870330810547,
          -75.24109649658203
         ],
         "mode": "lines",
         "opacity": 0.16666666666666666,
         "type": "scattergeo"
        },
        {
         "lat": [
          -1.3792500495900002,
          25.79319953918457
         ],
         "line": {
          "color": "red",
          "width": 1
         },
         "lon": [
          -48.476299285900005,
          -80.29060363769531
         ],
         "mode": "lines",
         "opacity": 0.08333333333333333,
         "type": "scattergeo"
        },
        {
         "lat": [
          54.6575012207,
          40.69250106811523
         ],
         "line": {
          "color": "red",
          "width": 1
         },
         "lon": [
          -6.21582984924,
          -74.168701171875
         ],
         "mode": "lines",
         "opacity": 0.16666666666666666,
         "type": "scattergeo"
        },
        {
         "lat": [
          13.0746002197,
          40.63980103
         ],
         "line": {
          "color": "red",
          "width": 1
         },
         "lon": [
          -59.492500305200004,
          -73.77890015
         ],
         "mode": "lines",
         "opacity": 0.08333333333333333,
         "type": "scattergeo"
        },
        {
         "lat": [
          13.0746002197,
          25.79319953918457
         ],
         "line": {
          "color": "red",
          "width": 1
         },
         "lon": [
          -59.492500305200004,
          -80.29060363769531
         ],
         "mode": "lines",
         "opacity": 0.16666666666666666,
         "type": "scattergeo"
        },
        {
         "lat": [
          60.29339981,
          40.63980103
         ],
         "line": {
          "color": "red",
          "width": 1
         },
         "lon": [
          5.218140125,
          -73.77890015
         ],
         "mode": "lines",
         "opacity": 0.08333333333333333,
         "type": "scattergeo"
        },
        {
         "lat": [
          52.4538993835,
          40.69250106811523
         ],
         "line": {
          "color": "red",
          "width": 1
         },
         "lon": [
          -1.7480299472799998,
          -74.168701171875
         ],
         "mode": "lines",
         "opacity": 0.16666666666666666,
         "type": "scattergeo"
        },
        {
         "lat": [
          25.6998996735,
          26.072599411010746
         ],
         "line": {
          "color": "red",
          "width": 1
         },
         "lon": [
          -79.2647018433,
          -80.15270233154297
         ],
         "mode": "lines",
         "opacity": 0.16666666666666666,
         "type": "scattergeo"
        },
        {
         "lat": [
          20.993499755900004,
          33.63669967651367
         ],
         "line": {
          "color": "red",
          "width": 1
         },
         "lon": [
          -101.48100280799999,
          -84.4281005859375
         ],
         "mode": "lines",
         "opacity": 0.08333333333333333,
         "type": "scattergeo"
        },
        {
         "lat": [
          20.993499755900004,
          32.896800994873054
         ],
         "line": {
          "color": "red",
          "width": 1
         },
         "lon": [
          -101.48100280799999,
          -97.03800201416016
         ],
         "mode": "lines",
         "opacity": 0.16666666666666666,
         "type": "scattergeo"
        },
        {
         "lat": [
          20.993499755900004,
          29.98439979553223
         ],
         "line": {
          "color": "red",
          "width": 1
         },
         "lon": [
          -101.48100280799999,
          -95.34140014648438
         ],
         "mode": "lines",
         "opacity": 0.08333333333333333,
         "type": "scattergeo"
        },
        {
         "lat": [
          20.993499755900004,
          33.94250107
         ],
         "line": {
          "color": "red",
          "width": 1
         },
         "lon": [
          -101.48100280799999,
          -118.40799709999999
         ],
         "mode": "lines",
         "opacity": 0.16666666666666666,
         "type": "scattergeo"
        },
        {
         "lat": [
          20.993499755900004,
          41.7859992980957
         ],
         "line": {
          "color": "red",
          "width": 1
         },
         "lon": [
          -101.48100280799999,
          -87.75240325927734
         ],
         "mode": "lines",
         "opacity": 0.08333333333333333,
         "type": "scattergeo"
        },
        {
         "lat": [
          20.993499755900004,
          37.61899948120117
         ],
         "line": {
          "color": "red",
          "width": 1
         },
         "lon": [
          -101.48100280799999,
          -122.375
         ],
         "mode": "lines",
         "opacity": 0.08333333333333333,
         "type": "scattergeo"
        },
        {
         "lat": [
          10.107099533081056,
          25.79319953918457
         ],
         "line": {
          "color": "red",
          "width": 1
         },
         "lon": [
          -64.68920135498047,
          -80.29060363769531
         ],
         "mode": "lines",
         "opacity": 0.08333333333333333,
         "type": "scattergeo"
        },
        {
         "lat": [
          -27.38419914245605,
          21.318700790405273
         ],
         "line": {
          "color": "red",
          "width": 1
         },
         "lon": [
          153.11700439453125,
          -157.9219970703125
         ],
         "mode": "lines",
         "opacity": 0.08333333333333333,
         "type": "scattergeo"
        },
        {
         "lat": [
          -27.38419914245605,
          33.94250107
         ],
         "line": {
          "color": "red",
          "width": 1
         },
         "lon": [
          153.11700439453125,
          -118.40799709999999
         ],
         "mode": "lines",
         "opacity": 0.3333333333333333,
         "type": "scattergeo"
        },
        {
         "lat": [
          4.70159,
          33.63669967651367
         ],
         "line": {
          "color": "red",
          "width": 1
         },
         "lon": [
          -74.1469,
          -84.4281005859375
         ],
         "mode": "lines",
         "opacity": 0.08333333333333333,
         "type": "scattergeo"
        },
        {
         "lat": [
          4.70159,
          32.896800994873054
         ],
         "line": {
          "color": "red",
          "width": 1
         },
         "lon": [
          -74.1469,
          -97.03800201416016
         ],
         "mode": "lines",
         "opacity": 0.25,
         "type": "scattergeo"
        },
        {
         "lat": [
          4.70159,
          40.69250106811523
         ],
         "line": {
          "color": "red",
          "width": 1
         },
         "lon": [
          -74.1469,
          -74.168701171875
         ],
         "mode": "lines",
         "opacity": 0.16666666666666666,
         "type": "scattergeo"
        },
        {
         "lat": [
          4.70159,
          26.072599411010746
         ],
         "line": {
          "color": "red",
          "width": 1
         },
         "lon": [
          -74.1469,
          -80.15270233154297
         ],
         "mode": "lines",
         "opacity": 0.3333333333333333,
         "type": "scattergeo"
        },
        {
         "lat": [
          4.70159,
          38.94449997
         ],
         "line": {
          "color": "red",
          "width": 1
         },
         "lon": [
          -74.1469,
          -77.45580292
         ],
         "mode": "lines",
         "opacity": 0.16666666666666666,
         "type": "scattergeo"
        },
        {
         "lat": [
          4.70159,
          29.98439979553223
         ],
         "line": {
          "color": "red",
          "width": 1
         },
         "lon": [
          -74.1469,
          -95.34140014648438
         ],
         "mode": "lines",
         "opacity": 0.16666666666666666,
         "type": "scattergeo"
        },
        {
         "lat": [
          4.70159,
          40.63980103
         ],
         "line": {
          "color": "red",
          "width": 1
         },
         "lon": [
          -74.1469,
          -73.77890015
         ],
         "mode": "lines",
         "opacity": 0.3333333333333333,
         "type": "scattergeo"
        },
        {
         "lat": [
          4.70159,
          28.429399490356445
         ],
         "line": {
          "color": "red",
          "width": 1
         },
         "lon": [
          -74.1469,
          -81.30899810791016
         ],
         "mode": "lines",
         "opacity": 0.25,
         "type": "scattergeo"
        },
        {
         "lat": [
          4.70159,
          25.79319953918457
         ],
         "line": {
          "color": "red",
          "width": 1
         },
         "lon": [
          -74.1469,
          -80.29060363769531
         ],
         "mode": "lines",
         "opacity": 0.4166666666666667,
         "type": "scattergeo"
        },
        {
         "lat": [
          19.088699340799998,
          40.69250106811523
         ],
         "line": {
          "color": "red",
          "width": 1
         },
         "lon": [
          72.8678970337,
          -74.168701171875
         ],
         "mode": "lines",
         "opacity": 0.16666666666666666,
         "type": "scattergeo"
        },
        {
         "lat": [
          12.130999565124512,
          33.63669967651367
         ],
         "line": {
          "color": "red",
          "width": 1
         },
         "lon": [
          -68.26850128173828,
          -84.4281005859375
         ],
         "mode": "lines",
         "opacity": 0.08333333333333333,
         "type": "scattergeo"
        },
        {
         "lat": [
          12.130999565124512,
          40.69250106811523
         ],
         "line": {
          "color": "red",
          "width": 1
         },
         "lon": [
          -68.26850128173828,
          -74.168701171875
         ],
         "mode": "lines",
         "opacity": 0.08333333333333333,
         "type": "scattergeo"
        },
        {
         "lat": [
          12.130999565124512,
          29.98439979553223
         ],
         "line": {
          "color": "red",
          "width": 1
         },
         "lon": [
          -68.26850128173828,
          -95.34140014648438
         ],
         "mode": "lines",
         "opacity": 0.08333333333333333,
         "type": "scattergeo"
        },
        {
         "lat": [
          18.49489974975586,
          40.69250106811523
         ],
         "line": {
          "color": "red",
          "width": 1
         },
         "lon": [
          -67.12940216064453,
          -74.168701171875
         ],
         "mode": "lines",
         "opacity": 0.08333333333333333,
         "type": "scattergeo"
        },
        {
         "lat": [
          18.49489974975586,
          26.072599411010746
         ],
         "line": {
          "color": "red",
          "width": 1
         },
         "lon": [
          -67.12940216064453,
          -80.15270233154297
         ],
         "mode": "lines",
         "opacity": 0.08333333333333333,
         "type": "scattergeo"
        },
        {
         "lat": [
          18.49489974975586,
          40.63980103
         ],
         "line": {
          "color": "red",
          "width": 1
         },
         "lon": [
          -67.12940216064453,
          -73.77890015
         ],
         "mode": "lines",
         "opacity": 0.08333333333333333,
         "type": "scattergeo"
        },
        {
         "lat": [
          18.49489974975586,
          28.429399490356445
         ],
         "line": {
          "color": "red",
          "width": 1
         },
         "lon": [
          -67.12940216064453,
          -81.30899810791016
         ],
         "mode": "lines",
         "opacity": 0.08333333333333333,
         "type": "scattergeo"
        },
        {
         "lat": [
          50.9014015198,
          33.63669967651367
         ],
         "line": {
          "color": "red",
          "width": 1
         },
         "lon": [
          4.48443984985,
          -84.4281005859375
         ],
         "mode": "lines",
         "opacity": 0.25,
         "type": "scattergeo"
        },
        {
         "lat": [
          50.9014015198,
          40.69250106811523
         ],
         "line": {
          "color": "red",
          "width": 1
         },
         "lon": [
          4.48443984985,
          -74.168701171875
         ],
         "mode": "lines",
         "opacity": 0.4166666666666667,
         "type": "scattergeo"
        },
        {
         "lat": [
          50.9014015198,
          38.94449997
         ],
         "line": {
          "color": "red",
          "width": 1
         },
         "lon": [
          4.48443984985,
          -77.45580292
         ],
         "mode": "lines",
         "opacity": 0.25,
         "type": "scattergeo"
        },
        {
         "lat": [
          50.9014015198,
          40.63980103
         ],
         "line": {
          "color": "red",
          "width": 1
         },
         "lon": [
          4.48443984985,
          -73.77890015
         ],
         "mode": "lines",
         "opacity": 0.5,
         "type": "scattergeo"
        },
        {
         "lat": [
          50.9014015198,
          41.97859955
         ],
         "line": {
          "color": "red",
          "width": 1
         },
         "lon": [
          4.48443984985,
          -87.90480042
         ],
         "mode": "lines",
         "opacity": 0.16666666666666666,
         "type": "scattergeo"
        },
        {
         "lat": [
          50.9014015198,
          39.87189865112305
         ],
         "line": {
          "color": "red",
          "width": 1
         },
         "lon": [
          4.48443984985,
          -75.24109649658203
         ],
         "mode": "lines",
         "opacity": 0.16666666666666666,
         "type": "scattergeo"
        },
        {
         "lat": [
          -15.86916732788086,
          33.63669967651367
         ],
         "line": {
          "color": "red",
          "width": 1
         },
         "lon": [
          -47.92083358764648,
          -84.4281005859375
         ],
         "mode": "lines",
         "opacity": 0.08333333333333333,
         "type": "scattergeo"
        },
        {
         "lat": [
          -15.86916732788086,
          25.79319953918457
         ],
         "line": {
          "color": "red",
          "width": 1
         },
         "lon": [
          -47.92083358764648,
          -80.29060363769531
         ],
         "mode": "lines",
         "opacity": 0.25,
         "type": "scattergeo"
        },
        {
         "lat": [
          17.539100646972653,
          33.63669967651367
         ],
         "line": {
          "color": "red",
          "width": 1
         },
         "lon": [
          -88.30819702148438,
          -84.4281005859375
         ],
         "mode": "lines",
         "opacity": 0.08333333333333333,
         "type": "scattergeo"
        },
        {
         "lat": [
          17.539100646972653,
          35.2140007019043
         ],
         "line": {
          "color": "red",
          "width": 1
         },
         "lon": [
          -88.30819702148438,
          -80.94309997558594
         ],
         "mode": "lines",
         "opacity": 0.16666666666666666,
         "type": "scattergeo"
        },
        {
         "lat": [
          17.539100646972653,
          32.896800994873054
         ],
         "line": {
          "color": "red",
          "width": 1
         },
         "lon": [
          -88.30819702148438,
          -97.03800201416016
         ],
         "mode": "lines",
         "opacity": 0.16666666666666666,
         "type": "scattergeo"
        },
        {
         "lat": [
          17.539100646972653,
          40.69250106811523
         ],
         "line": {
          "color": "red",
          "width": 1
         },
         "lon": [
          -88.30819702148438,
          -74.168701171875
         ],
         "mode": "lines",
         "opacity": 0.08333333333333333,
         "type": "scattergeo"
        },
        {
         "lat": [
          17.539100646972653,
          29.98439979553223
         ],
         "line": {
          "color": "red",
          "width": 1
         },
         "lon": [
          -88.30819702148438,
          -95.34140014648438
         ],
         "mode": "lines",
         "opacity": 0.08333333333333333,
         "type": "scattergeo"
        },
        {
         "lat": [
          17.539100646972653,
          33.94250107
         ],
         "line": {
          "color": "red",
          "width": 1
         },
         "lon": [
          -88.30819702148438,
          -118.40799709999999
         ],
         "mode": "lines",
         "opacity": 0.08333333333333333,
         "type": "scattergeo"
        },
        {
         "lat": [
          17.539100646972653,
          25.79319953918457
         ],
         "line": {
          "color": "red",
          "width": 1
         },
         "lon": [
          -88.30819702148438,
          -80.29060363769531
         ],
         "mode": "lines",
         "opacity": 0.16666666666666666,
         "type": "scattergeo"
        },
        {
         "lat": [
          30.12190055847168,
          40.63980103
         ],
         "line": {
          "color": "red",
          "width": 1
         },
         "lon": [
          31.40559959411621,
          -73.77890015
         ],
         "mode": "lines",
         "opacity": 0.16666666666666666,
         "type": "scattergeo"
        },
        {
         "lat": [
          23.39240074157715,
          33.94250107
         ],
         "line": {
          "color": "red",
          "width": 1
         },
         "lon": [
          113.29900360107422,
          -118.40799709999999
         ],
         "mode": "lines",
         "opacity": 0.16666666666666666,
         "type": "scattergeo"
        },
        {
         "lat": [
          10.6031169891,
          33.63669967651367
         ],
         "line": {
          "color": "red",
          "width": 1
         },
         "lon": [
          -66.9905853271,
          -84.4281005859375
         ],
         "mode": "lines",
         "opacity": 0.08333333333333333,
         "type": "scattergeo"
        },
        {
         "lat": [
          10.6031169891,
          32.896800994873054
         ],
         "line": {
          "color": "red",
          "width": 1
         },
         "lon": [
          -66.9905853271,
          -97.03800201416016
         ],
         "mode": "lines",
         "opacity": 0.08333333333333333,
         "type": "scattergeo"
        },
        {
         "lat": [
          10.6031169891,
          29.98439979553223
         ],
         "line": {
          "color": "red",
          "width": 1
         },
         "lon": [
          -66.9905853271,
          -95.34140014648438
         ],
         "mode": "lines",
         "opacity": 0.08333333333333333,
         "type": "scattergeo"
        },
        {
         "lat": [
          10.6031169891,
          40.63980103
         ],
         "line": {
          "color": "red",
          "width": 1
         },
         "lon": [
          -66.9905853271,
          -73.77890015
         ],
         "mode": "lines",
         "opacity": 0.08333333333333333,
         "type": "scattergeo"
        },
        {
         "lat": [
          10.6031169891,
          25.79319953918457
         ],
         "line": {
          "color": "red",
          "width": 1
         },
         "lon": [
          -66.9905853271,
          -80.29060363769531
         ],
         "mode": "lines",
         "opacity": 0.25,
         "type": "scattergeo"
        },
        {
         "lat": [
          49.0127983093,
          33.63669967651367
         ],
         "line": {
          "color": "red",
          "width": 1
         },
         "lon": [
          2.54999995232,
          -84.4281005859375
         ],
         "mode": "lines",
         "opacity": 0.3333333333333333,
         "type": "scattergeo"
        },
        {
         "lat": [
          49.0127983093,
          42.36429977
         ],
         "line": {
          "color": "red",
          "width": 1
         },
         "lon": [
          2.54999995232,
          -71.00520325
         ],
         "mode": "lines",
         "opacity": 0.25,
         "type": "scattergeo"
        },
        {
         "lat": [
          49.0127983093,
          35.2140007019043
         ],
         "line": {
          "color": "red",
          "width": 1
         },
         "lon": [
          2.54999995232,
          -80.94309997558594
         ],
         "mode": "lines",
         "opacity": 0.16666666666666666,
         "type": "scattergeo"
        },
        {
         "lat": [
          49.0127983093,
          39.0488014221
         ],
         "line": {
          "color": "red",
          "width": 1
         },
         "lon": [
          2.54999995232,
          -84.6678009033
         ],
         "mode": "lines",
         "opacity": 0.16666666666666666,
         "type": "scattergeo"
        },
        {
         "lat": [
          49.0127983093,
          32.896800994873054
         ],
         "line": {
          "color": "red",
          "width": 1
         },
         "lon": [
          2.54999995232,
          -97.03800201416016
         ],
         "mode": "lines",
         "opacity": 0.5,
         "type": "scattergeo"
        },
        {
         "lat": [
          49.0127983093,
          42.212398529052734
         ],
         "line": {
          "color": "red",
          "width": 1
         },
         "lon": [
          2.54999995232,
          -83.35340118408203
         ],
         "mode": "lines",
         "opacity": 0.25,
         "type": "scattergeo"
        },
        {
         "lat": [
          49.0127983093,
          40.69250106811523
         ],
         "line": {
          "color": "red",
          "width": 1
         },
         "lon": [
          2.54999995232,
          -74.168701171875
         ],
         "mode": "lines",
         "opacity": 0.3333333333333333,
         "type": "scattergeo"
        },
        {
         "lat": [
          49.0127983093,
          38.94449997
         ],
         "line": {
          "color": "red",
          "width": 1
         },
         "lon": [
          2.54999995232,
          -77.45580292
         ],
         "mode": "lines",
         "opacity": 0.4166666666666667,
         "type": "scattergeo"
        },
        {
         "lat": [
          49.0127983093,
          29.98439979553223
         ],
         "line": {
          "color": "red",
          "width": 1
         },
         "lon": [
          2.54999995232,
          -95.34140014648438
         ],
         "mode": "lines",
         "opacity": 0.25,
         "type": "scattergeo"
        },
        {
         "lat": [
          49.0127983093,
          40.63980103
         ],
         "line": {
          "color": "red",
          "width": 1
         },
         "lon": [
          2.54999995232,
          -73.77890015
         ],
         "mode": "lines",
         "opacity": 0.9166666666666666,
         "type": "scattergeo"
        },
        {
         "lat": [
          49.0127983093,
          33.94250107
         ],
         "line": {
          "color": "red",
          "width": 1
         },
         "lon": [
          2.54999995232,
          -118.40799709999999
         ],
         "mode": "lines",
         "opacity": 0.3333333333333333,
         "type": "scattergeo"
        },
        {
         "lat": [
          49.0127983093,
          25.79319953918457
         ],
         "line": {
          "color": "red",
          "width": 1
         },
         "lon": [
          2.54999995232,
          -80.29060363769531
         ],
         "mode": "lines",
         "opacity": 0.75,
         "type": "scattergeo"
        },
        {
         "lat": [
          49.0127983093,
          44.8819999695
         ],
         "line": {
          "color": "red",
          "width": 1
         },
         "lon": [
          2.54999995232,
          -93.22180175780001
         ],
         "mode": "lines",
         "opacity": 0.16666666666666666,
         "type": "scattergeo"
        },
        {
         "lat": [
          49.0127983093,
          41.97859955
         ],
         "line": {
          "color": "red",
          "width": 1
         },
         "lon": [
          2.54999995232,
          -87.90480042
         ],
         "mode": "lines",
         "opacity": 0.8333333333333334,
         "type": "scattergeo"
        },
        {
         "lat": [
          49.0127983093,
          39.87189865112305
         ],
         "line": {
          "color": "red",
          "width": 1
         },
         "lon": [
          2.54999995232,
          -75.24109649658203
         ],
         "mode": "lines",
         "opacity": 0.3333333333333333,
         "type": "scattergeo"
        },
        {
         "lat": [
          49.0127983093,
          40.49150085
         ],
         "line": {
          "color": "red",
          "width": 1
         },
         "lon": [
          2.54999995232,
          -80.23290253
         ],
         "mode": "lines",
         "opacity": 0.16666666666666666,
         "type": "scattergeo"
        },
        {
         "lat": [
          49.0127983093,
          47.44900131225586
         ],
         "line": {
          "color": "red",
          "width": 1
         },
         "lon": [
          2.54999995232,
          -122.30899810791016
         ],
         "mode": "lines",
         "opacity": 0.25,
         "type": "scattergeo"
        },
        {
         "lat": [
          49.0127983093,
          37.61899948120117
         ],
         "line": {
          "color": "red",
          "width": 1
         },
         "lon": [
          2.54999995232,
          -122.375
         ],
         "mode": "lines",
         "opacity": 0.3333333333333333,
         "type": "scattergeo"
        },
        {
         "lat": [
          49.0127983093,
          40.78839874267578
         ],
         "line": {
          "color": "red",
          "width": 1
         },
         "lon": [
          2.54999995232,
          -111.97799682617188
         ],
         "mode": "lines",
         "opacity": 0.16666666666666666,
         "type": "scattergeo"
        },
        {
         "lat": [
          3.54322,
          25.79319953918457
         ],
         "line": {
          "color": "red",
          "width": 1
         },
         "lon": [
          -76.3816,
          -80.29060363769531
         ],
         "mode": "lines",
         "opacity": 0.4166666666666667,
         "type": "scattergeo"
        },
        {
         "lat": [
          18.65369987487793,
          29.98439979553223
         ],
         "line": {
          "color": "red",
          "width": 1
         },
         "lon": [
          -91.79900360107422,
          -95.34140014648438
         ],
         "mode": "lines",
         "opacity": 0.08333333333333333,
         "type": "scattergeo"
        },
        {
         "lat": [
          33.36750030517578,
          40.63980103
         ],
         "line": {
          "color": "red",
          "width": 1
         },
         "lon": [
          -7.589970111846924,
          -73.77890015
         ],
         "mode": "lines",
         "opacity": 0.08333333333333333,
         "type": "scattergeo"
        },
        {
         "lat": [
          -19.62444305419922,
          25.79319953918457
         ],
         "line": {
          "color": "red",
          "width": 1
         },
         "lon": [
          -43.97194290161133,
          -80.29060363769531
         ],
         "mode": "lines",
         "opacity": 0.25,
         "type": "scattergeo"
        },
        {
         "lat": [
          55.617900848389,
          40.69250106811523
         ],
         "line": {
          "color": "red",
          "width": 1
         },
         "lon": [
          12.656000137328999,
          -74.168701171875
         ],
         "mode": "lines",
         "opacity": 0.08333333333333333,
         "type": "scattergeo"
        },
        {
         "lat": [
          55.617900848389,
          26.072599411010746
         ],
         "line": {
          "color": "red",
          "width": 1
         },
         "lon": [
          12.656000137328999,
          -80.15270233154297
         ],
         "mode": "lines",
         "opacity": 0.08333333333333333,
         "type": "scattergeo"
        },
        {
         "lat": [
          55.617900848389,
          38.94449997
         ],
         "line": {
          "color": "red",
          "width": 1
         },
         "lon": [
          12.656000137328999,
          -77.45580292
         ],
         "mode": "lines",
         "opacity": 0.08333333333333333,
         "type": "scattergeo"
        },
        {
         "lat": [
          55.617900848389,
          40.63980103
         ],
         "line": {
          "color": "red",
          "width": 1
         },
         "lon": [
          12.656000137328999,
          -73.77890015
         ],
         "mode": "lines",
         "opacity": 0.08333333333333333,
         "type": "scattergeo"
        },
        {
         "lat": [
          55.617900848389,
          33.94250107
         ],
         "line": {
          "color": "red",
          "width": 1
         },
         "lon": [
          12.656000137328999,
          -118.40799709999999
         ],
         "mode": "lines",
         "opacity": 0.08333333333333333,
         "type": "scattergeo"
        },
        {
         "lat": [
          55.617900848389,
          41.97859955
         ],
         "line": {
          "color": "red",
          "width": 1
         },
         "lon": [
          12.656000137328999,
          -87.90480042
         ],
         "mode": "lines",
         "opacity": 0.08333333333333333,
         "type": "scattergeo"
        },
        {
         "lat": [
          55.617900848389,
          37.61899948120117
         ],
         "line": {
          "color": "red",
          "width": 1
         },
         "lon": [
          12.656000137328999,
          -122.375
         ],
         "mode": "lines",
         "opacity": 0.08333333333333333,
         "type": "scattergeo"
        },
        {
         "lat": [
          10.4424,
          26.072599411010746
         ],
         "line": {
          "color": "red",
          "width": 1
         },
         "lon": [
          -75.513,
          -80.15270233154297
         ],
         "mode": "lines",
         "opacity": 0.08333333333333333,
         "type": "scattergeo"
        },
        {
         "lat": [
          10.4424,
          40.63980103
         ],
         "line": {
          "color": "red",
          "width": 1
         },
         "lon": [
          -75.513,
          -73.77890015
         ],
         "mode": "lines",
         "opacity": 0.08333333333333333,
         "type": "scattergeo"
        },
        {
         "lat": [
          10.4424,
          25.79319953918457
         ],
         "line": {
          "color": "red",
          "width": 1
         },
         "lon": [
          -75.513,
          -80.29060363769531
         ],
         "mode": "lines",
         "opacity": 0.25,
         "type": "scattergeo"
        },
        {
         "lat": [
          42.77519989013672,
          21.318700790405273
         ],
         "line": {
          "color": "red",
          "width": 1
         },
         "lon": [
          141.69200134277344,
          -157.9219970703125
         ],
         "mode": "lines",
         "opacity": 0.08333333333333333,
         "type": "scattergeo"
        },
        {
         "lat": [
          21.036500930800003,
          33.63669967651367
         ],
         "line": {
          "color": "red",
          "width": 1
         },
         "lon": [
          -86.8770980835,
          -84.4281005859375
         ],
         "mode": "lines",
         "opacity": 0.75,
         "type": "scattergeo"
        },
        {
         "lat": [
          21.036500930800003,
          30.194499969482425
         ],
         "line": {
          "color": "red",
          "width": 1
         },
         "lon": [
          -86.8770980835,
          -97.6698989868164
         ],
         "mode": "lines",
         "opacity": 0.16666666666666666,
         "type": "scattergeo"
        },
        {
         "lat": [
          21.036500930800003,
          42.36429977
         ],
         "line": {
          "color": "red",
          "width": 1
         },
         "lon": [
          -86.8770980835,
          -71.00520325
         ],
         "mode": "lines",
         "opacity": 0.4166666666666667,
         "type": "scattergeo"
        },
        {
         "lat": [
          21.036500930800003,
          39.17539978
         ],
         "line": {
          "color": "red",
          "width": 1
         },
         "lon": [
          -86.8770980835,
          -76.66829681
         ],
         "mode": "lines",
         "opacity": 0.08333333333333333,
         "type": "scattergeo"
        },
        {
         "lat": [
          21.036500930800003,
          41.411701202399996
         ],
         "line": {
          "color": "red",
          "width": 1
         },
         "lon": [
          -86.8770980835,
          -81.8498001099
         ],
         "mode": "lines",
         "opacity": 0.16666666666666666,
         "type": "scattergeo"
        },
        {
         "lat": [
          21.036500930800003,
          35.2140007019043
         ],
         "line": {
          "color": "red",
          "width": 1
         },
         "lon": [
          -86.8770980835,
          -80.94309997558594
         ],
         "mode": "lines",
         "opacity": 0.16666666666666666,
         "type": "scattergeo"
        },
        {
         "lat": [
          21.036500930800003,
          39.0488014221
         ],
         "line": {
          "color": "red",
          "width": 1
         },
         "lon": [
          -86.8770980835,
          -84.6678009033
         ],
         "mode": "lines",
         "opacity": 0.08333333333333333,
         "type": "scattergeo"
        },
        {
         "lat": [
          21.036500930800003,
          39.861698150635
         ],
         "line": {
          "color": "red",
          "width": 1
         },
         "lon": [
          -86.8770980835,
          -104.672996521
         ],
         "mode": "lines",
         "opacity": 0.25,
         "type": "scattergeo"
        },
        {
         "lat": [
          21.036500930800003,
          32.896800994873054
         ],
         "line": {
          "color": "red",
          "width": 1
         },
         "lon": [
          -86.8770980835,
          -97.03800201416016
         ],
         "mode": "lines",
         "opacity": 0.3333333333333333,
         "type": "scattergeo"
        },
        {
         "lat": [
          21.036500930800003,
          42.212398529052734
         ],
         "line": {
          "color": "red",
          "width": 1
         },
         "lon": [
          -86.8770980835,
          -83.35340118408203
         ],
         "mode": "lines",
         "opacity": 0.25,
         "type": "scattergeo"
        },
        {
         "lat": [
          21.036500930800003,
          40.69250106811523
         ],
         "line": {
          "color": "red",
          "width": 1
         },
         "lon": [
          -86.8770980835,
          -74.168701171875
         ],
         "mode": "lines",
         "opacity": 0.08333333333333333,
         "type": "scattergeo"
        },
        {
         "lat": [
          21.036500930800003,
          26.072599411010746
         ],
         "line": {
          "color": "red",
          "width": 1
         },
         "lon": [
          -86.8770980835,
          -80.15270233154297
         ],
         "mode": "lines",
         "opacity": 0.16666666666666666,
         "type": "scattergeo"
        },
        {
         "lat": [
          21.036500930800003,
          38.94449997
         ],
         "line": {
          "color": "red",
          "width": 1
         },
         "lon": [
          -86.8770980835,
          -77.45580292
         ],
         "mode": "lines",
         "opacity": 0.08333333333333333,
         "type": "scattergeo"
        },
        {
         "lat": [
          21.036500930800003,
          29.98439979553223
         ],
         "line": {
          "color": "red",
          "width": 1
         },
         "lon": [
          -86.8770980835,
          -95.34140014648438
         ],
         "mode": "lines",
         "opacity": 0.16666666666666666,
         "type": "scattergeo"
        },
        {
         "lat": [
          21.036500930800003,
          39.7173
         ],
         "line": {
          "color": "red",
          "width": 1
         },
         "lon": [
          -86.8770980835,
          -86.294403
         ],
         "mode": "lines",
         "opacity": 0.16666666666666666,
         "type": "scattergeo"
        },
        {
         "lat": [
          21.036500930800003,
          40.63980103
         ],
         "line": {
          "color": "red",
          "width": 1
         },
         "lon": [
          -86.8770980835,
          -73.77890015
         ],
         "mode": "lines",
         "opacity": 0.4166666666666667,
         "type": "scattergeo"
        },
        {
         "lat": [
          21.036500930800003,
          33.94250107
         ],
         "line": {
          "color": "red",
          "width": 1
         },
         "lon": [
          -86.8770980835,
          -118.40799709999999
         ],
         "mode": "lines",
         "opacity": 0.3333333333333333,
         "type": "scattergeo"
        },
        {
         "lat": [
          21.036500930800003,
          39.2976
         ],
         "line": {
          "color": "red",
          "width": 1
         },
         "lon": [
          -86.8770980835,
          -94.713898
         ],
         "mode": "lines",
         "opacity": 0.08333333333333333,
         "type": "scattergeo"
        },
        {
         "lat": [
          21.036500930800003,
          28.429399490356445
         ],
         "line": {
          "color": "red",
          "width": 1
         },
         "lon": [
          -86.8770980835,
          -81.30899810791016
         ],
         "mode": "lines",
         "opacity": 0.25,
         "type": "scattergeo"
        },
        {
         "lat": [
          21.036500930800003,
          41.7859992980957
         ],
         "line": {
          "color": "red",
          "width": 1
         },
         "lon": [
          -86.8770980835,
          -87.75240325927734
         ],
         "mode": "lines",
         "opacity": 0.08333333333333333,
         "type": "scattergeo"
        },
        {
         "lat": [
          21.036500930800003,
          25.79319953918457
         ],
         "line": {
          "color": "red",
          "width": 1
         },
         "lon": [
          -86.8770980835,
          -80.29060363769531
         ],
         "mode": "lines",
         "opacity": 0.25,
         "type": "scattergeo"
        },
        {
         "lat": [
          21.036500930800003,
          42.94720077514648
         ],
         "line": {
          "color": "red",
          "width": 1
         },
         "lon": [
          -86.8770980835,
          -87.89659881591797
         ],
         "mode": "lines",
         "opacity": 0.08333333333333333,
         "type": "scattergeo"
        },
        {
         "lat": [
          21.036500930800003,
          44.8819999695
         ],
         "line": {
          "color": "red",
          "width": 1
         },
         "lon": [
          -86.8770980835,
          -93.22180175780001
         ],
         "mode": "lines",
         "opacity": 0.25,
         "type": "scattergeo"
        },
        {
         "lat": [
          21.036500930800003,
          41.97859955
         ],
         "line": {
          "color": "red",
          "width": 1
         },
         "lon": [
          -86.8770980835,
          -87.90480042
         ],
         "mode": "lines",
         "opacity": 0.25,
         "type": "scattergeo"
        },
        {
         "lat": [
          21.036500930800003,
          39.87189865112305
         ],
         "line": {
          "color": "red",
          "width": 1
         },
         "lon": [
          -86.8770980835,
          -75.24109649658203
         ],
         "mode": "lines",
         "opacity": 0.25,
         "type": "scattergeo"
        },
        {
         "lat": [
          21.036500930800003,
          33.43429946899414
         ],
         "line": {
          "color": "red",
          "width": 1
         },
         "lon": [
          -86.8770980835,
          -112.01200103759766
         ],
         "mode": "lines",
         "opacity": 0.16666666666666666,
         "type": "scattergeo"
        },
        {
         "lat": [
          21.036500930800003,
          40.49150085
         ],
         "line": {
          "color": "red",
          "width": 1
         },
         "lon": [
          -86.8770980835,
          -80.23290253
         ],
         "mode": "lines",
         "opacity": 0.08333333333333333,
         "type": "scattergeo"
        },
        {
         "lat": [
          21.036500930800003,
          35.877601623535156
         ],
         "line": {
          "color": "red",
          "width": 1
         },
         "lon": [
          -86.8770980835,
          -78.7874984741211
         ],
         "mode": "lines",
         "opacity": 0.16666666666666666,
         "type": "scattergeo"
        },
        {
         "lat": [
          21.036500930800003,
          29.533700942993164
         ],
         "line": {
          "color": "red",
          "width": 1
         },
         "lon": [
          -86.8770980835,
          -98.46980285644531
         ],
         "mode": "lines",
         "opacity": 0.08333333333333333,
         "type": "scattergeo"
        },
        {
         "lat": [
          21.036500930800003,
          37.61899948120117
         ],
         "line": {
          "color": "red",
          "width": 1
         },
         "lon": [
          -86.8770980835,
          -122.375
         ],
         "mode": "lines",
         "opacity": 0.16666666666666666,
         "type": "scattergeo"
        },
        {
         "lat": [
          21.036500930800003,
          40.78839874267578
         ],
         "line": {
          "color": "red",
          "width": 1
         },
         "lon": [
          -86.8770980835,
          -111.97799682617188
         ],
         "mode": "lines",
         "opacity": 0.16666666666666666,
         "type": "scattergeo"
        },
        {
         "lat": [
          21.036500930800003,
          38.74869918823242
         ],
         "line": {
          "color": "red",
          "width": 1
         },
         "lon": [
          -86.8770980835,
          -90.37000274658205
         ],
         "mode": "lines",
         "opacity": 0.08333333333333333,
         "type": "scattergeo"
        },
        {
         "lat": [
          12.1889,
          35.2140007019043
         ],
         "line": {
          "color": "red",
          "width": 1
         },
         "lon": [
          -68.959801,
          -80.94309997558594
         ],
         "mode": "lines",
         "opacity": 0.08333333333333333,
         "type": "scattergeo"
        },
        {
         "lat": [
          12.1889,
          25.79319953918457
         ],
         "line": {
          "color": "red",
          "width": 1
         },
         "lon": [
          -68.959801,
          -80.29060363769531
         ],
         "mode": "lines",
         "opacity": 0.25,
         "type": "scattergeo"
        },
        {
         "lat": [
          28.702899932900003,
          32.896800994873054
         ],
         "line": {
          "color": "red",
          "width": 1
         },
         "lon": [
          -105.96499633799999,
          -97.03800201416016
         ],
         "mode": "lines",
         "opacity": 0.16666666666666666,
         "type": "scattergeo"
        },
        {
         "lat": [
          28.702899932900003,
          29.98439979553223
         ],
         "line": {
          "color": "red",
          "width": 1
         },
         "lon": [
          -105.96499633799999,
          -95.34140014648438
         ],
         "mode": "lines",
         "opacity": 0.08333333333333333,
         "type": "scattergeo"
        },
        {
         "lat": [
          1.9861600399017332,
          21.318700790405273
         ],
         "line": {
          "color": "red",
          "width": 1
         },
         "lon": [
          -157.35000610351562,
          -157.9219970703125
         ],
         "mode": "lines",
         "opacity": 0.16666666666666666,
         "type": "scattergeo"
        },
        {
         "lat": [
          20.52239990234375,
          33.63669967651367
         ],
         "line": {
          "color": "red",
          "width": 1
         },
         "lon": [
          -86.92559814453125,
          -84.4281005859375
         ],
         "mode": "lines",
         "opacity": 0.4166666666666667,
         "type": "scattergeo"
        },
        {
         "lat": [
          20.52239990234375,
          35.2140007019043
         ],
         "line": {
          "color": "red",
          "width": 1
         },
         "lon": [
          -86.92559814453125,
          -80.94309997558594
         ],
         "mode": "lines",
         "opacity": 0.16666666666666666,
         "type": "scattergeo"
        },
        {
         "lat": [
          20.52239990234375,
          39.861698150635
         ],
         "line": {
          "color": "red",
          "width": 1
         },
         "lon": [
          -86.92559814453125,
          -104.672996521
         ],
         "mode": "lines",
         "opacity": 0.08333333333333333,
         "type": "scattergeo"
        },
        {
         "lat": [
          20.52239990234375,
          32.896800994873054
         ],
         "line": {
          "color": "red",
          "width": 1
         },
         "lon": [
          -86.92559814453125,
          -97.03800201416016
         ],
         "mode": "lines",
         "opacity": 0.16666666666666666,
         "type": "scattergeo"
        },
        {
         "lat": [
          20.52239990234375,
          29.98439979553223
         ],
         "line": {
          "color": "red",
          "width": 1
         },
         "lon": [
          -86.92559814453125,
          -95.34140014648438
         ],
         "mode": "lines",
         "opacity": 0.08333333333333333,
         "type": "scattergeo"
        },
        {
         "lat": [
          20.52239990234375,
          25.79319953918457
         ],
         "line": {
          "color": "red",
          "width": 1
         },
         "lon": [
          -86.92559814453125,
          -80.29060363769531
         ],
         "mode": "lines",
         "opacity": 0.16666666666666666,
         "type": "scattergeo"
        },
        {
         "lat": [
          28.56649971008301,
          40.69250106811523
         ],
         "line": {
          "color": "red",
          "width": 1
         },
         "lon": [
          77.10310363769531,
          -74.168701171875
         ],
         "mode": "lines",
         "opacity": 0.08333333333333333,
         "type": "scattergeo"
        },
        {
         "lat": [
          28.56649971008301,
          40.63980103
         ],
         "line": {
          "color": "red",
          "width": 1
         },
         "lon": [
          77.10310363769531,
          -73.77890015
         ],
         "mode": "lines",
         "opacity": 0.08333333333333333,
         "type": "scattergeo"
        },
        {
         "lat": [
          28.56649971008301,
          41.97859955
         ],
         "line": {
          "color": "red",
          "width": 1
         },
         "lon": [
          77.10310363769531,
          -87.90480042
         ],
         "mode": "lines",
         "opacity": 0.08333333333333333,
         "type": "scattergeo"
        },
        {
         "lat": [
          24.1242008209,
          29.98439979553223
         ],
         "line": {
          "color": "red",
          "width": 1
         },
         "lon": [
          -104.52799987799999,
          -95.34140014648438
         ],
         "mode": "lines",
         "opacity": 0.08333333333333333,
         "type": "scattergeo"
        },
        {
         "lat": [
          24.1242008209,
          33.94250107
         ],
         "line": {
          "color": "red",
          "width": 1
         },
         "lon": [
          -104.52799987799999,
          -118.40799709999999
         ],
         "mode": "lines",
         "opacity": 0.08333333333333333,
         "type": "scattergeo"
        },
        {
         "lat": [
          14.739700317382812,
          38.94449997
         ],
         "line": {
          "color": "red",
          "width": 1
         },
         "lon": [
          -17.49020004272461,
          -77.45580292
         ],
         "mode": "lines",
         "opacity": 0.25,
         "type": "scattergeo"
        },
        {
         "lat": [
          14.739700317382812,
          40.63980103
         ],
         "line": {
          "color": "red",
          "width": 1
         },
         "lon": [
          -17.49020004272461,
          -73.77890015
         ],
         "mode": "lines",
         "opacity": 0.08333333333333333,
         "type": "scattergeo"
        },
        {
         "lat": [
          55.40879821777344,
          29.98439979553223
         ],
         "line": {
          "color": "red",
          "width": 1
         },
         "lon": [
          37.90629959106445,
          -95.34140014648438
         ],
         "mode": "lines",
         "opacity": 0.16666666666666666,
         "type": "scattergeo"
        },
        {
         "lat": [
          53.42129898071289,
          33.63669967651367
         ],
         "line": {
          "color": "red",
          "width": 1
         },
         "lon": [
          -6.2700700759887695,
          -84.4281005859375
         ],
         "mode": "lines",
         "opacity": 0.25,
         "type": "scattergeo"
        },
        {
         "lat": [
          53.42129898071289,
          42.36429977
         ],
         "line": {
          "color": "red",
          "width": 1
         },
         "lon": [
          -6.2700700759887695,
          -71.00520325
         ],
         "mode": "lines",
         "opacity": 0.16666666666666666,
         "type": "scattergeo"
        },
        {
         "lat": [
          53.42129898071289,
          35.2140007019043
         ],
         "line": {
          "color": "red",
          "width": 1
         },
         "lon": [
          -6.2700700759887695,
          -80.94309997558594
         ],
         "mode": "lines",
         "opacity": 0.16666666666666666,
         "type": "scattergeo"
        },
        {
         "lat": [
          53.42129898071289,
          40.69250106811523
         ],
         "line": {
          "color": "red",
          "width": 1
         },
         "lon": [
          -6.2700700759887695,
          -74.168701171875
         ],
         "mode": "lines",
         "opacity": 0.16666666666666666,
         "type": "scattergeo"
        },
        {
         "lat": [
          53.42129898071289,
          38.94449997
         ],
         "line": {
          "color": "red",
          "width": 1
         },
         "lon": [
          -6.2700700759887695,
          -77.45580292
         ],
         "mode": "lines",
         "opacity": 0.16666666666666666,
         "type": "scattergeo"
        },
        {
         "lat": [
          53.42129898071289,
          40.63980103
         ],
         "line": {
          "color": "red",
          "width": 1
         },
         "lon": [
          -6.2700700759887695,
          -73.77890015
         ],
         "mode": "lines",
         "opacity": 0.75,
         "type": "scattergeo"
        },
        {
         "lat": [
          53.42129898071289,
          28.429399490356445
         ],
         "line": {
          "color": "red",
          "width": 1
         },
         "lon": [
          -6.2700700759887695,
          -81.30899810791016
         ],
         "mode": "lines",
         "opacity": 0.08333333333333333,
         "type": "scattergeo"
        },
        {
         "lat": [
          53.42129898071289,
          41.97859955
         ],
         "line": {
          "color": "red",
          "width": 1
         },
         "lon": [
          -6.2700700759887695,
          -87.90480042
         ],
         "mode": "lines",
         "opacity": 0.5833333333333334,
         "type": "scattergeo"
        },
        {
         "lat": [
          53.42129898071289,
          39.87189865112305
         ],
         "line": {
          "color": "red",
          "width": 1
         },
         "lon": [
          -6.2700700759887695,
          -75.24109649658203
         ],
         "mode": "lines",
         "opacity": 0.16666666666666666,
         "type": "scattergeo"
        },
        {
         "lat": [
          53.42129898071289,
          37.61899948120117
         ],
         "line": {
          "color": "red",
          "width": 1
         },
         "lon": [
          -6.2700700759887695,
          -122.375
         ],
         "mode": "lines",
         "opacity": 0.08333333333333333,
         "type": "scattergeo"
        },
        {
         "lat": [
          51.28950119018555,
          33.63669967651367
         ],
         "line": {
          "color": "red",
          "width": 1
         },
         "lon": [
          6.766779899597168,
          -84.4281005859375
         ],
         "mode": "lines",
         "opacity": 0.25,
         "type": "scattergeo"
        },
        {
         "lat": [
          51.28950119018555,
          40.69250106811523
         ],
         "line": {
          "color": "red",
          "width": 1
         },
         "lon": [
          6.766779899597168,
          -74.168701171875
         ],
         "mode": "lines",
         "opacity": 0.16666666666666666,
         "type": "scattergeo"
        },
        {
         "lat": [
          51.28950119018555,
          40.63980103
         ],
         "line": {
          "color": "red",
          "width": 1
         },
         "lon": [
          6.766779899597168,
          -73.77890015
         ],
         "mode": "lines",
         "opacity": 0.16666666666666666,
         "type": "scattergeo"
        },
        {
         "lat": [
          51.28950119018555,
          33.94250107
         ],
         "line": {
          "color": "red",
          "width": 1
         },
         "lon": [
          6.766779899597168,
          -118.40799709999999
         ],
         "mode": "lines",
         "opacity": 0.16666666666666666,
         "type": "scattergeo"
        },
        {
         "lat": [
          51.28950119018555,
          25.79319953918457
         ],
         "line": {
          "color": "red",
          "width": 1
         },
         "lon": [
          6.766779899597168,
          -80.29060363769531
         ],
         "mode": "lines",
         "opacity": 0.16666666666666666,
         "type": "scattergeo"
        },
        {
         "lat": [
          51.28950119018555,
          41.97859955
         ],
         "line": {
          "color": "red",
          "width": 1
         },
         "lon": [
          6.766779899597168,
          -87.90480042
         ],
         "mode": "lines",
         "opacity": 0.6666666666666666,
         "type": "scattergeo"
        },
        {
         "lat": [
          51.28950119018555,
          26.53619956970215
         ],
         "line": {
          "color": "red",
          "width": 1
         },
         "lon": [
          6.766779899597168,
          -81.75520324707031
         ],
         "mode": "lines",
         "opacity": 0.16666666666666666,
         "type": "scattergeo"
        },
        {
         "lat": [
          25.252799987800003,
          33.63669967651367
         ],
         "line": {
          "color": "red",
          "width": 1
         },
         "lon": [
          55.3643989563,
          -84.4281005859375
         ],
         "mode": "lines",
         "opacity": 0.08333333333333333,
         "type": "scattergeo"
        },
        {
         "lat": [
          25.252799987800003,
          42.36429977
         ],
         "line": {
          "color": "red",
          "width": 1
         },
         "lon": [
          55.3643989563,
          -71.00520325
         ],
         "mode": "lines",
         "opacity": 0.16666666666666666,
         "type": "scattergeo"
        },
        {
         "lat": [
          25.252799987800003,
          32.896800994873054
         ],
         "line": {
          "color": "red",
          "width": 1
         },
         "lon": [
          55.3643989563,
          -97.03800201416016
         ],
         "mode": "lines",
         "opacity": 0.16666666666666666,
         "type": "scattergeo"
        },
        {
         "lat": [
          25.252799987800003,
          38.94449997
         ],
         "line": {
          "color": "red",
          "width": 1
         },
         "lon": [
          55.3643989563,
          -77.45580292
         ],
         "mode": "lines",
         "opacity": 0.25,
         "type": "scattergeo"
        },
        {
         "lat": [
          25.252799987800003,
          29.98439979553223
         ],
         "line": {
          "color": "red",
          "width": 1
         },
         "lon": [
          55.3643989563,
          -95.34140014648438
         ],
         "mode": "lines",
         "opacity": 0.16666666666666666,
         "type": "scattergeo"
        },
        {
         "lat": [
          25.252799987800003,
          40.63980103
         ],
         "line": {
          "color": "red",
          "width": 1
         },
         "lon": [
          55.3643989563,
          -73.77890015
         ],
         "mode": "lines",
         "opacity": 0.16666666666666666,
         "type": "scattergeo"
        },
        {
         "lat": [
          25.252799987800003,
          33.94250107
         ],
         "line": {
          "color": "red",
          "width": 1
         },
         "lon": [
          55.3643989563,
          -118.40799709999999
         ],
         "mode": "lines",
         "opacity": 0.16666666666666666,
         "type": "scattergeo"
        },
        {
         "lat": [
          25.252799987800003,
          47.44900131225586
         ],
         "line": {
          "color": "red",
          "width": 1
         },
         "lon": [
          55.3643989563,
          -122.30899810791016
         ],
         "mode": "lines",
         "opacity": 0.16666666666666666,
         "type": "scattergeo"
        },
        {
         "lat": [
          25.252799987800003,
          37.61899948120117
         ],
         "line": {
          "color": "red",
          "width": 1
         },
         "lon": [
          55.3643989563,
          -122.375
         ],
         "mode": "lines",
         "opacity": 0.16666666666666666,
         "type": "scattergeo"
        },
        {
         "lat": [
          55.95000076293945,
          40.69250106811523
         ],
         "line": {
          "color": "red",
          "width": 1
         },
         "lon": [
          -3.372499942779541,
          -74.168701171875
         ],
         "mode": "lines",
         "opacity": 0.16666666666666666,
         "type": "scattergeo"
        },
        {
         "lat": [
          25.474899291999996,
          26.072599411010746
         ],
         "line": {
          "color": "red",
          "width": 1
         },
         "lon": [
          -76.6835021973,
          -80.15270233154297
         ],
         "mode": "lines",
         "opacity": 0.16666666666666666,
         "type": "scattergeo"
        },
        {
         "lat": [
          25.474899291999996,
          25.79319953918457
         ],
         "line": {
          "color": "red",
          "width": 1
         },
         "lon": [
          -76.6835021973,
          -80.29060363769531
         ],
         "mode": "lines",
         "opacity": 0.16666666666666666,
         "type": "scattergeo"
        },
        {
         "lat": [
          25.474899291999996,
          26.68320083618164
         ],
         "line": {
          "color": "red",
          "width": 1
         },
         "lon": [
          -76.6835021973,
          -80.09559631347656
         ],
         "mode": "lines",
         "opacity": 0.16666666666666666,
         "type": "scattergeo"
        },
        {
         "lat": [
          -34.8222,
          33.63669967651367
         ],
         "line": {
          "color": "red",
          "width": 1
         },
         "lon": [
          -58.5358,
          -84.4281005859375
         ],
         "mode": "lines",
         "opacity": 0.08333333333333333,
         "type": "scattergeo"
        },
        {
         "lat": [
          -34.8222,
          32.896800994873054
         ],
         "line": {
          "color": "red",
          "width": 1
         },
         "lon": [
          -58.5358,
          -97.03800201416016
         ],
         "mode": "lines",
         "opacity": 0.16666666666666666,
         "type": "scattergeo"
        },
        {
         "lat": [
          -34.8222,
          29.98439979553223
         ],
         "line": {
          "color": "red",
          "width": 1
         },
         "lon": [
          -58.5358,
          -95.34140014648438
         ],
         "mode": "lines",
         "opacity": 0.08333333333333333,
         "type": "scattergeo"
        },
        {
         "lat": [
          -34.8222,
          40.63980103
         ],
         "line": {
          "color": "red",
          "width": 1
         },
         "lon": [
          -58.5358,
          -73.77890015
         ],
         "mode": "lines",
         "opacity": 0.25,
         "type": "scattergeo"
        },
        {
         "lat": [
          -34.8222,
          25.79319953918457
         ],
         "line": {
          "color": "red",
          "width": 1
         },
         "lon": [
          -58.5358,
          -80.29060363769531
         ],
         "mode": "lines",
         "opacity": 0.25,
         "type": "scattergeo"
        },
        {
         "lat": [
          41.800277799999996,
          33.63669967651367
         ],
         "line": {
          "color": "red",
          "width": 1
         },
         "lon": [
          12.238888900000001,
          -84.4281005859375
         ],
         "mode": "lines",
         "opacity": 0.4166666666666667,
         "type": "scattergeo"
        },
        {
         "lat": [
          41.800277799999996,
          42.36429977
         ],
         "line": {
          "color": "red",
          "width": 1
         },
         "lon": [
          12.238888900000001,
          -71.00520325
         ],
         "mode": "lines",
         "opacity": 0.16666666666666666,
         "type": "scattergeo"
        },
        {
         "lat": [
          41.800277799999996,
          35.2140007019043
         ],
         "line": {
          "color": "red",
          "width": 1
         },
         "lon": [
          12.238888900000001,
          -80.94309997558594
         ],
         "mode": "lines",
         "opacity": 0.16666666666666666,
         "type": "scattergeo"
        },
        {
         "lat": [
          41.800277799999996,
          40.69250106811523
         ],
         "line": {
          "color": "red",
          "width": 1
         },
         "lon": [
          12.238888900000001,
          -74.168701171875
         ],
         "mode": "lines",
         "opacity": 0.16666666666666666,
         "type": "scattergeo"
        },
        {
         "lat": [
          41.800277799999996,
          38.94449997
         ],
         "line": {
          "color": "red",
          "width": 1
         },
         "lon": [
          12.238888900000001,
          -77.45580292
         ],
         "mode": "lines",
         "opacity": 0.08333333333333333,
         "type": "scattergeo"
        },
        {
         "lat": [
          41.800277799999996,
          40.63980103
         ],
         "line": {
          "color": "red",
          "width": 1
         },
         "lon": [
          12.238888900000001,
          -73.77890015
         ],
         "mode": "lines",
         "opacity": 0.5833333333333334,
         "type": "scattergeo"
        },
        {
         "lat": [
          41.800277799999996,
          33.94250107
         ],
         "line": {
          "color": "red",
          "width": 1
         },
         "lon": [
          12.238888900000001,
          -118.40799709999999
         ],
         "mode": "lines",
         "opacity": 0.16666666666666666,
         "type": "scattergeo"
        },
        {
         "lat": [
          41.800277799999996,
          25.79319953918457
         ],
         "line": {
          "color": "red",
          "width": 1
         },
         "lon": [
          12.238888900000001,
          -80.29060363769531
         ],
         "mode": "lines",
         "opacity": 0.16666666666666666,
         "type": "scattergeo"
        },
        {
         "lat": [
          41.800277799999996,
          41.97859955
         ],
         "line": {
          "color": "red",
          "width": 1
         },
         "lon": [
          12.238888900000001,
          -87.90480042
         ],
         "mode": "lines",
         "opacity": 0.5833333333333334,
         "type": "scattergeo"
        },
        {
         "lat": [
          41.800277799999996,
          39.87189865112305
         ],
         "line": {
          "color": "red",
          "width": 1
         },
         "lon": [
          12.238888900000001,
          -75.24109649658203
         ],
         "mode": "lines",
         "opacity": 0.16666666666666666,
         "type": "scattergeo"
        },
        {
         "lat": [
          14.590999603271484,
          25.79319953918457
         ],
         "line": {
          "color": "red",
          "width": 1
         },
         "lon": [
          -61.00320053100586,
          -80.29060363769531
         ],
         "mode": "lines",
         "opacity": 0.16666666666666666,
         "type": "scattergeo"
        },
        {
         "lat": [
          26.5587005615,
          33.63669967651367
         ],
         "line": {
          "color": "red",
          "width": 1
         },
         "lon": [
          -78.695602417,
          -84.4281005859375
         ],
         "mode": "lines",
         "opacity": 0.08333333333333333,
         "type": "scattergeo"
        },
        {
         "lat": [
          26.5587005615,
          33.56290054
         ],
         "line": {
          "color": "red",
          "width": 1
         },
         "lon": [
          -78.695602417,
          -86.75350189
         ],
         "mode": "lines",
         "opacity": 0.08333333333333333,
         "type": "scattergeo"
        },
        {
         "lat": [
          26.5587005615,
          39.17539978
         ],
         "line": {
          "color": "red",
          "width": 1
         },
         "lon": [
          -78.695602417,
          -76.66829681
         ],
         "mode": "lines",
         "opacity": 0.08333333333333333,
         "type": "scattergeo"
        },
        {
         "lat": [
          26.5587005615,
          35.2140007019043
         ],
         "line": {
          "color": "red",
          "width": 1
         },
         "lon": [
          -78.695602417,
          -80.94309997558594
         ],
         "mode": "lines",
         "opacity": 0.16666666666666666,
         "type": "scattergeo"
        },
        {
         "lat": [
          26.5587005615,
          39.99800109863281
         ],
         "line": {
          "color": "red",
          "width": 1
         },
         "lon": [
          -78.695602417,
          -82.89189910888672
         ],
         "mode": "lines",
         "opacity": 0.08333333333333333,
         "type": "scattergeo"
        },
        {
         "lat": [
          26.5587005615,
          40.69250106811523
         ],
         "line": {
          "color": "red",
          "width": 1
         },
         "lon": [
          -78.695602417,
          -74.168701171875
         ],
         "mode": "lines",
         "opacity": 0.08333333333333333,
         "type": "scattergeo"
        },
        {
         "lat": [
          26.5587005615,
          26.072599411010746
         ],
         "line": {
          "color": "red",
          "width": 1
         },
         "lon": [
          -78.695602417,
          -80.15270233154297
         ],
         "mode": "lines",
         "opacity": 0.25,
         "type": "scattergeo"
        },
        {
         "lat": [
          26.5587005615,
          25.79319953918457
         ],
         "line": {
          "color": "red",
          "width": 1
         },
         "lon": [
          -78.695602417,
          -80.29060363769531
         ],
         "mode": "lines",
         "opacity": 0.16666666666666666,
         "type": "scattergeo"
        },
        {
         "lat": [
          26.5587005615,
          37.50519943237305
         ],
         "line": {
          "color": "red",
          "width": 1
         },
         "lon": [
          -78.695602417,
          -77.3197021484375
         ],
         "mode": "lines",
         "opacity": 0.08333333333333333,
         "type": "scattergeo"
        },
        {
         "lat": [
          50.033333299999995,
          33.63669967651367
         ],
         "line": {
          "color": "red",
          "width": 1
         },
         "lon": [
          8.5705556,
          -84.4281005859375
         ],
         "mode": "lines",
         "opacity": 0.5,
         "type": "scattergeo"
        },
        {
         "lat": [
          50.033333299999995,
          42.36429977
         ],
         "line": {
          "color": "red",
          "width": 1
         },
         "lon": [
          8.5705556,
          -71.00520325
         ],
         "mode": "lines",
         "opacity": 0.16666666666666666,
         "type": "scattergeo"
        },
        {
         "lat": [
          50.033333299999995,
          35.2140007019043
         ],
         "line": {
          "color": "red",
          "width": 1
         },
         "lon": [
          8.5705556,
          -80.94309997558594
         ],
         "mode": "lines",
         "opacity": 0.16666666666666666,
         "type": "scattergeo"
        },
        {
         "lat": [
          50.033333299999995,
          39.861698150635
         ],
         "line": {
          "color": "red",
          "width": 1
         },
         "lon": [
          8.5705556,
          -104.672996521
         ],
         "mode": "lines",
         "opacity": 0.16666666666666666,
         "type": "scattergeo"
        },
        {
         "lat": [
          50.033333299999995,
          32.896800994873054
         ],
         "line": {
          "color": "red",
          "width": 1
         },
         "lon": [
          8.5705556,
          -97.03800201416016
         ],
         "mode": "lines",
         "opacity": 0.75,
         "type": "scattergeo"
        },
        {
         "lat": [
          50.033333299999995,
          42.212398529052734
         ],
         "line": {
          "color": "red",
          "width": 1
         },
         "lon": [
          8.5705556,
          -83.35340118408203
         ],
         "mode": "lines",
         "opacity": 0.4166666666666667,
         "type": "scattergeo"
        },
        {
         "lat": [
          50.033333299999995,
          40.69250106811523
         ],
         "line": {
          "color": "red",
          "width": 1
         },
         "lon": [
          8.5705556,
          -74.168701171875
         ],
         "mode": "lines",
         "opacity": 0.16666666666666666,
         "type": "scattergeo"
        },
        {
         "lat": [
          50.033333299999995,
          38.94449997
         ],
         "line": {
          "color": "red",
          "width": 1
         },
         "lon": [
          8.5705556,
          -77.45580292
         ],
         "mode": "lines",
         "opacity": 0.16666666666666666,
         "type": "scattergeo"
        },
        {
         "lat": [
          50.033333299999995,
          29.98439979553223
         ],
         "line": {
          "color": "red",
          "width": 1
         },
         "lon": [
          8.5705556,
          -95.34140014648438
         ],
         "mode": "lines",
         "opacity": 0.16666666666666666,
         "type": "scattergeo"
        },
        {
         "lat": [
          50.033333299999995,
          40.63980103
         ],
         "line": {
          "color": "red",
          "width": 1
         },
         "lon": [
          8.5705556,
          -73.77890015
         ],
         "mode": "lines",
         "opacity": 0.6666666666666666,
         "type": "scattergeo"
        },
        {
         "lat": [
          50.033333299999995,
          36.08010101
         ],
         "line": {
          "color": "red",
          "width": 1
         },
         "lon": [
          8.5705556,
          -115.15200039999999
         ],
         "mode": "lines",
         "opacity": 0.08333333333333333,
         "type": "scattergeo"
        },
        {
         "lat": [
          50.033333299999995,
          33.94250107
         ],
         "line": {
          "color": "red",
          "width": 1
         },
         "lon": [
          8.5705556,
          -118.40799709999999
         ],
         "mode": "lines",
         "opacity": 0.16666666666666666,
         "type": "scattergeo"
        },
        {
         "lat": [
          50.033333299999995,
          28.429399490356445
         ],
         "line": {
          "color": "red",
          "width": 1
         },
         "lon": [
          8.5705556,
          -81.30899810791016
         ],
         "mode": "lines",
         "opacity": 0.16666666666666666,
         "type": "scattergeo"
        },
        {
         "lat": [
          50.033333299999995,
          25.79319953918457
         ],
         "line": {
          "color": "red",
          "width": 1
         },
         "lon": [
          8.5705556,
          -80.29060363769531
         ],
         "mode": "lines",
         "opacity": 0.16666666666666666,
         "type": "scattergeo"
        },
        {
         "lat": [
          50.033333299999995,
          41.97859955
         ],
         "line": {
          "color": "red",
          "width": 1
         },
         "lon": [
          8.5705556,
          -87.90480042
         ],
         "mode": "lines",
         "opacity": 0.16666666666666666,
         "type": "scattergeo"
        },
        {
         "lat": [
          50.033333299999995,
          39.87189865112305
         ],
         "line": {
          "color": "red",
          "width": 1
         },
         "lon": [
          8.5705556,
          -75.24109649658203
         ],
         "mode": "lines",
         "opacity": 0.25,
         "type": "scattergeo"
        },
        {
         "lat": [
          50.033333299999995,
          47.44900131225586
         ],
         "line": {
          "color": "red",
          "width": 1
         },
         "lon": [
          8.5705556,
          -122.30899810791016
         ],
         "mode": "lines",
         "opacity": 0.25,
         "type": "scattergeo"
        },
        {
         "lat": [
          50.033333299999995,
          37.61899948120117
         ],
         "line": {
          "color": "red",
          "width": 1
         },
         "lon": [
          8.5705556,
          -122.375
         ],
         "mode": "lines",
         "opacity": 0.25,
         "type": "scattergeo"
        },
        {
         "lat": [
          33.585899353027344,
          21.318700790405273
         ],
         "line": {
          "color": "red",
          "width": 1
         },
         "lon": [
          130.45100402832028,
          -157.9219970703125
         ],
         "mode": "lines",
         "opacity": 0.16666666666666666,
         "type": "scattergeo"
        },
        {
         "lat": [
          19.292800903299998,
          33.63669967651367
         ],
         "line": {
          "color": "red",
          "width": 1
         },
         "lon": [
          -81.3576965332,
          -84.4281005859375
         ],
         "mode": "lines",
         "opacity": 0.08333333333333333,
         "type": "scattergeo"
        },
        {
         "lat": [
          19.292800903299998,
          35.2140007019043
         ],
         "line": {
          "color": "red",
          "width": 1
         },
         "lon": [
          -81.3576965332,
          -80.94309997558594
         ],
         "mode": "lines",
         "opacity": 0.16666666666666666,
         "type": "scattergeo"
        },
        {
         "lat": [
          19.292800903299998,
          42.212398529052734
         ],
         "line": {
          "color": "red",
          "width": 1
         },
         "lon": [
          -81.3576965332,
          -83.35340118408203
         ],
         "mode": "lines",
         "opacity": 0.08333333333333333,
         "type": "scattergeo"
        },
        {
         "lat": [
          19.292800903299998,
          40.69250106811523
         ],
         "line": {
          "color": "red",
          "width": 1
         },
         "lon": [
          -81.3576965332,
          -74.168701171875
         ],
         "mode": "lines",
         "opacity": 0.08333333333333333,
         "type": "scattergeo"
        },
        {
         "lat": [
          19.292800903299998,
          38.94449997
         ],
         "line": {
          "color": "red",
          "width": 1
         },
         "lon": [
          -81.3576965332,
          -77.45580292
         ],
         "mode": "lines",
         "opacity": 0.08333333333333333,
         "type": "scattergeo"
        },
        {
         "lat": [
          19.292800903299998,
          29.98439979553223
         ],
         "line": {
          "color": "red",
          "width": 1
         },
         "lon": [
          -81.3576965332,
          -95.34140014648438
         ],
         "mode": "lines",
         "opacity": 0.08333333333333333,
         "type": "scattergeo"
        },
        {
         "lat": [
          19.292800903299998,
          40.63980103
         ],
         "line": {
          "color": "red",
          "width": 1
         },
         "lon": [
          -81.3576965332,
          -73.77890015
         ],
         "mode": "lines",
         "opacity": 0.16666666666666666,
         "type": "scattergeo"
        },
        {
         "lat": [
          19.292800903299998,
          25.79319953918457
         ],
         "line": {
          "color": "red",
          "width": 1
         },
         "lon": [
          -81.3576965332,
          -80.29060363769531
         ],
         "mode": "lines",
         "opacity": 0.25,
         "type": "scattergeo"
        },
        {
         "lat": [
          19.292800903299998,
          41.97859955
         ],
         "line": {
          "color": "red",
          "width": 1
         },
         "lon": [
          -81.3576965332,
          -87.90480042
         ],
         "mode": "lines",
         "opacity": 0.08333333333333333,
         "type": "scattergeo"
        },
        {
         "lat": [
          19.292800903299998,
          39.87189865112305
         ],
         "line": {
          "color": "red",
          "width": 1
         },
         "lon": [
          -81.3576965332,
          -75.24109649658203
         ],
         "mode": "lines",
         "opacity": 0.16666666666666666,
         "type": "scattergeo"
        },
        {
         "lat": [
          19.292800903299998,
          27.975500106811523
         ],
         "line": {
          "color": "red",
          "width": 1
         },
         "lon": [
          -81.3576965332,
          -82.533203125
         ],
         "mode": "lines",
         "opacity": 0.08333333333333333,
         "type": "scattergeo"
        },
        {
         "lat": [
          20.521799087524414,
          33.63669967651367
         ],
         "line": {
          "color": "red",
          "width": 1
         },
         "lon": [
          -103.31099700927734,
          -84.4281005859375
         ],
         "mode": "lines",
         "opacity": 0.5,
         "type": "scattergeo"
        },
        {
         "lat": [
          20.521799087524414,
          32.896800994873054
         ],
         "line": {
          "color": "red",
          "width": 1
         },
         "lon": [
          -103.31099700927734,
          -97.03800201416016
         ],
         "mode": "lines",
         "opacity": 0.16666666666666666,
         "type": "scattergeo"
        },
        {
         "lat": [
          20.521799087524414,
          36.77619934082031
         ],
         "line": {
          "color": "red",
          "width": 1
         },
         "lon": [
          -103.31099700927734,
          -119.71800231933594
         ],
         "mode": "lines",
         "opacity": 0.25,
         "type": "scattergeo"
        },
        {
         "lat": [
          20.521799087524414,
          29.98439979553223
         ],
         "line": {
          "color": "red",
          "width": 1
         },
         "lon": [
          -103.31099700927734,
          -95.34140014648438
         ],
         "mode": "lines",
         "opacity": 0.08333333333333333,
         "type": "scattergeo"
        },
        {
         "lat": [
          20.521799087524414,
          36.08010101
         ],
         "line": {
          "color": "red",
          "width": 1
         },
         "lon": [
          -103.31099700927734,
          -115.15200039999999
         ],
         "mode": "lines",
         "opacity": 0.08333333333333333,
         "type": "scattergeo"
        },
        {
         "lat": [
          20.521799087524414,
          33.94250107
         ],
         "line": {
          "color": "red",
          "width": 1
         },
         "lon": [
          -103.31099700927734,
          -118.40799709999999
         ],
         "mode": "lines",
         "opacity": 0.5833333333333334,
         "type": "scattergeo"
        },
        {
         "lat": [
          20.521799087524414,
          41.7859992980957
         ],
         "line": {
          "color": "red",
          "width": 1
         },
         "lon": [
          -103.31099700927734,
          -87.75240325927734
         ],
         "mode": "lines",
         "opacity": 0.08333333333333333,
         "type": "scattergeo"
        },
        {
         "lat": [
          20.521799087524414,
          37.72129821777344
         ],
         "line": {
          "color": "red",
          "width": 1
         },
         "lon": [
          -103.31099700927734,
          -122.22100067138672
         ],
         "mode": "lines",
         "opacity": 0.08333333333333333,
         "type": "scattergeo"
        },
        {
         "lat": [
          20.521799087524414,
          34.05599975585937
         ],
         "line": {
          "color": "red",
          "width": 1
         },
         "lon": [
          -103.31099700927734,
          -117.60099792480469
         ],
         "mode": "lines",
         "opacity": 0.25,
         "type": "scattergeo"
        },
        {
         "lat": [
          20.521799087524414,
          41.97859955
         ],
         "line": {
          "color": "red",
          "width": 1
         },
         "lon": [
          -103.31099700927734,
          -87.90480042
         ],
         "mode": "lines",
         "opacity": 0.16666666666666666,
         "type": "scattergeo"
        },
        {
         "lat": [
          20.521799087524414,
          33.43429946899414
         ],
         "line": {
          "color": "red",
          "width": 1
         },
         "lon": [
          -103.31099700927734,
          -112.01200103759766
         ],
         "mode": "lines",
         "opacity": 0.25,
         "type": "scattergeo"
        },
        {
         "lat": [
          20.521799087524414,
          29.533700942993164
         ],
         "line": {
          "color": "red",
          "width": 1
         },
         "lon": [
          -103.31099700927734,
          -98.46980285644531
         ],
         "mode": "lines",
         "opacity": 0.16666666666666666,
         "type": "scattergeo"
        },
        {
         "lat": [
          20.521799087524414,
          37.61899948120117
         ],
         "line": {
          "color": "red",
          "width": 1
         },
         "lon": [
          -103.31099700927734,
          -122.375
         ],
         "mode": "lines",
         "opacity": 0.25,
         "type": "scattergeo"
        },
        {
         "lat": [
          20.521799087524414,
          37.36259841918945
         ],
         "line": {
          "color": "red",
          "width": 1
         },
         "lon": [
          -103.31099700927734,
          -121.9290008544922
         ],
         "mode": "lines",
         "opacity": 0.3333333333333333,
         "type": "scattergeo"
        },
        {
         "lat": [
          20.521799087524414,
          40.78839874267578
         ],
         "line": {
          "color": "red",
          "width": 1
         },
         "lon": [
          -103.31099700927734,
          -111.97799682617188
         ],
         "mode": "lines",
         "opacity": 0.08333333333333333,
         "type": "scattergeo"
        },
        {
         "lat": [
          20.521799087524414,
          38.69540023803711
         ],
         "line": {
          "color": "red",
          "width": 1
         },
         "lon": [
          -103.31099700927734,
          -121.59100341796876
         ],
         "mode": "lines",
         "opacity": 0.25,
         "type": "scattergeo"
        },
        {
         "lat": [
          20.521799087524414,
          33.67570114
         ],
         "line": {
          "color": "red",
          "width": 1
         },
         "lon": [
          -103.31099700927734,
          -117.86799620000001
         ],
         "mode": "lines",
         "opacity": 0.08333333333333333,
         "type": "scattergeo"
        },
        {
         "lat": [
          6.498549938201903,
          40.63980103
         ],
         "line": {
          "color": "red",
          "width": 1
         },
         "lon": [
          -58.25410079956055,
          -73.77890015
         ],
         "mode": "lines",
         "opacity": 0.08333333333333333,
         "type": "scattergeo"
        },
        {
         "lat": [
          6.498549938201903,
          25.79319953918457
         ],
         "line": {
          "color": "red",
          "width": 1
         },
         "lon": [
          -58.25410079956055,
          -80.29060363769531
         ],
         "mode": "lines",
         "opacity": 0.08333333333333333,
         "type": "scattergeo"
        },
        {
         "lat": [
          23.5625991821,
          33.63669967651367
         ],
         "line": {
          "color": "red",
          "width": 1
         },
         "lon": [
          -75.8779983521,
          -84.4281005859375
         ],
         "mode": "lines",
         "opacity": 0.08333333333333333,
         "type": "scattergeo"
        },
        {
         "lat": [
          23.5625991821,
          26.072599411010746
         ],
         "line": {
          "color": "red",
          "width": 1
         },
         "lon": [
          -75.8779983521,
          -80.15270233154297
         ],
         "mode": "lines",
         "opacity": 0.16666666666666666,
         "type": "scattergeo"
        },
        {
         "lat": [
          23.5625991821,
          25.79319953918457
         ],
         "line": {
          "color": "red",
          "width": 1
         },
         "lon": [
          -75.8779983521,
          -80.29060363769531
         ],
         "mode": "lines",
         "opacity": 0.16666666666666666,
         "type": "scattergeo"
        },
        {
         "lat": [
          25.2847003937,
          26.072599411010746
         ],
         "line": {
          "color": "red",
          "width": 1
         },
         "lon": [
          -76.3310012817,
          -80.15270233154297
         ],
         "mode": "lines",
         "opacity": 0.16666666666666666,
         "type": "scattergeo"
        },
        {
         "lat": [
          -22.809999465900002,
          33.63669967651367
         ],
         "line": {
          "color": "red",
          "width": 1
         },
         "lon": [
          -43.2505569458,
          -84.4281005859375
         ],
         "mode": "lines",
         "opacity": 0.16666666666666666,
         "type": "scattergeo"
        },
        {
         "lat": [
          -22.809999465900002,
          35.2140007019043
         ],
         "line": {
          "color": "red",
          "width": 1
         },
         "lon": [
          -43.2505569458,
          -80.94309997558594
         ],
         "mode": "lines",
         "opacity": 0.16666666666666666,
         "type": "scattergeo"
        },
        {
         "lat": [
          -22.809999465900002,
          32.896800994873054
         ],
         "line": {
          "color": "red",
          "width": 1
         },
         "lon": [
          -43.2505569458,
          -97.03800201416016
         ],
         "mode": "lines",
         "opacity": 0.25,
         "type": "scattergeo"
        },
        {
         "lat": [
          -22.809999465900002,
          29.98439979553223
         ],
         "line": {
          "color": "red",
          "width": 1
         },
         "lon": [
          -43.2505569458,
          -95.34140014648438
         ],
         "mode": "lines",
         "opacity": 0.08333333333333333,
         "type": "scattergeo"
        },
        {
         "lat": [
          -22.809999465900002,
          40.63980103
         ],
         "line": {
          "color": "red",
          "width": 1
         },
         "lon": [
          -43.2505569458,
          -73.77890015
         ],
         "mode": "lines",
         "opacity": 0.25,
         "type": "scattergeo"
        },
        {
         "lat": [
          -22.809999465900002,
          25.79319953918457
         ],
         "line": {
          "color": "red",
          "width": 1
         },
         "lon": [
          -43.2505569458,
          -80.29060363769531
         ],
         "mode": "lines",
         "opacity": 0.25,
         "type": "scattergeo"
        },
        {
         "lat": [
          55.8718986511,
          40.69250106811523
         ],
         "line": {
          "color": "red",
          "width": 1
         },
         "lon": [
          -4.43306016922,
          -74.168701171875
         ],
         "mode": "lines",
         "opacity": 0.16666666666666666,
         "type": "scattergeo"
        },
        {
         "lat": [
          55.8718986511,
          28.429399490356445
         ],
         "line": {
          "color": "red",
          "width": 1
         },
         "lon": [
          -4.43306016922,
          -81.30899810791016
         ],
         "mode": "lines",
         "opacity": 0.25,
         "type": "scattergeo"
        },
        {
         "lat": [
          55.8718986511,
          39.87189865112305
         ],
         "line": {
          "color": "red",
          "width": 1
         },
         "lon": [
          -4.43306016922,
          -75.24109649658203
         ],
         "mode": "lines",
         "opacity": 0.16666666666666666,
         "type": "scattergeo"
        },
        {
         "lat": [
          12.004199981689453,
          40.63980103
         ],
         "line": {
          "color": "red",
          "width": 1
         },
         "lon": [
          -61.78620147705078,
          -73.77890015
         ],
         "mode": "lines",
         "opacity": 0.16666666666666666,
         "type": "scattergeo"
        },
        {
         "lat": [
          12.004199981689453,
          25.79319953918457
         ],
         "line": {
          "color": "red",
          "width": 1
         },
         "lon": [
          -61.78620147705078,
          -80.29060363769531
         ],
         "mode": "lines",
         "opacity": 0.16666666666666666,
         "type": "scattergeo"
        },
        {
         "lat": [
          -23.435556411743164,
          33.63669967651367
         ],
         "line": {
          "color": "red",
          "width": 1
         },
         "lon": [
          -46.47305679321289,
          -84.4281005859375
         ],
         "mode": "lines",
         "opacity": 0.08333333333333333,
         "type": "scattergeo"
        },
        {
         "lat": [
          -23.435556411743164,
          35.2140007019043
         ],
         "line": {
          "color": "red",
          "width": 1
         },
         "lon": [
          -46.47305679321289,
          -80.94309997558594
         ],
         "mode": "lines",
         "opacity": 0.16666666666666666,
         "type": "scattergeo"
        },
        {
         "lat": [
          -23.435556411743164,
          32.896800994873054
         ],
         "line": {
          "color": "red",
          "width": 1
         },
         "lon": [
          -46.47305679321289,
          -97.03800201416016
         ],
         "mode": "lines",
         "opacity": 0.25,
         "type": "scattergeo"
        },
        {
         "lat": [
          -23.435556411743164,
          42.212398529052734
         ],
         "line": {
          "color": "red",
          "width": 1
         },
         "lon": [
          -46.47305679321289,
          -83.35340118408203
         ],
         "mode": "lines",
         "opacity": 0.16666666666666666,
         "type": "scattergeo"
        },
        {
         "lat": [
          -23.435556411743164,
          40.69250106811523
         ],
         "line": {
          "color": "red",
          "width": 1
         },
         "lon": [
          -46.47305679321289,
          -74.168701171875
         ],
         "mode": "lines",
         "opacity": 0.08333333333333333,
         "type": "scattergeo"
        },
        {
         "lat": [
          -23.435556411743164,
          38.94449997
         ],
         "line": {
          "color": "red",
          "width": 1
         },
         "lon": [
          -46.47305679321289,
          -77.45580292
         ],
         "mode": "lines",
         "opacity": 0.08333333333333333,
         "type": "scattergeo"
        },
        {
         "lat": [
          -23.435556411743164,
          29.98439979553223
         ],
         "line": {
          "color": "red",
          "width": 1
         },
         "lon": [
          -46.47305679321289,
          -95.34140014648438
         ],
         "mode": "lines",
         "opacity": 0.08333333333333333,
         "type": "scattergeo"
        },
        {
         "lat": [
          -23.435556411743164,
          40.63980103
         ],
         "line": {
          "color": "red",
          "width": 1
         },
         "lon": [
          -46.47305679321289,
          -73.77890015
         ],
         "mode": "lines",
         "opacity": 0.4166666666666667,
         "type": "scattergeo"
        },
        {
         "lat": [
          -23.435556411743164,
          33.94250107
         ],
         "line": {
          "color": "red",
          "width": 1
         },
         "lon": [
          -46.47305679321289,
          -118.40799709999999
         ],
         "mode": "lines",
         "opacity": 0.25,
         "type": "scattergeo"
        },
        {
         "lat": [
          -23.435556411743164,
          28.429399490356445
         ],
         "line": {
          "color": "red",
          "width": 1
         },
         "lon": [
          -46.47305679321289,
          -81.30899810791016
         ],
         "mode": "lines",
         "opacity": 0.16666666666666666,
         "type": "scattergeo"
        },
        {
         "lat": [
          -23.435556411743164,
          25.79319953918457
         ],
         "line": {
          "color": "red",
          "width": 1
         },
         "lon": [
          -46.47305679321289,
          -80.29060363769531
         ],
         "mode": "lines",
         "opacity": 0.25,
         "type": "scattergeo"
        },
        {
         "lat": [
          -23.435556411743164,
          41.97859955
         ],
         "line": {
          "color": "red",
          "width": 1
         },
         "lon": [
          -46.47305679321289,
          -87.90480042
         ],
         "mode": "lines",
         "opacity": 0.08333333333333333,
         "type": "scattergeo"
        },
        {
         "lat": [
          14.58329963684082,
          33.63669967651367
         ],
         "line": {
          "color": "red",
          "width": 1
         },
         "lon": [
          -90.52749633789062,
          -84.4281005859375
         ],
         "mode": "lines",
         "opacity": 0.16666666666666666,
         "type": "scattergeo"
        },
        {
         "lat": [
          14.58329963684082,
          32.896800994873054
         ],
         "line": {
          "color": "red",
          "width": 1
         },
         "lon": [
          -90.52749633789062,
          -97.03800201416016
         ],
         "mode": "lines",
         "opacity": 0.16666666666666666,
         "type": "scattergeo"
        },
        {
         "lat": [
          14.58329963684082,
          40.69250106811523
         ],
         "line": {
          "color": "red",
          "width": 1
         },
         "lon": [
          -90.52749633789062,
          -74.168701171875
         ],
         "mode": "lines",
         "opacity": 0.08333333333333333,
         "type": "scattergeo"
        },
        {
         "lat": [
          14.58329963684082,
          26.072599411010746
         ],
         "line": {
          "color": "red",
          "width": 1
         },
         "lon": [
          -90.52749633789062,
          -80.15270233154297
         ],
         "mode": "lines",
         "opacity": 0.08333333333333333,
         "type": "scattergeo"
        },
        {
         "lat": [
          14.58329963684082,
          38.94449997
         ],
         "line": {
          "color": "red",
          "width": 1
         },
         "lon": [
          -90.52749633789062,
          -77.45580292
         ],
         "mode": "lines",
         "opacity": 0.08333333333333333,
         "type": "scattergeo"
        },
        {
         "lat": [
          14.58329963684082,
          29.98439979553223
         ],
         "line": {
          "color": "red",
          "width": 1
         },
         "lon": [
          -90.52749633789062,
          -95.34140014648438
         ],
         "mode": "lines",
         "opacity": 0.08333333333333333,
         "type": "scattergeo"
        },
        {
         "lat": [
          14.58329963684082,
          40.63980103
         ],
         "line": {
          "color": "red",
          "width": 1
         },
         "lon": [
          -90.52749633789062,
          -73.77890015
         ],
         "mode": "lines",
         "opacity": 0.08333333333333333,
         "type": "scattergeo"
        },
        {
         "lat": [
          14.58329963684082,
          33.94250107
         ],
         "line": {
          "color": "red",
          "width": 1
         },
         "lon": [
          -90.52749633789062,
          -118.40799709999999
         ],
         "mode": "lines",
         "opacity": 0.3333333333333333,
         "type": "scattergeo"
        },
        {
         "lat": [
          14.58329963684082,
          25.79319953918457
         ],
         "line": {
          "color": "red",
          "width": 1
         },
         "lon": [
          -90.52749633789062,
          -80.29060363769531
         ],
         "mode": "lines",
         "opacity": 0.3333333333333333,
         "type": "scattergeo"
        },
        {
         "lat": [
          13.4834003448,
          21.318700790405273
         ],
         "line": {
          "color": "red",
          "width": 1
         },
         "lon": [
          144.796005249,
          -157.9219970703125
         ],
         "mode": "lines",
         "opacity": 0.08333333333333333,
         "type": "scattergeo"
        },
        {
         "lat": [
          46.23809814453125,
          40.69250106811523
         ],
         "line": {
          "color": "red",
          "width": 1
         },
         "lon": [
          6.108950138092041,
          -74.168701171875
         ],
         "mode": "lines",
         "opacity": 0.16666666666666666,
         "type": "scattergeo"
        },
        {
         "lat": [
          46.23809814453125,
          38.94449997
         ],
         "line": {
          "color": "red",
          "width": 1
         },
         "lon": [
          6.108950138092041,
          -77.45580292
         ],
         "mode": "lines",
         "opacity": 0.16666666666666666,
         "type": "scattergeo"
        },
        {
         "lat": [
          46.23809814453125,
          40.63980103
         ],
         "line": {
          "color": "red",
          "width": 1
         },
         "lon": [
          6.108950138092041,
          -73.77890015
         ],
         "mode": "lines",
         "opacity": 0.16666666666666666,
         "type": "scattergeo"
        },
        {
         "lat": [
          -2.15741991997,
          40.63980103
         ],
         "line": {
          "color": "red",
          "width": 1
         },
         "lon": [
          -79.88359832760001,
          -73.77890015
         ],
         "mode": "lines",
         "opacity": 0.16666666666666666,
         "type": "scattergeo"
        },
        {
         "lat": [
          -2.15741991997,
          25.79319953918457
         ],
         "line": {
          "color": "red",
          "width": 1
         },
         "lon": [
          -79.88359832760001,
          -80.29060363769531
         ],
         "mode": "lines",
         "opacity": 0.16666666666666666,
         "type": "scattergeo"
        },
        {
         "lat": [
          53.630401611328004,
          40.69250106811523
         ],
         "line": {
          "color": "red",
          "width": 1
         },
         "lon": [
          9.988229751586902,
          -74.168701171875
         ],
         "mode": "lines",
         "opacity": 0.16666666666666666,
         "type": "scattergeo"
        },
        {
         "lat": [
          60.317199707031,
          40.63980103
         ],
         "line": {
          "color": "red",
          "width": 1
         },
         "lon": [
          24.963300704956,
          -73.77890015
         ],
         "mode": "lines",
         "opacity": 0.3333333333333333,
         "type": "scattergeo"
        },
        {
         "lat": [
          22.3089008331,
          40.69250106811523
         ],
         "line": {
          "color": "red",
          "width": 1
         },
         "lon": [
          113.915000916,
          -74.168701171875
         ],
         "mode": "lines",
         "opacity": 0.25,
         "type": "scattergeo"
        },
        {
         "lat": [
          22.3089008331,
          40.63980103
         ],
         "line": {
          "color": "red",
          "width": 1
         },
         "lon": [
          113.915000916,
          -73.77890015
         ],
         "mode": "lines",
         "opacity": 0.16666666666666666,
         "type": "scattergeo"
        },
        {
         "lat": [
          22.3089008331,
          33.94250107
         ],
         "line": {
          "color": "red",
          "width": 1
         },
         "lon": [
          113.915000916,
          -118.40799709999999
         ],
         "mode": "lines",
         "opacity": 0.16666666666666666,
         "type": "scattergeo"
        },
        {
         "lat": [
          22.3089008331,
          41.97859955
         ],
         "line": {
          "color": "red",
          "width": 1
         },
         "lon": [
          113.915000916,
          -87.90480042
         ],
         "mode": "lines",
         "opacity": 0.25,
         "type": "scattergeo"
        },
        {
         "lat": [
          22.3089008331,
          37.61899948120117
         ],
         "line": {
          "color": "red",
          "width": 1
         },
         "lon": [
          113.915000916,
          -122.375
         ],
         "mode": "lines",
         "opacity": 0.5,
         "type": "scattergeo"
        },
        {
         "lat": [
          29.095899581900007,
          33.94250107
         ],
         "line": {
          "color": "red",
          "width": 1
         },
         "lon": [
          -111.047996521,
          -118.40799709999999
         ],
         "mode": "lines",
         "opacity": 0.16666666666666666,
         "type": "scattergeo"
        },
        {
         "lat": [
          29.095899581900007,
          33.43429946899414
         ],
         "line": {
          "color": "red",
          "width": 1
         },
         "lon": [
          -111.047996521,
          -112.01200103759766
         ],
         "mode": "lines",
         "opacity": 0.3333333333333333,
         "type": "scattergeo"
        },
        {
         "lat": [
          35.552299,
          21.318700790405273
         ],
         "line": {
          "color": "red",
          "width": 1
         },
         "lon": [
          139.779999,
          -157.9219970703125
         ],
         "mode": "lines",
         "opacity": 0.4166666666666667,
         "type": "scattergeo"
        },
        {
         "lat": [
          35.552299,
          33.94250107
         ],
         "line": {
          "color": "red",
          "width": 1
         },
         "lon": [
          139.779999,
          -118.40799709999999
         ],
         "mode": "lines",
         "opacity": 0.25,
         "type": "scattergeo"
        },
        {
         "lat": [
          35.552299,
          47.44900131225586
         ],
         "line": {
          "color": "red",
          "width": 1
         },
         "lon": [
          139.779999,
          -122.30899810791016
         ],
         "mode": "lines",
         "opacity": 0.08333333333333333,
         "type": "scattergeo"
        },
        {
         "lat": [
          35.552299,
          37.61899948120117
         ],
         "line": {
          "color": "red",
          "width": 1
         },
         "lon": [
          139.779999,
          -122.375
         ],
         "mode": "lines",
         "opacity": 0.16666666666666666,
         "type": "scattergeo"
        },
        {
         "lat": [
          15.77530002593994,
          29.98439979553223
         ],
         "line": {
          "color": "red",
          "width": 1
         },
         "lon": [
          -96.26260375976562,
          -95.34140014648438
         ],
         "mode": "lines",
         "opacity": 0.08333333333333333,
         "type": "scattergeo"
        },
        {
         "lat": [
          37.46910095214844,
          33.63669967651367
         ],
         "line": {
          "color": "red",
          "width": 1
         },
         "lon": [
          126.45099639892578,
          -84.4281005859375
         ],
         "mode": "lines",
         "opacity": 0.16666666666666666,
         "type": "scattergeo"
        },
        {
         "lat": [
          37.46910095214844,
          32.896800994873054
         ],
         "line": {
          "color": "red",
          "width": 1
         },
         "lon": [
          126.45099639892578,
          -97.03800201416016
         ],
         "mode": "lines",
         "opacity": 0.3333333333333333,
         "type": "scattergeo"
        },
        {
         "lat": [
          37.46910095214844,
          42.212398529052734
         ],
         "line": {
          "color": "red",
          "width": 1
         },
         "lon": [
          126.45099639892578,
          -83.35340118408203
         ],
         "mode": "lines",
         "opacity": 0.08333333333333333,
         "type": "scattergeo"
        },
        {
         "lat": [
          37.46910095214844,
          21.318700790405273
         ],
         "line": {
          "color": "red",
          "width": 1
         },
         "lon": [
          126.45099639892578,
          -157.9219970703125
         ],
         "mode": "lines",
         "opacity": 0.3333333333333333,
         "type": "scattergeo"
        },
        {
         "lat": [
          37.46910095214844,
          38.94449997
         ],
         "line": {
          "color": "red",
          "width": 1
         },
         "lon": [
          126.45099639892578,
          -77.45580292
         ],
         "mode": "lines",
         "opacity": 0.16666666666666666,
         "type": "scattergeo"
        },
        {
         "lat": [
          37.46910095214844,
          29.98439979553223
         ],
         "line": {
          "color": "red",
          "width": 1
         },
         "lon": [
          126.45099639892578,
          -95.34140014648438
         ],
         "mode": "lines",
         "opacity": 0.08333333333333333,
         "type": "scattergeo"
        },
        {
         "lat": [
          37.46910095214844,
          40.63980103
         ],
         "line": {
          "color": "red",
          "width": 1
         },
         "lon": [
          126.45099639892578,
          -73.77890015
         ],
         "mode": "lines",
         "opacity": 0.3333333333333333,
         "type": "scattergeo"
        },
        {
         "lat": [
          37.46910095214844,
          36.08010101
         ],
         "line": {
          "color": "red",
          "width": 1
         },
         "lon": [
          126.45099639892578,
          -115.15200039999999
         ],
         "mode": "lines",
         "opacity": 0.16666666666666666,
         "type": "scattergeo"
        },
        {
         "lat": [
          37.46910095214844,
          33.94250107
         ],
         "line": {
          "color": "red",
          "width": 1
         },
         "lon": [
          126.45099639892578,
          -118.40799709999999
         ],
         "mode": "lines",
         "opacity": 0.4166666666666667,
         "type": "scattergeo"
        },
        {
         "lat": [
          37.46910095214844,
          41.97859955
         ],
         "line": {
          "color": "red",
          "width": 1
         },
         "lon": [
          126.45099639892578,
          -87.90480042
         ],
         "mode": "lines",
         "opacity": 0.25,
         "type": "scattergeo"
        },
        {
         "lat": [
          37.46910095214844,
          47.44900131225586
         ],
         "line": {
          "color": "red",
          "width": 1
         },
         "lon": [
          126.45099639892578,
          -122.30899810791016
         ],
         "mode": "lines",
         "opacity": 0.3333333333333333,
         "type": "scattergeo"
        },
        {
         "lat": [
          37.46910095214844,
          37.61899948120117
         ],
         "line": {
          "color": "red",
          "width": 1
         },
         "lon": [
          126.45099639892578,
          -122.375
         ],
         "mode": "lines",
         "opacity": 0.5833333333333334,
         "type": "scattergeo"
        },
        {
         "lat": [
          40.976898193400004,
          38.94449997
         ],
         "line": {
          "color": "red",
          "width": 1
         },
         "lon": [
          28.814599990799998,
          -77.45580292
         ],
         "mode": "lines",
         "opacity": 0.16666666666666666,
         "type": "scattergeo"
        },
        {
         "lat": [
          40.976898193400004,
          29.98439979553223
         ],
         "line": {
          "color": "red",
          "width": 1
         },
         "lon": [
          28.814599990799998,
          -95.34140014648438
         ],
         "mode": "lines",
         "opacity": 0.16666666666666666,
         "type": "scattergeo"
        },
        {
         "lat": [
          40.976898193400004,
          40.63980103
         ],
         "line": {
          "color": "red",
          "width": 1
         },
         "lon": [
          28.814599990799998,
          -73.77890015
         ],
         "mode": "lines",
         "opacity": 0.16666666666666666,
         "type": "scattergeo"
        },
        {
         "lat": [
          40.976898193400004,
          33.94250107
         ],
         "line": {
          "color": "red",
          "width": 1
         },
         "lon": [
          28.814599990799998,
          -118.40799709999999
         ],
         "mode": "lines",
         "opacity": 0.16666666666666666,
         "type": "scattergeo"
        },
        {
         "lat": [
          40.976898193400004,
          41.97859955
         ],
         "line": {
          "color": "red",
          "width": 1
         },
         "lon": [
          28.814599990799998,
          -87.90480042
         ],
         "mode": "lines",
         "opacity": 0.16666666666666666,
         "type": "scattergeo"
        },
        {
         "lat": [
          21.6796,
          38.94449997
         ],
         "line": {
          "color": "red",
          "width": 1
         },
         "lon": [
          39.156502,
          -77.45580292
         ],
         "mode": "lines",
         "opacity": 0.08333333333333333,
         "type": "scattergeo"
        },
        {
         "lat": [
          21.6796,
          40.63980103
         ],
         "line": {
          "color": "red",
          "width": 1
         },
         "lon": [
          39.156502,
          -73.77890015
         ],
         "mode": "lines",
         "opacity": 0.08333333333333333,
         "type": "scattergeo"
        },
        {
         "lat": [
          21.6796,
          33.94250107
         ],
         "line": {
          "color": "red",
          "width": 1
         },
         "lon": [
          39.156502,
          -118.40799709999999
         ],
         "mode": "lines",
         "opacity": 0.08333333333333333,
         "type": "scattergeo"
        },
        {
         "lat": [
          -26.1392,
          33.63669967651367
         ],
         "line": {
          "color": "red",
          "width": 1
         },
         "lon": [
          28.246,
          -84.4281005859375
         ],
         "mode": "lines",
         "opacity": 0.08333333333333333,
         "type": "scattergeo"
        },
        {
         "lat": [
          -26.1392,
          40.63980103
         ],
         "line": {
          "color": "red",
          "width": 1
         },
         "lon": [
          28.246,
          -73.77890015
         ],
         "mode": "lines",
         "opacity": 0.3333333333333333,
         "type": "scattergeo"
        },
        {
         "lat": [
          50.34500122070313,
          40.63980103
         ],
         "line": {
          "color": "red",
          "width": 1
         },
         "lon": [
          30.89469909667969,
          -73.77890015
         ],
         "mode": "lines",
         "opacity": 0.08333333333333333,
         "type": "scattergeo"
        },
        {
         "lat": [
          63.985000610352,
          42.36429977
         ],
         "line": {
          "color": "red",
          "width": 1
         },
         "lon": [
          -22.605600357055998,
          -71.00520325
         ],
         "mode": "lines",
         "opacity": 0.08333333333333333,
         "type": "scattergeo"
        },
        {
         "lat": [
          63.985000610352,
          39.861698150635
         ],
         "line": {
          "color": "red",
          "width": 1
         },
         "lon": [
          -22.605600357055998,
          -104.672996521
         ],
         "mode": "lines",
         "opacity": 0.08333333333333333,
         "type": "scattergeo"
        },
        {
         "lat": [
          63.985000610352,
          40.69250106811523
         ],
         "line": {
          "color": "red",
          "width": 1
         },
         "lon": [
          -22.605600357055998,
          -74.168701171875
         ],
         "mode": "lines",
         "opacity": 0.08333333333333333,
         "type": "scattergeo"
        },
        {
         "lat": [
          63.985000610352,
          38.94449997
         ],
         "line": {
          "color": "red",
          "width": 1
         },
         "lon": [
          -22.605600357055998,
          -77.45580292
         ],
         "mode": "lines",
         "opacity": 0.08333333333333333,
         "type": "scattergeo"
        },
        {
         "lat": [
          63.985000610352,
          40.63980103
         ],
         "line": {
          "color": "red",
          "width": 1
         },
         "lon": [
          -22.605600357055998,
          -73.77890015
         ],
         "mode": "lines",
         "opacity": 0.08333333333333333,
         "type": "scattergeo"
        },
        {
         "lat": [
          63.985000610352,
          47.44900131225586
         ],
         "line": {
          "color": "red",
          "width": 1
         },
         "lon": [
          -22.605600357055998,
          -122.30899810791016
         ],
         "mode": "lines",
         "opacity": 0.08333333333333333,
         "type": "scattergeo"
        },
        {
         "lat": [
          63.985000610352,
          28.7775993347168
         ],
         "line": {
          "color": "red",
          "width": 1
         },
         "lon": [
          -22.605600357055998,
          -81.23750305175781
         ],
         "mode": "lines",
         "opacity": 0.08333333333333333,
         "type": "scattergeo"
        },
        {
         "lat": [
          17.935699462890625,
          33.63669967651367
         ],
         "line": {
          "color": "red",
          "width": 1
         },
         "lon": [
          -76.7874984741211,
          -84.4281005859375
         ],
         "mode": "lines",
         "opacity": 0.08333333333333333,
         "type": "scattergeo"
        },
        {
         "lat": [
          17.935699462890625,
          26.072599411010746
         ],
         "line": {
          "color": "red",
          "width": 1
         },
         "lon": [
          -76.7874984741211,
          -80.15270233154297
         ],
         "mode": "lines",
         "opacity": 0.25,
         "type": "scattergeo"
        },
        {
         "lat": [
          17.935699462890625,
          40.63980103
         ],
         "line": {
          "color": "red",
          "width": 1
         },
         "lon": [
          -76.7874984741211,
          -73.77890015
         ],
         "mode": "lines",
         "opacity": 0.25,
         "type": "scattergeo"
        },
        {
         "lat": [
          17.935699462890625,
          28.429399490356445
         ],
         "line": {
          "color": "red",
          "width": 1
         },
         "lon": [
          -76.7874984741211,
          -81.30899810791016
         ],
         "mode": "lines",
         "opacity": 0.08333333333333333,
         "type": "scattergeo"
        },
        {
         "lat": [
          17.935699462890625,
          25.79319953918457
         ],
         "line": {
          "color": "red",
          "width": 1
         },
         "lon": [
          -76.7874984741211,
          -80.29060363769531
         ],
         "mode": "lines",
         "opacity": 0.16666666666666666,
         "type": "scattergeo"
        },
        {
         "lat": [
          34.42729949951172,
          21.318700790405273
         ],
         "line": {
          "color": "red",
          "width": 1
         },
         "lon": [
          135.24400329589844,
          -157.9219970703125
         ],
         "mode": "lines",
         "opacity": 0.3333333333333333,
         "type": "scattergeo"
        },
        {
         "lat": [
          34.42729949951172,
          40.63980103
         ],
         "line": {
          "color": "red",
          "width": 1
         },
         "lon": [
          135.24400329589844,
          -73.77890015
         ],
         "mode": "lines",
         "opacity": 0.08333333333333333,
         "type": "scattergeo"
        },
        {
         "lat": [
          34.42729949951172,
          37.61899948120117
         ],
         "line": {
          "color": "red",
          "width": 1
         },
         "lon": [
          135.24400329589844,
          -122.375
         ],
         "mode": "lines",
         "opacity": 0.16666666666666666,
         "type": "scattergeo"
        },
        {
         "lat": [
          29.226600646972656,
          38.94449997
         ],
         "line": {
          "color": "red",
          "width": 1
         },
         "lon": [
          47.96889877319336,
          -77.45580292
         ],
         "mode": "lines",
         "opacity": 0.08333333333333333,
         "type": "scattergeo"
        },
        {
         "lat": [
          29.226600646972656,
          40.63980103
         ],
         "line": {
          "color": "red",
          "width": 1
         },
         "lon": [
          47.96889877319336,
          -73.77890015
         ],
         "mode": "lines",
         "opacity": 0.08333333333333333,
         "type": "scattergeo"
        },
        {
         "lat": [
          51.14810180664063,
          36.08010101
         ],
         "line": {
          "color": "red",
          "width": 1
         },
         "lon": [
          -0.19027799367904666,
          -115.15200039999999
         ],
         "mode": "lines",
         "opacity": 0.4166666666666667,
         "type": "scattergeo"
        },
        {
         "lat": [
          51.14810180664063,
          28.429399490356445
         ],
         "line": {
          "color": "red",
          "width": 1
         },
         "lon": [
          -0.19027799367904666,
          -81.30899810791016
         ],
         "mode": "lines",
         "opacity": 0.5833333333333334,
         "type": "scattergeo"
        },
        {
         "lat": [
          51.14810180664063,
          27.975500106811523
         ],
         "line": {
          "color": "red",
          "width": 1
         },
         "lon": [
          -0.19027799367904666,
          -82.533203125
         ],
         "mode": "lines",
         "opacity": 0.3333333333333333,
         "type": "scattergeo"
        },
        {
         "lat": [
          51.4706,
          33.63669967651367
         ],
         "line": {
          "color": "red",
          "width": 1
         },
         "lon": [
          -0.461941,
          -84.4281005859375
         ],
         "mode": "lines",
         "opacity": 0.6666666666666666,
         "type": "scattergeo"
        },
        {
         "lat": [
          51.4706,
          30.194499969482425
         ],
         "line": {
          "color": "red",
          "width": 1
         },
         "lon": [
          -0.461941,
          -97.6698989868164
         ],
         "mode": "lines",
         "opacity": 0.3333333333333333,
         "type": "scattergeo"
        },
        {
         "lat": [
          51.4706,
          42.36429977
         ],
         "line": {
          "color": "red",
          "width": 1
         },
         "lon": [
          -0.461941,
          -71.00520325
         ],
         "mode": "lines",
         "opacity": 0.75,
         "type": "scattergeo"
        },
        {
         "lat": [
          51.4706,
          39.17539978
         ],
         "line": {
          "color": "red",
          "width": 1
         },
         "lon": [
          -0.461941,
          -76.66829681
         ],
         "mode": "lines",
         "opacity": 0.3333333333333333,
         "type": "scattergeo"
        },
        {
         "lat": [
          51.4706,
          35.2140007019043
         ],
         "line": {
          "color": "red",
          "width": 1
         },
         "lon": [
          -0.461941,
          -80.94309997558594
         ],
         "mode": "lines",
         "opacity": 0.16666666666666666,
         "type": "scattergeo"
        },
        {
         "lat": [
          51.4706,
          39.861698150635
         ],
         "line": {
          "color": "red",
          "width": 1
         },
         "lon": [
          -0.461941,
          -104.672996521
         ],
         "mode": "lines",
         "opacity": 0.3333333333333333,
         "type": "scattergeo"
        },
        {
         "lat": [
          51.4706,
          32.896800994873054
         ],
         "line": {
          "color": "red",
          "width": 1
         },
         "lon": [
          -0.461941,
          -97.03800201416016
         ],
         "mode": "lines",
         "opacity": 0.5833333333333334,
         "type": "scattergeo"
        },
        {
         "lat": [
          51.4706,
          42.212398529052734
         ],
         "line": {
          "color": "red",
          "width": 1
         },
         "lon": [
          -0.461941,
          -83.35340118408203
         ],
         "mode": "lines",
         "opacity": 0.3333333333333333,
         "type": "scattergeo"
        },
        {
         "lat": [
          51.4706,
          40.69250106811523
         ],
         "line": {
          "color": "red",
          "width": 1
         },
         "lon": [
          -0.461941,
          -74.168701171875
         ],
         "mode": "lines",
         "opacity": 0.6666666666666666,
         "type": "scattergeo"
        },
        {
         "lat": [
          51.4706,
          38.94449997
         ],
         "line": {
          "color": "red",
          "width": 1
         },
         "lon": [
          -0.461941,
          -77.45580292
         ],
         "mode": "lines",
         "opacity": 0.6666666666666666,
         "type": "scattergeo"
        },
        {
         "lat": [
          51.4706,
          29.98439979553223
         ],
         "line": {
          "color": "red",
          "width": 1
         },
         "lon": [
          -0.461941,
          -95.34140014648438
         ],
         "mode": "lines",
         "opacity": 0.5,
         "type": "scattergeo"
        },
        {
         "lat": [
          51.4706,
          40.63980103
         ],
         "line": {
          "color": "red",
          "width": 1
         },
         "lon": [
          -0.461941,
          -73.77890015
         ],
         "mode": "lines",
         "opacity": 1,
         "type": "scattergeo"
        },
        {
         "lat": [
          51.4706,
          36.08010101
         ],
         "line": {
          "color": "red",
          "width": 1
         },
         "lon": [
          -0.461941,
          -115.15200039999999
         ],
         "mode": "lines",
         "opacity": 0.3333333333333333,
         "type": "scattergeo"
        },
        {
         "lat": [
          51.4706,
          33.94250107
         ],
         "line": {
          "color": "red",
          "width": 1
         },
         "lon": [
          -0.461941,
          -118.40799709999999
         ],
         "mode": "lines",
         "opacity": 0.9166666666666666,
         "type": "scattergeo"
        },
        {
         "lat": [
          51.4706,
          25.79319953918457
         ],
         "line": {
          "color": "red",
          "width": 1
         },
         "lon": [
          -0.461941,
          -80.29060363769531
         ],
         "mode": "lines",
         "opacity": 0.5833333333333334,
         "type": "scattergeo"
        },
        {
         "lat": [
          51.4706,
          44.8819999695
         ],
         "line": {
          "color": "red",
          "width": 1
         },
         "lon": [
          -0.461941,
          -93.22180175780001
         ],
         "mode": "lines",
         "opacity": 0.3333333333333333,
         "type": "scattergeo"
        },
        {
         "lat": [
          51.4706,
          41.97859955
         ],
         "line": {
          "color": "red",
          "width": 1
         },
         "lon": [
          -0.461941,
          -87.90480042
         ],
         "mode": "lines",
         "opacity": 0.75,
         "type": "scattergeo"
        },
        {
         "lat": [
          51.4706,
          39.87189865112305
         ],
         "line": {
          "color": "red",
          "width": 1
         },
         "lon": [
          -0.461941,
          -75.24109649658203
         ],
         "mode": "lines",
         "opacity": 0.4166666666666667,
         "type": "scattergeo"
        },
        {
         "lat": [
          51.4706,
          33.43429946899414
         ],
         "line": {
          "color": "red",
          "width": 1
         },
         "lon": [
          -0.461941,
          -112.01200103759766
         ],
         "mode": "lines",
         "opacity": 0.3333333333333333,
         "type": "scattergeo"
        },
        {
         "lat": [
          51.4706,
          35.877601623535156
         ],
         "line": {
          "color": "red",
          "width": 1
         },
         "lon": [
          -0.461941,
          -78.7874984741211
         ],
         "mode": "lines",
         "opacity": 0.5,
         "type": "scattergeo"
        },
        {
         "lat": [
          51.4706,
          32.7336006165
         ],
         "line": {
          "color": "red",
          "width": 1
         },
         "lon": [
          -0.461941,
          -117.190002441
         ],
         "mode": "lines",
         "opacity": 0.3333333333333333,
         "type": "scattergeo"
        },
        {
         "lat": [
          51.4706,
          47.44900131225586
         ],
         "line": {
          "color": "red",
          "width": 1
         },
         "lon": [
          -0.461941,
          -122.30899810791016
         ],
         "mode": "lines",
         "opacity": 0.6666666666666666,
         "type": "scattergeo"
        },
        {
         "lat": [
          51.4706,
          37.61899948120117
         ],
         "line": {
          "color": "red",
          "width": 1
         },
         "lon": [
          -0.461941,
          -122.375
         ],
         "mode": "lines",
         "opacity": 0.8333333333333334,
         "type": "scattergeo"
        },
        {
         "lat": [
          -12.0219,
          33.63669967651367
         ],
         "line": {
          "color": "red",
          "width": 1
         },
         "lon": [
          -77.114304,
          -84.4281005859375
         ],
         "mode": "lines",
         "opacity": 0.08333333333333333,
         "type": "scattergeo"
        },
        {
         "lat": [
          -12.0219,
          32.896800994873054
         ],
         "line": {
          "color": "red",
          "width": 1
         },
         "lon": [
          -77.114304,
          -97.03800201416016
         ],
         "mode": "lines",
         "opacity": 0.25,
         "type": "scattergeo"
        },
        {
         "lat": [
          -12.0219,
          40.69250106811523
         ],
         "line": {
          "color": "red",
          "width": 1
         },
         "lon": [
          -77.114304,
          -74.168701171875
         ],
         "mode": "lines",
         "opacity": 0.08333333333333333,
         "type": "scattergeo"
        },
        {
         "lat": [
          -12.0219,
          26.072599411010746
         ],
         "line": {
          "color": "red",
          "width": 1
         },
         "lon": [
          -77.114304,
          -80.15270233154297
         ],
         "mode": "lines",
         "opacity": 0.16666666666666666,
         "type": "scattergeo"
        },
        {
         "lat": [
          -12.0219,
          29.98439979553223
         ],
         "line": {
          "color": "red",
          "width": 1
         },
         "lon": [
          -77.114304,
          -95.34140014648438
         ],
         "mode": "lines",
         "opacity": 0.08333333333333333,
         "type": "scattergeo"
        },
        {
         "lat": [
          -12.0219,
          40.63980103
         ],
         "line": {
          "color": "red",
          "width": 1
         },
         "lon": [
          -77.114304,
          -73.77890015
         ],
         "mode": "lines",
         "opacity": 0.25,
         "type": "scattergeo"
        },
        {
         "lat": [
          -12.0219,
          33.94250107
         ],
         "line": {
          "color": "red",
          "width": 1
         },
         "lon": [
          -77.114304,
          -118.40799709999999
         ],
         "mode": "lines",
         "opacity": 0.4166666666666667,
         "type": "scattergeo"
        },
        {
         "lat": [
          -12.0219,
          25.79319953918457
         ],
         "line": {
          "color": "red",
          "width": 1
         },
         "lon": [
          -77.114304,
          -80.29060363769531
         ],
         "mode": "lines",
         "opacity": 0.4166666666666667,
         "type": "scattergeo"
        },
        {
         "lat": [
          10.593299865722656,
          33.63669967651367
         ],
         "line": {
          "color": "red",
          "width": 1
         },
         "lon": [
          -85.54440307617188,
          -84.4281005859375
         ],
         "mode": "lines",
         "opacity": 0.16666666666666666,
         "type": "scattergeo"
        },
        {
         "lat": [
          10.593299865722656,
          35.2140007019043
         ],
         "line": {
          "color": "red",
          "width": 1
         },
         "lon": [
          -85.54440307617188,
          -80.94309997558594
         ],
         "mode": "lines",
         "opacity": 0.16666666666666666,
         "type": "scattergeo"
        },
        {
         "lat": [
          10.593299865722656,
          39.861698150635
         ],
         "line": {
          "color": "red",
          "width": 1
         },
         "lon": [
          -85.54440307617188,
          -104.672996521
         ],
         "mode": "lines",
         "opacity": 0.08333333333333333,
         "type": "scattergeo"
        },
        {
         "lat": [
          10.593299865722656,
          32.896800994873054
         ],
         "line": {
          "color": "red",
          "width": 1
         },
         "lon": [
          -85.54440307617188,
          -97.03800201416016
         ],
         "mode": "lines",
         "opacity": 0.16666666666666666,
         "type": "scattergeo"
        },
        {
         "lat": [
          10.593299865722656,
          40.69250106811523
         ],
         "line": {
          "color": "red",
          "width": 1
         },
         "lon": [
          -85.54440307617188,
          -74.168701171875
         ],
         "mode": "lines",
         "opacity": 0.08333333333333333,
         "type": "scattergeo"
        },
        {
         "lat": [
          10.593299865722656,
          29.98439979553223
         ],
         "line": {
          "color": "red",
          "width": 1
         },
         "lon": [
          -85.54440307617188,
          -95.34140014648438
         ],
         "mode": "lines",
         "opacity": 0.08333333333333333,
         "type": "scattergeo"
        },
        {
         "lat": [
          10.593299865722656,
          40.63980103
         ],
         "line": {
          "color": "red",
          "width": 1
         },
         "lon": [
          -85.54440307617188,
          -73.77890015
         ],
         "mode": "lines",
         "opacity": 0.16666666666666666,
         "type": "scattergeo"
        },
        {
         "lat": [
          10.593299865722656,
          33.94250107
         ],
         "line": {
          "color": "red",
          "width": 1
         },
         "lon": [
          -85.54440307617188,
          -118.40799709999999
         ],
         "mode": "lines",
         "opacity": 0.08333333333333333,
         "type": "scattergeo"
        },
        {
         "lat": [
          10.593299865722656,
          25.79319953918457
         ],
         "line": {
          "color": "red",
          "width": 1
         },
         "lon": [
          -85.54440307617188,
          -80.29060363769531
         ],
         "mode": "lines",
         "opacity": 0.16666666666666666,
         "type": "scattergeo"
        },
        {
         "lat": [
          38.7812995911,
          42.36429977
         ],
         "line": {
          "color": "red",
          "width": 1
         },
         "lon": [
          -9.13591957092,
          -71.00520325
         ],
         "mode": "lines",
         "opacity": 0.16666666666666666,
         "type": "scattergeo"
        },
        {
         "lat": [
          38.7812995911,
          40.69250106811523
         ],
         "line": {
          "color": "red",
          "width": 1
         },
         "lon": [
          -9.13591957092,
          -74.168701171875
         ],
         "mode": "lines",
         "opacity": 0.25,
         "type": "scattergeo"
        },
        {
         "lat": [
          38.7812995911,
          25.79319953918457
         ],
         "line": {
          "color": "red",
          "width": 1
         },
         "lon": [
          -9.13591957092,
          -80.29060363769531
         ],
         "mode": "lines",
         "opacity": 0.16666666666666666,
         "type": "scattergeo"
        },
        {
         "lat": [
          38.7812995911,
          39.87189865112305
         ],
         "line": {
          "color": "red",
          "width": 1
         },
         "lon": [
          -9.13591957092,
          -75.24109649658203
         ],
         "mode": "lines",
         "opacity": 0.25,
         "type": "scattergeo"
        },
        {
         "lat": [
          6.5773701667785645,
          33.63669967651367
         ],
         "line": {
          "color": "red",
          "width": 1
         },
         "lon": [
          3.321160078048706,
          -84.4281005859375
         ],
         "mode": "lines",
         "opacity": 0.08333333333333333,
         "type": "scattergeo"
        },
        {
         "lat": [
          6.5773701667785645,
          29.98439979553223
         ],
         "line": {
          "color": "red",
          "width": 1
         },
         "lon": [
          3.321160078048706,
          -95.34140014648438
         ],
         "mode": "lines",
         "opacity": 0.08333333333333333,
         "type": "scattergeo"
        },
        {
         "lat": [
          6.5773701667785645,
          40.63980103
         ],
         "line": {
          "color": "red",
          "width": 1
         },
         "lon": [
          3.321160078048706,
          -73.77890015
         ],
         "mode": "lines",
         "opacity": 0.08333333333333333,
         "type": "scattergeo"
        },
        {
         "lat": [
          18.45070075988769,
          40.63980103
         ],
         "line": {
          "color": "red",
          "width": 1
         },
         "lon": [
          -68.91179656982422,
          -73.77890015
         ],
         "mode": "lines",
         "opacity": 0.08333333333333333,
         "type": "scattergeo"
        },
        {
         "lat": [
          18.45070075988769,
          25.79319953918457
         ],
         "line": {
          "color": "red",
          "width": 1
         },
         "lon": [
          -68.91179656982422,
          -80.29060363769531
         ],
         "mode": "lines",
         "opacity": 0.16666666666666666,
         "type": "scattergeo"
        },
        {
         "lat": [
          25.989200592041016,
          33.94250107
         ],
         "line": {
          "color": "red",
          "width": 1
         },
         "lon": [
          -111.3479995727539,
          -118.40799709999999
         ],
         "mode": "lines",
         "opacity": 0.08333333333333333,
         "type": "scattergeo"
        },
        {
         "lat": [
          40.471926,
          33.63669967651367
         ],
         "line": {
          "color": "red",
          "width": 1
         },
         "lon": [
          -3.56264,
          -84.4281005859375
         ],
         "mode": "lines",
         "opacity": 0.3333333333333333,
         "type": "scattergeo"
        },
        {
         "lat": [
          40.471926,
          42.36429977
         ],
         "line": {
          "color": "red",
          "width": 1
         },
         "lon": [
          -3.56264,
          -71.00520325
         ],
         "mode": "lines",
         "opacity": 0.3333333333333333,
         "type": "scattergeo"
        },
        {
         "lat": [
          40.471926,
          32.896800994873054
         ],
         "line": {
          "color": "red",
          "width": 1
         },
         "lon": [
          -3.56264,
          -97.03800201416016
         ],
         "mode": "lines",
         "opacity": 0.4166666666666667,
         "type": "scattergeo"
        },
        {
         "lat": [
          40.471926,
          40.69250106811523
         ],
         "line": {
          "color": "red",
          "width": 1
         },
         "lon": [
          -3.56264,
          -74.168701171875
         ],
         "mode": "lines",
         "opacity": 0.16666666666666666,
         "type": "scattergeo"
        },
        {
         "lat": [
          40.471926,
          40.63980103
         ],
         "line": {
          "color": "red",
          "width": 1
         },
         "lon": [
          -3.56264,
          -73.77890015
         ],
         "mode": "lines",
         "opacity": 0.75,
         "type": "scattergeo"
        },
        {
         "lat": [
          40.471926,
          33.94250107
         ],
         "line": {
          "color": "red",
          "width": 1
         },
         "lon": [
          -3.56264,
          -118.40799709999999
         ],
         "mode": "lines",
         "opacity": 0.3333333333333333,
         "type": "scattergeo"
        },
        {
         "lat": [
          40.471926,
          25.79319953918457
         ],
         "line": {
          "color": "red",
          "width": 1
         },
         "lon": [
          -3.56264,
          -80.29060363769531
         ],
         "mode": "lines",
         "opacity": 0.4166666666666667,
         "type": "scattergeo"
        },
        {
         "lat": [
          40.471926,
          41.97859955
         ],
         "line": {
          "color": "red",
          "width": 1
         },
         "lon": [
          -3.56264,
          -87.90480042
         ],
         "mode": "lines",
         "opacity": 0.3333333333333333,
         "type": "scattergeo"
        },
        {
         "lat": [
          40.471926,
          39.87189865112305
         ],
         "line": {
          "color": "red",
          "width": 1
         },
         "lon": [
          -3.56264,
          -75.24109649658203
         ],
         "mode": "lines",
         "opacity": 0.16666666666666666,
         "type": "scattergeo"
        },
        {
         "lat": [
          7.064760208129883,
          21.318700790405273
         ],
         "line": {
          "color": "red",
          "width": 1
         },
         "lon": [
          171.27200317382812,
          -157.9219970703125
         ],
         "mode": "lines",
         "opacity": 0.08333333333333333,
         "type": "scattergeo"
        },
        {
         "lat": [
          53.35369873046875,
          33.63669967651367
         ],
         "line": {
          "color": "red",
          "width": 1
         },
         "lon": [
          -2.2749500274658203,
          -84.4281005859375
         ],
         "mode": "lines",
         "opacity": 0.3333333333333333,
         "type": "scattergeo"
        },
        {
         "lat": [
          53.35369873046875,
          40.69250106811523
         ],
         "line": {
          "color": "red",
          "width": 1
         },
         "lon": [
          -2.2749500274658203,
          -74.168701171875
         ],
         "mode": "lines",
         "opacity": 0.16666666666666666,
         "type": "scattergeo"
        },
        {
         "lat": [
          53.35369873046875,
          40.63980103
         ],
         "line": {
          "color": "red",
          "width": 1
         },
         "lon": [
          -2.2749500274658203,
          -73.77890015
         ],
         "mode": "lines",
         "opacity": 0.5,
         "type": "scattergeo"
        },
        {
         "lat": [
          53.35369873046875,
          36.08010101
         ],
         "line": {
          "color": "red",
          "width": 1
         },
         "lon": [
          -2.2749500274658203,
          -115.15200039999999
         ],
         "mode": "lines",
         "opacity": 0.3333333333333333,
         "type": "scattergeo"
        },
        {
         "lat": [
          53.35369873046875,
          28.429399490356445
         ],
         "line": {
          "color": "red",
          "width": 1
         },
         "lon": [
          -2.2749500274658203,
          -81.30899810791016
         ],
         "mode": "lines",
         "opacity": 0.25,
         "type": "scattergeo"
        },
        {
         "lat": [
          53.35369873046875,
          41.97859955
         ],
         "line": {
          "color": "red",
          "width": 1
         },
         "lon": [
          -2.2749500274658203,
          -87.90480042
         ],
         "mode": "lines",
         "opacity": 0.4166666666666667,
         "type": "scattergeo"
        },
        {
         "lat": [
          53.35369873046875,
          39.87189865112305
         ],
         "line": {
          "color": "red",
          "width": 1
         },
         "lon": [
          -2.2749500274658203,
          -75.24109649658203
         ],
         "mode": "lines",
         "opacity": 0.16666666666666666,
         "type": "scattergeo"
        },
        {
         "lat": [
          -3.038609981536865,
          25.79319953918457
         ],
         "line": {
          "color": "red",
          "width": 1
         },
         "lon": [
          -60.04970169067383,
          -80.29060363769531
         ],
         "mode": "lines",
         "opacity": 0.25,
         "type": "scattergeo"
        },
        {
         "lat": [
          10.5582084656,
          25.79319953918457
         ],
         "line": {
          "color": "red",
          "width": 1
         },
         "lon": [
          -71.7278594971,
          -80.29060363769531
         ],
         "mode": "lines",
         "opacity": 0.08333333333333333,
         "type": "scattergeo"
        },
        {
         "lat": [
          18.503700256347656,
          33.63669967651367
         ],
         "line": {
          "color": "red",
          "width": 1
         },
         "lon": [
          -77.91339874267578,
          -84.4281005859375
         ],
         "mode": "lines",
         "opacity": 0.3333333333333333,
         "type": "scattergeo"
        },
        {
         "lat": [
          18.503700256347656,
          39.17539978
         ],
         "line": {
          "color": "red",
          "width": 1
         },
         "lon": [
          -77.91339874267578,
          -76.66829681
         ],
         "mode": "lines",
         "opacity": 0.08333333333333333,
         "type": "scattergeo"
        },
        {
         "lat": [
          18.503700256347656,
          35.2140007019043
         ],
         "line": {
          "color": "red",
          "width": 1
         },
         "lon": [
          -77.91339874267578,
          -80.94309997558594
         ],
         "mode": "lines",
         "opacity": 0.16666666666666666,
         "type": "scattergeo"
        },
        {
         "lat": [
          18.503700256347656,
          32.896800994873054
         ],
         "line": {
          "color": "red",
          "width": 1
         },
         "lon": [
          -77.91339874267578,
          -97.03800201416016
         ],
         "mode": "lines",
         "opacity": 0.16666666666666666,
         "type": "scattergeo"
        },
        {
         "lat": [
          18.503700256347656,
          42.212398529052734
         ],
         "line": {
          "color": "red",
          "width": 1
         },
         "lon": [
          -77.91339874267578,
          -83.35340118408203
         ],
         "mode": "lines",
         "opacity": 0.08333333333333333,
         "type": "scattergeo"
        },
        {
         "lat": [
          18.503700256347656,
          40.69250106811523
         ],
         "line": {
          "color": "red",
          "width": 1
         },
         "lon": [
          -77.91339874267578,
          -74.168701171875
         ],
         "mode": "lines",
         "opacity": 0.08333333333333333,
         "type": "scattergeo"
        },
        {
         "lat": [
          18.503700256347656,
          26.072599411010746
         ],
         "line": {
          "color": "red",
          "width": 1
         },
         "lon": [
          -77.91339874267578,
          -80.15270233154297
         ],
         "mode": "lines",
         "opacity": 0.25,
         "type": "scattergeo"
        },
        {
         "lat": [
          18.503700256347656,
          38.94449997
         ],
         "line": {
          "color": "red",
          "width": 1
         },
         "lon": [
          -77.91339874267578,
          -77.45580292
         ],
         "mode": "lines",
         "opacity": 0.08333333333333333,
         "type": "scattergeo"
        },
        {
         "lat": [
          18.503700256347656,
          29.98439979553223
         ],
         "line": {
          "color": "red",
          "width": 1
         },
         "lon": [
          -77.91339874267578,
          -95.34140014648438
         ],
         "mode": "lines",
         "opacity": 0.08333333333333333,
         "type": "scattergeo"
        },
        {
         "lat": [
          18.503700256347656,
          39.7173
         ],
         "line": {
          "color": "red",
          "width": 1
         },
         "lon": [
          -77.91339874267578,
          -86.294403
         ],
         "mode": "lines",
         "opacity": 0.08333333333333333,
         "type": "scattergeo"
        },
        {
         "lat": [
          18.503700256347656,
          40.63980103
         ],
         "line": {
          "color": "red",
          "width": 1
         },
         "lon": [
          -77.91339874267578,
          -73.77890015
         ],
         "mode": "lines",
         "opacity": 0.25,
         "type": "scattergeo"
        },
        {
         "lat": [
          18.503700256347656,
          28.429399490356445
         ],
         "line": {
          "color": "red",
          "width": 1
         },
         "lon": [
          -77.91339874267578,
          -81.30899810791016
         ],
         "mode": "lines",
         "opacity": 0.16666666666666666,
         "type": "scattergeo"
        },
        {
         "lat": [
          18.503700256347656,
          41.7859992980957
         ],
         "line": {
          "color": "red",
          "width": 1
         },
         "lon": [
          -77.91339874267578,
          -87.75240325927734
         ],
         "mode": "lines",
         "opacity": 0.08333333333333333,
         "type": "scattergeo"
        },
        {
         "lat": [
          18.503700256347656,
          25.79319953918457
         ],
         "line": {
          "color": "red",
          "width": 1
         },
         "lon": [
          -77.91339874267578,
          -80.29060363769531
         ],
         "mode": "lines",
         "opacity": 0.16666666666666666,
         "type": "scattergeo"
        },
        {
         "lat": [
          18.503700256347656,
          41.97859955
         ],
         "line": {
          "color": "red",
          "width": 1
         },
         "lon": [
          -77.91339874267578,
          -87.90480042
         ],
         "mode": "lines",
         "opacity": 0.25,
         "type": "scattergeo"
        },
        {
         "lat": [
          18.503700256347656,
          39.87189865112305
         ],
         "line": {
          "color": "red",
          "width": 1
         },
         "lon": [
          -77.91339874267578,
          -75.24109649658203
         ],
         "mode": "lines",
         "opacity": 0.16666666666666666,
         "type": "scattergeo"
        },
        {
         "lat": [
          18.503700256347656,
          38.74869918823242
         ],
         "line": {
          "color": "red",
          "width": 1
         },
         "lon": [
          -77.91339874267578,
          -90.37000274658205
         ],
         "mode": "lines",
         "opacity": 0.08333333333333333,
         "type": "scattergeo"
        },
        {
         "lat": [
          6.164540000000001,
          26.072599411010746
         ],
         "line": {
          "color": "red",
          "width": 1
         },
         "lon": [
          -75.4231,
          -80.15270233154297
         ],
         "mode": "lines",
         "opacity": 0.16666666666666666,
         "type": "scattergeo"
        },
        {
         "lat": [
          6.164540000000001,
          40.63980103
         ],
         "line": {
          "color": "red",
          "width": 1
         },
         "lon": [
          -75.4231,
          -73.77890015
         ],
         "mode": "lines",
         "opacity": 0.16666666666666666,
         "type": "scattergeo"
        },
        {
         "lat": [
          6.164540000000001,
          25.79319953918457
         ],
         "line": {
          "color": "red",
          "width": 1
         },
         "lon": [
          -75.4231,
          -80.29060363769531
         ],
         "mode": "lines",
         "opacity": 0.4166666666666667,
         "type": "scattergeo"
        },
        {
         "lat": [
          -37.673301696777344,
          21.318700790405273
         ],
         "line": {
          "color": "red",
          "width": 1
         },
         "lon": [
          144.84300231933594,
          -157.9219970703125
         ],
         "mode": "lines",
         "opacity": 0.16666666666666666,
         "type": "scattergeo"
        },
        {
         "lat": [
          -37.673301696777344,
          33.94250107
         ],
         "line": {
          "color": "red",
          "width": 1
         },
         "lon": [
          144.84300231933594,
          -118.40799709999999
         ],
         "mode": "lines",
         "opacity": 0.3333333333333333,
         "type": "scattergeo"
        },
        {
         "lat": [
          19.4363,
          33.63669967651367
         ],
         "line": {
          "color": "red",
          "width": 1
         },
         "lon": [
          -99.072098,
          -84.4281005859375
         ],
         "mode": "lines",
         "opacity": 0.6666666666666666,
         "type": "scattergeo"
        },
        {
         "lat": [
          19.4363,
          30.194499969482425
         ],
         "line": {
          "color": "red",
          "width": 1
         },
         "lon": [
          -99.072098,
          -97.6698989868164
         ],
         "mode": "lines",
         "opacity": 0.08333333333333333,
         "type": "scattergeo"
        },
        {
         "lat": [
          19.4363,
          35.2140007019043
         ],
         "line": {
          "color": "red",
          "width": 1
         },
         "lon": [
          -99.072098,
          -80.94309997558594
         ],
         "mode": "lines",
         "opacity": 0.16666666666666666,
         "type": "scattergeo"
        },
        {
         "lat": [
          19.4363,
          39.861698150635
         ],
         "line": {
          "color": "red",
          "width": 1
         },
         "lon": [
          -99.072098,
          -104.672996521
         ],
         "mode": "lines",
         "opacity": 0.16666666666666666,
         "type": "scattergeo"
        },
        {
         "lat": [
          19.4363,
          32.896800994873054
         ],
         "line": {
          "color": "red",
          "width": 1
         },
         "lon": [
          -99.072098,
          -97.03800201416016
         ],
         "mode": "lines",
         "opacity": 0.4166666666666667,
         "type": "scattergeo"
        },
        {
         "lat": [
          19.4363,
          42.212398529052734
         ],
         "line": {
          "color": "red",
          "width": 1
         },
         "lon": [
          -99.072098,
          -83.35340118408203
         ],
         "mode": "lines",
         "opacity": 0.16666666666666666,
         "type": "scattergeo"
        },
        {
         "lat": [
          19.4363,
          40.69250106811523
         ],
         "line": {
          "color": "red",
          "width": 1
         },
         "lon": [
          -99.072098,
          -74.168701171875
         ],
         "mode": "lines",
         "opacity": 0.08333333333333333,
         "type": "scattergeo"
        },
        {
         "lat": [
          19.4363,
          38.94449997
         ],
         "line": {
          "color": "red",
          "width": 1
         },
         "lon": [
          -99.072098,
          -77.45580292
         ],
         "mode": "lines",
         "opacity": 0.25,
         "type": "scattergeo"
        },
        {
         "lat": [
          19.4363,
          29.98439979553223
         ],
         "line": {
          "color": "red",
          "width": 1
         },
         "lon": [
          -99.072098,
          -95.34140014648438
         ],
         "mode": "lines",
         "opacity": 0.3333333333333333,
         "type": "scattergeo"
        },
        {
         "lat": [
          19.4363,
          40.63980103
         ],
         "line": {
          "color": "red",
          "width": 1
         },
         "lon": [
          -99.072098,
          -73.77890015
         ],
         "mode": "lines",
         "opacity": 0.3333333333333333,
         "type": "scattergeo"
        },
        {
         "lat": [
          19.4363,
          36.08010101
         ],
         "line": {
          "color": "red",
          "width": 1
         },
         "lon": [
          -99.072098,
          -115.15200039999999
         ],
         "mode": "lines",
         "opacity": 0.25,
         "type": "scattergeo"
        },
        {
         "lat": [
          19.4363,
          33.94250107
         ],
         "line": {
          "color": "red",
          "width": 1
         },
         "lon": [
          -99.072098,
          -118.40799709999999
         ],
         "mode": "lines",
         "opacity": 0.5833333333333334,
         "type": "scattergeo"
        },
        {
         "lat": [
          19.4363,
          28.429399490356445
         ],
         "line": {
          "color": "red",
          "width": 1
         },
         "lon": [
          -99.072098,
          -81.30899810791016
         ],
         "mode": "lines",
         "opacity": 0.25,
         "type": "scattergeo"
        },
        {
         "lat": [
          19.4363,
          26.17580032
         ],
         "line": {
          "color": "red",
          "width": 1
         },
         "lon": [
          -99.072098,
          -98.23860168
         ],
         "mode": "lines",
         "opacity": 0.08333333333333333,
         "type": "scattergeo"
        },
        {
         "lat": [
          19.4363,
          25.79319953918457
         ],
         "line": {
          "color": "red",
          "width": 1
         },
         "lon": [
          -99.072098,
          -80.29060363769531
         ],
         "mode": "lines",
         "opacity": 0.6666666666666666,
         "type": "scattergeo"
        },
        {
         "lat": [
          19.4363,
          41.97859955
         ],
         "line": {
          "color": "red",
          "width": 1
         },
         "lon": [
          -99.072098,
          -87.90480042
         ],
         "mode": "lines",
         "opacity": 0.5,
         "type": "scattergeo"
        },
        {
         "lat": [
          19.4363,
          33.43429946899414
         ],
         "line": {
          "color": "red",
          "width": 1
         },
         "lon": [
          -99.072098,
          -112.01200103759766
         ],
         "mode": "lines",
         "opacity": 0.25,
         "type": "scattergeo"
        },
        {
         "lat": [
          19.4363,
          32.7336006165
         ],
         "line": {
          "color": "red",
          "width": 1
         },
         "lon": [
          -99.072098,
          -117.190002441
         ],
         "mode": "lines",
         "opacity": 0.08333333333333333,
         "type": "scattergeo"
        },
        {
         "lat": [
          19.4363,
          29.533700942993164
         ],
         "line": {
          "color": "red",
          "width": 1
         },
         "lon": [
          -99.072098,
          -98.46980285644531
         ],
         "mode": "lines",
         "opacity": 0.3333333333333333,
         "type": "scattergeo"
        },
        {
         "lat": [
          19.4363,
          37.61899948120117
         ],
         "line": {
          "color": "red",
          "width": 1
         },
         "lon": [
          -99.072098,
          -122.375
         ],
         "mode": "lines",
         "opacity": 0.3333333333333333,
         "type": "scattergeo"
        },
        {
         "lat": [
          19.4363,
          33.67570114
         ],
         "line": {
          "color": "red",
          "width": 1
         },
         "lon": [
          -99.072098,
          -117.86799620000001
         ],
         "mode": "lines",
         "opacity": 0.16666666666666666,
         "type": "scattergeo"
        },
        {
         "lat": [
          12.141500473022461,
          33.63669967651367
         ],
         "line": {
          "color": "red",
          "width": 1
         },
         "lon": [
          -86.16819763183594,
          -84.4281005859375
         ],
         "mode": "lines",
         "opacity": 0.08333333333333333,
         "type": "scattergeo"
        },
        {
         "lat": [
          12.141500473022461,
          26.072599411010746
         ],
         "line": {
          "color": "red",
          "width": 1
         },
         "lon": [
          -86.16819763183594,
          -80.15270233154297
         ],
         "mode": "lines",
         "opacity": 0.08333333333333333,
         "type": "scattergeo"
        },
        {
         "lat": [
          12.141500473022461,
          29.98439979553223
         ],
         "line": {
          "color": "red",
          "width": 1
         },
         "lon": [
          -86.16819763183594,
          -95.34140014648438
         ],
         "mode": "lines",
         "opacity": 0.08333333333333333,
         "type": "scattergeo"
        },
        {
         "lat": [
          12.141500473022461,
          25.79319953918457
         ],
         "line": {
          "color": "red",
          "width": 1
         },
         "lon": [
          -86.16819763183594,
          -80.29060363769531
         ],
         "mode": "lines",
         "opacity": 0.25,
         "type": "scattergeo"
        },
        {
         "lat": [
          26.511400222800003,
          26.072599411010746
         ],
         "line": {
          "color": "red",
          "width": 1
         },
         "lon": [
          -77.08350372310001,
          -80.15270233154297
         ],
         "mode": "lines",
         "opacity": 0.25,
         "type": "scattergeo"
        },
        {
         "lat": [
          26.511400222800003,
          30.49410057067871
         ],
         "line": {
          "color": "red",
          "width": 1
         },
         "lon": [
          -77.08350372310001,
          -81.68789672851562
         ],
         "mode": "lines",
         "opacity": 0.16666666666666666,
         "type": "scattergeo"
        },
        {
         "lat": [
          26.511400222800003,
          28.429399490356445
         ],
         "line": {
          "color": "red",
          "width": 1
         },
         "lon": [
          -77.08350372310001,
          -81.30899810791016
         ],
         "mode": "lines",
         "opacity": 0.16666666666666666,
         "type": "scattergeo"
        },
        {
         "lat": [
          26.511400222800003,
          25.79319953918457
         ],
         "line": {
          "color": "red",
          "width": 1
         },
         "lon": [
          -77.08350372310001,
          -80.29060363769531
         ],
         "mode": "lines",
         "opacity": 0.16666666666666666,
         "type": "scattergeo"
        },
        {
         "lat": [
          26.511400222800003,
          26.68320083618164
         ],
         "line": {
          "color": "red",
          "width": 1
         },
         "lon": [
          -77.08350372310001,
          -80.09559631347656
         ],
         "mode": "lines",
         "opacity": 0.25,
         "type": "scattergeo"
        },
        {
         "lat": [
          20.9370002747,
          29.98439979553223
         ],
         "line": {
          "color": "red",
          "width": 1
         },
         "lon": [
          -89.657699585,
          -95.34140014648438
         ],
         "mode": "lines",
         "opacity": 0.08333333333333333,
         "type": "scattergeo"
        },
        {
         "lat": [
          20.9370002747,
          25.79319953918457
         ],
         "line": {
          "color": "red",
          "width": 1
         },
         "lon": [
          -89.657699585,
          -80.29060363769531
         ],
         "mode": "lines",
         "opacity": 0.16666666666666666,
         "type": "scattergeo"
        },
        {
         "lat": [
          19.849899292,
          32.896800994873054
         ],
         "line": {
          "color": "red",
          "width": 1
         },
         "lon": [
          -101.025001526,
          -97.03800201416016
         ],
         "mode": "lines",
         "opacity": 0.25,
         "type": "scattergeo"
        },
        {
         "lat": [
          19.849899292,
          29.98439979553223
         ],
         "line": {
          "color": "red",
          "width": 1
         },
         "lon": [
          -101.025001526,
          -95.34140014648438
         ],
         "mode": "lines",
         "opacity": 0.08333333333333333,
         "type": "scattergeo"
        },
        {
         "lat": [
          19.849899292,
          33.94250107
         ],
         "line": {
          "color": "red",
          "width": 1
         },
         "lon": [
          -101.025001526,
          -118.40799709999999
         ],
         "mode": "lines",
         "opacity": 0.08333333333333333,
         "type": "scattergeo"
        },
        {
         "lat": [
          19.849899292,
          41.7859992980957
         ],
         "line": {
          "color": "red",
          "width": 1
         },
         "lon": [
          -101.025001526,
          -87.75240325927734
         ],
         "mode": "lines",
         "opacity": 0.08333333333333333,
         "type": "scattergeo"
        },
        {
         "lat": [
          19.849899292,
          37.61899948120117
         ],
         "line": {
          "color": "red",
          "width": 1
         },
         "lon": [
          -101.025001526,
          -122.375
         ],
         "mode": "lines",
         "opacity": 0.08333333333333333,
         "type": "scattergeo"
        },
        {
         "lat": [
          14.5086,
          21.318700790405273
         ],
         "line": {
          "color": "red",
          "width": 1
         },
         "lon": [
          121.019997,
          -157.9219970703125
         ],
         "mode": "lines",
         "opacity": 0.08333333333333333,
         "type": "scattergeo"
        },
        {
         "lat": [
          14.5086,
          33.94250107
         ],
         "line": {
          "color": "red",
          "width": 1
         },
         "lon": [
          121.019997,
          -118.40799709999999
         ],
         "mode": "lines",
         "opacity": 0.08333333333333333,
         "type": "scattergeo"
        },
        {
         "lat": [
          14.5086,
          37.61899948120117
         ],
         "line": {
          "color": "red",
          "width": 1
         },
         "lon": [
          121.019997,
          -122.375
         ],
         "mode": "lines",
         "opacity": 0.08333333333333333,
         "type": "scattergeo"
        },
        {
         "lat": [
          25.7784996033,
          33.63669967651367
         ],
         "line": {
          "color": "red",
          "width": 1
         },
         "lon": [
          -100.107002258,
          -84.4281005859375
         ],
         "mode": "lines",
         "opacity": 0.5,
         "type": "scattergeo"
        },
        {
         "lat": [
          25.7784996033,
          32.896800994873054
         ],
         "line": {
          "color": "red",
          "width": 1
         },
         "lon": [
          -100.107002258,
          -97.03800201416016
         ],
         "mode": "lines",
         "opacity": 0.16666666666666666,
         "type": "scattergeo"
        },
        {
         "lat": [
          25.7784996033,
          42.212398529052734
         ],
         "line": {
          "color": "red",
          "width": 1
         },
         "lon": [
          -100.107002258,
          -83.35340118408203
         ],
         "mode": "lines",
         "opacity": 0.16666666666666666,
         "type": "scattergeo"
        },
        {
         "lat": [
          25.7784996033,
          29.98439979553223
         ],
         "line": {
          "color": "red",
          "width": 1
         },
         "lon": [
          -100.107002258,
          -95.34140014648438
         ],
         "mode": "lines",
         "opacity": 0.16666666666666666,
         "type": "scattergeo"
        },
        {
         "lat": [
          25.7784996033,
          36.08010101
         ],
         "line": {
          "color": "red",
          "width": 1
         },
         "lon": [
          -100.107002258,
          -115.15200039999999
         ],
         "mode": "lines",
         "opacity": 0.25,
         "type": "scattergeo"
        },
        {
         "lat": [
          25.7784996033,
          41.97859955
         ],
         "line": {
          "color": "red",
          "width": 1
         },
         "lon": [
          -100.107002258,
          -87.90480042
         ],
         "mode": "lines",
         "opacity": 0.08333333333333333,
         "type": "scattergeo"
        },
        {
         "lat": [
          25.7784996033,
          29.533700942993164
         ],
         "line": {
          "color": "red",
          "width": 1
         },
         "lon": [
          -100.107002258,
          -98.46980285644531
         ],
         "mode": "lines",
         "opacity": 0.25,
         "type": "scattergeo"
        },
        {
         "lat": [
          48.353801727295,
          33.63669967651367
         ],
         "line": {
          "color": "red",
          "width": 1
         },
         "lon": [
          11.786100387572999,
          -84.4281005859375
         ],
         "mode": "lines",
         "opacity": 0.25,
         "type": "scattergeo"
        },
        {
         "lat": [
          48.353801727295,
          42.36429977
         ],
         "line": {
          "color": "red",
          "width": 1
         },
         "lon": [
          11.786100387572999,
          -71.00520325
         ],
         "mode": "lines",
         "opacity": 0.16666666666666666,
         "type": "scattergeo"
        },
        {
         "lat": [
          48.353801727295,
          35.2140007019043
         ],
         "line": {
          "color": "red",
          "width": 1
         },
         "lon": [
          11.786100387572999,
          -80.94309997558594
         ],
         "mode": "lines",
         "opacity": 0.08333333333333333,
         "type": "scattergeo"
        },
        {
         "lat": [
          48.353801727295,
          40.69250106811523
         ],
         "line": {
          "color": "red",
          "width": 1
         },
         "lon": [
          11.786100387572999,
          -74.168701171875
         ],
         "mode": "lines",
         "opacity": 0.16666666666666666,
         "type": "scattergeo"
        },
        {
         "lat": [
          48.353801727295,
          38.94449997
         ],
         "line": {
          "color": "red",
          "width": 1
         },
         "lon": [
          11.786100387572999,
          -77.45580292
         ],
         "mode": "lines",
         "opacity": 0.16666666666666666,
         "type": "scattergeo"
        },
        {
         "lat": [
          48.353801727295,
          29.98439979553223
         ],
         "line": {
          "color": "red",
          "width": 1
         },
         "lon": [
          11.786100387572999,
          -95.34140014648438
         ],
         "mode": "lines",
         "opacity": 0.08333333333333333,
         "type": "scattergeo"
        },
        {
         "lat": [
          48.353801727295,
          40.63980103
         ],
         "line": {
          "color": "red",
          "width": 1
         },
         "lon": [
          11.786100387572999,
          -73.77890015
         ],
         "mode": "lines",
         "opacity": 0.16666666666666666,
         "type": "scattergeo"
        },
        {
         "lat": [
          48.353801727295,
          33.94250107
         ],
         "line": {
          "color": "red",
          "width": 1
         },
         "lon": [
          11.786100387572999,
          -118.40799709999999
         ],
         "mode": "lines",
         "opacity": 0.16666666666666666,
         "type": "scattergeo"
        },
        {
         "lat": [
          48.353801727295,
          41.97859955
         ],
         "line": {
          "color": "red",
          "width": 1
         },
         "lon": [
          11.786100387572999,
          -87.90480042
         ],
         "mode": "lines",
         "opacity": 0.16666666666666666,
         "type": "scattergeo"
        },
        {
         "lat": [
          48.353801727295,
          39.87189865112305
         ],
         "line": {
          "color": "red",
          "width": 1
         },
         "lon": [
          11.786100387572999,
          -75.24109649658203
         ],
         "mode": "lines",
         "opacity": 0.16666666666666666,
         "type": "scattergeo"
        },
        {
         "lat": [
          48.353801727295,
          37.61899948120117
         ],
         "line": {
          "color": "red",
          "width": 1
         },
         "lon": [
          11.786100387572999,
          -122.375
         ],
         "mode": "lines",
         "opacity": 0.16666666666666666,
         "type": "scattergeo"
        },
        {
         "lat": [
          -34.838401794433594,
          25.79319953918457
         ],
         "line": {
          "color": "red",
          "width": 1
         },
         "lon": [
          -56.030799865722656,
          -80.29060363769531
         ],
         "mode": "lines",
         "opacity": 0.16666666666666666,
         "type": "scattergeo"
        },
        {
         "lat": [
          45.6306,
          40.69250106811523
         ],
         "line": {
          "color": "red",
          "width": 1
         },
         "lon": [
          8.728110000000001,
          -74.168701171875
         ],
         "mode": "lines",
         "opacity": 0.16666666666666666,
         "type": "scattergeo"
        },
        {
         "lat": [
          45.6306,
          40.63980103
         ],
         "line": {
          "color": "red",
          "width": 1
         },
         "lon": [
          8.728110000000001,
          -73.77890015
         ],
         "mode": "lines",
         "opacity": 0.8333333333333334,
         "type": "scattergeo"
        },
        {
         "lat": [
          45.6306,
          25.79319953918457
         ],
         "line": {
          "color": "red",
          "width": 1
         },
         "lon": [
          8.728110000000001,
          -80.29060363769531
         ],
         "mode": "lines",
         "opacity": 0.4166666666666667,
         "type": "scattergeo"
        },
        {
         "lat": [
          23.1613998413,
          32.896800994873054
         ],
         "line": {
          "color": "red",
          "width": 1
         },
         "lon": [
          -106.26599884,
          -97.03800201416016
         ],
         "mode": "lines",
         "opacity": 0.16666666666666666,
         "type": "scattergeo"
        },
        {
         "lat": [
          23.1613998413,
          33.94250107
         ],
         "line": {
          "color": "red",
          "width": 1
         },
         "lon": [
          -106.26599884,
          -118.40799709999999
         ],
         "mode": "lines",
         "opacity": 0.16666666666666666,
         "type": "scattergeo"
        },
        {
         "lat": [
          23.1613998413,
          33.43429946899414
         ],
         "line": {
          "color": "red",
          "width": 1
         },
         "lon": [
          -106.26599884,
          -112.01200103759766
         ],
         "mode": "lines",
         "opacity": 0.16666666666666666,
         "type": "scattergeo"
        },
        {
         "lat": [
          -17.755399703979492,
          21.318700790405273
         ],
         "line": {
          "color": "red",
          "width": 1
         },
         "lon": [
          177.4429931640625,
          -157.9219970703125
         ],
         "mode": "lines",
         "opacity": 0.16666666666666666,
         "type": "scattergeo"
        },
        {
         "lat": [
          -17.755399703979492,
          33.94250107
         ],
         "line": {
          "color": "red",
          "width": 1
         },
         "lon": [
          177.4429931640625,
          -118.40799709999999
         ],
         "mode": "lines",
         "opacity": 0.3333333333333333,
         "type": "scattergeo"
        },
        {
         "lat": [
          25.0389995575,
          33.63669967651367
         ],
         "line": {
          "color": "red",
          "width": 1
         },
         "lon": [
          -77.46620178219999,
          -84.4281005859375
         ],
         "mode": "lines",
         "opacity": 0.3333333333333333,
         "type": "scattergeo"
        },
        {
         "lat": [
          25.0389995575,
          42.36429977
         ],
         "line": {
          "color": "red",
          "width": 1
         },
         "lon": [
          -77.46620178219999,
          -71.00520325
         ],
         "mode": "lines",
         "opacity": 0.16666666666666666,
         "type": "scattergeo"
        },
        {
         "lat": [
          25.0389995575,
          39.17539978
         ],
         "line": {
          "color": "red",
          "width": 1
         },
         "lon": [
          -77.46620178219999,
          -76.66829681
         ],
         "mode": "lines",
         "opacity": 0.08333333333333333,
         "type": "scattergeo"
        },
        {
         "lat": [
          25.0389995575,
          35.2140007019043
         ],
         "line": {
          "color": "red",
          "width": 1
         },
         "lon": [
          -77.46620178219999,
          -80.94309997558594
         ],
         "mode": "lines",
         "opacity": 0.16666666666666666,
         "type": "scattergeo"
        },
        {
         "lat": [
          25.0389995575,
          38.8521
         ],
         "line": {
          "color": "red",
          "width": 1
         },
         "lon": [
          -77.46620178219999,
          -77.037697
         ],
         "mode": "lines",
         "opacity": 0.16666666666666666,
         "type": "scattergeo"
        },
        {
         "lat": [
          25.0389995575,
          32.896800994873054
         ],
         "line": {
          "color": "red",
          "width": 1
         },
         "lon": [
          -77.46620178219999,
          -97.03800201416016
         ],
         "mode": "lines",
         "opacity": 0.16666666666666666,
         "type": "scattergeo"
        },
        {
         "lat": [
          25.0389995575,
          42.212398529052734
         ],
         "line": {
          "color": "red",
          "width": 1
         },
         "lon": [
          -77.46620178219999,
          -83.35340118408203
         ],
         "mode": "lines",
         "opacity": 0.08333333333333333,
         "type": "scattergeo"
        },
        {
         "lat": [
          25.0389995575,
          40.69250106811523
         ],
         "line": {
          "color": "red",
          "width": 1
         },
         "lon": [
          -77.46620178219999,
          -74.168701171875
         ],
         "mode": "lines",
         "opacity": 0.08333333333333333,
         "type": "scattergeo"
        },
        {
         "lat": [
          25.0389995575,
          26.072599411010746
         ],
         "line": {
          "color": "red",
          "width": 1
         },
         "lon": [
          -77.46620178219999,
          -80.15270233154297
         ],
         "mode": "lines",
         "opacity": 0.16666666666666666,
         "type": "scattergeo"
        },
        {
         "lat": [
          25.0389995575,
          29.98439979553223
         ],
         "line": {
          "color": "red",
          "width": 1
         },
         "lon": [
          -77.46620178219999,
          -95.34140014648438
         ],
         "mode": "lines",
         "opacity": 0.08333333333333333,
         "type": "scattergeo"
        },
        {
         "lat": [
          25.0389995575,
          40.63980103
         ],
         "line": {
          "color": "red",
          "width": 1
         },
         "lon": [
          -77.46620178219999,
          -73.77890015
         ],
         "mode": "lines",
         "opacity": 0.16666666666666666,
         "type": "scattergeo"
        },
        {
         "lat": [
          25.0389995575,
          28.429399490356445
         ],
         "line": {
          "color": "red",
          "width": 1
         },
         "lon": [
          -77.46620178219999,
          -81.30899810791016
         ],
         "mode": "lines",
         "opacity": 0.16666666666666666,
         "type": "scattergeo"
        },
        {
         "lat": [
          25.0389995575,
          25.79319953918457
         ],
         "line": {
          "color": "red",
          "width": 1
         },
         "lon": [
          -77.46620178219999,
          -80.29060363769531
         ],
         "mode": "lines",
         "opacity": 0.25,
         "type": "scattergeo"
        },
        {
         "lat": [
          25.0389995575,
          41.97859955
         ],
         "line": {
          "color": "red",
          "width": 1
         },
         "lon": [
          -77.46620178219999,
          -87.90480042
         ],
         "mode": "lines",
         "opacity": 0.08333333333333333,
         "type": "scattergeo"
        },
        {
         "lat": [
          25.0389995575,
          26.68320083618164
         ],
         "line": {
          "color": "red",
          "width": 1
         },
         "lon": [
          -77.46620178219999,
          -80.09559631347656
         ],
         "mode": "lines",
         "opacity": 0.08333333333333333,
         "type": "scattergeo"
        },
        {
         "lat": [
          25.0389995575,
          39.87189865112305
         ],
         "line": {
          "color": "red",
          "width": 1
         },
         "lon": [
          -77.46620178219999,
          -75.24109649658203
         ],
         "mode": "lines",
         "opacity": 0.16666666666666666,
         "type": "scattergeo"
        },
        {
         "lat": [
          43.658401489300005,
          40.63980103
         ],
         "line": {
          "color": "red",
          "width": 1
         },
         "lon": [
          7.215869903560001,
          -73.77890015
         ],
         "mode": "lines",
         "opacity": 0.16666666666666666,
         "type": "scattergeo"
        },
        {
         "lat": [
          34.8583984375,
          42.212398529052734
         ],
         "line": {
          "color": "red",
          "width": 1
         },
         "lon": [
          136.80499267578122,
          -83.35340118408203
         ],
         "mode": "lines",
         "opacity": 0.08333333333333333,
         "type": "scattergeo"
        },
        {
         "lat": [
          34.8583984375,
          21.318700790405273
         ],
         "line": {
          "color": "red",
          "width": 1
         },
         "lon": [
          136.80499267578122,
          -157.9219970703125
         ],
         "mode": "lines",
         "opacity": 0.25,
         "type": "scattergeo"
        },
        {
         "lat": [
          35.764701843299996,
          33.63669967651367
         ],
         "line": {
          "color": "red",
          "width": 1
         },
         "lon": [
          140.386001587,
          -84.4281005859375
         ],
         "mode": "lines",
         "opacity": 0.08333333333333333,
         "type": "scattergeo"
        },
        {
         "lat": [
          35.764701843299996,
          42.36429977
         ],
         "line": {
          "color": "red",
          "width": 1
         },
         "lon": [
          140.386001587,
          -71.00520325
         ],
         "mode": "lines",
         "opacity": 0.16666666666666666,
         "type": "scattergeo"
        },
        {
         "lat": [
          35.764701843299996,
          39.861698150635
         ],
         "line": {
          "color": "red",
          "width": 1
         },
         "lon": [
          140.386001587,
          -104.672996521
         ],
         "mode": "lines",
         "opacity": 0.16666666666666666,
         "type": "scattergeo"
        },
        {
         "lat": [
          35.764701843299996,
          32.896800994873054
         ],
         "line": {
          "color": "red",
          "width": 1
         },
         "lon": [
          140.386001587,
          -97.03800201416016
         ],
         "mode": "lines",
         "opacity": 0.3333333333333333,
         "type": "scattergeo"
        },
        {
         "lat": [
          35.764701843299996,
          42.212398529052734
         ],
         "line": {
          "color": "red",
          "width": 1
         },
         "lon": [
          140.386001587,
          -83.35340118408203
         ],
         "mode": "lines",
         "opacity": 0.08333333333333333,
         "type": "scattergeo"
        },
        {
         "lat": [
          35.764701843299996,
          40.69250106811523
         ],
         "line": {
          "color": "red",
          "width": 1
         },
         "lon": [
          140.386001587,
          -74.168701171875
         ],
         "mode": "lines",
         "opacity": 0.16666666666666666,
         "type": "scattergeo"
        },
        {
         "lat": [
          35.764701843299996,
          21.318700790405273
         ],
         "line": {
          "color": "red",
          "width": 1
         },
         "lon": [
          140.386001587,
          -157.9219970703125
         ],
         "mode": "lines",
         "opacity": 0.5833333333333334,
         "type": "scattergeo"
        },
        {
         "lat": [
          35.764701843299996,
          38.94449997
         ],
         "line": {
          "color": "red",
          "width": 1
         },
         "lon": [
          140.386001587,
          -77.45580292
         ],
         "mode": "lines",
         "opacity": 0.16666666666666666,
         "type": "scattergeo"
        },
        {
         "lat": [
          35.764701843299996,
          29.98439979553223
         ],
         "line": {
          "color": "red",
          "width": 1
         },
         "lon": [
          140.386001587,
          -95.34140014648438
         ],
         "mode": "lines",
         "opacity": 0.16666666666666666,
         "type": "scattergeo"
        },
        {
         "lat": [
          35.764701843299996,
          40.63980103
         ],
         "line": {
          "color": "red",
          "width": 1
         },
         "lon": [
          140.386001587,
          -73.77890015
         ],
         "mode": "lines",
         "opacity": 0.4166666666666667,
         "type": "scattergeo"
        },
        {
         "lat": [
          35.764701843299996,
          33.94250107
         ],
         "line": {
          "color": "red",
          "width": 1
         },
         "lon": [
          140.386001587,
          -118.40799709999999
         ],
         "mode": "lines",
         "opacity": 0.6666666666666666,
         "type": "scattergeo"
        },
        {
         "lat": [
          35.764701843299996,
          44.8819999695
         ],
         "line": {
          "color": "red",
          "width": 1
         },
         "lon": [
          140.386001587,
          -93.22180175780001
         ],
         "mode": "lines",
         "opacity": 0.08333333333333333,
         "type": "scattergeo"
        },
        {
         "lat": [
          35.764701843299996,
          41.97859955
         ],
         "line": {
          "color": "red",
          "width": 1
         },
         "lon": [
          140.386001587,
          -87.90480042
         ],
         "mode": "lines",
         "opacity": 0.5,
         "type": "scattergeo"
        },
        {
         "lat": [
          35.764701843299996,
          45.58869934
         ],
         "line": {
          "color": "red",
          "width": 1
         },
         "lon": [
          140.386001587,
          -122.59799960000001
         ],
         "mode": "lines",
         "opacity": 0.08333333333333333,
         "type": "scattergeo"
        },
        {
         "lat": [
          35.764701843299996,
          32.7336006165
         ],
         "line": {
          "color": "red",
          "width": 1
         },
         "lon": [
          140.386001587,
          -117.190002441
         ],
         "mode": "lines",
         "opacity": 0.16666666666666666,
         "type": "scattergeo"
        },
        {
         "lat": [
          35.764701843299996,
          47.44900131225586
         ],
         "line": {
          "color": "red",
          "width": 1
         },
         "lon": [
          140.386001587,
          -122.30899810791016
         ],
         "mode": "lines",
         "opacity": 0.25,
         "type": "scattergeo"
        },
        {
         "lat": [
          35.764701843299996,
          37.61899948120117
         ],
         "line": {
          "color": "red",
          "width": 1
         },
         "lon": [
          140.386001587,
          -122.375
         ],
         "mode": "lines",
         "opacity": 0.16666666666666666,
         "type": "scattergeo"
        },
        {
         "lat": [
          35.764701843299996,
          37.36259841918945
         ],
         "line": {
          "color": "red",
          "width": 1
         },
         "lon": [
          140.386001587,
          -121.9290008544922
         ],
         "mode": "lines",
         "opacity": 0.16666666666666666,
         "type": "scattergeo"
        },
        {
         "lat": [
          16.9999008179,
          29.98439979553223
         ],
         "line": {
          "color": "red",
          "width": 1
         },
         "lon": [
          -96.72660064700001,
          -95.34140014648438
         ],
         "mode": "lines",
         "opacity": 0.08333333333333333,
         "type": "scattergeo"
        },
        {
         "lat": [
          41.248100280799996,
          40.69250106811523
         ],
         "line": {
          "color": "red",
          "width": 1
         },
         "lon": [
          -8.68138980865,
          -74.168701171875
         ],
         "mode": "lines",
         "opacity": 0.16666666666666666,
         "type": "scattergeo"
        },
        {
         "lat": [
          48.7233333,
          40.69250106811523
         ],
         "line": {
          "color": "red",
          "width": 1
         },
         "lon": [
          2.3794444,
          -74.168701171875
         ],
         "mode": "lines",
         "opacity": 0.25,
         "type": "scattergeo"
        },
        {
         "lat": [
          48.7233333,
          40.63980103
         ],
         "line": {
          "color": "red",
          "width": 1
         },
         "lon": [
          2.3794444,
          -73.77890015
         ],
         "mode": "lines",
         "opacity": 0.25,
         "type": "scattergeo"
        },
        {
         "lat": [
          60.193901062011996,
          40.69250106811523
         ],
         "line": {
          "color": "red",
          "width": 1
         },
         "lon": [
          11.100399971008,
          -74.168701171875
         ],
         "mode": "lines",
         "opacity": 0.16666666666666666,
         "type": "scattergeo"
        },
        {
         "lat": [
          60.193901062011996,
          26.072599411010746
         ],
         "line": {
          "color": "red",
          "width": 1
         },
         "lon": [
          11.100399971008,
          -80.15270233154297
         ],
         "mode": "lines",
         "opacity": 0.08333333333333333,
         "type": "scattergeo"
        },
        {
         "lat": [
          60.193901062011996,
          40.63980103
         ],
         "line": {
          "color": "red",
          "width": 1
         },
         "lon": [
          11.100399971008,
          -73.77890015
         ],
         "mode": "lines",
         "opacity": 0.08333333333333333,
         "type": "scattergeo"
        },
        {
         "lat": [
          18.57999992370605,
          33.63669967651367
         ],
         "line": {
          "color": "red",
          "width": 1
         },
         "lon": [
          -72.2925033569336,
          -84.4281005859375
         ],
         "mode": "lines",
         "opacity": 0.08333333333333333,
         "type": "scattergeo"
        },
        {
         "lat": [
          18.57999992370605,
          26.072599411010746
         ],
         "line": {
          "color": "red",
          "width": 1
         },
         "lon": [
          -72.2925033569336,
          -80.15270233154297
         ],
         "mode": "lines",
         "opacity": 0.3333333333333333,
         "type": "scattergeo"
        },
        {
         "lat": [
          18.57999992370605,
          40.63980103
         ],
         "line": {
          "color": "red",
          "width": 1
         },
         "lon": [
          -72.2925033569336,
          -73.77890015
         ],
         "mode": "lines",
         "opacity": 0.3333333333333333,
         "type": "scattergeo"
        },
        {
         "lat": [
          18.57999992370605,
          25.79319953918457
         ],
         "line": {
          "color": "red",
          "width": 1
         },
         "lon": [
          -72.2925033569336,
          -80.29060363769531
         ],
         "mode": "lines",
         "opacity": 0.3333333333333333,
         "type": "scattergeo"
        },
        {
         "lat": [
          19.1581001282,
          32.896800994873054
         ],
         "line": {
          "color": "red",
          "width": 1
         },
         "lon": [
          -98.3713989258,
          -97.03800201416016
         ],
         "mode": "lines",
         "opacity": 0.16666666666666666,
         "type": "scattergeo"
        },
        {
         "lat": [
          19.1581001282,
          29.98439979553223
         ],
         "line": {
          "color": "red",
          "width": 1
         },
         "lon": [
          -98.3713989258,
          -95.34140014648438
         ],
         "mode": "lines",
         "opacity": 0.08333333333333333,
         "type": "scattergeo"
        },
        {
         "lat": [
          37.7411994934,
          42.36429977
         ],
         "line": {
          "color": "red",
          "width": 1
         },
         "lon": [
          -25.6979007721,
          -71.00520325
         ],
         "mode": "lines",
         "opacity": 0.16666666666666666,
         "type": "scattergeo"
        },
        {
         "lat": [
          40.0801010131836,
          42.212398529052734
         ],
         "line": {
          "color": "red",
          "width": 1
         },
         "lon": [
          116.58499908447266,
          -83.35340118408203
         ],
         "mode": "lines",
         "opacity": 0.25,
         "type": "scattergeo"
        },
        {
         "lat": [
          40.0801010131836,
          40.69250106811523
         ],
         "line": {
          "color": "red",
          "width": 1
         },
         "lon": [
          116.58499908447266,
          -74.168701171875
         ],
         "mode": "lines",
         "opacity": 0.16666666666666666,
         "type": "scattergeo"
        },
        {
         "lat": [
          40.0801010131836,
          21.318700790405273
         ],
         "line": {
          "color": "red",
          "width": 1
         },
         "lon": [
          116.58499908447266,
          -157.9219970703125
         ],
         "mode": "lines",
         "opacity": 0.25,
         "type": "scattergeo"
        },
        {
         "lat": [
          40.0801010131836,
          38.94449997
         ],
         "line": {
          "color": "red",
          "width": 1
         },
         "lon": [
          116.58499908447266,
          -77.45580292
         ],
         "mode": "lines",
         "opacity": 0.16666666666666666,
         "type": "scattergeo"
        },
        {
         "lat": [
          40.0801010131836,
          29.98439979553223
         ],
         "line": {
          "color": "red",
          "width": 1
         },
         "lon": [
          116.58499908447266,
          -95.34140014648438
         ],
         "mode": "lines",
         "opacity": 0.16666666666666666,
         "type": "scattergeo"
        },
        {
         "lat": [
          40.0801010131836,
          40.63980103
         ],
         "line": {
          "color": "red",
          "width": 1
         },
         "lon": [
          116.58499908447266,
          -73.77890015
         ],
         "mode": "lines",
         "opacity": 0.25,
         "type": "scattergeo"
        },
        {
         "lat": [
          40.0801010131836,
          33.94250107
         ],
         "line": {
          "color": "red",
          "width": 1
         },
         "lon": [
          116.58499908447266,
          -118.40799709999999
         ],
         "mode": "lines",
         "opacity": 0.25,
         "type": "scattergeo"
        },
        {
         "lat": [
          40.0801010131836,
          41.97859955
         ],
         "line": {
          "color": "red",
          "width": 1
         },
         "lon": [
          116.58499908447266,
          -87.90480042
         ],
         "mode": "lines",
         "opacity": 0.4166666666666667,
         "type": "scattergeo"
        },
        {
         "lat": [
          40.0801010131836,
          47.44900131225586
         ],
         "line": {
          "color": "red",
          "width": 1
         },
         "lon": [
          116.58499908447266,
          -122.30899810791016
         ],
         "mode": "lines",
         "opacity": 0.4166666666666667,
         "type": "scattergeo"
        },
        {
         "lat": [
          40.0801010131836,
          37.61899948120117
         ],
         "line": {
          "color": "red",
          "width": 1
         },
         "lon": [
          116.58499908447266,
          -122.375
         ],
         "mode": "lines",
         "opacity": 0.25,
         "type": "scattergeo"
        },
        {
         "lat": [
          21.77359962463379,
          33.63669967651367
         ],
         "line": {
          "color": "red",
          "width": 1
         },
         "lon": [
          -72.26589965820312,
          -84.4281005859375
         ],
         "mode": "lines",
         "opacity": 0.08333333333333333,
         "type": "scattergeo"
        },
        {
         "lat": [
          21.77359962463379,
          42.36429977
         ],
         "line": {
          "color": "red",
          "width": 1
         },
         "lon": [
          -72.26589965820312,
          -71.00520325
         ],
         "mode": "lines",
         "opacity": 0.16666666666666666,
         "type": "scattergeo"
        },
        {
         "lat": [
          21.77359962463379,
          35.2140007019043
         ],
         "line": {
          "color": "red",
          "width": 1
         },
         "lon": [
          -72.26589965820312,
          -80.94309997558594
         ],
         "mode": "lines",
         "opacity": 0.16666666666666666,
         "type": "scattergeo"
        },
        {
         "lat": [
          21.77359962463379,
          32.896800994873054
         ],
         "line": {
          "color": "red",
          "width": 1
         },
         "lon": [
          -72.26589965820312,
          -97.03800201416016
         ],
         "mode": "lines",
         "opacity": 0.16666666666666666,
         "type": "scattergeo"
        },
        {
         "lat": [
          21.77359962463379,
          40.69250106811523
         ],
         "line": {
          "color": "red",
          "width": 1
         },
         "lon": [
          -72.26589965820312,
          -74.168701171875
         ],
         "mode": "lines",
         "opacity": 0.08333333333333333,
         "type": "scattergeo"
        },
        {
         "lat": [
          21.77359962463379,
          40.63980103
         ],
         "line": {
          "color": "red",
          "width": 1
         },
         "lon": [
          -72.26589965820312,
          -73.77890015
         ],
         "mode": "lines",
         "opacity": 0.16666666666666666,
         "type": "scattergeo"
        },
        {
         "lat": [
          21.77359962463379,
          25.79319953918457
         ],
         "line": {
          "color": "red",
          "width": 1
         },
         "lon": [
          -72.26589965820312,
          -80.29060363769531
         ],
         "mode": "lines",
         "opacity": 0.16666666666666666,
         "type": "scattergeo"
        },
        {
         "lat": [
          21.77359962463379,
          39.87189865112305
         ],
         "line": {
          "color": "red",
          "width": 1
         },
         "lon": [
          -72.26589965820312,
          -75.24109649658203
         ],
         "mode": "lines",
         "opacity": 0.16666666666666666,
         "type": "scattergeo"
        },
        {
         "lat": [
          -29.994400024414066,
          25.79319953918457
         ],
         "line": {
          "color": "red",
          "width": 1
         },
         "lon": [
          -51.1713981628418,
          -80.29060363769531
         ],
         "mode": "lines",
         "opacity": 0.16666666666666666,
         "type": "scattergeo"
        },
        {
         "lat": [
          19.75790023803711,
          40.69250106811523
         ],
         "line": {
          "color": "red",
          "width": 1
         },
         "lon": [
          -70.56999969482422,
          -74.168701171875
         ],
         "mode": "lines",
         "opacity": 0.08333333333333333,
         "type": "scattergeo"
        },
        {
         "lat": [
          19.75790023803711,
          40.63980103
         ],
         "line": {
          "color": "red",
          "width": 1
         },
         "lon": [
          -70.56999969482422,
          -73.77890015
         ],
         "mode": "lines",
         "opacity": 0.08333333333333333,
         "type": "scattergeo"
        },
        {
         "lat": [
          19.75790023803711,
          25.79319953918457
         ],
         "line": {
          "color": "red",
          "width": 1
         },
         "lon": [
          -70.56999969482422,
          -80.29060363769531
         ],
         "mode": "lines",
         "opacity": 0.16666666666666666,
         "type": "scattergeo"
        },
        {
         "lat": [
          10.595399856567383,
          40.69250106811523
         ],
         "line": {
          "color": "red",
          "width": 1
         },
         "lon": [
          -61.33720016479492,
          -74.168701171875
         ],
         "mode": "lines",
         "opacity": 0.08333333333333333,
         "type": "scattergeo"
        },
        {
         "lat": [
          10.595399856567383,
          26.072599411010746
         ],
         "line": {
          "color": "red",
          "width": 1
         },
         "lon": [
          -61.33720016479492,
          -80.15270233154297
         ],
         "mode": "lines",
         "opacity": 0.16666666666666666,
         "type": "scattergeo"
        },
        {
         "lat": [
          10.595399856567383,
          29.98439979553223
         ],
         "line": {
          "color": "red",
          "width": 1
         },
         "lon": [
          -61.33720016479492,
          -95.34140014648438
         ],
         "mode": "lines",
         "opacity": 0.08333333333333333,
         "type": "scattergeo"
        },
        {
         "lat": [
          10.595399856567383,
          40.63980103
         ],
         "line": {
          "color": "red",
          "width": 1
         },
         "lon": [
          -61.33720016479492,
          -73.77890015
         ],
         "mode": "lines",
         "opacity": 0.16666666666666666,
         "type": "scattergeo"
        },
        {
         "lat": [
          10.595399856567383,
          28.429399490356445
         ],
         "line": {
          "color": "red",
          "width": 1
         },
         "lon": [
          -61.33720016479492,
          -81.30899810791016
         ],
         "mode": "lines",
         "opacity": 0.08333333333333333,
         "type": "scattergeo"
        },
        {
         "lat": [
          10.595399856567383,
          25.79319953918457
         ],
         "line": {
          "color": "red",
          "width": 1
         },
         "lon": [
          -61.33720016479492,
          -80.29060363769531
         ],
         "mode": "lines",
         "opacity": 0.25,
         "type": "scattergeo"
        },
        {
         "lat": [
          -14.3310003281,
          21.318700790405273
         ],
         "line": {
          "color": "red",
          "width": 1
         },
         "lon": [
          -170.710006714,
          -157.9219970703125
         ],
         "mode": "lines",
         "opacity": 0.08333333333333333,
         "type": "scattergeo"
        },
        {
         "lat": [
          -17.5536994934,
          21.318700790405273
         ],
         "line": {
          "color": "red",
          "width": 1
         },
         "lon": [
          -149.60699462899998,
          -157.9219970703125
         ],
         "mode": "lines",
         "opacity": 0.08333333333333333,
         "type": "scattergeo"
        },
        {
         "lat": [
          -17.5536994934,
          33.94250107
         ],
         "line": {
          "color": "red",
          "width": 1
         },
         "lon": [
          -149.60699462899998,
          -118.40799709999999
         ],
         "mode": "lines",
         "opacity": 0.5,
         "type": "scattergeo"
        },
        {
         "lat": [
          18.00830078125,
          40.63980103
         ],
         "line": {
          "color": "red",
          "width": 1
         },
         "lon": [
          -66.56300354003906,
          -73.77890015
         ],
         "mode": "lines",
         "opacity": 0.08333333333333333,
         "type": "scattergeo"
        },
        {
         "lat": [
          18.00830078125,
          28.429399490356445
         ],
         "line": {
          "color": "red",
          "width": 1
         },
         "lon": [
          -66.56300354003906,
          -81.30899810791016
         ],
         "mode": "lines",
         "opacity": 0.08333333333333333,
         "type": "scattergeo"
        },
        {
         "lat": [
          16.265300750732422,
          25.79319953918457
         ],
         "line": {
          "color": "red",
          "width": 1
         },
         "lon": [
          -61.53179931640625,
          -80.29060363769531
         ],
         "mode": "lines",
         "opacity": 0.16666666666666666,
         "type": "scattergeo"
        },
        {
         "lat": [
          9.0713596344,
          33.63669967651367
         ],
         "line": {
          "color": "red",
          "width": 1
         },
         "lon": [
          -79.3834991455,
          -84.4281005859375
         ],
         "mode": "lines",
         "opacity": 0.25,
         "type": "scattergeo"
        },
        {
         "lat": [
          9.0713596344,
          42.36429977
         ],
         "line": {
          "color": "red",
          "width": 1
         },
         "lon": [
          -79.3834991455,
          -71.00520325
         ],
         "mode": "lines",
         "opacity": 0.16666666666666666,
         "type": "scattergeo"
        },
        {
         "lat": [
          9.0713596344,
          32.896800994873054
         ],
         "line": {
          "color": "red",
          "width": 1
         },
         "lon": [
          -79.3834991455,
          -97.03800201416016
         ],
         "mode": "lines",
         "opacity": 0.16666666666666666,
         "type": "scattergeo"
        },
        {
         "lat": [
          9.0713596344,
          40.69250106811523
         ],
         "line": {
          "color": "red",
          "width": 1
         },
         "lon": [
          -79.3834991455,
          -74.168701171875
         ],
         "mode": "lines",
         "opacity": 0.16666666666666666,
         "type": "scattergeo"
        },
        {
         "lat": [
          9.0713596344,
          26.072599411010746
         ],
         "line": {
          "color": "red",
          "width": 1
         },
         "lon": [
          -79.3834991455,
          -80.15270233154297
         ],
         "mode": "lines",
         "opacity": 0.08333333333333333,
         "type": "scattergeo"
        },
        {
         "lat": [
          9.0713596344,
          38.94449997
         ],
         "line": {
          "color": "red",
          "width": 1
         },
         "lon": [
          -79.3834991455,
          -77.45580292
         ],
         "mode": "lines",
         "opacity": 0.16666666666666666,
         "type": "scattergeo"
        },
        {
         "lat": [
          9.0713596344,
          29.98439979553223
         ],
         "line": {
          "color": "red",
          "width": 1
         },
         "lon": [
          -79.3834991455,
          -95.34140014648438
         ],
         "mode": "lines",
         "opacity": 0.16666666666666666,
         "type": "scattergeo"
        },
        {
         "lat": [
          9.0713596344,
          40.63980103
         ],
         "line": {
          "color": "red",
          "width": 1
         },
         "lon": [
          -79.3834991455,
          -73.77890015
         ],
         "mode": "lines",
         "opacity": 0.16666666666666666,
         "type": "scattergeo"
        },
        {
         "lat": [
          9.0713596344,
          36.08010101
         ],
         "line": {
          "color": "red",
          "width": 1
         },
         "lon": [
          -79.3834991455,
          -115.15200039999999
         ],
         "mode": "lines",
         "opacity": 0.16666666666666666,
         "type": "scattergeo"
        },
        {
         "lat": [
          9.0713596344,
          33.94250107
         ],
         "line": {
          "color": "red",
          "width": 1
         },
         "lon": [
          -79.3834991455,
          -118.40799709999999
         ],
         "mode": "lines",
         "opacity": 0.16666666666666666,
         "type": "scattergeo"
        },
        {
         "lat": [
          9.0713596344,
          28.429399490356445
         ],
         "line": {
          "color": "red",
          "width": 1
         },
         "lon": [
          -79.3834991455,
          -81.30899810791016
         ],
         "mode": "lines",
         "opacity": 0.16666666666666666,
         "type": "scattergeo"
        },
        {
         "lat": [
          9.0713596344,
          25.79319953918457
         ],
         "line": {
          "color": "red",
          "width": 1
         },
         "lon": [
          -79.3834991455,
          -80.29060363769531
         ],
         "mode": "lines",
         "opacity": 0.4166666666666667,
         "type": "scattergeo"
        },
        {
         "lat": [
          9.0713596344,
          41.97859955
         ],
         "line": {
          "color": "red",
          "width": 1
         },
         "lon": [
          -79.3834991455,
          -87.90480042
         ],
         "mode": "lines",
         "opacity": 0.16666666666666666,
         "type": "scattergeo"
        },
        {
         "lat": [
          9.0713596344,
          27.975500106811523
         ],
         "line": {
          "color": "red",
          "width": 1
         },
         "lon": [
          -79.3834991455,
          -82.533203125
         ],
         "mode": "lines",
         "opacity": 0.08333333333333333,
         "type": "scattergeo"
        },
        {
         "lat": [
          18.567399978599997,
          33.63669967651367
         ],
         "line": {
          "color": "red",
          "width": 1
         },
         "lon": [
          -68.36340332030001,
          -84.4281005859375
         ],
         "mode": "lines",
         "opacity": 0.25,
         "type": "scattergeo"
        },
        {
         "lat": [
          18.567399978599997,
          42.36429977
         ],
         "line": {
          "color": "red",
          "width": 1
         },
         "lon": [
          -68.36340332030001,
          -71.00520325
         ],
         "mode": "lines",
         "opacity": 0.08333333333333333,
         "type": "scattergeo"
        },
        {
         "lat": [
          18.567399978599997,
          39.17539978
         ],
         "line": {
          "color": "red",
          "width": 1
         },
         "lon": [
          -68.36340332030001,
          -76.66829681
         ],
         "mode": "lines",
         "opacity": 0.08333333333333333,
         "type": "scattergeo"
        },
        {
         "lat": [
          18.567399978599997,
          41.411701202399996
         ],
         "line": {
          "color": "red",
          "width": 1
         },
         "lon": [
          -68.36340332030001,
          -81.8498001099
         ],
         "mode": "lines",
         "opacity": 0.08333333333333333,
         "type": "scattergeo"
        },
        {
         "lat": [
          18.567399978599997,
          35.2140007019043
         ],
         "line": {
          "color": "red",
          "width": 1
         },
         "lon": [
          -68.36340332030001,
          -80.94309997558594
         ],
         "mode": "lines",
         "opacity": 0.16666666666666666,
         "type": "scattergeo"
        },
        {
         "lat": [
          18.567399978599997,
          39.0488014221
         ],
         "line": {
          "color": "red",
          "width": 1
         },
         "lon": [
          -68.36340332030001,
          -84.6678009033
         ],
         "mode": "lines",
         "opacity": 0.08333333333333333,
         "type": "scattergeo"
        },
        {
         "lat": [
          18.567399978599997,
          42.212398529052734
         ],
         "line": {
          "color": "red",
          "width": 1
         },
         "lon": [
          -68.36340332030001,
          -83.35340118408203
         ],
         "mode": "lines",
         "opacity": 0.08333333333333333,
         "type": "scattergeo"
        },
        {
         "lat": [
          18.567399978599997,
          40.69250106811523
         ],
         "line": {
          "color": "red",
          "width": 1
         },
         "lon": [
          -68.36340332030001,
          -74.168701171875
         ],
         "mode": "lines",
         "opacity": 0.08333333333333333,
         "type": "scattergeo"
        },
        {
         "lat": [
          18.567399978599997,
          26.072599411010746
         ],
         "line": {
          "color": "red",
          "width": 1
         },
         "lon": [
          -68.36340332030001,
          -80.15270233154297
         ],
         "mode": "lines",
         "opacity": 0.16666666666666666,
         "type": "scattergeo"
        },
        {
         "lat": [
          18.567399978599997,
          38.94449997
         ],
         "line": {
          "color": "red",
          "width": 1
         },
         "lon": [
          -68.36340332030001,
          -77.45580292
         ],
         "mode": "lines",
         "opacity": 0.08333333333333333,
         "type": "scattergeo"
        },
        {
         "lat": [
          18.567399978599997,
          40.63980103
         ],
         "line": {
          "color": "red",
          "width": 1
         },
         "lon": [
          -68.36340332030001,
          -73.77890015
         ],
         "mode": "lines",
         "opacity": 0.16666666666666666,
         "type": "scattergeo"
        },
        {
         "lat": [
          18.567399978599997,
          41.7859992980957
         ],
         "line": {
          "color": "red",
          "width": 1
         },
         "lon": [
          -68.36340332030001,
          -87.75240325927734
         ],
         "mode": "lines",
         "opacity": 0.08333333333333333,
         "type": "scattergeo"
        },
        {
         "lat": [
          18.567399978599997,
          25.79319953918457
         ],
         "line": {
          "color": "red",
          "width": 1
         },
         "lon": [
          -68.36340332030001,
          -80.29060363769531
         ],
         "mode": "lines",
         "opacity": 0.3333333333333333,
         "type": "scattergeo"
        },
        {
         "lat": [
          18.567399978599997,
          44.8819999695
         ],
         "line": {
          "color": "red",
          "width": 1
         },
         "lon": [
          -68.36340332030001,
          -93.22180175780001
         ],
         "mode": "lines",
         "opacity": 0.08333333333333333,
         "type": "scattergeo"
        },
        {
         "lat": [
          18.567399978599997,
          41.97859955
         ],
         "line": {
          "color": "red",
          "width": 1
         },
         "lon": [
          -68.36340332030001,
          -87.90480042
         ],
         "mode": "lines",
         "opacity": 0.16666666666666666,
         "type": "scattergeo"
        },
        {
         "lat": [
          18.567399978599997,
          39.87189865112305
         ],
         "line": {
          "color": "red",
          "width": 1
         },
         "lon": [
          -68.36340332030001,
          -75.24109649658203
         ],
         "mode": "lines",
         "opacity": 0.25,
         "type": "scattergeo"
        },
        {
         "lat": [
          18.567399978599997,
          40.49150085
         ],
         "line": {
          "color": "red",
          "width": 1
         },
         "lon": [
          -68.36340332030001,
          -80.23290253
         ],
         "mode": "lines",
         "opacity": 0.16666666666666666,
         "type": "scattergeo"
        },
        {
         "lat": [
          18.567399978599997,
          38.74869918823242
         ],
         "line": {
          "color": "red",
          "width": 1
         },
         "lon": [
          -68.36340332030001,
          -90.37000274658205
         ],
         "mode": "lines",
         "opacity": 0.08333333333333333,
         "type": "scattergeo"
        },
        {
         "lat": [
          31.143400192260746,
          42.212398529052734
         ],
         "line": {
          "color": "red",
          "width": 1
         },
         "lon": [
          121.80500030517578,
          -83.35340118408203
         ],
         "mode": "lines",
         "opacity": 0.25,
         "type": "scattergeo"
        },
        {
         "lat": [
          31.143400192260746,
          40.69250106811523
         ],
         "line": {
          "color": "red",
          "width": 1
         },
         "lon": [
          121.80500030517578,
          -74.168701171875
         ],
         "mode": "lines",
         "opacity": 0.16666666666666666,
         "type": "scattergeo"
        },
        {
         "lat": [
          31.143400192260746,
          21.318700790405273
         ],
         "line": {
          "color": "red",
          "width": 1
         },
         "lon": [
          121.80500030517578,
          -157.9219970703125
         ],
         "mode": "lines",
         "opacity": 0.08333333333333333,
         "type": "scattergeo"
        },
        {
         "lat": [
          31.143400192260746,
          40.63980103
         ],
         "line": {
          "color": "red",
          "width": 1
         },
         "lon": [
          121.80500030517578,
          -73.77890015
         ],
         "mode": "lines",
         "opacity": 0.16666666666666666,
         "type": "scattergeo"
        },
        {
         "lat": [
          31.143400192260746,
          33.94250107
         ],
         "line": {
          "color": "red",
          "width": 1
         },
         "lon": [
          121.80500030517578,
          -118.40799709999999
         ],
         "mode": "lines",
         "opacity": 0.5,
         "type": "scattergeo"
        },
        {
         "lat": [
          31.143400192260746,
          41.97859955
         ],
         "line": {
          "color": "red",
          "width": 1
         },
         "lon": [
          121.80500030517578,
          -87.90480042
         ],
         "mode": "lines",
         "opacity": 0.4166666666666667,
         "type": "scattergeo"
        },
        {
         "lat": [
          31.143400192260746,
          47.44900131225586
         ],
         "line": {
          "color": "red",
          "width": 1
         },
         "lon": [
          121.80500030517578,
          -122.30899810791016
         ],
         "mode": "lines",
         "opacity": 0.16666666666666666,
         "type": "scattergeo"
        },
        {
         "lat": [
          31.143400192260746,
          37.61899948120117
         ],
         "line": {
          "color": "red",
          "width": 1
         },
         "lon": [
          121.80500030517578,
          -122.375
         ],
         "mode": "lines",
         "opacity": 0.3333333333333333,
         "type": "scattergeo"
        },
        {
         "lat": [
          20.680099487304688,
          33.63669967651367
         ],
         "line": {
          "color": "red",
          "width": 1
         },
         "lon": [
          -105.25399780273438,
          -84.4281005859375
         ],
         "mode": "lines",
         "opacity": 0.3333333333333333,
         "type": "scattergeo"
        },
        {
         "lat": [
          20.680099487304688,
          39.861698150635
         ],
         "line": {
          "color": "red",
          "width": 1
         },
         "lon": [
          -105.25399780273438,
          -104.672996521
         ],
         "mode": "lines",
         "opacity": 0.16666666666666666,
         "type": "scattergeo"
        },
        {
         "lat": [
          20.680099487304688,
          32.896800994873054
         ],
         "line": {
          "color": "red",
          "width": 1
         },
         "lon": [
          -105.25399780273438,
          -97.03800201416016
         ],
         "mode": "lines",
         "opacity": 0.16666666666666666,
         "type": "scattergeo"
        },
        {
         "lat": [
          20.680099487304688,
          40.69250106811523
         ],
         "line": {
          "color": "red",
          "width": 1
         },
         "lon": [
          -105.25399780273438,
          -74.168701171875
         ],
         "mode": "lines",
         "opacity": 0.08333333333333333,
         "type": "scattergeo"
        },
        {
         "lat": [
          20.680099487304688,
          29.98439979553223
         ],
         "line": {
          "color": "red",
          "width": 1
         },
         "lon": [
          -105.25399780273438,
          -95.34140014648438
         ],
         "mode": "lines",
         "opacity": 0.08333333333333333,
         "type": "scattergeo"
        },
        {
         "lat": [
          20.680099487304688,
          33.94250107
         ],
         "line": {
          "color": "red",
          "width": 1
         },
         "lon": [
          -105.25399780273438,
          -118.40799709999999
         ],
         "mode": "lines",
         "opacity": 0.3333333333333333,
         "type": "scattergeo"
        },
        {
         "lat": [
          20.680099487304688,
          41.97859955
         ],
         "line": {
          "color": "red",
          "width": 1
         },
         "lon": [
          -105.25399780273438,
          -87.90480042
         ],
         "mode": "lines",
         "opacity": 0.3333333333333333,
         "type": "scattergeo"
        },
        {
         "lat": [
          20.680099487304688,
          33.43429946899414
         ],
         "line": {
          "color": "red",
          "width": 1
         },
         "lon": [
          -105.25399780273438,
          -112.01200103759766
         ],
         "mode": "lines",
         "opacity": 0.16666666666666666,
         "type": "scattergeo"
        },
        {
         "lat": [
          20.680099487304688,
          32.7336006165
         ],
         "line": {
          "color": "red",
          "width": 1
         },
         "lon": [
          -105.25399780273438,
          -117.190002441
         ],
         "mode": "lines",
         "opacity": 0.25,
         "type": "scattergeo"
        },
        {
         "lat": [
          20.680099487304688,
          37.61899948120117
         ],
         "line": {
          "color": "red",
          "width": 1
         },
         "lon": [
          -105.25399780273438,
          -122.375
         ],
         "mode": "lines",
         "opacity": 0.4166666666666667,
         "type": "scattergeo"
        },
        {
         "lat": [
          20.680099487304688,
          40.78839874267578
         ],
         "line": {
          "color": "red",
          "width": 1
         },
         "lon": [
          -105.25399780273438,
          -111.97799682617188
         ],
         "mode": "lines",
         "opacity": 0.16666666666666666,
         "type": "scattergeo"
        },
        {
         "lat": [
          20.680099487304688,
          38.74869918823242
         ],
         "line": {
          "color": "red",
          "width": 1
         },
         "lon": [
          -105.25399780273438,
          -90.37000274658205
         ],
         "mode": "lines",
         "opacity": 0.08333333333333333,
         "type": "scattergeo"
        },
        {
         "lat": [
          20.6173000336,
          32.896800994873054
         ],
         "line": {
          "color": "red",
          "width": 1
         },
         "lon": [
          -100.18599700899999,
          -97.03800201416016
         ],
         "mode": "lines",
         "opacity": 0.16666666666666666,
         "type": "scattergeo"
        },
        {
         "lat": [
          20.6173000336,
          29.98439979553223
         ],
         "line": {
          "color": "red",
          "width": 1
         },
         "lon": [
          -100.18599700899999,
          -95.34140014648438
         ],
         "mode": "lines",
         "opacity": 0.08333333333333333,
         "type": "scattergeo"
        },
        {
         "lat": [
          14.924500465393065,
          42.36429977
         ],
         "line": {
          "color": "red",
          "width": 1
         },
         "lon": [
          -23.49349975585937,
          -71.00520325
         ],
         "mode": "lines",
         "opacity": 0.08333333333333333,
         "type": "scattergeo"
        },
        {
         "lat": [
          -21.202699661300002,
          33.94250107
         ],
         "line": {
          "color": "red",
          "width": 1
         },
         "lon": [
          -159.805999756,
          -118.40799709999999
         ],
         "mode": "lines",
         "opacity": 0.16666666666666666,
         "type": "scattergeo"
        },
        {
         "lat": [
          -8.126489639282228,
          25.79319953918457
         ],
         "line": {
          "color": "red",
          "width": 1
         },
         "lon": [
          -34.923599243164055,
          -80.29060363769531
         ],
         "mode": "lines",
         "opacity": 0.25,
         "type": "scattergeo"
        },
        {
         "lat": [
          56.92359924316406,
          40.63980103
         ],
         "line": {
          "color": "red",
          "width": 1
         },
         "lon": [
          23.971099853515625,
          -73.77890015
         ],
         "mode": "lines",
         "opacity": 0.08333333333333333,
         "type": "scattergeo"
        },
        {
         "lat": [
          16.316799,
          33.63669967651367
         ],
         "line": {
          "color": "red",
          "width": 1
         },
         "lon": [
          -86.523003,
          -84.4281005859375
         ],
         "mode": "lines",
         "opacity": 0.08333333333333333,
         "type": "scattergeo"
        },
        {
         "lat": [
          16.316799,
          32.896800994873054
         ],
         "line": {
          "color": "red",
          "width": 1
         },
         "lon": [
          -86.523003,
          -97.03800201416016
         ],
         "mode": "lines",
         "opacity": 0.16666666666666666,
         "type": "scattergeo"
        },
        {
         "lat": [
          16.316799,
          29.98439979553223
         ],
         "line": {
          "color": "red",
          "width": 1
         },
         "lon": [
          -86.523003,
          -95.34140014648438
         ],
         "mode": "lines",
         "opacity": 0.08333333333333333,
         "type": "scattergeo"
        },
        {
         "lat": [
          16.316799,
          25.79319953918457
         ],
         "line": {
          "color": "red",
          "width": 1
         },
         "lon": [
          -86.523003,
          -80.29060363769531
         ],
         "mode": "lines",
         "opacity": 0.16666666666666666,
         "type": "scattergeo"
        },
        {
         "lat": [
          24.957599639892575,
          38.94449997
         ],
         "line": {
          "color": "red",
          "width": 1
         },
         "lon": [
          46.69879913330078,
          -77.45580292
         ],
         "mode": "lines",
         "opacity": 0.08333333333333333,
         "type": "scattergeo"
        },
        {
         "lat": [
          24.957599639892575,
          40.63980103
         ],
         "line": {
          "color": "red",
          "width": 1
         },
         "lon": [
          46.69879913330078,
          -73.77890015
         ],
         "mode": "lines",
         "opacity": 0.08333333333333333,
         "type": "scattergeo"
        },
        {
         "lat": [
          13.4409,
          33.63669967651367
         ],
         "line": {
          "color": "red",
          "width": 1
         },
         "lon": [
          -89.055702,
          -84.4281005859375
         ],
         "mode": "lines",
         "opacity": 0.08333333333333333,
         "type": "scattergeo"
        },
        {
         "lat": [
          13.4409,
          32.896800994873054
         ],
         "line": {
          "color": "red",
          "width": 1
         },
         "lon": [
          -89.055702,
          -97.03800201416016
         ],
         "mode": "lines",
         "opacity": 0.3333333333333333,
         "type": "scattergeo"
        },
        {
         "lat": [
          13.4409,
          40.69250106811523
         ],
         "line": {
          "color": "red",
          "width": 1
         },
         "lon": [
          -89.055702,
          -74.168701171875
         ],
         "mode": "lines",
         "opacity": 0.16666666666666666,
         "type": "scattergeo"
        },
        {
         "lat": [
          13.4409,
          26.072599411010746
         ],
         "line": {
          "color": "red",
          "width": 1
         },
         "lon": [
          -89.055702,
          -80.15270233154297
         ],
         "mode": "lines",
         "opacity": 0.08333333333333333,
         "type": "scattergeo"
        },
        {
         "lat": [
          13.4409,
          38.94449997
         ],
         "line": {
          "color": "red",
          "width": 1
         },
         "lon": [
          -89.055702,
          -77.45580292
         ],
         "mode": "lines",
         "opacity": 0.16666666666666666,
         "type": "scattergeo"
        },
        {
         "lat": [
          13.4409,
          29.98439979553223
         ],
         "line": {
          "color": "red",
          "width": 1
         },
         "lon": [
          -89.055702,
          -95.34140014648438
         ],
         "mode": "lines",
         "opacity": 0.25,
         "type": "scattergeo"
        },
        {
         "lat": [
          13.4409,
          40.63980103
         ],
         "line": {
          "color": "red",
          "width": 1
         },
         "lon": [
          -89.055702,
          -73.77890015
         ],
         "mode": "lines",
         "opacity": 0.25,
         "type": "scattergeo"
        },
        {
         "lat": [
          13.4409,
          33.94250107
         ],
         "line": {
          "color": "red",
          "width": 1
         },
         "lon": [
          -89.055702,
          -118.40799709999999
         ],
         "mode": "lines",
         "opacity": 0.25,
         "type": "scattergeo"
        },
        {
         "lat": [
          13.4409,
          28.429399490356445
         ],
         "line": {
          "color": "red",
          "width": 1
         },
         "lon": [
          -89.055702,
          -81.30899810791016
         ],
         "mode": "lines",
         "opacity": 0.16666666666666666,
         "type": "scattergeo"
        },
        {
         "lat": [
          13.4409,
          25.79319953918457
         ],
         "line": {
          "color": "red",
          "width": 1
         },
         "lon": [
          -89.055702,
          -80.29060363769531
         ],
         "mode": "lines",
         "opacity": 0.3333333333333333,
         "type": "scattergeo"
        },
        {
         "lat": [
          13.4409,
          41.97859955
         ],
         "line": {
          "color": "red",
          "width": 1
         },
         "lon": [
          -89.055702,
          -87.90480042
         ],
         "mode": "lines",
         "opacity": 0.08333333333333333,
         "type": "scattergeo"
        },
        {
         "lat": [
          13.4409,
          37.61899948120117
         ],
         "line": {
          "color": "red",
          "width": 1
         },
         "lon": [
          -89.055702,
          -122.375
         ],
         "mode": "lines",
         "opacity": 0.25,
         "type": "scattergeo"
        },
        {
         "lat": [
          15.45259952545166,
          33.63669967651367
         ],
         "line": {
          "color": "red",
          "width": 1
         },
         "lon": [
          -87.92359924316406,
          -84.4281005859375
         ],
         "mode": "lines",
         "opacity": 0.08333333333333333,
         "type": "scattergeo"
        },
        {
         "lat": [
          15.45259952545166,
          40.69250106811523
         ],
         "line": {
          "color": "red",
          "width": 1
         },
         "lon": [
          -87.92359924316406,
          -74.168701171875
         ],
         "mode": "lines",
         "opacity": 0.08333333333333333,
         "type": "scattergeo"
        },
        {
         "lat": [
          15.45259952545166,
          26.072599411010746
         ],
         "line": {
          "color": "red",
          "width": 1
         },
         "lon": [
          -87.92359924316406,
          -80.15270233154297
         ],
         "mode": "lines",
         "opacity": 0.08333333333333333,
         "type": "scattergeo"
        },
        {
         "lat": [
          15.45259952545166,
          29.98439979553223
         ],
         "line": {
          "color": "red",
          "width": 1
         },
         "lon": [
          -87.92359924316406,
          -95.34140014648438
         ],
         "mode": "lines",
         "opacity": 0.08333333333333333,
         "type": "scattergeo"
        },
        {
         "lat": [
          15.45259952545166,
          40.63980103
         ],
         "line": {
          "color": "red",
          "width": 1
         },
         "lon": [
          -87.92359924316406,
          -73.77890015
         ],
         "mode": "lines",
         "opacity": 0.08333333333333333,
         "type": "scattergeo"
        },
        {
         "lat": [
          15.45259952545166,
          25.79319953918457
         ],
         "line": {
          "color": "red",
          "width": 1
         },
         "lon": [
          -87.92359924316406,
          -80.29060363769531
         ],
         "mode": "lines",
         "opacity": 0.3333333333333333,
         "type": "scattergeo"
        },
        {
         "lat": [
          -33.393001556396484,
          33.63669967651367
         ],
         "line": {
          "color": "red",
          "width": 1
         },
         "lon": [
          -70.78579711914062,
          -84.4281005859375
         ],
         "mode": "lines",
         "opacity": 0.16666666666666666,
         "type": "scattergeo"
        },
        {
         "lat": [
          -33.393001556396484,
          32.896800994873054
         ],
         "line": {
          "color": "red",
          "width": 1
         },
         "lon": [
          -70.78579711914062,
          -97.03800201416016
         ],
         "mode": "lines",
         "opacity": 0.25,
         "type": "scattergeo"
        },
        {
         "lat": [
          -33.393001556396484,
          40.63980103
         ],
         "line": {
          "color": "red",
          "width": 1
         },
         "lon": [
          -70.78579711914062,
          -73.77890015
         ],
         "mode": "lines",
         "opacity": 0.16666666666666666,
         "type": "scattergeo"
        },
        {
         "lat": [
          -33.393001556396484,
          25.79319953918457
         ],
         "line": {
          "color": "red",
          "width": 1
         },
         "lon": [
          -70.78579711914062,
          -80.29060363769531
         ],
         "mode": "lines",
         "opacity": 0.25,
         "type": "scattergeo"
        },
        {
         "lat": [
          18.42970085144,
          33.63669967651367
         ],
         "line": {
          "color": "red",
          "width": 1
         },
         "lon": [
          -69.668899536133,
          -84.4281005859375
         ],
         "mode": "lines",
         "opacity": 0.08333333333333333,
         "type": "scattergeo"
        },
        {
         "lat": [
          18.42970085144,
          42.36429977
         ],
         "line": {
          "color": "red",
          "width": 1
         },
         "lon": [
          -69.668899536133,
          -71.00520325
         ],
         "mode": "lines",
         "opacity": 0.08333333333333333,
         "type": "scattergeo"
        },
        {
         "lat": [
          18.42970085144,
          40.69250106811523
         ],
         "line": {
          "color": "red",
          "width": 1
         },
         "lon": [
          -69.668899536133,
          -74.168701171875
         ],
         "mode": "lines",
         "opacity": 0.08333333333333333,
         "type": "scattergeo"
        },
        {
         "lat": [
          18.42970085144,
          26.072599411010746
         ],
         "line": {
          "color": "red",
          "width": 1
         },
         "lon": [
          -69.668899536133,
          -80.15270233154297
         ],
         "mode": "lines",
         "opacity": 0.16666666666666666,
         "type": "scattergeo"
        },
        {
         "lat": [
          18.42970085144,
          40.63980103
         ],
         "line": {
          "color": "red",
          "width": 1
         },
         "lon": [
          -69.668899536133,
          -73.77890015
         ],
         "mode": "lines",
         "opacity": 0.16666666666666666,
         "type": "scattergeo"
        },
        {
         "lat": [
          18.42970085144,
          28.429399490356445
         ],
         "line": {
          "color": "red",
          "width": 1
         },
         "lon": [
          -69.668899536133,
          -81.30899810791016
         ],
         "mode": "lines",
         "opacity": 0.25,
         "type": "scattergeo"
        },
        {
         "lat": [
          18.42970085144,
          25.79319953918457
         ],
         "line": {
          "color": "red",
          "width": 1
         },
         "lon": [
          -69.668899536133,
          -80.29060363769531
         ],
         "mode": "lines",
         "opacity": 0.3333333333333333,
         "type": "scattergeo"
        },
        {
         "lat": [
          18.42970085144,
          39.87189865112305
         ],
         "line": {
          "color": "red",
          "width": 1
         },
         "lon": [
          -69.668899536133,
          -75.24109649658203
         ],
         "mode": "lines",
         "opacity": 0.16666666666666666,
         "type": "scattergeo"
        },
        {
         "lat": [
          23.15180015563965,
          33.63669967651367
         ],
         "line": {
          "color": "red",
          "width": 1
         },
         "lon": [
          -109.72100067138672,
          -84.4281005859375
         ],
         "mode": "lines",
         "opacity": 0.4166666666666667,
         "type": "scattergeo"
        },
        {
         "lat": [
          23.15180015563965,
          35.2140007019043
         ],
         "line": {
          "color": "red",
          "width": 1
         },
         "lon": [
          -109.72100067138672,
          -80.94309997558594
         ],
         "mode": "lines",
         "opacity": 0.16666666666666666,
         "type": "scattergeo"
        },
        {
         "lat": [
          23.15180015563965,
          39.861698150635
         ],
         "line": {
          "color": "red",
          "width": 1
         },
         "lon": [
          -109.72100067138672,
          -104.672996521
         ],
         "mode": "lines",
         "opacity": 0.25,
         "type": "scattergeo"
        },
        {
         "lat": [
          23.15180015563965,
          32.896800994873054
         ],
         "line": {
          "color": "red",
          "width": 1
         },
         "lon": [
          -109.72100067138672,
          -97.03800201416016
         ],
         "mode": "lines",
         "opacity": 0.25,
         "type": "scattergeo"
        },
        {
         "lat": [
          23.15180015563965,
          40.69250106811523
         ],
         "line": {
          "color": "red",
          "width": 1
         },
         "lon": [
          -109.72100067138672,
          -74.168701171875
         ],
         "mode": "lines",
         "opacity": 0.08333333333333333,
         "type": "scattergeo"
        },
        {
         "lat": [
          23.15180015563965,
          29.98439979553223
         ],
         "line": {
          "color": "red",
          "width": 1
         },
         "lon": [
          -109.72100067138672,
          -95.34140014648438
         ],
         "mode": "lines",
         "opacity": 0.08333333333333333,
         "type": "scattergeo"
        },
        {
         "lat": [
          23.15180015563965,
          33.94250107
         ],
         "line": {
          "color": "red",
          "width": 1
         },
         "lon": [
          -109.72100067138672,
          -118.40799709999999
         ],
         "mode": "lines",
         "opacity": 0.4166666666666667,
         "type": "scattergeo"
        },
        {
         "lat": [
          23.15180015563965,
          41.97859955
         ],
         "line": {
          "color": "red",
          "width": 1
         },
         "lon": [
          -109.72100067138672,
          -87.90480042
         ],
         "mode": "lines",
         "opacity": 0.3333333333333333,
         "type": "scattergeo"
        },
        {
         "lat": [
          23.15180015563965,
          33.43429946899414
         ],
         "line": {
          "color": "red",
          "width": 1
         },
         "lon": [
          -109.72100067138672,
          -112.01200103759766
         ],
         "mode": "lines",
         "opacity": 0.16666666666666666,
         "type": "scattergeo"
        },
        {
         "lat": [
          23.15180015563965,
          32.7336006165
         ],
         "line": {
          "color": "red",
          "width": 1
         },
         "lon": [
          -109.72100067138672,
          -117.190002441
         ],
         "mode": "lines",
         "opacity": 0.16666666666666666,
         "type": "scattergeo"
        },
        {
         "lat": [
          23.15180015563965,
          37.61899948120117
         ],
         "line": {
          "color": "red",
          "width": 1
         },
         "lon": [
          -109.72100067138672,
          -122.375
         ],
         "mode": "lines",
         "opacity": 0.3333333333333333,
         "type": "scattergeo"
        },
        {
         "lat": [
          23.15180015563965,
          37.36259841918945
         ],
         "line": {
          "color": "red",
          "width": 1
         },
         "lon": [
          -109.72100067138672,
          -121.9290008544922
         ],
         "mode": "lines",
         "opacity": 0.16666666666666666,
         "type": "scattergeo"
        },
        {
         "lat": [
          23.15180015563965,
          40.78839874267578
         ],
         "line": {
          "color": "red",
          "width": 1
         },
         "lon": [
          -109.72100067138672,
          -111.97799682617188
         ],
         "mode": "lines",
         "opacity": 0.16666666666666666,
         "type": "scattergeo"
        },
        {
         "lat": [
          23.15180015563965,
          33.67570114
         ],
         "line": {
          "color": "red",
          "width": 1
         },
         "lon": [
          -109.72100067138672,
          -117.86799620000001
         ],
         "mode": "lines",
         "opacity": 0.08333333333333333,
         "type": "scattergeo"
        },
        {
         "lat": [
          9.993860244750977,
          33.63669967651367
         ],
         "line": {
          "color": "red",
          "width": 1
         },
         "lon": [
          -84.20880126953125,
          -84.4281005859375
         ],
         "mode": "lines",
         "opacity": 0.16666666666666666,
         "type": "scattergeo"
        },
        {
         "lat": [
          9.993860244750977,
          35.2140007019043
         ],
         "line": {
          "color": "red",
          "width": 1
         },
         "lon": [
          -84.20880126953125,
          -80.94309997558594
         ],
         "mode": "lines",
         "opacity": 0.25,
         "type": "scattergeo"
        },
        {
         "lat": [
          9.993860244750977,
          39.861698150635
         ],
         "line": {
          "color": "red",
          "width": 1
         },
         "lon": [
          -84.20880126953125,
          -104.672996521
         ],
         "mode": "lines",
         "opacity": 0.08333333333333333,
         "type": "scattergeo"
        },
        {
         "lat": [
          9.993860244750977,
          32.896800994873054
         ],
         "line": {
          "color": "red",
          "width": 1
         },
         "lon": [
          -84.20880126953125,
          -97.03800201416016
         ],
         "mode": "lines",
         "opacity": 0.16666666666666666,
         "type": "scattergeo"
        },
        {
         "lat": [
          9.993860244750977,
          40.69250106811523
         ],
         "line": {
          "color": "red",
          "width": 1
         },
         "lon": [
          -84.20880126953125,
          -74.168701171875
         ],
         "mode": "lines",
         "opacity": 0.08333333333333333,
         "type": "scattergeo"
        },
        {
         "lat": [
          9.993860244750977,
          26.072599411010746
         ],
         "line": {
          "color": "red",
          "width": 1
         },
         "lon": [
          -84.20880126953125,
          -80.15270233154297
         ],
         "mode": "lines",
         "opacity": 0.16666666666666666,
         "type": "scattergeo"
        },
        {
         "lat": [
          9.993860244750977,
          38.94449997
         ],
         "line": {
          "color": "red",
          "width": 1
         },
         "lon": [
          -84.20880126953125,
          -77.45580292
         ],
         "mode": "lines",
         "opacity": 0.08333333333333333,
         "type": "scattergeo"
        },
        {
         "lat": [
          9.993860244750977,
          29.98439979553223
         ],
         "line": {
          "color": "red",
          "width": 1
         },
         "lon": [
          -84.20880126953125,
          -95.34140014648438
         ],
         "mode": "lines",
         "opacity": 0.08333333333333333,
         "type": "scattergeo"
        },
        {
         "lat": [
          9.993860244750977,
          40.63980103
         ],
         "line": {
          "color": "red",
          "width": 1
         },
         "lon": [
          -84.20880126953125,
          -73.77890015
         ],
         "mode": "lines",
         "opacity": 0.25,
         "type": "scattergeo"
        },
        {
         "lat": [
          9.993860244750977,
          33.94250107
         ],
         "line": {
          "color": "red",
          "width": 1
         },
         "lon": [
          -84.20880126953125,
          -118.40799709999999
         ],
         "mode": "lines",
         "opacity": 0.08333333333333333,
         "type": "scattergeo"
        },
        {
         "lat": [
          9.993860244750977,
          28.429399490356445
         ],
         "line": {
          "color": "red",
          "width": 1
         },
         "lon": [
          -84.20880126953125,
          -81.30899810791016
         ],
         "mode": "lines",
         "opacity": 0.08333333333333333,
         "type": "scattergeo"
        },
        {
         "lat": [
          9.993860244750977,
          25.79319953918457
         ],
         "line": {
          "color": "red",
          "width": 1
         },
         "lon": [
          -84.20880126953125,
          -80.29060363769531
         ],
         "mode": "lines",
         "opacity": 0.25,
         "type": "scattergeo"
        },
        {
         "lat": [
          9.993860244750977,
          41.97859955
         ],
         "line": {
          "color": "red",
          "width": 1
         },
         "lon": [
          -84.20880126953125,
          -87.90480042
         ],
         "mode": "lines",
         "opacity": 0.08333333333333333,
         "type": "scattergeo"
        },
        {
         "lat": [
          18.4393997192,
          33.63669967651367
         ],
         "line": {
          "color": "red",
          "width": 1
         },
         "lon": [
          -66.0018005371,
          -84.4281005859375
         ],
         "mode": "lines",
         "opacity": 0.6666666666666666,
         "type": "scattergeo"
        },
        {
         "lat": [
          18.4393997192,
          41.9388999939
         ],
         "line": {
          "color": "red",
          "width": 1
         },
         "lon": [
          -66.0018005371,
          -72.68319702149999
         ],
         "mode": "lines",
         "opacity": 0.08333333333333333,
         "type": "scattergeo"
        },
        {
         "lat": [
          18.4393997192,
          42.36429977
         ],
         "line": {
          "color": "red",
          "width": 1
         },
         "lon": [
          -66.0018005371,
          -71.00520325
         ],
         "mode": "lines",
         "opacity": 0.08333333333333333,
         "type": "scattergeo"
        },
        {
         "lat": [
          18.4393997192,
          39.17539978
         ],
         "line": {
          "color": "red",
          "width": 1
         },
         "lon": [
          -66.0018005371,
          -76.66829681
         ],
         "mode": "lines",
         "opacity": 0.08333333333333333,
         "type": "scattergeo"
        },
        {
         "lat": [
          18.4393997192,
          35.2140007019043
         ],
         "line": {
          "color": "red",
          "width": 1
         },
         "lon": [
          -66.0018005371,
          -80.94309997558594
         ],
         "mode": "lines",
         "opacity": 0.16666666666666666,
         "type": "scattergeo"
        },
        {
         "lat": [
          18.4393997192,
          38.8521
         ],
         "line": {
          "color": "red",
          "width": 1
         },
         "lon": [
          -66.0018005371,
          -77.037697
         ],
         "mode": "lines",
         "opacity": 0.08333333333333333,
         "type": "scattergeo"
        },
        {
         "lat": [
          18.4393997192,
          32.896800994873054
         ],
         "line": {
          "color": "red",
          "width": 1
         },
         "lon": [
          -66.0018005371,
          -97.03800201416016
         ],
         "mode": "lines",
         "opacity": 0.16666666666666666,
         "type": "scattergeo"
        },
        {
         "lat": [
          18.4393997192,
          42.212398529052734
         ],
         "line": {
          "color": "red",
          "width": 1
         },
         "lon": [
          -66.0018005371,
          -83.35340118408203
         ],
         "mode": "lines",
         "opacity": 0.08333333333333333,
         "type": "scattergeo"
        },
        {
         "lat": [
          18.4393997192,
          40.69250106811523
         ],
         "line": {
          "color": "red",
          "width": 1
         },
         "lon": [
          -66.0018005371,
          -74.168701171875
         ],
         "mode": "lines",
         "opacity": 0.16666666666666666,
         "type": "scattergeo"
        },
        {
         "lat": [
          18.4393997192,
          26.072599411010746
         ],
         "line": {
          "color": "red",
          "width": 1
         },
         "lon": [
          -66.0018005371,
          -80.15270233154297
         ],
         "mode": "lines",
         "opacity": 0.3333333333333333,
         "type": "scattergeo"
        },
        {
         "lat": [
          18.4393997192,
          38.94449997
         ],
         "line": {
          "color": "red",
          "width": 1
         },
         "lon": [
          -66.0018005371,
          -77.45580292
         ],
         "mode": "lines",
         "opacity": 0.08333333333333333,
         "type": "scattergeo"
        },
        {
         "lat": [
          18.4393997192,
          29.98439979553223
         ],
         "line": {
          "color": "red",
          "width": 1
         },
         "lon": [
          -66.0018005371,
          -95.34140014648438
         ],
         "mode": "lines",
         "opacity": 0.08333333333333333,
         "type": "scattergeo"
        },
        {
         "lat": [
          18.4393997192,
          30.49410057067871
         ],
         "line": {
          "color": "red",
          "width": 1
         },
         "lon": [
          -66.0018005371,
          -81.68789672851562
         ],
         "mode": "lines",
         "opacity": 0.08333333333333333,
         "type": "scattergeo"
        },
        {
         "lat": [
          18.4393997192,
          40.63980103
         ],
         "line": {
          "color": "red",
          "width": 1
         },
         "lon": [
          -66.0018005371,
          -73.77890015
         ],
         "mode": "lines",
         "opacity": 0.4166666666666667,
         "type": "scattergeo"
        },
        {
         "lat": [
          18.4393997192,
          28.429399490356445
         ],
         "line": {
          "color": "red",
          "width": 1
         },
         "lon": [
          -66.0018005371,
          -81.30899810791016
         ],
         "mode": "lines",
         "opacity": 0.3333333333333333,
         "type": "scattergeo"
        },
        {
         "lat": [
          18.4393997192,
          25.79319953918457
         ],
         "line": {
          "color": "red",
          "width": 1
         },
         "lon": [
          -66.0018005371,
          -80.29060363769531
         ],
         "mode": "lines",
         "opacity": 0.16666666666666666,
         "type": "scattergeo"
        },
        {
         "lat": [
          18.4393997192,
          34.05599975585937
         ],
         "line": {
          "color": "red",
          "width": 1
         },
         "lon": [
          -66.0018005371,
          -117.60099792480469
         ],
         "mode": "lines",
         "opacity": 0.08333333333333333,
         "type": "scattergeo"
        },
        {
         "lat": [
          18.4393997192,
          41.97859955
         ],
         "line": {
          "color": "red",
          "width": 1
         },
         "lon": [
          -66.0018005371,
          -87.90480042
         ],
         "mode": "lines",
         "opacity": 0.3333333333333333,
         "type": "scattergeo"
        },
        {
         "lat": [
          18.4393997192,
          26.68320083618164
         ],
         "line": {
          "color": "red",
          "width": 1
         },
         "lon": [
          -66.0018005371,
          -80.09559631347656
         ],
         "mode": "lines",
         "opacity": 0.08333333333333333,
         "type": "scattergeo"
        },
        {
         "lat": [
          18.4393997192,
          39.87189865112305
         ],
         "line": {
          "color": "red",
          "width": 1
         },
         "lon": [
          -66.0018005371,
          -75.24109649658203
         ],
         "mode": "lines",
         "opacity": 0.16666666666666666,
         "type": "scattergeo"
        },
        {
         "lat": [
          18.4393997192,
          27.975500106811523
         ],
         "line": {
          "color": "red",
          "width": 1
         },
         "lon": [
          -66.0018005371,
          -82.533203125
         ],
         "mode": "lines",
         "opacity": 0.16666666666666666,
         "type": "scattergeo"
        },
        {
         "lat": [
          17.311199188232422,
          25.79319953918457
         ],
         "line": {
          "color": "red",
          "width": 1
         },
         "lon": [
          -62.71870040893555,
          -80.29060363769531
         ],
         "mode": "lines",
         "opacity": 0.16666666666666666,
         "type": "scattergeo"
        },
        {
         "lat": [
          22.254299163800006,
          32.896800994873054
         ],
         "line": {
          "color": "red",
          "width": 1
         },
         "lon": [
          -100.930999756,
          -97.03800201416016
         ],
         "mode": "lines",
         "opacity": 0.16666666666666666,
         "type": "scattergeo"
        },
        {
         "lat": [
          22.254299163800006,
          29.98439979553223
         ],
         "line": {
          "color": "red",
          "width": 1
         },
         "lon": [
          -100.930999756,
          -95.34140014648438
         ],
         "mode": "lines",
         "opacity": 0.08333333333333333,
         "type": "scattergeo"
        },
        {
         "lat": [
          22.254299163800006,
          26.17580032
         ],
         "line": {
          "color": "red",
          "width": 1
         },
         "lon": [
          -100.930999756,
          -98.23860168
         ],
         "mode": "lines",
         "opacity": 0.08333333333333333,
         "type": "scattergeo"
        },
        {
         "lat": [
          25.54949951171875,
          29.98439979553223
         ],
         "line": {
          "color": "red",
          "width": 1
         },
         "lon": [
          -100.9290008544922,
          -95.34140014648438
         ],
         "mode": "lines",
         "opacity": 0.08333333333333333,
         "type": "scattergeo"
        },
        {
         "lat": [
          52.701999664307,
          42.36429977
         ],
         "line": {
          "color": "red",
          "width": 1
         },
         "lon": [
          -8.9248199462891,
          -71.00520325
         ],
         "mode": "lines",
         "opacity": 0.08333333333333333,
         "type": "scattergeo"
        },
        {
         "lat": [
          52.701999664307,
          40.69250106811523
         ],
         "line": {
          "color": "red",
          "width": 1
         },
         "lon": [
          -8.9248199462891,
          -74.168701171875
         ],
         "mode": "lines",
         "opacity": 0.16666666666666666,
         "type": "scattergeo"
        },
        {
         "lat": [
          52.701999664307,
          40.63980103
         ],
         "line": {
          "color": "red",
          "width": 1
         },
         "lon": [
          -8.9248199462891,
          -73.77890015
         ],
         "mode": "lines",
         "opacity": 0.08333333333333333,
         "type": "scattergeo"
        },
        {
         "lat": [
          -12.9086112976,
          25.79319953918457
         ],
         "line": {
          "color": "red",
          "width": 1
         },
         "lon": [
          -38.3224983215,
          -80.29060363769531
         ],
         "mode": "lines",
         "opacity": 0.25,
         "type": "scattergeo"
        },
        {
         "lat": [
          19.406099319458008,
          42.36429977
         ],
         "line": {
          "color": "red",
          "width": 1
         },
         "lon": [
          -70.60469818115234,
          -71.00520325
         ],
         "mode": "lines",
         "opacity": 0.08333333333333333,
         "type": "scattergeo"
        },
        {
         "lat": [
          19.406099319458008,
          40.69250106811523
         ],
         "line": {
          "color": "red",
          "width": 1
         },
         "lon": [
          -70.60469818115234,
          -74.168701171875
         ],
         "mode": "lines",
         "opacity": 0.08333333333333333,
         "type": "scattergeo"
        },
        {
         "lat": [
          19.406099319458008,
          26.072599411010746
         ],
         "line": {
          "color": "red",
          "width": 1
         },
         "lon": [
          -70.60469818115234,
          -80.15270233154297
         ],
         "mode": "lines",
         "opacity": 0.08333333333333333,
         "type": "scattergeo"
        },
        {
         "lat": [
          19.406099319458008,
          40.63980103
         ],
         "line": {
          "color": "red",
          "width": 1
         },
         "lon": [
          -70.60469818115234,
          -73.77890015
         ],
         "mode": "lines",
         "opacity": 0.16666666666666666,
         "type": "scattergeo"
        },
        {
         "lat": [
          19.406099319458008,
          25.79319953918457
         ],
         "line": {
          "color": "red",
          "width": 1
         },
         "lon": [
          -70.60469818115234,
          -80.29060363769531
         ],
         "mode": "lines",
         "opacity": 0.16666666666666666,
         "type": "scattergeo"
        },
        {
         "lat": [
          48.6898994446,
          33.63669967651367
         ],
         "line": {
          "color": "red",
          "width": 1
         },
         "lon": [
          9.22196006775,
          -84.4281005859375
         ],
         "mode": "lines",
         "opacity": 0.25,
         "type": "scattergeo"
        },
        {
         "lat": [
          48.6898994446,
          40.69250106811523
         ],
         "line": {
          "color": "red",
          "width": 1
         },
         "lon": [
          9.22196006775,
          -74.168701171875
         ],
         "mode": "lines",
         "opacity": 0.16666666666666666,
         "type": "scattergeo"
        },
        {
         "lat": [
          18.337299346923828,
          33.63669967651367
         ],
         "line": {
          "color": "red",
          "width": 1
         },
         "lon": [
          -64.97339630126953,
          -84.4281005859375
         ],
         "mode": "lines",
         "opacity": 0.25,
         "type": "scattergeo"
        },
        {
         "lat": [
          18.337299346923828,
          35.2140007019043
         ],
         "line": {
          "color": "red",
          "width": 1
         },
         "lon": [
          -64.97339630126953,
          -80.94309997558594
         ],
         "mode": "lines",
         "opacity": 0.16666666666666666,
         "type": "scattergeo"
        },
        {
         "lat": [
          18.337299346923828,
          40.69250106811523
         ],
         "line": {
          "color": "red",
          "width": 1
         },
         "lon": [
          -64.97339630126953,
          -74.168701171875
         ],
         "mode": "lines",
         "opacity": 0.08333333333333333,
         "type": "scattergeo"
        },
        {
         "lat": [
          18.337299346923828,
          26.072599411010746
         ],
         "line": {
          "color": "red",
          "width": 1
         },
         "lon": [
          -64.97339630126953,
          -80.15270233154297
         ],
         "mode": "lines",
         "opacity": 0.08333333333333333,
         "type": "scattergeo"
        },
        {
         "lat": [
          18.337299346923828,
          38.94449997
         ],
         "line": {
          "color": "red",
          "width": 1
         },
         "lon": [
          -64.97339630126953,
          -77.45580292
         ],
         "mode": "lines",
         "opacity": 0.08333333333333333,
         "type": "scattergeo"
        },
        {
         "lat": [
          18.337299346923828,
          40.63980103
         ],
         "line": {
          "color": "red",
          "width": 1
         },
         "lon": [
          -64.97339630126953,
          -73.77890015
         ],
         "mode": "lines",
         "opacity": 0.3333333333333333,
         "type": "scattergeo"
        },
        {
         "lat": [
          18.337299346923828,
          25.79319953918457
         ],
         "line": {
          "color": "red",
          "width": 1
         },
         "lon": [
          -64.97339630126953,
          -80.29060363769531
         ],
         "mode": "lines",
         "opacity": 0.25,
         "type": "scattergeo"
        },
        {
         "lat": [
          18.337299346923828,
          41.97859955
         ],
         "line": {
          "color": "red",
          "width": 1
         },
         "lon": [
          -64.97339630126953,
          -87.90480042
         ],
         "mode": "lines",
         "opacity": 0.08333333333333333,
         "type": "scattergeo"
        },
        {
         "lat": [
          18.337299346923828,
          39.87189865112305
         ],
         "line": {
          "color": "red",
          "width": 1
         },
         "lon": [
          -64.97339630126953,
          -75.24109649658203
         ],
         "mode": "lines",
         "opacity": 0.16666666666666666,
         "type": "scattergeo"
        },
        {
         "lat": [
          17.701900482177734,
          25.79319953918457
         ],
         "line": {
          "color": "red",
          "width": 1
         },
         "lon": [
          -64.79859924316406,
          -80.29060363769531
         ],
         "mode": "lines",
         "opacity": 0.16666666666666666,
         "type": "scattergeo"
        },
        {
         "lat": [
          55.972599,
          38.94449997
         ],
         "line": {
          "color": "red",
          "width": 1
         },
         "lon": [
          37.4146,
          -77.45580292
         ],
         "mode": "lines",
         "opacity": 0.16666666666666666,
         "type": "scattergeo"
        },
        {
         "lat": [
          55.972599,
          40.63980103
         ],
         "line": {
          "color": "red",
          "width": 1
         },
         "lon": [
          37.4146,
          -73.77890015
         ],
         "mode": "lines",
         "opacity": 0.16666666666666666,
         "type": "scattergeo"
        },
        {
         "lat": [
          55.972599,
          33.94250107
         ],
         "line": {
          "color": "red",
          "width": 1
         },
         "lon": [
          37.4146,
          -118.40799709999999
         ],
         "mode": "lines",
         "opacity": 0.16666666666666666,
         "type": "scattergeo"
        },
        {
         "lat": [
          55.972599,
          25.79319953918457
         ],
         "line": {
          "color": "red",
          "width": 1
         },
         "lon": [
          37.4146,
          -80.29060363769531
         ],
         "mode": "lines",
         "opacity": 0.16666666666666666,
         "type": "scattergeo"
        },
        {
         "lat": [
          18.0410003662,
          33.63669967651367
         ],
         "line": {
          "color": "red",
          "width": 1
         },
         "lon": [
          -63.108898162799996,
          -84.4281005859375
         ],
         "mode": "lines",
         "opacity": 0.08333333333333333,
         "type": "scattergeo"
        },
        {
         "lat": [
          18.0410003662,
          42.36429977
         ],
         "line": {
          "color": "red",
          "width": 1
         },
         "lon": [
          -63.108898162799996,
          -71.00520325
         ],
         "mode": "lines",
         "opacity": 0.08333333333333333,
         "type": "scattergeo"
        },
        {
         "lat": [
          18.0410003662,
          35.2140007019043
         ],
         "line": {
          "color": "red",
          "width": 1
         },
         "lon": [
          -63.108898162799996,
          -80.94309997558594
         ],
         "mode": "lines",
         "opacity": 0.16666666666666666,
         "type": "scattergeo"
        },
        {
         "lat": [
          18.0410003662,
          40.69250106811523
         ],
         "line": {
          "color": "red",
          "width": 1
         },
         "lon": [
          -63.108898162799996,
          -74.168701171875
         ],
         "mode": "lines",
         "opacity": 0.08333333333333333,
         "type": "scattergeo"
        },
        {
         "lat": [
          18.0410003662,
          26.072599411010746
         ],
         "line": {
          "color": "red",
          "width": 1
         },
         "lon": [
          -63.108898162799996,
          -80.15270233154297
         ],
         "mode": "lines",
         "opacity": 0.08333333333333333,
         "type": "scattergeo"
        },
        {
         "lat": [
          18.0410003662,
          38.94449997
         ],
         "line": {
          "color": "red",
          "width": 1
         },
         "lon": [
          -63.108898162799996,
          -77.45580292
         ],
         "mode": "lines",
         "opacity": 0.08333333333333333,
         "type": "scattergeo"
        },
        {
         "lat": [
          18.0410003662,
          40.63980103
         ],
         "line": {
          "color": "red",
          "width": 1
         },
         "lon": [
          -63.108898162799996,
          -73.77890015
         ],
         "mode": "lines",
         "opacity": 0.3333333333333333,
         "type": "scattergeo"
        },
        {
         "lat": [
          18.0410003662,
          25.79319953918457
         ],
         "line": {
          "color": "red",
          "width": 1
         },
         "lon": [
          -63.108898162799996,
          -80.29060363769531
         ],
         "mode": "lines",
         "opacity": 0.16666666666666666,
         "type": "scattergeo"
        },
        {
         "lat": [
          18.0410003662,
          41.97859955
         ],
         "line": {
          "color": "red",
          "width": 1
         },
         "lon": [
          -63.108898162799996,
          -87.90480042
         ],
         "mode": "lines",
         "opacity": 0.08333333333333333,
         "type": "scattergeo"
        },
        {
         "lat": [
          18.0410003662,
          39.87189865112305
         ],
         "line": {
          "color": "red",
          "width": 1
         },
         "lon": [
          -63.108898162799996,
          -75.24109649658203
         ],
         "mode": "lines",
         "opacity": 0.16666666666666666,
         "type": "scattergeo"
        },
        {
         "lat": [
          -33.94609832763672,
          32.896800994873054
         ],
         "line": {
          "color": "red",
          "width": 1
         },
         "lon": [
          151.177001953125,
          -97.03800201416016
         ],
         "mode": "lines",
         "opacity": 0.16666666666666666,
         "type": "scattergeo"
        },
        {
         "lat": [
          -33.94609832763672,
          21.318700790405273
         ],
         "line": {
          "color": "red",
          "width": 1
         },
         "lon": [
          151.177001953125,
          -157.9219970703125
         ],
         "mode": "lines",
         "opacity": 0.4166666666666667,
         "type": "scattergeo"
        },
        {
         "lat": [
          -33.94609832763672,
          33.94250107
         ],
         "line": {
          "color": "red",
          "width": 1
         },
         "lon": [
          151.177001953125,
          -118.40799709999999
         ],
         "mode": "lines",
         "opacity": 0.5,
         "type": "scattergeo"
        },
        {
         "lat": [
          -33.94609832763672,
          37.61899948120117
         ],
         "line": {
          "color": "red",
          "width": 1
         },
         "lon": [
          151.177001953125,
          -122.375
         ],
         "mode": "lines",
         "opacity": 0.16666666666666666,
         "type": "scattergeo"
        },
        {
         "lat": [
          11.149700164794922,
          40.63980103
         ],
         "line": {
          "color": "red",
          "width": 1
         },
         "lon": [
          -60.83219909667969,
          -73.77890015
         ],
         "mode": "lines",
         "opacity": 0.08333333333333333,
         "type": "scattergeo"
        },
        {
         "lat": [
          22.2964000702,
          29.98439979553223
         ],
         "line": {
          "color": "red",
          "width": 1
         },
         "lon": [
          -97.86589813229999,
          -95.34140014648438
         ],
         "mode": "lines",
         "opacity": 0.08333333333333333,
         "type": "scattergeo"
        },
        {
         "lat": [
          26.745300293000003,
          26.072599411010746
         ],
         "line": {
          "color": "red",
          "width": 1
         },
         "lon": [
          -77.3912963867,
          -80.15270233154297
         ],
         "mode": "lines",
         "opacity": 0.16666666666666666,
         "type": "scattergeo"
        },
        {
         "lat": [
          14.06089973449707,
          33.63669967651367
         ],
         "line": {
          "color": "red",
          "width": 1
         },
         "lon": [
          -87.21720123291016,
          -84.4281005859375
         ],
         "mode": "lines",
         "opacity": 0.08333333333333333,
         "type": "scattergeo"
        },
        {
         "lat": [
          14.06089973449707,
          29.98439979553223
         ],
         "line": {
          "color": "red",
          "width": 1
         },
         "lon": [
          -87.21720123291016,
          -95.34140014648438
         ],
         "mode": "lines",
         "opacity": 0.08333333333333333,
         "type": "scattergeo"
        },
        {
         "lat": [
          14.06089973449707,
          25.79319953918457
         ],
         "line": {
          "color": "red",
          "width": 1
         },
         "lon": [
          -87.21720123291016,
          -80.29060363769531
         ],
         "mode": "lines",
         "opacity": 0.16666666666666666,
         "type": "scattergeo"
        },
        {
         "lat": [
          19.3370990753,
          26.072599411010746
         ],
         "line": {
          "color": "red",
          "width": 1
         },
         "lon": [
          -99.5660018921,
          -80.15270233154297
         ],
         "mode": "lines",
         "opacity": 0.08333333333333333,
         "type": "scattergeo"
        },
        {
         "lat": [
          19.3370990753,
          36.08010101
         ],
         "line": {
          "color": "red",
          "width": 1
         },
         "lon": [
          -99.5660018921,
          -115.15200039999999
         ],
         "mode": "lines",
         "opacity": 0.08333333333333333,
         "type": "scattergeo"
        },
        {
         "lat": [
          19.3370990753,
          29.533700942993164
         ],
         "line": {
          "color": "red",
          "width": 1
         },
         "lon": [
          -99.5660018921,
          -98.46980285644531
         ],
         "mode": "lines",
         "opacity": 0.08333333333333333,
         "type": "scattergeo"
        },
        {
         "lat": [
          32.011398315429695,
          40.69250106811523
         ],
         "line": {
          "color": "red",
          "width": 1
         },
         "lon": [
          34.88669967651367,
          -74.168701171875
         ],
         "mode": "lines",
         "opacity": 0.16666666666666666,
         "type": "scattergeo"
        },
        {
         "lat": [
          32.011398315429695,
          40.63980103
         ],
         "line": {
          "color": "red",
          "width": 1
         },
         "lon": [
          34.88669967651367,
          -73.77890015
         ],
         "mode": "lines",
         "opacity": 0.16666666666666666,
         "type": "scattergeo"
        },
        {
         "lat": [
          32.011398315429695,
          33.94250107
         ],
         "line": {
          "color": "red",
          "width": 1
         },
         "lon": [
          34.88669967651367,
          -118.40799709999999
         ],
         "mode": "lines",
         "opacity": 0.08333333333333333,
         "type": "scattergeo"
        },
        {
         "lat": [
          32.011398315429695,
          39.87189865112305
         ],
         "line": {
          "color": "red",
          "width": 1
         },
         "lon": [
          34.88669967651367,
          -75.24109649658203
         ],
         "mode": "lines",
         "opacity": 0.16666666666666666,
         "type": "scattergeo"
        },
        {
         "lat": [
          25.0777,
          21.318700790405273
         ],
         "line": {
          "color": "red",
          "width": 1
         },
         "lon": [
          121.233002,
          -157.9219970703125
         ],
         "mode": "lines",
         "opacity": 0.16666666666666666,
         "type": "scattergeo"
        },
        {
         "lat": [
          25.0777,
          40.63980103
         ],
         "line": {
          "color": "red",
          "width": 1
         },
         "lon": [
          121.233002,
          -73.77890015
         ],
         "mode": "lines",
         "opacity": 0.08333333333333333,
         "type": "scattergeo"
        },
        {
         "lat": [
          25.0777,
          33.94250107
         ],
         "line": {
          "color": "red",
          "width": 1
         },
         "lon": [
          121.233002,
          -118.40799709999999
         ],
         "mode": "lines",
         "opacity": 0.3333333333333333,
         "type": "scattergeo"
        },
        {
         "lat": [
          25.0777,
          47.44900131225586
         ],
         "line": {
          "color": "red",
          "width": 1
         },
         "lon": [
          121.233002,
          -122.30899810791016
         ],
         "mode": "lines",
         "opacity": 0.16666666666666666,
         "type": "scattergeo"
        },
        {
         "lat": [
          25.0777,
          37.61899948120117
         ],
         "line": {
          "color": "red",
          "width": 1
         },
         "lon": [
          121.233002,
          -122.375
         ],
         "mode": "lines",
         "opacity": 0.4166666666666667,
         "type": "scattergeo"
        },
        {
         "lat": [
          25.568300247199996,
          32.896800994873054
         ],
         "line": {
          "color": "red",
          "width": 1
         },
         "lon": [
          -103.41100311299999,
          -97.03800201416016
         ],
         "mode": "lines",
         "opacity": 0.16666666666666666,
         "type": "scattergeo"
        },
        {
         "lat": [
          25.568300247199996,
          29.98439979553223
         ],
         "line": {
          "color": "red",
          "width": 1
         },
         "lon": [
          -103.41100311299999,
          -95.34140014648438
         ],
         "mode": "lines",
         "opacity": 0.08333333333333333,
         "type": "scattergeo"
        },
        {
         "lat": [
          52.559700012200004,
          40.69250106811523
         ],
         "line": {
          "color": "red",
          "width": 1
         },
         "lon": [
          13.287699699400001,
          -74.168701171875
         ],
         "mode": "lines",
         "opacity": 0.16666666666666666,
         "type": "scattergeo"
        },
        {
         "lat": [
          52.559700012200004,
          40.63980103
         ],
         "line": {
          "color": "red",
          "width": 1
         },
         "lon": [
          13.287699699400001,
          -73.77890015
         ],
         "mode": "lines",
         "opacity": 0.16666666666666666,
         "type": "scattergeo"
        },
        {
         "lat": [
          52.559700012200004,
          25.79319953918457
         ],
         "line": {
          "color": "red",
          "width": 1
         },
         "lon": [
          13.287699699400001,
          -80.29060363769531
         ],
         "mode": "lines",
         "opacity": 0.16666666666666666,
         "type": "scattergeo"
        },
        {
         "lat": [
          52.559700012200004,
          41.97859955
         ],
         "line": {
          "color": "red",
          "width": 1
         },
         "lon": [
          13.287699699400001,
          -87.90480042
         ],
         "mode": "lines",
         "opacity": 0.16666666666666666,
         "type": "scattergeo"
        },
        {
         "lat": [
          -0.129166666667,
          33.63669967651367
         ],
         "line": {
          "color": "red",
          "width": 1
         },
         "lon": [
          -78.3575,
          -84.4281005859375
         ],
         "mode": "lines",
         "opacity": 0.08333333333333333,
         "type": "scattergeo"
        },
        {
         "lat": [
          -0.129166666667,
          29.98439979553223
         ],
         "line": {
          "color": "red",
          "width": 1
         },
         "lon": [
          -78.3575,
          -95.34140014648438
         ],
         "mode": "lines",
         "opacity": 0.08333333333333333,
         "type": "scattergeo"
        },
        {
         "lat": [
          -0.129166666667,
          25.79319953918457
         ],
         "line": {
          "color": "red",
          "width": 1
         },
         "lon": [
          -78.3575,
          -80.29060363769531
         ],
         "mode": "lines",
         "opacity": 0.16666666666666666,
         "type": "scattergeo"
        },
        {
         "lat": [
          19.396699905395508,
          33.94250107
         ],
         "line": {
          "color": "red",
          "width": 1
         },
         "lon": [
          -102.03900146484376,
          -118.40799709999999
         ],
         "mode": "lines",
         "opacity": 0.08333333333333333,
         "type": "scattergeo"
        },
        {
         "lat": [
          13.7332,
          33.63669967651367
         ],
         "line": {
          "color": "red",
          "width": 1
         },
         "lon": [
          -60.952599,
          -84.4281005859375
         ],
         "mode": "lines",
         "opacity": 0.08333333333333333,
         "type": "scattergeo"
        },
        {
         "lat": [
          13.7332,
          35.2140007019043
         ],
         "line": {
          "color": "red",
          "width": 1
         },
         "lon": [
          -60.952599,
          -80.94309997558594
         ],
         "mode": "lines",
         "opacity": 0.16666666666666666,
         "type": "scattergeo"
        },
        {
         "lat": [
          13.7332,
          40.69250106811523
         ],
         "line": {
          "color": "red",
          "width": 1
         },
         "lon": [
          -60.952599,
          -74.168701171875
         ],
         "mode": "lines",
         "opacity": 0.08333333333333333,
         "type": "scattergeo"
        },
        {
         "lat": [
          13.7332,
          40.63980103
         ],
         "line": {
          "color": "red",
          "width": 1
         },
         "lon": [
          -60.952599,
          -73.77890015
         ],
         "mode": "lines",
         "opacity": 0.08333333333333333,
         "type": "scattergeo"
        },
        {
         "lat": [
          13.7332,
          25.79319953918457
         ],
         "line": {
          "color": "red",
          "width": 1
         },
         "lon": [
          -60.952599,
          -80.29060363769531
         ],
         "mode": "lines",
         "opacity": 0.16666666666666666,
         "type": "scattergeo"
        },
        {
         "lat": [
          45.505299,
          40.63980103
         ],
         "line": {
          "color": "red",
          "width": 1
         },
         "lon": [
          12.3519,
          -73.77890015
         ],
         "mode": "lines",
         "opacity": 0.16666666666666666,
         "type": "scattergeo"
        },
        {
         "lat": [
          45.505299,
          39.87189865112305
         ],
         "line": {
          "color": "red",
          "width": 1
         },
         "lon": [
          12.3519,
          -75.24109649658203
         ],
         "mode": "lines",
         "opacity": 0.16666666666666666,
         "type": "scattergeo"
        },
        {
         "lat": [
          19.145900726300003,
          29.98439979553223
         ],
         "line": {
          "color": "red",
          "width": 1
         },
         "lon": [
          -96.1873016357,
          -95.34140014648438
         ],
         "mode": "lines",
         "opacity": 0.08333333333333333,
         "type": "scattergeo"
        },
        {
         "lat": [
          48.110298156738004,
          38.94449997
         ],
         "line": {
          "color": "red",
          "width": 1
         },
         "lon": [
          16.569700241089002,
          -77.45580292
         ],
         "mode": "lines",
         "opacity": 0.16666666666666666,
         "type": "scattergeo"
        },
        {
         "lat": [
          48.110298156738004,
          40.63980103
         ],
         "line": {
          "color": "red",
          "width": 1
         },
         "lon": [
          16.569700241089002,
          -73.77890015
         ],
         "mode": "lines",
         "opacity": 0.16666666666666666,
         "type": "scattergeo"
        },
        {
         "lat": [
          48.110298156738004,
          41.97859955
         ],
         "line": {
          "color": "red",
          "width": 1
         },
         "lon": [
          16.569700241089002,
          -87.90480042
         ],
         "mode": "lines",
         "opacity": 0.16666666666666666,
         "type": "scattergeo"
        },
        {
         "lat": [
          55.591499328599994,
          40.63980103
         ],
         "line": {
          "color": "red",
          "width": 1
         },
         "lon": [
          37.2615013123,
          -73.77890015
         ],
         "mode": "lines",
         "opacity": 0.08333333333333333,
         "type": "scattergeo"
        },
        {
         "lat": [
          55.591499328599994,
          33.94250107
         ],
         "line": {
          "color": "red",
          "width": 1
         },
         "lon": [
          37.2615013123,
          -118.40799709999999
         ],
         "mode": "lines",
         "opacity": 0.08333333333333333,
         "type": "scattergeo"
        },
        {
         "lat": [
          55.591499328599994,
          25.79319953918457
         ],
         "line": {
          "color": "red",
          "width": 1
         },
         "lon": [
          37.2615013123,
          -80.29060363769531
         ],
         "mode": "lines",
         "opacity": 0.08333333333333333,
         "type": "scattergeo"
        },
        {
         "lat": [
          17.996999740600586,
          29.98439979553223
         ],
         "line": {
          "color": "red",
          "width": 1
         },
         "lon": [
          -92.81739807128906,
          -95.34140014648438
         ],
         "mode": "lines",
         "opacity": 0.08333333333333333,
         "type": "scattergeo"
        },
        {
         "lat": [
          -17.644800186157227,
          25.79319953918457
         ],
         "line": {
          "color": "red",
          "width": 1
         },
         "lon": [
          -63.1353988647461,
          -80.29060363769531
         ],
         "mode": "lines",
         "opacity": 0.16666666666666666,
         "type": "scattergeo"
        },
        {
         "lat": [
          52.1656990051,
          40.63980103
         ],
         "line": {
          "color": "red",
          "width": 1
         },
         "lon": [
          20.9671001434,
          -73.77890015
         ],
         "mode": "lines",
         "opacity": 0.08333333333333333,
         "type": "scattergeo"
        },
        {
         "lat": [
          52.1656990051,
          41.97859955
         ],
         "line": {
          "color": "red",
          "width": 1
         },
         "lon": [
          20.9671001434,
          -87.90480042
         ],
         "mode": "lines",
         "opacity": 0.08333333333333333,
         "type": "scattergeo"
        },
        {
         "lat": [
          53.309700012200004,
          39.861698150635
         ],
         "line": {
          "color": "red",
          "width": 1
         },
         "lon": [
          -113.580001831,
          -104.672996521
         ],
         "mode": "lines",
         "opacity": 0.16666666666666666,
         "type": "scattergeo"
        },
        {
         "lat": [
          53.309700012200004,
          32.896800994873054
         ],
         "line": {
          "color": "red",
          "width": 1
         },
         "lon": [
          -113.580001831,
          -97.03800201416016
         ],
         "mode": "lines",
         "opacity": 0.08333333333333333,
         "type": "scattergeo"
        },
        {
         "lat": [
          53.309700012200004,
          40.69250106811523
         ],
         "line": {
          "color": "red",
          "width": 1
         },
         "lon": [
          -113.580001831,
          -74.168701171875
         ],
         "mode": "lines",
         "opacity": 0.16666666666666666,
         "type": "scattergeo"
        },
        {
         "lat": [
          53.309700012200004,
          29.98439979553223
         ],
         "line": {
          "color": "red",
          "width": 1
         },
         "lon": [
          -113.580001831,
          -95.34140014648438
         ],
         "mode": "lines",
         "opacity": 0.16666666666666666,
         "type": "scattergeo"
        },
        {
         "lat": [
          53.309700012200004,
          36.08010101
         ],
         "line": {
          "color": "red",
          "width": 1
         },
         "lon": [
          -113.580001831,
          -115.15200039999999
         ],
         "mode": "lines",
         "opacity": 0.16666666666666666,
         "type": "scattergeo"
        },
        {
         "lat": [
          53.309700012200004,
          33.94250107
         ],
         "line": {
          "color": "red",
          "width": 1
         },
         "lon": [
          -113.580001831,
          -118.40799709999999
         ],
         "mode": "lines",
         "opacity": 0.25,
         "type": "scattergeo"
        },
        {
         "lat": [
          53.309700012200004,
          44.8819999695
         ],
         "line": {
          "color": "red",
          "width": 1
         },
         "lon": [
          -113.580001831,
          -93.22180175780001
         ],
         "mode": "lines",
         "opacity": 0.08333333333333333,
         "type": "scattergeo"
        },
        {
         "lat": [
          53.309700012200004,
          41.97859955
         ],
         "line": {
          "color": "red",
          "width": 1
         },
         "lon": [
          -113.580001831,
          -87.90480042
         ],
         "mode": "lines",
         "opacity": 0.16666666666666666,
         "type": "scattergeo"
        },
        {
         "lat": [
          53.309700012200004,
          33.43429946899414
         ],
         "line": {
          "color": "red",
          "width": 1
         },
         "lon": [
          -113.580001831,
          -112.01200103759766
         ],
         "mode": "lines",
         "opacity": 0.25,
         "type": "scattergeo"
        },
        {
         "lat": [
          53.309700012200004,
          33.829700469970696
         ],
         "line": {
          "color": "red",
          "width": 1
         },
         "lon": [
          -113.580001831,
          -116.50700378417969
         ],
         "mode": "lines",
         "opacity": 0.08333333333333333,
         "type": "scattergeo"
        },
        {
         "lat": [
          53.309700012200004,
          47.44900131225586
         ],
         "line": {
          "color": "red",
          "width": 1
         },
         "lon": [
          -113.580001831,
          -122.30899810791016
         ],
         "mode": "lines",
         "opacity": 0.08333333333333333,
         "type": "scattergeo"
        },
        {
         "lat": [
          53.309700012200004,
          37.61899948120117
         ],
         "line": {
          "color": "red",
          "width": 1
         },
         "lon": [
          -113.580001831,
          -122.375
         ],
         "mode": "lines",
         "opacity": 0.16666666666666666,
         "type": "scattergeo"
        },
        {
         "lat": [
          44.880798339799995,
          42.36429977
         ],
         "line": {
          "color": "red",
          "width": 1
         },
         "lon": [
          -63.508598327600005,
          -71.00520325
         ],
         "mode": "lines",
         "opacity": 0.16666666666666666,
         "type": "scattergeo"
        },
        {
         "lat": [
          44.880798339799995,
          38.8521
         ],
         "line": {
          "color": "red",
          "width": 1
         },
         "lon": [
          -63.508598327600005,
          -77.037697
         ],
         "mode": "lines",
         "opacity": 0.16666666666666666,
         "type": "scattergeo"
        },
        {
         "lat": [
          44.880798339799995,
          40.69250106811523
         ],
         "line": {
          "color": "red",
          "width": 1
         },
         "lon": [
          -63.508598327600005,
          -74.168701171875
         ],
         "mode": "lines",
         "opacity": 0.08333333333333333,
         "type": "scattergeo"
        },
        {
         "lat": [
          44.880798339799995,
          40.77719879
         ],
         "line": {
          "color": "red",
          "width": 1
         },
         "lon": [
          -63.508598327600005,
          -73.87259674
         ],
         "mode": "lines",
         "opacity": 0.16666666666666666,
         "type": "scattergeo"
        },
        {
         "lat": [
          44.880798339799995,
          28.429399490356445
         ],
         "line": {
          "color": "red",
          "width": 1
         },
         "lon": [
          -63.508598327600005,
          -81.30899810791016
         ],
         "mode": "lines",
         "opacity": 0.16666666666666666,
         "type": "scattergeo"
        },
        {
         "lat": [
          44.880798339799995,
          41.97859955
         ],
         "line": {
          "color": "red",
          "width": 1
         },
         "lon": [
          -63.508598327600005,
          -87.90480042
         ],
         "mode": "lines",
         "opacity": 0.16666666666666666,
         "type": "scattergeo"
        },
        {
         "lat": [
          44.880798339799995,
          39.87189865112305
         ],
         "line": {
          "color": "red",
          "width": 1
         },
         "lon": [
          -63.508598327600005,
          -75.24109649658203
         ],
         "mode": "lines",
         "opacity": 0.16666666666666666,
         "type": "scattergeo"
        },
        {
         "lat": [
          43.4608001709,
          41.97859955
         ],
         "line": {
          "color": "red",
          "width": 1
         },
         "lon": [
          -80.3786010742,
          -87.90480042
         ],
         "mode": "lines",
         "opacity": 0.16666666666666666,
         "type": "scattergeo"
        },
        {
         "lat": [
          49.9561004639,
          33.94250107
         ],
         "line": {
          "color": "red",
          "width": 1
         },
         "lon": [
          -119.377998352,
          -118.40799709999999
         ],
         "mode": "lines",
         "opacity": 0.16666666666666666,
         "type": "scattergeo"
        },
        {
         "lat": [
          49.9561004639,
          47.44900131225586
         ],
         "line": {
          "color": "red",
          "width": 1
         },
         "lon": [
          -119.377998352,
          -122.30899810791016
         ],
         "mode": "lines",
         "opacity": 0.08333333333333333,
         "type": "scattergeo"
        },
        {
         "lat": [
          56.653301238999994,
          39.861698150635
         ],
         "line": {
          "color": "red",
          "width": 1
         },
         "lon": [
          -111.22200012200001,
          -104.672996521
         ],
         "mode": "lines",
         "opacity": 0.16666666666666666,
         "type": "scattergeo"
        },
        {
         "lat": [
          45.3224983215332,
          42.36429977
         ],
         "line": {
          "color": "red",
          "width": 1
         },
         "lon": [
          -75.66919708251953,
          -71.00520325
         ],
         "mode": "lines",
         "opacity": 0.16666666666666666,
         "type": "scattergeo"
        },
        {
         "lat": [
          45.3224983215332,
          35.2140007019043
         ],
         "line": {
          "color": "red",
          "width": 1
         },
         "lon": [
          -75.66919708251953,
          -80.94309997558594
         ],
         "mode": "lines",
         "opacity": 0.16666666666666666,
         "type": "scattergeo"
        },
        {
         "lat": [
          45.3224983215332,
          38.8521
         ],
         "line": {
          "color": "red",
          "width": 1
         },
         "lon": [
          -75.66919708251953,
          -77.037697
         ],
         "mode": "lines",
         "opacity": 0.08333333333333333,
         "type": "scattergeo"
        },
        {
         "lat": [
          45.3224983215332,
          42.212398529052734
         ],
         "line": {
          "color": "red",
          "width": 1
         },
         "lon": [
          -75.66919708251953,
          -83.35340118408203
         ],
         "mode": "lines",
         "opacity": 0.08333333333333333,
         "type": "scattergeo"
        },
        {
         "lat": [
          45.3224983215332,
          40.69250106811523
         ],
         "line": {
          "color": "red",
          "width": 1
         },
         "lon": [
          -75.66919708251953,
          -74.168701171875
         ],
         "mode": "lines",
         "opacity": 0.08333333333333333,
         "type": "scattergeo"
        },
        {
         "lat": [
          45.3224983215332,
          38.94449997
         ],
         "line": {
          "color": "red",
          "width": 1
         },
         "lon": [
          -75.66919708251953,
          -77.45580292
         ],
         "mode": "lines",
         "opacity": 0.16666666666666666,
         "type": "scattergeo"
        },
        {
         "lat": [
          45.3224983215332,
          40.77719879
         ],
         "line": {
          "color": "red",
          "width": 1
         },
         "lon": [
          -75.66919708251953,
          -73.87259674
         ],
         "mode": "lines",
         "opacity": 0.16666666666666666,
         "type": "scattergeo"
        },
        {
         "lat": [
          45.3224983215332,
          41.97859955
         ],
         "line": {
          "color": "red",
          "width": 1
         },
         "lon": [
          -75.66919708251953,
          -87.90480042
         ],
         "mode": "lines",
         "opacity": 0.16666666666666666,
         "type": "scattergeo"
        },
        {
         "lat": [
          45.3224983215332,
          39.87189865112305
         ],
         "line": {
          "color": "red",
          "width": 1
         },
         "lon": [
          -75.66919708251953,
          -75.24109649658203
         ],
         "mode": "lines",
         "opacity": 0.16666666666666666,
         "type": "scattergeo"
        },
        {
         "lat": [
          46.7911,
          40.69250106811523
         ],
         "line": {
          "color": "red",
          "width": 1
         },
         "lon": [
          -71.393303,
          -74.168701171875
         ],
         "mode": "lines",
         "opacity": 0.08333333333333333,
         "type": "scattergeo"
        },
        {
         "lat": [
          46.7911,
          41.97859955
         ],
         "line": {
          "color": "red",
          "width": 1
         },
         "lon": [
          -71.393303,
          -87.90480042
         ],
         "mode": "lines",
         "opacity": 0.16666666666666666,
         "type": "scattergeo"
        },
        {
         "lat": [
          46.7911,
          39.87189865112305
         ],
         "line": {
          "color": "red",
          "width": 1
         },
         "lon": [
          -71.393303,
          -75.24109649658203
         ],
         "mode": "lines",
         "opacity": 0.16666666666666666,
         "type": "scattergeo"
        },
        {
         "lat": [
          46.11220169067383,
          40.69250106811523
         ],
         "line": {
          "color": "red",
          "width": 1
         },
         "lon": [
          -64.67859649658203,
          -74.168701171875
         ],
         "mode": "lines",
         "opacity": 0.08333333333333333,
         "type": "scattergeo"
        },
        {
         "lat": [
          46.11220169067383,
          28.429399490356445
         ],
         "line": {
          "color": "red",
          "width": 1
         },
         "lon": [
          -64.67859649658203,
          -81.30899810791016
         ],
         "mode": "lines",
         "opacity": 0.16666666666666666,
         "type": "scattergeo"
        },
        {
         "lat": [
          50.43190002441406,
          39.861698150635
         ],
         "line": {
          "color": "red",
          "width": 1
         },
         "lon": [
          -104.66600036621094,
          -104.672996521
         ],
         "mode": "lines",
         "opacity": 0.16666666666666666,
         "type": "scattergeo"
        },
        {
         "lat": [
          50.43190002441406,
          36.08010101
         ],
         "line": {
          "color": "red",
          "width": 1
         },
         "lon": [
          -104.66600036621094,
          -115.15200039999999
         ],
         "mode": "lines",
         "opacity": 0.08333333333333333,
         "type": "scattergeo"
        },
        {
         "lat": [
          50.43190002441406,
          44.8819999695
         ],
         "line": {
          "color": "red",
          "width": 1
         },
         "lon": [
          -104.66600036621094,
          -93.22180175780001
         ],
         "mode": "lines",
         "opacity": 0.08333333333333333,
         "type": "scattergeo"
        },
        {
         "lat": [
          50.43190002441406,
          41.97859955
         ],
         "line": {
          "color": "red",
          "width": 1
         },
         "lon": [
          -104.66600036621094,
          -87.90480042
         ],
         "mode": "lines",
         "opacity": 0.16666666666666666,
         "type": "scattergeo"
        },
        {
         "lat": [
          43.627499,
          42.36429977
         ],
         "line": {
          "color": "red",
          "width": 1
         },
         "lon": [
          -79.396202,
          -71.00520325
         ],
         "mode": "lines",
         "opacity": 0.08333333333333333,
         "type": "scattergeo"
        },
        {
         "lat": [
          43.627499,
          40.69250106811523
         ],
         "line": {
          "color": "red",
          "width": 1
         },
         "lon": [
          -79.396202,
          -74.168701171875
         ],
         "mode": "lines",
         "opacity": 0.08333333333333333,
         "type": "scattergeo"
        },
        {
         "lat": [
          43.627499,
          38.94449997
         ],
         "line": {
          "color": "red",
          "width": 1
         },
         "lon": [
          -79.396202,
          -77.45580292
         ],
         "mode": "lines",
         "opacity": 0.08333333333333333,
         "type": "scattergeo"
        },
        {
         "lat": [
          43.627499,
          41.7859992980957
         ],
         "line": {
          "color": "red",
          "width": 1
         },
         "lon": [
          -79.396202,
          -87.75240325927734
         ],
         "mode": "lines",
         "opacity": 0.08333333333333333,
         "type": "scattergeo"
        },
        {
         "lat": [
          43.627499,
          33.6796989441
         ],
         "line": {
          "color": "red",
          "width": 1
         },
         "lon": [
          -79.396202,
          -78.9282989502
         ],
         "mode": "lines",
         "opacity": 0.08333333333333333,
         "type": "scattergeo"
        },
        {
         "lat": [
          45.4706001282,
          33.63669967651367
         ],
         "line": {
          "color": "red",
          "width": 1
         },
         "lon": [
          -73.7407989502,
          -84.4281005859375
         ],
         "mode": "lines",
         "opacity": 0.25,
         "type": "scattergeo"
        },
        {
         "lat": [
          45.4706001282,
          41.9388999939
         ],
         "line": {
          "color": "red",
          "width": 1
         },
         "lon": [
          -73.7407989502,
          -72.68319702149999
         ],
         "mode": "lines",
         "opacity": 0.16666666666666666,
         "type": "scattergeo"
        },
        {
         "lat": [
          45.4706001282,
          42.36429977
         ],
         "line": {
          "color": "red",
          "width": 1
         },
         "lon": [
          -73.7407989502,
          -71.00520325
         ],
         "mode": "lines",
         "opacity": 0.16666666666666666,
         "type": "scattergeo"
        },
        {
         "lat": [
          45.4706001282,
          35.2140007019043
         ],
         "line": {
          "color": "red",
          "width": 1
         },
         "lon": [
          -73.7407989502,
          -80.94309997558594
         ],
         "mode": "lines",
         "opacity": 0.16666666666666666,
         "type": "scattergeo"
        },
        {
         "lat": [
          45.4706001282,
          38.8521
         ],
         "line": {
          "color": "red",
          "width": 1
         },
         "lon": [
          -73.7407989502,
          -77.037697
         ],
         "mode": "lines",
         "opacity": 0.25,
         "type": "scattergeo"
        },
        {
         "lat": [
          45.4706001282,
          39.861698150635
         ],
         "line": {
          "color": "red",
          "width": 1
         },
         "lon": [
          -73.7407989502,
          -104.672996521
         ],
         "mode": "lines",
         "opacity": 0.16666666666666666,
         "type": "scattergeo"
        },
        {
         "lat": [
          45.4706001282,
          32.896800994873054
         ],
         "line": {
          "color": "red",
          "width": 1
         },
         "lon": [
          -73.7407989502,
          -97.03800201416016
         ],
         "mode": "lines",
         "opacity": 0.25,
         "type": "scattergeo"
        },
        {
         "lat": [
          45.4706001282,
          42.212398529052734
         ],
         "line": {
          "color": "red",
          "width": 1
         },
         "lon": [
          -73.7407989502,
          -83.35340118408203
         ],
         "mode": "lines",
         "opacity": 0.3333333333333333,
         "type": "scattergeo"
        },
        {
         "lat": [
          45.4706001282,
          40.69250106811523
         ],
         "line": {
          "color": "red",
          "width": 1
         },
         "lon": [
          -73.7407989502,
          -74.168701171875
         ],
         "mode": "lines",
         "opacity": 0.16666666666666666,
         "type": "scattergeo"
        },
        {
         "lat": [
          45.4706001282,
          26.072599411010746
         ],
         "line": {
          "color": "red",
          "width": 1
         },
         "lon": [
          -73.7407989502,
          -80.15270233154297
         ],
         "mode": "lines",
         "opacity": 0.25,
         "type": "scattergeo"
        },
        {
         "lat": [
          45.4706001282,
          38.94449997
         ],
         "line": {
          "color": "red",
          "width": 1
         },
         "lon": [
          -73.7407989502,
          -77.45580292
         ],
         "mode": "lines",
         "opacity": 0.16666666666666666,
         "type": "scattergeo"
        },
        {
         "lat": [
          45.4706001282,
          29.98439979553223
         ],
         "line": {
          "color": "red",
          "width": 1
         },
         "lon": [
          -73.7407989502,
          -95.34140014648438
         ],
         "mode": "lines",
         "opacity": 0.16666666666666666,
         "type": "scattergeo"
        },
        {
         "lat": [
          45.4706001282,
          40.63980103
         ],
         "line": {
          "color": "red",
          "width": 1
         },
         "lon": [
          -73.7407989502,
          -73.77890015
         ],
         "mode": "lines",
         "opacity": 0.5,
         "type": "scattergeo"
        },
        {
         "lat": [
          45.4706001282,
          36.08010101
         ],
         "line": {
          "color": "red",
          "width": 1
         },
         "lon": [
          -73.7407989502,
          -115.15200039999999
         ],
         "mode": "lines",
         "opacity": 0.16666666666666666,
         "type": "scattergeo"
        },
        {
         "lat": [
          45.4706001282,
          33.94250107
         ],
         "line": {
          "color": "red",
          "width": 1
         },
         "lon": [
          -73.7407989502,
          -118.40799709999999
         ],
         "mode": "lines",
         "opacity": 0.16666666666666666,
         "type": "scattergeo"
        },
        {
         "lat": [
          45.4706001282,
          40.77719879
         ],
         "line": {
          "color": "red",
          "width": 1
         },
         "lon": [
          -73.7407989502,
          -73.87259674
         ],
         "mode": "lines",
         "opacity": 0.5,
         "type": "scattergeo"
        },
        {
         "lat": [
          45.4706001282,
          28.429399490356445
         ],
         "line": {
          "color": "red",
          "width": 1
         },
         "lon": [
          -73.7407989502,
          -81.30899810791016
         ],
         "mode": "lines",
         "opacity": 0.16666666666666666,
         "type": "scattergeo"
        },
        {
         "lat": [
          45.4706001282,
          25.79319953918457
         ],
         "line": {
          "color": "red",
          "width": 1
         },
         "lon": [
          -73.7407989502,
          -80.29060363769531
         ],
         "mode": "lines",
         "opacity": 0.25,
         "type": "scattergeo"
        },
        {
         "lat": [
          45.4706001282,
          44.8819999695
         ],
         "line": {
          "color": "red",
          "width": 1
         },
         "lon": [
          -73.7407989502,
          -93.22180175780001
         ],
         "mode": "lines",
         "opacity": 0.16666666666666666,
         "type": "scattergeo"
        },
        {
         "lat": [
          45.4706001282,
          41.97859955
         ],
         "line": {
          "color": "red",
          "width": 1
         },
         "lon": [
          -73.7407989502,
          -87.90480042
         ],
         "mode": "lines",
         "opacity": 0.5,
         "type": "scattergeo"
        },
        {
         "lat": [
          45.4706001282,
          39.87189865112305
         ],
         "line": {
          "color": "red",
          "width": 1
         },
         "lon": [
          -73.7407989502,
          -75.24109649658203
         ],
         "mode": "lines",
         "opacity": 0.16666666666666666,
         "type": "scattergeo"
        },
        {
         "lat": [
          45.4706001282,
          37.61899948120117
         ],
         "line": {
          "color": "red",
          "width": 1
         },
         "lon": [
          -73.7407989502,
          -122.375
         ],
         "mode": "lines",
         "opacity": 0.16666666666666666,
         "type": "scattergeo"
        },
        {
         "lat": [
          49.193901061999995,
          39.861698150635
         ],
         "line": {
          "color": "red",
          "width": 1
         },
         "lon": [
          -123.183998108,
          -104.672996521
         ],
         "mode": "lines",
         "opacity": 0.16666666666666666,
         "type": "scattergeo"
        },
        {
         "lat": [
          49.193901061999995,
          32.896800994873054
         ],
         "line": {
          "color": "red",
          "width": 1
         },
         "lon": [
          -123.183998108,
          -97.03800201416016
         ],
         "mode": "lines",
         "opacity": 0.25,
         "type": "scattergeo"
        },
        {
         "lat": [
          49.193901061999995,
          40.69250106811523
         ],
         "line": {
          "color": "red",
          "width": 1
         },
         "lon": [
          -123.183998108,
          -74.168701171875
         ],
         "mode": "lines",
         "opacity": 0.25,
         "type": "scattergeo"
        },
        {
         "lat": [
          49.193901061999995,
          21.318700790405273
         ],
         "line": {
          "color": "red",
          "width": 1
         },
         "lon": [
          -123.183998108,
          -157.9219970703125
         ],
         "mode": "lines",
         "opacity": 0.25,
         "type": "scattergeo"
        },
        {
         "lat": [
          49.193901061999995,
          29.98439979553223
         ],
         "line": {
          "color": "red",
          "width": 1
         },
         "lon": [
          -123.183998108,
          -95.34140014648438
         ],
         "mode": "lines",
         "opacity": 0.08333333333333333,
         "type": "scattergeo"
        },
        {
         "lat": [
          49.193901061999995,
          40.63980103
         ],
         "line": {
          "color": "red",
          "width": 1
         },
         "lon": [
          -123.183998108,
          -73.77890015
         ],
         "mode": "lines",
         "opacity": 0.08333333333333333,
         "type": "scattergeo"
        },
        {
         "lat": [
          49.193901061999995,
          19.738800048828125
         ],
         "line": {
          "color": "red",
          "width": 1
         },
         "lon": [
          -123.183998108,
          -156.04600524902344
         ],
         "mode": "lines",
         "opacity": 0.08333333333333333,
         "type": "scattergeo"
        },
        {
         "lat": [
          49.193901061999995,
          36.08010101
         ],
         "line": {
          "color": "red",
          "width": 1
         },
         "lon": [
          -123.183998108,
          -115.15200039999999
         ],
         "mode": "lines",
         "opacity": 0.3333333333333333,
         "type": "scattergeo"
        },
        {
         "lat": [
          49.193901061999995,
          33.94250107
         ],
         "line": {
          "color": "red",
          "width": 1
         },
         "lon": [
          -123.183998108,
          -118.40799709999999
         ],
         "mode": "lines",
         "opacity": 0.4166666666666667,
         "type": "scattergeo"
        },
        {
         "lat": [
          49.193901061999995,
          21.97599983215332
         ],
         "line": {
          "color": "red",
          "width": 1
         },
         "lon": [
          -123.183998108,
          -159.33900451660156
         ],
         "mode": "lines",
         "opacity": 0.08333333333333333,
         "type": "scattergeo"
        },
        {
         "lat": [
          49.193901061999995,
          44.8819999695
         ],
         "line": {
          "color": "red",
          "width": 1
         },
         "lon": [
          -123.183998108,
          -93.22180175780001
         ],
         "mode": "lines",
         "opacity": 0.08333333333333333,
         "type": "scattergeo"
        },
        {
         "lat": [
          49.193901061999995,
          20.89859962463379
         ],
         "line": {
          "color": "red",
          "width": 1
         },
         "lon": [
          -123.183998108,
          -156.42999267578125
         ],
         "mode": "lines",
         "opacity": 0.16666666666666666,
         "type": "scattergeo"
        },
        {
         "lat": [
          49.193901061999995,
          41.97859955
         ],
         "line": {
          "color": "red",
          "width": 1
         },
         "lon": [
          -123.183998108,
          -87.90480042
         ],
         "mode": "lines",
         "opacity": 0.4166666666666667,
         "type": "scattergeo"
        },
        {
         "lat": [
          49.193901061999995,
          45.58869934
         ],
         "line": {
          "color": "red",
          "width": 1
         },
         "lon": [
          -123.183998108,
          -122.59799960000001
         ],
         "mode": "lines",
         "opacity": 0.3333333333333333,
         "type": "scattergeo"
        },
        {
         "lat": [
          49.193901061999995,
          33.43429946899414
         ],
         "line": {
          "color": "red",
          "width": 1
         },
         "lon": [
          -123.183998108,
          -112.01200103759766
         ],
         "mode": "lines",
         "opacity": 0.16666666666666666,
         "type": "scattergeo"
        },
        {
         "lat": [
          49.193901061999995,
          33.829700469970696
         ],
         "line": {
          "color": "red",
          "width": 1
         },
         "lon": [
          -123.183998108,
          -116.50700378417969
         ],
         "mode": "lines",
         "opacity": 0.08333333333333333,
         "type": "scattergeo"
        },
        {
         "lat": [
          49.193901061999995,
          47.44900131225586
         ],
         "line": {
          "color": "red",
          "width": 1
         },
         "lon": [
          -123.183998108,
          -122.30899810791016
         ],
         "mode": "lines",
         "opacity": 0.4166666666666667,
         "type": "scattergeo"
        },
        {
         "lat": [
          49.193901061999995,
          37.61899948120117
         ],
         "line": {
          "color": "red",
          "width": 1
         },
         "lon": [
          -123.183998108,
          -122.375
         ],
         "mode": "lines",
         "opacity": 0.25,
         "type": "scattergeo"
        },
        {
         "lat": [
          49.193901061999995,
          40.78839874267578
         ],
         "line": {
          "color": "red",
          "width": 1
         },
         "lon": [
          -123.183998108,
          -111.97799682617188
         ],
         "mode": "lines",
         "opacity": 0.08333333333333333,
         "type": "scattergeo"
        },
        {
         "lat": [
          49.193901061999995,
          33.67570114
         ],
         "line": {
          "color": "red",
          "width": 1
         },
         "lon": [
          -123.183998108,
          -117.86799620000001
         ],
         "mode": "lines",
         "opacity": 0.16666666666666666,
         "type": "scattergeo"
        },
        {
         "lat": [
          49.909999847399995,
          39.861698150635
         ],
         "line": {
          "color": "red",
          "width": 1
         },
         "lon": [
          -97.2398986816,
          -104.672996521
         ],
         "mode": "lines",
         "opacity": 0.16666666666666666,
         "type": "scattergeo"
        },
        {
         "lat": [
          49.909999847399995,
          36.08010101
         ],
         "line": {
          "color": "red",
          "width": 1
         },
         "lon": [
          -97.2398986816,
          -115.15200039999999
         ],
         "mode": "lines",
         "opacity": 0.08333333333333333,
         "type": "scattergeo"
        },
        {
         "lat": [
          49.909999847399995,
          44.8819999695
         ],
         "line": {
          "color": "red",
          "width": 1
         },
         "lon": [
          -97.2398986816,
          -93.22180175780001
         ],
         "mode": "lines",
         "opacity": 0.08333333333333333,
         "type": "scattergeo"
        },
        {
         "lat": [
          49.909999847399995,
          41.97859955
         ],
         "line": {
          "color": "red",
          "width": 1
         },
         "lon": [
          -97.2398986816,
          -87.90480042
         ],
         "mode": "lines",
         "opacity": 0.16666666666666666,
         "type": "scattergeo"
        },
        {
         "lat": [
          52.170799255371094,
          39.861698150635
         ],
         "line": {
          "color": "red",
          "width": 1
         },
         "lon": [
          -106.6999969482422,
          -104.672996521
         ],
         "mode": "lines",
         "opacity": 0.16666666666666666,
         "type": "scattergeo"
        },
        {
         "lat": [
          52.170799255371094,
          36.08010101
         ],
         "line": {
          "color": "red",
          "width": 1
         },
         "lon": [
          -106.6999969482422,
          -115.15200039999999
         ],
         "mode": "lines",
         "opacity": 0.08333333333333333,
         "type": "scattergeo"
        },
        {
         "lat": [
          52.170799255371094,
          44.8819999695
         ],
         "line": {
          "color": "red",
          "width": 1
         },
         "lon": [
          -106.6999969482422,
          -93.22180175780001
         ],
         "mode": "lines",
         "opacity": 0.08333333333333333,
         "type": "scattergeo"
        },
        {
         "lat": [
          52.170799255371094,
          41.97859955
         ],
         "line": {
          "color": "red",
          "width": 1
         },
         "lon": [
          -106.6999969482422,
          -87.90480042
         ],
         "mode": "lines",
         "opacity": 0.08333333333333333,
         "type": "scattergeo"
        },
        {
         "lat": [
          43.035599,
          41.97859955
         ],
         "line": {
          "color": "red",
          "width": 1
         },
         "lon": [
          -81.1539,
          -87.90480042
         ],
         "mode": "lines",
         "opacity": 0.16666666666666666,
         "type": "scattergeo"
        },
        {
         "lat": [
          51.113899231000005,
          39.861698150635
         ],
         "line": {
          "color": "red",
          "width": 1
         },
         "lon": [
          -114.019996643,
          -104.672996521
         ],
         "mode": "lines",
         "opacity": 0.16666666666666666,
         "type": "scattergeo"
        },
        {
         "lat": [
          51.113899231000005,
          32.896800994873054
         ],
         "line": {
          "color": "red",
          "width": 1
         },
         "lon": [
          -114.019996643,
          -97.03800201416016
         ],
         "mode": "lines",
         "opacity": 0.3333333333333333,
         "type": "scattergeo"
        },
        {
         "lat": [
          51.113899231000005,
          40.69250106811523
         ],
         "line": {
          "color": "red",
          "width": 1
         },
         "lon": [
          -114.019996643,
          -74.168701171875
         ],
         "mode": "lines",
         "opacity": 0.08333333333333333,
         "type": "scattergeo"
        },
        {
         "lat": [
          51.113899231000005,
          29.98439979553223
         ],
         "line": {
          "color": "red",
          "width": 1
         },
         "lon": [
          -114.019996643,
          -95.34140014648438
         ],
         "mode": "lines",
         "opacity": 0.16666666666666666,
         "type": "scattergeo"
        },
        {
         "lat": [
          51.113899231000005,
          40.63980103
         ],
         "line": {
          "color": "red",
          "width": 1
         },
         "lon": [
          -114.019996643,
          -73.77890015
         ],
         "mode": "lines",
         "opacity": 0.25,
         "type": "scattergeo"
        },
        {
         "lat": [
          51.113899231000005,
          36.08010101
         ],
         "line": {
          "color": "red",
          "width": 1
         },
         "lon": [
          -114.019996643,
          -115.15200039999999
         ],
         "mode": "lines",
         "opacity": 0.3333333333333333,
         "type": "scattergeo"
        },
        {
         "lat": [
          51.113899231000005,
          33.94250107
         ],
         "line": {
          "color": "red",
          "width": 1
         },
         "lon": [
          -114.019996643,
          -118.40799709999999
         ],
         "mode": "lines",
         "opacity": 0.3333333333333333,
         "type": "scattergeo"
        },
        {
         "lat": [
          51.113899231000005,
          28.429399490356445
         ],
         "line": {
          "color": "red",
          "width": 1
         },
         "lon": [
          -114.019996643,
          -81.30899810791016
         ],
         "mode": "lines",
         "opacity": 0.08333333333333333,
         "type": "scattergeo"
        },
        {
         "lat": [
          51.113899231000005,
          44.8819999695
         ],
         "line": {
          "color": "red",
          "width": 1
         },
         "lon": [
          -114.019996643,
          -93.22180175780001
         ],
         "mode": "lines",
         "opacity": 0.08333333333333333,
         "type": "scattergeo"
        },
        {
         "lat": [
          51.113899231000005,
          41.97859955
         ],
         "line": {
          "color": "red",
          "width": 1
         },
         "lon": [
          -114.019996643,
          -87.90480042
         ],
         "mode": "lines",
         "opacity": 0.4166666666666667,
         "type": "scattergeo"
        },
        {
         "lat": [
          51.113899231000005,
          45.58869934
         ],
         "line": {
          "color": "red",
          "width": 1
         },
         "lon": [
          -114.019996643,
          -122.59799960000001
         ],
         "mode": "lines",
         "opacity": 0.16666666666666666,
         "type": "scattergeo"
        },
        {
         "lat": [
          51.113899231000005,
          33.43429946899414
         ],
         "line": {
          "color": "red",
          "width": 1
         },
         "lon": [
          -114.019996643,
          -112.01200103759766
         ],
         "mode": "lines",
         "opacity": 0.25,
         "type": "scattergeo"
        },
        {
         "lat": [
          51.113899231000005,
          33.829700469970696
         ],
         "line": {
          "color": "red",
          "width": 1
         },
         "lon": [
          -114.019996643,
          -116.50700378417969
         ],
         "mode": "lines",
         "opacity": 0.08333333333333333,
         "type": "scattergeo"
        },
        {
         "lat": [
          51.113899231000005,
          32.7336006165
         ],
         "line": {
          "color": "red",
          "width": 1
         },
         "lon": [
          -114.019996643,
          -117.190002441
         ],
         "mode": "lines",
         "opacity": 0.16666666666666666,
         "type": "scattergeo"
        },
        {
         "lat": [
          51.113899231000005,
          47.44900131225586
         ],
         "line": {
          "color": "red",
          "width": 1
         },
         "lon": [
          -114.019996643,
          -122.30899810791016
         ],
         "mode": "lines",
         "opacity": 0.08333333333333333,
         "type": "scattergeo"
        },
        {
         "lat": [
          51.113899231000005,
          37.61899948120117
         ],
         "line": {
          "color": "red",
          "width": 1
         },
         "lon": [
          -114.019996643,
          -122.375
         ],
         "mode": "lines",
         "opacity": 0.25,
         "type": "scattergeo"
        },
        {
         "lat": [
          51.113899231000005,
          40.78839874267578
         ],
         "line": {
          "color": "red",
          "width": 1
         },
         "lon": [
          -114.019996643,
          -111.97799682617188
         ],
         "mode": "lines",
         "opacity": 0.08333333333333333,
         "type": "scattergeo"
        },
        {
         "lat": [
          48.646900177,
          36.08010101
         ],
         "line": {
          "color": "red",
          "width": 1
         },
         "lon": [
          -123.426002502,
          -115.15200039999999
         ],
         "mode": "lines",
         "opacity": 0.08333333333333333,
         "type": "scattergeo"
        },
        {
         "lat": [
          48.646900177,
          47.44900131225586
         ],
         "line": {
          "color": "red",
          "width": 1
         },
         "lon": [
          -123.426002502,
          -122.30899810791016
         ],
         "mode": "lines",
         "opacity": 0.08333333333333333,
         "type": "scattergeo"
        },
        {
         "lat": [
          48.646900177,
          37.61899948120117
         ],
         "line": {
          "color": "red",
          "width": 1
         },
         "lon": [
          -123.426002502,
          -122.375
         ],
         "mode": "lines",
         "opacity": 0.16666666666666666,
         "type": "scattergeo"
        },
        {
         "lat": [
          47.618598938000005,
          40.69250106811523
         ],
         "line": {
          "color": "red",
          "width": 1
         },
         "lon": [
          -52.751899719200004,
          -74.168701171875
         ],
         "mode": "lines",
         "opacity": 0.08333333333333333,
         "type": "scattergeo"
        },
        {
         "lat": [
          47.618598938000005,
          28.429399490356445
         ],
         "line": {
          "color": "red",
          "width": 1
         },
         "lon": [
          -52.751899719200004,
          -81.30899810791016
         ],
         "mode": "lines",
         "opacity": 0.16666666666666666,
         "type": "scattergeo"
        },
        {
         "lat": [
          43.6772003174,
          33.63669967651367
         ],
         "line": {
          "color": "red",
          "width": 1
         },
         "lon": [
          -79.63059997559999,
          -84.4281005859375
         ],
         "mode": "lines",
         "opacity": 0.5,
         "type": "scattergeo"
        },
        {
         "lat": [
          43.6772003174,
          41.9388999939
         ],
         "line": {
          "color": "red",
          "width": 1
         },
         "lon": [
          -79.63059997559999,
          -72.68319702149999
         ],
         "mode": "lines",
         "opacity": 0.16666666666666666,
         "type": "scattergeo"
        },
        {
         "lat": [
          43.6772003174,
          36.1245002746582
         ],
         "line": {
          "color": "red",
          "width": 1
         },
         "lon": [
          -79.63059997559999,
          -86.6781997680664
         ],
         "mode": "lines",
         "opacity": 0.08333333333333333,
         "type": "scattergeo"
        },
        {
         "lat": [
          43.6772003174,
          42.36429977
         ],
         "line": {
          "color": "red",
          "width": 1
         },
         "lon": [
          -79.63059997559999,
          -71.00520325
         ],
         "mode": "lines",
         "opacity": 0.16666666666666666,
         "type": "scattergeo"
        },
        {
         "lat": [
          43.6772003174,
          39.17539978
         ],
         "line": {
          "color": "red",
          "width": 1
         },
         "lon": [
          -79.63059997559999,
          -76.66829681
         ],
         "mode": "lines",
         "opacity": 0.08333333333333333,
         "type": "scattergeo"
        },
        {
         "lat": [
          43.6772003174,
          41.411701202399996
         ],
         "line": {
          "color": "red",
          "width": 1
         },
         "lon": [
          -79.63059997559999,
          -81.8498001099
         ],
         "mode": "lines",
         "opacity": 0.16666666666666666,
         "type": "scattergeo"
        },
        {
         "lat": [
          43.6772003174,
          35.2140007019043
         ],
         "line": {
          "color": "red",
          "width": 1
         },
         "lon": [
          -79.63059997559999,
          -80.94309997558594
         ],
         "mode": "lines",
         "opacity": 0.25,
         "type": "scattergeo"
        },
        {
         "lat": [
          43.6772003174,
          39.99800109863281
         ],
         "line": {
          "color": "red",
          "width": 1
         },
         "lon": [
          -79.63059997559999,
          -82.89189910888672
         ],
         "mode": "lines",
         "opacity": 0.16666666666666666,
         "type": "scattergeo"
        },
        {
         "lat": [
          43.6772003174,
          39.0488014221
         ],
         "line": {
          "color": "red",
          "width": 1
         },
         "lon": [
          -79.63059997559999,
          -84.6678009033
         ],
         "mode": "lines",
         "opacity": 0.25,
         "type": "scattergeo"
        },
        {
         "lat": [
          43.6772003174,
          38.8521
         ],
         "line": {
          "color": "red",
          "width": 1
         },
         "lon": [
          -79.63059997559999,
          -77.037697
         ],
         "mode": "lines",
         "opacity": 0.25,
         "type": "scattergeo"
        },
        {
         "lat": [
          43.6772003174,
          39.861698150635
         ],
         "line": {
          "color": "red",
          "width": 1
         },
         "lon": [
          -79.63059997559999,
          -104.672996521
         ],
         "mode": "lines",
         "opacity": 0.16666666666666666,
         "type": "scattergeo"
        },
        {
         "lat": [
          43.6772003174,
          32.896800994873054
         ],
         "line": {
          "color": "red",
          "width": 1
         },
         "lon": [
          -79.63059997559999,
          -97.03800201416016
         ],
         "mode": "lines",
         "opacity": 0.4166666666666667,
         "type": "scattergeo"
        },
        {
         "lat": [
          43.6772003174,
          42.212398529052734
         ],
         "line": {
          "color": "red",
          "width": 1
         },
         "lon": [
          -79.63059997559999,
          -83.35340118408203
         ],
         "mode": "lines",
         "opacity": 0.4166666666666667,
         "type": "scattergeo"
        },
        {
         "lat": [
          43.6772003174,
          40.69250106811523
         ],
         "line": {
          "color": "red",
          "width": 1
         },
         "lon": [
          -79.63059997559999,
          -74.168701171875
         ],
         "mode": "lines",
         "opacity": 0.16666666666666666,
         "type": "scattergeo"
        },
        {
         "lat": [
          43.6772003174,
          26.072599411010746
         ],
         "line": {
          "color": "red",
          "width": 1
         },
         "lon": [
          -79.63059997559999,
          -80.15270233154297
         ],
         "mode": "lines",
         "opacity": 0.3333333333333333,
         "type": "scattergeo"
        },
        {
         "lat": [
          43.6772003174,
          38.94449997
         ],
         "line": {
          "color": "red",
          "width": 1
         },
         "lon": [
          -79.63059997559999,
          -77.45580292
         ],
         "mode": "lines",
         "opacity": 0.16666666666666666,
         "type": "scattergeo"
        },
        {
         "lat": [
          43.6772003174,
          29.98439979553223
         ],
         "line": {
          "color": "red",
          "width": 1
         },
         "lon": [
          -79.63059997559999,
          -95.34140014648438
         ],
         "mode": "lines",
         "opacity": 0.16666666666666666,
         "type": "scattergeo"
        },
        {
         "lat": [
          43.6772003174,
          39.7173
         ],
         "line": {
          "color": "red",
          "width": 1
         },
         "lon": [
          -79.63059997559999,
          -86.294403
         ],
         "mode": "lines",
         "opacity": 0.08333333333333333,
         "type": "scattergeo"
        },
        {
         "lat": [
          43.6772003174,
          40.63980103
         ],
         "line": {
          "color": "red",
          "width": 1
         },
         "lon": [
          -79.63059997559999,
          -73.77890015
         ],
         "mode": "lines",
         "opacity": 0.5,
         "type": "scattergeo"
        },
        {
         "lat": [
          43.6772003174,
          36.08010101
         ],
         "line": {
          "color": "red",
          "width": 1
         },
         "lon": [
          -79.63059997559999,
          -115.15200039999999
         ],
         "mode": "lines",
         "opacity": 0.3333333333333333,
         "type": "scattergeo"
        },
        {
         "lat": [
          43.6772003174,
          33.94250107
         ],
         "line": {
          "color": "red",
          "width": 1
         },
         "lon": [
          -79.63059997559999,
          -118.40799709999999
         ],
         "mode": "lines",
         "opacity": 0.4166666666666667,
         "type": "scattergeo"
        },
        {
         "lat": [
          43.6772003174,
          40.77719879
         ],
         "line": {
          "color": "red",
          "width": 1
         },
         "lon": [
          -79.63059997559999,
          -73.87259674
         ],
         "mode": "lines",
         "opacity": 0.5,
         "type": "scattergeo"
        },
        {
         "lat": [
          43.6772003174,
          39.2976
         ],
         "line": {
          "color": "red",
          "width": 1
         },
         "lon": [
          -79.63059997559999,
          -94.713898
         ],
         "mode": "lines",
         "opacity": 0.08333333333333333,
         "type": "scattergeo"
        },
        {
         "lat": [
          43.6772003174,
          28.429399490356445
         ],
         "line": {
          "color": "red",
          "width": 1
         },
         "lon": [
          -79.63059997559999,
          -81.30899810791016
         ],
         "mode": "lines",
         "opacity": 0.4166666666666667,
         "type": "scattergeo"
        },
        {
         "lat": [
          43.6772003174,
          40.1935005188
         ],
         "line": {
          "color": "red",
          "width": 1
         },
         "lon": [
          -79.63059997559999,
          -76.7633972168
         ],
         "mode": "lines",
         "opacity": 0.08333333333333333,
         "type": "scattergeo"
        },
        {
         "lat": [
          43.6772003174,
          25.79319953918457
         ],
         "line": {
          "color": "red",
          "width": 1
         },
         "lon": [
          -79.63059997559999,
          -80.29060363769531
         ],
         "mode": "lines",
         "opacity": 0.3333333333333333,
         "type": "scattergeo"
        },
        {
         "lat": [
          43.6772003174,
          42.94720077514648
         ],
         "line": {
          "color": "red",
          "width": 1
         },
         "lon": [
          -79.63059997559999,
          -87.89659881591797
         ],
         "mode": "lines",
         "opacity": 0.08333333333333333,
         "type": "scattergeo"
        },
        {
         "lat": [
          43.6772003174,
          44.8819999695
         ],
         "line": {
          "color": "red",
          "width": 1
         },
         "lon": [
          -79.63059997559999,
          -93.22180175780001
         ],
         "mode": "lines",
         "opacity": 0.3333333333333333,
         "type": "scattergeo"
        },
        {
         "lat": [
          43.6772003174,
          29.99340057373047
         ],
         "line": {
          "color": "red",
          "width": 1
         },
         "lon": [
          -79.63059997559999,
          -90.25800323486328
         ],
         "mode": "lines",
         "opacity": 0.16666666666666666,
         "type": "scattergeo"
        },
        {
         "lat": [
          43.6772003174,
          33.6796989441
         ],
         "line": {
          "color": "red",
          "width": 1
         },
         "lon": [
          -79.63059997559999,
          -78.9282989502
         ],
         "mode": "lines",
         "opacity": 0.08333333333333333,
         "type": "scattergeo"
        },
        {
         "lat": [
          43.6772003174,
          41.97859955
         ],
         "line": {
          "color": "red",
          "width": 1
         },
         "lon": [
          -79.63059997559999,
          -87.90480042
         ],
         "mode": "lines",
         "opacity": 0.5,
         "type": "scattergeo"
        },
        {
         "lat": [
          43.6772003174,
          39.87189865112305
         ],
         "line": {
          "color": "red",
          "width": 1
         },
         "lon": [
          -79.63059997559999,
          -75.24109649658203
         ],
         "mode": "lines",
         "opacity": 0.3333333333333333,
         "type": "scattergeo"
        },
        {
         "lat": [
          43.6772003174,
          33.43429946899414
         ],
         "line": {
          "color": "red",
          "width": 1
         },
         "lon": [
          -79.63059997559999,
          -112.01200103759766
         ],
         "mode": "lines",
         "opacity": 0.08333333333333333,
         "type": "scattergeo"
        },
        {
         "lat": [
          43.6772003174,
          40.49150085
         ],
         "line": {
          "color": "red",
          "width": 1
         },
         "lon": [
          -79.63059997559999,
          -80.23290253
         ],
         "mode": "lines",
         "opacity": 0.16666666666666666,
         "type": "scattergeo"
        },
        {
         "lat": [
          43.6772003174,
          35.877601623535156
         ],
         "line": {
          "color": "red",
          "width": 1
         },
         "lon": [
          -79.63059997559999,
          -78.7874984741211
         ],
         "mode": "lines",
         "opacity": 0.08333333333333333,
         "type": "scattergeo"
        },
        {
         "lat": [
          43.6772003174,
          43.118900299072266
         ],
         "line": {
          "color": "red",
          "width": 1
         },
         "lon": [
          -79.63059997559999,
          -77.67240142822266
         ],
         "mode": "lines",
         "opacity": 0.08333333333333333,
         "type": "scattergeo"
        },
        {
         "lat": [
          43.6772003174,
          26.53619956970215
         ],
         "line": {
          "color": "red",
          "width": 1
         },
         "lon": [
          -79.63059997559999,
          -81.75520324707031
         ],
         "mode": "lines",
         "opacity": 0.16666666666666666,
         "type": "scattergeo"
        },
        {
         "lat": [
          43.6772003174,
          32.7336006165
         ],
         "line": {
          "color": "red",
          "width": 1
         },
         "lon": [
          -79.63059997559999,
          -117.190002441
         ],
         "mode": "lines",
         "opacity": 0.08333333333333333,
         "type": "scattergeo"
        },
        {
         "lat": [
          43.6772003174,
          47.44900131225586
         ],
         "line": {
          "color": "red",
          "width": 1
         },
         "lon": [
          -79.63059997559999,
          -122.30899810791016
         ],
         "mode": "lines",
         "opacity": 0.08333333333333333,
         "type": "scattergeo"
        },
        {
         "lat": [
          43.6772003174,
          37.61899948120117
         ],
         "line": {
          "color": "red",
          "width": 1
         },
         "lon": [
          -79.63059997559999,
          -122.375
         ],
         "mode": "lines",
         "opacity": 0.16666666666666666,
         "type": "scattergeo"
        },
        {
         "lat": [
          43.6772003174,
          38.74869918823242
         ],
         "line": {
          "color": "red",
          "width": 1
         },
         "lon": [
          -79.63059997559999,
          -90.37000274658205
         ],
         "mode": "lines",
         "opacity": 0.16666666666666666,
         "type": "scattergeo"
        },
        {
         "lat": [
          43.6772003174,
          43.11119842529297
         ],
         "line": {
          "color": "red",
          "width": 1
         },
         "lon": [
          -79.63059997559999,
          -76.1063003540039
         ],
         "mode": "lines",
         "opacity": 0.08333333333333333,
         "type": "scattergeo"
        },
        {
         "lat": [
          43.6772003174,
          27.975500106811523
         ],
         "line": {
          "color": "red",
          "width": 1
         },
         "lon": [
          -79.63059997559999,
          -82.533203125
         ],
         "mode": "lines",
         "opacity": 0.16666666666666666,
         "type": "scattergeo"
        },
        {
         "lat": [
          22.8971004486,
          32.896800994873054
         ],
         "line": {
          "color": "red",
          "width": 1
         },
         "lon": [
          -102.68699646,
          -97.03800201416016
         ],
         "mode": "lines",
         "opacity": 0.16666666666666666,
         "type": "scattergeo"
        },
        {
         "lat": [
          22.8971004486,
          33.94250107
         ],
         "line": {
          "color": "red",
          "width": 1
         },
         "lon": [
          -102.68699646,
          -118.40799709999999
         ],
         "mode": "lines",
         "opacity": 0.08333333333333333,
         "type": "scattergeo"
        },
        {
         "lat": [
          22.8971004486,
          41.7859992980957
         ],
         "line": {
          "color": "red",
          "width": 1
         },
         "lon": [
          -102.68699646,
          -87.75240325927734
         ],
         "mode": "lines",
         "opacity": 0.08333333333333333,
         "type": "scattergeo"
        },
        {
         "lat": [
          17.601600647,
          29.98439979553223
         ],
         "line": {
          "color": "red",
          "width": 1
         },
         "lon": [
          -101.460998535,
          -95.34140014648438
         ],
         "mode": "lines",
         "opacity": 0.08333333333333333,
         "type": "scattergeo"
        },
        {
         "lat": [
          17.601600647,
          33.94250107
         ],
         "line": {
          "color": "red",
          "width": 1
         },
         "lon": [
          -101.460998535,
          -118.40799709999999
         ],
         "mode": "lines",
         "opacity": 0.16666666666666666,
         "type": "scattergeo"
        },
        {
         "lat": [
          17.601600647,
          33.43429946899414
         ],
         "line": {
          "color": "red",
          "width": 1
         },
         "lon": [
          -101.460998535,
          -112.01200103759766
         ],
         "mode": "lines",
         "opacity": 0.16666666666666666,
         "type": "scattergeo"
        },
        {
         "lat": [
          19.144800186199998,
          29.98439979553223
         ],
         "line": {
          "color": "red",
          "width": 1
         },
         "lon": [
          -104.558998108,
          -95.34140014648438
         ],
         "mode": "lines",
         "opacity": 0.08333333333333333,
         "type": "scattergeo"
        },
        {
         "lat": [
          19.144800186199998,
          33.94250107
         ],
         "line": {
          "color": "red",
          "width": 1
         },
         "lon": [
          -104.558998108,
          -118.40799709999999
         ],
         "mode": "lines",
         "opacity": 0.16666666666666666,
         "type": "scattergeo"
        },
        {
         "lat": [
          47.464698791504,
          33.63669967651367
         ],
         "line": {
          "color": "red",
          "width": 1
         },
         "lon": [
          8.5491695404053,
          -84.4281005859375
         ],
         "mode": "lines",
         "opacity": 0.08333333333333333,
         "type": "scattergeo"
        },
        {
         "lat": [
          47.464698791504,
          42.36429977
         ],
         "line": {
          "color": "red",
          "width": 1
         },
         "lon": [
          8.5491695404053,
          -71.00520325
         ],
         "mode": "lines",
         "opacity": 0.16666666666666666,
         "type": "scattergeo"
        },
        {
         "lat": [
          47.464698791504,
          40.69250106811523
         ],
         "line": {
          "color": "red",
          "width": 1
         },
         "lon": [
          8.5491695404053,
          -74.168701171875
         ],
         "mode": "lines",
         "opacity": 0.16666666666666666,
         "type": "scattergeo"
        },
        {
         "lat": [
          47.464698791504,
          38.94449997
         ],
         "line": {
          "color": "red",
          "width": 1
         },
         "lon": [
          8.5491695404053,
          -77.45580292
         ],
         "mode": "lines",
         "opacity": 0.16666666666666666,
         "type": "scattergeo"
        },
        {
         "lat": [
          47.464698791504,
          40.63980103
         ],
         "line": {
          "color": "red",
          "width": 1
         },
         "lon": [
          8.5491695404053,
          -73.77890015
         ],
         "mode": "lines",
         "opacity": 0.3333333333333333,
         "type": "scattergeo"
        },
        {
         "lat": [
          47.464698791504,
          36.08010101
         ],
         "line": {
          "color": "red",
          "width": 1
         },
         "lon": [
          8.5491695404053,
          -115.15200039999999
         ],
         "mode": "lines",
         "opacity": 0.08333333333333333,
         "type": "scattergeo"
        },
        {
         "lat": [
          47.464698791504,
          33.94250107
         ],
         "line": {
          "color": "red",
          "width": 1
         },
         "lon": [
          8.5491695404053,
          -118.40799709999999
         ],
         "mode": "lines",
         "opacity": 0.16666666666666666,
         "type": "scattergeo"
        },
        {
         "lat": [
          47.464698791504,
          25.79319953918457
         ],
         "line": {
          "color": "red",
          "width": 1
         },
         "lon": [
          8.5491695404053,
          -80.29060363769531
         ],
         "mode": "lines",
         "opacity": 0.16666666666666666,
         "type": "scattergeo"
        },
        {
         "lat": [
          47.464698791504,
          41.97859955
         ],
         "line": {
          "color": "red",
          "width": 1
         },
         "lon": [
          8.5491695404053,
          -87.90480042
         ],
         "mode": "lines",
         "opacity": 0.16666666666666666,
         "type": "scattergeo"
        },
        {
         "lat": [
          47.464698791504,
          39.87189865112305
         ],
         "line": {
          "color": "red",
          "width": 1
         },
         "lon": [
          8.5491695404053,
          -75.24109649658203
         ],
         "mode": "lines",
         "opacity": 0.16666666666666666,
         "type": "scattergeo"
        },
        {
         "lat": [
          47.464698791504,
          37.61899948120117
         ],
         "line": {
          "color": "red",
          "width": 1
         },
         "lon": [
          8.5491695404053,
          -122.375
         ],
         "mode": "lines",
         "opacity": 0.16666666666666666,
         "type": "scattergeo"
        },
        {
         "lat": [
          47.464698791504,
          27.975500106811523
         ],
         "line": {
          "color": "red",
          "width": 1
         },
         "lon": [
          8.5491695404053,
          -82.533203125
         ],
         "mode": "lines",
         "opacity": 0.08333333333333333,
         "type": "scattergeo"
        },
        {
         "lat": [
          24.06329917907715,
          26.072599411010746
         ],
         "line": {
          "color": "red",
          "width": 1
         },
         "lon": [
          -74.52400207519531,
          -80.15270233154297
         ],
         "mode": "lines",
         "opacity": 0.08333333333333333,
         "type": "scattergeo"
        },
        {
         "hoverinfo": "text",
         "lat": [
          70.13400268550001,
          68.87509918,
          69.73290253,
          19.721399307250977,
          28.545499801635998,
          66.91390228,
          64.301201,
          65.99279785,
          66.57150268554689,
          61.09740067,
          61.26639938,
          62.894401550299996,
          61.78030014,
          42.47000122,
          57.16730117797852,
          58.6464004517,
          56.5783004761,
          59.75439835,
          59.01139831542969,
          59.361198425299996,
          44.45159912,
          36.68190002,
          38.55390167,
          35.2804985046,
          34.2961998,
          35.33660125732422,
          61.2135009765625,
          35.167301178,
          36.73199844,
          32.00999832,
          47.949298999999996,
          34.173099517800004,
          30.724199300000002,
          20.79560089111328,
          34.65449905,
          40.27669906616211,
          42.36429977,
          38.262699127196996,
          43.23379898,
          40.7187004089,
          30.626800537100006,
          37.72129821777344,
          41.303199768066406,
          48.14149856567383,
          20.89859962463379,
          37.649898529052734,
          39.2976,
          43.13990020751953,
          59.04470062,
          36.26150131225586,
          33.43429946899414,
          44.80739974975586,
          26.1972999573,
          32.38399887084961,
          34.4945983887,
          47.61989974975586,
          26.0011997223,
          37.61899948120117,
          48.6083984375,
          30.0378,
          29.6900997162,
          35.04240036010742,
          31.4689998627,
          63.994499206499995,
          31.6378002167,
          55.04240036010742,
          46.8714981079,
          34.916900634799994,
          34.67869949,
          35.1708984375,
          36.0225982666,
          29.359500885,
          33.94250107,
          33.58819962,
          41.411701202399996,
          39.12950134,
          39.0488014221,
          39.08539962769999,
          35.6853981,
          44.38520050048828,
          58.35499954223633,
          30.20529938,
          40.69250106811523,
          43.56439972,
          36.5872001648,
          37.9275016785,
          48.2593994140625,
          21.48349953,
          32.38290023803711,
          32.84709930419922,
          38.67839813,
          46.6068000793457,
          32.86840057,
          33.534999847399995,
          33.922798,
          46.123100280799996,
          36.339199066199996,
          34.120300293,
          34.905398999999996,
          30.12610054016113,
          19.738800048828125,
          33.6796989441,
          36.33300018,
          41.25310135,
          37.1324996948,
          36.668598175,
          38.8521,
          38.28599929999999,
          28.727500915527,
          35.9642982483,
          39.45759963989258,
          35.414699554443004,
          38.289100646972656,
          46.68899918,
          47.07920074,
          57.75,
          20.265300750732425,
          26.072599411010746,
          35.65650177,
          48.566200256347656,
          40.78839874267578,
          34.4337997437,
          30.4104003906,
          32.337299346900004,
          39.05530167,
          40.1935005188,
          40.85100173950195,
          42.77870178222656,
          20.001300811767575,
          44.93579864501953,
          35.74110031,
          27.765100479125977,
          26.58659935,
          29.98439979553223,
          45.64780044555664,
          38.810798645,
          36.13370132446289,
          34.597499847399995,
          30.778799056999997,
          44.05559921,
          42.91099929999999,
          35.43360138,
          31.80719948,
          26.228500366210934,
          33.93880081176758,
          32.1665000916,
          30.35269928,
          30.473400115967003,
          47.961101532,
          29.64539909,
          39.701698303200004,
          62.96129989999999,
          61.59489822387695,
          40.49150085,
          71.285402,
          29.6072998047,
          48.35179901,
          27.740900039699998,
          30.967800140399998,
          25.79319953918457,
          47.44900131225586,
          35.03530120849609,
          41.16350173950195,
          32.3111991882,
          29.265300750732425,
          33.81769943,
          21.5795001984,
          41.241798400878906,
          39.7173,
          38.73030090332,
          41.0374984741,
          33.4943008423,
          41.06700134277344,
          40.8437004089,
          35.83169937133789,
          26.59300041,
          32.69919968,
          31.84950066,
          32.65660095,
          32.337501525878906,
          46.8420982361,
          60.77980042,
          38.2280006409,
          31.58849906921387,
          21.97599983215332,
          39.45149993896485,
          48.54299927,
          47.20769882,
          44.20349884,
          37.50519943237305,
          32.44660186767578,
          60.49179839999999,
          36.89459991455078,
          29.9507999420166,
          32.12760162,
          41.12403,
          64.51219940185547,
          27.91020012,
          45.12670135498047,
          30.351800918600002,
          70.19470215,
          29.533700942993164,
          43.118900299072266,
          28.2348995209,
          40.85010147089999,
          44.14500046,
          35.877601623535156,
          39.90240097045898,
          60.57310104370117,
          34.88240051,
          43.1072998046875,
          30.715700149499998,
          37.13190079,
          31.3948993683,
          34.667098999000004,
          32.116100311279304,
          48.41559982,
          39.136100769,
          41.07139968869999,
          35.33940125,
          41.73260116577149,
          38.34049987792969,
          38.48680114746094,
          34.200698852539055,
          42.212398529052734,
          27.975500106811523,
          48.94250106810001,
          31.044799800000003,
          64.66570282,
          47.38660049,
          31.2339992523,
          31.9424991607666,
          44.48509979248047,
          34.30301,
          40.01559829999999,
          32.609100341796875,
          33.36989974975586,
          48.177898407,
          34.729400634799994,
          41.50410079956055,
          48.7284011841,
          38.5125007629,
          59.64559936523438,
          37.74160004,
          33.91540146,
          47.6151008606,
          44.359798,
          30.0695991516,
          32.896800994873054,
          28.10280036926269,
          47.1376991272,
          30.194499969482425,
          39.813801,
          46.3535995483,
          35.81100082,
          31.1387004852,
          38.74869918823242,
          39.36780166625977,
          33.98880005,
          39.10329819,
          33.63669967651367,
          37.38050079,
          38.66759872,
          42.88079834,
          31.779600143400003,
          36.77619934082031,
          27.655599594116,
          32.834201812699995,
          36.1245002746582,
          27.543800354003906,
          61.2509994506836,
          66.88469696,
          40.29639816,
          32.4207992554,
          33.22100067138672,
          40.77719879,
          30.396499633789066,
          41.90779877,
          31.61129951477051,
          44.320598602299995,
          32.08349991,
          35.59989929,
          21.15290069580078,
          37.9071006775,
          31.35770034790039,
          32.6694984436,
          39.79539871,
          44.471900939899996,
          30.49410057067871,
          37.1515007019,
          38.94449997,
          30.58860016,
          47.682800292969,
          42.94720077514648,
          32.4113006592,
          38.81809997558594,
          45.58869934,
          25.861799240112,
          26.68320083618164,
          32.8198013306,
          44.681900024399994,
          47.52999877929688,
          29.38419914,
          21.318700790405273,
          41.53400039672852,
          35.0730018616,
          32.7336006165,
          32.51089859008789,
          33.97269821,
          34.05599975585937,
          33.0677986145,
          33.30160140991211,
          42.40919876,
          25.90679931640625,
          31.3213005065918,
          39.008499145500004,
          42.608299255371094,
          36.7411994934,
          27.77039909362793,
          43.11119842529297,
          24.57579994,
          41.7859992980957,
          37.36259841918945,
          32.6875,
          40.08190155,
          39.861698150635,
          39.87189865112305,
          42.40259933,
          32.692798614501946,
          33.2369003296,
          34.62939835,
          29.52969933,
          32.829200744628906,
          39.99800109863281,
          36.00510025024414,
          34.64979935,
          45.55989838,
          39.8260993958,
          64.73619843,
          32.7816009521,
          37.62189865,
          29.82530022,
          32.4122009277,
          33.45370101928711,
          44.6509017944336,
          39.466202,
          35.182800293,
          61.174400329589844,
          31.067199706999997,
          35.08319854736328,
          48.79280090332031,
          35.356700897217,
          38.88940048,
          41.736698150635,
          41.9207992554,
          30.691200256348,
          37.416099548339844,
          35.617099761999995,
          22.022800445599998,
          30.8316993713,
          19.760099411,
          31.41769981384277,
          27.84930038,
          38.5452,
          25.90699959,
          29.3742008209,
          26.53619956970215,
          58.67679977,
          40.43479919,
          20.962900161743164,
          40.63980103,
          25.48859978,
          33.95190048,
          39.3683013916,
          37.9402008057,
          32.8525009155,
          40.19979858,
          41.15570068,
          37.894199371338,
          32.89860153,
          39.49909973144531,
          55.35559845,
          42.23789978,
          34.7373008728,
          33.56290054,
          40.03329849,
          36.2361984253,
          33.88069916,
          37.62580109,
          38.69540023803711,
          42.422199249268,
          38.805801391602,
          42.94049835,
          41.4333992004,
          47.90629959,
          43.043597999999996,
          37.70100021362305,
          41.9388999939,
          26.17580032,
          36.93759918,
          42.19400024,
          33.66360092163086,
          41.97859955,
          26.3784999847,
          64.81510162,
          38.50170135,
          34.3828010559,
          21.450500488299998,
          41.118301391602,
          62.15489960000001,
          43.99190139770508,
          33.829700469970696,
          35.219398498535156,
          42.55149841,
          32.5018005371,
          38.9509010315,
          28.45669937,
          34.27059936523437,
          30.53319931,
          32.35409927368164,
          39.17539978,
          34.991316999999995,
          20.785600662231445,
          31.32740020751953,
          32.34149933,
          55.20610046386719,
          36.19839859008789,
          57.04710006713867,
          40.79520035,
          44.8819999695,
          39.67869949,
          53.900100708000004,
          29.99340057373047,
          43.64619827,
          35.39310073852539,
          42.74829864501953,
          61.13389969,
          37.082901000999996,
          33.67570114,
          33.643798828099996,
          25.6478996277,
          36.8207016,
          40.648101806599996,
          42.90800095,
          30.4832,
          32.343898773193004,
          24.556100845336914,
          35.2140007019043,
          36.08010101,
          28.429399490356445,
          34.18539810180664,
          47.48199844,
          41.26070023,
          64.83750153,
          45.19440079,
          32.640098571799996,
          46.7439,
          46.3745002746582,
          42.1599006652832,
          42.49100112915039,
          36.58700180053711,
          34.42620087,
          29.179899,
          62.320499420165994,
          41.26369858,
          35.43619918823242,
          36.097801208496094,
          43.5820007324,
          42.93259811401367,
          26.1525993347,
          38.1744,
          38.13859939575195,
          37.3255004883,
          38.0364990234375,
          38.0369987488,
          35.04019927978516,
          45.77750015,
          45.807701110839844,
          45.95479965209961,
          44.74140167236328,
          44.45000076,
          44.06010056,
          43.6072998046875,
          42.19540023803711,
          34.895698547399995,
          40.47710037,
          30.40730094909668,
          42.234901428222656,
          41.58679962,
          40.97850037,
          39.83459854125977,
          41.88470077514648,
          43.879002,
          44.7775993347,
          40.664199829100006,
          44.258098602299995,
          43.90829849243164,
          40.03919983,
          39.14099884033203,
          41.3778991699,
          39.1223983765,
          37.0363888889,
          30.0618000031,
          28.42970085144043,
          27.39539909362793,
          34.209800720215,
          41.44850158691406,
          30.212099,
          46.77270126342773,
          37.9538002,
          44.0452995300293,
          33.12829971,
          42.96540069580078,
          40.50899887,
          44.12459945678711,
          43.51459884643555,
          42.37419891357422,
          44.254100799999996,
          40.916099548339844,
          34.637199401855,
          39.34510040283203,
          32.30059814,
          36.47520065307617,
          37.06079864501953,
          36.92610168,
          48.31050109863281,
          43.532901763916016,
          42.20869827,
          33.6192016602,
          56.80170059,
          28.7775993347168,
          40.31610107421875,
          46.91630173,
          35.95240020751953,
          29.622299194335998,
          39.57009888,
          34.4250984192,
          30.9157009125,
          35.6542015076,
          29.8181991577,
          38.04970169,
          32.28939819335937,
          32.71900177,
          31.15250015258789,
          30.735300064087,
          39.64260101,
          41.5651016235,
          40.82139968869999,
          32.516300201416016,
          34.5676994324,
          40.4518013,
          35.13850021,
          38.89390182495117,
          42.48180008,
          41.393100738499996,
          43.20270157,
          41.3301010131836,
          45.54660034179688,
          33.450298309299995,
          46.9711990356,
          42.0831270134,
          41.66930008,
          34.848598480225,
          39.64289856,
          38.37310028076172,
          41.338500976599995,
          47.50939941,
          46.92070007324219,
          39.12319946289063,
          44.3488998413,
          40.8493003845,
          32.33259963989258,
          39.84410095,
          37.3030014038,
          40.48120117,
          35.511100769,
          37.04420089999999,
          38.069698333699996,
          39.37060165,
          44.520198822,
          37.24570084,
          37.151798248291016,
          40.652099609375,
          36.281898,
          41.70869827270508,
          41.14339828,
          40.97809982299805,
          34.8292007446,
          33.220600128174,
          42.40200043,
          45.44910049438477,
          31.535499572753906,
          33.94860076904297,
          32.839900970500004,
          42.55709838867188,
          46.09489822,
          45.07809829999999,
          44.91400146,
          41.8031005859375,
          41.87400055,
          37.787300109899995,
          31.2588005065918,
          40.783199310302734,
          41.78020096,
          37.22529983520508,
          46.25080108642578,
          39.2966003418,
          48.120201110839844,
          47.16839981079102,
          37.76340103149414,
          41.17829895,
          44.86579895019531,
          40.82490158081055,
          41.67610168457031,
          34.991199493408196,
          48.2125015258789,
          40.96749877929688,
          34.47800064086914,
          38.36669922,
          40.09349822998047,
          46.92969894,
          41.31209945678711,
          40.27590179,
          41.12620163,
          43.626098632799994,
          42.15610122680664,
          40.12170028686523,
          47.04930114746094,
          37.326698303222656,
          43.16949844,
          46.428001403808594,
          34.74530029,
          43.41709899902344,
          37.74010086,
          31.467100143432614,
          42.9098014831543,
          44.38270187,
          45.57089996,
          43.0778999329,
          40.378501892089844,
          45.63119888305664,
          41.59420013,
          43.52939987,
          35.2368011475,
          44.76919937133789,
          44.38529968261719,
          38.79100036621094,
          34.89889908,
          34.26810073852539,
          39.94269943,
          28.85260009765625,
          30.78249931335449,
          43.9656982421875,
          46.56819916,
          51.87799835205078,
          58.42530060000001,
          59.46009826660156,
          62.18830108642578,
          59.24380111694336,
          61.53630065917969,
          62.95289993,
          62.09540176391602,
          61.58160018920898,
          61.5409,
          56.48429871,
          21.21100044,
          59.2826004028,
          37.295799255371094,
          33.482898712158196,
          46.26470184326172,
          54.1337704415,
          48.4838981628418,
          19.9205,
          42.26729965209961,
          47.490200042725,
          43.165500640869,
          38.591201782199995,
          42.071899414099995,
          33.8720016479,
          43.50439835,
          43.15779876710001,
          33.30780029,
          68.13359833,
          62.646702000000005,
          70.46730041503906,
          63.76679992675781,
          61.52389908,
          64.31909943,
          62.0605011,
          67.73619842529297,
          60.37139892578125,
          64.72720337,
          66.249604,
          63.6864013671875,
          67.56610107421875,
          68.1147,
          39.707901,
          55.31499862670898,
          66.0696029663,
          59.32400131225586,
          59.4499015808,
          55.11629867553711,
          56.95909881591797,
          59.05279922485352,
          45.7226982117,
          59.503299713100006,
          37.75500107,
          45.8184013367,
          66.5518035889,
          41.703300476100004,
          60.12689971923828,
          47.838298797600004,
          44.9262008667,
          40.2422981262207,
          40.41230010986328,
          36.21070098877,
          42.59569931,
          38.5097999573,
          43.064201355,
          45.695098877,
          43.98440170288086,
          47.3988990784,
          41.61629867553711,
          46.39830017,
          37.8582992554,
          35.6352005,
          60.1492004395,
          34.200801849365,
          42.852500915527,
          29.959199905395998,
          38.50899887,
          28.289800643899998,
          30.181999206500002,
          41.7911987305,
          41.552398681599996,
          42.16659927368164,
          39.22320175,
          29.9766998291,
          38.68920135,
          38.3442993164,
          38.84220123,
          38.662101745605,
          47.82450104,
          47.21110153,
          48.06570053,
          45.9323005676,
          45.92789841,
          41.69139862060547,
          27.69260025,
          33.4049,
          35.05939865,
          38.0654983521,
          39.771900177002,
          43.938999176025,
          38.53390121,
          33.803398132324,
          44.2723999,
          26.92020035,
          47.2854995728,
          42.15340042,
          37.0533981323,
          38.2638015747,
          48.11420059,
          46.7974014282,
          47.70690155,
          42.837600708000004,
          42.0531997681,
          40.20629883,
          24.72610092,
          47.13869858,
          48.0945014954,
          44.68840027,
          37.434898,
          38.75500107,
          39.29970169,
          40.4408989,
          33.462799072266,
          34.265499115,
          44.88970184,
          45.1237983704,
          37.62409973,
          48.5219993591,
          48.708198547399995,
          46.158000946,
          44.58039855957031,
          62.78609848,
          63.88840103,
          70.33080291750001,
          62.6922988892,
          70.2099990845,
          60.21367264,
          60.87440109,
          60.790298461899994,
          59.876499,
          61.8642997742,
          61.7788848877,
          59.726600647,
          58.9902000427,
          66.6449966431,
          64.77639771,
          66.04109955,
          65.69789886,
          64.72930145263672,
          67.0086975098,
          66.36219787600001,
          65.57379913,
          66.88809967041,
          35.65879822,
          36.3186988831,
          37.28469849,
          57.503601,
          58.1952018738,
          58.2543983459,
          58.0961,
          56.9613990784,
          55.13100051879883,
          55.206298828125,
          58.1855010986,
          55.905998,
          57.5803985596,
          58.7033996582,
          56.9387016296,
          57.5671005249,
          57.535099029499996,
          67.106300354,
          65.9815979004,
          66.9759979248,
          66.9123001099,
          66.81790161,
          66.60009766,
          65.3312988281,
          64.61470032,
          64.5504989624,
          65.2404022217,
          65.62259300000001,
          64.689201355,
          64.9394989014,
          63.49010086,
          64.37110138,
          65.56310272,
          52.22029877,
          60.0820007324,
          62.6800422668,
          59.9329986572,
          54.8474006652832,
          56.007499694824,
          56.0060005188,
          55.5792007446,
          59.75510025,
          63.030601501499994,
          64.8760986328,
          61.84529876710001,
          59.980201721190994,
          59.9608001709,
          63.01860046386719,
          60.9029006958,
          70.6380004883,
          60.0773010254,
          63.32949829,
          65.83049799999999,
          61.7005004883,
          63.8661994934082,
          55.5546989440918,
          63.88600158691406,
          64.99759674069999,
          39.40190125,
          34.9878006,
          40.354400634765625,
          33.7790985107,
          40.0797996521,
          32.9686012268,
          30.40010071,
          35.331401825,
          36.0181999207,
          40.219200134277,
          40.5163002,
          39.3805999756,
          38.73640060424805,
          39.61389923,
          35.8797988892,
          34.571098,
          35.021900177,
          31.3425998688,
          27.943399429299998,
          37.6934013367,
          37.510898590100005,
          33.62670135498,
          34.015800476100004,
          33.748401641846,
          33.622898101806996,
          46.9693985,
          38.57910156,
          39.52629852,
          41.44490051269531,
          33.8755989075,
          39.14599990844727,
          27.18169975,
          40.799400329589844,
          38.2132,
          32.572299957275,
          27.071599960327,
          26.78499985,
          30.357105999999998,
          34.0954017639,
          37.511901855469,
          35.856300354003906,
          60.47570037841797,
          32.826198577880994,
          39.3199996948,
          34.01319885,
          44.7356987,
          45.6994018555,
          45.80640029907226,
          42.742900848389,
          27.988899230999998,
          33.485699,
          33.5741996765,
          41.516300201416016,
          39.5890007019,
          39.75719833374024,
          41.013500213600004,
          44.48030090332,
          34.9786987305,
          39.90879822,
          44.90950012,
          34.680999755859,
          43.11040115356445,
          42.620300293,
          32.66389846801758,
          33.97809982,
          36.9645004272,
          36.039600372314,
          37.706401825,
          38.830898284899995,
          38.8041992188,
          39.09780121,
          34.47090149,
          29.2112998962,
          41.6072998,
          37.9897003174,
          25.325399398804002,
          39.840301513671996,
          39.068698883056996,
          33.17789841,
          42.114222,
          46.11800003049999,
          39.427898407,
          32.4095993042,
          32.954899,
          33.42039871,
          32.95809937,
          35.39730072,
          40.61529922,
          41.80559921,
          40.875198364300005,
          38.0960006714,
          30.901599884032997,
          35.9728012085,
          31.429000854499996,
          33.688301086399996,
          29.35950088501,
          63.7326011658,
          61.18000030517578,
          66.814102172852,
          40.1749992371,
          31.68370056152344,
          28.086799621599997,
          31.98880005,
          29.300600051879886,
          45.54940032959001,
          45.540401,
          39.168300628699996,
          45.3047981262207,
          29.467399600000004,
          44.53459930419999,
          32.6809005737,
          41.3496017456,
          41.1680984497,
          60.471000671386996,
          60.54140091,
          30.971500399999996,
          39.40299987792969,
          34.2593002319,
          36.9886016846,
          29.72750092,
          31.47669982910156,
          27.49510002,
          41.8744010925293,
          41.90900039672852,
          41.597099304199,
          42.1904983521,
          42.157799,
          41.74399948120117,
          41.50999832,
          40.2170982361,
          42.09830093383789,
          41.3714981079,
          42.781700134299996,
          42.7172012329,
          41.47859954834,
          42.554100036621094,
          34.12310028076172,
          34.089977000000005,
          34.3506011963,
          33.972599,
          35.96390151977539,
          33.98289871,
          32.645301818847656,
          34.72290039,
          33.63100051879883,
          33.0088996887,
          33.15420151,
          32.8406982422,
          33.3572998046875,
          34.27259827,
          40.470901489258,
          34.44940186,
          32.2243995667,
          33.4664993286,
          35.8202018737793,
          37.561798100000004,
          34.59379959,
          32.9875984192,
          42.79719924926758,
          39.01119995,
          37.32360076904297,
          26.247100830078,
          33.17699814,
          39.93519974,
          37.0821990967,
          35.13180161,
          42.7606010437,
          34.08530044555664,
          33.989700317382805,
          47.26789856,
          30.29050064,
          40.9868011475,
          39.615398407,
          43.2117004395,
          41.51779938,
          41.351898,
          42.2597999573,
          40.1375007629,
          27.2628002167,
          27.45639992,
          27.59119987,
          28.06290054,
          28.2282009125,
          29.17259979,
          31.55400085,
          33.6120986938,
          33.311599731445305,
          33.52970123,
          33.6493988037,
          34.2835998535,
          34.609901428200004,
          35.23740005,
          34.8913,
          43.52270126,
          35.765300750732,
          42.69070053100586,
          41.13560104,
          41.34429932,
          41.51750183105469,
          42.49330139,
          39.9429016113,
          40.617401123,
          41.639702,
          40.86470031738281,
          43.03170013,
          27.9766998291,
          41.85879898071289,
          34.453399658203125,
          33.811698913600004,
          41.5349006652832,
          33.039199829101555,
          41.933399200000004,
          41.2971992493,
          41.6839981079,
          38.18249893,
          44.048500061000006,
          25.9950008392,
          46.0093002319,
          43.9706001282,
          42.35120010375977,
          44.6369018555,
          44.360298156700004,
          41.8311004639,
          42.5842018127,
          36.773899078369006,
          44.910099029541016,
          40.4598999023,
          44.93450164794922,
          43.771198272700005,
          44.33330154,
          44.5452003479,
          46.31119918823242,
          40.7533988953,
          36.621898651100004,
          34.665599823,
          39.97900009,
          44.264499664300004,
          40.706902,
          31.15180016,
          40.7724990845,
          33.311698913600004,
          35.22010040283203,
          47.4930992126,
          34.091598510742,
          29.6354999542,
          34.67190170000001,
          37.6944999695,
          30.678800582885746,
          41.10129929,
          44.312801,
          39.07799911499024,
          43.23469925,
          40.039398193400004,
          37.461101532,
          33.4608001709,
          32.935901641845696,
          34.7299995422,
          32.9908056,
          33.96889877,
          42.665500640869006,
          42.898399353027344,
          41.639198303200004,
          43.91339874267578,
          38.942902000000004,
          31.382400512694996,
          31.26479912,
          42.916698455811,
          37.659198761,
          42.2229995728,
          33.389099,
          26.43320084,
          37.183799743652,
          43.76959991,
          32.5106010437,
          33.526901245117195,
          32.85480118,
          36.898899078369006,
          43.3412017822,
          43.05130005,
          28.867300033569336,
          39.32569885,
          38.90919876098633,
          41.19079971,
          43.9911003113,
          30.042400360107003,
          47.77429962,
          30.070699691799998,
          40.19919968,
          28.514799118042003,
          29.722499847399998,
          44.827201843299996,
          38.84759903,
          39.9901008605957,
          38.72140121,
          39.410400390599996,
          34.31549835205078,
          43.28409957885742,
          38.0582008362,
          41.3918991089,
          46.21340179,
          46.6769981384,
          46.687400817871094,
          41.27479935,
          39.90420150756836,
          32.89780045,
          31.951299667399997,
          33.92679977416992,
          35.91899872,
          32.61510086,
          42.078499,
          33.31290054,
          38.8744010925293,
          45.0620002746582,
          32.0848999023,
          32.56439972,
          44.49720001,
          41.195899963379,
          35.02159881591797,
          40.1755981445,
          47.233600616455,
          60.69029998779297,
          60.70289993,
          35.911800384521484,
          40.3330001831,
          35.570499420166,
          35.562400817871094,
          36.2228012085,
          32.70090103149414,
          36.572898864746094,
          37.1417007446,
          34.71289825,
          33.82849884,
          35.65449905,
          36.6869010925293,
          34.086101532,
          37.600399017333984,
          29.336999893188,
          35.438201899999996,
          30.88570023,
          37.8567008972168,
          30.371098999999997,
          30.3841991425,
          34.1115989685,
          38.05810165,
          41.7193984985,
          41.44620132446289,
          33.970500946,
          36.60680008,
          38.35240173,
          34.7583007812,
          32.51060104370117,
          34.403099060100004,
          35.935001,
          33.9292984,
          37.40650177,
          36.36159897,
          28.82309914,
          33.97470093,
          39.93270111,
          35.67290115,
          37.5134010315,
          34.74110031,
          36.28490067,
          33.569900512699995,
          34.847900390599996,
          44.22159958,
          31.860399246216,
          33.171798706054695,
          31.29969978,
          32.914699554399995,
          39.87590027,
          38.47430038452149,
          40.452099,
          37.70159912,
          41.241298675500005,
          40.7910003662,
          37.49140167,
          41.2592010498,
          40.528198242188,
          37.43539810180664,
          37.000702000000004,
          39.785301208496094,
          40.9379997253,
          36.6851005554,
          37.27690124511719,
          37.60400009,
          37.1584014893,
          37.67160034179688,
          38.20859909,
          31.10619926452637,
          28.9733009338,
          33.636600494385,
          37.09400177,
          40.4374008179,
          41.44910049,
          45.29019927979999,
          41.13750076,
          40.435199737549,
          33.923099517800004,
          41.985500335693004,
          48.16070175,
          27.915599822998,
          41.07649993896485,
          41.45399857,
          43.96250153,
          37.332901000999996,
          36.9356994629,
          37.239200592041016,
          40.224700927734375,
          38.89030075069999,
          45.866298675500005,
          39.2619018555,
          31.179300308200002,
          37.373100280799996,
          44.8372993469,
          42.58509827,
          36.3689002991,
          42.3073005676,
          42.5425987244,
          43.072601318400004,
          37.668800354,
          30.3362998962,
          35.9513015747,
          38.715000152600005,
          34.85369873,
          32.262298584,
          36.6194,
          34.7663002014,
          30.65040016,
          40.8033981323,
          29.8927001953125,
          46.02519989010001,
          30.5112991333,
          33.638599400000004,
          40.0663986206,
          45.54650116,
          31.17849922,
          37.778099060058594,
          33.92079926,
          43.89220047,
          30.39109993,
          33.456798553467,
          41.44800186,
          41.10660172,
          31.27569962,
          42.79550171,
          41.6265983581543,
          45.14830017,
          38.872100830078004,
          44.54719925,
          36.662799835205,
          30.585699081420998,
          34.59059906,
          38.06019974,
          45.24710083007813,
          39.125999450684,
          34.384300231934,
          30.7469005585,
          42.85779953,
          40.8965988159,
          36.438,
          28.4675998688,
          39.9444007874,
          64.54730224609375,
          61.5717010498,
          63.985000610352,
          53.309700012200004,
          44.880798339799995,
          43.4608001709,
          49.9561004639,
          56.653301238999994,
          45.3224983215332,
          46.7911,
          46.11220169067383,
          50.43190002441406,
          43.627499,
          45.4706001282,
          49.193901061999995,
          49.909999847399995,
          52.170799255371094,
          43.035599,
          51.113899231000005,
          48.646900177,
          47.618598938000005,
          43.6772003174,
          5.605189800262451,
          6.5773701667785645,
          50.9014015198,
          50.033333299999995,
          53.630401611328004,
          51.28950119018555,
          48.353801727295,
          48.6898994446,
          52.559700012200004,
          60.317199707031,
          54.6575012207,
          52.4538993835,
          53.35369873046875,
          51.14810180664063,
          51.4706,
          55.8718986511,
          55.95000076293945,
          52.308601379399995,
          53.42129898071289,
          52.701999664307,
          55.617900848389,
          60.29339981,
          60.193901062011996,
          52.1656990051,
          59.651901245116996,
          -26.1392,
          33.36750030517578,
          14.739700317382812,
          30.12190055847168,
          41.297100067139,
          40.471926,
          43.658401489300005,
          49.0127983093,
          48.7233333,
          45.6306,
          45.505299,
          41.800277799999996,
          32.011398315429695,
          48.110298156738004,
          37.7411994934,
          41.248100280799996,
          38.7812995911,
          46.23809814453125,
          47.464698791504,
          40.976898193400004,
          21.77359962463379,
          18.45070075988769,
          18.567399978599997,
          19.75790023803711,
          18.42970085144,
          19.406099319458008,
          14.58329963684082,
          15.45259952545166,
          16.316799,
          14.06089973449707,
          17.935699462890625,
          18.503700256347656,
          16.757099151611328,
          21.705601,
          15.77530002593994,
          18.65369987487793,
          28.702899932900003,
          20.52239990234375,
          24.1242008209,
          20.521799087524414,
          29.095899581900007,
          25.54949951171875,
          20.993499755900004,
          25.989200592041016,
          20.9370002747,
          19.849899292,
          19.4363,
          25.7784996033,
          23.1613998413,
          16.9999008179,
          19.1581001282,
          19.396699905395508,
          20.680099487304688,
          20.6173000336,
          23.15180015563965,
          22.254299163800006,
          25.568300247199996,
          22.2964000702,
          19.3370990753,
          21.036500930800003,
          17.996999740600586,
          19.145900726300003,
          22.8971004486,
          17.601600647,
          19.144800186199998,
          12.141500473022461,
          9.0713596344,
          10.593299865722656,
          9.993860244750977,
          13.4409,
          18.57999992370605,
          19.292800903299998,
          26.511400222800003,
          26.745300293000003,
          25.6998996735,
          23.5625991821,
          25.474899291999996,
          25.2847003937,
          26.5587005615,
          25.0389995575,
          24.06329917907715,
          17.539100646972653,
          -21.202699661300002,
          -17.755399703979492,
          -13.829999923706055,
          -14.3310003281,
          -37.0080986023,
          21.6796,
          24.957599639892575,
          31.7226009369,
          29.226600646972656,
          24.433000564575195,
          25.252799987800003,
          13.4834003448,
          7.064760208129883,
          1.9861600399017332,
          25.0777,
          35.764701843299996,
          42.77519989013672,
          33.585899353027344,
          35.552299,
          14.5086,
          -1.3792500495900002,
          -15.86916732788086,
          -19.62444305419922,
          -3.038609981536865,
          -22.809999465900002,
          -23.435556411743164,
          -29.994400024414066,
          -8.126489639282228,
          -12.9086112976,
          -33.393001556396484,
          -2.15741991997,
          -0.129166666667,
          -25.239999771118164,
          4.452780000000001,
          4.70159,
          10.8896,
          10.4424,
          3.54322,
          6.164540000000001,
          -17.644800186157227,
          -12.0219,
          -34.838401794433594,
          10.107099533081056,
          10.5582084656,
          10.6031169891,
          17.1367,
          13.0746002197,
          14.590999603271484,
          16.265300750732422,
          12.004199981689453,
          18.337299346923828,
          17.701900482177734,
          18.49489974975586,
          18.00830078125,
          18.4393997192,
          17.311199188232422,
          13.7332,
          12.501399993896484,
          12.130999565124512,
          12.1889,
          18.0410003662,
          11.149700164794922,
          10.595399856567383,
          50.34500122070313,
          55.972599,
          55.591499328599994,
          19.088699340799998,
          22.3089008331,
          28.56649971008301,
          -27.38419914245605,
          -37.673301696777344,
          -33.94609832763672,
          40.0801010131836,
          23.39240074157715,
          31.143400192260746,
          37.46910095214844,
          37.9364013672,
          34.8583984375,
          56.92359924316406,
          -34.8222,
          34.42729949951172,
          55.40879821777344,
          32.363998413085945,
          -17.5536994934,
          6.498549938201903,
          14.924500465393065,
          19.267000198399998
         ],
         "lon": [
          -143.582000732,
          -166.1100006,
          -163.00500490000002,
          -155.04800415039062,
          -81.332901000977,
          -151.529007,
          -149.119995,
          -153.7039948,
          -145.25,
          -155.5740051,
          -149.6529999,
          -155.977005005,
          -166.03900149999998,
          -71.28900146,
          -170.22000122070312,
          -162.06300354,
          -169.662002563,
          -154.9109955,
          -161.82000732421875,
          -155.259002686,
          -83.39409637,
          -121.762001,
          -121.29799650000001,
          -116.629997253,
          -116.16200259999998,
          -94.36740112304688,
          -149.843994140625,
          -107.902000427,
          -97.09980011,
          -81.14569855,
          -97.176102,
          -91.9356002808,
          -87.02189636,
          -156.01400756835938,
          -112.41999820000001,
          -74.8134994506836,
          -71.00520325,
          -121.92700195312,
          -75.40699768,
          -114.03099823,
          -88.06809997559998,
          -122.22100067138672,
          -95.89409637451172,
          -123.41400146484376,
          -156.42999267578125,
          -97.43309783935548,
          -94.713898,
          -89.3375015258789,
          -158.50500490000002,
          -93.15470123291016,
          -112.01200103759766,
          -68.82810211181639,
          -80.1707000732,
          -94.71150207519531,
          -82.70939636230001,
          -117.53399658203124,
          -80.24069976810001,
          -122.375,
          -112.375999451,
          -91.883904,
          -82.27179718020001,
          -89.97669982910156,
          -109.60399627700001,
          -145.722000122,
          -97.07409667969999,
          -131.57200622558594,
          -68.0178985596,
          -92.14969635010002,
          -86.68479919,
          -79.014503479004,
          -102.54699707,
          -100.77799987799999,
          -118.40799709999999,
          -85.85810089,
          -81.8498001099,
          -75.46600342,
          -84.6678009033,
          -76.7593994141,
          -117.6920013,
          -98.22850036621094,
          -134.57600402832028,
          -91.98760223,
          -74.168701171875,
          -116.22299960000001,
          -115.672996521,
          -100.72399902299999,
          -101.27999877929688,
          -158.03999330000002,
          -86.36579895019531,
          -96.85179901123048,
          -104.75700379999999,
          -111.98300170898438,
          -117.1429977,
          -112.383003235,
          -118.334999,
          -67.79209899899999,
          -97.9164962769,
          -119.12100219700001,
          -117.884003,
          -93.22329711914062,
          -156.04600524902344,
          -78.9282989502,
          -119.95200349999999,
          -70.06020355,
          -76.60880279540002,
          -87.49620056150002,
          -77.037697,
          -76.41179657,
          -96.25099945068399,
          -89.94400024410002,
          -74.57720184326172,
          -97.386596679688,
          -104.49700164794922,
          -68.0447998,
          -122.5810013,
          -152.4940033,
          -155.86000061035156,
          -80.15270233154297,
          -95.36669922,
          -93.4030990600586,
          -111.97799682617188,
          -100.288002014,
          -88.92440032959999,
          -84.9913024902,
          -96.76450348,
          -76.7633972168,
          -96.75920104980469,
          -84.58740234375,
          -155.66799926757812,
          -74.84559631347656,
          -81.38950348,
          -82.62699890136719,
          -81.86329650879998,
          -95.34140014648438,
          -68.68560028076172,
          -76.86699676510001,
          -80.22200012207031,
          -117.383003235,
          -86.522102356,
          -75.71949768,
          -82.52890015,
          -119.0569992,
          -106.37799840000002,
          -97.65440368652344,
          -81.11949920654297,
          -110.883003235,
          -87.31860352,
          -87.18659973144501,
          -97.4011993408,
          -95.27890015,
          -104.75199890100001,
          -141.9290009,
          -149.08900451660156,
          -80.23290253,
          -156.766008,
          -95.15879821780001,
          -122.65599820000001,
          -98.02690124510002,
          -83.1930007935,
          -80.29060363769531,
          -122.30899810791016,
          -85.20379638671875,
          -73.1261978149414,
          -90.0758972168,
          -94.8603973388672,
          -118.15200039999999,
          -158.197006226,
          -76.92109680175781,
          -86.294403,
          -93.547897338867,
          -81.46690368649999,
          -90.08470153809999,
          -73.70760345458984,
          -72.6317977905,
          -90.64640045166016,
          -80.08509827,
          -117.2149963,
          -106.3799973,
          -114.6060028,
          -104.26300048828124,
          -92.19360351559999,
          -161.8379974,
          -85.6636962891,
          -110.34400177001952,
          -159.33900451660156,
          -87.30760192871094,
          -109.762001,
          -119.3199997,
          -72.56230164,
          -77.3197021484375,
          -93.82559967041016,
          -145.4779968,
          -76.20120239257812,
          -94.02069854736328,
          -81.20210266,
          -111.97308600000001,
          -165.44500732421875,
          -82.68740082,
          -87.63839721679688,
          -95.41449737549999,
          -148.46499630000002,
          -98.46980285644531,
          -77.67240142822266,
          -80.6100997925,
          -74.060798645,
          -103.1039963,
          -78.7874984741211,
          -84.21939849853516,
          -151.2449951171875,
          -95.78350067,
          -78.94619750976562,
          -96.3313980103,
          -76.49299622,
          -92.29579925540001,
          -99.26670074459999,
          -110.94100189208984,
          -101.3580017,
          -121.43699646,
          -87.84629821780001,
          -77.96060181,
          -71.42040252685547,
          -75.51029968261719,
          -121.10299682617188,
          -118.35900115966795,
          -83.35340118408203,
          -82.533203125,
          -97.2407989502,
          -93.1917038,
          -147.102005,
          -92.83899689,
          -94.75,
          -102.2020034790039,
          -88.12960052490234,
          -97.01963420000001,
          -74.59169769,
          -82.36990356445312,
          -81.9645004272461,
          -103.64199829100001,
          -92.22429656979999,
          -74.10479736328125,
          -94.61219787600001,
          -121.49299621600001,
          -151.4770050048828,
          -92.14070129,
          -84.51629639,
          -117.65599823,
          -84.671095,
          -85.57540130619998,
          -97.03800201416016,
          -80.64530181884766,
          -122.475997925,
          -97.6698989868164,
          -82.927803,
          -87.39540100100001,
          -83.99400329999999,
          -97.7145004272,
          -90.37000274658205,
          -75.07219696044922,
          -98.49189758,
          -84.41860199,
          -84.4281005859375,
          -120.5680008,
          -121.40100100000001,
          -85.52279663,
          -103.20099639899999,
          -119.71800231933594,
          -80.417900085449,
          -115.57900238,
          -86.6781997680664,
          -99.46160125732422,
          -149.8070068359375,
          -162.598999,
          -78.31999969,
          -99.85459899899999,
          -92.81330108642578,
          -73.87259674,
          -84.35030364990234,
          -88.24859619,
          -97.23049926757812,
          -69.7973022461,
          -97.09719849,
          -88.91560364,
          -157.0959930419922,
          -85.9720993042,
          -100.49600219726562,
          -115.51300048799999,
          -121.8580017,
          -73.15329742429998,
          -81.68789672851562,
          -107.75399780299999,
          -77.45580292,
          -96.36380005,
          -117.32299804688,
          -87.89659881591797,
          -99.68190002440001,
          -92.21959686279295,
          -122.59799960000001,
          -80.897003173828,
          -80.09559631347656,
          -97.36239624019998,
          -75.46549987790002,
          -122.302001953125,
          -98.58110046,
          -157.9219970703125,
          -93.66310119628906,
          -77.04290008539998,
          -117.190002441,
          -92.0376968383789,
          -80.47059631,
          -117.60099792480469,
          -96.0652999878,
          -104.53099822998048,
          -83.00990295,
          -97.4259033203125,
          -85.44960021972656,
          -74.9083023071,
          -82.83550262451172,
          -108.230003357,
          -97.5011978149414,
          -76.1063003540039,
          -81.68890381,
          -87.75240325927734,
          -121.9290008544922,
          -103.21700290000001,
          -75.01059723,
          -104.672996521,
          -75.24109649658203,
          -96.38439941,
          -83.64920043945312,
          -107.27200317399999,
          -118.08499909999999,
          -98.27890015,
          -115.6719970703125,
          -82.89189910888672,
          -94.17009735107422,
          -98.40219879,
          -93.60820007,
          -84.04830169680001,
          -156.93699650000002,
          -98.0602035522,
          -97.26820374,
          -90.03500366,
          -80.6343994141,
          -93.99099731445312,
          -73.46810150146484,
          -76.1688,
          -103.60299682600001,
          -149.99600219726562,
          -97.8289031982,
          -108.79199981689452,
          -122.53800201416016,
          -89.87030029296899,
          -79.85710144,
          -72.64939880371101,
          -71.49140167239999,
          -88.242797851562,
          -122.04900360107422,
          -106.08899688700001,
          -159.785003662,
          -93.3398971558,
          -155.554000854,
          -110.8479995727539,
          -82.52120209,
          -89.835197,
          -80.27839661,
          -100.92700195299999,
          -81.75520324707031,
          -156.6490021,
          -76.56939697,
          -156.67300415039062,
          -73.77890015,
          -80.38359833,
          -117.4449997,
          -94.9147033691,
          -75.46640014649999,
          -106.107002258,
          -75.14820099,
          -104.81199649999999,
          -121.2379989624,
          -80.04049683,
          -119.76799774169922,
          -131.7140045,
          -83.53040314,
          -120.583999634,
          -86.75350189,
          -74.353302,
          -115.03399658200001,
          -117.2590027,
          -120.9540024,
          -121.59100341796876,
          -87.86789703369101,
          -104.70099639893,
          -78.73220062,
          -82.6522979736,
          -122.28199769999999,
          -115.872002,
          -113.0989990234375,
          -72.68319702149999,
          -98.23860168,
          -76.28929901,
          -72.53479767,
          -101.822998046875,
          -87.90480042,
          -80.1076965332,
          -147.85600280000003,
          -77.30529785,
          -103.321998596,
          -157.76800537100002,
          -95.912498474121,
          -145.4570007,
          -76.02169799804688,
          -116.50700378417969,
          -101.70600128173828,
          -94.19259644,
          -93.6626968384,
          -95.6635971069,
          -99.22029877,
          -77.90260314941406,
          -91.14959717,
          -95.40239715576172,
          -76.66829681,
          -99.05131300000001,
          -156.9510040283203,
          -92.54979705810548,
          -106.40299990000001,
          -162.72500610351562,
          -95.88809967041016,
          -135.36199951171878,
          -73.10019684,
          -93.22180175780001,
          -75.60649872,
          -166.54400634799998,
          -90.25800323486328,
          -70.30930328,
          -97.60070037841795,
          -73.80169677734375,
          -146.24800109999998,
          -76.360496521,
          -117.86799620000001,
          -88.44380187990002,
          -80.432800293,
          -76.03350067,
          -86.15209960940001,
          -106.4639969,
          -86.525398,
          -86.98780059814501,
          -81.75959777832031,
          -80.94309997558594,
          -115.15200039999999,
          -81.30899810791016,
          -79.7238998413086,
          -111.3710022,
          -80.67910004,
          -147.6139984,
          -123.13600159999999,
          -83.59190368649999,
          -117.110001,
          -117.01499938964844,
          -76.8916015625,
          -76.4583969116211,
          -121.84300231933594,
          -119.8399963,
          -81.058098,
          -150.09399414062,
          -72.88680267,
          -82.54180145263672,
          -79.93730163574219,
          -96.741897583,
          -71.43569946289062,
          -81.7752990723,
          -85.736,
          -78.4529037475586,
          -79.975402832,
          -84.60590362548828,
          -87.53240203860001,
          -106.60900115966795,
          -111.15299990000001,
          -108.54299926757812,
          -112.49700164794922,
          -85.58219909667969,
          -68.36150359999999,
          -69.09919739,
          -110.73799896240234,
          -89.09719848632812,
          -82.2189025879,
          -88.91590118,
          -89.07009887695312,
          -85.5521011352539,
          -83.80780029,
          -85.19509888,
          -88.8656997680664,
          -91.71080017089844,
          -91.256699,
          -89.6668014526,
          -89.6932983398,
          -88.51909637450001,
          -92.5,
          -88.27809906,
          -96.6707992553711,
          -79.8603973389,
          -108.527000427,
          -113.510305556,
          -95.5528030396,
          -96.44439697265624,
          -82.55439758300781,
          -118.48999786376999,
          -90.50749969482422,
          -85.6828,
          -100.74600219726562,
          -107.90799709999999,
          -103.05699920654295,
          -117.27999879999999,
          -83.74359893798828,
          -122.2929993,
          -123.21199798583984,
          -112.0709991455078,
          -122.8730010986328,
          -121.15000149999999,
          -81.44219970703125,
          -86.775100708008,
          -81.43920135498047,
          -86.39399719,
          -82.40740203857422,
          -88.7738037109375,
          -111.447998,
          -114.25599670410156,
          -84.07959747314453,
          -75.97979736,
          -114.717002869,
          -132.9450073,
          -81.23750305175781,
          -78.83390045166016,
          -114.0910034,
          -112.14700317382812,
          -95.65650177001999,
          -104.84899899999999,
          -103.07900238,
          -102.916000366,
          -105.14199829100001,
          -95.6725997925,
          -103.5090027,
          -106.9219970703125,
          -98.8909988403,
          -97.40779876708984,
          -101.20300292969,
          -106.9179993,
          -81.4863967896,
          -82.5166015625,
          -84.93890380859375,
          -98.4166030884,
          -105.01100158700001,
          -111.6709976,
          -119.99500274658205,
          -114.487999,
          -70.6143035889,
          -71.50229645,
          -72.04509735107422,
          -94.05989837646484,
          -88.59140014649999,
          -123.93699646,
          -80.1738667488,
          -70.28040314,
          -111.78800201416,
          -79.91629791,
          -81.59320068359375,
          -75.72339630130001,
          -94.93370056,
          -96.81580352783205,
          -94.5927963256836,
          -105.539001465,
          -77.84870147710002,
          -88.75189971923828,
          -89.67790222,
          -108.627998352,
          -107.21800230000001,
          -108.789001465,
          -100.95999909999999,
          -102.68800354,
          -101.6989975,
          -109.024002075,
          -93.38860321,
          -94.49829864501952,
          -75.44080352783203,
          -94.30680100000001,
          -86.31729888916016,
          -85.15280151,
          -124.10900115966795,
          -77.61209869380002,
          -87.611396789551,
          -90.70950317,
          -98.42179870605469,
          -84.19450378417969,
          -83.32630157470703,
          -105.990997314,
          -92.40029907226562,
          -118.288002,
          -83.56030273,
          -97.15470123,
          -78.64009857177734,
          -103.5960007,
          -81.1241989136,
          -81.46649932861328,
          -91.12550354003906,
          -124.23699950000001,
          -89.57080078125,
          -84.47239685058594,
          -80.2281036377,
          -123.5,
          -88.48909759521484,
          -99.9655990600586,
          -78.8986969,
          -91.48429870605469,
          -115.79199981689452,
          -70.95690155029297,
          -78.88030242919922,
          -106.61499786376952,
          -98.30960083007812,
          -93.09619903564452,
          -82.55799866,
          -92.5448989868164,
          -98.67819977,
          -105.6750030517578,
          -79.40480042,
          -100.6839981,
          -72.30419921880002,
          -121.73300170898438,
          -76.29609680175781,
          -109.46700286865234,
          -79.20040130615234,
          -86.23819733,
          -105.88600158691406,
          -87.61019897,
          -124.24600219726562,
          -87.16680145,
          -89.33709716796875,
          -112.59600067138672,
          -100.2860031,
          -84.79669952,
          -70.8233032227,
          -75.96520233154297,
          -89.46749877929688,
          -109.0650024,
          -72.94960022,
          -120.64199829100001,
          -106.9800033569336,
          -74.2061996459961,
          -97.6521987915039,
          -120.4570007,
          -88.7698974609375,
          -91.19460297,
          -96.9185028076172,
          -83.27670288085938,
          -107.95099639892578,
          -120.5439987,
          -176.64599609375,
          -135.7070007,
          -135.31599426269528,
          -159.77499389648438,
          -135.52400207519528,
          -160.34100341796875,
          -155.60600280000003,
          -163.6820068359375,
          -159.54299926757812,
          -165.6005,
          -132.36999509999998,
          -156.973999,
          -158.617996216,
          -81.20770263671875,
          -90.98560333251952,
          -119.11900329589844,
          -165.77889561700002,
          -122.93800354003906,
          -155.8607,
          -71.87570190429688,
          -122.76499938965,
          -95.202796936035,
          -92.1560974121,
          -70.2213973999,
          -117.980003357,
          -114.2959976,
          -93.33129882809999,
          -111.65499879999999,
          -151.7429962,
          -160.190994,
          -157.43600463867188,
          -171.73300170898438,
          -166.1470032,
          -158.74099730000003,
          -163.30200200000002,
          -164.56300354003906,
          -166.27099609375,
          -155.47000119999998,
          -166.089112,
          -170.4929962158203,
          -162.97500610351562,
          -145.578995,
          -77.72949982,
          -160.5229949951172,
          -162.76600647,
          -155.90199279785156,
          -157.32800293,
          -162.26600646972656,
          -158.63299560546875,
          -160.39700317382812,
          -87.0936965942,
          -139.660003662,
          -89.01110077,
          -88.11450195309999,
          -152.621994019,
          -86.8211975098,
          -149.41900634765625,
          -90.3828964233,
          -89.62660217290001,
          -85.3958969116211,
          -86.93689727783203,
          -115.19400024414,
          -87.92780304,
          -107.89399719200001,
          -108.459999084,
          -118.84100341799999,
          -88.55699920654297,
          -120.20700073200001,
          -87.41280364990234,
          -94.13809967,
          -80.3994979858,
          -77.38529968,
          -164.285995483,
          -119.20700073241998,
          -73.92890167236301,
          -81.339797973633,
          -122.8130035,
          -81.43710327149999,
          -82.57689666750002,
          -111.851997375,
          -112.06199646,
          -112.2969970703125,
          -106.8690033,
          -99.08570098879999,
          -75.35890198,
          -98.85919952389999,
          -99.27320099,
          -90.652000427246,
          -91.83070374,
          -93.50980377,
          -96.18499756,
          -89.26830291750002,
          -89.73090363,
          -93.56639862060548,
          -97.29109955,
          -118.416,
          -118.15200039999999,
          -97.86060333250002,
          -94.909698486328,
          -90.253402709961,
          -106.9329987,
          -118.33999633789,
          -86.24690247,
          -81.99050140000001,
          -68.31279754639999,
          -79.25800323,
          -84.61589813229999,
          -78.8964004517,
          -98.90879822,
          -102.80200195299999,
          -104.1930008,
          -103.095001221,
          -102.804000854,
          -100.59200290000001,
          -81.05139923,
          -104.8069992,
          -105.57499694799999,
          -111.11799620000001,
          -105.866997,
          -109.7549973,
          -114.84200290000001,
          -109.5100021,
          -105.53500366211,
          -110.005996704,
          -116.10099790000001,
          -113.880996704,
          -118.83799740000002,
          -123.024002075,
          -122.91000366200001,
          -123.87899780299999,
          -124.05799865722656,
          -164.49099730000003,
          -160.798996,
          -149.59800720200002,
          -159.569000244,
          -151.00599670399998,
          -162.0438843,
          -162.5240021,
          -161.444000244,
          -163.169005,
          -162.026000977,
          -161.319458008,
          -157.259002686,
          -159.050003052,
          -143.74000549299998,
          -141.151001,
          -154.26300049999998,
          -156.3509979,
          -158.07400512695312,
          -146.365997314,
          -147.406997681,
          -144.78300480000001,
          -157.16200256348,
          -117.83000179999999,
          -119.392997742,
          -120.5139999,
          -134.58500700000002,
          -136.347000122,
          -134.897994995,
          -135.410111,
          -133.910003662,
          -131.5780029296875,
          -132.8280029296875,
          -157.375,
          -159.162993,
          -157.572006226,
          -157.007995605,
          -154.182998657,
          -154.449996948,
          -153.977996826,
          -157.85699462899998,
          -161.149002075,
          -160.43699646,
          -156.897003174,
          -161.01899719999997,
          -159.98599240000001,
          -166.46600341799999,
          -162.2720032,
          -163.007003784,
          -166.339004517,
          -168.095,
          -163.412994385,
          -161.154006958,
          -162.1100006,
          -161.223999,
          -167.9219971,
          -174.2059937,
          -142.492996216,
          -164.65992736799998,
          -164.031005859,
          -163.41000366210938,
          -161.16000366211,
          -160.561004639,
          -133.076004028,
          -161.84500119999998,
          -163.533004761,
          -157.727005005,
          -165.570999146,
          -154.8390045166,
          -162.88099670399998,
          -154.35800170898438,
          -161.231002808,
          -159.994995117,
          -147.992004395,
          -142.9539948,
          -144.076008,
          -157.166000366,
          -148.968994140625,
          -133.10200500488278,
          -152.302001953125,
          -150.643997192,
          -77.98459625,
          -81.05719757,
          -79.9301986694336,
          -84.5214004517,
          -83.072998046875,
          -96.8364028931,
          -86.47149658,
          -77.60880279540002,
          -75.67130279540002,
          -111.72299957275,
          -106.8659973,
          -112.508003235,
          -112.0989990234375,
          -110.7509995,
          -106.26899719200001,
          -114.358002,
          -110.722999573,
          -109.505996704,
          -81.78340148930002,
          -121.819999695,
          -120.040000916,
          -116.16000366211,
          -118.45099639899999,
          -116.27500152588001,
          -111.91100311279,
          -122.90299990000001,
          -121.8570023,
          -107.72699740000002,
          -106.8239974975586,
          -84.3020019531,
          -86.61669921875,
          -80.22109985,
          -74.41490173339844,
          -122.280998,
          -116.98000335693001,
          -82.440299987793,
          -80.69339752,
          -85.79541400000001,
          -117.23500061,
          -122.25,
          -77.89189910888672,
          -151.03399658203125,
          -116.97200012206999,
          -120.13999939,
          -84.59860229,
          -112.720001221,
          -110.44799804700001,
          -109.9810028076172,
          -86.10739898681601,
          -82.0186004639,
          -90.67890200000001,
          -117.127998352,
          -82.86869812011719,
          -84.224899292,
          -84.8427963256836,
          -83.66870117190001,
          -103.78299713135,
          -89.78690338130001,
          -105.11699679999998,
          -123.00299840000002,
          -90.34670257568399,
          -88.0344009399414,
          -89.0416030884,
          -97.09429931640624,
          -83.96240234,
          -86.41970062259999,
          -95.98459625244101,
          -112.144996643,
          -94.890296936,
          -76.06900024410002,
          -121.5699997,
          -97.95989990000001,
          -99.74359893799999,
          -88.09619904,
          -122.056999207,
          -80.274803161621,
          -83.840202331543,
          -95.62249755859399,
          -96.59049988,
          -87.901494,
          -122.898002625,
          -83.79209899899999,
          -111.21800231899999,
          -111.766998,
          -112.685997,
          -112.6780014,
          -84.56259918,
          -103.26499940000001,
          -107.1999969,
          -74.2814025879,
          -92.54949951170002,
          -83.881301879883,
          -115.134002686,
          -83.4885025024,
          -112.083000183,
          -99.17669677734399,
          -148.910995483,
          -149.9720001220703,
          -150.64399719238,
          -80.6463012695,
          -83.27050018310547,
          -97.04460144040002,
          -83.77390289,
          -81.11360168457031,
          -122.40100097656,
          -122.949997,
          -77.1660003662,
          -85.2748031616211,
          -81.20629883,
          -72.6139984131,
          -96.86820220950001,
          -71.80339813229999,
          -71.577796936,
          -164.70100402832,
          -165.0870056,
          -84.63739777,
          -119.2509994506836,
          -118.413002014,
          -120.11199951200001,
          -85.02749634,
          -82.8604965209961,
          -80.36830139,
          -71.0166015625,
          -70.72879791259766,
          -71.412101745605,
          -71.1728973389,
          -72.715599,
          -72.1802978515625,
          -74.26460266,
          -76.85150146480001,
          -70.67220306396484,
          -73.48220062259999,
          -71.51480102539998,
          -71.1233978271,
          -73.13520050048801,
          -71.75900268554688,
          -84.84870147705078,
          -85.610069,
          -85.15799713130002,
          -86.088996,
          -83.8739013671875,
          -83.66739655,
          -81.59709930419922,
          -84.87020111,
          -85.1520004272461,
          -85.0726013184,
          -83.24069977,
          -84.8824005127,
          -84.5718002319336,
          -83.8302002,
          -81.419700622559,
          -79.89009857,
          -80.6975021362,
          -82.0393981934,
          -81.61139678955078,
          -82.56639862,
          -83.29579926,
          -97.3188018799,
          -88.37259674072266,
          -95.21659851,
          -97.38829803466795,
          -80.11109924316399,
          -86.78279877,
          -86.04499817,
          -84.08489990230001,
          -78.93669891,
          -87.8152008057,
          -117.14600372314452,
          -117.41100311279295,
          -122.57800290000002,
          -87.67179871,
          -75.99490356449999,
          -78.76090240479999,
          -90.18160247799999,
          -88.17549896,
          -89.153099,
          -84.45939636230001,
          -75.26509857180001,
          -80.8498001099,
          -81.3423996,
          -81.52780151,
          -81.75330353,
          -82.15589904790002,
          -82.22419739,
          -81.88249969,
          -83.46040344240002,
          -84.7697982788086,
          -82.51650238,
          -81.68499755859999,
          -80.56490325930001,
          -79.05940246579998,
          -79.39119720000001,
          -79.759598,
          -89.77020264,
          -80.953903198242,
          -88.30460357666016,
          -77.42230225,
          -82.17759705,
          -81.68329620361328,
          -79.27200317,
          -74.845703125,
          -74.2445983887,
          -85.083504,
          -84.6093978881836,
          -78.16760254,
          -82.7586975098,
          -87.60790252685547,
          -84.4573974609375,
          -78.72389984130002,
          -87.52950286865234,
          -116.91500091552734,
          -85.05259705,
          -75.8511962891,
          -81.3897018433,
          -84.90470123,
          -70.2835006714,
          -81.6725006104,
          -83.74389648440001,
          -84.47499847410002,
          -86.25569915771484,
          -90.1893005371,
          -89.83899688720001,
          -90.3291015625,
          -70.91649627689999,
          -90.324897766113,
          -67.01270294189453,
          -91.4284973145,
          -93.05999755859376,
          -88.48840332030001,
          -89.01979828,
          -89.53029632568399,
          -85.4572982788086,
          -82.7238006592,
          -87.41500091549999,
          -120.46800231899999,
          -75.86550140000001,
          -73.96189880370002,
          -84.026703,
          -81.39129639,
          -80.39140319820001,
          -79.3196029663,
          -84.8323974609375,
          -122.21600341799999,
          -117.78199768066001,
          -83.10479736330002,
          -82.8864975,
          -97.2149963379,
          -97.6793975830078,
          -102.98500059999999,
          -83.422302,
          -77.55750274658203,
          -77.1210022,
          -105.225997925,
          -122.114997864,
          -111.72799682600001,
          -111.427001953125,
          -112.03500366200001,
          -111.91852779999999,
          -112.79900359999999,
          -83.420097351074,
          -72.27079772949219,
          -91.5465011597,
          -95.1093978881836,
          -76.568398,
          -103.51100158691,
          -89.25279999,
          -97.385902404785,
          -122.122001648,
          -83.74559783939999,
          -84.332397,
          -81.40100098,
          -77.507400512695,
          -87.85140228,
          -111.32800293,
          -112.29499816894531,
          -109.6350021,
          -89.561798095703,
          -73.6102981567,
          -73.86119843,
          -82.57129669189453,
          -76.4138031,
          -121.35099792480469,
          -83.39450073,
          -70.94789886470001,
          -90.02829742431601,
          -116.8199997,
          -94.21579742430002,
          -87.59590149,
          -80.799201965332,
          -95.5883026123,
          -93.4570999146,
          -94.73760223,
          -75.58190155029297,
          -77.51540375,
          -88.8453979492,
          -81.10880279541016,
          -70.9292984008789,
          -97.2744979858,
          -110.40699768100001,
          -119.7910004,
          -122.98300170899999,
          -119.9209976196289,
          -111.0350037,
          -95.77940368652344,
          -79.78289795,
          -85.1288986206,
          -81.79460144042969,
          -75.69550323,
          -85.43399811,
          -76.096296,
          -86.92590332,
          -104.41000366210938,
          -93.35389709472656,
          -88.738899231,
          -82.98529816,
          -123.29000090000001,
          -112.0120010376,
          -94.62129974365234,
          -103.22200012200001,
          -123.14800262451,
          -161.97900390625,
          -161.7779999,
          -79.61759948730469,
          -75.1222991943,
          -77.049797058105,
          -75.9552001953125,
          -81.09829711910002,
          -80.00289916992188,
          -79.33609771728516,
          -79.01640319820001,
          -79.95700073,
          -79.12220001,
          -79.8946991,
          -77.48280334472656,
          -118.03500366200001,
          -81.5593032836914,
          -98.47109985351601,
          -94.80280304,
          -94.03489685,
          -93.99909973144531,
          -104.017997,
          -103.683998108,
          -117.68800354,
          -83.979599,
          -86.00319671630001,
          -85.93479919433594,
          -80.9952011108,
          -94.73860168,
          -97.69129944,
          -82.3764038086,
          -83.76730346679688,
          -80.11920166019999,
          -79.06590200000001,
          -78.07499695,
          -77.52500153,
          -78.52919769,
          -81.80870056,
          -117.637001,
          -83.46199799,
          -120.6269989,
          -122.500999451,
          -118.21900179999999,
          -78.98419952,
          -86.05090332030001,
          -82.34999847410002,
          -93.91870117,
          -86.012100219727,
          -86.30549621582031,
          -85.89990234,
          -85.96299743649999,
          -85.32649994,
          -100.88500213623048,
          -99.336502,
          -98.74690247,
          -96.59400177,
          -99.7772979736,
          -100.83000179999999,
          -95.760597229,
          -86.05899810791,
          -95.64610290527344,
          -101.879997,
          -104.54299926757812,
          -90.43109893799999,
          -101.508003235,
          -100.3560028076172,
          -101.3740005,
          -95.7783966064,
          -97.0779037475586,
          -99.08599854,
          -98.1958999633789,
          -95.8635025024,
          -95.45079803466801,
          -95.5718994141,
          -104.633003235,
          -96.52020264,
          -118.00700378399999,
          -75.37889862,
          -75.38189697265601,
          -116.850997925,
          -97.435096740723,
          -122.1589966,
          -82.44930267334,
          -71.9207992553711,
          -87.00710297,
          -86.40789795,
          -121.819000244,
          -121.790000916,
          -76.71610260009766,
          -83.35160064697266,
          -90.04599761959999,
          -95.3946990967,
          -85.8963012695,
          -99.32389831540002,
          -118.36399841299999,
          -117.808998108,
          -110.1110001,
          -92.4704971313,
          -85.25150299069999,
          -113.77200317399999,
          -92.61080169680001,
          -95.4850997925,
          -81.51439666750002,
          -85.08499908450001,
          -77.1809997559,
          -116.78700259999998,
          -107.721000671,
          -116.032997,
          -114.62300109899999,
          -86.52290344,
          -124.112998962,
          -97.86299896240234,
          -91.44429779050002,
          -99.76349639889999,
          -91.75099945,
          -118.565002441,
          -100.40799709999999,
          -90.47190094,
          -89.25199890136719,
          -80.80130005,
          -69.93859863,
          -81.42469788,
          -80.859497070312,
          -97.34259796,
          -92.44789886,
          -85.71340179,
          -109.8069992,
          -73.88420104980469,
          -92.5381012,
          -98.811798095703,
          -95.08229828,
          -121.60600280761999,
          -100.6490020752,
          -92.47940063,
          -117.086998,
          -122.7699966430664,
          -123.20099639893,
          -89.536796569824,
          -95.5871963501,
          -100.5479965,
          -117.805999756,
          -99.5226667,
          -80.56659698490002,
          -81.89209747310001,
          -149.07400512695312,
          -149.539993286,
          -22.605600357055998,
          -113.580001831,
          -63.508598327600005,
          -80.3786010742,
          -119.377998352,
          -111.22200012200001,
          -75.66919708251953,
          -71.393303,
          -64.67859649658203,
          -104.66600036621094,
          -79.396202,
          -73.7407989502,
          -123.183998108,
          -97.2398986816,
          -106.6999969482422,
          -81.1539,
          -114.019996643,
          -123.426002502,
          -52.751899719200004,
          -79.63059997559999,
          -0.16678600013256073,
          3.321160078048706,
          4.48443984985,
          8.5705556,
          9.988229751586902,
          6.766779899597168,
          11.786100387572999,
          9.22196006775,
          13.287699699400001,
          24.963300704956,
          -6.21582984924,
          -1.7480299472799998,
          -2.2749500274658203,
          -0.19027799367904666,
          -0.461941,
          -4.43306016922,
          -3.372499942779541,
          4.7638897895799985,
          -6.2700700759887695,
          -8.9248199462891,
          12.656000137328999,
          5.218140125,
          11.100399971008,
          20.9671001434,
          17.918600082397,
          28.246,
          -7.589970111846924,
          -17.49020004272461,
          31.40559959411621,
          2.0784599781036,
          -3.56264,
          7.215869903560001,
          2.54999995232,
          2.3794444,
          8.728110000000001,
          12.3519,
          12.238888900000001,
          34.88669967651367,
          16.569700241089002,
          -25.6979007721,
          -8.68138980865,
          -9.13591957092,
          6.108950138092041,
          8.5491695404053,
          28.814599990799998,
          -72.26589965820312,
          -68.91179656982422,
          -68.36340332030001,
          -70.56999969482422,
          -69.668899536133,
          -70.60469818115234,
          -90.52749633789062,
          -87.92359924316406,
          -86.523003,
          -87.21720123291016,
          -76.7874984741211,
          -77.91339874267578,
          -99.75399780273438,
          -102.318001,
          -96.26260375976562,
          -91.79900360107422,
          -105.96499633799999,
          -86.92559814453125,
          -104.52799987799999,
          -103.31099700927734,
          -111.047996521,
          -100.9290008544922,
          -101.48100280799999,
          -111.3479995727539,
          -89.657699585,
          -101.025001526,
          -99.072098,
          -100.107002258,
          -106.26599884,
          -96.72660064700001,
          -98.3713989258,
          -102.03900146484376,
          -105.25399780273438,
          -100.18599700899999,
          -109.72100067138672,
          -100.930999756,
          -103.41100311299999,
          -97.86589813229999,
          -99.5660018921,
          -86.8770980835,
          -92.81739807128906,
          -96.1873016357,
          -102.68699646,
          -101.460998535,
          -104.558998108,
          -86.16819763183594,
          -79.3834991455,
          -85.54440307617188,
          -84.20880126953125,
          -89.055702,
          -72.2925033569336,
          -81.3576965332,
          -77.08350372310001,
          -77.3912963867,
          -79.2647018433,
          -75.8779983521,
          -76.6835021973,
          -76.3310012817,
          -78.695602417,
          -77.46620178219999,
          -74.52400207519531,
          -88.30819702148438,
          -159.805999756,
          177.4429931640625,
          -172.00799560546875,
          -170.710006714,
          174.79200744599999,
          39.156502,
          46.69879913330078,
          35.9931983948,
          47.96889877319336,
          54.651100158691406,
          55.3643989563,
          144.796005249,
          171.27200317382812,
          -157.35000610351562,
          121.233002,
          140.386001587,
          141.69200134277344,
          130.45100402832028,
          139.779999,
          121.019997,
          -48.476299285900005,
          -47.92083358764648,
          -43.97194290161133,
          -60.04970169067383,
          -43.2505569458,
          -46.47305679321289,
          -51.1713981628418,
          -34.923599243164055,
          -38.3224983215,
          -70.78579711914062,
          -79.88359832760001,
          -78.3575,
          -57.52000045776367,
          -75.7664,
          -74.1469,
          -74.7808,
          -75.513,
          -76.3816,
          -75.4231,
          -63.1353988647461,
          -77.114304,
          -56.030799865722656,
          -64.68920135498047,
          -71.7278594971,
          -66.9905853271,
          -61.792702,
          -59.492500305200004,
          -61.00320053100586,
          -61.53179931640625,
          -61.78620147705078,
          -64.97339630126953,
          -64.79859924316406,
          -67.12940216064453,
          -66.56300354003906,
          -66.0018005371,
          -62.71870040893555,
          -60.952599,
          -70.01519775390625,
          -68.26850128173828,
          -68.959801,
          -63.108898162799996,
          -60.83219909667969,
          -61.33720016479492,
          30.89469909667969,
          37.4146,
          37.2615013123,
          72.8678970337,
          113.915000916,
          77.10310363769531,
          153.11700439453125,
          144.84300231933594,
          151.177001953125,
          116.58499908447266,
          113.29900360107422,
          121.80500030517578,
          126.45099639892578,
          23.944499969499997,
          136.80499267578122,
          23.971099853515625,
          -58.5358,
          135.24400329589844,
          37.90629959106445,
          -64.67870330810547,
          -149.60699462899998,
          -58.25410079956055,
          -23.49349975585937,
          -69.7419967651
         ],
         "marker": {
          "color": "rgb(255, 0, 0)",
          "line": {
           "color": "rgba(68, 68, 68, 0)",
           "width": 3
          },
          "size": 2
         },
         "mode": "markers",
         "text": [
          "Barter Island LRRS Airport",
          "Cape Lisburne LRRS Airport",
          "Point Lay LRRS Airport",
          "Hilo International Airport",
          "Orlando Executive Airport",
          "Bettles Airport",
          "Clear Airport",
          "Indian Mountain LRRS Airport",
          "Fort Yukon Airport",
          "Sparrevohn LRRS Airport",
          "Bryant Army Heliport",
          "Tatalina LRRS Airport",
          "Cape Romanzof LRRS Airport",
          "Laurence G Hanscom Field",
          "St Paul Island Airport",
          "Cape Newenham LRRS Airport",
          "St George Airport",
          "Iliamna Airport",
          "Platinum Airport",
          "Big Mountain Airport",
          "Oscoda Wurtsmith Airport",
          "Marina Municipal Airport",
          "Sacramento Mather Airport",
          "Bicycle Lake Army Air Field",
          "Twentynine Palms (Self) Airport",
          "Fort Smith Regional Airport",
          "Merrill Field",
          "Grants-Milan Municipal Airport",
          "Ponca City Regional Airport",
          "Hunter Army Air Field",
          "Grand Forks International Airport",
          "Grider Field",
          "Whiting Field Naval Air Station - North",
          "Hana Airport",
          "Ernest A. Love Field",
          "Trenton Mercer Airport",
          "General Edward Lawrence Logan International Airport",
          "Travis Air Force Base",
          "Griffiss International Airport",
          "Wendover Airport",
          "Mobile Downtown Airport",
          "Metropolitan Oakland International Airport",
          "Eppley Airfield",
          "Port Angeles Cgas Airport",
          "Kahului Airport",
          "Wichita Mid Continent Airport",
          "Kansas City International Airport",
          "Dane County Regional Truax Field",
          "Dillingham Airport",
          "Boone County Airport",
          "Phoenix Sky Harbor International Airport",
          "Bangor International Airport",
          "Fort Lauderdale Executive Airport",
          "East Texas Regional Airport",
          "Anderson Regional Airport",
          "Spokane International Airport",
          "North Perry Airport",
          "San Francisco International Airport",
          "Cut Bank International Airport",
          "Acadiana Regional Airport",
          "Gainesville Regional Airport",
          "Memphis International Airport",
          "Bisbee Douglas International Airport",
          "Allen Army Airfield",
          "TSTC Waco Airport",
          "Annette Island Airport",
          "Caribou Municipal Airport",
          "Little Rock Air Force Base",
          "Redstone Army Air Field",
          "Pope Field",
          "Dalhart Municipal Airport",
          "Laughlin Air Force Base",
          "Los Angeles International Airport",
          "Anniston Metropolitan Airport",
          "Cleveland Hopkins International Airport",
          "Dover Air Force Base",
          "Cincinnati Northern Kentucky International Airport",
          "Tipton Airport",
          "China Lake Naws (Armitage Field) Airport",
          "Huron Regional Airport",
          "Juneau International Airport",
          "Lafayette Regional Airport",
          "Newark Liberty International Airport",
          "Boise Air Terminal/Gowen field",
          "Creech Air Force Base",
          "Garden City Regional Airport",
          "Minot International Airport",
          "Wheeler Army Airfield",
          "Maxwell Air Force Base",
          "Dallas Love Field",
          "Butts AAF (Fort Carson) Air Field",
          "Helena Regional Airport",
          "Miramar Marine Corps Air Station - Mitscher Field",
          "Luke Air Force Base",
          "Jack Northrop Field Hawthorne Municipal Airport",
          "Houlton International Airport",
          "Vance Air Force Base",
          "Point Mugu Naval Air Station (Naval Base Ventura Co)",
          "Edwards Air Force Base",
          "Lake Charles Regional Airport",
          "Kona International At Keahole Airport",
          "Myrtle Beach International Airport",
          "Lemoore Naval Air Station (Reeves Field) Airport",
          "Nantucket Memorial Airport",
          "Felker Army Air Field",
          "Campbell AAF (Fort Campbell) Air Field",
          "Ronald Reagan Washington National Airport",
          "Patuxent River Naval Air Station/Trapnell Field Aiport",
          "Palacios Municipal Airport",
          "Arkansas International Airport",
          "Atlantic City International Airport",
          "Tinker Air Force Base",
          "Pueblo Memorial Airport",
          "Northern Maine Regional Airport at Presque Isle",
          "Gray Army Air Field",
          "Kodiak Airport",
          "Upolu Airport",
          "Fort Lauderdale Hollywood International Airport",
          "Davis Field",
          "Falls International Airport",
          "Salt Lake City International Airport",
          "Childress Municipal Airport",
          "Keesler Air Force Base",
          "Lawson Army Air Field (Fort Benning)",
          "Marshall Army Air Field",
          "Harrisburg International Airport",
          "Lincoln Airport",
          "Capital City Airport",
          "Waimea Kohala Airport",
          "Massena International Richards Field",
          "Hickory Regional Airport",
          "Albert Whitted Airport",
          "Page Field",
          "George Bush Intercontinental Houston Airport",
          "Millinocket Municipal Airport",
          "Andrews Air Force Base",
          "Smith Reynolds Airport",
          "Southern California Logistics Airport",
          "Bob Sikes Airport",
          "Wheeler Sack Army Air Field",
          "St Clair County International Airport",
          "Meadows Field",
          "El Paso International Airport",
          "Valley International Airport",
          "Columbia Metropolitan Airport",
          "Davis Monthan Air Force Base",
          "Pensacola Naval Air Station/Forrest Sherman Field",
          "Pensacola Regional Airport",
          "Grand Forks Air Force Base",
          "William P Hobby Airport",
          "Buckley Air Force Base",
          "Northway Airport",
          "Palmer Municipal Airport",
          "Pittsburgh International Airport",
          "Wiley Post Will Rogers Memorial Airport",
          "Ellington Airport",
          "Whidbey Island Naval Air Station /Ault Field/ Airport",
          "Alice International Airport",
          "Moody Air Force Base",
          "Miami International Airport",
          "Seattle Tacoma International Airport",
          "Lovell Field",
          "Igor I Sikorsky Memorial Airport",
          "Jackson-Medgar Wiley Evers International Airport",
          "Scholes International At Galveston Airport",
          "Long Beach /Daugherty Field/ Airport",
          "Dillingham Airfield",
          "Williamsport Regional Airport",
          "Indianapolis International Airport",
          "Whiteman Air Force Base",
          "Akron Fulton International Airport",
          "Greenwood–Leflore Airport",
          "Westchester County Airport",
          "Francis S Gabreski Airport",
          "Jonesboro Municipal Airport",
          "Palm Beach County Park Airport",
          "North Island Naval Air Station-Halsey Field",
          "Biggs Army Air Field (Fort Bliss)",
          "Yuma MCAS/Yuma International Airport",
          "Cavern City Air Terminal",
          "Duluth International Airport",
          "Bethel Airport",
          "Bowman Field",
          "Sierra Vista Municipal Libby Army Air Field",
          "Lihue Airport",
          "Terre Haute International Hulman Field",
          "Havre City County Airport",
          "Grant County International Airport",
          "Edward F Knapp State Airport",
          "Richmond International Airport",
          "Shreveport Regional Airport",
          "Merle K (Mudhole) Smith Airport",
          "Norfolk International Airport",
          "Southeast Texas Regional Airport",
          "Savannah Hilton Head International Airport",
          "Hill Air Force Base",
          "Nome Airport",
          "St Petersburg Clearwater International Airport",
          "Menominee Marinette Twin County Airport",
          "Lone Star Executive Airport",
          "Deadhorse Airport",
          "San Antonio International Airport",
          "Greater Rochester International Airport",
          "Patrick Air Force Base",
          "Teterboro Airport",
          "Ellsworth Air Force Base",
          "Raleigh Durham International Airport",
          "James M Cox Dayton International Airport",
          "Kenai Municipal Airport",
          "Mc Alester Regional Airport",
          "Niagara Falls International Airport",
          "Coulter Field",
          "Newport News Williamsburg International Airport",
          "Esler Regional Airport",
          "Altus Air Force Base",
          "Tucson International Airport",
          "Minot Air Force Base",
          "Beale Air Force Base",
          "Greater Kankakee Airport",
          "Seymour Johnson Air Force Base",
          "Theodore Francis Green State Airport",
          "Salisbury Ocean City Wicomico Regional Airport",
          "Rancho Murieta Airport",
          "Bob Hope Airport",
          "Detroit Metropolitan Wayne County Airport",
          "Tampa International Airport",
          "Pembina Municipal Airport",
          "Polk Army Air Field",
          "Eielson Air Force Base",
          "Range Regional Airport",
          "Angelina County Airport",
          "Midland International Airport",
          "Austin Straubel International Airport",
          "Ardmore Municipal Airport",
          "Mc Guire Air Force Base",
          "Emanuel County Airport",
          "Augusta Regional At Bush Field",
          "Sloulin Field International Airport",
          "Bill & Hillary Clinton National Airport/Adams Field",
          "Stewart International Airport",
          "Baudette International Airport",
          "Sacramento Executive Airport",
          "Homer Airport",
          "Waynesville-St. Robert Regional Forney field",
          "Dobbins Air Reserve Base",
          "Fairchild Air Force Base",
          "Roscommon County - Blodgett Memorial Airport",
          "Tyndall Air Force Base",
          "Dallas Fort Worth International Airport",
          "Melbourne International Airport",
          "McChord Air Force Base",
          "Austin Bergstrom International Airport",
          "Rickenbacker International Airport",
          "Sawyer International Airport",
          "McGhee Tyson Airport",
          "Hood Army Air Field",
          "Lambert St Louis International Airport",
          "Millville Municipal Airport",
          "Sheppard Air Force Base-Wichita Falls Municipal Airport",
          "Cincinnati Municipal Airport Lunken Field",
          "Hartsfield Jackson Atlanta International Airport",
          "Castle Airport",
          "Mc Clellan Airfield",
          "Gerald R. Ford International Airport",
          "Winkler County Airport",
          "Fresno Yosemite International Airport",
          "Vero Beach Municipal Airport",
          "Imperial County Airport",
          "Nashville International Airport",
          "Laredo International Airport",
          "Elmendorf Air Force Base",
          "Ralph Wien Memorial Airport",
          "Altoona Blair County Airport",
          "Dyess Air Force Base",
          "South Arkansas Regional At Goodwin Field",
          "La Guardia Airport",
          "Tallahassee Regional Airport",
          "Dupage Airport",
          "Waco Regional Airport",
          "Augusta State Airport",
          "Hillsboro Municipal Airport",
          "Mc Kellar Sipes Regional Airport",
          "Molokai Airport",
          "Godman Army Air Field",
          "San Angelo Regional Mathis Field",
          "Calexico International Airport",
          "Chico Municipal Airport",
          "Burlington International Airport",
          "Jacksonville International Airport",
          "Durango La Plata County Airport",
          "Washington Dulles International Airport",
          "Easterwood Field",
          "Felts Field",
          "General Mitchell International Airport",
          "Abilene Regional Airport",
          "Columbia Regional Airport",
          "Portland International Airport",
          "Dade Collier Training and Transition Airport",
          "Palm Beach International Airport",
          "Fort Worth Meacham International Airport",
          "Ogdensburg International Airport",
          "Boeing Field King County International Airport",
          "Lackland Air Force Base",
          "Honolulu International Airport",
          "Des Moines International Airport",
          "Coastal Carolina Regional Airport",
          "San Diego International Airport",
          "Monroe Regional Airport",
          "Shaw Air Force Base",
          "Ontario International Airport",
          "Majors Airport",
          "Roswell International Air Center Airport",
          "Coleman A. Young Municipal Airport",
          "Brownsville South Padre Island International Airport",
          "Dothan Regional Airport",
          "Cape May County Airport",
          "Selfridge Angb Airport",
          "Four Corners Regional Airport",
          "Corpus Christi International Airport",
          "Syracuse Hancock International Airport",
          "Naval Air Station Key West/Boca Chica Field",
          "Chicago Midway International Airport",
          "Norman Y. Mineta San Jose International Airport",
          "Lea County Regional Airport",
          "Northeast Philadelphia Airport",
          "Denver International Airport",
          "Philadelphia International Airport",
          "Sioux Gateway Col. Bud Day Field",
          "Middle Georgia Regional Airport",
          "Truth Or Consequences Municipal Airport",
          "Palmdale Regional/USAF Plant 42 Airport",
          "Randolph Air Force Base",
          "El Centro Naf Airport",
          "Port Columbus International Airport",
          "Drake Field",
          "Henry Post Army Air Field (Fort Sill)",
          "Princeton Municipal Airport",
          "Wright-Patterson Air Force Base",
          "Edward G. Pitka Sr Airport",
          "Mineral Wells Airport",
          "Mc Connell Air Force Base",
          "New Orleans NAS JRB/Alvin Callender Field",
          "Beaufort County Airport",
          "Texarkana Regional Webb Field",
          "Plattsburgh International Airport",
          "Phillips Army Air Field",
          "Tucumcari Municipal Airport",
          "Ted Stevens Anchorage International Airport",
          "Robert Gray  Army Air Field Airport",
          "Black Rock Airport",
          "Bellingham International Airport",
          "Millington Regional Jetport Airport",
          "Elkins-Randolph Co-Jennings Randolph Field",
          "Hartford Brainard Airport",
          "North Central State Airport",
          "Mobile Regional Airport",
          "Moffett Federal Airfield",
          "Santa Fe Municipal Airport",
          "Barking Sands Airport",
          "Beauregard Regional Airport",
          "Bradshaw Army Airfield",
          "Nogales International Airport",
          "Mac Dill Air Force Base",
          "Scott AFB/Midamerica Airport",
          "Opa-locka Executive Airport",
          "Del Rio International Airport",
          "Southwest Florida International Airport",
          "King Salmon Airport",
          "Muir Army Air Field (Fort Indiantown Gap) Airport",
          "Kapalua Airport",
          "John F Kennedy International Airport",
          "Homestead ARB Airport",
          "Riverside Municipal Airport",
          "Sherman Army Air Field",
          "Wallops Flight Facility Airport",
          "Holloman Air Force Base",
          "Willow Grove Naval Air Station/Joint Reserve Base",
          "Cheyenne Regional Jerry Olson Field",
          "Stockton Metropolitan Airport",
          "Charleston Air Force Base-International Airport",
          "Reno Tahoe International Airport",
          "Ketchikan International Airport",
          "Willow Run Airport",
          "Vandenberg Air Force Base",
          "Birmingham-Shuttlesworth International Airport",
          "Lakehurst Maxfield Field Airport",
          "Nellis Air Force Base",
          "March ARB Airport",
          "Modesto City Co-Harry Sham Field",
          "Sacramento International Airport",
          "Waukegan National Airport",
          "City of Colorado Springs Municipal Airport",
          "Buffalo Niagara International Airport",
          "Griffing Sandusky Airport",
          "Snohomish County (Paine Field) Airport",
          "Mountain Home Air Force Base",
          "Cedar City Regional Airport",
          "Bradley International Airport",
          "Mc Allen Miller International Airport",
          "Norfolk Ns (Chambers Fld) Airport",
          "Westover ARB/Metropolitan Airport",
          "Lubbock Preston Smith International Airport",
          "Chicago O'Hare International Airport",
          "Boca Raton Airport",
          "Fairbanks International Airport",
          "Quantico MCAF /Turner field",
          "Cannon Air Force Base",
          "Kaneohe Bay MCAS (Marion E. Carl Field) Airport",
          "Offutt Air Force Base",
          "Gulkana Airport",
          "Watertown International Airport",
          "Palm Springs International Airport",
          "Rick Husband Amarillo International Airport",
          "Fort Dodge Regional Airport",
          "Barksdale Air Force Base",
          "Topeka Regional Airport - Forbes Field",
          "Cotulla-La Salle County Airport",
          "Wilmington International Airport",
          "Baton Rouge Metropolitan, Ryan Field",
          "Tyler Pounds Regional Airport",
          "Baltimore/Washington International Thurgood Marshall Airport",
          "Hobart Regional Airport",
          "Lanai Airport",
          "Alexandria International Airport",
          "Condron Army Air Field",
          "Cold Bay Airport",
          "Tulsa International Airport",
          "Sitka Rocky Gutierrez Airport",
          "Long Island Mac Arthur Airport",
          "Minneapolis-St Paul International/Wold-Chamberlain Airport",
          "New Castle Airport",
          "Unalaska Airport",
          "Louis Armstrong New Orleans International Airport",
          "Portland International Jetport Airport",
          "Will Rogers World Airport",
          "Albany International Airport",
          "Valdez Pioneer Field",
          "Langley Air Force Base",
          "John Wayne Airport-Orange County Airport",
          "Columbus Air Force Base",
          "Kendall-Tamiami Executive Airport",
          "Oceana NAS",
          "Grissom Air Reserve Base",
          "Casper-Natrona County International Airport",
          "Destin-Ft Walton Beach Airport",
          "Craig Field",
          "Key West International Airport",
          "Charlotte Douglas International Airport",
          "McCarran International Airport",
          "Orlando International Airport",
          "Florence Regional Airport",
          "Great Falls International Airport",
          "Youngstown Warren Regional Airport",
          "Ladd AAF Airfield",
          "Mc Minnville Municipal Airport",
          "Robins Air Force Base",
          "Pullman Moscow Regional Airport",
          "Lewiston Nez Perce County Airport",
          "Elmira Corning Regional Airport",
          "Ithaca Tompkins Regional Airport",
          "Monterey Peninsula Airport",
          "Santa Barbara Municipal Airport",
          "Daytona Beach International Airport",
          "Talkeetna Airport",
          "Tweed New Haven Airport",
          "Asheville Regional Airport",
          "Piedmont Triad International Airport",
          "Joe Foss Field Airport",
          "Manchester Airport",
          "Naples Municipal Airport",
          "Louisville International Standiford Field",
          "Charlottesville Albemarle Airport",
          "Roanoke–Blacksburg Regional Airport",
          "Blue Grass Airport",
          "Evansville Regional Airport",
          "Albuquerque International Sunport Airport",
          "Gallatin Field",
          "Billings Logan International Airport",
          "Bert Mooney Airport",
          "Cherry Capital Airport",
          "Hancock County-Bar Harbor Airport",
          "Knox County Regional Airport",
          "Jackson Hole Airport",
          "Chicago Rockford International Airport",
          "Greenville Spartanburg International Airport",
          "Central Illinois Regional Airport at Bloomington-Normal",
          "Gulfport Biloxi International Airport",
          "Kalamazoo Battle Creek International Airport",
          "Toledo Express Airport",
          "Fort Wayne International Airport",
          "Decatur Airport",
          "The Eastern Iowa Airport",
          "La Crosse Municipal Airport",
          "Central Wisconsin Airport",
          "General Wayne A. Downing Peoria International Airport",
          "Appleton International Airport",
          "Rochester International Airport",
          "University of Illinois Willard Airport",
          "Manhattan Regional Airport",
          "Venango Regional Airport",
          "Grand Junction Regional Airport",
          "St George Municipal Airport",
          "David Wayne Hooks Memorial Airport",
          "Port O'Connor Private Airport",
          "Sarasota Bradenton International Airport",
          "Van Nuys Airport",
          "Quad City International Airport",
          "Panama City-Bay Co International Airport",
          "Bismarck Municipal Airport",
          "Telluride Regional Airport",
          "Rapid City Regional Airport",
          "Mc Clellan-Palomar Airport",
          "Bishop International Airport",
          "Redding Municipal Airport",
          "Mahlon Sweet Field",
          "Idaho Falls Regional Airport",
          "Rogue Valley International Medford Airport",
          "Roberts Field",
          "Akron Canton Regional Airport",
          "Huntsville International Carl T Jones Field",
          "Mid Ohio Valley Regional Airport",
          "Montgomery Regional (Dannelly Field) Airport",
          "Tri Cities Regional Tn Va Airport",
          "Barkley Regional Airport",
          "Page Municipal Airport",
          "Glacier Park International Airport",
          "MBS International Airport",
          "Greater Binghamton/Edwin A Link field",
          "Blythe Airport",
          "Petersburg James A Johnson Airport",
          "Orlando Sanford International Airport",
          "John Murtha Johnstown Cambria County Airport",
          "Missoula International Airport",
          "Grand Canyon National Park Airport",
          "Sugar Land Regional Airport",
          "Centennial Airport",
          "Clovis Municipal Airport",
          "Fort Stockton Pecos County Airport",
          "Las Vegas Municipal Airport",
          "West Houston Airport",
          "La Junta Municipal Airport",
          "Las Cruces International Airport",
          "Stephens County Airport",
          "Draughon Miller Central Texas Regional Airport",
          "Ozona Municipal Airport",
          "Eagle County Regional Airport",
          "Cuyahoga County Airport",
          "Mansfield Lahm Regional Airport",
          "Columbus Metropolitan Airport",
          "Lawton Fort Sill Regional Airport",
          "Fort Collins Loveland Municipal Airport",
          "Flagstaff Pulliam Airport",
          "Lake Tahoe Airport",
          "Joslin Field Magic Valley Regional Airport",
          "Martha's Vineyard Airport",
          "Concord Municipal Airport",
          "Groton New London Airport",
          "St Cloud Regional Airport",
          "Golden Triangle Regional Airport",
          "Bowerman Airport",
          "Erie International Tom Ridge Field",
          "Barnstable Municipal Boardman Polando Field",
          "Sedona Airport",
          "Morgantown Municipal Walter L. Bill Hart Field",
          "Yeager Airport",
          "Wilkes Barre Scranton International Airport",
          "Bemidji Regional Airport",
          "Hector International Airport",
          "Charles B. Wheeler Downtown Airport",
          "Gillette Campbell County Airport",
          "University Park Airport",
          "Key Field",
          "Abraham Lincoln Capital Airport",
          "Cortez Municipal Airport",
          "Yampa Valley Airport",
          "Gallup Municipal Airport",
          "Liberal Mid-America Regional Airport",
          "Lamar Municipal Airport",
          "Renner Field-Goodland Municipal Airport",
          "Yellowstone Regional Airport",
          "Springfield Branson National Airport",
          "Joplin Regional Airport",
          "Lehigh Valley International Airport",
          "Northwest Arkansas Regional Airport",
          "South Bend Regional Airport",
          "Smith Field",
          "Arcata Airport",
          "Albert J Ellis Airport",
          "Tuscaloosa Regional Airport",
          "Dubuque Regional Airport",
          "Aberdeen Regional Airport",
          "Southwest Georgia Regional Airport",
          "Athens Ben Epps Airport",
          "Alamogordo White Sands Regional Airport",
          "Waterloo Regional Airport",
          "Walla Walla Regional Airport",
          "Alpena County Regional Airport",
          "Watertown Regional Airport",
          "Bradford Regional Airport",
          "Western Neb. Rgnl/William B. Heilig Airport",
          "Raleigh County Memorial Airport",
          "Brunswick Golden Isles Airport",
          "Southeast Iowa Regional Airport",
          "Jack Mc Namara Field Airport",
          "Cape Girardeau Regional Airport",
          "Chippewa County International Airport",
          "North Central West Virginia Airport",
          "William R Fairchild International Airport",
          "Houghton County Memorial Airport",
          "Dodge City Regional Airport",
          "DuBois Regional Airport",
          "Chippewa Valley Regional Airport",
          "Elko Regional Airport",
          "New Bedford Regional Airport",
          "Fayetteville Regional Grannis Field",
          "Wokal Field Glasgow International Airport",
          "Central Nebraska Regional Airport",
          "Memorial Field",
          "Tri-State/Milton J. Ferguson Field",
          "Kirksville Regional Airport",
          "Jamestown Regional Airport",
          "Laramie Regional Airport",
          "Arnold Palmer Regional Airport",
          "North Platte Regional Airport Lee Bird Field",
          "Lebanon Municipal Airport",
          "Klamath Falls Airport",
          "Lancaster Airport",
          "Lewistown Municipal Airport",
          "Lynchburg Regional Preston Glenn Field",
          "Muskegon County Airport",
          "Frank Wiley Field",
          "Northwest Alabama Regional Airport",
          "Southwest Oregon Regional Airport",
          "Owensboro Daviess County Airport",
          "Hattiesburg Laurel Regional Airport",
          "Pocatello Regional Airport",
          "Pierre Regional Airport",
          "Pellston Regional Airport of Emmet County Airport",
          "Portsmouth International at Pease Airport",
          "Reading Regional Carl A Spaatz Field",
          "Rhinelander Oneida County Airport",
          "Rock Springs Sweetwater County Airport",
          "Rutland - Southern Vermont Regional Airport",
          "San Luis County Regional Airport",
          "Sheridan County Airport",
          "Adirondack Regional Airport",
          "Salina Municipal Airport",
          "Santa Maria Pub/Capt G Allan Hancock Field",
          "Tupelo Regional Airport",
          "Quincy Regional Baldwin Field",
          "Victoria Regional Airport",
          "Valdosta Regional Airport",
          "Worland Municipal Airport",
          "Yakima Air Terminal McAllister Field",
          "Adak Airport",
          "Gustavus Airport",
          "Skagway Airport",
          "Holy Cross Airport",
          "Haines Airport",
          "Kalskag Airport",
          "McGrath Airport",
          "Mountain Village Airport",
          "Aniak Airport",
          "Chevak Airport",
          "Wrangell Airport",
          "Kalaupapa Airport",
          "Aleknagik / New Airport",
          "Mercer County Airport",
          "Mid Delta Regional Airport",
          "Tri Cities Airport",
          "Akutan Seaplane Base",
          "Lopez Island Airport",
          "Waikoloa Heliport",
          "Worcester Regional Airport",
          "Bremerton National Airport",
          "Spencer Municipal Airport",
          "Jefferson City Memorial Airport",
          "Provincetown Municipal Airport",
          "Fullerton Municipal Airport",
          "Friedman Memorial Airport",
          "Mason City Municipal Airport",
          "Phoenix-Mesa-Gateway Airport",
          "Anaktuvuk Pass Airport",
          "Anvik Airport",
          "Atqasuk Edward Burnell Sr Memorial Airport",
          "Gambell Airport",
          "Hooper Bay Airport",
          "Kaltag Airport",
          "St Mary's Airport",
          "Kivalina Airport",
          "Mekoryuk Airport",
          "Ruby Airport",
          "Shishmaref Airport",
          "Savoonga Airport",
          "Noatak Airport",
          "Arctic Village Airport",
          "Hagerstown Regional Richard A Henson Field",
          "Sand Point Airport",
          "Deering Airport",
          "Igiugig Airport",
          "New Stuyahok Airport",
          "King Cove Airport",
          "Port Heiden Airport",
          "Togiak Airport",
          "Delta County Airport",
          "Yakutat Airport",
          "Williamson County Regional Airport",
          "Ford Airport",
          "Allakaket Airport",
          "Michigan City Municipal Airport",
          "Seward Airport",
          "Grand Marais Cook County Airport",
          "Wausau Downtown Airport",
          "Delaware County Johnson Field",
          "Purdue University Airport",
          "North Las Vegas Airport",
          "Kenosha Regional Airport",
          "Montrose Regional Airport",
          "Riverton Regional Airport",
          "Eastern Oregon Regional At Pendleton Airport",
          "Wittman Regional Airport",
          "Pangborn Memorial Airport",
          "Gary Chicago International Airport",
          "Brainerd Lakes Regional Airport",
          "Greenbrier Valley Airport",
          "Pitt Greenville Airport",
          "Chefornak Airport",
          "Oxnard Airport",
          "Schenectady County Airport",
          "Northeast Florida Regional Airport",
          "Charles M. Schulz Sonoma County Airport",
          "Kissimmee Gateway Airport",
          "Lake City Gateway Airport",
          "Logan-Cache Airport",
          "Brigham City Airport",
          "Malad City Airport",
          "Aspen-Pitkin Co/Sardy Field",
          "Kerrville Municipal Louis Schreiner Field",
          "Sussex County Airport",
          "Great Bend Municipal Airport",
          "Hays Regional Airport",
          "Spirit of St Louis Airport",
          "Ely Municipal Airport",
          "Grand Rapids Itasca Co-Gordon Newstrom field",
          "Thief River Falls Regional Airport",
          "Eagle River Union Airport",
          "Lakeland-Noble F. Lee Memorial field",
          "Ankeny Regional Airport",
          "Corpus Christi Naval Air Station/Truax Field",
          "Catalina Airport",
          "Mojave Airport",
          "Hutchinson Municipal Airport",
          "Rosecrans Memorial Airport",
          "Volk Field",
          "Gunnison Crested Butte Regional Airport",
          "Zamperini Field",
          "Manistee Co Blacker Airport",
          "Charlotte County Airport",
          "Northern Aroostook Regional Airport",
          "Chautauqua County-Jamestown Airport",
          "Lake Cumberland Regional Airport",
          "Shenandoah Valley Regional Airport",
          "Devils Lake Regional Airport",
          "Dickinson Theodore Roosevelt Regional Airport",
          "Sidney Richland Municipal Airport",
          "Chadron Municipal Airport",
          "Alliance Municipal Airport",
          "Mc Cook Ben Nelson Regional Airport",
          "The Florida Keys Marathon Airport",
          "Dawson Community Airport",
          "L M Clayton Airport",
          "Yellowstone Airport",
          "San Luis Valley Regional Bergman Field",
          "Canyonlands Field",
          "Ely Airport Yelland Field",
          "Vernal Regional Airport",
          "Sierra Blanca Regional Airport",
          "Show Low Regional Airport",
          "McCall Municipal Airport",
          "Lemhi County Airport",
          "Mammoth Yosemite Airport",
          "Friday Harbor Airport",
          "Orcas Island Airport",
          "Astoria Regional Airport",
          "Newport Municipal Airport",
          "Emmonak Airport",
          "Unalakleet Airport",
          "Ugnu-Kuparuk Airport",
          "Shageluk Airport",
          "Nuiqsut Airport",
          "Eek Airport",
          "Kasigluk Airport",
          "Kwethluk Airport",
          "Kwigillingok Airport",
          "Marshall Don Hunter Sr Airport",
          "Russian Mission Airport",
          "Koliganek Airport",
          "Manokotak Airport",
          "Chalkyitsik Airport",
          "Eagle Airport",
          "Hughes Airport",
          "Huslia Airport",
          "Nulato Airport",
          "Venetie Airport",
          "Beaver Airport",
          "Central Airport",
          "Shungnak Airport",
          "Inyokern Airport",
          "Visalia Municipal Airport",
          "Merced Regional Macready Field",
          "Angoon Seaplane Base",
          "Elfin Cove Seaplane Base",
          "Funter Bay Seaplane Base",
          "Hoonah Airport",
          "Kake Airport",
          "Metlakatla Seaplane Base",
          "Hydaburg Seaplane Base",
          "Egegik Airport",
          "Perryville Airport",
          "Pilot Point Airport",
          "South Naknek Nr 2 Airport",
          "Akhiok Airport",
          "Karluk Airport",
          "Larsen Bay Airport",
          "Ambler Airport",
          "Buckland Airport",
          "Bob Baker Memorial Airport",
          "Kobuk Airport",
          "Robert (Bob) Curtis Memorial Airport",
          "Selawik Airport",
          "Brevig Mission Airport",
          "Elim Airport",
          "Golovin Airport",
          "Teller Airport",
          "Wales Airport",
          "White Mountain Airport",
          "Koyuk Alfred Adams Airport",
          "St Michael Airport",
          "Shaktoolik Airport",
          "Tin City Long Range Radar Station Airport",
          "Atka Airport",
          "Yakataga Airport",
          "Alakanuk Airport",
          "Kipnuk Airport",
          "False Pass Airport",
          "Nelson Lagoon Airport",
          "Port Moller Airport",
          "Klawock Airport",
          "Quinhagak Airport",
          "Kotlik Airport",
          "Koyukuk Airport",
          "Scammon Bay Airport",
          "Nondalton Airport",
          "Kongiganak Airport",
          "Nikolai Airport",
          "Akiak Airport",
          "Wainwright Airport",
          "Chenega Bay Airport",
          "Tok Junction Airport",
          "Circle City /New/ Airport",
          "Sleetmute Airport",
          "Healy River Airport",
          "Klawock Seaplane Base",
          "Minchumina Airport",
          "Manley Hot Springs Airport",
          "Eastern WV Regional Airport/Shepherd Field",
          "Rock Hill - York County Airport",
          "Allegheny County Airport",
          "Fulton County Airport Brown Field",
          "Ohio State University Airport",
          "Addison Airport",
          "Destin Executive Airport",
          "Kinston Regional Jetport At Stallings Field",
          "First Flight Airport",
          "Provo Municipal Airport",
          "Steamboat Springs Bob Adams Field",
          "Delta Municipal Airport",
          "Richfield Municipal Airport",
          "Carbon County Regional/Buck Davis Field",
          "Los Alamos Airport",
          "Lake Havasu City Airport",
          "Winslow Lindbergh Regional Airport",
          "Douglas Municipal Airport",
          "Bartow Municipal Airport",
          "Livermore Municipal Airport",
          "Mariposa Yosemite Airport",
          "Jacqueline Cochran Regional Airport",
          "Santa Monica Municipal Airport",
          "Bermuda Dunes Airport",
          "Scottsdale Airport",
          "Olympia Regional Airport",
          "Yolo County Davis Woodland Winters Airport",
          "Garfield County Regional Airport",
          "Shively Field",
          "DeKalb Peachtree Airport",
          "Monroe County Airport",
          "Witham Field",
          "Morristown Municipal Airport",
          "Napa County Airport",
          "Brown Field Municipal Airport",
          "Venice Municipal Airport",
          "Palm Beach County Glades Airport",
          "Northwest Florida Beaches International Airport",
          "San Bernardino International Airport",
          "San Carlos Airport",
          "Rocky Mount Wilson Regional Airport",
          "Soldotna Airport",
          "Gillespie Field",
          "Truckee Tahoe Airport",
          "Cobb County-Mc Collum Field",
          "Dell Flight Strip",
          "Mission Field",
          "Big Timber Airport",
          "Tulip City Airport",
          "Lakeland Linder Regional Airport",
          "Indianola Municipal Airport",
          "French Valley Airport",
          "Carl R Keller Field",
          "Dayton-Wright Brothers Airport",
          "Richmond Municipal Airport",
          "Findlay Airport",
          "Black Hills Airport-Clyde Ice Field",
          "Olive Branch Airport",
          "Rocky Mountain Metropolitan Airport",
          "Salem Municipal Airport/McNary Field",
          "Tunica Municipal Airport",
          "Lawrence J Timmerman Airport",
          "Southern Wisconsin Regional Airport",
          "Arlington Municipal Airport",
          "Gwinnett County Briscoe Field",
          "Bowling Green Warren County Regional Airport",
          "Richard Lloyd Jones Jr Airport",
          "Bryce Canyon Airport",
          "New Century Aircenter Airport",
          "Easton Newnam Field",
          "Yuba County Airport",
          "Halliburton Field",
          "Garner Field",
          "Lewis University Airport",
          "Buchanan Field",
          "Ocean Reef Club Airport",
          "Springfield-Beckley Municipal Airport",
          "Philip Billard Municipal Airport",
          "Collin County Regional At Mc Kinney Airport",
          "Chicago Executive Airport",
          "Southwest Washington Regional Airport",
          "Wilmington Airpark",
          "Marana Regional Airport",
          "Casa Grande Municipal Airport",
          "Buckeye Municipal Airport",
          "Gila Bend Municipal Airport",
          "McMinn County Airport",
          "Sterling Municipal Airport",
          "Rawlins Municipal Airport/Harvey Field",
          "Essex County Airport",
          "Lee C Fine Memorial Airport",
          "Thomasville Regional Airport",
          "Henderson Executive Airport",
          "Henry Tift Myers Airport",
          "Phoenix Deer Valley Airport",
          "South Texas Regional Airport at Hondo",
          "McKinley National Park Airport",
          "Lake Hood Seaplane Base",
          "Prospect Creek Airport",
          "Wheeling Ohio County Airport",
          "Fitzgerald Municipal Airport",
          "Aransas County Airport",
          "Crisp County Cordele Airport",
          "Ormond Beach Municipal Airport",
          "Portland Troutdale Airport",
          "Portland Hillsboro Airport",
          "Montgomery County Airpark",
          "Charlevoix Municipal Airport",
          "Flagler County Airport",
          "Morrisville Stowe State Airport",
          "Dallas Executive Airport",
          "Westerly State Airport",
          "Block Island State Airport",
          "Nightmute Airport",
          "Toksook Bay Airport",
          "Decatur County Industrial Air Park",
          "Silver Springs Airport",
          "Whiteman Airport",
          "Madera Municipal Airport",
          "Apalachicola Regional Airport",
          "Douglas Municipal Airport",
          "St Lucie County International Airport",
          "Taunton Municipal King Field",
          "Plymouth Municipal Airport",
          "Quonset State Airport",
          "Norwood Memorial Airport",
          "Barnes Municipal Airport",
          "Windham Airport",
          "Orange County Airport",
          "Capital City Airport",
          "Marshfield Municipal George Harlow Field",
          "Danbury Municipal Airport",
          "Boire Field",
          "Lawrence Municipal Airport",
          "Waterbury Oxford Airport",
          "Fitchburg Municipal Airport",
          "Cartersville Airport",
          "Centre-Piedmont-Cherokee County Regional Airport",
          "Richard B Russell Airport",
          "Northeast Alabama Regional Airport",
          "Knoxville Downtown Island Airport",
          "Barrow County Airport",
          "Plantation Airpark",
          "Dalton Municipal Airport",
          "West Georgia Regional O V Gray Field",
          "Lagrange Callaway Airport",
          "Baldwin County Airport",
          "Harris County Airport",
          "Peachtree City Falcon Field",
          "Lee Gilmer Memorial Airport",
          "Harry Clever Field",
          "Darlington County Jetport Airport",
          "Hilton Head Airport",
          "Daniel Field",
          "Foothills Regional Airport",
          "Pike County-Hatcher Field",
          "Toccoa Airport - R.G. Letourneau Field",
          "Fort Worth Alliance Airport",
          "East Troy Municipal Airport",
          "Lawrence Municipal Airport",
          "Wellington Municipal Airport",
          "Pompano Beach Airpark",
          "Shelby County Airport",
          "Indianapolis Metropolitan Airport",
          "London-Corbin Airport/Magee Field",
          "Simmons Army Air Field",
          "John H Batten Airport",
          "Redlands Municipal Airport",
          "Flabob Airport",
          "Tacoma Narrows Airport",
          "Jack Edwards Airport",
          "Hazleton Municipal Airport",
          "Greater Cumberland Regional Airport",
          "Tri-County Regional Airport",
          "Joliet Regional Airport",
          "Illinois Valley Regional Airport-Walter A Duncan Field",
          "Jackson County Reynolds Field",
          "Wings Field",
          "Okeechobee County Airport",
          "Sebring Regional Airport",
          "Avon Park Executive Airport",
          "Winter Haven Municipal Airport - Gilbert Field",
          "Zephyrhills Municipal Airport",
          "Ocala International Airport - Jim Taylor Field",
          "Jesup Wayne County Airport",
          "Madison Municipal Airport",
          "Newnan Coweta County Airport",
          "Thomson-McDuffie County Airport",
          "Aiken Municipal Airport",
          "Woodward Field",
          "Lumberton Regional Airport",
          "Moore County Airport",
          "Richmond County Airport",
          "Baraboo Wisconsin Dells Airport",
          "Statesville Regional Airport",
          "Burlington Municipal Airport",
          "William T. Piper Memorial Airport",
          "Lorain County Regional Airport",
          "Burke Lakefront Airport",
          "Chautauqua County-Dunkirk Airport",
          "South Jersey Regional Airport",
          "Linden Airport",
          "Tri State Steuben County Airport",
          "Van Wert County Airport",
          "Genesee County Airport",
          "Clearwater Air Park",
          "Chicago Meigs Airport",
          "Pickens County Airport",
          "Grand Strand Airport",
          "Lansing Municipal Airport",
          "Ramona Airport",
          "Branch County Memorial Airport",
          "Wilkes Barre Wyoming Valley Airport",
          "Willoughby Lost Nation Municipal Airport",
          "Capital City Airport",
          "Auburn Lewiston Municipal Airport",
          "Marco Island Airport",
          "Drummond Island Airport",
          "Gladwin Zettel Memorial Airport",
          "South Haven Area Regional Airport",
          "Marshfield Municipal Airport",
          "Alexander Field South Wood County Airport",
          "Clinton Municipal Airport",
          "Beverly Municipal Airport",
          "Poplar Bluff Municipal Airport",
          "Eastport Municipal Airport",
          "Keokuk Municipal Airport",
          "St Paul Downtown Holman Field",
          "Fond du Lac County Airport",
          "Waupaca Municipal Airport",
          "Stevens Point Municipal Airport",
          "Luce County Airport",
          "Galion Municipal Airport",
          "Clarksville–Montgomery County Regional Airport",
          "Lompoc Airport",
          "Chester County G O Carlson Airport",
          "Lake Placid Airport",
          "Lima Allen County Airport",
          "Malcolm McKinnon Airport",
          "Beaver County Airport",
          "Georgetown County Airport",
          "Hardwick Field",
          "Renton Municipal Airport",
          "Brackett Field",
          "Cross City Airport",
          "Oconee County Regional Airport",
          "Beech Factory Airport",
          "Georgetown Municipal Airport",
          "Sidney Municipal-Lloyd W Carr Field",
          "Iosco County Airport",
          "Leesburg Executive Airport",
          "Williamson Sodus Airport",
          "Boulder Municipal Airport",
          "Palo Alto Airport of Santa Clara County",
          "Falcon Field",
          "Coolidge Municipal Airport",
          "Cottonwood Airport",
          "Ak-Chin Regional Airport",
          "Wickenburg Municipal Airport",
          "Oakland County International Airport",
          "Dillant Hopkins Airport",
          "Iowa City Municipal Airport",
          "Windom Municipal Airport",
          "Lee Airport",
          "Pecos Municipal Airport",
          "Hattiesburg Bobby L Chain Municipal Airport",
          "Chan Gurney Municipal Airport",
          "Hayward Executive Airport",
          "Ann Arbor Municipal Airport",
          "Atlanta South Regional Airport/Tara Field",
          "Immokalee Regional Airport",
          "Dinwiddie County Airport",
          "Sheboygan County Memorial Airport",
          "Pinal Airpark",
          "Glendale Municipal Airport",
          "Safford Regional Airport",
          "Sikeston Memorial Municipal Airport",
          "Floyd Bennett Memorial Airport",
          "Saratoga County Airport",
          "Crystal River Airport",
          "Martin State Airport",
          "Lincoln Regional Karl Harder Field",
          "Fostoria Metropolitan Airport",
          "Eastern Slopes Regional Airport",
          "Lakefront Airport",
          "Coeur D'Alene - Pappy Boyington Field",
          "Beaumont Municipal Airport",
          "Vermilion Regional Airport",
          "Space Coast Regional Airport",
          "Andrau Airpark",
          "Flying Cloud Airport",
          "Johnson County Executive Airport",
          "Brandywine Airport",
          "Manassas Regional Airport/Harry P. Davis Field",
          "Shelby County Airport",
          "Fairfield County Airport",
          "Skyhaven Airport",
          "Newton City-County Airport",
          "Fort Bridger Airport",
          "Prosser Airport",
          "Chehalis Centralia Airport",
          "Desert Aire Airport",
          "Evanston-Uinta County Airport-Burns Field",
          "Sabetha Municipal Airport",
          "Mt Pleasant Regional-Faison field",
          "Weedon Field",
          "Saluda County Airport",
          "Dare County Regional Airport",
          "Auburn Opelika Robert G. Pitts Airport",
          "Tri Cities Airport",
          "Bessemer Airport",
          "Colorado Springs East Airport",
          "Crystal Airport",
          "Clarke County Airport",
          "W H 'Bud' Barron Airport",
          "Corvallis Municipal Airport",
          "Ogden Hinckley Airport",
          "Robert S Kerr Airport",
          "Colorado Plains Regional Airport",
          "Sanderson Field",
          "Napakiak Airport",
          "Napaskiak Airport",
          "Causey Airport",
          "Doylestown Airport",
          "Warren Field",
          "Hyde County Airport",
          "Wilkes County Airport",
          "Charleston Executive Airport",
          "Danville Regional Airport",
          "Brookneal/Campbell County Airport",
          "Cheraw Municipal Airport/Lynch Bellinger Field",
          "Conway Horry County Airport",
          "Asheboro Regional Airport",
          "Emporia Greensville Regional Airport",
          "El Monte Airport",
          "Kee Field",
          "Stinson Municipal Airport",
          "Sallisaw Municipal Airport",
          "Jasper County Airport-Bell Field",
          "El Dorado Springs Memorial Airport",
          "Marfa Municipal Airport",
          "Alpine Casparis Municipal Airport",
          "Cable Airport",
          "Mount Sterling Montgomery County Airport",
          "Elkhart Municipal Airport",
          "Nappanee Municipal Airport",
          "Jim Hamilton L.B. Owens Airport",
          "Grove Municipal Airport",
          "Mc Pherson Airport",
          "Donaldson Center Airport",
          "Perry Houston County Airport",
          "Hartsville Regional Airport",
          "Horace Williams Airport",
          "Brunswick County Airport",
          "Chesterfield County Airport",
          "Henderson Oxford Airport",
          "Leesburg International Airport",
          "Chino Airport",
          "Madison County Airport",
          "Paso Robles Municipal Airport",
          "Half Moon Bay Airport",
          "General WM J Fox Airfield",
          "Person County Airport",
          "Talladega Municipal Airport",
          "Greenville Downtown Airport",
          "Mankato Regional Airport",
          "Troy Municipal Airport",
          "Merkel Field Sylacauga Municipal Airport",
          "Enterprise Municipal Airport",
          "Thomas C Russell Field",
          "New Castle Henry Co. Municipal Airport",
          "Scott City Municipal Airport",
          "Brewster Field",
          "Pratt Regional Airport",
          "Wahoo Municipal Airport",
          "Jim Kelly Field",
          "Sublette Municipal Airport",
          "Council Bluffs Municipal Airport",
          "Kokomo Municipal Airport",
          "Neodesha Municipal Airport",
          "Elkhart Morton County Airport",
          "Front Range Airport",
          "Galesburg Municipal Airport",
          "Guymon Municipal Airport",
          "Meade Municipal Airport",
          "Ulysses Airport",
          "Independence Municipal Airport",
          "Augusta Municipal Airport",
          "Larned Pawnee County Airport",
          "Lampasas Airport",
          "Bay City Municipal Airport",
          "Cox Field",
          "Coffeyville Municipal Airport",
          "Greeley–Weld County Airport",
          "Fremont Municipal Airport",
          "La Grande/Union County Airport",
          "Pocono Mountains Municipal Airport",
          "Quakertown Airport",
          "Banning Municipal Airport",
          "Karl Stefan Memorial Airport",
          "Arlington Municipal Airport",
          "Peter O Knight Airport",
          "Montauk Airport",
          "Porter County Municipal Airport",
          "Mason County Airport",
          "Reid-Hillview Airport of Santa Clara County",
          "Watsonville Municipal Airport",
          "Williamsburg Jamestown Airport",
          "Union County Airport",
          "St Louis Regional Airport",
          "Chandler Field",
          "Columbus Municipal Airport",
          "Curtis Field",
          "Eastern Sierra Regional Airport",
          "Baker City Municipal Airport",
          "Miley Memorial Field",
          "Ozark Regional Airport",
          "W K Kellogg Airport",
          "Burley Municipal Airport",
          "Northeast Iowa Regional Airport",
          "Chanute Martin Johnson Airport",
          "Jacksonville Executive at Craig Airport",
          "Crossville Memorial Whitson Field",
          "Davison Army Air Field",
          "Barstow Daggett Airport",
          "Deming Municipal Airport",
          "Desert Rock Airport",
          "Needles Airport",
          "Duke Field",
          "Murray Field",
          "San Marcos Municipal Airport",
          "Sawyer County Airport",
          "Kimble County Airport",
          "Monticello Municipal Ellis Field",
          "Derby Field",
          "Mobridge Municipal Airport",
          "Mc Comb/Pike County Airport/John E Lewis Field",
          "Southern Illinois Airport",
          "Mc Entire Joint National Guard Base",
          "Brunswick Executive Airport",
          "Naval Station Mayport (Admiral David L. Mcdonald Field)",
          "Orangeburg Municipal Airport",
          "Columbus Municipal Airport",
          "Ottumwa Regional Airport",
          "Cairns AAF (Fort Rucker) Air Field",
          "Ralph Wenz Field",
          "Dutchess County Airport",
          "New Richmond Regional Airport",
          "Russell Municipal Airport",
          "Redwood Falls Municipal Airport",
          "Salinas Municipal Airport",
          "Sonora Municipal Airport",
          "Saline County Regional Airport",
          "Tonopah Airport",
          "Aurora State Airport",
          "Ukiah Municipal Airport",
          "University Oxford Airport",
          "Huntsville Regional Airport",
          "Miller Field",
          "Winnemucca Municipal Airport",
          "West Woodward Airport",
          "Cape Canaveral AFS Skid Strip",
          "Zanesville Municipal Airport",
          "Nenana Municipal Airport",
          "Wasilla Airport",
          "Keflavik International Airport",
          "Edmonton International Airport",
          "Halifax / Stanfield International Airport",
          "Waterloo Airport",
          "Kelowna International Airport",
          "Fort McMurray Airport",
          "Ottawa Macdonald-Cartier International Airport",
          "Quebec Jean Lesage International Airport",
          "Greater Moncton International Airport",
          "Regina International Airport",
          "Billy Bishop Toronto City Centre Airport",
          "Montreal / Pierre Elliott Trudeau International Airport",
          "Vancouver International Airport",
          "Winnipeg / James Armstrong Richardson International Airport",
          "Saskatoon John G. Diefenbaker International Airport",
          "London Airport",
          "Calgary International Airport",
          "Victoria International Airport",
          "St. John's International Airport",
          "Lester B. Pearson International Airport",
          "Kotoka International Airport",
          "Murtala Muhammed International Airport",
          "Brussels Airport",
          "Frankfurt am Main International Airport",
          "Hamburg Airport",
          "Düsseldorf International Airport",
          "Munich International Airport",
          "Stuttgart Airport",
          "Berlin-Tegel International Airport",
          "Helsinki Vantaa Airport",
          "Belfast International Airport",
          "Birmingham International Airport",
          "Manchester Airport",
          "London Gatwick Airport",
          "London Heathrow Airport",
          "Glasgow International Airport",
          "Edinburgh Airport",
          "Amsterdam Airport Schiphol",
          "Dublin Airport",
          "Shannon Airport",
          "Copenhagen Kastrup Airport",
          "Bergen Airport Flesland",
          "Oslo Gardermoen Airport",
          "Warsaw Chopin Airport",
          "Stockholm-Arlanda Airport",
          "OR Tambo International Airport",
          "Mohammed V International Airport",
          "Léopold Sédar Senghor International Airport",
          "Cairo International Airport",
          "Barcelona International Airport",
          "Adolfo Suárez Madrid–Barajas Airport",
          "Nice-Côte d'Azur Airport",
          "Charles de Gaulle International Airport",
          "Paris-Orly Airport",
          "Malpensa International Airport",
          "Venice Marco Polo Airport",
          "Leonardo da Vinci–Fiumicino Airport",
          "Ben Gurion International Airport",
          "Vienna International Airport",
          "João Paulo II Airport",
          "Francisco de Sá Carneiro Airport",
          "Lisbon Portela Airport",
          "Geneva Cointrin International Airport",
          "Zürich Airport",
          "Atatürk International Airport",
          "Providenciales Airport",
          "Casa De Campo International Airport",
          "Punta Cana International Airport",
          "Gregorio Luperon International Airport",
          "Las Américas International Airport",
          "Cibao International Airport",
          "La Aurora Airport",
          "Ramón Villeda Morales International Airport",
          "Juan Manuel Galvez International Airport",
          "Toncontín International Airport",
          "Norman Manley International Airport",
          "Sangster International Airport",
          "General Juan N Alvarez International Airport",
          "Jesús Terán Paredo International Airport",
          "Bahías de Huatulco International Airport",
          "Ciudad del Carmen International Airport",
          "General Roberto Fierro Villalobos International Airport",
          "Cozumel International Airport",
          "General Guadalupe Victoria International Airport",
          "Don Miguel Hidalgo Y Costilla International Airport",
          "General Ignacio P. Garcia International Airport",
          "Plan De Guadalupe International Airport",
          "Del Bajío International Airport",
          "Loreto International Airport",
          "Licenciado Manuel Crescencio Rejon Int Airport",
          "General Francisco J. Mujica International Airport",
          "Licenciado Benito Juarez International Airport",
          "General Mariano Escobedo International Airport",
          "General Rafael Buelna International Airport",
          "Xoxocotlán International Airport",
          "Hermanos Serdán International Airport",
          "Licenciado y General Ignacio Lopez Rayon Airport",
          "Licenciado Gustavo Díaz Ordaz International Airport",
          "Querétaro Intercontinental Airport",
          "Los Cabos International Airport",
          "Ponciano Arriaga International Airport",
          "Francisco Sarabia International Airport",
          "General Francisco Javier Mina International Airport",
          "Licenciado Adolfo Lopez Mateos International Airport",
          "Cancún International Airport",
          "Carlos Rovirosa Pérez International Airport",
          "General Heriberto Jara International Airport",
          "General Leobardo C. Ruiz International Airport",
          "Ixtapa Zihuatanejo International Airport",
          "Playa De Oro International Airport",
          "Augusto C. Sandino (Managua) International Airport",
          "Tocumen International Airport",
          "Daniel Oduber Quiros International Airport",
          "Juan Santamaria International Airport",
          "El Salvador International Airport",
          "Toussaint Louverture International Airport",
          "Owen Roberts International Airport",
          "Marsh Harbour International Airport",
          "Treasure Cay Airport",
          "South Bimini Airport",
          "Exuma International Airport",
          "North Eleuthera Airport",
          "Governor's Harbour Airport",
          "Grand Bahama International Airport",
          "Lynden Pindling International Airport",
          "San Salvador Airport",
          "Philip S. W. Goldson International Airport",
          "Rarotonga International Airport",
          "Nadi International Airport",
          "Faleolo International Airport",
          "Pago Pago International Airport",
          "Auckland International Airport",
          "King Abdulaziz International Airport",
          "King Khaled International Airport",
          "Queen Alia International Airport",
          "Kuwait International Airport",
          "Abu Dhabi International Airport",
          "Dubai International Airport",
          "Antonio B. Won Pat International Airport",
          "Marshall Islands International Airport",
          "Cassidy International Airport",
          "Taiwan Taoyuan International Airport",
          "Narita International Airport",
          "New Chitose Airport",
          "Fukuoka Airport",
          "Tokyo Haneda International Airport",
          "Ninoy Aquino International Airport",
          "Val de Cans/Júlio Cezar Ribeiro International Airport",
          "Presidente Juscelino Kubistschek International Airport",
          "Tancredo Neves International Airport",
          "Eduardo Gomes International Airport",
          "Rio Galeão – Tom Jobim International Airport",
          "Guarulhos - Governador André Franco Montoro International Airport",
          "Salgado Filho Airport",
          "Guararapes - Gilberto Freyre International Airport",
          "Deputado Luiz Eduardo Magalhães International Airport",
          "Comodoro Arturo Merino Benítez International Airport",
          "José Joaquín de Olmedo International Airport",
          "Mariscal Sucre International Airport",
          "Silvio Pettirossi International Airport",
          "El Eden Airport",
          "El Dorado International Airport",
          "Ernesto Cortissoz International Airport",
          "Rafael Nuñez International Airport",
          "Alfonso Bonilla Aragon International Airport",
          "Jose Maria Córdova International Airport",
          "Viru Viru International Airport",
          "Jorge Chávez International Airport",
          "Carrasco International /General C L Berisso Airport",
          "General Jose Antonio Anzoategui International Airport",
          "La Chinita International Airport",
          "Simón Bolívar International Airport",
          "V.C. Bird International Airport",
          "Sir Grantley Adams International Airport",
          "Martinique Aimé Césaire International Airport",
          "Pointe-à-Pitre Le Raizet",
          "Point Salines International Airport",
          "Cyril E. King Airport",
          "Henry E Rohlsen Airport",
          "Rafael Hernandez Airport",
          "Mercedita Airport",
          "Luis Munoz Marin International Airport",
          "Robert L. Bradshaw International Airport",
          "Hewanorra International Airport",
          "Queen Beatrix International Airport",
          "Flamingo International Airport",
          "Hato International Airport",
          "Princess Juliana International Airport",
          "Tobago-Crown Point Airport",
          "Piarco International Airport",
          "Boryspil International Airport",
          "Sheremetyevo International Airport",
          "Vnukovo International Airport",
          "Chhatrapati Shivaji International Airport",
          "Chek Lap Kok International Airport",
          "Indira Gandhi International Airport",
          "Brisbane International Airport",
          "Melbourne International Airport",
          "Sydney Kingsford Smith International Airport",
          "Beijing Capital International Airport",
          "Guangzhou Baiyun International Airport",
          "Shanghai Pudong International Airport",
          "Incheon International Airport",
          "Eleftherios Venizelos International Airport",
          "Chubu Centrair International Airport",
          "Riga International Airport",
          "Ministro Pistarini International Airport",
          "Kansai International Airport",
          "Domodedovo International Airport",
          "L.F. Wade International International Airport",
          "Faa'a International Airport",
          "Cheddi Jagan International Airport",
          "Praia International Airport",
          "Samaná El Catey International Airport"
         ],
         "type": "scattergeo"
        }
       ],
       "layout": {
        "geo": {
         "countrycolor": "rgb(204, 204, 204)",
         "landcolor": "rgb(243, 243, 243)",
         "projection": {
          "type": "natural earth"
         },
         "scope": "world",
         "showland": true
        },
        "margin": {
         "b": 1,
         "l": 1,
         "r": 50,
         "t": 50
        },
        "showlegend": false,
        "template": {
         "data": {
          "bar": [
           {
            "error_x": {
             "color": "#2a3f5f"
            },
            "error_y": {
             "color": "#2a3f5f"
            },
            "marker": {
             "line": {
              "color": "#E5ECF6",
              "width": 0.5
             }
            },
            "type": "bar"
           }
          ],
          "barpolar": [
           {
            "marker": {
             "line": {
              "color": "#E5ECF6",
              "width": 0.5
             }
            },
            "type": "barpolar"
           }
          ],
          "carpet": [
           {
            "aaxis": {
             "endlinecolor": "#2a3f5f",
             "gridcolor": "white",
             "linecolor": "white",
             "minorgridcolor": "white",
             "startlinecolor": "#2a3f5f"
            },
            "baxis": {
             "endlinecolor": "#2a3f5f",
             "gridcolor": "white",
             "linecolor": "white",
             "minorgridcolor": "white",
             "startlinecolor": "#2a3f5f"
            },
            "type": "carpet"
           }
          ],
          "choropleth": [
           {
            "colorbar": {
             "outlinewidth": 0,
             "ticks": ""
            },
            "type": "choropleth"
           }
          ],
          "contour": [
           {
            "colorbar": {
             "outlinewidth": 0,
             "ticks": ""
            },
            "colorscale": [
             [
              0,
              "#0d0887"
             ],
             [
              0.1111111111111111,
              "#46039f"
             ],
             [
              0.2222222222222222,
              "#7201a8"
             ],
             [
              0.3333333333333333,
              "#9c179e"
             ],
             [
              0.4444444444444444,
              "#bd3786"
             ],
             [
              0.5555555555555556,
              "#d8576b"
             ],
             [
              0.6666666666666666,
              "#ed7953"
             ],
             [
              0.7777777777777778,
              "#fb9f3a"
             ],
             [
              0.8888888888888888,
              "#fdca26"
             ],
             [
              1,
              "#f0f921"
             ]
            ],
            "type": "contour"
           }
          ],
          "contourcarpet": [
           {
            "colorbar": {
             "outlinewidth": 0,
             "ticks": ""
            },
            "type": "contourcarpet"
           }
          ],
          "heatmap": [
           {
            "colorbar": {
             "outlinewidth": 0,
             "ticks": ""
            },
            "colorscale": [
             [
              0,
              "#0d0887"
             ],
             [
              0.1111111111111111,
              "#46039f"
             ],
             [
              0.2222222222222222,
              "#7201a8"
             ],
             [
              0.3333333333333333,
              "#9c179e"
             ],
             [
              0.4444444444444444,
              "#bd3786"
             ],
             [
              0.5555555555555556,
              "#d8576b"
             ],
             [
              0.6666666666666666,
              "#ed7953"
             ],
             [
              0.7777777777777778,
              "#fb9f3a"
             ],
             [
              0.8888888888888888,
              "#fdca26"
             ],
             [
              1,
              "#f0f921"
             ]
            ],
            "type": "heatmap"
           }
          ],
          "heatmapgl": [
           {
            "colorbar": {
             "outlinewidth": 0,
             "ticks": ""
            },
            "colorscale": [
             [
              0,
              "#0d0887"
             ],
             [
              0.1111111111111111,
              "#46039f"
             ],
             [
              0.2222222222222222,
              "#7201a8"
             ],
             [
              0.3333333333333333,
              "#9c179e"
             ],
             [
              0.4444444444444444,
              "#bd3786"
             ],
             [
              0.5555555555555556,
              "#d8576b"
             ],
             [
              0.6666666666666666,
              "#ed7953"
             ],
             [
              0.7777777777777778,
              "#fb9f3a"
             ],
             [
              0.8888888888888888,
              "#fdca26"
             ],
             [
              1,
              "#f0f921"
             ]
            ],
            "type": "heatmapgl"
           }
          ],
          "histogram": [
           {
            "marker": {
             "colorbar": {
              "outlinewidth": 0,
              "ticks": ""
             }
            },
            "type": "histogram"
           }
          ],
          "histogram2d": [
           {
            "colorbar": {
             "outlinewidth": 0,
             "ticks": ""
            },
            "colorscale": [
             [
              0,
              "#0d0887"
             ],
             [
              0.1111111111111111,
              "#46039f"
             ],
             [
              0.2222222222222222,
              "#7201a8"
             ],
             [
              0.3333333333333333,
              "#9c179e"
             ],
             [
              0.4444444444444444,
              "#bd3786"
             ],
             [
              0.5555555555555556,
              "#d8576b"
             ],
             [
              0.6666666666666666,
              "#ed7953"
             ],
             [
              0.7777777777777778,
              "#fb9f3a"
             ],
             [
              0.8888888888888888,
              "#fdca26"
             ],
             [
              1,
              "#f0f921"
             ]
            ],
            "type": "histogram2d"
           }
          ],
          "histogram2dcontour": [
           {
            "colorbar": {
             "outlinewidth": 0,
             "ticks": ""
            },
            "colorscale": [
             [
              0,
              "#0d0887"
             ],
             [
              0.1111111111111111,
              "#46039f"
             ],
             [
              0.2222222222222222,
              "#7201a8"
             ],
             [
              0.3333333333333333,
              "#9c179e"
             ],
             [
              0.4444444444444444,
              "#bd3786"
             ],
             [
              0.5555555555555556,
              "#d8576b"
             ],
             [
              0.6666666666666666,
              "#ed7953"
             ],
             [
              0.7777777777777778,
              "#fb9f3a"
             ],
             [
              0.8888888888888888,
              "#fdca26"
             ],
             [
              1,
              "#f0f921"
             ]
            ],
            "type": "histogram2dcontour"
           }
          ],
          "mesh3d": [
           {
            "colorbar": {
             "outlinewidth": 0,
             "ticks": ""
            },
            "type": "mesh3d"
           }
          ],
          "parcoords": [
           {
            "line": {
             "colorbar": {
              "outlinewidth": 0,
              "ticks": ""
             }
            },
            "type": "parcoords"
           }
          ],
          "pie": [
           {
            "automargin": true,
            "type": "pie"
           }
          ],
          "scatter": [
           {
            "marker": {
             "colorbar": {
              "outlinewidth": 0,
              "ticks": ""
             }
            },
            "type": "scatter"
           }
          ],
          "scatter3d": [
           {
            "line": {
             "colorbar": {
              "outlinewidth": 0,
              "ticks": ""
             }
            },
            "marker": {
             "colorbar": {
              "outlinewidth": 0,
              "ticks": ""
             }
            },
            "type": "scatter3d"
           }
          ],
          "scattercarpet": [
           {
            "marker": {
             "colorbar": {
              "outlinewidth": 0,
              "ticks": ""
             }
            },
            "type": "scattercarpet"
           }
          ],
          "scattergeo": [
           {
            "marker": {
             "colorbar": {
              "outlinewidth": 0,
              "ticks": ""
             }
            },
            "type": "scattergeo"
           }
          ],
          "scattergl": [
           {
            "marker": {
             "colorbar": {
              "outlinewidth": 0,
              "ticks": ""
             }
            },
            "type": "scattergl"
           }
          ],
          "scattermapbox": [
           {
            "marker": {
             "colorbar": {
              "outlinewidth": 0,
              "ticks": ""
             }
            },
            "type": "scattermapbox"
           }
          ],
          "scatterpolar": [
           {
            "marker": {
             "colorbar": {
              "outlinewidth": 0,
              "ticks": ""
             }
            },
            "type": "scatterpolar"
           }
          ],
          "scatterpolargl": [
           {
            "marker": {
             "colorbar": {
              "outlinewidth": 0,
              "ticks": ""
             }
            },
            "type": "scatterpolargl"
           }
          ],
          "scatterternary": [
           {
            "marker": {
             "colorbar": {
              "outlinewidth": 0,
              "ticks": ""
             }
            },
            "type": "scatterternary"
           }
          ],
          "surface": [
           {
            "colorbar": {
             "outlinewidth": 0,
             "ticks": ""
            },
            "colorscale": [
             [
              0,
              "#0d0887"
             ],
             [
              0.1111111111111111,
              "#46039f"
             ],
             [
              0.2222222222222222,
              "#7201a8"
             ],
             [
              0.3333333333333333,
              "#9c179e"
             ],
             [
              0.4444444444444444,
              "#bd3786"
             ],
             [
              0.5555555555555556,
              "#d8576b"
             ],
             [
              0.6666666666666666,
              "#ed7953"
             ],
             [
              0.7777777777777778,
              "#fb9f3a"
             ],
             [
              0.8888888888888888,
              "#fdca26"
             ],
             [
              1,
              "#f0f921"
             ]
            ],
            "type": "surface"
           }
          ],
          "table": [
           {
            "cells": {
             "fill": {
              "color": "#EBF0F8"
             },
             "line": {
              "color": "white"
             }
            },
            "header": {
             "fill": {
              "color": "#C8D4E3"
             },
             "line": {
              "color": "white"
             }
            },
            "type": "table"
           }
          ]
         },
         "layout": {
          "annotationdefaults": {
           "arrowcolor": "#2a3f5f",
           "arrowhead": 0,
           "arrowwidth": 1
          },
          "coloraxis": {
           "colorbar": {
            "outlinewidth": 0,
            "ticks": ""
           }
          },
          "colorscale": {
           "diverging": [
            [
             0,
             "#8e0152"
            ],
            [
             0.1,
             "#c51b7d"
            ],
            [
             0.2,
             "#de77ae"
            ],
            [
             0.3,
             "#f1b6da"
            ],
            [
             0.4,
             "#fde0ef"
            ],
            [
             0.5,
             "#f7f7f7"
            ],
            [
             0.6,
             "#e6f5d0"
            ],
            [
             0.7,
             "#b8e186"
            ],
            [
             0.8,
             "#7fbc41"
            ],
            [
             0.9,
             "#4d9221"
            ],
            [
             1,
             "#276419"
            ]
           ],
           "sequential": [
            [
             0,
             "#0d0887"
            ],
            [
             0.1111111111111111,
             "#46039f"
            ],
            [
             0.2222222222222222,
             "#7201a8"
            ],
            [
             0.3333333333333333,
             "#9c179e"
            ],
            [
             0.4444444444444444,
             "#bd3786"
            ],
            [
             0.5555555555555556,
             "#d8576b"
            ],
            [
             0.6666666666666666,
             "#ed7953"
            ],
            [
             0.7777777777777778,
             "#fb9f3a"
            ],
            [
             0.8888888888888888,
             "#fdca26"
            ],
            [
             1,
             "#f0f921"
            ]
           ],
           "sequentialminus": [
            [
             0,
             "#0d0887"
            ],
            [
             0.1111111111111111,
             "#46039f"
            ],
            [
             0.2222222222222222,
             "#7201a8"
            ],
            [
             0.3333333333333333,
             "#9c179e"
            ],
            [
             0.4444444444444444,
             "#bd3786"
            ],
            [
             0.5555555555555556,
             "#d8576b"
            ],
            [
             0.6666666666666666,
             "#ed7953"
            ],
            [
             0.7777777777777778,
             "#fb9f3a"
            ],
            [
             0.8888888888888888,
             "#fdca26"
            ],
            [
             1,
             "#f0f921"
            ]
           ]
          },
          "colorway": [
           "#636efa",
           "#EF553B",
           "#00cc96",
           "#ab63fa",
           "#FFA15A",
           "#19d3f3",
           "#FF6692",
           "#B6E880",
           "#FF97FF",
           "#FECB52"
          ],
          "font": {
           "color": "#2a3f5f"
          },
          "geo": {
           "bgcolor": "white",
           "lakecolor": "white",
           "landcolor": "#E5ECF6",
           "showlakes": true,
           "showland": true,
           "subunitcolor": "white"
          },
          "hoverlabel": {
           "align": "left"
          },
          "hovermode": "closest",
          "mapbox": {
           "style": "light"
          },
          "paper_bgcolor": "white",
          "plot_bgcolor": "#E5ECF6",
          "polar": {
           "angularaxis": {
            "gridcolor": "white",
            "linecolor": "white",
            "ticks": ""
           },
           "bgcolor": "#E5ECF6",
           "radialaxis": {
            "gridcolor": "white",
            "linecolor": "white",
            "ticks": ""
           }
          },
          "scene": {
           "xaxis": {
            "backgroundcolor": "#E5ECF6",
            "gridcolor": "white",
            "gridwidth": 2,
            "linecolor": "white",
            "showbackground": true,
            "ticks": "",
            "zerolinecolor": "white"
           },
           "yaxis": {
            "backgroundcolor": "#E5ECF6",
            "gridcolor": "white",
            "gridwidth": 2,
            "linecolor": "white",
            "showbackground": true,
            "ticks": "",
            "zerolinecolor": "white"
           },
           "zaxis": {
            "backgroundcolor": "#E5ECF6",
            "gridcolor": "white",
            "gridwidth": 2,
            "linecolor": "white",
            "showbackground": true,
            "ticks": "",
            "zerolinecolor": "white"
           }
          },
          "shapedefaults": {
           "line": {
            "color": "#2a3f5f"
           }
          },
          "ternary": {
           "aaxis": {
            "gridcolor": "white",
            "linecolor": "white",
            "ticks": ""
           },
           "baxis": {
            "gridcolor": "white",
            "linecolor": "white",
            "ticks": ""
           },
           "bgcolor": "#E5ECF6",
           "caxis": {
            "gridcolor": "white",
            "linecolor": "white",
            "ticks": ""
           }
          },
          "title": {
           "x": 0.05
          },
          "xaxis": {
           "automargin": true,
           "gridcolor": "white",
           "linecolor": "white",
           "ticks": "",
           "title": {
            "standoff": 15
           },
           "zerolinecolor": "white",
           "zerolinewidth": 2
          },
          "yaxis": {
           "automargin": true,
           "gridcolor": "white",
           "linecolor": "white",
           "ticks": "",
           "title": {
            "standoff": 15
           },
           "zerolinecolor": "white",
           "zerolinewidth": 2
          }
         }
        },
        "title": {
         "text": "РАКЕТНАЯ АТАКА ПО США"
        }
       }
      },
      "text/html": [
       "<div>\n",
       "        \n",
       "        \n",
       "            <div id=\"e201142b-f3b7-4388-9990-3e3ec91648a1\" class=\"plotly-graph-div\" style=\"height:525px; width:100%;\"></div>\n",
       "            <script type=\"text/javascript\">\n",
       "                require([\"plotly\"], function(Plotly) {\n",
       "                    window.PLOTLYENV=window.PLOTLYENV || {};\n",
       "                    \n",
       "                if (document.getElementById(\"e201142b-f3b7-4388-9990-3e3ec91648a1\")) {\n",
       "                    Plotly.newPlot(\n",
       "                        'e201142b-f3b7-4388-9990-3e3ec91648a1',\n",
       "                        [{\"lat\": [16.757099151611328, 29.98439979553223], \"line\": {\"color\": \"red\", \"width\": 1}, \"lon\": [-99.75399780273438, -95.34140014648438], \"mode\": \"lines\", \"opacity\": 0.08333333333333333, \"type\": \"scattergeo\"}, {\"lat\": [5.605189800262451, 40.63980103], \"line\": {\"color\": \"red\", \"width\": 1}, \"lon\": [-0.16678600013256073, -73.77890015], \"mode\": \"lines\", \"opacity\": 0.08333333333333333, \"type\": \"scattergeo\"}, {\"lat\": [21.705601, 32.896800994873054], \"line\": {\"color\": \"red\", \"width\": 1}, \"lon\": [-102.318001, -97.03800201416016], \"mode\": \"lines\", \"opacity\": 0.16666666666666666, \"type\": \"scattergeo\"}, {\"lat\": [21.705601, 29.98439979553223], \"line\": {\"color\": \"red\", \"width\": 1}, \"lon\": [-102.318001, -95.34140014648438], \"mode\": \"lines\", \"opacity\": 0.08333333333333333, \"type\": \"scattergeo\"}, {\"lat\": [21.705601, 33.94250107], \"line\": {\"color\": \"red\", \"width\": 1}, \"lon\": [-102.318001, -118.40799709999999], \"mode\": \"lines\", \"opacity\": 0.08333333333333333, \"type\": \"scattergeo\"}, {\"lat\": [-37.0080986023, 33.94250107], \"line\": {\"color\": \"red\", \"width\": 1}, \"lon\": [174.79200744599999, -118.40799709999999], \"mode\": \"lines\", \"opacity\": 0.16666666666666666, \"type\": \"scattergeo\"}, {\"lat\": [-37.0080986023, 37.61899948120117], \"line\": {\"color\": \"red\", \"width\": 1}, \"lon\": [174.79200744599999, -122.375], \"mode\": \"lines\", \"opacity\": 0.16666666666666666, \"type\": \"scattergeo\"}, {\"lat\": [31.7226009369, 40.63980103], \"line\": {\"color\": \"red\", \"width\": 1}, \"lon\": [35.9931983948, -73.77890015], \"mode\": \"lines\", \"opacity\": 0.25, \"type\": \"scattergeo\"}, {\"lat\": [31.7226009369, 41.97859955], \"line\": {\"color\": \"red\", \"width\": 1}, \"lon\": [35.9931983948, -87.90480042], \"mode\": \"lines\", \"opacity\": 0.25, \"type\": \"scattergeo\"}, {\"lat\": [52.308601379399995, 33.63669967651367], \"line\": {\"color\": \"red\", \"width\": 1}, \"lon\": [4.7638897895799985, -84.4281005859375], \"mode\": \"lines\", \"opacity\": 0.16666666666666666, \"type\": \"scattergeo\"}, {\"lat\": [52.308601379399995, 42.36429977], \"line\": {\"color\": \"red\", \"width\": 1}, \"lon\": [4.7638897895799985, -71.00520325], \"mode\": \"lines\", \"opacity\": 0.16666666666666666, \"type\": \"scattergeo\"}, {\"lat\": [52.308601379399995, 32.896800994873054], \"line\": {\"color\": \"red\", \"width\": 1}, \"lon\": [4.7638897895799985, -97.03800201416016], \"mode\": \"lines\", \"opacity\": 0.16666666666666666, \"type\": \"scattergeo\"}, {\"lat\": [52.308601379399995, 42.212398529052734], \"line\": {\"color\": \"red\", \"width\": 1}, \"lon\": [4.7638897895799985, -83.35340118408203], \"mode\": \"lines\", \"opacity\": 0.16666666666666666, \"type\": \"scattergeo\"}, {\"lat\": [52.308601379399995, 40.69250106811523], \"line\": {\"color\": \"red\", \"width\": 1}, \"lon\": [4.7638897895799985, -74.168701171875], \"mode\": \"lines\", \"opacity\": 0.3333333333333333, \"type\": \"scattergeo\"}, {\"lat\": [52.308601379399995, 38.94449997], \"line\": {\"color\": \"red\", \"width\": 1}, \"lon\": [4.7638897895799985, -77.45580292], \"mode\": \"lines\", \"opacity\": 0.3333333333333333, \"type\": \"scattergeo\"}, {\"lat\": [52.308601379399995, 29.98439979553223], \"line\": {\"color\": \"red\", \"width\": 1}, \"lon\": [4.7638897895799985, -95.34140014648438], \"mode\": \"lines\", \"opacity\": 0.3333333333333333, \"type\": \"scattergeo\"}, {\"lat\": [52.308601379399995, 40.63980103], \"line\": {\"color\": \"red\", \"width\": 1}, \"lon\": [4.7638897895799985, -73.77890015], \"mode\": \"lines\", \"opacity\": 0.16666666666666666, \"type\": \"scattergeo\"}, {\"lat\": [52.308601379399995, 33.94250107], \"line\": {\"color\": \"red\", \"width\": 1}, \"lon\": [4.7638897895799985, -118.40799709999999], \"mode\": \"lines\", \"opacity\": 0.16666666666666666, \"type\": \"scattergeo\"}, {\"lat\": [52.308601379399995, 44.8819999695], \"line\": {\"color\": \"red\", \"width\": 1}, \"lon\": [4.7638897895799985, -93.22180175780001], \"mode\": \"lines\", \"opacity\": 0.16666666666666666, \"type\": \"scattergeo\"}, {\"lat\": [52.308601379399995, 41.97859955], \"line\": {\"color\": \"red\", \"width\": 1}, \"lon\": [4.7638897895799985, -87.90480042], \"mode\": \"lines\", \"opacity\": 0.3333333333333333, \"type\": \"scattergeo\"}, {\"lat\": [52.308601379399995, 45.58869934], \"line\": {\"color\": \"red\", \"width\": 1}, \"lon\": [4.7638897895799985, -122.59799960000001], \"mode\": \"lines\", \"opacity\": 0.16666666666666666, \"type\": \"scattergeo\"}, {\"lat\": [52.308601379399995, 39.87189865112305], \"line\": {\"color\": \"red\", \"width\": 1}, \"lon\": [4.7638897895799985, -75.24109649658203], \"mode\": \"lines\", \"opacity\": 0.16666666666666666, \"type\": \"scattergeo\"}, {\"lat\": [52.308601379399995, 47.44900131225586], \"line\": {\"color\": \"red\", \"width\": 1}, \"lon\": [4.7638897895799985, -122.30899810791016], \"mode\": \"lines\", \"opacity\": 0.16666666666666666, \"type\": \"scattergeo\"}, {\"lat\": [52.308601379399995, 28.7775993347168], \"line\": {\"color\": \"red\", \"width\": 1}, \"lon\": [4.7638897895799985, -81.23750305175781], \"mode\": \"lines\", \"opacity\": 0.08333333333333333, \"type\": \"scattergeo\"}, {\"lat\": [52.308601379399995, 37.61899948120117], \"line\": {\"color\": \"red\", \"width\": 1}, \"lon\": [4.7638897895799985, -122.375], \"mode\": \"lines\", \"opacity\": 0.16666666666666666, \"type\": \"scattergeo\"}, {\"lat\": [17.1367, 35.2140007019043], \"line\": {\"color\": \"red\", \"width\": 1}, \"lon\": [-61.792702, -80.94309997558594], \"mode\": \"lines\", \"opacity\": 0.16666666666666666, \"type\": \"scattergeo\"}, {\"lat\": [17.1367, 40.69250106811523], \"line\": {\"color\": \"red\", \"width\": 1}, \"lon\": [-61.792702, -74.168701171875], \"mode\": \"lines\", \"opacity\": 0.08333333333333333, \"type\": \"scattergeo\"}, {\"lat\": [17.1367, 40.63980103], \"line\": {\"color\": \"red\", \"width\": 1}, \"lon\": [-61.792702, -73.77890015], \"mode\": \"lines\", \"opacity\": 0.16666666666666666, \"type\": \"scattergeo\"}, {\"lat\": [17.1367, 25.79319953918457], \"line\": {\"color\": \"red\", \"width\": 1}, \"lon\": [-61.792702, -80.29060363769531], \"mode\": \"lines\", \"opacity\": 0.16666666666666666, \"type\": \"scattergeo\"}, {\"lat\": [-13.829999923706055, 21.318700790405273], \"line\": {\"color\": \"red\", \"width\": 1}, \"lon\": [-172.00799560546875, -157.9219970703125], \"mode\": \"lines\", \"opacity\": 0.08333333333333333, \"type\": \"scattergeo\"}, {\"lat\": [59.651901245116996, 40.69250106811523], \"line\": {\"color\": \"red\", \"width\": 1}, \"lon\": [17.918600082397, -74.168701171875], \"mode\": \"lines\", \"opacity\": 0.16666666666666666, \"type\": \"scattergeo\"}, {\"lat\": [59.651901245116996, 26.072599411010746], \"line\": {\"color\": \"red\", \"width\": 1}, \"lon\": [17.918600082397, -80.15270233154297], \"mode\": \"lines\", \"opacity\": 0.08333333333333333, \"type\": \"scattergeo\"}, {\"lat\": [59.651901245116996, 40.63980103], \"line\": {\"color\": \"red\", \"width\": 1}, \"lon\": [17.918600082397, -73.77890015], \"mode\": \"lines\", \"opacity\": 0.08333333333333333, \"type\": \"scattergeo\"}, {\"lat\": [59.651901245116996, 33.94250107], \"line\": {\"color\": \"red\", \"width\": 1}, \"lon\": [17.918600082397, -118.40799709999999], \"mode\": \"lines\", \"opacity\": 0.08333333333333333, \"type\": \"scattergeo\"}, {\"lat\": [59.651901245116996, 37.72129821777344], \"line\": {\"color\": \"red\", \"width\": 1}, \"lon\": [17.918600082397, -122.22100067138672], \"mode\": \"lines\", \"opacity\": 0.08333333333333333, \"type\": \"scattergeo\"}, {\"lat\": [59.651901245116996, 41.97859955], \"line\": {\"color\": \"red\", \"width\": 1}, \"lon\": [17.918600082397, -87.90480042], \"mode\": \"lines\", \"opacity\": 0.08333333333333333, \"type\": \"scattergeo\"}, {\"lat\": [-25.239999771118164, 25.79319953918457], \"line\": {\"color\": \"red\", \"width\": 1}, \"lon\": [-57.52000045776367, -80.29060363769531], \"mode\": \"lines\", \"opacity\": 0.16666666666666666, \"type\": \"scattergeo\"}, {\"lat\": [37.9364013672, 39.87189865112305], \"line\": {\"color\": \"red\", \"width\": 1}, \"lon\": [23.944499969499997, -75.24109649658203], \"mode\": \"lines\", \"opacity\": 0.25, \"type\": \"scattergeo\"}, {\"lat\": [12.501399993896484, 33.63669967651367], \"line\": {\"color\": \"red\", \"width\": 1}, \"lon\": [-70.01519775390625, -84.4281005859375], \"mode\": \"lines\", \"opacity\": 0.25, \"type\": \"scattergeo\"}, {\"lat\": [12.501399993896484, 42.36429977], \"line\": {\"color\": \"red\", \"width\": 1}, \"lon\": [-70.01519775390625, -71.00520325], \"mode\": \"lines\", \"opacity\": 0.08333333333333333, \"type\": \"scattergeo\"}, {\"lat\": [12.501399993896484, 39.17539978], \"line\": {\"color\": \"red\", \"width\": 1}, \"lon\": [-70.01519775390625, -76.66829681], \"mode\": \"lines\", \"opacity\": 0.08333333333333333, \"type\": \"scattergeo\"}, {\"lat\": [12.501399993896484, 35.2140007019043], \"line\": {\"color\": \"red\", \"width\": 1}, \"lon\": [-70.01519775390625, -80.94309997558594], \"mode\": \"lines\", \"opacity\": 0.16666666666666666, \"type\": \"scattergeo\"}, {\"lat\": [12.501399993896484, 40.69250106811523], \"line\": {\"color\": \"red\", \"width\": 1}, \"lon\": [-70.01519775390625, -74.168701171875], \"mode\": \"lines\", \"opacity\": 0.08333333333333333, \"type\": \"scattergeo\"}, {\"lat\": [12.501399993896484, 26.072599411010746], \"line\": {\"color\": \"red\", \"width\": 1}, \"lon\": [-70.01519775390625, -80.15270233154297], \"mode\": \"lines\", \"opacity\": 0.08333333333333333, \"type\": \"scattergeo\"}, {\"lat\": [12.501399993896484, 38.94449997], \"line\": {\"color\": \"red\", \"width\": 1}, \"lon\": [-70.01519775390625, -77.45580292], \"mode\": \"lines\", \"opacity\": 0.08333333333333333, \"type\": \"scattergeo\"}, {\"lat\": [12.501399993896484, 40.63980103], \"line\": {\"color\": \"red\", \"width\": 1}, \"lon\": [-70.01519775390625, -73.77890015], \"mode\": \"lines\", \"opacity\": 0.16666666666666666, \"type\": \"scattergeo\"}, {\"lat\": [12.501399993896484, 40.77719879], \"line\": {\"color\": \"red\", \"width\": 1}, \"lon\": [-70.01519775390625, -73.87259674], \"mode\": \"lines\", \"opacity\": 0.08333333333333333, \"type\": \"scattergeo\"}, {\"lat\": [12.501399993896484, 28.429399490356445], \"line\": {\"color\": \"red\", \"width\": 1}, \"lon\": [-70.01519775390625, -81.30899810791016], \"mode\": \"lines\", \"opacity\": 0.08333333333333333, \"type\": \"scattergeo\"}, {\"lat\": [12.501399993896484, 25.79319953918457], \"line\": {\"color\": \"red\", \"width\": 1}, \"lon\": [-70.01519775390625, -80.29060363769531], \"mode\": \"lines\", \"opacity\": 0.4166666666666667, \"type\": \"scattergeo\"}, {\"lat\": [12.501399993896484, 39.87189865112305], \"line\": {\"color\": \"red\", \"width\": 1}, \"lon\": [-70.01519775390625, -75.24109649658203], \"mode\": \"lines\", \"opacity\": 0.16666666666666666, \"type\": \"scattergeo\"}, {\"lat\": [24.433000564575195, 38.94449997], \"line\": {\"color\": \"red\", \"width\": 1}, \"lon\": [54.651100158691406, -77.45580292], \"mode\": \"lines\", \"opacity\": 0.16666666666666666, \"type\": \"scattergeo\"}, {\"lat\": [24.433000564575195, 40.63980103], \"line\": {\"color\": \"red\", \"width\": 1}, \"lon\": [54.651100158691406, -73.77890015], \"mode\": \"lines\", \"opacity\": 0.16666666666666666, \"type\": \"scattergeo\"}, {\"lat\": [24.433000564575195, 41.97859955], \"line\": {\"color\": \"red\", \"width\": 1}, \"lon\": [54.651100158691406, -87.90480042], \"mode\": \"lines\", \"opacity\": 0.16666666666666666, \"type\": \"scattergeo\"}, {\"lat\": [4.452780000000001, 26.072599411010746], \"line\": {\"color\": \"red\", \"width\": 1}, \"lon\": [-75.7664, -80.15270233154297], \"mode\": \"lines\", \"opacity\": 0.08333333333333333, \"type\": \"scattergeo\"}, {\"lat\": [19.267000198399998, 40.63980103], \"line\": {\"color\": \"red\", \"width\": 1}, \"lon\": [-69.7419967651, -73.77890015], \"mode\": \"lines\", \"opacity\": 0.08333333333333333, \"type\": \"scattergeo\"}, {\"lat\": [10.8896, 25.79319953918457], \"line\": {\"color\": \"red\", \"width\": 1}, \"lon\": [-74.7808, -80.29060363769531], \"mode\": \"lines\", \"opacity\": 0.25, \"type\": \"scattergeo\"}, {\"lat\": [41.297100067139, 40.69250106811523], \"line\": {\"color\": \"red\", \"width\": 1}, \"lon\": [2.0784599781036, -74.168701171875], \"mode\": \"lines\", \"opacity\": 0.16666666666666666, \"type\": \"scattergeo\"}, {\"lat\": [41.297100067139, 40.63980103], \"line\": {\"color\": \"red\", \"width\": 1}, \"lon\": [2.0784599781036, -73.77890015], \"mode\": \"lines\", \"opacity\": 0.75, \"type\": \"scattergeo\"}, {\"lat\": [41.297100067139, 25.79319953918457], \"line\": {\"color\": \"red\", \"width\": 1}, \"lon\": [2.0784599781036, -80.29060363769531], \"mode\": \"lines\", \"opacity\": 0.4166666666666667, \"type\": \"scattergeo\"}, {\"lat\": [41.297100067139, 39.87189865112305], \"line\": {\"color\": \"red\", \"width\": 1}, \"lon\": [2.0784599781036, -75.24109649658203], \"mode\": \"lines\", \"opacity\": 0.16666666666666666, \"type\": \"scattergeo\"}, {\"lat\": [32.363998413085945, 33.63669967651367], \"line\": {\"color\": \"red\", \"width\": 1}, \"lon\": [-64.67870330810547, -84.4281005859375], \"mode\": \"lines\", \"opacity\": 0.08333333333333333, \"type\": \"scattergeo\"}, {\"lat\": [32.363998413085945, 42.36429977], \"line\": {\"color\": \"red\", \"width\": 1}, \"lon\": [-64.67870330810547, -71.00520325], \"mode\": \"lines\", \"opacity\": 0.08333333333333333, \"type\": \"scattergeo\"}, {\"lat\": [32.363998413085945, 40.69250106811523], \"line\": {\"color\": \"red\", \"width\": 1}, \"lon\": [-64.67870330810547, -74.168701171875], \"mode\": \"lines\", \"opacity\": 0.08333333333333333, \"type\": \"scattergeo\"}, {\"lat\": [32.363998413085945, 40.63980103], \"line\": {\"color\": \"red\", \"width\": 1}, \"lon\": [-64.67870330810547, -73.77890015], \"mode\": \"lines\", \"opacity\": 0.3333333333333333, \"type\": \"scattergeo\"}, {\"lat\": [32.363998413085945, 25.79319953918457], \"line\": {\"color\": \"red\", \"width\": 1}, \"lon\": [-64.67870330810547, -80.29060363769531], \"mode\": \"lines\", \"opacity\": 0.16666666666666666, \"type\": \"scattergeo\"}, {\"lat\": [32.363998413085945, 39.87189865112305], \"line\": {\"color\": \"red\", \"width\": 1}, \"lon\": [-64.67870330810547, -75.24109649658203], \"mode\": \"lines\", \"opacity\": 0.16666666666666666, \"type\": \"scattergeo\"}, {\"lat\": [-1.3792500495900002, 25.79319953918457], \"line\": {\"color\": \"red\", \"width\": 1}, \"lon\": [-48.476299285900005, -80.29060363769531], \"mode\": \"lines\", \"opacity\": 0.08333333333333333, \"type\": \"scattergeo\"}, {\"lat\": [54.6575012207, 40.69250106811523], \"line\": {\"color\": \"red\", \"width\": 1}, \"lon\": [-6.21582984924, -74.168701171875], \"mode\": \"lines\", \"opacity\": 0.16666666666666666, \"type\": \"scattergeo\"}, {\"lat\": [13.0746002197, 40.63980103], \"line\": {\"color\": \"red\", \"width\": 1}, \"lon\": [-59.492500305200004, -73.77890015], \"mode\": \"lines\", \"opacity\": 0.08333333333333333, \"type\": \"scattergeo\"}, {\"lat\": [13.0746002197, 25.79319953918457], \"line\": {\"color\": \"red\", \"width\": 1}, \"lon\": [-59.492500305200004, -80.29060363769531], \"mode\": \"lines\", \"opacity\": 0.16666666666666666, \"type\": \"scattergeo\"}, {\"lat\": [60.29339981, 40.63980103], \"line\": {\"color\": \"red\", \"width\": 1}, \"lon\": [5.218140125, -73.77890015], \"mode\": \"lines\", \"opacity\": 0.08333333333333333, \"type\": \"scattergeo\"}, {\"lat\": [52.4538993835, 40.69250106811523], \"line\": {\"color\": \"red\", \"width\": 1}, \"lon\": [-1.7480299472799998, -74.168701171875], \"mode\": \"lines\", \"opacity\": 0.16666666666666666, \"type\": \"scattergeo\"}, {\"lat\": [25.6998996735, 26.072599411010746], \"line\": {\"color\": \"red\", \"width\": 1}, \"lon\": [-79.2647018433, -80.15270233154297], \"mode\": \"lines\", \"opacity\": 0.16666666666666666, \"type\": \"scattergeo\"}, {\"lat\": [20.993499755900004, 33.63669967651367], \"line\": {\"color\": \"red\", \"width\": 1}, \"lon\": [-101.48100280799999, -84.4281005859375], \"mode\": \"lines\", \"opacity\": 0.08333333333333333, \"type\": \"scattergeo\"}, {\"lat\": [20.993499755900004, 32.896800994873054], \"line\": {\"color\": \"red\", \"width\": 1}, \"lon\": [-101.48100280799999, -97.03800201416016], \"mode\": \"lines\", \"opacity\": 0.16666666666666666, \"type\": \"scattergeo\"}, {\"lat\": [20.993499755900004, 29.98439979553223], \"line\": {\"color\": \"red\", \"width\": 1}, \"lon\": [-101.48100280799999, -95.34140014648438], \"mode\": \"lines\", \"opacity\": 0.08333333333333333, \"type\": \"scattergeo\"}, {\"lat\": [20.993499755900004, 33.94250107], \"line\": {\"color\": \"red\", \"width\": 1}, \"lon\": [-101.48100280799999, -118.40799709999999], \"mode\": \"lines\", \"opacity\": 0.16666666666666666, \"type\": \"scattergeo\"}, {\"lat\": [20.993499755900004, 41.7859992980957], \"line\": {\"color\": \"red\", \"width\": 1}, \"lon\": [-101.48100280799999, -87.75240325927734], \"mode\": \"lines\", \"opacity\": 0.08333333333333333, \"type\": \"scattergeo\"}, {\"lat\": [20.993499755900004, 37.61899948120117], \"line\": {\"color\": \"red\", \"width\": 1}, \"lon\": [-101.48100280799999, -122.375], \"mode\": \"lines\", \"opacity\": 0.08333333333333333, \"type\": \"scattergeo\"}, {\"lat\": [10.107099533081056, 25.79319953918457], \"line\": {\"color\": \"red\", \"width\": 1}, \"lon\": [-64.68920135498047, -80.29060363769531], \"mode\": \"lines\", \"opacity\": 0.08333333333333333, \"type\": \"scattergeo\"}, {\"lat\": [-27.38419914245605, 21.318700790405273], \"line\": {\"color\": \"red\", \"width\": 1}, \"lon\": [153.11700439453125, -157.9219970703125], \"mode\": \"lines\", \"opacity\": 0.08333333333333333, \"type\": \"scattergeo\"}, {\"lat\": [-27.38419914245605, 33.94250107], \"line\": {\"color\": \"red\", \"width\": 1}, \"lon\": [153.11700439453125, -118.40799709999999], \"mode\": \"lines\", \"opacity\": 0.3333333333333333, \"type\": \"scattergeo\"}, {\"lat\": [4.70159, 33.63669967651367], \"line\": {\"color\": \"red\", \"width\": 1}, \"lon\": [-74.1469, -84.4281005859375], \"mode\": \"lines\", \"opacity\": 0.08333333333333333, \"type\": \"scattergeo\"}, {\"lat\": [4.70159, 32.896800994873054], \"line\": {\"color\": \"red\", \"width\": 1}, \"lon\": [-74.1469, -97.03800201416016], \"mode\": \"lines\", \"opacity\": 0.25, \"type\": \"scattergeo\"}, {\"lat\": [4.70159, 40.69250106811523], \"line\": {\"color\": \"red\", \"width\": 1}, \"lon\": [-74.1469, -74.168701171875], \"mode\": \"lines\", \"opacity\": 0.16666666666666666, \"type\": \"scattergeo\"}, {\"lat\": [4.70159, 26.072599411010746], \"line\": {\"color\": \"red\", \"width\": 1}, \"lon\": [-74.1469, -80.15270233154297], \"mode\": \"lines\", \"opacity\": 0.3333333333333333, \"type\": \"scattergeo\"}, {\"lat\": [4.70159, 38.94449997], \"line\": {\"color\": \"red\", \"width\": 1}, \"lon\": [-74.1469, -77.45580292], \"mode\": \"lines\", \"opacity\": 0.16666666666666666, \"type\": \"scattergeo\"}, {\"lat\": [4.70159, 29.98439979553223], \"line\": {\"color\": \"red\", \"width\": 1}, \"lon\": [-74.1469, -95.34140014648438], \"mode\": \"lines\", \"opacity\": 0.16666666666666666, \"type\": \"scattergeo\"}, {\"lat\": [4.70159, 40.63980103], \"line\": {\"color\": \"red\", \"width\": 1}, \"lon\": [-74.1469, -73.77890015], \"mode\": \"lines\", \"opacity\": 0.3333333333333333, \"type\": \"scattergeo\"}, {\"lat\": [4.70159, 28.429399490356445], \"line\": {\"color\": \"red\", \"width\": 1}, \"lon\": [-74.1469, -81.30899810791016], \"mode\": \"lines\", \"opacity\": 0.25, \"type\": \"scattergeo\"}, {\"lat\": [4.70159, 25.79319953918457], \"line\": {\"color\": \"red\", \"width\": 1}, \"lon\": [-74.1469, -80.29060363769531], \"mode\": \"lines\", \"opacity\": 0.4166666666666667, \"type\": \"scattergeo\"}, {\"lat\": [19.088699340799998, 40.69250106811523], \"line\": {\"color\": \"red\", \"width\": 1}, \"lon\": [72.8678970337, -74.168701171875], \"mode\": \"lines\", \"opacity\": 0.16666666666666666, \"type\": \"scattergeo\"}, {\"lat\": [12.130999565124512, 33.63669967651367], \"line\": {\"color\": \"red\", \"width\": 1}, \"lon\": [-68.26850128173828, -84.4281005859375], \"mode\": \"lines\", \"opacity\": 0.08333333333333333, \"type\": \"scattergeo\"}, {\"lat\": [12.130999565124512, 40.69250106811523], \"line\": {\"color\": \"red\", \"width\": 1}, \"lon\": [-68.26850128173828, -74.168701171875], \"mode\": \"lines\", \"opacity\": 0.08333333333333333, \"type\": \"scattergeo\"}, {\"lat\": [12.130999565124512, 29.98439979553223], \"line\": {\"color\": \"red\", \"width\": 1}, \"lon\": [-68.26850128173828, -95.34140014648438], \"mode\": \"lines\", \"opacity\": 0.08333333333333333, \"type\": \"scattergeo\"}, {\"lat\": [18.49489974975586, 40.69250106811523], \"line\": {\"color\": \"red\", \"width\": 1}, \"lon\": [-67.12940216064453, -74.168701171875], \"mode\": \"lines\", \"opacity\": 0.08333333333333333, \"type\": \"scattergeo\"}, {\"lat\": [18.49489974975586, 26.072599411010746], \"line\": {\"color\": \"red\", \"width\": 1}, \"lon\": [-67.12940216064453, -80.15270233154297], \"mode\": \"lines\", \"opacity\": 0.08333333333333333, \"type\": \"scattergeo\"}, {\"lat\": [18.49489974975586, 40.63980103], \"line\": {\"color\": \"red\", \"width\": 1}, \"lon\": [-67.12940216064453, -73.77890015], \"mode\": \"lines\", \"opacity\": 0.08333333333333333, \"type\": \"scattergeo\"}, {\"lat\": [18.49489974975586, 28.429399490356445], \"line\": {\"color\": \"red\", \"width\": 1}, \"lon\": [-67.12940216064453, -81.30899810791016], \"mode\": \"lines\", \"opacity\": 0.08333333333333333, \"type\": \"scattergeo\"}, {\"lat\": [50.9014015198, 33.63669967651367], \"line\": {\"color\": \"red\", \"width\": 1}, \"lon\": [4.48443984985, -84.4281005859375], \"mode\": \"lines\", \"opacity\": 0.25, \"type\": \"scattergeo\"}, {\"lat\": [50.9014015198, 40.69250106811523], \"line\": {\"color\": \"red\", \"width\": 1}, \"lon\": [4.48443984985, -74.168701171875], \"mode\": \"lines\", \"opacity\": 0.4166666666666667, \"type\": \"scattergeo\"}, {\"lat\": [50.9014015198, 38.94449997], \"line\": {\"color\": \"red\", \"width\": 1}, \"lon\": [4.48443984985, -77.45580292], \"mode\": \"lines\", \"opacity\": 0.25, \"type\": \"scattergeo\"}, {\"lat\": [50.9014015198, 40.63980103], \"line\": {\"color\": \"red\", \"width\": 1}, \"lon\": [4.48443984985, -73.77890015], \"mode\": \"lines\", \"opacity\": 0.5, \"type\": \"scattergeo\"}, {\"lat\": [50.9014015198, 41.97859955], \"line\": {\"color\": \"red\", \"width\": 1}, \"lon\": [4.48443984985, -87.90480042], \"mode\": \"lines\", \"opacity\": 0.16666666666666666, \"type\": \"scattergeo\"}, {\"lat\": [50.9014015198, 39.87189865112305], \"line\": {\"color\": \"red\", \"width\": 1}, \"lon\": [4.48443984985, -75.24109649658203], \"mode\": \"lines\", \"opacity\": 0.16666666666666666, \"type\": \"scattergeo\"}, {\"lat\": [-15.86916732788086, 33.63669967651367], \"line\": {\"color\": \"red\", \"width\": 1}, \"lon\": [-47.92083358764648, -84.4281005859375], \"mode\": \"lines\", \"opacity\": 0.08333333333333333, \"type\": \"scattergeo\"}, {\"lat\": [-15.86916732788086, 25.79319953918457], \"line\": {\"color\": \"red\", \"width\": 1}, \"lon\": [-47.92083358764648, -80.29060363769531], \"mode\": \"lines\", \"opacity\": 0.25, \"type\": \"scattergeo\"}, {\"lat\": [17.539100646972653, 33.63669967651367], \"line\": {\"color\": \"red\", \"width\": 1}, \"lon\": [-88.30819702148438, -84.4281005859375], \"mode\": \"lines\", \"opacity\": 0.08333333333333333, \"type\": \"scattergeo\"}, {\"lat\": [17.539100646972653, 35.2140007019043], \"line\": {\"color\": \"red\", \"width\": 1}, \"lon\": [-88.30819702148438, -80.94309997558594], \"mode\": \"lines\", \"opacity\": 0.16666666666666666, \"type\": \"scattergeo\"}, {\"lat\": [17.539100646972653, 32.896800994873054], \"line\": {\"color\": \"red\", \"width\": 1}, \"lon\": [-88.30819702148438, -97.03800201416016], \"mode\": \"lines\", \"opacity\": 0.16666666666666666, \"type\": \"scattergeo\"}, {\"lat\": [17.539100646972653, 40.69250106811523], \"line\": {\"color\": \"red\", \"width\": 1}, \"lon\": [-88.30819702148438, -74.168701171875], \"mode\": \"lines\", \"opacity\": 0.08333333333333333, \"type\": \"scattergeo\"}, {\"lat\": [17.539100646972653, 29.98439979553223], \"line\": {\"color\": \"red\", \"width\": 1}, \"lon\": [-88.30819702148438, -95.34140014648438], \"mode\": \"lines\", \"opacity\": 0.08333333333333333, \"type\": \"scattergeo\"}, {\"lat\": [17.539100646972653, 33.94250107], \"line\": {\"color\": \"red\", \"width\": 1}, \"lon\": [-88.30819702148438, -118.40799709999999], \"mode\": \"lines\", \"opacity\": 0.08333333333333333, \"type\": \"scattergeo\"}, {\"lat\": [17.539100646972653, 25.79319953918457], \"line\": {\"color\": \"red\", \"width\": 1}, \"lon\": [-88.30819702148438, -80.29060363769531], \"mode\": \"lines\", \"opacity\": 0.16666666666666666, \"type\": \"scattergeo\"}, {\"lat\": [30.12190055847168, 40.63980103], \"line\": {\"color\": \"red\", \"width\": 1}, \"lon\": [31.40559959411621, -73.77890015], \"mode\": \"lines\", \"opacity\": 0.16666666666666666, \"type\": \"scattergeo\"}, {\"lat\": [23.39240074157715, 33.94250107], \"line\": {\"color\": \"red\", \"width\": 1}, \"lon\": [113.29900360107422, -118.40799709999999], \"mode\": \"lines\", \"opacity\": 0.16666666666666666, \"type\": \"scattergeo\"}, {\"lat\": [10.6031169891, 33.63669967651367], \"line\": {\"color\": \"red\", \"width\": 1}, \"lon\": [-66.9905853271, -84.4281005859375], \"mode\": \"lines\", \"opacity\": 0.08333333333333333, \"type\": \"scattergeo\"}, {\"lat\": [10.6031169891, 32.896800994873054], \"line\": {\"color\": \"red\", \"width\": 1}, \"lon\": [-66.9905853271, -97.03800201416016], \"mode\": \"lines\", \"opacity\": 0.08333333333333333, \"type\": \"scattergeo\"}, {\"lat\": [10.6031169891, 29.98439979553223], \"line\": {\"color\": \"red\", \"width\": 1}, \"lon\": [-66.9905853271, -95.34140014648438], \"mode\": \"lines\", \"opacity\": 0.08333333333333333, \"type\": \"scattergeo\"}, {\"lat\": [10.6031169891, 40.63980103], \"line\": {\"color\": \"red\", \"width\": 1}, \"lon\": [-66.9905853271, -73.77890015], \"mode\": \"lines\", \"opacity\": 0.08333333333333333, \"type\": \"scattergeo\"}, {\"lat\": [10.6031169891, 25.79319953918457], \"line\": {\"color\": \"red\", \"width\": 1}, \"lon\": [-66.9905853271, -80.29060363769531], \"mode\": \"lines\", \"opacity\": 0.25, \"type\": \"scattergeo\"}, {\"lat\": [49.0127983093, 33.63669967651367], \"line\": {\"color\": \"red\", \"width\": 1}, \"lon\": [2.54999995232, -84.4281005859375], \"mode\": \"lines\", \"opacity\": 0.3333333333333333, \"type\": \"scattergeo\"}, {\"lat\": [49.0127983093, 42.36429977], \"line\": {\"color\": \"red\", \"width\": 1}, \"lon\": [2.54999995232, -71.00520325], \"mode\": \"lines\", \"opacity\": 0.25, \"type\": \"scattergeo\"}, {\"lat\": [49.0127983093, 35.2140007019043], \"line\": {\"color\": \"red\", \"width\": 1}, \"lon\": [2.54999995232, -80.94309997558594], \"mode\": \"lines\", \"opacity\": 0.16666666666666666, \"type\": \"scattergeo\"}, {\"lat\": [49.0127983093, 39.0488014221], \"line\": {\"color\": \"red\", \"width\": 1}, \"lon\": [2.54999995232, -84.6678009033], \"mode\": \"lines\", \"opacity\": 0.16666666666666666, \"type\": \"scattergeo\"}, {\"lat\": [49.0127983093, 32.896800994873054], \"line\": {\"color\": \"red\", \"width\": 1}, \"lon\": [2.54999995232, -97.03800201416016], \"mode\": \"lines\", \"opacity\": 0.5, \"type\": \"scattergeo\"}, {\"lat\": [49.0127983093, 42.212398529052734], \"line\": {\"color\": \"red\", \"width\": 1}, \"lon\": [2.54999995232, -83.35340118408203], \"mode\": \"lines\", \"opacity\": 0.25, \"type\": \"scattergeo\"}, {\"lat\": [49.0127983093, 40.69250106811523], \"line\": {\"color\": \"red\", \"width\": 1}, \"lon\": [2.54999995232, -74.168701171875], \"mode\": \"lines\", \"opacity\": 0.3333333333333333, \"type\": \"scattergeo\"}, {\"lat\": [49.0127983093, 38.94449997], \"line\": {\"color\": \"red\", \"width\": 1}, \"lon\": [2.54999995232, -77.45580292], \"mode\": \"lines\", \"opacity\": 0.4166666666666667, \"type\": \"scattergeo\"}, {\"lat\": [49.0127983093, 29.98439979553223], \"line\": {\"color\": \"red\", \"width\": 1}, \"lon\": [2.54999995232, -95.34140014648438], \"mode\": \"lines\", \"opacity\": 0.25, \"type\": \"scattergeo\"}, {\"lat\": [49.0127983093, 40.63980103], \"line\": {\"color\": \"red\", \"width\": 1}, \"lon\": [2.54999995232, -73.77890015], \"mode\": \"lines\", \"opacity\": 0.9166666666666666, \"type\": \"scattergeo\"}, {\"lat\": [49.0127983093, 33.94250107], \"line\": {\"color\": \"red\", \"width\": 1}, \"lon\": [2.54999995232, -118.40799709999999], \"mode\": \"lines\", \"opacity\": 0.3333333333333333, \"type\": \"scattergeo\"}, {\"lat\": [49.0127983093, 25.79319953918457], \"line\": {\"color\": \"red\", \"width\": 1}, \"lon\": [2.54999995232, -80.29060363769531], \"mode\": \"lines\", \"opacity\": 0.75, \"type\": \"scattergeo\"}, {\"lat\": [49.0127983093, 44.8819999695], \"line\": {\"color\": \"red\", \"width\": 1}, \"lon\": [2.54999995232, -93.22180175780001], \"mode\": \"lines\", \"opacity\": 0.16666666666666666, \"type\": \"scattergeo\"}, {\"lat\": [49.0127983093, 41.97859955], \"line\": {\"color\": \"red\", \"width\": 1}, \"lon\": [2.54999995232, -87.90480042], \"mode\": \"lines\", \"opacity\": 0.8333333333333334, \"type\": \"scattergeo\"}, {\"lat\": [49.0127983093, 39.87189865112305], \"line\": {\"color\": \"red\", \"width\": 1}, \"lon\": [2.54999995232, -75.24109649658203], \"mode\": \"lines\", \"opacity\": 0.3333333333333333, \"type\": \"scattergeo\"}, {\"lat\": [49.0127983093, 40.49150085], \"line\": {\"color\": \"red\", \"width\": 1}, \"lon\": [2.54999995232, -80.23290253], \"mode\": \"lines\", \"opacity\": 0.16666666666666666, \"type\": \"scattergeo\"}, {\"lat\": [49.0127983093, 47.44900131225586], \"line\": {\"color\": \"red\", \"width\": 1}, \"lon\": [2.54999995232, -122.30899810791016], \"mode\": \"lines\", \"opacity\": 0.25, \"type\": \"scattergeo\"}, {\"lat\": [49.0127983093, 37.61899948120117], \"line\": {\"color\": \"red\", \"width\": 1}, \"lon\": [2.54999995232, -122.375], \"mode\": \"lines\", \"opacity\": 0.3333333333333333, \"type\": \"scattergeo\"}, {\"lat\": [49.0127983093, 40.78839874267578], \"line\": {\"color\": \"red\", \"width\": 1}, \"lon\": [2.54999995232, -111.97799682617188], \"mode\": \"lines\", \"opacity\": 0.16666666666666666, \"type\": \"scattergeo\"}, {\"lat\": [3.54322, 25.79319953918457], \"line\": {\"color\": \"red\", \"width\": 1}, \"lon\": [-76.3816, -80.29060363769531], \"mode\": \"lines\", \"opacity\": 0.4166666666666667, \"type\": \"scattergeo\"}, {\"lat\": [18.65369987487793, 29.98439979553223], \"line\": {\"color\": \"red\", \"width\": 1}, \"lon\": [-91.79900360107422, -95.34140014648438], \"mode\": \"lines\", \"opacity\": 0.08333333333333333, \"type\": \"scattergeo\"}, {\"lat\": [33.36750030517578, 40.63980103], \"line\": {\"color\": \"red\", \"width\": 1}, \"lon\": [-7.589970111846924, -73.77890015], \"mode\": \"lines\", \"opacity\": 0.08333333333333333, \"type\": \"scattergeo\"}, {\"lat\": [-19.62444305419922, 25.79319953918457], \"line\": {\"color\": \"red\", \"width\": 1}, \"lon\": [-43.97194290161133, -80.29060363769531], \"mode\": \"lines\", \"opacity\": 0.25, \"type\": \"scattergeo\"}, {\"lat\": [55.617900848389, 40.69250106811523], \"line\": {\"color\": \"red\", \"width\": 1}, \"lon\": [12.656000137328999, -74.168701171875], \"mode\": \"lines\", \"opacity\": 0.08333333333333333, \"type\": \"scattergeo\"}, {\"lat\": [55.617900848389, 26.072599411010746], \"line\": {\"color\": \"red\", \"width\": 1}, \"lon\": [12.656000137328999, -80.15270233154297], \"mode\": \"lines\", \"opacity\": 0.08333333333333333, \"type\": \"scattergeo\"}, {\"lat\": [55.617900848389, 38.94449997], \"line\": {\"color\": \"red\", \"width\": 1}, \"lon\": [12.656000137328999, -77.45580292], \"mode\": \"lines\", \"opacity\": 0.08333333333333333, \"type\": \"scattergeo\"}, {\"lat\": [55.617900848389, 40.63980103], \"line\": {\"color\": \"red\", \"width\": 1}, \"lon\": [12.656000137328999, -73.77890015], \"mode\": \"lines\", \"opacity\": 0.08333333333333333, \"type\": \"scattergeo\"}, {\"lat\": [55.617900848389, 33.94250107], \"line\": {\"color\": \"red\", \"width\": 1}, \"lon\": [12.656000137328999, -118.40799709999999], \"mode\": \"lines\", \"opacity\": 0.08333333333333333, \"type\": \"scattergeo\"}, {\"lat\": [55.617900848389, 41.97859955], \"line\": {\"color\": \"red\", \"width\": 1}, \"lon\": [12.656000137328999, -87.90480042], \"mode\": \"lines\", \"opacity\": 0.08333333333333333, \"type\": \"scattergeo\"}, {\"lat\": [55.617900848389, 37.61899948120117], \"line\": {\"color\": \"red\", \"width\": 1}, \"lon\": [12.656000137328999, -122.375], \"mode\": \"lines\", \"opacity\": 0.08333333333333333, \"type\": \"scattergeo\"}, {\"lat\": [10.4424, 26.072599411010746], \"line\": {\"color\": \"red\", \"width\": 1}, \"lon\": [-75.513, -80.15270233154297], \"mode\": \"lines\", \"opacity\": 0.08333333333333333, \"type\": \"scattergeo\"}, {\"lat\": [10.4424, 40.63980103], \"line\": {\"color\": \"red\", \"width\": 1}, \"lon\": [-75.513, -73.77890015], \"mode\": \"lines\", \"opacity\": 0.08333333333333333, \"type\": \"scattergeo\"}, {\"lat\": [10.4424, 25.79319953918457], \"line\": {\"color\": \"red\", \"width\": 1}, \"lon\": [-75.513, -80.29060363769531], \"mode\": \"lines\", \"opacity\": 0.25, \"type\": \"scattergeo\"}, {\"lat\": [42.77519989013672, 21.318700790405273], \"line\": {\"color\": \"red\", \"width\": 1}, \"lon\": [141.69200134277344, -157.9219970703125], \"mode\": \"lines\", \"opacity\": 0.08333333333333333, \"type\": \"scattergeo\"}, {\"lat\": [21.036500930800003, 33.63669967651367], \"line\": {\"color\": \"red\", \"width\": 1}, \"lon\": [-86.8770980835, -84.4281005859375], \"mode\": \"lines\", \"opacity\": 0.75, \"type\": \"scattergeo\"}, {\"lat\": [21.036500930800003, 30.194499969482425], \"line\": {\"color\": \"red\", \"width\": 1}, \"lon\": [-86.8770980835, -97.6698989868164], \"mode\": \"lines\", \"opacity\": 0.16666666666666666, \"type\": \"scattergeo\"}, {\"lat\": [21.036500930800003, 42.36429977], \"line\": {\"color\": \"red\", \"width\": 1}, \"lon\": [-86.8770980835, -71.00520325], \"mode\": \"lines\", \"opacity\": 0.4166666666666667, \"type\": \"scattergeo\"}, {\"lat\": [21.036500930800003, 39.17539978], \"line\": {\"color\": \"red\", \"width\": 1}, \"lon\": [-86.8770980835, -76.66829681], \"mode\": \"lines\", \"opacity\": 0.08333333333333333, \"type\": \"scattergeo\"}, {\"lat\": [21.036500930800003, 41.411701202399996], \"line\": {\"color\": \"red\", \"width\": 1}, \"lon\": [-86.8770980835, -81.8498001099], \"mode\": \"lines\", \"opacity\": 0.16666666666666666, \"type\": \"scattergeo\"}, {\"lat\": [21.036500930800003, 35.2140007019043], \"line\": {\"color\": \"red\", \"width\": 1}, \"lon\": [-86.8770980835, -80.94309997558594], \"mode\": \"lines\", \"opacity\": 0.16666666666666666, \"type\": \"scattergeo\"}, {\"lat\": [21.036500930800003, 39.0488014221], \"line\": {\"color\": \"red\", \"width\": 1}, \"lon\": [-86.8770980835, -84.6678009033], \"mode\": \"lines\", \"opacity\": 0.08333333333333333, \"type\": \"scattergeo\"}, {\"lat\": [21.036500930800003, 39.861698150635], \"line\": {\"color\": \"red\", \"width\": 1}, \"lon\": [-86.8770980835, -104.672996521], \"mode\": \"lines\", \"opacity\": 0.25, \"type\": \"scattergeo\"}, {\"lat\": [21.036500930800003, 32.896800994873054], \"line\": {\"color\": \"red\", \"width\": 1}, \"lon\": [-86.8770980835, -97.03800201416016], \"mode\": \"lines\", \"opacity\": 0.3333333333333333, \"type\": \"scattergeo\"}, {\"lat\": [21.036500930800003, 42.212398529052734], \"line\": {\"color\": \"red\", \"width\": 1}, \"lon\": [-86.8770980835, -83.35340118408203], \"mode\": \"lines\", \"opacity\": 0.25, \"type\": \"scattergeo\"}, {\"lat\": [21.036500930800003, 40.69250106811523], \"line\": {\"color\": \"red\", \"width\": 1}, \"lon\": [-86.8770980835, -74.168701171875], \"mode\": \"lines\", \"opacity\": 0.08333333333333333, \"type\": \"scattergeo\"}, {\"lat\": [21.036500930800003, 26.072599411010746], \"line\": {\"color\": \"red\", \"width\": 1}, \"lon\": [-86.8770980835, -80.15270233154297], \"mode\": \"lines\", \"opacity\": 0.16666666666666666, \"type\": \"scattergeo\"}, {\"lat\": [21.036500930800003, 38.94449997], \"line\": {\"color\": \"red\", \"width\": 1}, \"lon\": [-86.8770980835, -77.45580292], \"mode\": \"lines\", \"opacity\": 0.08333333333333333, \"type\": \"scattergeo\"}, {\"lat\": [21.036500930800003, 29.98439979553223], \"line\": {\"color\": \"red\", \"width\": 1}, \"lon\": [-86.8770980835, -95.34140014648438], \"mode\": \"lines\", \"opacity\": 0.16666666666666666, \"type\": \"scattergeo\"}, {\"lat\": [21.036500930800003, 39.7173], \"line\": {\"color\": \"red\", \"width\": 1}, \"lon\": [-86.8770980835, -86.294403], \"mode\": \"lines\", \"opacity\": 0.16666666666666666, \"type\": \"scattergeo\"}, {\"lat\": [21.036500930800003, 40.63980103], \"line\": {\"color\": \"red\", \"width\": 1}, \"lon\": [-86.8770980835, -73.77890015], \"mode\": \"lines\", \"opacity\": 0.4166666666666667, \"type\": \"scattergeo\"}, {\"lat\": [21.036500930800003, 33.94250107], \"line\": {\"color\": \"red\", \"width\": 1}, \"lon\": [-86.8770980835, -118.40799709999999], \"mode\": \"lines\", \"opacity\": 0.3333333333333333, \"type\": \"scattergeo\"}, {\"lat\": [21.036500930800003, 39.2976], \"line\": {\"color\": \"red\", \"width\": 1}, \"lon\": [-86.8770980835, -94.713898], \"mode\": \"lines\", \"opacity\": 0.08333333333333333, \"type\": \"scattergeo\"}, {\"lat\": [21.036500930800003, 28.429399490356445], \"line\": {\"color\": \"red\", \"width\": 1}, \"lon\": [-86.8770980835, -81.30899810791016], \"mode\": \"lines\", \"opacity\": 0.25, \"type\": \"scattergeo\"}, {\"lat\": [21.036500930800003, 41.7859992980957], \"line\": {\"color\": \"red\", \"width\": 1}, \"lon\": [-86.8770980835, -87.75240325927734], \"mode\": \"lines\", \"opacity\": 0.08333333333333333, \"type\": \"scattergeo\"}, {\"lat\": [21.036500930800003, 25.79319953918457], \"line\": {\"color\": \"red\", \"width\": 1}, \"lon\": [-86.8770980835, -80.29060363769531], \"mode\": \"lines\", \"opacity\": 0.25, \"type\": \"scattergeo\"}, {\"lat\": [21.036500930800003, 42.94720077514648], \"line\": {\"color\": \"red\", \"width\": 1}, \"lon\": [-86.8770980835, -87.89659881591797], \"mode\": \"lines\", \"opacity\": 0.08333333333333333, \"type\": \"scattergeo\"}, {\"lat\": [21.036500930800003, 44.8819999695], \"line\": {\"color\": \"red\", \"width\": 1}, \"lon\": [-86.8770980835, -93.22180175780001], \"mode\": \"lines\", \"opacity\": 0.25, \"type\": \"scattergeo\"}, {\"lat\": [21.036500930800003, 41.97859955], \"line\": {\"color\": \"red\", \"width\": 1}, \"lon\": [-86.8770980835, -87.90480042], \"mode\": \"lines\", \"opacity\": 0.25, \"type\": \"scattergeo\"}, {\"lat\": [21.036500930800003, 39.87189865112305], \"line\": {\"color\": \"red\", \"width\": 1}, \"lon\": [-86.8770980835, -75.24109649658203], \"mode\": \"lines\", \"opacity\": 0.25, \"type\": \"scattergeo\"}, {\"lat\": [21.036500930800003, 33.43429946899414], \"line\": {\"color\": \"red\", \"width\": 1}, \"lon\": [-86.8770980835, -112.01200103759766], \"mode\": \"lines\", \"opacity\": 0.16666666666666666, \"type\": \"scattergeo\"}, {\"lat\": [21.036500930800003, 40.49150085], \"line\": {\"color\": \"red\", \"width\": 1}, \"lon\": [-86.8770980835, -80.23290253], \"mode\": \"lines\", \"opacity\": 0.08333333333333333, \"type\": \"scattergeo\"}, {\"lat\": [21.036500930800003, 35.877601623535156], \"line\": {\"color\": \"red\", \"width\": 1}, \"lon\": [-86.8770980835, -78.7874984741211], \"mode\": \"lines\", \"opacity\": 0.16666666666666666, \"type\": \"scattergeo\"}, {\"lat\": [21.036500930800003, 29.533700942993164], \"line\": {\"color\": \"red\", \"width\": 1}, \"lon\": [-86.8770980835, -98.46980285644531], \"mode\": \"lines\", \"opacity\": 0.08333333333333333, \"type\": \"scattergeo\"}, {\"lat\": [21.036500930800003, 37.61899948120117], \"line\": {\"color\": \"red\", \"width\": 1}, \"lon\": [-86.8770980835, -122.375], \"mode\": \"lines\", \"opacity\": 0.16666666666666666, \"type\": \"scattergeo\"}, {\"lat\": [21.036500930800003, 40.78839874267578], \"line\": {\"color\": \"red\", \"width\": 1}, \"lon\": [-86.8770980835, -111.97799682617188], \"mode\": \"lines\", \"opacity\": 0.16666666666666666, \"type\": \"scattergeo\"}, {\"lat\": [21.036500930800003, 38.74869918823242], \"line\": {\"color\": \"red\", \"width\": 1}, \"lon\": [-86.8770980835, -90.37000274658205], \"mode\": \"lines\", \"opacity\": 0.08333333333333333, \"type\": \"scattergeo\"}, {\"lat\": [12.1889, 35.2140007019043], \"line\": {\"color\": \"red\", \"width\": 1}, \"lon\": [-68.959801, -80.94309997558594], \"mode\": \"lines\", \"opacity\": 0.08333333333333333, \"type\": \"scattergeo\"}, {\"lat\": [12.1889, 25.79319953918457], \"line\": {\"color\": \"red\", \"width\": 1}, \"lon\": [-68.959801, -80.29060363769531], \"mode\": \"lines\", \"opacity\": 0.25, \"type\": \"scattergeo\"}, {\"lat\": [28.702899932900003, 32.896800994873054], \"line\": {\"color\": \"red\", \"width\": 1}, \"lon\": [-105.96499633799999, -97.03800201416016], \"mode\": \"lines\", \"opacity\": 0.16666666666666666, \"type\": \"scattergeo\"}, {\"lat\": [28.702899932900003, 29.98439979553223], \"line\": {\"color\": \"red\", \"width\": 1}, \"lon\": [-105.96499633799999, -95.34140014648438], \"mode\": \"lines\", \"opacity\": 0.08333333333333333, \"type\": \"scattergeo\"}, {\"lat\": [1.9861600399017332, 21.318700790405273], \"line\": {\"color\": \"red\", \"width\": 1}, \"lon\": [-157.35000610351562, -157.9219970703125], \"mode\": \"lines\", \"opacity\": 0.16666666666666666, \"type\": \"scattergeo\"}, {\"lat\": [20.52239990234375, 33.63669967651367], \"line\": {\"color\": \"red\", \"width\": 1}, \"lon\": [-86.92559814453125, -84.4281005859375], \"mode\": \"lines\", \"opacity\": 0.4166666666666667, \"type\": \"scattergeo\"}, {\"lat\": [20.52239990234375, 35.2140007019043], \"line\": {\"color\": \"red\", \"width\": 1}, \"lon\": [-86.92559814453125, -80.94309997558594], \"mode\": \"lines\", \"opacity\": 0.16666666666666666, \"type\": \"scattergeo\"}, {\"lat\": [20.52239990234375, 39.861698150635], \"line\": {\"color\": \"red\", \"width\": 1}, \"lon\": [-86.92559814453125, -104.672996521], \"mode\": \"lines\", \"opacity\": 0.08333333333333333, \"type\": \"scattergeo\"}, {\"lat\": [20.52239990234375, 32.896800994873054], \"line\": {\"color\": \"red\", \"width\": 1}, \"lon\": [-86.92559814453125, -97.03800201416016], \"mode\": \"lines\", \"opacity\": 0.16666666666666666, \"type\": \"scattergeo\"}, {\"lat\": [20.52239990234375, 29.98439979553223], \"line\": {\"color\": \"red\", \"width\": 1}, \"lon\": [-86.92559814453125, -95.34140014648438], \"mode\": \"lines\", \"opacity\": 0.08333333333333333, \"type\": \"scattergeo\"}, {\"lat\": [20.52239990234375, 25.79319953918457], \"line\": {\"color\": \"red\", \"width\": 1}, \"lon\": [-86.92559814453125, -80.29060363769531], \"mode\": \"lines\", \"opacity\": 0.16666666666666666, \"type\": \"scattergeo\"}, {\"lat\": [28.56649971008301, 40.69250106811523], \"line\": {\"color\": \"red\", \"width\": 1}, \"lon\": [77.10310363769531, -74.168701171875], \"mode\": \"lines\", \"opacity\": 0.08333333333333333, \"type\": \"scattergeo\"}, {\"lat\": [28.56649971008301, 40.63980103], \"line\": {\"color\": \"red\", \"width\": 1}, \"lon\": [77.10310363769531, -73.77890015], \"mode\": \"lines\", \"opacity\": 0.08333333333333333, \"type\": \"scattergeo\"}, {\"lat\": [28.56649971008301, 41.97859955], \"line\": {\"color\": \"red\", \"width\": 1}, \"lon\": [77.10310363769531, -87.90480042], \"mode\": \"lines\", \"opacity\": 0.08333333333333333, \"type\": \"scattergeo\"}, {\"lat\": [24.1242008209, 29.98439979553223], \"line\": {\"color\": \"red\", \"width\": 1}, \"lon\": [-104.52799987799999, -95.34140014648438], \"mode\": \"lines\", \"opacity\": 0.08333333333333333, \"type\": \"scattergeo\"}, {\"lat\": [24.1242008209, 33.94250107], \"line\": {\"color\": \"red\", \"width\": 1}, \"lon\": [-104.52799987799999, -118.40799709999999], \"mode\": \"lines\", \"opacity\": 0.08333333333333333, \"type\": \"scattergeo\"}, {\"lat\": [14.739700317382812, 38.94449997], \"line\": {\"color\": \"red\", \"width\": 1}, \"lon\": [-17.49020004272461, -77.45580292], \"mode\": \"lines\", \"opacity\": 0.25, \"type\": \"scattergeo\"}, {\"lat\": [14.739700317382812, 40.63980103], \"line\": {\"color\": \"red\", \"width\": 1}, \"lon\": [-17.49020004272461, -73.77890015], \"mode\": \"lines\", \"opacity\": 0.08333333333333333, \"type\": \"scattergeo\"}, {\"lat\": [55.40879821777344, 29.98439979553223], \"line\": {\"color\": \"red\", \"width\": 1}, \"lon\": [37.90629959106445, -95.34140014648438], \"mode\": \"lines\", \"opacity\": 0.16666666666666666, \"type\": \"scattergeo\"}, {\"lat\": [53.42129898071289, 33.63669967651367], \"line\": {\"color\": \"red\", \"width\": 1}, \"lon\": [-6.2700700759887695, -84.4281005859375], \"mode\": \"lines\", \"opacity\": 0.25, \"type\": \"scattergeo\"}, {\"lat\": [53.42129898071289, 42.36429977], \"line\": {\"color\": \"red\", \"width\": 1}, \"lon\": [-6.2700700759887695, -71.00520325], \"mode\": \"lines\", \"opacity\": 0.16666666666666666, \"type\": \"scattergeo\"}, {\"lat\": [53.42129898071289, 35.2140007019043], \"line\": {\"color\": \"red\", \"width\": 1}, \"lon\": [-6.2700700759887695, -80.94309997558594], \"mode\": \"lines\", \"opacity\": 0.16666666666666666, \"type\": \"scattergeo\"}, {\"lat\": [53.42129898071289, 40.69250106811523], \"line\": {\"color\": \"red\", \"width\": 1}, \"lon\": [-6.2700700759887695, -74.168701171875], \"mode\": \"lines\", \"opacity\": 0.16666666666666666, \"type\": \"scattergeo\"}, {\"lat\": [53.42129898071289, 38.94449997], \"line\": {\"color\": \"red\", \"width\": 1}, \"lon\": [-6.2700700759887695, -77.45580292], \"mode\": \"lines\", \"opacity\": 0.16666666666666666, \"type\": \"scattergeo\"}, {\"lat\": [53.42129898071289, 40.63980103], \"line\": {\"color\": \"red\", \"width\": 1}, \"lon\": [-6.2700700759887695, -73.77890015], \"mode\": \"lines\", \"opacity\": 0.75, \"type\": \"scattergeo\"}, {\"lat\": [53.42129898071289, 28.429399490356445], \"line\": {\"color\": \"red\", \"width\": 1}, \"lon\": [-6.2700700759887695, -81.30899810791016], \"mode\": \"lines\", \"opacity\": 0.08333333333333333, \"type\": \"scattergeo\"}, {\"lat\": [53.42129898071289, 41.97859955], \"line\": {\"color\": \"red\", \"width\": 1}, \"lon\": [-6.2700700759887695, -87.90480042], \"mode\": \"lines\", \"opacity\": 0.5833333333333334, \"type\": \"scattergeo\"}, {\"lat\": [53.42129898071289, 39.87189865112305], \"line\": {\"color\": \"red\", \"width\": 1}, \"lon\": [-6.2700700759887695, -75.24109649658203], \"mode\": \"lines\", \"opacity\": 0.16666666666666666, \"type\": \"scattergeo\"}, {\"lat\": [53.42129898071289, 37.61899948120117], \"line\": {\"color\": \"red\", \"width\": 1}, \"lon\": [-6.2700700759887695, -122.375], \"mode\": \"lines\", \"opacity\": 0.08333333333333333, \"type\": \"scattergeo\"}, {\"lat\": [51.28950119018555, 33.63669967651367], \"line\": {\"color\": \"red\", \"width\": 1}, \"lon\": [6.766779899597168, -84.4281005859375], \"mode\": \"lines\", \"opacity\": 0.25, \"type\": \"scattergeo\"}, {\"lat\": [51.28950119018555, 40.69250106811523], \"line\": {\"color\": \"red\", \"width\": 1}, \"lon\": [6.766779899597168, -74.168701171875], \"mode\": \"lines\", \"opacity\": 0.16666666666666666, \"type\": \"scattergeo\"}, {\"lat\": [51.28950119018555, 40.63980103], \"line\": {\"color\": \"red\", \"width\": 1}, \"lon\": [6.766779899597168, -73.77890015], \"mode\": \"lines\", \"opacity\": 0.16666666666666666, \"type\": \"scattergeo\"}, {\"lat\": [51.28950119018555, 33.94250107], \"line\": {\"color\": \"red\", \"width\": 1}, \"lon\": [6.766779899597168, -118.40799709999999], \"mode\": \"lines\", \"opacity\": 0.16666666666666666, \"type\": \"scattergeo\"}, {\"lat\": [51.28950119018555, 25.79319953918457], \"line\": {\"color\": \"red\", \"width\": 1}, \"lon\": [6.766779899597168, -80.29060363769531], \"mode\": \"lines\", \"opacity\": 0.16666666666666666, \"type\": \"scattergeo\"}, {\"lat\": [51.28950119018555, 41.97859955], \"line\": {\"color\": \"red\", \"width\": 1}, \"lon\": [6.766779899597168, -87.90480042], \"mode\": \"lines\", \"opacity\": 0.6666666666666666, \"type\": \"scattergeo\"}, {\"lat\": [51.28950119018555, 26.53619956970215], \"line\": {\"color\": \"red\", \"width\": 1}, \"lon\": [6.766779899597168, -81.75520324707031], \"mode\": \"lines\", \"opacity\": 0.16666666666666666, \"type\": \"scattergeo\"}, {\"lat\": [25.252799987800003, 33.63669967651367], \"line\": {\"color\": \"red\", \"width\": 1}, \"lon\": [55.3643989563, -84.4281005859375], \"mode\": \"lines\", \"opacity\": 0.08333333333333333, \"type\": \"scattergeo\"}, {\"lat\": [25.252799987800003, 42.36429977], \"line\": {\"color\": \"red\", \"width\": 1}, \"lon\": [55.3643989563, -71.00520325], \"mode\": \"lines\", \"opacity\": 0.16666666666666666, \"type\": \"scattergeo\"}, {\"lat\": [25.252799987800003, 32.896800994873054], \"line\": {\"color\": \"red\", \"width\": 1}, \"lon\": [55.3643989563, -97.03800201416016], \"mode\": \"lines\", \"opacity\": 0.16666666666666666, \"type\": \"scattergeo\"}, {\"lat\": [25.252799987800003, 38.94449997], \"line\": {\"color\": \"red\", \"width\": 1}, \"lon\": [55.3643989563, -77.45580292], \"mode\": \"lines\", \"opacity\": 0.25, \"type\": \"scattergeo\"}, {\"lat\": [25.252799987800003, 29.98439979553223], \"line\": {\"color\": \"red\", \"width\": 1}, \"lon\": [55.3643989563, -95.34140014648438], \"mode\": \"lines\", \"opacity\": 0.16666666666666666, \"type\": \"scattergeo\"}, {\"lat\": [25.252799987800003, 40.63980103], \"line\": {\"color\": \"red\", \"width\": 1}, \"lon\": [55.3643989563, -73.77890015], \"mode\": \"lines\", \"opacity\": 0.16666666666666666, \"type\": \"scattergeo\"}, {\"lat\": [25.252799987800003, 33.94250107], \"line\": {\"color\": \"red\", \"width\": 1}, \"lon\": [55.3643989563, -118.40799709999999], \"mode\": \"lines\", \"opacity\": 0.16666666666666666, \"type\": \"scattergeo\"}, {\"lat\": [25.252799987800003, 47.44900131225586], \"line\": {\"color\": \"red\", \"width\": 1}, \"lon\": [55.3643989563, -122.30899810791016], \"mode\": \"lines\", \"opacity\": 0.16666666666666666, \"type\": \"scattergeo\"}, {\"lat\": [25.252799987800003, 37.61899948120117], \"line\": {\"color\": \"red\", \"width\": 1}, \"lon\": [55.3643989563, -122.375], \"mode\": \"lines\", \"opacity\": 0.16666666666666666, \"type\": \"scattergeo\"}, {\"lat\": [55.95000076293945, 40.69250106811523], \"line\": {\"color\": \"red\", \"width\": 1}, \"lon\": [-3.372499942779541, -74.168701171875], \"mode\": \"lines\", \"opacity\": 0.16666666666666666, \"type\": \"scattergeo\"}, {\"lat\": [25.474899291999996, 26.072599411010746], \"line\": {\"color\": \"red\", \"width\": 1}, \"lon\": [-76.6835021973, -80.15270233154297], \"mode\": \"lines\", \"opacity\": 0.16666666666666666, \"type\": \"scattergeo\"}, {\"lat\": [25.474899291999996, 25.79319953918457], \"line\": {\"color\": \"red\", \"width\": 1}, \"lon\": [-76.6835021973, -80.29060363769531], \"mode\": \"lines\", \"opacity\": 0.16666666666666666, \"type\": \"scattergeo\"}, {\"lat\": [25.474899291999996, 26.68320083618164], \"line\": {\"color\": \"red\", \"width\": 1}, \"lon\": [-76.6835021973, -80.09559631347656], \"mode\": \"lines\", \"opacity\": 0.16666666666666666, \"type\": \"scattergeo\"}, {\"lat\": [-34.8222, 33.63669967651367], \"line\": {\"color\": \"red\", \"width\": 1}, \"lon\": [-58.5358, -84.4281005859375], \"mode\": \"lines\", \"opacity\": 0.08333333333333333, \"type\": \"scattergeo\"}, {\"lat\": [-34.8222, 32.896800994873054], \"line\": {\"color\": \"red\", \"width\": 1}, \"lon\": [-58.5358, -97.03800201416016], \"mode\": \"lines\", \"opacity\": 0.16666666666666666, \"type\": \"scattergeo\"}, {\"lat\": [-34.8222, 29.98439979553223], \"line\": {\"color\": \"red\", \"width\": 1}, \"lon\": [-58.5358, -95.34140014648438], \"mode\": \"lines\", \"opacity\": 0.08333333333333333, \"type\": \"scattergeo\"}, {\"lat\": [-34.8222, 40.63980103], \"line\": {\"color\": \"red\", \"width\": 1}, \"lon\": [-58.5358, -73.77890015], \"mode\": \"lines\", \"opacity\": 0.25, \"type\": \"scattergeo\"}, {\"lat\": [-34.8222, 25.79319953918457], \"line\": {\"color\": \"red\", \"width\": 1}, \"lon\": [-58.5358, -80.29060363769531], \"mode\": \"lines\", \"opacity\": 0.25, \"type\": \"scattergeo\"}, {\"lat\": [41.800277799999996, 33.63669967651367], \"line\": {\"color\": \"red\", \"width\": 1}, \"lon\": [12.238888900000001, -84.4281005859375], \"mode\": \"lines\", \"opacity\": 0.4166666666666667, \"type\": \"scattergeo\"}, {\"lat\": [41.800277799999996, 42.36429977], \"line\": {\"color\": \"red\", \"width\": 1}, \"lon\": [12.238888900000001, -71.00520325], \"mode\": \"lines\", \"opacity\": 0.16666666666666666, \"type\": \"scattergeo\"}, {\"lat\": [41.800277799999996, 35.2140007019043], \"line\": {\"color\": \"red\", \"width\": 1}, \"lon\": [12.238888900000001, -80.94309997558594], \"mode\": \"lines\", \"opacity\": 0.16666666666666666, \"type\": \"scattergeo\"}, {\"lat\": [41.800277799999996, 40.69250106811523], \"line\": {\"color\": \"red\", \"width\": 1}, \"lon\": [12.238888900000001, -74.168701171875], \"mode\": \"lines\", \"opacity\": 0.16666666666666666, \"type\": \"scattergeo\"}, {\"lat\": [41.800277799999996, 38.94449997], \"line\": {\"color\": \"red\", \"width\": 1}, \"lon\": [12.238888900000001, -77.45580292], \"mode\": \"lines\", \"opacity\": 0.08333333333333333, \"type\": \"scattergeo\"}, {\"lat\": [41.800277799999996, 40.63980103], \"line\": {\"color\": \"red\", \"width\": 1}, \"lon\": [12.238888900000001, -73.77890015], \"mode\": \"lines\", \"opacity\": 0.5833333333333334, \"type\": \"scattergeo\"}, {\"lat\": [41.800277799999996, 33.94250107], \"line\": {\"color\": \"red\", \"width\": 1}, \"lon\": [12.238888900000001, -118.40799709999999], \"mode\": \"lines\", \"opacity\": 0.16666666666666666, \"type\": \"scattergeo\"}, {\"lat\": [41.800277799999996, 25.79319953918457], \"line\": {\"color\": \"red\", \"width\": 1}, \"lon\": [12.238888900000001, -80.29060363769531], \"mode\": \"lines\", \"opacity\": 0.16666666666666666, \"type\": \"scattergeo\"}, {\"lat\": [41.800277799999996, 41.97859955], \"line\": {\"color\": \"red\", \"width\": 1}, \"lon\": [12.238888900000001, -87.90480042], \"mode\": \"lines\", \"opacity\": 0.5833333333333334, \"type\": \"scattergeo\"}, {\"lat\": [41.800277799999996, 39.87189865112305], \"line\": {\"color\": \"red\", \"width\": 1}, \"lon\": [12.238888900000001, -75.24109649658203], \"mode\": \"lines\", \"opacity\": 0.16666666666666666, \"type\": \"scattergeo\"}, {\"lat\": [14.590999603271484, 25.79319953918457], \"line\": {\"color\": \"red\", \"width\": 1}, \"lon\": [-61.00320053100586, -80.29060363769531], \"mode\": \"lines\", \"opacity\": 0.16666666666666666, \"type\": \"scattergeo\"}, {\"lat\": [26.5587005615, 33.63669967651367], \"line\": {\"color\": \"red\", \"width\": 1}, \"lon\": [-78.695602417, -84.4281005859375], \"mode\": \"lines\", \"opacity\": 0.08333333333333333, \"type\": \"scattergeo\"}, {\"lat\": [26.5587005615, 33.56290054], \"line\": {\"color\": \"red\", \"width\": 1}, \"lon\": [-78.695602417, -86.75350189], \"mode\": \"lines\", \"opacity\": 0.08333333333333333, \"type\": \"scattergeo\"}, {\"lat\": [26.5587005615, 39.17539978], \"line\": {\"color\": \"red\", \"width\": 1}, \"lon\": [-78.695602417, -76.66829681], \"mode\": \"lines\", \"opacity\": 0.08333333333333333, \"type\": \"scattergeo\"}, {\"lat\": [26.5587005615, 35.2140007019043], \"line\": {\"color\": \"red\", \"width\": 1}, \"lon\": [-78.695602417, -80.94309997558594], \"mode\": \"lines\", \"opacity\": 0.16666666666666666, \"type\": \"scattergeo\"}, {\"lat\": [26.5587005615, 39.99800109863281], \"line\": {\"color\": \"red\", \"width\": 1}, \"lon\": [-78.695602417, -82.89189910888672], \"mode\": \"lines\", \"opacity\": 0.08333333333333333, \"type\": \"scattergeo\"}, {\"lat\": [26.5587005615, 40.69250106811523], \"line\": {\"color\": \"red\", \"width\": 1}, \"lon\": [-78.695602417, -74.168701171875], \"mode\": \"lines\", \"opacity\": 0.08333333333333333, \"type\": \"scattergeo\"}, {\"lat\": [26.5587005615, 26.072599411010746], \"line\": {\"color\": \"red\", \"width\": 1}, \"lon\": [-78.695602417, -80.15270233154297], \"mode\": \"lines\", \"opacity\": 0.25, \"type\": \"scattergeo\"}, {\"lat\": [26.5587005615, 25.79319953918457], \"line\": {\"color\": \"red\", \"width\": 1}, \"lon\": [-78.695602417, -80.29060363769531], \"mode\": \"lines\", \"opacity\": 0.16666666666666666, \"type\": \"scattergeo\"}, {\"lat\": [26.5587005615, 37.50519943237305], \"line\": {\"color\": \"red\", \"width\": 1}, \"lon\": [-78.695602417, -77.3197021484375], \"mode\": \"lines\", \"opacity\": 0.08333333333333333, \"type\": \"scattergeo\"}, {\"lat\": [50.033333299999995, 33.63669967651367], \"line\": {\"color\": \"red\", \"width\": 1}, \"lon\": [8.5705556, -84.4281005859375], \"mode\": \"lines\", \"opacity\": 0.5, \"type\": \"scattergeo\"}, {\"lat\": [50.033333299999995, 42.36429977], \"line\": {\"color\": \"red\", \"width\": 1}, \"lon\": [8.5705556, -71.00520325], \"mode\": \"lines\", \"opacity\": 0.16666666666666666, \"type\": \"scattergeo\"}, {\"lat\": [50.033333299999995, 35.2140007019043], \"line\": {\"color\": \"red\", \"width\": 1}, \"lon\": [8.5705556, -80.94309997558594], \"mode\": \"lines\", \"opacity\": 0.16666666666666666, \"type\": \"scattergeo\"}, {\"lat\": [50.033333299999995, 39.861698150635], \"line\": {\"color\": \"red\", \"width\": 1}, \"lon\": [8.5705556, -104.672996521], \"mode\": \"lines\", \"opacity\": 0.16666666666666666, \"type\": \"scattergeo\"}, {\"lat\": [50.033333299999995, 32.896800994873054], \"line\": {\"color\": \"red\", \"width\": 1}, \"lon\": [8.5705556, -97.03800201416016], \"mode\": \"lines\", \"opacity\": 0.75, \"type\": \"scattergeo\"}, {\"lat\": [50.033333299999995, 42.212398529052734], \"line\": {\"color\": \"red\", \"width\": 1}, \"lon\": [8.5705556, -83.35340118408203], \"mode\": \"lines\", \"opacity\": 0.4166666666666667, \"type\": \"scattergeo\"}, {\"lat\": [50.033333299999995, 40.69250106811523], \"line\": {\"color\": \"red\", \"width\": 1}, \"lon\": [8.5705556, -74.168701171875], \"mode\": \"lines\", \"opacity\": 0.16666666666666666, \"type\": \"scattergeo\"}, {\"lat\": [50.033333299999995, 38.94449997], \"line\": {\"color\": \"red\", \"width\": 1}, \"lon\": [8.5705556, -77.45580292], \"mode\": \"lines\", \"opacity\": 0.16666666666666666, \"type\": \"scattergeo\"}, {\"lat\": [50.033333299999995, 29.98439979553223], \"line\": {\"color\": \"red\", \"width\": 1}, \"lon\": [8.5705556, -95.34140014648438], \"mode\": \"lines\", \"opacity\": 0.16666666666666666, \"type\": \"scattergeo\"}, {\"lat\": [50.033333299999995, 40.63980103], \"line\": {\"color\": \"red\", \"width\": 1}, \"lon\": [8.5705556, -73.77890015], \"mode\": \"lines\", \"opacity\": 0.6666666666666666, \"type\": \"scattergeo\"}, {\"lat\": [50.033333299999995, 36.08010101], \"line\": {\"color\": \"red\", \"width\": 1}, \"lon\": [8.5705556, -115.15200039999999], \"mode\": \"lines\", \"opacity\": 0.08333333333333333, \"type\": \"scattergeo\"}, {\"lat\": [50.033333299999995, 33.94250107], \"line\": {\"color\": \"red\", \"width\": 1}, \"lon\": [8.5705556, -118.40799709999999], \"mode\": \"lines\", \"opacity\": 0.16666666666666666, \"type\": \"scattergeo\"}, {\"lat\": [50.033333299999995, 28.429399490356445], \"line\": {\"color\": \"red\", \"width\": 1}, \"lon\": [8.5705556, -81.30899810791016], \"mode\": \"lines\", \"opacity\": 0.16666666666666666, \"type\": \"scattergeo\"}, {\"lat\": [50.033333299999995, 25.79319953918457], \"line\": {\"color\": \"red\", \"width\": 1}, \"lon\": [8.5705556, -80.29060363769531], \"mode\": \"lines\", \"opacity\": 0.16666666666666666, \"type\": \"scattergeo\"}, {\"lat\": [50.033333299999995, 41.97859955], \"line\": {\"color\": \"red\", \"width\": 1}, \"lon\": [8.5705556, -87.90480042], \"mode\": \"lines\", \"opacity\": 0.16666666666666666, \"type\": \"scattergeo\"}, {\"lat\": [50.033333299999995, 39.87189865112305], \"line\": {\"color\": \"red\", \"width\": 1}, \"lon\": [8.5705556, -75.24109649658203], \"mode\": \"lines\", \"opacity\": 0.25, \"type\": \"scattergeo\"}, {\"lat\": [50.033333299999995, 47.44900131225586], \"line\": {\"color\": \"red\", \"width\": 1}, \"lon\": [8.5705556, -122.30899810791016], \"mode\": \"lines\", \"opacity\": 0.25, \"type\": \"scattergeo\"}, {\"lat\": [50.033333299999995, 37.61899948120117], \"line\": {\"color\": \"red\", \"width\": 1}, \"lon\": [8.5705556, -122.375], \"mode\": \"lines\", \"opacity\": 0.25, \"type\": \"scattergeo\"}, {\"lat\": [33.585899353027344, 21.318700790405273], \"line\": {\"color\": \"red\", \"width\": 1}, \"lon\": [130.45100402832028, -157.9219970703125], \"mode\": \"lines\", \"opacity\": 0.16666666666666666, \"type\": \"scattergeo\"}, {\"lat\": [19.292800903299998, 33.63669967651367], \"line\": {\"color\": \"red\", \"width\": 1}, \"lon\": [-81.3576965332, -84.4281005859375], \"mode\": \"lines\", \"opacity\": 0.08333333333333333, \"type\": \"scattergeo\"}, {\"lat\": [19.292800903299998, 35.2140007019043], \"line\": {\"color\": \"red\", \"width\": 1}, \"lon\": [-81.3576965332, -80.94309997558594], \"mode\": \"lines\", \"opacity\": 0.16666666666666666, \"type\": \"scattergeo\"}, {\"lat\": [19.292800903299998, 42.212398529052734], \"line\": {\"color\": \"red\", \"width\": 1}, \"lon\": [-81.3576965332, -83.35340118408203], \"mode\": \"lines\", \"opacity\": 0.08333333333333333, \"type\": \"scattergeo\"}, {\"lat\": [19.292800903299998, 40.69250106811523], \"line\": {\"color\": \"red\", \"width\": 1}, \"lon\": [-81.3576965332, -74.168701171875], \"mode\": \"lines\", \"opacity\": 0.08333333333333333, \"type\": \"scattergeo\"}, {\"lat\": [19.292800903299998, 38.94449997], \"line\": {\"color\": \"red\", \"width\": 1}, \"lon\": [-81.3576965332, -77.45580292], \"mode\": \"lines\", \"opacity\": 0.08333333333333333, \"type\": \"scattergeo\"}, {\"lat\": [19.292800903299998, 29.98439979553223], \"line\": {\"color\": \"red\", \"width\": 1}, \"lon\": [-81.3576965332, -95.34140014648438], \"mode\": \"lines\", \"opacity\": 0.08333333333333333, \"type\": \"scattergeo\"}, {\"lat\": [19.292800903299998, 40.63980103], \"line\": {\"color\": \"red\", \"width\": 1}, \"lon\": [-81.3576965332, -73.77890015], \"mode\": \"lines\", \"opacity\": 0.16666666666666666, \"type\": \"scattergeo\"}, {\"lat\": [19.292800903299998, 25.79319953918457], \"line\": {\"color\": \"red\", \"width\": 1}, \"lon\": [-81.3576965332, -80.29060363769531], \"mode\": \"lines\", \"opacity\": 0.25, \"type\": \"scattergeo\"}, {\"lat\": [19.292800903299998, 41.97859955], \"line\": {\"color\": \"red\", \"width\": 1}, \"lon\": [-81.3576965332, -87.90480042], \"mode\": \"lines\", \"opacity\": 0.08333333333333333, \"type\": \"scattergeo\"}, {\"lat\": [19.292800903299998, 39.87189865112305], \"line\": {\"color\": \"red\", \"width\": 1}, \"lon\": [-81.3576965332, -75.24109649658203], \"mode\": \"lines\", \"opacity\": 0.16666666666666666, \"type\": \"scattergeo\"}, {\"lat\": [19.292800903299998, 27.975500106811523], \"line\": {\"color\": \"red\", \"width\": 1}, \"lon\": [-81.3576965332, -82.533203125], \"mode\": \"lines\", \"opacity\": 0.08333333333333333, \"type\": \"scattergeo\"}, {\"lat\": [20.521799087524414, 33.63669967651367], \"line\": {\"color\": \"red\", \"width\": 1}, \"lon\": [-103.31099700927734, -84.4281005859375], \"mode\": \"lines\", \"opacity\": 0.5, \"type\": \"scattergeo\"}, {\"lat\": [20.521799087524414, 32.896800994873054], \"line\": {\"color\": \"red\", \"width\": 1}, \"lon\": [-103.31099700927734, -97.03800201416016], \"mode\": \"lines\", \"opacity\": 0.16666666666666666, \"type\": \"scattergeo\"}, {\"lat\": [20.521799087524414, 36.77619934082031], \"line\": {\"color\": \"red\", \"width\": 1}, \"lon\": [-103.31099700927734, -119.71800231933594], \"mode\": \"lines\", \"opacity\": 0.25, \"type\": \"scattergeo\"}, {\"lat\": [20.521799087524414, 29.98439979553223], \"line\": {\"color\": \"red\", \"width\": 1}, \"lon\": [-103.31099700927734, -95.34140014648438], \"mode\": \"lines\", \"opacity\": 0.08333333333333333, \"type\": \"scattergeo\"}, {\"lat\": [20.521799087524414, 36.08010101], \"line\": {\"color\": \"red\", \"width\": 1}, \"lon\": [-103.31099700927734, -115.15200039999999], \"mode\": \"lines\", \"opacity\": 0.08333333333333333, \"type\": \"scattergeo\"}, {\"lat\": [20.521799087524414, 33.94250107], \"line\": {\"color\": \"red\", \"width\": 1}, \"lon\": [-103.31099700927734, -118.40799709999999], \"mode\": \"lines\", \"opacity\": 0.5833333333333334, \"type\": \"scattergeo\"}, {\"lat\": [20.521799087524414, 41.7859992980957], \"line\": {\"color\": \"red\", \"width\": 1}, \"lon\": [-103.31099700927734, -87.75240325927734], \"mode\": \"lines\", \"opacity\": 0.08333333333333333, \"type\": \"scattergeo\"}, {\"lat\": [20.521799087524414, 37.72129821777344], \"line\": {\"color\": \"red\", \"width\": 1}, \"lon\": [-103.31099700927734, -122.22100067138672], \"mode\": \"lines\", \"opacity\": 0.08333333333333333, \"type\": \"scattergeo\"}, {\"lat\": [20.521799087524414, 34.05599975585937], \"line\": {\"color\": \"red\", \"width\": 1}, \"lon\": [-103.31099700927734, -117.60099792480469], \"mode\": \"lines\", \"opacity\": 0.25, \"type\": \"scattergeo\"}, {\"lat\": [20.521799087524414, 41.97859955], \"line\": {\"color\": \"red\", \"width\": 1}, \"lon\": [-103.31099700927734, -87.90480042], \"mode\": \"lines\", \"opacity\": 0.16666666666666666, \"type\": \"scattergeo\"}, {\"lat\": [20.521799087524414, 33.43429946899414], \"line\": {\"color\": \"red\", \"width\": 1}, \"lon\": [-103.31099700927734, -112.01200103759766], \"mode\": \"lines\", \"opacity\": 0.25, \"type\": \"scattergeo\"}, {\"lat\": [20.521799087524414, 29.533700942993164], \"line\": {\"color\": \"red\", \"width\": 1}, \"lon\": [-103.31099700927734, -98.46980285644531], \"mode\": \"lines\", \"opacity\": 0.16666666666666666, \"type\": \"scattergeo\"}, {\"lat\": [20.521799087524414, 37.61899948120117], \"line\": {\"color\": \"red\", \"width\": 1}, \"lon\": [-103.31099700927734, -122.375], \"mode\": \"lines\", \"opacity\": 0.25, \"type\": \"scattergeo\"}, {\"lat\": [20.521799087524414, 37.36259841918945], \"line\": {\"color\": \"red\", \"width\": 1}, \"lon\": [-103.31099700927734, -121.9290008544922], \"mode\": \"lines\", \"opacity\": 0.3333333333333333, \"type\": \"scattergeo\"}, {\"lat\": [20.521799087524414, 40.78839874267578], \"line\": {\"color\": \"red\", \"width\": 1}, \"lon\": [-103.31099700927734, -111.97799682617188], \"mode\": \"lines\", \"opacity\": 0.08333333333333333, \"type\": \"scattergeo\"}, {\"lat\": [20.521799087524414, 38.69540023803711], \"line\": {\"color\": \"red\", \"width\": 1}, \"lon\": [-103.31099700927734, -121.59100341796876], \"mode\": \"lines\", \"opacity\": 0.25, \"type\": \"scattergeo\"}, {\"lat\": [20.521799087524414, 33.67570114], \"line\": {\"color\": \"red\", \"width\": 1}, \"lon\": [-103.31099700927734, -117.86799620000001], \"mode\": \"lines\", \"opacity\": 0.08333333333333333, \"type\": \"scattergeo\"}, {\"lat\": [6.498549938201903, 40.63980103], \"line\": {\"color\": \"red\", \"width\": 1}, \"lon\": [-58.25410079956055, -73.77890015], \"mode\": \"lines\", \"opacity\": 0.08333333333333333, \"type\": \"scattergeo\"}, {\"lat\": [6.498549938201903, 25.79319953918457], \"line\": {\"color\": \"red\", \"width\": 1}, \"lon\": [-58.25410079956055, -80.29060363769531], \"mode\": \"lines\", \"opacity\": 0.08333333333333333, \"type\": \"scattergeo\"}, {\"lat\": [23.5625991821, 33.63669967651367], \"line\": {\"color\": \"red\", \"width\": 1}, \"lon\": [-75.8779983521, -84.4281005859375], \"mode\": \"lines\", \"opacity\": 0.08333333333333333, \"type\": \"scattergeo\"}, {\"lat\": [23.5625991821, 26.072599411010746], \"line\": {\"color\": \"red\", \"width\": 1}, \"lon\": [-75.8779983521, -80.15270233154297], \"mode\": \"lines\", \"opacity\": 0.16666666666666666, \"type\": \"scattergeo\"}, {\"lat\": [23.5625991821, 25.79319953918457], \"line\": {\"color\": \"red\", \"width\": 1}, \"lon\": [-75.8779983521, -80.29060363769531], \"mode\": \"lines\", \"opacity\": 0.16666666666666666, \"type\": \"scattergeo\"}, {\"lat\": [25.2847003937, 26.072599411010746], \"line\": {\"color\": \"red\", \"width\": 1}, \"lon\": [-76.3310012817, -80.15270233154297], \"mode\": \"lines\", \"opacity\": 0.16666666666666666, \"type\": \"scattergeo\"}, {\"lat\": [-22.809999465900002, 33.63669967651367], \"line\": {\"color\": \"red\", \"width\": 1}, \"lon\": [-43.2505569458, -84.4281005859375], \"mode\": \"lines\", \"opacity\": 0.16666666666666666, \"type\": \"scattergeo\"}, {\"lat\": [-22.809999465900002, 35.2140007019043], \"line\": {\"color\": \"red\", \"width\": 1}, \"lon\": [-43.2505569458, -80.94309997558594], \"mode\": \"lines\", \"opacity\": 0.16666666666666666, \"type\": \"scattergeo\"}, {\"lat\": [-22.809999465900002, 32.896800994873054], \"line\": {\"color\": \"red\", \"width\": 1}, \"lon\": [-43.2505569458, -97.03800201416016], \"mode\": \"lines\", \"opacity\": 0.25, \"type\": \"scattergeo\"}, {\"lat\": [-22.809999465900002, 29.98439979553223], \"line\": {\"color\": \"red\", \"width\": 1}, \"lon\": [-43.2505569458, -95.34140014648438], \"mode\": \"lines\", \"opacity\": 0.08333333333333333, \"type\": \"scattergeo\"}, {\"lat\": [-22.809999465900002, 40.63980103], \"line\": {\"color\": \"red\", \"width\": 1}, \"lon\": [-43.2505569458, -73.77890015], \"mode\": \"lines\", \"opacity\": 0.25, \"type\": \"scattergeo\"}, {\"lat\": [-22.809999465900002, 25.79319953918457], \"line\": {\"color\": \"red\", \"width\": 1}, \"lon\": [-43.2505569458, -80.29060363769531], \"mode\": \"lines\", \"opacity\": 0.25, \"type\": \"scattergeo\"}, {\"lat\": [55.8718986511, 40.69250106811523], \"line\": {\"color\": \"red\", \"width\": 1}, \"lon\": [-4.43306016922, -74.168701171875], \"mode\": \"lines\", \"opacity\": 0.16666666666666666, \"type\": \"scattergeo\"}, {\"lat\": [55.8718986511, 28.429399490356445], \"line\": {\"color\": \"red\", \"width\": 1}, \"lon\": [-4.43306016922, -81.30899810791016], \"mode\": \"lines\", \"opacity\": 0.25, \"type\": \"scattergeo\"}, {\"lat\": [55.8718986511, 39.87189865112305], \"line\": {\"color\": \"red\", \"width\": 1}, \"lon\": [-4.43306016922, -75.24109649658203], \"mode\": \"lines\", \"opacity\": 0.16666666666666666, \"type\": \"scattergeo\"}, {\"lat\": [12.004199981689453, 40.63980103], \"line\": {\"color\": \"red\", \"width\": 1}, \"lon\": [-61.78620147705078, -73.77890015], \"mode\": \"lines\", \"opacity\": 0.16666666666666666, \"type\": \"scattergeo\"}, {\"lat\": [12.004199981689453, 25.79319953918457], \"line\": {\"color\": \"red\", \"width\": 1}, \"lon\": [-61.78620147705078, -80.29060363769531], \"mode\": \"lines\", \"opacity\": 0.16666666666666666, \"type\": \"scattergeo\"}, {\"lat\": [-23.435556411743164, 33.63669967651367], \"line\": {\"color\": \"red\", \"width\": 1}, \"lon\": [-46.47305679321289, -84.4281005859375], \"mode\": \"lines\", \"opacity\": 0.08333333333333333, \"type\": \"scattergeo\"}, {\"lat\": [-23.435556411743164, 35.2140007019043], \"line\": {\"color\": \"red\", \"width\": 1}, \"lon\": [-46.47305679321289, -80.94309997558594], \"mode\": \"lines\", \"opacity\": 0.16666666666666666, \"type\": \"scattergeo\"}, {\"lat\": [-23.435556411743164, 32.896800994873054], \"line\": {\"color\": \"red\", \"width\": 1}, \"lon\": [-46.47305679321289, -97.03800201416016], \"mode\": \"lines\", \"opacity\": 0.25, \"type\": \"scattergeo\"}, {\"lat\": [-23.435556411743164, 42.212398529052734], \"line\": {\"color\": \"red\", \"width\": 1}, \"lon\": [-46.47305679321289, -83.35340118408203], \"mode\": \"lines\", \"opacity\": 0.16666666666666666, \"type\": \"scattergeo\"}, {\"lat\": [-23.435556411743164, 40.69250106811523], \"line\": {\"color\": \"red\", \"width\": 1}, \"lon\": [-46.47305679321289, -74.168701171875], \"mode\": \"lines\", \"opacity\": 0.08333333333333333, \"type\": \"scattergeo\"}, {\"lat\": [-23.435556411743164, 38.94449997], \"line\": {\"color\": \"red\", \"width\": 1}, \"lon\": [-46.47305679321289, -77.45580292], \"mode\": \"lines\", \"opacity\": 0.08333333333333333, \"type\": \"scattergeo\"}, {\"lat\": [-23.435556411743164, 29.98439979553223], \"line\": {\"color\": \"red\", \"width\": 1}, \"lon\": [-46.47305679321289, -95.34140014648438], \"mode\": \"lines\", \"opacity\": 0.08333333333333333, \"type\": \"scattergeo\"}, {\"lat\": [-23.435556411743164, 40.63980103], \"line\": {\"color\": \"red\", \"width\": 1}, \"lon\": [-46.47305679321289, -73.77890015], \"mode\": \"lines\", \"opacity\": 0.4166666666666667, \"type\": \"scattergeo\"}, {\"lat\": [-23.435556411743164, 33.94250107], \"line\": {\"color\": \"red\", \"width\": 1}, \"lon\": [-46.47305679321289, -118.40799709999999], \"mode\": \"lines\", \"opacity\": 0.25, \"type\": \"scattergeo\"}, {\"lat\": [-23.435556411743164, 28.429399490356445], \"line\": {\"color\": \"red\", \"width\": 1}, \"lon\": [-46.47305679321289, -81.30899810791016], \"mode\": \"lines\", \"opacity\": 0.16666666666666666, \"type\": \"scattergeo\"}, {\"lat\": [-23.435556411743164, 25.79319953918457], \"line\": {\"color\": \"red\", \"width\": 1}, \"lon\": [-46.47305679321289, -80.29060363769531], \"mode\": \"lines\", \"opacity\": 0.25, \"type\": \"scattergeo\"}, {\"lat\": [-23.435556411743164, 41.97859955], \"line\": {\"color\": \"red\", \"width\": 1}, \"lon\": [-46.47305679321289, -87.90480042], \"mode\": \"lines\", \"opacity\": 0.08333333333333333, \"type\": \"scattergeo\"}, {\"lat\": [14.58329963684082, 33.63669967651367], \"line\": {\"color\": \"red\", \"width\": 1}, \"lon\": [-90.52749633789062, -84.4281005859375], \"mode\": \"lines\", \"opacity\": 0.16666666666666666, \"type\": \"scattergeo\"}, {\"lat\": [14.58329963684082, 32.896800994873054], \"line\": {\"color\": \"red\", \"width\": 1}, \"lon\": [-90.52749633789062, -97.03800201416016], \"mode\": \"lines\", \"opacity\": 0.16666666666666666, \"type\": \"scattergeo\"}, {\"lat\": [14.58329963684082, 40.69250106811523], \"line\": {\"color\": \"red\", \"width\": 1}, \"lon\": [-90.52749633789062, -74.168701171875], \"mode\": \"lines\", \"opacity\": 0.08333333333333333, \"type\": \"scattergeo\"}, {\"lat\": [14.58329963684082, 26.072599411010746], \"line\": {\"color\": \"red\", \"width\": 1}, \"lon\": [-90.52749633789062, -80.15270233154297], \"mode\": \"lines\", \"opacity\": 0.08333333333333333, \"type\": \"scattergeo\"}, {\"lat\": [14.58329963684082, 38.94449997], \"line\": {\"color\": \"red\", \"width\": 1}, \"lon\": [-90.52749633789062, -77.45580292], \"mode\": \"lines\", \"opacity\": 0.08333333333333333, \"type\": \"scattergeo\"}, {\"lat\": [14.58329963684082, 29.98439979553223], \"line\": {\"color\": \"red\", \"width\": 1}, \"lon\": [-90.52749633789062, -95.34140014648438], \"mode\": \"lines\", \"opacity\": 0.08333333333333333, \"type\": \"scattergeo\"}, {\"lat\": [14.58329963684082, 40.63980103], \"line\": {\"color\": \"red\", \"width\": 1}, \"lon\": [-90.52749633789062, -73.77890015], \"mode\": \"lines\", \"opacity\": 0.08333333333333333, \"type\": \"scattergeo\"}, {\"lat\": [14.58329963684082, 33.94250107], \"line\": {\"color\": \"red\", \"width\": 1}, \"lon\": [-90.52749633789062, -118.40799709999999], \"mode\": \"lines\", \"opacity\": 0.3333333333333333, \"type\": \"scattergeo\"}, {\"lat\": [14.58329963684082, 25.79319953918457], \"line\": {\"color\": \"red\", \"width\": 1}, \"lon\": [-90.52749633789062, -80.29060363769531], \"mode\": \"lines\", \"opacity\": 0.3333333333333333, \"type\": \"scattergeo\"}, {\"lat\": [13.4834003448, 21.318700790405273], \"line\": {\"color\": \"red\", \"width\": 1}, \"lon\": [144.796005249, -157.9219970703125], \"mode\": \"lines\", \"opacity\": 0.08333333333333333, \"type\": \"scattergeo\"}, {\"lat\": [46.23809814453125, 40.69250106811523], \"line\": {\"color\": \"red\", \"width\": 1}, \"lon\": [6.108950138092041, -74.168701171875], \"mode\": \"lines\", \"opacity\": 0.16666666666666666, \"type\": \"scattergeo\"}, {\"lat\": [46.23809814453125, 38.94449997], \"line\": {\"color\": \"red\", \"width\": 1}, \"lon\": [6.108950138092041, -77.45580292], \"mode\": \"lines\", \"opacity\": 0.16666666666666666, \"type\": \"scattergeo\"}, {\"lat\": [46.23809814453125, 40.63980103], \"line\": {\"color\": \"red\", \"width\": 1}, \"lon\": [6.108950138092041, -73.77890015], \"mode\": \"lines\", \"opacity\": 0.16666666666666666, \"type\": \"scattergeo\"}, {\"lat\": [-2.15741991997, 40.63980103], \"line\": {\"color\": \"red\", \"width\": 1}, \"lon\": [-79.88359832760001, -73.77890015], \"mode\": \"lines\", \"opacity\": 0.16666666666666666, \"type\": \"scattergeo\"}, {\"lat\": [-2.15741991997, 25.79319953918457], \"line\": {\"color\": \"red\", \"width\": 1}, \"lon\": [-79.88359832760001, -80.29060363769531], \"mode\": \"lines\", \"opacity\": 0.16666666666666666, \"type\": \"scattergeo\"}, {\"lat\": [53.630401611328004, 40.69250106811523], \"line\": {\"color\": \"red\", \"width\": 1}, \"lon\": [9.988229751586902, -74.168701171875], \"mode\": \"lines\", \"opacity\": 0.16666666666666666, \"type\": \"scattergeo\"}, {\"lat\": [60.317199707031, 40.63980103], \"line\": {\"color\": \"red\", \"width\": 1}, \"lon\": [24.963300704956, -73.77890015], \"mode\": \"lines\", \"opacity\": 0.3333333333333333, \"type\": \"scattergeo\"}, {\"lat\": [22.3089008331, 40.69250106811523], \"line\": {\"color\": \"red\", \"width\": 1}, \"lon\": [113.915000916, -74.168701171875], \"mode\": \"lines\", \"opacity\": 0.25, \"type\": \"scattergeo\"}, {\"lat\": [22.3089008331, 40.63980103], \"line\": {\"color\": \"red\", \"width\": 1}, \"lon\": [113.915000916, -73.77890015], \"mode\": \"lines\", \"opacity\": 0.16666666666666666, \"type\": \"scattergeo\"}, {\"lat\": [22.3089008331, 33.94250107], \"line\": {\"color\": \"red\", \"width\": 1}, \"lon\": [113.915000916, -118.40799709999999], \"mode\": \"lines\", \"opacity\": 0.16666666666666666, \"type\": \"scattergeo\"}, {\"lat\": [22.3089008331, 41.97859955], \"line\": {\"color\": \"red\", \"width\": 1}, \"lon\": [113.915000916, -87.90480042], \"mode\": \"lines\", \"opacity\": 0.25, \"type\": \"scattergeo\"}, {\"lat\": [22.3089008331, 37.61899948120117], \"line\": {\"color\": \"red\", \"width\": 1}, \"lon\": [113.915000916, -122.375], \"mode\": \"lines\", \"opacity\": 0.5, \"type\": \"scattergeo\"}, {\"lat\": [29.095899581900007, 33.94250107], \"line\": {\"color\": \"red\", \"width\": 1}, \"lon\": [-111.047996521, -118.40799709999999], \"mode\": \"lines\", \"opacity\": 0.16666666666666666, \"type\": \"scattergeo\"}, {\"lat\": [29.095899581900007, 33.43429946899414], \"line\": {\"color\": \"red\", \"width\": 1}, \"lon\": [-111.047996521, -112.01200103759766], \"mode\": \"lines\", \"opacity\": 0.3333333333333333, \"type\": \"scattergeo\"}, {\"lat\": [35.552299, 21.318700790405273], \"line\": {\"color\": \"red\", \"width\": 1}, \"lon\": [139.779999, -157.9219970703125], \"mode\": \"lines\", \"opacity\": 0.4166666666666667, \"type\": \"scattergeo\"}, {\"lat\": [35.552299, 33.94250107], \"line\": {\"color\": \"red\", \"width\": 1}, \"lon\": [139.779999, -118.40799709999999], \"mode\": \"lines\", \"opacity\": 0.25, \"type\": \"scattergeo\"}, {\"lat\": [35.552299, 47.44900131225586], \"line\": {\"color\": \"red\", \"width\": 1}, \"lon\": [139.779999, -122.30899810791016], \"mode\": \"lines\", \"opacity\": 0.08333333333333333, \"type\": \"scattergeo\"}, {\"lat\": [35.552299, 37.61899948120117], \"line\": {\"color\": \"red\", \"width\": 1}, \"lon\": [139.779999, -122.375], \"mode\": \"lines\", \"opacity\": 0.16666666666666666, \"type\": \"scattergeo\"}, {\"lat\": [15.77530002593994, 29.98439979553223], \"line\": {\"color\": \"red\", \"width\": 1}, \"lon\": [-96.26260375976562, -95.34140014648438], \"mode\": \"lines\", \"opacity\": 0.08333333333333333, \"type\": \"scattergeo\"}, {\"lat\": [37.46910095214844, 33.63669967651367], \"line\": {\"color\": \"red\", \"width\": 1}, \"lon\": [126.45099639892578, -84.4281005859375], \"mode\": \"lines\", \"opacity\": 0.16666666666666666, \"type\": \"scattergeo\"}, {\"lat\": [37.46910095214844, 32.896800994873054], \"line\": {\"color\": \"red\", \"width\": 1}, \"lon\": [126.45099639892578, -97.03800201416016], \"mode\": \"lines\", \"opacity\": 0.3333333333333333, \"type\": \"scattergeo\"}, {\"lat\": [37.46910095214844, 42.212398529052734], \"line\": {\"color\": \"red\", \"width\": 1}, \"lon\": [126.45099639892578, -83.35340118408203], \"mode\": \"lines\", \"opacity\": 0.08333333333333333, \"type\": \"scattergeo\"}, {\"lat\": [37.46910095214844, 21.318700790405273], \"line\": {\"color\": \"red\", \"width\": 1}, \"lon\": [126.45099639892578, -157.9219970703125], \"mode\": \"lines\", \"opacity\": 0.3333333333333333, \"type\": \"scattergeo\"}, {\"lat\": [37.46910095214844, 38.94449997], \"line\": {\"color\": \"red\", \"width\": 1}, \"lon\": [126.45099639892578, -77.45580292], \"mode\": \"lines\", \"opacity\": 0.16666666666666666, \"type\": \"scattergeo\"}, {\"lat\": [37.46910095214844, 29.98439979553223], \"line\": {\"color\": \"red\", \"width\": 1}, \"lon\": [126.45099639892578, -95.34140014648438], \"mode\": \"lines\", \"opacity\": 0.08333333333333333, \"type\": \"scattergeo\"}, {\"lat\": [37.46910095214844, 40.63980103], \"line\": {\"color\": \"red\", \"width\": 1}, \"lon\": [126.45099639892578, -73.77890015], \"mode\": \"lines\", \"opacity\": 0.3333333333333333, \"type\": \"scattergeo\"}, {\"lat\": [37.46910095214844, 36.08010101], \"line\": {\"color\": \"red\", \"width\": 1}, \"lon\": [126.45099639892578, -115.15200039999999], \"mode\": \"lines\", \"opacity\": 0.16666666666666666, \"type\": \"scattergeo\"}, {\"lat\": [37.46910095214844, 33.94250107], \"line\": {\"color\": \"red\", \"width\": 1}, \"lon\": [126.45099639892578, -118.40799709999999], \"mode\": \"lines\", \"opacity\": 0.4166666666666667, \"type\": \"scattergeo\"}, {\"lat\": [37.46910095214844, 41.97859955], \"line\": {\"color\": \"red\", \"width\": 1}, \"lon\": [126.45099639892578, -87.90480042], \"mode\": \"lines\", \"opacity\": 0.25, \"type\": \"scattergeo\"}, {\"lat\": [37.46910095214844, 47.44900131225586], \"line\": {\"color\": \"red\", \"width\": 1}, \"lon\": [126.45099639892578, -122.30899810791016], \"mode\": \"lines\", \"opacity\": 0.3333333333333333, \"type\": \"scattergeo\"}, {\"lat\": [37.46910095214844, 37.61899948120117], \"line\": {\"color\": \"red\", \"width\": 1}, \"lon\": [126.45099639892578, -122.375], \"mode\": \"lines\", \"opacity\": 0.5833333333333334, \"type\": \"scattergeo\"}, {\"lat\": [40.976898193400004, 38.94449997], \"line\": {\"color\": \"red\", \"width\": 1}, \"lon\": [28.814599990799998, -77.45580292], \"mode\": \"lines\", \"opacity\": 0.16666666666666666, \"type\": \"scattergeo\"}, {\"lat\": [40.976898193400004, 29.98439979553223], \"line\": {\"color\": \"red\", \"width\": 1}, \"lon\": [28.814599990799998, -95.34140014648438], \"mode\": \"lines\", \"opacity\": 0.16666666666666666, \"type\": \"scattergeo\"}, {\"lat\": [40.976898193400004, 40.63980103], \"line\": {\"color\": \"red\", \"width\": 1}, \"lon\": [28.814599990799998, -73.77890015], \"mode\": \"lines\", \"opacity\": 0.16666666666666666, \"type\": \"scattergeo\"}, {\"lat\": [40.976898193400004, 33.94250107], \"line\": {\"color\": \"red\", \"width\": 1}, \"lon\": [28.814599990799998, -118.40799709999999], \"mode\": \"lines\", \"opacity\": 0.16666666666666666, \"type\": \"scattergeo\"}, {\"lat\": [40.976898193400004, 41.97859955], \"line\": {\"color\": \"red\", \"width\": 1}, \"lon\": [28.814599990799998, -87.90480042], \"mode\": \"lines\", \"opacity\": 0.16666666666666666, \"type\": \"scattergeo\"}, {\"lat\": [21.6796, 38.94449997], \"line\": {\"color\": \"red\", \"width\": 1}, \"lon\": [39.156502, -77.45580292], \"mode\": \"lines\", \"opacity\": 0.08333333333333333, \"type\": \"scattergeo\"}, {\"lat\": [21.6796, 40.63980103], \"line\": {\"color\": \"red\", \"width\": 1}, \"lon\": [39.156502, -73.77890015], \"mode\": \"lines\", \"opacity\": 0.08333333333333333, \"type\": \"scattergeo\"}, {\"lat\": [21.6796, 33.94250107], \"line\": {\"color\": \"red\", \"width\": 1}, \"lon\": [39.156502, -118.40799709999999], \"mode\": \"lines\", \"opacity\": 0.08333333333333333, \"type\": \"scattergeo\"}, {\"lat\": [-26.1392, 33.63669967651367], \"line\": {\"color\": \"red\", \"width\": 1}, \"lon\": [28.246, -84.4281005859375], \"mode\": \"lines\", \"opacity\": 0.08333333333333333, \"type\": \"scattergeo\"}, {\"lat\": [-26.1392, 40.63980103], \"line\": {\"color\": \"red\", \"width\": 1}, \"lon\": [28.246, -73.77890015], \"mode\": \"lines\", \"opacity\": 0.3333333333333333, \"type\": \"scattergeo\"}, {\"lat\": [50.34500122070313, 40.63980103], \"line\": {\"color\": \"red\", \"width\": 1}, \"lon\": [30.89469909667969, -73.77890015], \"mode\": \"lines\", \"opacity\": 0.08333333333333333, \"type\": \"scattergeo\"}, {\"lat\": [63.985000610352, 42.36429977], \"line\": {\"color\": \"red\", \"width\": 1}, \"lon\": [-22.605600357055998, -71.00520325], \"mode\": \"lines\", \"opacity\": 0.08333333333333333, \"type\": \"scattergeo\"}, {\"lat\": [63.985000610352, 39.861698150635], \"line\": {\"color\": \"red\", \"width\": 1}, \"lon\": [-22.605600357055998, -104.672996521], \"mode\": \"lines\", \"opacity\": 0.08333333333333333, \"type\": \"scattergeo\"}, {\"lat\": [63.985000610352, 40.69250106811523], \"line\": {\"color\": \"red\", \"width\": 1}, \"lon\": [-22.605600357055998, -74.168701171875], \"mode\": \"lines\", \"opacity\": 0.08333333333333333, \"type\": \"scattergeo\"}, {\"lat\": [63.985000610352, 38.94449997], \"line\": {\"color\": \"red\", \"width\": 1}, \"lon\": [-22.605600357055998, -77.45580292], \"mode\": \"lines\", \"opacity\": 0.08333333333333333, \"type\": \"scattergeo\"}, {\"lat\": [63.985000610352, 40.63980103], \"line\": {\"color\": \"red\", \"width\": 1}, \"lon\": [-22.605600357055998, -73.77890015], \"mode\": \"lines\", \"opacity\": 0.08333333333333333, \"type\": \"scattergeo\"}, {\"lat\": [63.985000610352, 47.44900131225586], \"line\": {\"color\": \"red\", \"width\": 1}, \"lon\": [-22.605600357055998, -122.30899810791016], \"mode\": \"lines\", \"opacity\": 0.08333333333333333, \"type\": \"scattergeo\"}, {\"lat\": [63.985000610352, 28.7775993347168], \"line\": {\"color\": \"red\", \"width\": 1}, \"lon\": [-22.605600357055998, -81.23750305175781], \"mode\": \"lines\", \"opacity\": 0.08333333333333333, \"type\": \"scattergeo\"}, {\"lat\": [17.935699462890625, 33.63669967651367], \"line\": {\"color\": \"red\", \"width\": 1}, \"lon\": [-76.7874984741211, -84.4281005859375], \"mode\": \"lines\", \"opacity\": 0.08333333333333333, \"type\": \"scattergeo\"}, {\"lat\": [17.935699462890625, 26.072599411010746], \"line\": {\"color\": \"red\", \"width\": 1}, \"lon\": [-76.7874984741211, -80.15270233154297], \"mode\": \"lines\", \"opacity\": 0.25, \"type\": \"scattergeo\"}, {\"lat\": [17.935699462890625, 40.63980103], \"line\": {\"color\": \"red\", \"width\": 1}, \"lon\": [-76.7874984741211, -73.77890015], \"mode\": \"lines\", \"opacity\": 0.25, \"type\": \"scattergeo\"}, {\"lat\": [17.935699462890625, 28.429399490356445], \"line\": {\"color\": \"red\", \"width\": 1}, \"lon\": [-76.7874984741211, -81.30899810791016], \"mode\": \"lines\", \"opacity\": 0.08333333333333333, \"type\": \"scattergeo\"}, {\"lat\": [17.935699462890625, 25.79319953918457], \"line\": {\"color\": \"red\", \"width\": 1}, \"lon\": [-76.7874984741211, -80.29060363769531], \"mode\": \"lines\", \"opacity\": 0.16666666666666666, \"type\": \"scattergeo\"}, {\"lat\": [34.42729949951172, 21.318700790405273], \"line\": {\"color\": \"red\", \"width\": 1}, \"lon\": [135.24400329589844, -157.9219970703125], \"mode\": \"lines\", \"opacity\": 0.3333333333333333, \"type\": \"scattergeo\"}, {\"lat\": [34.42729949951172, 40.63980103], \"line\": {\"color\": \"red\", \"width\": 1}, \"lon\": [135.24400329589844, -73.77890015], \"mode\": \"lines\", \"opacity\": 0.08333333333333333, \"type\": \"scattergeo\"}, {\"lat\": [34.42729949951172, 37.61899948120117], \"line\": {\"color\": \"red\", \"width\": 1}, \"lon\": [135.24400329589844, -122.375], \"mode\": \"lines\", \"opacity\": 0.16666666666666666, \"type\": \"scattergeo\"}, {\"lat\": [29.226600646972656, 38.94449997], \"line\": {\"color\": \"red\", \"width\": 1}, \"lon\": [47.96889877319336, -77.45580292], \"mode\": \"lines\", \"opacity\": 0.08333333333333333, \"type\": \"scattergeo\"}, {\"lat\": [29.226600646972656, 40.63980103], \"line\": {\"color\": \"red\", \"width\": 1}, \"lon\": [47.96889877319336, -73.77890015], \"mode\": \"lines\", \"opacity\": 0.08333333333333333, \"type\": \"scattergeo\"}, {\"lat\": [51.14810180664063, 36.08010101], \"line\": {\"color\": \"red\", \"width\": 1}, \"lon\": [-0.19027799367904666, -115.15200039999999], \"mode\": \"lines\", \"opacity\": 0.4166666666666667, \"type\": \"scattergeo\"}, {\"lat\": [51.14810180664063, 28.429399490356445], \"line\": {\"color\": \"red\", \"width\": 1}, \"lon\": [-0.19027799367904666, -81.30899810791016], \"mode\": \"lines\", \"opacity\": 0.5833333333333334, \"type\": \"scattergeo\"}, {\"lat\": [51.14810180664063, 27.975500106811523], \"line\": {\"color\": \"red\", \"width\": 1}, \"lon\": [-0.19027799367904666, -82.533203125], \"mode\": \"lines\", \"opacity\": 0.3333333333333333, \"type\": \"scattergeo\"}, {\"lat\": [51.4706, 33.63669967651367], \"line\": {\"color\": \"red\", \"width\": 1}, \"lon\": [-0.461941, -84.4281005859375], \"mode\": \"lines\", \"opacity\": 0.6666666666666666, \"type\": \"scattergeo\"}, {\"lat\": [51.4706, 30.194499969482425], \"line\": {\"color\": \"red\", \"width\": 1}, \"lon\": [-0.461941, -97.6698989868164], \"mode\": \"lines\", \"opacity\": 0.3333333333333333, \"type\": \"scattergeo\"}, {\"lat\": [51.4706, 42.36429977], \"line\": {\"color\": \"red\", \"width\": 1}, \"lon\": [-0.461941, -71.00520325], \"mode\": \"lines\", \"opacity\": 0.75, \"type\": \"scattergeo\"}, {\"lat\": [51.4706, 39.17539978], \"line\": {\"color\": \"red\", \"width\": 1}, \"lon\": [-0.461941, -76.66829681], \"mode\": \"lines\", \"opacity\": 0.3333333333333333, \"type\": \"scattergeo\"}, {\"lat\": [51.4706, 35.2140007019043], \"line\": {\"color\": \"red\", \"width\": 1}, \"lon\": [-0.461941, -80.94309997558594], \"mode\": \"lines\", \"opacity\": 0.16666666666666666, \"type\": \"scattergeo\"}, {\"lat\": [51.4706, 39.861698150635], \"line\": {\"color\": \"red\", \"width\": 1}, \"lon\": [-0.461941, -104.672996521], \"mode\": \"lines\", \"opacity\": 0.3333333333333333, \"type\": \"scattergeo\"}, {\"lat\": [51.4706, 32.896800994873054], \"line\": {\"color\": \"red\", \"width\": 1}, \"lon\": [-0.461941, -97.03800201416016], \"mode\": \"lines\", \"opacity\": 0.5833333333333334, \"type\": \"scattergeo\"}, {\"lat\": [51.4706, 42.212398529052734], \"line\": {\"color\": \"red\", \"width\": 1}, \"lon\": [-0.461941, -83.35340118408203], \"mode\": \"lines\", \"opacity\": 0.3333333333333333, \"type\": \"scattergeo\"}, {\"lat\": [51.4706, 40.69250106811523], \"line\": {\"color\": \"red\", \"width\": 1}, \"lon\": [-0.461941, -74.168701171875], \"mode\": \"lines\", \"opacity\": 0.6666666666666666, \"type\": \"scattergeo\"}, {\"lat\": [51.4706, 38.94449997], \"line\": {\"color\": \"red\", \"width\": 1}, \"lon\": [-0.461941, -77.45580292], \"mode\": \"lines\", \"opacity\": 0.6666666666666666, \"type\": \"scattergeo\"}, {\"lat\": [51.4706, 29.98439979553223], \"line\": {\"color\": \"red\", \"width\": 1}, \"lon\": [-0.461941, -95.34140014648438], \"mode\": \"lines\", \"opacity\": 0.5, \"type\": \"scattergeo\"}, {\"lat\": [51.4706, 40.63980103], \"line\": {\"color\": \"red\", \"width\": 1}, \"lon\": [-0.461941, -73.77890015], \"mode\": \"lines\", \"opacity\": 1.0, \"type\": \"scattergeo\"}, {\"lat\": [51.4706, 36.08010101], \"line\": {\"color\": \"red\", \"width\": 1}, \"lon\": [-0.461941, -115.15200039999999], \"mode\": \"lines\", \"opacity\": 0.3333333333333333, \"type\": \"scattergeo\"}, {\"lat\": [51.4706, 33.94250107], \"line\": {\"color\": \"red\", \"width\": 1}, \"lon\": [-0.461941, -118.40799709999999], \"mode\": \"lines\", \"opacity\": 0.9166666666666666, \"type\": \"scattergeo\"}, {\"lat\": [51.4706, 25.79319953918457], \"line\": {\"color\": \"red\", \"width\": 1}, \"lon\": [-0.461941, -80.29060363769531], \"mode\": \"lines\", \"opacity\": 0.5833333333333334, \"type\": \"scattergeo\"}, {\"lat\": [51.4706, 44.8819999695], \"line\": {\"color\": \"red\", \"width\": 1}, \"lon\": [-0.461941, -93.22180175780001], \"mode\": \"lines\", \"opacity\": 0.3333333333333333, \"type\": \"scattergeo\"}, {\"lat\": [51.4706, 41.97859955], \"line\": {\"color\": \"red\", \"width\": 1}, \"lon\": [-0.461941, -87.90480042], \"mode\": \"lines\", \"opacity\": 0.75, \"type\": \"scattergeo\"}, {\"lat\": [51.4706, 39.87189865112305], \"line\": {\"color\": \"red\", \"width\": 1}, \"lon\": [-0.461941, -75.24109649658203], \"mode\": \"lines\", \"opacity\": 0.4166666666666667, \"type\": \"scattergeo\"}, {\"lat\": [51.4706, 33.43429946899414], \"line\": {\"color\": \"red\", \"width\": 1}, \"lon\": [-0.461941, -112.01200103759766], \"mode\": \"lines\", \"opacity\": 0.3333333333333333, \"type\": \"scattergeo\"}, {\"lat\": [51.4706, 35.877601623535156], \"line\": {\"color\": \"red\", \"width\": 1}, \"lon\": [-0.461941, -78.7874984741211], \"mode\": \"lines\", \"opacity\": 0.5, \"type\": \"scattergeo\"}, {\"lat\": [51.4706, 32.7336006165], \"line\": {\"color\": \"red\", \"width\": 1}, \"lon\": [-0.461941, -117.190002441], \"mode\": \"lines\", \"opacity\": 0.3333333333333333, \"type\": \"scattergeo\"}, {\"lat\": [51.4706, 47.44900131225586], \"line\": {\"color\": \"red\", \"width\": 1}, \"lon\": [-0.461941, -122.30899810791016], \"mode\": \"lines\", \"opacity\": 0.6666666666666666, \"type\": \"scattergeo\"}, {\"lat\": [51.4706, 37.61899948120117], \"line\": {\"color\": \"red\", \"width\": 1}, \"lon\": [-0.461941, -122.375], \"mode\": \"lines\", \"opacity\": 0.8333333333333334, \"type\": \"scattergeo\"}, {\"lat\": [-12.0219, 33.63669967651367], \"line\": {\"color\": \"red\", \"width\": 1}, \"lon\": [-77.114304, -84.4281005859375], \"mode\": \"lines\", \"opacity\": 0.08333333333333333, \"type\": \"scattergeo\"}, {\"lat\": [-12.0219, 32.896800994873054], \"line\": {\"color\": \"red\", \"width\": 1}, \"lon\": [-77.114304, -97.03800201416016], \"mode\": \"lines\", \"opacity\": 0.25, \"type\": \"scattergeo\"}, {\"lat\": [-12.0219, 40.69250106811523], \"line\": {\"color\": \"red\", \"width\": 1}, \"lon\": [-77.114304, -74.168701171875], \"mode\": \"lines\", \"opacity\": 0.08333333333333333, \"type\": \"scattergeo\"}, {\"lat\": [-12.0219, 26.072599411010746], \"line\": {\"color\": \"red\", \"width\": 1}, \"lon\": [-77.114304, -80.15270233154297], \"mode\": \"lines\", \"opacity\": 0.16666666666666666, \"type\": \"scattergeo\"}, {\"lat\": [-12.0219, 29.98439979553223], \"line\": {\"color\": \"red\", \"width\": 1}, \"lon\": [-77.114304, -95.34140014648438], \"mode\": \"lines\", \"opacity\": 0.08333333333333333, \"type\": \"scattergeo\"}, {\"lat\": [-12.0219, 40.63980103], \"line\": {\"color\": \"red\", \"width\": 1}, \"lon\": [-77.114304, -73.77890015], \"mode\": \"lines\", \"opacity\": 0.25, \"type\": \"scattergeo\"}, {\"lat\": [-12.0219, 33.94250107], \"line\": {\"color\": \"red\", \"width\": 1}, \"lon\": [-77.114304, -118.40799709999999], \"mode\": \"lines\", \"opacity\": 0.4166666666666667, \"type\": \"scattergeo\"}, {\"lat\": [-12.0219, 25.79319953918457], \"line\": {\"color\": \"red\", \"width\": 1}, \"lon\": [-77.114304, -80.29060363769531], \"mode\": \"lines\", \"opacity\": 0.4166666666666667, \"type\": \"scattergeo\"}, {\"lat\": [10.593299865722656, 33.63669967651367], \"line\": {\"color\": \"red\", \"width\": 1}, \"lon\": [-85.54440307617188, -84.4281005859375], \"mode\": \"lines\", \"opacity\": 0.16666666666666666, \"type\": \"scattergeo\"}, {\"lat\": [10.593299865722656, 35.2140007019043], \"line\": {\"color\": \"red\", \"width\": 1}, \"lon\": [-85.54440307617188, -80.94309997558594], \"mode\": \"lines\", \"opacity\": 0.16666666666666666, \"type\": \"scattergeo\"}, {\"lat\": [10.593299865722656, 39.861698150635], \"line\": {\"color\": \"red\", \"width\": 1}, \"lon\": [-85.54440307617188, -104.672996521], \"mode\": \"lines\", \"opacity\": 0.08333333333333333, \"type\": \"scattergeo\"}, {\"lat\": [10.593299865722656, 32.896800994873054], \"line\": {\"color\": \"red\", \"width\": 1}, \"lon\": [-85.54440307617188, -97.03800201416016], \"mode\": \"lines\", \"opacity\": 0.16666666666666666, \"type\": \"scattergeo\"}, {\"lat\": [10.593299865722656, 40.69250106811523], \"line\": {\"color\": \"red\", \"width\": 1}, \"lon\": [-85.54440307617188, -74.168701171875], \"mode\": \"lines\", \"opacity\": 0.08333333333333333, \"type\": \"scattergeo\"}, {\"lat\": [10.593299865722656, 29.98439979553223], \"line\": {\"color\": \"red\", \"width\": 1}, \"lon\": [-85.54440307617188, -95.34140014648438], \"mode\": \"lines\", \"opacity\": 0.08333333333333333, \"type\": \"scattergeo\"}, {\"lat\": [10.593299865722656, 40.63980103], \"line\": {\"color\": \"red\", \"width\": 1}, \"lon\": [-85.54440307617188, -73.77890015], \"mode\": \"lines\", \"opacity\": 0.16666666666666666, \"type\": \"scattergeo\"}, {\"lat\": [10.593299865722656, 33.94250107], \"line\": {\"color\": \"red\", \"width\": 1}, \"lon\": [-85.54440307617188, -118.40799709999999], \"mode\": \"lines\", \"opacity\": 0.08333333333333333, \"type\": \"scattergeo\"}, {\"lat\": [10.593299865722656, 25.79319953918457], \"line\": {\"color\": \"red\", \"width\": 1}, \"lon\": [-85.54440307617188, -80.29060363769531], \"mode\": \"lines\", \"opacity\": 0.16666666666666666, \"type\": \"scattergeo\"}, {\"lat\": [38.7812995911, 42.36429977], \"line\": {\"color\": \"red\", \"width\": 1}, \"lon\": [-9.13591957092, -71.00520325], \"mode\": \"lines\", \"opacity\": 0.16666666666666666, \"type\": \"scattergeo\"}, {\"lat\": [38.7812995911, 40.69250106811523], \"line\": {\"color\": \"red\", \"width\": 1}, \"lon\": [-9.13591957092, -74.168701171875], \"mode\": \"lines\", \"opacity\": 0.25, \"type\": \"scattergeo\"}, {\"lat\": [38.7812995911, 25.79319953918457], \"line\": {\"color\": \"red\", \"width\": 1}, \"lon\": [-9.13591957092, -80.29060363769531], \"mode\": \"lines\", \"opacity\": 0.16666666666666666, \"type\": \"scattergeo\"}, {\"lat\": [38.7812995911, 39.87189865112305], \"line\": {\"color\": \"red\", \"width\": 1}, \"lon\": [-9.13591957092, -75.24109649658203], \"mode\": \"lines\", \"opacity\": 0.25, \"type\": \"scattergeo\"}, {\"lat\": [6.5773701667785645, 33.63669967651367], \"line\": {\"color\": \"red\", \"width\": 1}, \"lon\": [3.321160078048706, -84.4281005859375], \"mode\": \"lines\", \"opacity\": 0.08333333333333333, \"type\": \"scattergeo\"}, {\"lat\": [6.5773701667785645, 29.98439979553223], \"line\": {\"color\": \"red\", \"width\": 1}, \"lon\": [3.321160078048706, -95.34140014648438], \"mode\": \"lines\", \"opacity\": 0.08333333333333333, \"type\": \"scattergeo\"}, {\"lat\": [6.5773701667785645, 40.63980103], \"line\": {\"color\": \"red\", \"width\": 1}, \"lon\": [3.321160078048706, -73.77890015], \"mode\": \"lines\", \"opacity\": 0.08333333333333333, \"type\": \"scattergeo\"}, {\"lat\": [18.45070075988769, 40.63980103], \"line\": {\"color\": \"red\", \"width\": 1}, \"lon\": [-68.91179656982422, -73.77890015], \"mode\": \"lines\", \"opacity\": 0.08333333333333333, \"type\": \"scattergeo\"}, {\"lat\": [18.45070075988769, 25.79319953918457], \"line\": {\"color\": \"red\", \"width\": 1}, \"lon\": [-68.91179656982422, -80.29060363769531], \"mode\": \"lines\", \"opacity\": 0.16666666666666666, \"type\": \"scattergeo\"}, {\"lat\": [25.989200592041016, 33.94250107], \"line\": {\"color\": \"red\", \"width\": 1}, \"lon\": [-111.3479995727539, -118.40799709999999], \"mode\": \"lines\", \"opacity\": 0.08333333333333333, \"type\": \"scattergeo\"}, {\"lat\": [40.471926, 33.63669967651367], \"line\": {\"color\": \"red\", \"width\": 1}, \"lon\": [-3.56264, -84.4281005859375], \"mode\": \"lines\", \"opacity\": 0.3333333333333333, \"type\": \"scattergeo\"}, {\"lat\": [40.471926, 42.36429977], \"line\": {\"color\": \"red\", \"width\": 1}, \"lon\": [-3.56264, -71.00520325], \"mode\": \"lines\", \"opacity\": 0.3333333333333333, \"type\": \"scattergeo\"}, {\"lat\": [40.471926, 32.896800994873054], \"line\": {\"color\": \"red\", \"width\": 1}, \"lon\": [-3.56264, -97.03800201416016], \"mode\": \"lines\", \"opacity\": 0.4166666666666667, \"type\": \"scattergeo\"}, {\"lat\": [40.471926, 40.69250106811523], \"line\": {\"color\": \"red\", \"width\": 1}, \"lon\": [-3.56264, -74.168701171875], \"mode\": \"lines\", \"opacity\": 0.16666666666666666, \"type\": \"scattergeo\"}, {\"lat\": [40.471926, 40.63980103], \"line\": {\"color\": \"red\", \"width\": 1}, \"lon\": [-3.56264, -73.77890015], \"mode\": \"lines\", \"opacity\": 0.75, \"type\": \"scattergeo\"}, {\"lat\": [40.471926, 33.94250107], \"line\": {\"color\": \"red\", \"width\": 1}, \"lon\": [-3.56264, -118.40799709999999], \"mode\": \"lines\", \"opacity\": 0.3333333333333333, \"type\": \"scattergeo\"}, {\"lat\": [40.471926, 25.79319953918457], \"line\": {\"color\": \"red\", \"width\": 1}, \"lon\": [-3.56264, -80.29060363769531], \"mode\": \"lines\", \"opacity\": 0.4166666666666667, \"type\": \"scattergeo\"}, {\"lat\": [40.471926, 41.97859955], \"line\": {\"color\": \"red\", \"width\": 1}, \"lon\": [-3.56264, -87.90480042], \"mode\": \"lines\", \"opacity\": 0.3333333333333333, \"type\": \"scattergeo\"}, {\"lat\": [40.471926, 39.87189865112305], \"line\": {\"color\": \"red\", \"width\": 1}, \"lon\": [-3.56264, -75.24109649658203], \"mode\": \"lines\", \"opacity\": 0.16666666666666666, \"type\": \"scattergeo\"}, {\"lat\": [7.064760208129883, 21.318700790405273], \"line\": {\"color\": \"red\", \"width\": 1}, \"lon\": [171.27200317382812, -157.9219970703125], \"mode\": \"lines\", \"opacity\": 0.08333333333333333, \"type\": \"scattergeo\"}, {\"lat\": [53.35369873046875, 33.63669967651367], \"line\": {\"color\": \"red\", \"width\": 1}, \"lon\": [-2.2749500274658203, -84.4281005859375], \"mode\": \"lines\", \"opacity\": 0.3333333333333333, \"type\": \"scattergeo\"}, {\"lat\": [53.35369873046875, 40.69250106811523], \"line\": {\"color\": \"red\", \"width\": 1}, \"lon\": [-2.2749500274658203, -74.168701171875], \"mode\": \"lines\", \"opacity\": 0.16666666666666666, \"type\": \"scattergeo\"}, {\"lat\": [53.35369873046875, 40.63980103], \"line\": {\"color\": \"red\", \"width\": 1}, \"lon\": [-2.2749500274658203, -73.77890015], \"mode\": \"lines\", \"opacity\": 0.5, \"type\": \"scattergeo\"}, {\"lat\": [53.35369873046875, 36.08010101], \"line\": {\"color\": \"red\", \"width\": 1}, \"lon\": [-2.2749500274658203, -115.15200039999999], \"mode\": \"lines\", \"opacity\": 0.3333333333333333, \"type\": \"scattergeo\"}, {\"lat\": [53.35369873046875, 28.429399490356445], \"line\": {\"color\": \"red\", \"width\": 1}, \"lon\": [-2.2749500274658203, -81.30899810791016], \"mode\": \"lines\", \"opacity\": 0.25, \"type\": \"scattergeo\"}, {\"lat\": [53.35369873046875, 41.97859955], \"line\": {\"color\": \"red\", \"width\": 1}, \"lon\": [-2.2749500274658203, -87.90480042], \"mode\": \"lines\", \"opacity\": 0.4166666666666667, \"type\": \"scattergeo\"}, {\"lat\": [53.35369873046875, 39.87189865112305], \"line\": {\"color\": \"red\", \"width\": 1}, \"lon\": [-2.2749500274658203, -75.24109649658203], \"mode\": \"lines\", \"opacity\": 0.16666666666666666, \"type\": \"scattergeo\"}, {\"lat\": [-3.038609981536865, 25.79319953918457], \"line\": {\"color\": \"red\", \"width\": 1}, \"lon\": [-60.04970169067383, -80.29060363769531], \"mode\": \"lines\", \"opacity\": 0.25, \"type\": \"scattergeo\"}, {\"lat\": [10.5582084656, 25.79319953918457], \"line\": {\"color\": \"red\", \"width\": 1}, \"lon\": [-71.7278594971, -80.29060363769531], \"mode\": \"lines\", \"opacity\": 0.08333333333333333, \"type\": \"scattergeo\"}, {\"lat\": [18.503700256347656, 33.63669967651367], \"line\": {\"color\": \"red\", \"width\": 1}, \"lon\": [-77.91339874267578, -84.4281005859375], \"mode\": \"lines\", \"opacity\": 0.3333333333333333, \"type\": \"scattergeo\"}, {\"lat\": [18.503700256347656, 39.17539978], \"line\": {\"color\": \"red\", \"width\": 1}, \"lon\": [-77.91339874267578, -76.66829681], \"mode\": \"lines\", \"opacity\": 0.08333333333333333, \"type\": \"scattergeo\"}, {\"lat\": [18.503700256347656, 35.2140007019043], \"line\": {\"color\": \"red\", \"width\": 1}, \"lon\": [-77.91339874267578, -80.94309997558594], \"mode\": \"lines\", \"opacity\": 0.16666666666666666, \"type\": \"scattergeo\"}, {\"lat\": [18.503700256347656, 32.896800994873054], \"line\": {\"color\": \"red\", \"width\": 1}, \"lon\": [-77.91339874267578, -97.03800201416016], \"mode\": \"lines\", \"opacity\": 0.16666666666666666, \"type\": \"scattergeo\"}, {\"lat\": [18.503700256347656, 42.212398529052734], \"line\": {\"color\": \"red\", \"width\": 1}, \"lon\": [-77.91339874267578, -83.35340118408203], \"mode\": \"lines\", \"opacity\": 0.08333333333333333, \"type\": \"scattergeo\"}, {\"lat\": [18.503700256347656, 40.69250106811523], \"line\": {\"color\": \"red\", \"width\": 1}, \"lon\": [-77.91339874267578, -74.168701171875], \"mode\": \"lines\", \"opacity\": 0.08333333333333333, \"type\": \"scattergeo\"}, {\"lat\": [18.503700256347656, 26.072599411010746], \"line\": {\"color\": \"red\", \"width\": 1}, \"lon\": [-77.91339874267578, -80.15270233154297], \"mode\": \"lines\", \"opacity\": 0.25, \"type\": \"scattergeo\"}, {\"lat\": [18.503700256347656, 38.94449997], \"line\": {\"color\": \"red\", \"width\": 1}, \"lon\": [-77.91339874267578, -77.45580292], \"mode\": \"lines\", \"opacity\": 0.08333333333333333, \"type\": \"scattergeo\"}, {\"lat\": [18.503700256347656, 29.98439979553223], \"line\": {\"color\": \"red\", \"width\": 1}, \"lon\": [-77.91339874267578, -95.34140014648438], \"mode\": \"lines\", \"opacity\": 0.08333333333333333, \"type\": \"scattergeo\"}, {\"lat\": [18.503700256347656, 39.7173], \"line\": {\"color\": \"red\", \"width\": 1}, \"lon\": [-77.91339874267578, -86.294403], \"mode\": \"lines\", \"opacity\": 0.08333333333333333, \"type\": \"scattergeo\"}, {\"lat\": [18.503700256347656, 40.63980103], \"line\": {\"color\": \"red\", \"width\": 1}, \"lon\": [-77.91339874267578, -73.77890015], \"mode\": \"lines\", \"opacity\": 0.25, \"type\": \"scattergeo\"}, {\"lat\": [18.503700256347656, 28.429399490356445], \"line\": {\"color\": \"red\", \"width\": 1}, \"lon\": [-77.91339874267578, -81.30899810791016], \"mode\": \"lines\", \"opacity\": 0.16666666666666666, \"type\": \"scattergeo\"}, {\"lat\": [18.503700256347656, 41.7859992980957], \"line\": {\"color\": \"red\", \"width\": 1}, \"lon\": [-77.91339874267578, -87.75240325927734], \"mode\": \"lines\", \"opacity\": 0.08333333333333333, \"type\": \"scattergeo\"}, {\"lat\": [18.503700256347656, 25.79319953918457], \"line\": {\"color\": \"red\", \"width\": 1}, \"lon\": [-77.91339874267578, -80.29060363769531], \"mode\": \"lines\", \"opacity\": 0.16666666666666666, \"type\": \"scattergeo\"}, {\"lat\": [18.503700256347656, 41.97859955], \"line\": {\"color\": \"red\", \"width\": 1}, \"lon\": [-77.91339874267578, -87.90480042], \"mode\": \"lines\", \"opacity\": 0.25, \"type\": \"scattergeo\"}, {\"lat\": [18.503700256347656, 39.87189865112305], \"line\": {\"color\": \"red\", \"width\": 1}, \"lon\": [-77.91339874267578, -75.24109649658203], \"mode\": \"lines\", \"opacity\": 0.16666666666666666, \"type\": \"scattergeo\"}, {\"lat\": [18.503700256347656, 38.74869918823242], \"line\": {\"color\": \"red\", \"width\": 1}, \"lon\": [-77.91339874267578, -90.37000274658205], \"mode\": \"lines\", \"opacity\": 0.08333333333333333, \"type\": \"scattergeo\"}, {\"lat\": [6.164540000000001, 26.072599411010746], \"line\": {\"color\": \"red\", \"width\": 1}, \"lon\": [-75.4231, -80.15270233154297], \"mode\": \"lines\", \"opacity\": 0.16666666666666666, \"type\": \"scattergeo\"}, {\"lat\": [6.164540000000001, 40.63980103], \"line\": {\"color\": \"red\", \"width\": 1}, \"lon\": [-75.4231, -73.77890015], \"mode\": \"lines\", \"opacity\": 0.16666666666666666, \"type\": \"scattergeo\"}, {\"lat\": [6.164540000000001, 25.79319953918457], \"line\": {\"color\": \"red\", \"width\": 1}, \"lon\": [-75.4231, -80.29060363769531], \"mode\": \"lines\", \"opacity\": 0.4166666666666667, \"type\": \"scattergeo\"}, {\"lat\": [-37.673301696777344, 21.318700790405273], \"line\": {\"color\": \"red\", \"width\": 1}, \"lon\": [144.84300231933594, -157.9219970703125], \"mode\": \"lines\", \"opacity\": 0.16666666666666666, \"type\": \"scattergeo\"}, {\"lat\": [-37.673301696777344, 33.94250107], \"line\": {\"color\": \"red\", \"width\": 1}, \"lon\": [144.84300231933594, -118.40799709999999], \"mode\": \"lines\", \"opacity\": 0.3333333333333333, \"type\": \"scattergeo\"}, {\"lat\": [19.4363, 33.63669967651367], \"line\": {\"color\": \"red\", \"width\": 1}, \"lon\": [-99.072098, -84.4281005859375], \"mode\": \"lines\", \"opacity\": 0.6666666666666666, \"type\": \"scattergeo\"}, {\"lat\": [19.4363, 30.194499969482425], \"line\": {\"color\": \"red\", \"width\": 1}, \"lon\": [-99.072098, -97.6698989868164], \"mode\": \"lines\", \"opacity\": 0.08333333333333333, \"type\": \"scattergeo\"}, {\"lat\": [19.4363, 35.2140007019043], \"line\": {\"color\": \"red\", \"width\": 1}, \"lon\": [-99.072098, -80.94309997558594], \"mode\": \"lines\", \"opacity\": 0.16666666666666666, \"type\": \"scattergeo\"}, {\"lat\": [19.4363, 39.861698150635], \"line\": {\"color\": \"red\", \"width\": 1}, \"lon\": [-99.072098, -104.672996521], \"mode\": \"lines\", \"opacity\": 0.16666666666666666, \"type\": \"scattergeo\"}, {\"lat\": [19.4363, 32.896800994873054], \"line\": {\"color\": \"red\", \"width\": 1}, \"lon\": [-99.072098, -97.03800201416016], \"mode\": \"lines\", \"opacity\": 0.4166666666666667, \"type\": \"scattergeo\"}, {\"lat\": [19.4363, 42.212398529052734], \"line\": {\"color\": \"red\", \"width\": 1}, \"lon\": [-99.072098, -83.35340118408203], \"mode\": \"lines\", \"opacity\": 0.16666666666666666, \"type\": \"scattergeo\"}, {\"lat\": [19.4363, 40.69250106811523], \"line\": {\"color\": \"red\", \"width\": 1}, \"lon\": [-99.072098, -74.168701171875], \"mode\": \"lines\", \"opacity\": 0.08333333333333333, \"type\": \"scattergeo\"}, {\"lat\": [19.4363, 38.94449997], \"line\": {\"color\": \"red\", \"width\": 1}, \"lon\": [-99.072098, -77.45580292], \"mode\": \"lines\", \"opacity\": 0.25, \"type\": \"scattergeo\"}, {\"lat\": [19.4363, 29.98439979553223], \"line\": {\"color\": \"red\", \"width\": 1}, \"lon\": [-99.072098, -95.34140014648438], \"mode\": \"lines\", \"opacity\": 0.3333333333333333, \"type\": \"scattergeo\"}, {\"lat\": [19.4363, 40.63980103], \"line\": {\"color\": \"red\", \"width\": 1}, \"lon\": [-99.072098, -73.77890015], \"mode\": \"lines\", \"opacity\": 0.3333333333333333, \"type\": \"scattergeo\"}, {\"lat\": [19.4363, 36.08010101], \"line\": {\"color\": \"red\", \"width\": 1}, \"lon\": [-99.072098, -115.15200039999999], \"mode\": \"lines\", \"opacity\": 0.25, \"type\": \"scattergeo\"}, {\"lat\": [19.4363, 33.94250107], \"line\": {\"color\": \"red\", \"width\": 1}, \"lon\": [-99.072098, -118.40799709999999], \"mode\": \"lines\", \"opacity\": 0.5833333333333334, \"type\": \"scattergeo\"}, {\"lat\": [19.4363, 28.429399490356445], \"line\": {\"color\": \"red\", \"width\": 1}, \"lon\": [-99.072098, -81.30899810791016], \"mode\": \"lines\", \"opacity\": 0.25, \"type\": \"scattergeo\"}, {\"lat\": [19.4363, 26.17580032], \"line\": {\"color\": \"red\", \"width\": 1}, \"lon\": [-99.072098, -98.23860168], \"mode\": \"lines\", \"opacity\": 0.08333333333333333, \"type\": \"scattergeo\"}, {\"lat\": [19.4363, 25.79319953918457], \"line\": {\"color\": \"red\", \"width\": 1}, \"lon\": [-99.072098, -80.29060363769531], \"mode\": \"lines\", \"opacity\": 0.6666666666666666, \"type\": \"scattergeo\"}, {\"lat\": [19.4363, 41.97859955], \"line\": {\"color\": \"red\", \"width\": 1}, \"lon\": [-99.072098, -87.90480042], \"mode\": \"lines\", \"opacity\": 0.5, \"type\": \"scattergeo\"}, {\"lat\": [19.4363, 33.43429946899414], \"line\": {\"color\": \"red\", \"width\": 1}, \"lon\": [-99.072098, -112.01200103759766], \"mode\": \"lines\", \"opacity\": 0.25, \"type\": \"scattergeo\"}, {\"lat\": [19.4363, 32.7336006165], \"line\": {\"color\": \"red\", \"width\": 1}, \"lon\": [-99.072098, -117.190002441], \"mode\": \"lines\", \"opacity\": 0.08333333333333333, \"type\": \"scattergeo\"}, {\"lat\": [19.4363, 29.533700942993164], \"line\": {\"color\": \"red\", \"width\": 1}, \"lon\": [-99.072098, -98.46980285644531], \"mode\": \"lines\", \"opacity\": 0.3333333333333333, \"type\": \"scattergeo\"}, {\"lat\": [19.4363, 37.61899948120117], \"line\": {\"color\": \"red\", \"width\": 1}, \"lon\": [-99.072098, -122.375], \"mode\": \"lines\", \"opacity\": 0.3333333333333333, \"type\": \"scattergeo\"}, {\"lat\": [19.4363, 33.67570114], \"line\": {\"color\": \"red\", \"width\": 1}, \"lon\": [-99.072098, -117.86799620000001], \"mode\": \"lines\", \"opacity\": 0.16666666666666666, \"type\": \"scattergeo\"}, {\"lat\": [12.141500473022461, 33.63669967651367], \"line\": {\"color\": \"red\", \"width\": 1}, \"lon\": [-86.16819763183594, -84.4281005859375], \"mode\": \"lines\", \"opacity\": 0.08333333333333333, \"type\": \"scattergeo\"}, {\"lat\": [12.141500473022461, 26.072599411010746], \"line\": {\"color\": \"red\", \"width\": 1}, \"lon\": [-86.16819763183594, -80.15270233154297], \"mode\": \"lines\", \"opacity\": 0.08333333333333333, \"type\": \"scattergeo\"}, {\"lat\": [12.141500473022461, 29.98439979553223], \"line\": {\"color\": \"red\", \"width\": 1}, \"lon\": [-86.16819763183594, -95.34140014648438], \"mode\": \"lines\", \"opacity\": 0.08333333333333333, \"type\": \"scattergeo\"}, {\"lat\": [12.141500473022461, 25.79319953918457], \"line\": {\"color\": \"red\", \"width\": 1}, \"lon\": [-86.16819763183594, -80.29060363769531], \"mode\": \"lines\", \"opacity\": 0.25, \"type\": \"scattergeo\"}, {\"lat\": [26.511400222800003, 26.072599411010746], \"line\": {\"color\": \"red\", \"width\": 1}, \"lon\": [-77.08350372310001, -80.15270233154297], \"mode\": \"lines\", \"opacity\": 0.25, \"type\": \"scattergeo\"}, {\"lat\": [26.511400222800003, 30.49410057067871], \"line\": {\"color\": \"red\", \"width\": 1}, \"lon\": [-77.08350372310001, -81.68789672851562], \"mode\": \"lines\", \"opacity\": 0.16666666666666666, \"type\": \"scattergeo\"}, {\"lat\": [26.511400222800003, 28.429399490356445], \"line\": {\"color\": \"red\", \"width\": 1}, \"lon\": [-77.08350372310001, -81.30899810791016], \"mode\": \"lines\", \"opacity\": 0.16666666666666666, \"type\": \"scattergeo\"}, {\"lat\": [26.511400222800003, 25.79319953918457], \"line\": {\"color\": \"red\", \"width\": 1}, \"lon\": [-77.08350372310001, -80.29060363769531], \"mode\": \"lines\", \"opacity\": 0.16666666666666666, \"type\": \"scattergeo\"}, {\"lat\": [26.511400222800003, 26.68320083618164], \"line\": {\"color\": \"red\", \"width\": 1}, \"lon\": [-77.08350372310001, -80.09559631347656], \"mode\": \"lines\", \"opacity\": 0.25, \"type\": \"scattergeo\"}, {\"lat\": [20.9370002747, 29.98439979553223], \"line\": {\"color\": \"red\", \"width\": 1}, \"lon\": [-89.657699585, -95.34140014648438], \"mode\": \"lines\", \"opacity\": 0.08333333333333333, \"type\": \"scattergeo\"}, {\"lat\": [20.9370002747, 25.79319953918457], \"line\": {\"color\": \"red\", \"width\": 1}, \"lon\": [-89.657699585, -80.29060363769531], \"mode\": \"lines\", \"opacity\": 0.16666666666666666, \"type\": \"scattergeo\"}, {\"lat\": [19.849899292, 32.896800994873054], \"line\": {\"color\": \"red\", \"width\": 1}, \"lon\": [-101.025001526, -97.03800201416016], \"mode\": \"lines\", \"opacity\": 0.25, \"type\": \"scattergeo\"}, {\"lat\": [19.849899292, 29.98439979553223], \"line\": {\"color\": \"red\", \"width\": 1}, \"lon\": [-101.025001526, -95.34140014648438], \"mode\": \"lines\", \"opacity\": 0.08333333333333333, \"type\": \"scattergeo\"}, {\"lat\": [19.849899292, 33.94250107], \"line\": {\"color\": \"red\", \"width\": 1}, \"lon\": [-101.025001526, -118.40799709999999], \"mode\": \"lines\", \"opacity\": 0.08333333333333333, \"type\": \"scattergeo\"}, {\"lat\": [19.849899292, 41.7859992980957], \"line\": {\"color\": \"red\", \"width\": 1}, \"lon\": [-101.025001526, -87.75240325927734], \"mode\": \"lines\", \"opacity\": 0.08333333333333333, \"type\": \"scattergeo\"}, {\"lat\": [19.849899292, 37.61899948120117], \"line\": {\"color\": \"red\", \"width\": 1}, \"lon\": [-101.025001526, -122.375], \"mode\": \"lines\", \"opacity\": 0.08333333333333333, \"type\": \"scattergeo\"}, {\"lat\": [14.5086, 21.318700790405273], \"line\": {\"color\": \"red\", \"width\": 1}, \"lon\": [121.019997, -157.9219970703125], \"mode\": \"lines\", \"opacity\": 0.08333333333333333, \"type\": \"scattergeo\"}, {\"lat\": [14.5086, 33.94250107], \"line\": {\"color\": \"red\", \"width\": 1}, \"lon\": [121.019997, -118.40799709999999], \"mode\": \"lines\", \"opacity\": 0.08333333333333333, \"type\": \"scattergeo\"}, {\"lat\": [14.5086, 37.61899948120117], \"line\": {\"color\": \"red\", \"width\": 1}, \"lon\": [121.019997, -122.375], \"mode\": \"lines\", \"opacity\": 0.08333333333333333, \"type\": \"scattergeo\"}, {\"lat\": [25.7784996033, 33.63669967651367], \"line\": {\"color\": \"red\", \"width\": 1}, \"lon\": [-100.107002258, -84.4281005859375], \"mode\": \"lines\", \"opacity\": 0.5, \"type\": \"scattergeo\"}, {\"lat\": [25.7784996033, 32.896800994873054], \"line\": {\"color\": \"red\", \"width\": 1}, \"lon\": [-100.107002258, -97.03800201416016], \"mode\": \"lines\", \"opacity\": 0.16666666666666666, \"type\": \"scattergeo\"}, {\"lat\": [25.7784996033, 42.212398529052734], \"line\": {\"color\": \"red\", \"width\": 1}, \"lon\": [-100.107002258, -83.35340118408203], \"mode\": \"lines\", \"opacity\": 0.16666666666666666, \"type\": \"scattergeo\"}, {\"lat\": [25.7784996033, 29.98439979553223], \"line\": {\"color\": \"red\", \"width\": 1}, \"lon\": [-100.107002258, -95.34140014648438], \"mode\": \"lines\", \"opacity\": 0.16666666666666666, \"type\": \"scattergeo\"}, {\"lat\": [25.7784996033, 36.08010101], \"line\": {\"color\": \"red\", \"width\": 1}, \"lon\": [-100.107002258, -115.15200039999999], \"mode\": \"lines\", \"opacity\": 0.25, \"type\": \"scattergeo\"}, {\"lat\": [25.7784996033, 41.97859955], \"line\": {\"color\": \"red\", \"width\": 1}, \"lon\": [-100.107002258, -87.90480042], \"mode\": \"lines\", \"opacity\": 0.08333333333333333, \"type\": \"scattergeo\"}, {\"lat\": [25.7784996033, 29.533700942993164], \"line\": {\"color\": \"red\", \"width\": 1}, \"lon\": [-100.107002258, -98.46980285644531], \"mode\": \"lines\", \"opacity\": 0.25, \"type\": \"scattergeo\"}, {\"lat\": [48.353801727295, 33.63669967651367], \"line\": {\"color\": \"red\", \"width\": 1}, \"lon\": [11.786100387572999, -84.4281005859375], \"mode\": \"lines\", \"opacity\": 0.25, \"type\": \"scattergeo\"}, {\"lat\": [48.353801727295, 42.36429977], \"line\": {\"color\": \"red\", \"width\": 1}, \"lon\": [11.786100387572999, -71.00520325], \"mode\": \"lines\", \"opacity\": 0.16666666666666666, \"type\": \"scattergeo\"}, {\"lat\": [48.353801727295, 35.2140007019043], \"line\": {\"color\": \"red\", \"width\": 1}, \"lon\": [11.786100387572999, -80.94309997558594], \"mode\": \"lines\", \"opacity\": 0.08333333333333333, \"type\": \"scattergeo\"}, {\"lat\": [48.353801727295, 40.69250106811523], \"line\": {\"color\": \"red\", \"width\": 1}, \"lon\": [11.786100387572999, -74.168701171875], \"mode\": \"lines\", \"opacity\": 0.16666666666666666, \"type\": \"scattergeo\"}, {\"lat\": [48.353801727295, 38.94449997], \"line\": {\"color\": \"red\", \"width\": 1}, \"lon\": [11.786100387572999, -77.45580292], \"mode\": \"lines\", \"opacity\": 0.16666666666666666, \"type\": \"scattergeo\"}, {\"lat\": [48.353801727295, 29.98439979553223], \"line\": {\"color\": \"red\", \"width\": 1}, \"lon\": [11.786100387572999, -95.34140014648438], \"mode\": \"lines\", \"opacity\": 0.08333333333333333, \"type\": \"scattergeo\"}, {\"lat\": [48.353801727295, 40.63980103], \"line\": {\"color\": \"red\", \"width\": 1}, \"lon\": [11.786100387572999, -73.77890015], \"mode\": \"lines\", \"opacity\": 0.16666666666666666, \"type\": \"scattergeo\"}, {\"lat\": [48.353801727295, 33.94250107], \"line\": {\"color\": \"red\", \"width\": 1}, \"lon\": [11.786100387572999, -118.40799709999999], \"mode\": \"lines\", \"opacity\": 0.16666666666666666, \"type\": \"scattergeo\"}, {\"lat\": [48.353801727295, 41.97859955], \"line\": {\"color\": \"red\", \"width\": 1}, \"lon\": [11.786100387572999, -87.90480042], \"mode\": \"lines\", \"opacity\": 0.16666666666666666, \"type\": \"scattergeo\"}, {\"lat\": [48.353801727295, 39.87189865112305], \"line\": {\"color\": \"red\", \"width\": 1}, \"lon\": [11.786100387572999, -75.24109649658203], \"mode\": \"lines\", \"opacity\": 0.16666666666666666, \"type\": \"scattergeo\"}, {\"lat\": [48.353801727295, 37.61899948120117], \"line\": {\"color\": \"red\", \"width\": 1}, \"lon\": [11.786100387572999, -122.375], \"mode\": \"lines\", \"opacity\": 0.16666666666666666, \"type\": \"scattergeo\"}, {\"lat\": [-34.838401794433594, 25.79319953918457], \"line\": {\"color\": \"red\", \"width\": 1}, \"lon\": [-56.030799865722656, -80.29060363769531], \"mode\": \"lines\", \"opacity\": 0.16666666666666666, \"type\": \"scattergeo\"}, {\"lat\": [45.6306, 40.69250106811523], \"line\": {\"color\": \"red\", \"width\": 1}, \"lon\": [8.728110000000001, -74.168701171875], \"mode\": \"lines\", \"opacity\": 0.16666666666666666, \"type\": \"scattergeo\"}, {\"lat\": [45.6306, 40.63980103], \"line\": {\"color\": \"red\", \"width\": 1}, \"lon\": [8.728110000000001, -73.77890015], \"mode\": \"lines\", \"opacity\": 0.8333333333333334, \"type\": \"scattergeo\"}, {\"lat\": [45.6306, 25.79319953918457], \"line\": {\"color\": \"red\", \"width\": 1}, \"lon\": [8.728110000000001, -80.29060363769531], \"mode\": \"lines\", \"opacity\": 0.4166666666666667, \"type\": \"scattergeo\"}, {\"lat\": [23.1613998413, 32.896800994873054], \"line\": {\"color\": \"red\", \"width\": 1}, \"lon\": [-106.26599884, -97.03800201416016], \"mode\": \"lines\", \"opacity\": 0.16666666666666666, \"type\": \"scattergeo\"}, {\"lat\": [23.1613998413, 33.94250107], \"line\": {\"color\": \"red\", \"width\": 1}, \"lon\": [-106.26599884, -118.40799709999999], \"mode\": \"lines\", \"opacity\": 0.16666666666666666, \"type\": \"scattergeo\"}, {\"lat\": [23.1613998413, 33.43429946899414], \"line\": {\"color\": \"red\", \"width\": 1}, \"lon\": [-106.26599884, -112.01200103759766], \"mode\": \"lines\", \"opacity\": 0.16666666666666666, \"type\": \"scattergeo\"}, {\"lat\": [-17.755399703979492, 21.318700790405273], \"line\": {\"color\": \"red\", \"width\": 1}, \"lon\": [177.4429931640625, -157.9219970703125], \"mode\": \"lines\", \"opacity\": 0.16666666666666666, \"type\": \"scattergeo\"}, {\"lat\": [-17.755399703979492, 33.94250107], \"line\": {\"color\": \"red\", \"width\": 1}, \"lon\": [177.4429931640625, -118.40799709999999], \"mode\": \"lines\", \"opacity\": 0.3333333333333333, \"type\": \"scattergeo\"}, {\"lat\": [25.0389995575, 33.63669967651367], \"line\": {\"color\": \"red\", \"width\": 1}, \"lon\": [-77.46620178219999, -84.4281005859375], \"mode\": \"lines\", \"opacity\": 0.3333333333333333, \"type\": \"scattergeo\"}, {\"lat\": [25.0389995575, 42.36429977], \"line\": {\"color\": \"red\", \"width\": 1}, \"lon\": [-77.46620178219999, -71.00520325], \"mode\": \"lines\", \"opacity\": 0.16666666666666666, \"type\": \"scattergeo\"}, {\"lat\": [25.0389995575, 39.17539978], \"line\": {\"color\": \"red\", \"width\": 1}, \"lon\": [-77.46620178219999, -76.66829681], \"mode\": \"lines\", \"opacity\": 0.08333333333333333, \"type\": \"scattergeo\"}, {\"lat\": [25.0389995575, 35.2140007019043], \"line\": {\"color\": \"red\", \"width\": 1}, \"lon\": [-77.46620178219999, -80.94309997558594], \"mode\": \"lines\", \"opacity\": 0.16666666666666666, \"type\": \"scattergeo\"}, {\"lat\": [25.0389995575, 38.8521], \"line\": {\"color\": \"red\", \"width\": 1}, \"lon\": [-77.46620178219999, -77.037697], \"mode\": \"lines\", \"opacity\": 0.16666666666666666, \"type\": \"scattergeo\"}, {\"lat\": [25.0389995575, 32.896800994873054], \"line\": {\"color\": \"red\", \"width\": 1}, \"lon\": [-77.46620178219999, -97.03800201416016], \"mode\": \"lines\", \"opacity\": 0.16666666666666666, \"type\": \"scattergeo\"}, {\"lat\": [25.0389995575, 42.212398529052734], \"line\": {\"color\": \"red\", \"width\": 1}, \"lon\": [-77.46620178219999, -83.35340118408203], \"mode\": \"lines\", \"opacity\": 0.08333333333333333, \"type\": \"scattergeo\"}, {\"lat\": [25.0389995575, 40.69250106811523], \"line\": {\"color\": \"red\", \"width\": 1}, \"lon\": [-77.46620178219999, -74.168701171875], \"mode\": \"lines\", \"opacity\": 0.08333333333333333, \"type\": \"scattergeo\"}, {\"lat\": [25.0389995575, 26.072599411010746], \"line\": {\"color\": \"red\", \"width\": 1}, \"lon\": [-77.46620178219999, -80.15270233154297], \"mode\": \"lines\", \"opacity\": 0.16666666666666666, \"type\": \"scattergeo\"}, {\"lat\": [25.0389995575, 29.98439979553223], \"line\": {\"color\": \"red\", \"width\": 1}, \"lon\": [-77.46620178219999, -95.34140014648438], \"mode\": \"lines\", \"opacity\": 0.08333333333333333, \"type\": \"scattergeo\"}, {\"lat\": [25.0389995575, 40.63980103], \"line\": {\"color\": \"red\", \"width\": 1}, \"lon\": [-77.46620178219999, -73.77890015], \"mode\": \"lines\", \"opacity\": 0.16666666666666666, \"type\": \"scattergeo\"}, {\"lat\": [25.0389995575, 28.429399490356445], \"line\": {\"color\": \"red\", \"width\": 1}, \"lon\": [-77.46620178219999, -81.30899810791016], \"mode\": \"lines\", \"opacity\": 0.16666666666666666, \"type\": \"scattergeo\"}, {\"lat\": [25.0389995575, 25.79319953918457], \"line\": {\"color\": \"red\", \"width\": 1}, \"lon\": [-77.46620178219999, -80.29060363769531], \"mode\": \"lines\", \"opacity\": 0.25, \"type\": \"scattergeo\"}, {\"lat\": [25.0389995575, 41.97859955], \"line\": {\"color\": \"red\", \"width\": 1}, \"lon\": [-77.46620178219999, -87.90480042], \"mode\": \"lines\", \"opacity\": 0.08333333333333333, \"type\": \"scattergeo\"}, {\"lat\": [25.0389995575, 26.68320083618164], \"line\": {\"color\": \"red\", \"width\": 1}, \"lon\": [-77.46620178219999, -80.09559631347656], \"mode\": \"lines\", \"opacity\": 0.08333333333333333, \"type\": \"scattergeo\"}, {\"lat\": [25.0389995575, 39.87189865112305], \"line\": {\"color\": \"red\", \"width\": 1}, \"lon\": [-77.46620178219999, -75.24109649658203], \"mode\": \"lines\", \"opacity\": 0.16666666666666666, \"type\": \"scattergeo\"}, {\"lat\": [43.658401489300005, 40.63980103], \"line\": {\"color\": \"red\", \"width\": 1}, \"lon\": [7.215869903560001, -73.77890015], \"mode\": \"lines\", \"opacity\": 0.16666666666666666, \"type\": \"scattergeo\"}, {\"lat\": [34.8583984375, 42.212398529052734], \"line\": {\"color\": \"red\", \"width\": 1}, \"lon\": [136.80499267578122, -83.35340118408203], \"mode\": \"lines\", \"opacity\": 0.08333333333333333, \"type\": \"scattergeo\"}, {\"lat\": [34.8583984375, 21.318700790405273], \"line\": {\"color\": \"red\", \"width\": 1}, \"lon\": [136.80499267578122, -157.9219970703125], \"mode\": \"lines\", \"opacity\": 0.25, \"type\": \"scattergeo\"}, {\"lat\": [35.764701843299996, 33.63669967651367], \"line\": {\"color\": \"red\", \"width\": 1}, \"lon\": [140.386001587, -84.4281005859375], \"mode\": \"lines\", \"opacity\": 0.08333333333333333, \"type\": \"scattergeo\"}, {\"lat\": [35.764701843299996, 42.36429977], \"line\": {\"color\": \"red\", \"width\": 1}, \"lon\": [140.386001587, -71.00520325], \"mode\": \"lines\", \"opacity\": 0.16666666666666666, \"type\": \"scattergeo\"}, {\"lat\": [35.764701843299996, 39.861698150635], \"line\": {\"color\": \"red\", \"width\": 1}, \"lon\": [140.386001587, -104.672996521], \"mode\": \"lines\", \"opacity\": 0.16666666666666666, \"type\": \"scattergeo\"}, {\"lat\": [35.764701843299996, 32.896800994873054], \"line\": {\"color\": \"red\", \"width\": 1}, \"lon\": [140.386001587, -97.03800201416016], \"mode\": \"lines\", \"opacity\": 0.3333333333333333, \"type\": \"scattergeo\"}, {\"lat\": [35.764701843299996, 42.212398529052734], \"line\": {\"color\": \"red\", \"width\": 1}, \"lon\": [140.386001587, -83.35340118408203], \"mode\": \"lines\", \"opacity\": 0.08333333333333333, \"type\": \"scattergeo\"}, {\"lat\": [35.764701843299996, 40.69250106811523], \"line\": {\"color\": \"red\", \"width\": 1}, \"lon\": [140.386001587, -74.168701171875], \"mode\": \"lines\", \"opacity\": 0.16666666666666666, \"type\": \"scattergeo\"}, {\"lat\": [35.764701843299996, 21.318700790405273], \"line\": {\"color\": \"red\", \"width\": 1}, \"lon\": [140.386001587, -157.9219970703125], \"mode\": \"lines\", \"opacity\": 0.5833333333333334, \"type\": \"scattergeo\"}, {\"lat\": [35.764701843299996, 38.94449997], \"line\": {\"color\": \"red\", \"width\": 1}, \"lon\": [140.386001587, -77.45580292], \"mode\": \"lines\", \"opacity\": 0.16666666666666666, \"type\": \"scattergeo\"}, {\"lat\": [35.764701843299996, 29.98439979553223], \"line\": {\"color\": \"red\", \"width\": 1}, \"lon\": [140.386001587, -95.34140014648438], \"mode\": \"lines\", \"opacity\": 0.16666666666666666, \"type\": \"scattergeo\"}, {\"lat\": [35.764701843299996, 40.63980103], \"line\": {\"color\": \"red\", \"width\": 1}, \"lon\": [140.386001587, -73.77890015], \"mode\": \"lines\", \"opacity\": 0.4166666666666667, \"type\": \"scattergeo\"}, {\"lat\": [35.764701843299996, 33.94250107], \"line\": {\"color\": \"red\", \"width\": 1}, \"lon\": [140.386001587, -118.40799709999999], \"mode\": \"lines\", \"opacity\": 0.6666666666666666, \"type\": \"scattergeo\"}, {\"lat\": [35.764701843299996, 44.8819999695], \"line\": {\"color\": \"red\", \"width\": 1}, \"lon\": [140.386001587, -93.22180175780001], \"mode\": \"lines\", \"opacity\": 0.08333333333333333, \"type\": \"scattergeo\"}, {\"lat\": [35.764701843299996, 41.97859955], \"line\": {\"color\": \"red\", \"width\": 1}, \"lon\": [140.386001587, -87.90480042], \"mode\": \"lines\", \"opacity\": 0.5, \"type\": \"scattergeo\"}, {\"lat\": [35.764701843299996, 45.58869934], \"line\": {\"color\": \"red\", \"width\": 1}, \"lon\": [140.386001587, -122.59799960000001], \"mode\": \"lines\", \"opacity\": 0.08333333333333333, \"type\": \"scattergeo\"}, {\"lat\": [35.764701843299996, 32.7336006165], \"line\": {\"color\": \"red\", \"width\": 1}, \"lon\": [140.386001587, -117.190002441], \"mode\": \"lines\", \"opacity\": 0.16666666666666666, \"type\": \"scattergeo\"}, {\"lat\": [35.764701843299996, 47.44900131225586], \"line\": {\"color\": \"red\", \"width\": 1}, \"lon\": [140.386001587, -122.30899810791016], \"mode\": \"lines\", \"opacity\": 0.25, \"type\": \"scattergeo\"}, {\"lat\": [35.764701843299996, 37.61899948120117], \"line\": {\"color\": \"red\", \"width\": 1}, \"lon\": [140.386001587, -122.375], \"mode\": \"lines\", \"opacity\": 0.16666666666666666, \"type\": \"scattergeo\"}, {\"lat\": [35.764701843299996, 37.36259841918945], \"line\": {\"color\": \"red\", \"width\": 1}, \"lon\": [140.386001587, -121.9290008544922], \"mode\": \"lines\", \"opacity\": 0.16666666666666666, \"type\": \"scattergeo\"}, {\"lat\": [16.9999008179, 29.98439979553223], \"line\": {\"color\": \"red\", \"width\": 1}, \"lon\": [-96.72660064700001, -95.34140014648438], \"mode\": \"lines\", \"opacity\": 0.08333333333333333, \"type\": \"scattergeo\"}, {\"lat\": [41.248100280799996, 40.69250106811523], \"line\": {\"color\": \"red\", \"width\": 1}, \"lon\": [-8.68138980865, -74.168701171875], \"mode\": \"lines\", \"opacity\": 0.16666666666666666, \"type\": \"scattergeo\"}, {\"lat\": [48.7233333, 40.69250106811523], \"line\": {\"color\": \"red\", \"width\": 1}, \"lon\": [2.3794444, -74.168701171875], \"mode\": \"lines\", \"opacity\": 0.25, \"type\": \"scattergeo\"}, {\"lat\": [48.7233333, 40.63980103], \"line\": {\"color\": \"red\", \"width\": 1}, \"lon\": [2.3794444, -73.77890015], \"mode\": \"lines\", \"opacity\": 0.25, \"type\": \"scattergeo\"}, {\"lat\": [60.193901062011996, 40.69250106811523], \"line\": {\"color\": \"red\", \"width\": 1}, \"lon\": [11.100399971008, -74.168701171875], \"mode\": \"lines\", \"opacity\": 0.16666666666666666, \"type\": \"scattergeo\"}, {\"lat\": [60.193901062011996, 26.072599411010746], \"line\": {\"color\": \"red\", \"width\": 1}, \"lon\": [11.100399971008, -80.15270233154297], \"mode\": \"lines\", \"opacity\": 0.08333333333333333, \"type\": \"scattergeo\"}, {\"lat\": [60.193901062011996, 40.63980103], \"line\": {\"color\": \"red\", \"width\": 1}, \"lon\": [11.100399971008, -73.77890015], \"mode\": \"lines\", \"opacity\": 0.08333333333333333, \"type\": \"scattergeo\"}, {\"lat\": [18.57999992370605, 33.63669967651367], \"line\": {\"color\": \"red\", \"width\": 1}, \"lon\": [-72.2925033569336, -84.4281005859375], \"mode\": \"lines\", \"opacity\": 0.08333333333333333, \"type\": \"scattergeo\"}, {\"lat\": [18.57999992370605, 26.072599411010746], \"line\": {\"color\": \"red\", \"width\": 1}, \"lon\": [-72.2925033569336, -80.15270233154297], \"mode\": \"lines\", \"opacity\": 0.3333333333333333, \"type\": \"scattergeo\"}, {\"lat\": [18.57999992370605, 40.63980103], \"line\": {\"color\": \"red\", \"width\": 1}, \"lon\": [-72.2925033569336, -73.77890015], \"mode\": \"lines\", \"opacity\": 0.3333333333333333, \"type\": \"scattergeo\"}, {\"lat\": [18.57999992370605, 25.79319953918457], \"line\": {\"color\": \"red\", \"width\": 1}, \"lon\": [-72.2925033569336, -80.29060363769531], \"mode\": \"lines\", \"opacity\": 0.3333333333333333, \"type\": \"scattergeo\"}, {\"lat\": [19.1581001282, 32.896800994873054], \"line\": {\"color\": \"red\", \"width\": 1}, \"lon\": [-98.3713989258, -97.03800201416016], \"mode\": \"lines\", \"opacity\": 0.16666666666666666, \"type\": \"scattergeo\"}, {\"lat\": [19.1581001282, 29.98439979553223], \"line\": {\"color\": \"red\", \"width\": 1}, \"lon\": [-98.3713989258, -95.34140014648438], \"mode\": \"lines\", \"opacity\": 0.08333333333333333, \"type\": \"scattergeo\"}, {\"lat\": [37.7411994934, 42.36429977], \"line\": {\"color\": \"red\", \"width\": 1}, \"lon\": [-25.6979007721, -71.00520325], \"mode\": \"lines\", \"opacity\": 0.16666666666666666, \"type\": \"scattergeo\"}, {\"lat\": [40.0801010131836, 42.212398529052734], \"line\": {\"color\": \"red\", \"width\": 1}, \"lon\": [116.58499908447266, -83.35340118408203], \"mode\": \"lines\", \"opacity\": 0.25, \"type\": \"scattergeo\"}, {\"lat\": [40.0801010131836, 40.69250106811523], \"line\": {\"color\": \"red\", \"width\": 1}, \"lon\": [116.58499908447266, -74.168701171875], \"mode\": \"lines\", \"opacity\": 0.16666666666666666, \"type\": \"scattergeo\"}, {\"lat\": [40.0801010131836, 21.318700790405273], \"line\": {\"color\": \"red\", \"width\": 1}, \"lon\": [116.58499908447266, -157.9219970703125], \"mode\": \"lines\", \"opacity\": 0.25, \"type\": \"scattergeo\"}, {\"lat\": [40.0801010131836, 38.94449997], \"line\": {\"color\": \"red\", \"width\": 1}, \"lon\": [116.58499908447266, -77.45580292], \"mode\": \"lines\", \"opacity\": 0.16666666666666666, \"type\": \"scattergeo\"}, {\"lat\": [40.0801010131836, 29.98439979553223], \"line\": {\"color\": \"red\", \"width\": 1}, \"lon\": [116.58499908447266, -95.34140014648438], \"mode\": \"lines\", \"opacity\": 0.16666666666666666, \"type\": \"scattergeo\"}, {\"lat\": [40.0801010131836, 40.63980103], \"line\": {\"color\": \"red\", \"width\": 1}, \"lon\": [116.58499908447266, -73.77890015], \"mode\": \"lines\", \"opacity\": 0.25, \"type\": \"scattergeo\"}, {\"lat\": [40.0801010131836, 33.94250107], \"line\": {\"color\": \"red\", \"width\": 1}, \"lon\": [116.58499908447266, -118.40799709999999], \"mode\": \"lines\", \"opacity\": 0.25, \"type\": \"scattergeo\"}, {\"lat\": [40.0801010131836, 41.97859955], \"line\": {\"color\": \"red\", \"width\": 1}, \"lon\": [116.58499908447266, -87.90480042], \"mode\": \"lines\", \"opacity\": 0.4166666666666667, \"type\": \"scattergeo\"}, {\"lat\": [40.0801010131836, 47.44900131225586], \"line\": {\"color\": \"red\", \"width\": 1}, \"lon\": [116.58499908447266, -122.30899810791016], \"mode\": \"lines\", \"opacity\": 0.4166666666666667, \"type\": \"scattergeo\"}, {\"lat\": [40.0801010131836, 37.61899948120117], \"line\": {\"color\": \"red\", \"width\": 1}, \"lon\": [116.58499908447266, -122.375], \"mode\": \"lines\", \"opacity\": 0.25, \"type\": \"scattergeo\"}, {\"lat\": [21.77359962463379, 33.63669967651367], \"line\": {\"color\": \"red\", \"width\": 1}, \"lon\": [-72.26589965820312, -84.4281005859375], \"mode\": \"lines\", \"opacity\": 0.08333333333333333, \"type\": \"scattergeo\"}, {\"lat\": [21.77359962463379, 42.36429977], \"line\": {\"color\": \"red\", \"width\": 1}, \"lon\": [-72.26589965820312, -71.00520325], \"mode\": \"lines\", \"opacity\": 0.16666666666666666, \"type\": \"scattergeo\"}, {\"lat\": [21.77359962463379, 35.2140007019043], \"line\": {\"color\": \"red\", \"width\": 1}, \"lon\": [-72.26589965820312, -80.94309997558594], \"mode\": \"lines\", \"opacity\": 0.16666666666666666, \"type\": \"scattergeo\"}, {\"lat\": [21.77359962463379, 32.896800994873054], \"line\": {\"color\": \"red\", \"width\": 1}, \"lon\": [-72.26589965820312, -97.03800201416016], \"mode\": \"lines\", \"opacity\": 0.16666666666666666, \"type\": \"scattergeo\"}, {\"lat\": [21.77359962463379, 40.69250106811523], \"line\": {\"color\": \"red\", \"width\": 1}, \"lon\": [-72.26589965820312, -74.168701171875], \"mode\": \"lines\", \"opacity\": 0.08333333333333333, \"type\": \"scattergeo\"}, {\"lat\": [21.77359962463379, 40.63980103], \"line\": {\"color\": \"red\", \"width\": 1}, \"lon\": [-72.26589965820312, -73.77890015], \"mode\": \"lines\", \"opacity\": 0.16666666666666666, \"type\": \"scattergeo\"}, {\"lat\": [21.77359962463379, 25.79319953918457], \"line\": {\"color\": \"red\", \"width\": 1}, \"lon\": [-72.26589965820312, -80.29060363769531], \"mode\": \"lines\", \"opacity\": 0.16666666666666666, \"type\": \"scattergeo\"}, {\"lat\": [21.77359962463379, 39.87189865112305], \"line\": {\"color\": \"red\", \"width\": 1}, \"lon\": [-72.26589965820312, -75.24109649658203], \"mode\": \"lines\", \"opacity\": 0.16666666666666666, \"type\": \"scattergeo\"}, {\"lat\": [-29.994400024414066, 25.79319953918457], \"line\": {\"color\": \"red\", \"width\": 1}, \"lon\": [-51.1713981628418, -80.29060363769531], \"mode\": \"lines\", \"opacity\": 0.16666666666666666, \"type\": \"scattergeo\"}, {\"lat\": [19.75790023803711, 40.69250106811523], \"line\": {\"color\": \"red\", \"width\": 1}, \"lon\": [-70.56999969482422, -74.168701171875], \"mode\": \"lines\", \"opacity\": 0.08333333333333333, \"type\": \"scattergeo\"}, {\"lat\": [19.75790023803711, 40.63980103], \"line\": {\"color\": \"red\", \"width\": 1}, \"lon\": [-70.56999969482422, -73.77890015], \"mode\": \"lines\", \"opacity\": 0.08333333333333333, \"type\": \"scattergeo\"}, {\"lat\": [19.75790023803711, 25.79319953918457], \"line\": {\"color\": \"red\", \"width\": 1}, \"lon\": [-70.56999969482422, -80.29060363769531], \"mode\": \"lines\", \"opacity\": 0.16666666666666666, \"type\": \"scattergeo\"}, {\"lat\": [10.595399856567383, 40.69250106811523], \"line\": {\"color\": \"red\", \"width\": 1}, \"lon\": [-61.33720016479492, -74.168701171875], \"mode\": \"lines\", \"opacity\": 0.08333333333333333, \"type\": \"scattergeo\"}, {\"lat\": [10.595399856567383, 26.072599411010746], \"line\": {\"color\": \"red\", \"width\": 1}, \"lon\": [-61.33720016479492, -80.15270233154297], \"mode\": \"lines\", \"opacity\": 0.16666666666666666, \"type\": \"scattergeo\"}, {\"lat\": [10.595399856567383, 29.98439979553223], \"line\": {\"color\": \"red\", \"width\": 1}, \"lon\": [-61.33720016479492, -95.34140014648438], \"mode\": \"lines\", \"opacity\": 0.08333333333333333, \"type\": \"scattergeo\"}, {\"lat\": [10.595399856567383, 40.63980103], \"line\": {\"color\": \"red\", \"width\": 1}, \"lon\": [-61.33720016479492, -73.77890015], \"mode\": \"lines\", \"opacity\": 0.16666666666666666, \"type\": \"scattergeo\"}, {\"lat\": [10.595399856567383, 28.429399490356445], \"line\": {\"color\": \"red\", \"width\": 1}, \"lon\": [-61.33720016479492, -81.30899810791016], \"mode\": \"lines\", \"opacity\": 0.08333333333333333, \"type\": \"scattergeo\"}, {\"lat\": [10.595399856567383, 25.79319953918457], \"line\": {\"color\": \"red\", \"width\": 1}, \"lon\": [-61.33720016479492, -80.29060363769531], \"mode\": \"lines\", \"opacity\": 0.25, \"type\": \"scattergeo\"}, {\"lat\": [-14.3310003281, 21.318700790405273], \"line\": {\"color\": \"red\", \"width\": 1}, \"lon\": [-170.710006714, -157.9219970703125], \"mode\": \"lines\", \"opacity\": 0.08333333333333333, \"type\": \"scattergeo\"}, {\"lat\": [-17.5536994934, 21.318700790405273], \"line\": {\"color\": \"red\", \"width\": 1}, \"lon\": [-149.60699462899998, -157.9219970703125], \"mode\": \"lines\", \"opacity\": 0.08333333333333333, \"type\": \"scattergeo\"}, {\"lat\": [-17.5536994934, 33.94250107], \"line\": {\"color\": \"red\", \"width\": 1}, \"lon\": [-149.60699462899998, -118.40799709999999], \"mode\": \"lines\", \"opacity\": 0.5, \"type\": \"scattergeo\"}, {\"lat\": [18.00830078125, 40.63980103], \"line\": {\"color\": \"red\", \"width\": 1}, \"lon\": [-66.56300354003906, -73.77890015], \"mode\": \"lines\", \"opacity\": 0.08333333333333333, \"type\": \"scattergeo\"}, {\"lat\": [18.00830078125, 28.429399490356445], \"line\": {\"color\": \"red\", \"width\": 1}, \"lon\": [-66.56300354003906, -81.30899810791016], \"mode\": \"lines\", \"opacity\": 0.08333333333333333, \"type\": \"scattergeo\"}, {\"lat\": [16.265300750732422, 25.79319953918457], \"line\": {\"color\": \"red\", \"width\": 1}, \"lon\": [-61.53179931640625, -80.29060363769531], \"mode\": \"lines\", \"opacity\": 0.16666666666666666, \"type\": \"scattergeo\"}, {\"lat\": [9.0713596344, 33.63669967651367], \"line\": {\"color\": \"red\", \"width\": 1}, \"lon\": [-79.3834991455, -84.4281005859375], \"mode\": \"lines\", \"opacity\": 0.25, \"type\": \"scattergeo\"}, {\"lat\": [9.0713596344, 42.36429977], \"line\": {\"color\": \"red\", \"width\": 1}, \"lon\": [-79.3834991455, -71.00520325], \"mode\": \"lines\", \"opacity\": 0.16666666666666666, \"type\": \"scattergeo\"}, {\"lat\": [9.0713596344, 32.896800994873054], \"line\": {\"color\": \"red\", \"width\": 1}, \"lon\": [-79.3834991455, -97.03800201416016], \"mode\": \"lines\", \"opacity\": 0.16666666666666666, \"type\": \"scattergeo\"}, {\"lat\": [9.0713596344, 40.69250106811523], \"line\": {\"color\": \"red\", \"width\": 1}, \"lon\": [-79.3834991455, -74.168701171875], \"mode\": \"lines\", \"opacity\": 0.16666666666666666, \"type\": \"scattergeo\"}, {\"lat\": [9.0713596344, 26.072599411010746], \"line\": {\"color\": \"red\", \"width\": 1}, \"lon\": [-79.3834991455, -80.15270233154297], \"mode\": \"lines\", \"opacity\": 0.08333333333333333, \"type\": \"scattergeo\"}, {\"lat\": [9.0713596344, 38.94449997], \"line\": {\"color\": \"red\", \"width\": 1}, \"lon\": [-79.3834991455, -77.45580292], \"mode\": \"lines\", \"opacity\": 0.16666666666666666, \"type\": \"scattergeo\"}, {\"lat\": [9.0713596344, 29.98439979553223], \"line\": {\"color\": \"red\", \"width\": 1}, \"lon\": [-79.3834991455, -95.34140014648438], \"mode\": \"lines\", \"opacity\": 0.16666666666666666, \"type\": \"scattergeo\"}, {\"lat\": [9.0713596344, 40.63980103], \"line\": {\"color\": \"red\", \"width\": 1}, \"lon\": [-79.3834991455, -73.77890015], \"mode\": \"lines\", \"opacity\": 0.16666666666666666, \"type\": \"scattergeo\"}, {\"lat\": [9.0713596344, 36.08010101], \"line\": {\"color\": \"red\", \"width\": 1}, \"lon\": [-79.3834991455, -115.15200039999999], \"mode\": \"lines\", \"opacity\": 0.16666666666666666, \"type\": \"scattergeo\"}, {\"lat\": [9.0713596344, 33.94250107], \"line\": {\"color\": \"red\", \"width\": 1}, \"lon\": [-79.3834991455, -118.40799709999999], \"mode\": \"lines\", \"opacity\": 0.16666666666666666, \"type\": \"scattergeo\"}, {\"lat\": [9.0713596344, 28.429399490356445], \"line\": {\"color\": \"red\", \"width\": 1}, \"lon\": [-79.3834991455, -81.30899810791016], \"mode\": \"lines\", \"opacity\": 0.16666666666666666, \"type\": \"scattergeo\"}, {\"lat\": [9.0713596344, 25.79319953918457], \"line\": {\"color\": \"red\", \"width\": 1}, \"lon\": [-79.3834991455, -80.29060363769531], \"mode\": \"lines\", \"opacity\": 0.4166666666666667, \"type\": \"scattergeo\"}, {\"lat\": [9.0713596344, 41.97859955], \"line\": {\"color\": \"red\", \"width\": 1}, \"lon\": [-79.3834991455, -87.90480042], \"mode\": \"lines\", \"opacity\": 0.16666666666666666, \"type\": \"scattergeo\"}, {\"lat\": [9.0713596344, 27.975500106811523], \"line\": {\"color\": \"red\", \"width\": 1}, \"lon\": [-79.3834991455, -82.533203125], \"mode\": \"lines\", \"opacity\": 0.08333333333333333, \"type\": \"scattergeo\"}, {\"lat\": [18.567399978599997, 33.63669967651367], \"line\": {\"color\": \"red\", \"width\": 1}, \"lon\": [-68.36340332030001, -84.4281005859375], \"mode\": \"lines\", \"opacity\": 0.25, \"type\": \"scattergeo\"}, {\"lat\": [18.567399978599997, 42.36429977], \"line\": {\"color\": \"red\", \"width\": 1}, \"lon\": [-68.36340332030001, -71.00520325], \"mode\": \"lines\", \"opacity\": 0.08333333333333333, \"type\": \"scattergeo\"}, {\"lat\": [18.567399978599997, 39.17539978], \"line\": {\"color\": \"red\", \"width\": 1}, \"lon\": [-68.36340332030001, -76.66829681], \"mode\": \"lines\", \"opacity\": 0.08333333333333333, \"type\": \"scattergeo\"}, {\"lat\": [18.567399978599997, 41.411701202399996], \"line\": {\"color\": \"red\", \"width\": 1}, \"lon\": [-68.36340332030001, -81.8498001099], \"mode\": \"lines\", \"opacity\": 0.08333333333333333, \"type\": \"scattergeo\"}, {\"lat\": [18.567399978599997, 35.2140007019043], \"line\": {\"color\": \"red\", \"width\": 1}, \"lon\": [-68.36340332030001, -80.94309997558594], \"mode\": \"lines\", \"opacity\": 0.16666666666666666, \"type\": \"scattergeo\"}, {\"lat\": [18.567399978599997, 39.0488014221], \"line\": {\"color\": \"red\", \"width\": 1}, \"lon\": [-68.36340332030001, -84.6678009033], \"mode\": \"lines\", \"opacity\": 0.08333333333333333, \"type\": \"scattergeo\"}, {\"lat\": [18.567399978599997, 42.212398529052734], \"line\": {\"color\": \"red\", \"width\": 1}, \"lon\": [-68.36340332030001, -83.35340118408203], \"mode\": \"lines\", \"opacity\": 0.08333333333333333, \"type\": \"scattergeo\"}, {\"lat\": [18.567399978599997, 40.69250106811523], \"line\": {\"color\": \"red\", \"width\": 1}, \"lon\": [-68.36340332030001, -74.168701171875], \"mode\": \"lines\", \"opacity\": 0.08333333333333333, \"type\": \"scattergeo\"}, {\"lat\": [18.567399978599997, 26.072599411010746], \"line\": {\"color\": \"red\", \"width\": 1}, \"lon\": [-68.36340332030001, -80.15270233154297], \"mode\": \"lines\", \"opacity\": 0.16666666666666666, \"type\": \"scattergeo\"}, {\"lat\": [18.567399978599997, 38.94449997], \"line\": {\"color\": \"red\", \"width\": 1}, \"lon\": [-68.36340332030001, -77.45580292], \"mode\": \"lines\", \"opacity\": 0.08333333333333333, \"type\": \"scattergeo\"}, {\"lat\": [18.567399978599997, 40.63980103], \"line\": {\"color\": \"red\", \"width\": 1}, \"lon\": [-68.36340332030001, -73.77890015], \"mode\": \"lines\", \"opacity\": 0.16666666666666666, \"type\": \"scattergeo\"}, {\"lat\": [18.567399978599997, 41.7859992980957], \"line\": {\"color\": \"red\", \"width\": 1}, \"lon\": [-68.36340332030001, -87.75240325927734], \"mode\": \"lines\", \"opacity\": 0.08333333333333333, \"type\": \"scattergeo\"}, {\"lat\": [18.567399978599997, 25.79319953918457], \"line\": {\"color\": \"red\", \"width\": 1}, \"lon\": [-68.36340332030001, -80.29060363769531], \"mode\": \"lines\", \"opacity\": 0.3333333333333333, \"type\": \"scattergeo\"}, {\"lat\": [18.567399978599997, 44.8819999695], \"line\": {\"color\": \"red\", \"width\": 1}, \"lon\": [-68.36340332030001, -93.22180175780001], \"mode\": \"lines\", \"opacity\": 0.08333333333333333, \"type\": \"scattergeo\"}, {\"lat\": [18.567399978599997, 41.97859955], \"line\": {\"color\": \"red\", \"width\": 1}, \"lon\": [-68.36340332030001, -87.90480042], \"mode\": \"lines\", \"opacity\": 0.16666666666666666, \"type\": \"scattergeo\"}, {\"lat\": [18.567399978599997, 39.87189865112305], \"line\": {\"color\": \"red\", \"width\": 1}, \"lon\": [-68.36340332030001, -75.24109649658203], \"mode\": \"lines\", \"opacity\": 0.25, \"type\": \"scattergeo\"}, {\"lat\": [18.567399978599997, 40.49150085], \"line\": {\"color\": \"red\", \"width\": 1}, \"lon\": [-68.36340332030001, -80.23290253], \"mode\": \"lines\", \"opacity\": 0.16666666666666666, \"type\": \"scattergeo\"}, {\"lat\": [18.567399978599997, 38.74869918823242], \"line\": {\"color\": \"red\", \"width\": 1}, \"lon\": [-68.36340332030001, -90.37000274658205], \"mode\": \"lines\", \"opacity\": 0.08333333333333333, \"type\": \"scattergeo\"}, {\"lat\": [31.143400192260746, 42.212398529052734], \"line\": {\"color\": \"red\", \"width\": 1}, \"lon\": [121.80500030517578, -83.35340118408203], \"mode\": \"lines\", \"opacity\": 0.25, \"type\": \"scattergeo\"}, {\"lat\": [31.143400192260746, 40.69250106811523], \"line\": {\"color\": \"red\", \"width\": 1}, \"lon\": [121.80500030517578, -74.168701171875], \"mode\": \"lines\", \"opacity\": 0.16666666666666666, \"type\": \"scattergeo\"}, {\"lat\": [31.143400192260746, 21.318700790405273], \"line\": {\"color\": \"red\", \"width\": 1}, \"lon\": [121.80500030517578, -157.9219970703125], \"mode\": \"lines\", \"opacity\": 0.08333333333333333, \"type\": \"scattergeo\"}, {\"lat\": [31.143400192260746, 40.63980103], \"line\": {\"color\": \"red\", \"width\": 1}, \"lon\": [121.80500030517578, -73.77890015], \"mode\": \"lines\", \"opacity\": 0.16666666666666666, \"type\": \"scattergeo\"}, {\"lat\": [31.143400192260746, 33.94250107], \"line\": {\"color\": \"red\", \"width\": 1}, \"lon\": [121.80500030517578, -118.40799709999999], \"mode\": \"lines\", \"opacity\": 0.5, \"type\": \"scattergeo\"}, {\"lat\": [31.143400192260746, 41.97859955], \"line\": {\"color\": \"red\", \"width\": 1}, \"lon\": [121.80500030517578, -87.90480042], \"mode\": \"lines\", \"opacity\": 0.4166666666666667, \"type\": \"scattergeo\"}, {\"lat\": [31.143400192260746, 47.44900131225586], \"line\": {\"color\": \"red\", \"width\": 1}, \"lon\": [121.80500030517578, -122.30899810791016], \"mode\": \"lines\", \"opacity\": 0.16666666666666666, \"type\": \"scattergeo\"}, {\"lat\": [31.143400192260746, 37.61899948120117], \"line\": {\"color\": \"red\", \"width\": 1}, \"lon\": [121.80500030517578, -122.375], \"mode\": \"lines\", \"opacity\": 0.3333333333333333, \"type\": \"scattergeo\"}, {\"lat\": [20.680099487304688, 33.63669967651367], \"line\": {\"color\": \"red\", \"width\": 1}, \"lon\": [-105.25399780273438, -84.4281005859375], \"mode\": \"lines\", \"opacity\": 0.3333333333333333, \"type\": \"scattergeo\"}, {\"lat\": [20.680099487304688, 39.861698150635], \"line\": {\"color\": \"red\", \"width\": 1}, \"lon\": [-105.25399780273438, -104.672996521], \"mode\": \"lines\", \"opacity\": 0.16666666666666666, \"type\": \"scattergeo\"}, {\"lat\": [20.680099487304688, 32.896800994873054], \"line\": {\"color\": \"red\", \"width\": 1}, \"lon\": [-105.25399780273438, -97.03800201416016], \"mode\": \"lines\", \"opacity\": 0.16666666666666666, \"type\": \"scattergeo\"}, {\"lat\": [20.680099487304688, 40.69250106811523], \"line\": {\"color\": \"red\", \"width\": 1}, \"lon\": [-105.25399780273438, -74.168701171875], \"mode\": \"lines\", \"opacity\": 0.08333333333333333, \"type\": \"scattergeo\"}, {\"lat\": [20.680099487304688, 29.98439979553223], \"line\": {\"color\": \"red\", \"width\": 1}, \"lon\": [-105.25399780273438, -95.34140014648438], \"mode\": \"lines\", \"opacity\": 0.08333333333333333, \"type\": \"scattergeo\"}, {\"lat\": [20.680099487304688, 33.94250107], \"line\": {\"color\": \"red\", \"width\": 1}, \"lon\": [-105.25399780273438, -118.40799709999999], \"mode\": \"lines\", \"opacity\": 0.3333333333333333, \"type\": \"scattergeo\"}, {\"lat\": [20.680099487304688, 41.97859955], \"line\": {\"color\": \"red\", \"width\": 1}, \"lon\": [-105.25399780273438, -87.90480042], \"mode\": \"lines\", \"opacity\": 0.3333333333333333, \"type\": \"scattergeo\"}, {\"lat\": [20.680099487304688, 33.43429946899414], \"line\": {\"color\": \"red\", \"width\": 1}, \"lon\": [-105.25399780273438, -112.01200103759766], \"mode\": \"lines\", \"opacity\": 0.16666666666666666, \"type\": \"scattergeo\"}, {\"lat\": [20.680099487304688, 32.7336006165], \"line\": {\"color\": \"red\", \"width\": 1}, \"lon\": [-105.25399780273438, -117.190002441], \"mode\": \"lines\", \"opacity\": 0.25, \"type\": \"scattergeo\"}, {\"lat\": [20.680099487304688, 37.61899948120117], \"line\": {\"color\": \"red\", \"width\": 1}, \"lon\": [-105.25399780273438, -122.375], \"mode\": \"lines\", \"opacity\": 0.4166666666666667, \"type\": \"scattergeo\"}, {\"lat\": [20.680099487304688, 40.78839874267578], \"line\": {\"color\": \"red\", \"width\": 1}, \"lon\": [-105.25399780273438, -111.97799682617188], \"mode\": \"lines\", \"opacity\": 0.16666666666666666, \"type\": \"scattergeo\"}, {\"lat\": [20.680099487304688, 38.74869918823242], \"line\": {\"color\": \"red\", \"width\": 1}, \"lon\": [-105.25399780273438, -90.37000274658205], \"mode\": \"lines\", \"opacity\": 0.08333333333333333, \"type\": \"scattergeo\"}, {\"lat\": [20.6173000336, 32.896800994873054], \"line\": {\"color\": \"red\", \"width\": 1}, \"lon\": [-100.18599700899999, -97.03800201416016], \"mode\": \"lines\", \"opacity\": 0.16666666666666666, \"type\": \"scattergeo\"}, {\"lat\": [20.6173000336, 29.98439979553223], \"line\": {\"color\": \"red\", \"width\": 1}, \"lon\": [-100.18599700899999, -95.34140014648438], \"mode\": \"lines\", \"opacity\": 0.08333333333333333, \"type\": \"scattergeo\"}, {\"lat\": [14.924500465393065, 42.36429977], \"line\": {\"color\": \"red\", \"width\": 1}, \"lon\": [-23.49349975585937, -71.00520325], \"mode\": \"lines\", \"opacity\": 0.08333333333333333, \"type\": \"scattergeo\"}, {\"lat\": [-21.202699661300002, 33.94250107], \"line\": {\"color\": \"red\", \"width\": 1}, \"lon\": [-159.805999756, -118.40799709999999], \"mode\": \"lines\", \"opacity\": 0.16666666666666666, \"type\": \"scattergeo\"}, {\"lat\": [-8.126489639282228, 25.79319953918457], \"line\": {\"color\": \"red\", \"width\": 1}, \"lon\": [-34.923599243164055, -80.29060363769531], \"mode\": \"lines\", \"opacity\": 0.25, \"type\": \"scattergeo\"}, {\"lat\": [56.92359924316406, 40.63980103], \"line\": {\"color\": \"red\", \"width\": 1}, \"lon\": [23.971099853515625, -73.77890015], \"mode\": \"lines\", \"opacity\": 0.08333333333333333, \"type\": \"scattergeo\"}, {\"lat\": [16.316799, 33.63669967651367], \"line\": {\"color\": \"red\", \"width\": 1}, \"lon\": [-86.523003, -84.4281005859375], \"mode\": \"lines\", \"opacity\": 0.08333333333333333, \"type\": \"scattergeo\"}, {\"lat\": [16.316799, 32.896800994873054], \"line\": {\"color\": \"red\", \"width\": 1}, \"lon\": [-86.523003, -97.03800201416016], \"mode\": \"lines\", \"opacity\": 0.16666666666666666, \"type\": \"scattergeo\"}, {\"lat\": [16.316799, 29.98439979553223], \"line\": {\"color\": \"red\", \"width\": 1}, \"lon\": [-86.523003, -95.34140014648438], \"mode\": \"lines\", \"opacity\": 0.08333333333333333, \"type\": \"scattergeo\"}, {\"lat\": [16.316799, 25.79319953918457], \"line\": {\"color\": \"red\", \"width\": 1}, \"lon\": [-86.523003, -80.29060363769531], \"mode\": \"lines\", \"opacity\": 0.16666666666666666, \"type\": \"scattergeo\"}, {\"lat\": [24.957599639892575, 38.94449997], \"line\": {\"color\": \"red\", \"width\": 1}, \"lon\": [46.69879913330078, -77.45580292], \"mode\": \"lines\", \"opacity\": 0.08333333333333333, \"type\": \"scattergeo\"}, {\"lat\": [24.957599639892575, 40.63980103], \"line\": {\"color\": \"red\", \"width\": 1}, \"lon\": [46.69879913330078, -73.77890015], \"mode\": \"lines\", \"opacity\": 0.08333333333333333, \"type\": \"scattergeo\"}, {\"lat\": [13.4409, 33.63669967651367], \"line\": {\"color\": \"red\", \"width\": 1}, \"lon\": [-89.055702, -84.4281005859375], \"mode\": \"lines\", \"opacity\": 0.08333333333333333, \"type\": \"scattergeo\"}, {\"lat\": [13.4409, 32.896800994873054], \"line\": {\"color\": \"red\", \"width\": 1}, \"lon\": [-89.055702, -97.03800201416016], \"mode\": \"lines\", \"opacity\": 0.3333333333333333, \"type\": \"scattergeo\"}, {\"lat\": [13.4409, 40.69250106811523], \"line\": {\"color\": \"red\", \"width\": 1}, \"lon\": [-89.055702, -74.168701171875], \"mode\": \"lines\", \"opacity\": 0.16666666666666666, \"type\": \"scattergeo\"}, {\"lat\": [13.4409, 26.072599411010746], \"line\": {\"color\": \"red\", \"width\": 1}, \"lon\": [-89.055702, -80.15270233154297], \"mode\": \"lines\", \"opacity\": 0.08333333333333333, \"type\": \"scattergeo\"}, {\"lat\": [13.4409, 38.94449997], \"line\": {\"color\": \"red\", \"width\": 1}, \"lon\": [-89.055702, -77.45580292], \"mode\": \"lines\", \"opacity\": 0.16666666666666666, \"type\": \"scattergeo\"}, {\"lat\": [13.4409, 29.98439979553223], \"line\": {\"color\": \"red\", \"width\": 1}, \"lon\": [-89.055702, -95.34140014648438], \"mode\": \"lines\", \"opacity\": 0.25, \"type\": \"scattergeo\"}, {\"lat\": [13.4409, 40.63980103], \"line\": {\"color\": \"red\", \"width\": 1}, \"lon\": [-89.055702, -73.77890015], \"mode\": \"lines\", \"opacity\": 0.25, \"type\": \"scattergeo\"}, {\"lat\": [13.4409, 33.94250107], \"line\": {\"color\": \"red\", \"width\": 1}, \"lon\": [-89.055702, -118.40799709999999], \"mode\": \"lines\", \"opacity\": 0.25, \"type\": \"scattergeo\"}, {\"lat\": [13.4409, 28.429399490356445], \"line\": {\"color\": \"red\", \"width\": 1}, \"lon\": [-89.055702, -81.30899810791016], \"mode\": \"lines\", \"opacity\": 0.16666666666666666, \"type\": \"scattergeo\"}, {\"lat\": [13.4409, 25.79319953918457], \"line\": {\"color\": \"red\", \"width\": 1}, \"lon\": [-89.055702, -80.29060363769531], \"mode\": \"lines\", \"opacity\": 0.3333333333333333, \"type\": \"scattergeo\"}, {\"lat\": [13.4409, 41.97859955], \"line\": {\"color\": \"red\", \"width\": 1}, \"lon\": [-89.055702, -87.90480042], \"mode\": \"lines\", \"opacity\": 0.08333333333333333, \"type\": \"scattergeo\"}, {\"lat\": [13.4409, 37.61899948120117], \"line\": {\"color\": \"red\", \"width\": 1}, \"lon\": [-89.055702, -122.375], \"mode\": \"lines\", \"opacity\": 0.25, \"type\": \"scattergeo\"}, {\"lat\": [15.45259952545166, 33.63669967651367], \"line\": {\"color\": \"red\", \"width\": 1}, \"lon\": [-87.92359924316406, -84.4281005859375], \"mode\": \"lines\", \"opacity\": 0.08333333333333333, \"type\": \"scattergeo\"}, {\"lat\": [15.45259952545166, 40.69250106811523], \"line\": {\"color\": \"red\", \"width\": 1}, \"lon\": [-87.92359924316406, -74.168701171875], \"mode\": \"lines\", \"opacity\": 0.08333333333333333, \"type\": \"scattergeo\"}, {\"lat\": [15.45259952545166, 26.072599411010746], \"line\": {\"color\": \"red\", \"width\": 1}, \"lon\": [-87.92359924316406, -80.15270233154297], \"mode\": \"lines\", \"opacity\": 0.08333333333333333, \"type\": \"scattergeo\"}, {\"lat\": [15.45259952545166, 29.98439979553223], \"line\": {\"color\": \"red\", \"width\": 1}, \"lon\": [-87.92359924316406, -95.34140014648438], \"mode\": \"lines\", \"opacity\": 0.08333333333333333, \"type\": \"scattergeo\"}, {\"lat\": [15.45259952545166, 40.63980103], \"line\": {\"color\": \"red\", \"width\": 1}, \"lon\": [-87.92359924316406, -73.77890015], \"mode\": \"lines\", \"opacity\": 0.08333333333333333, \"type\": \"scattergeo\"}, {\"lat\": [15.45259952545166, 25.79319953918457], \"line\": {\"color\": \"red\", \"width\": 1}, \"lon\": [-87.92359924316406, -80.29060363769531], \"mode\": \"lines\", \"opacity\": 0.3333333333333333, \"type\": \"scattergeo\"}, {\"lat\": [-33.393001556396484, 33.63669967651367], \"line\": {\"color\": \"red\", \"width\": 1}, \"lon\": [-70.78579711914062, -84.4281005859375], \"mode\": \"lines\", \"opacity\": 0.16666666666666666, \"type\": \"scattergeo\"}, {\"lat\": [-33.393001556396484, 32.896800994873054], \"line\": {\"color\": \"red\", \"width\": 1}, \"lon\": [-70.78579711914062, -97.03800201416016], \"mode\": \"lines\", \"opacity\": 0.25, \"type\": \"scattergeo\"}, {\"lat\": [-33.393001556396484, 40.63980103], \"line\": {\"color\": \"red\", \"width\": 1}, \"lon\": [-70.78579711914062, -73.77890015], \"mode\": \"lines\", \"opacity\": 0.16666666666666666, \"type\": \"scattergeo\"}, {\"lat\": [-33.393001556396484, 25.79319953918457], \"line\": {\"color\": \"red\", \"width\": 1}, \"lon\": [-70.78579711914062, -80.29060363769531], \"mode\": \"lines\", \"opacity\": 0.25, \"type\": \"scattergeo\"}, {\"lat\": [18.42970085144, 33.63669967651367], \"line\": {\"color\": \"red\", \"width\": 1}, \"lon\": [-69.668899536133, -84.4281005859375], \"mode\": \"lines\", \"opacity\": 0.08333333333333333, \"type\": \"scattergeo\"}, {\"lat\": [18.42970085144, 42.36429977], \"line\": {\"color\": \"red\", \"width\": 1}, \"lon\": [-69.668899536133, -71.00520325], \"mode\": \"lines\", \"opacity\": 0.08333333333333333, \"type\": \"scattergeo\"}, {\"lat\": [18.42970085144, 40.69250106811523], \"line\": {\"color\": \"red\", \"width\": 1}, \"lon\": [-69.668899536133, -74.168701171875], \"mode\": \"lines\", \"opacity\": 0.08333333333333333, \"type\": \"scattergeo\"}, {\"lat\": [18.42970085144, 26.072599411010746], \"line\": {\"color\": \"red\", \"width\": 1}, \"lon\": [-69.668899536133, -80.15270233154297], \"mode\": \"lines\", \"opacity\": 0.16666666666666666, \"type\": \"scattergeo\"}, {\"lat\": [18.42970085144, 40.63980103], \"line\": {\"color\": \"red\", \"width\": 1}, \"lon\": [-69.668899536133, -73.77890015], \"mode\": \"lines\", \"opacity\": 0.16666666666666666, \"type\": \"scattergeo\"}, {\"lat\": [18.42970085144, 28.429399490356445], \"line\": {\"color\": \"red\", \"width\": 1}, \"lon\": [-69.668899536133, -81.30899810791016], \"mode\": \"lines\", \"opacity\": 0.25, \"type\": \"scattergeo\"}, {\"lat\": [18.42970085144, 25.79319953918457], \"line\": {\"color\": \"red\", \"width\": 1}, \"lon\": [-69.668899536133, -80.29060363769531], \"mode\": \"lines\", \"opacity\": 0.3333333333333333, \"type\": \"scattergeo\"}, {\"lat\": [18.42970085144, 39.87189865112305], \"line\": {\"color\": \"red\", \"width\": 1}, \"lon\": [-69.668899536133, -75.24109649658203], \"mode\": \"lines\", \"opacity\": 0.16666666666666666, \"type\": \"scattergeo\"}, {\"lat\": [23.15180015563965, 33.63669967651367], \"line\": {\"color\": \"red\", \"width\": 1}, \"lon\": [-109.72100067138672, -84.4281005859375], \"mode\": \"lines\", \"opacity\": 0.4166666666666667, \"type\": \"scattergeo\"}, {\"lat\": [23.15180015563965, 35.2140007019043], \"line\": {\"color\": \"red\", \"width\": 1}, \"lon\": [-109.72100067138672, -80.94309997558594], \"mode\": \"lines\", \"opacity\": 0.16666666666666666, \"type\": \"scattergeo\"}, {\"lat\": [23.15180015563965, 39.861698150635], \"line\": {\"color\": \"red\", \"width\": 1}, \"lon\": [-109.72100067138672, -104.672996521], \"mode\": \"lines\", \"opacity\": 0.25, \"type\": \"scattergeo\"}, {\"lat\": [23.15180015563965, 32.896800994873054], \"line\": {\"color\": \"red\", \"width\": 1}, \"lon\": [-109.72100067138672, -97.03800201416016], \"mode\": \"lines\", \"opacity\": 0.25, \"type\": \"scattergeo\"}, {\"lat\": [23.15180015563965, 40.69250106811523], \"line\": {\"color\": \"red\", \"width\": 1}, \"lon\": [-109.72100067138672, -74.168701171875], \"mode\": \"lines\", \"opacity\": 0.08333333333333333, \"type\": \"scattergeo\"}, {\"lat\": [23.15180015563965, 29.98439979553223], \"line\": {\"color\": \"red\", \"width\": 1}, \"lon\": [-109.72100067138672, -95.34140014648438], \"mode\": \"lines\", \"opacity\": 0.08333333333333333, \"type\": \"scattergeo\"}, {\"lat\": [23.15180015563965, 33.94250107], \"line\": {\"color\": \"red\", \"width\": 1}, \"lon\": [-109.72100067138672, -118.40799709999999], \"mode\": \"lines\", \"opacity\": 0.4166666666666667, \"type\": \"scattergeo\"}, {\"lat\": [23.15180015563965, 41.97859955], \"line\": {\"color\": \"red\", \"width\": 1}, \"lon\": [-109.72100067138672, -87.90480042], \"mode\": \"lines\", \"opacity\": 0.3333333333333333, \"type\": \"scattergeo\"}, {\"lat\": [23.15180015563965, 33.43429946899414], \"line\": {\"color\": \"red\", \"width\": 1}, \"lon\": [-109.72100067138672, -112.01200103759766], \"mode\": \"lines\", \"opacity\": 0.16666666666666666, \"type\": \"scattergeo\"}, {\"lat\": [23.15180015563965, 32.7336006165], \"line\": {\"color\": \"red\", \"width\": 1}, \"lon\": [-109.72100067138672, -117.190002441], \"mode\": \"lines\", \"opacity\": 0.16666666666666666, \"type\": \"scattergeo\"}, {\"lat\": [23.15180015563965, 37.61899948120117], \"line\": {\"color\": \"red\", \"width\": 1}, \"lon\": [-109.72100067138672, -122.375], \"mode\": \"lines\", \"opacity\": 0.3333333333333333, \"type\": \"scattergeo\"}, {\"lat\": [23.15180015563965, 37.36259841918945], \"line\": {\"color\": \"red\", \"width\": 1}, \"lon\": [-109.72100067138672, -121.9290008544922], \"mode\": \"lines\", \"opacity\": 0.16666666666666666, \"type\": \"scattergeo\"}, {\"lat\": [23.15180015563965, 40.78839874267578], \"line\": {\"color\": \"red\", \"width\": 1}, \"lon\": [-109.72100067138672, -111.97799682617188], \"mode\": \"lines\", \"opacity\": 0.16666666666666666, \"type\": \"scattergeo\"}, {\"lat\": [23.15180015563965, 33.67570114], \"line\": {\"color\": \"red\", \"width\": 1}, \"lon\": [-109.72100067138672, -117.86799620000001], \"mode\": \"lines\", \"opacity\": 0.08333333333333333, \"type\": \"scattergeo\"}, {\"lat\": [9.993860244750977, 33.63669967651367], \"line\": {\"color\": \"red\", \"width\": 1}, \"lon\": [-84.20880126953125, -84.4281005859375], \"mode\": \"lines\", \"opacity\": 0.16666666666666666, \"type\": \"scattergeo\"}, {\"lat\": [9.993860244750977, 35.2140007019043], \"line\": {\"color\": \"red\", \"width\": 1}, \"lon\": [-84.20880126953125, -80.94309997558594], \"mode\": \"lines\", \"opacity\": 0.25, \"type\": \"scattergeo\"}, {\"lat\": [9.993860244750977, 39.861698150635], \"line\": {\"color\": \"red\", \"width\": 1}, \"lon\": [-84.20880126953125, -104.672996521], \"mode\": \"lines\", \"opacity\": 0.08333333333333333, \"type\": \"scattergeo\"}, {\"lat\": [9.993860244750977, 32.896800994873054], \"line\": {\"color\": \"red\", \"width\": 1}, \"lon\": [-84.20880126953125, -97.03800201416016], \"mode\": \"lines\", \"opacity\": 0.16666666666666666, \"type\": \"scattergeo\"}, {\"lat\": [9.993860244750977, 40.69250106811523], \"line\": {\"color\": \"red\", \"width\": 1}, \"lon\": [-84.20880126953125, -74.168701171875], \"mode\": \"lines\", \"opacity\": 0.08333333333333333, \"type\": \"scattergeo\"}, {\"lat\": [9.993860244750977, 26.072599411010746], \"line\": {\"color\": \"red\", \"width\": 1}, \"lon\": [-84.20880126953125, -80.15270233154297], \"mode\": \"lines\", \"opacity\": 0.16666666666666666, \"type\": \"scattergeo\"}, {\"lat\": [9.993860244750977, 38.94449997], \"line\": {\"color\": \"red\", \"width\": 1}, \"lon\": [-84.20880126953125, -77.45580292], \"mode\": \"lines\", \"opacity\": 0.08333333333333333, \"type\": \"scattergeo\"}, {\"lat\": [9.993860244750977, 29.98439979553223], \"line\": {\"color\": \"red\", \"width\": 1}, \"lon\": [-84.20880126953125, -95.34140014648438], \"mode\": \"lines\", \"opacity\": 0.08333333333333333, \"type\": \"scattergeo\"}, {\"lat\": [9.993860244750977, 40.63980103], \"line\": {\"color\": \"red\", \"width\": 1}, \"lon\": [-84.20880126953125, -73.77890015], \"mode\": \"lines\", \"opacity\": 0.25, \"type\": \"scattergeo\"}, {\"lat\": [9.993860244750977, 33.94250107], \"line\": {\"color\": \"red\", \"width\": 1}, \"lon\": [-84.20880126953125, -118.40799709999999], \"mode\": \"lines\", \"opacity\": 0.08333333333333333, \"type\": \"scattergeo\"}, {\"lat\": [9.993860244750977, 28.429399490356445], \"line\": {\"color\": \"red\", \"width\": 1}, \"lon\": [-84.20880126953125, -81.30899810791016], \"mode\": \"lines\", \"opacity\": 0.08333333333333333, \"type\": \"scattergeo\"}, {\"lat\": [9.993860244750977, 25.79319953918457], \"line\": {\"color\": \"red\", \"width\": 1}, \"lon\": [-84.20880126953125, -80.29060363769531], \"mode\": \"lines\", \"opacity\": 0.25, \"type\": \"scattergeo\"}, {\"lat\": [9.993860244750977, 41.97859955], \"line\": {\"color\": \"red\", \"width\": 1}, \"lon\": [-84.20880126953125, -87.90480042], \"mode\": \"lines\", \"opacity\": 0.08333333333333333, \"type\": \"scattergeo\"}, {\"lat\": [18.4393997192, 33.63669967651367], \"line\": {\"color\": \"red\", \"width\": 1}, \"lon\": [-66.0018005371, -84.4281005859375], \"mode\": \"lines\", \"opacity\": 0.6666666666666666, \"type\": \"scattergeo\"}, {\"lat\": [18.4393997192, 41.9388999939], \"line\": {\"color\": \"red\", \"width\": 1}, \"lon\": [-66.0018005371, -72.68319702149999], \"mode\": \"lines\", \"opacity\": 0.08333333333333333, \"type\": \"scattergeo\"}, {\"lat\": [18.4393997192, 42.36429977], \"line\": {\"color\": \"red\", \"width\": 1}, \"lon\": [-66.0018005371, -71.00520325], \"mode\": \"lines\", \"opacity\": 0.08333333333333333, \"type\": \"scattergeo\"}, {\"lat\": [18.4393997192, 39.17539978], \"line\": {\"color\": \"red\", \"width\": 1}, \"lon\": [-66.0018005371, -76.66829681], \"mode\": \"lines\", \"opacity\": 0.08333333333333333, \"type\": \"scattergeo\"}, {\"lat\": [18.4393997192, 35.2140007019043], \"line\": {\"color\": \"red\", \"width\": 1}, \"lon\": [-66.0018005371, -80.94309997558594], \"mode\": \"lines\", \"opacity\": 0.16666666666666666, \"type\": \"scattergeo\"}, {\"lat\": [18.4393997192, 38.8521], \"line\": {\"color\": \"red\", \"width\": 1}, \"lon\": [-66.0018005371, -77.037697], \"mode\": \"lines\", \"opacity\": 0.08333333333333333, \"type\": \"scattergeo\"}, {\"lat\": [18.4393997192, 32.896800994873054], \"line\": {\"color\": \"red\", \"width\": 1}, \"lon\": [-66.0018005371, -97.03800201416016], \"mode\": \"lines\", \"opacity\": 0.16666666666666666, \"type\": \"scattergeo\"}, {\"lat\": [18.4393997192, 42.212398529052734], \"line\": {\"color\": \"red\", \"width\": 1}, \"lon\": [-66.0018005371, -83.35340118408203], \"mode\": \"lines\", \"opacity\": 0.08333333333333333, \"type\": \"scattergeo\"}, {\"lat\": [18.4393997192, 40.69250106811523], \"line\": {\"color\": \"red\", \"width\": 1}, \"lon\": [-66.0018005371, -74.168701171875], \"mode\": \"lines\", \"opacity\": 0.16666666666666666, \"type\": \"scattergeo\"}, {\"lat\": [18.4393997192, 26.072599411010746], \"line\": {\"color\": \"red\", \"width\": 1}, \"lon\": [-66.0018005371, -80.15270233154297], \"mode\": \"lines\", \"opacity\": 0.3333333333333333, \"type\": \"scattergeo\"}, {\"lat\": [18.4393997192, 38.94449997], \"line\": {\"color\": \"red\", \"width\": 1}, \"lon\": [-66.0018005371, -77.45580292], \"mode\": \"lines\", \"opacity\": 0.08333333333333333, \"type\": \"scattergeo\"}, {\"lat\": [18.4393997192, 29.98439979553223], \"line\": {\"color\": \"red\", \"width\": 1}, \"lon\": [-66.0018005371, -95.34140014648438], \"mode\": \"lines\", \"opacity\": 0.08333333333333333, \"type\": \"scattergeo\"}, {\"lat\": [18.4393997192, 30.49410057067871], \"line\": {\"color\": \"red\", \"width\": 1}, \"lon\": [-66.0018005371, -81.68789672851562], \"mode\": \"lines\", \"opacity\": 0.08333333333333333, \"type\": \"scattergeo\"}, {\"lat\": [18.4393997192, 40.63980103], \"line\": {\"color\": \"red\", \"width\": 1}, \"lon\": [-66.0018005371, -73.77890015], \"mode\": \"lines\", \"opacity\": 0.4166666666666667, \"type\": \"scattergeo\"}, {\"lat\": [18.4393997192, 28.429399490356445], \"line\": {\"color\": \"red\", \"width\": 1}, \"lon\": [-66.0018005371, -81.30899810791016], \"mode\": \"lines\", \"opacity\": 0.3333333333333333, \"type\": \"scattergeo\"}, {\"lat\": [18.4393997192, 25.79319953918457], \"line\": {\"color\": \"red\", \"width\": 1}, \"lon\": [-66.0018005371, -80.29060363769531], \"mode\": \"lines\", \"opacity\": 0.16666666666666666, \"type\": \"scattergeo\"}, {\"lat\": [18.4393997192, 34.05599975585937], \"line\": {\"color\": \"red\", \"width\": 1}, \"lon\": [-66.0018005371, -117.60099792480469], \"mode\": \"lines\", \"opacity\": 0.08333333333333333, \"type\": \"scattergeo\"}, {\"lat\": [18.4393997192, 41.97859955], \"line\": {\"color\": \"red\", \"width\": 1}, \"lon\": [-66.0018005371, -87.90480042], \"mode\": \"lines\", \"opacity\": 0.3333333333333333, \"type\": \"scattergeo\"}, {\"lat\": [18.4393997192, 26.68320083618164], \"line\": {\"color\": \"red\", \"width\": 1}, \"lon\": [-66.0018005371, -80.09559631347656], \"mode\": \"lines\", \"opacity\": 0.08333333333333333, \"type\": \"scattergeo\"}, {\"lat\": [18.4393997192, 39.87189865112305], \"line\": {\"color\": \"red\", \"width\": 1}, \"lon\": [-66.0018005371, -75.24109649658203], \"mode\": \"lines\", \"opacity\": 0.16666666666666666, \"type\": \"scattergeo\"}, {\"lat\": [18.4393997192, 27.975500106811523], \"line\": {\"color\": \"red\", \"width\": 1}, \"lon\": [-66.0018005371, -82.533203125], \"mode\": \"lines\", \"opacity\": 0.16666666666666666, \"type\": \"scattergeo\"}, {\"lat\": [17.311199188232422, 25.79319953918457], \"line\": {\"color\": \"red\", \"width\": 1}, \"lon\": [-62.71870040893555, -80.29060363769531], \"mode\": \"lines\", \"opacity\": 0.16666666666666666, \"type\": \"scattergeo\"}, {\"lat\": [22.254299163800006, 32.896800994873054], \"line\": {\"color\": \"red\", \"width\": 1}, \"lon\": [-100.930999756, -97.03800201416016], \"mode\": \"lines\", \"opacity\": 0.16666666666666666, \"type\": \"scattergeo\"}, {\"lat\": [22.254299163800006, 29.98439979553223], \"line\": {\"color\": \"red\", \"width\": 1}, \"lon\": [-100.930999756, -95.34140014648438], \"mode\": \"lines\", \"opacity\": 0.08333333333333333, \"type\": \"scattergeo\"}, {\"lat\": [22.254299163800006, 26.17580032], \"line\": {\"color\": \"red\", \"width\": 1}, \"lon\": [-100.930999756, -98.23860168], \"mode\": \"lines\", \"opacity\": 0.08333333333333333, \"type\": \"scattergeo\"}, {\"lat\": [25.54949951171875, 29.98439979553223], \"line\": {\"color\": \"red\", \"width\": 1}, \"lon\": [-100.9290008544922, -95.34140014648438], \"mode\": \"lines\", \"opacity\": 0.08333333333333333, \"type\": \"scattergeo\"}, {\"lat\": [52.701999664307, 42.36429977], \"line\": {\"color\": \"red\", \"width\": 1}, \"lon\": [-8.9248199462891, -71.00520325], \"mode\": \"lines\", \"opacity\": 0.08333333333333333, \"type\": \"scattergeo\"}, {\"lat\": [52.701999664307, 40.69250106811523], \"line\": {\"color\": \"red\", \"width\": 1}, \"lon\": [-8.9248199462891, -74.168701171875], \"mode\": \"lines\", \"opacity\": 0.16666666666666666, \"type\": \"scattergeo\"}, {\"lat\": [52.701999664307, 40.63980103], \"line\": {\"color\": \"red\", \"width\": 1}, \"lon\": [-8.9248199462891, -73.77890015], \"mode\": \"lines\", \"opacity\": 0.08333333333333333, \"type\": \"scattergeo\"}, {\"lat\": [-12.9086112976, 25.79319953918457], \"line\": {\"color\": \"red\", \"width\": 1}, \"lon\": [-38.3224983215, -80.29060363769531], \"mode\": \"lines\", \"opacity\": 0.25, \"type\": \"scattergeo\"}, {\"lat\": [19.406099319458008, 42.36429977], \"line\": {\"color\": \"red\", \"width\": 1}, \"lon\": [-70.60469818115234, -71.00520325], \"mode\": \"lines\", \"opacity\": 0.08333333333333333, \"type\": \"scattergeo\"}, {\"lat\": [19.406099319458008, 40.69250106811523], \"line\": {\"color\": \"red\", \"width\": 1}, \"lon\": [-70.60469818115234, -74.168701171875], \"mode\": \"lines\", \"opacity\": 0.08333333333333333, \"type\": \"scattergeo\"}, {\"lat\": [19.406099319458008, 26.072599411010746], \"line\": {\"color\": \"red\", \"width\": 1}, \"lon\": [-70.60469818115234, -80.15270233154297], \"mode\": \"lines\", \"opacity\": 0.08333333333333333, \"type\": \"scattergeo\"}, {\"lat\": [19.406099319458008, 40.63980103], \"line\": {\"color\": \"red\", \"width\": 1}, \"lon\": [-70.60469818115234, -73.77890015], \"mode\": \"lines\", \"opacity\": 0.16666666666666666, \"type\": \"scattergeo\"}, {\"lat\": [19.406099319458008, 25.79319953918457], \"line\": {\"color\": \"red\", \"width\": 1}, \"lon\": [-70.60469818115234, -80.29060363769531], \"mode\": \"lines\", \"opacity\": 0.16666666666666666, \"type\": \"scattergeo\"}, {\"lat\": [48.6898994446, 33.63669967651367], \"line\": {\"color\": \"red\", \"width\": 1}, \"lon\": [9.22196006775, -84.4281005859375], \"mode\": \"lines\", \"opacity\": 0.25, \"type\": \"scattergeo\"}, {\"lat\": [48.6898994446, 40.69250106811523], \"line\": {\"color\": \"red\", \"width\": 1}, \"lon\": [9.22196006775, -74.168701171875], \"mode\": \"lines\", \"opacity\": 0.16666666666666666, \"type\": \"scattergeo\"}, {\"lat\": [18.337299346923828, 33.63669967651367], \"line\": {\"color\": \"red\", \"width\": 1}, \"lon\": [-64.97339630126953, -84.4281005859375], \"mode\": \"lines\", \"opacity\": 0.25, \"type\": \"scattergeo\"}, {\"lat\": [18.337299346923828, 35.2140007019043], \"line\": {\"color\": \"red\", \"width\": 1}, \"lon\": [-64.97339630126953, -80.94309997558594], \"mode\": \"lines\", \"opacity\": 0.16666666666666666, \"type\": \"scattergeo\"}, {\"lat\": [18.337299346923828, 40.69250106811523], \"line\": {\"color\": \"red\", \"width\": 1}, \"lon\": [-64.97339630126953, -74.168701171875], \"mode\": \"lines\", \"opacity\": 0.08333333333333333, \"type\": \"scattergeo\"}, {\"lat\": [18.337299346923828, 26.072599411010746], \"line\": {\"color\": \"red\", \"width\": 1}, \"lon\": [-64.97339630126953, -80.15270233154297], \"mode\": \"lines\", \"opacity\": 0.08333333333333333, \"type\": \"scattergeo\"}, {\"lat\": [18.337299346923828, 38.94449997], \"line\": {\"color\": \"red\", \"width\": 1}, \"lon\": [-64.97339630126953, -77.45580292], \"mode\": \"lines\", \"opacity\": 0.08333333333333333, \"type\": \"scattergeo\"}, {\"lat\": [18.337299346923828, 40.63980103], \"line\": {\"color\": \"red\", \"width\": 1}, \"lon\": [-64.97339630126953, -73.77890015], \"mode\": \"lines\", \"opacity\": 0.3333333333333333, \"type\": \"scattergeo\"}, {\"lat\": [18.337299346923828, 25.79319953918457], \"line\": {\"color\": \"red\", \"width\": 1}, \"lon\": [-64.97339630126953, -80.29060363769531], \"mode\": \"lines\", \"opacity\": 0.25, \"type\": \"scattergeo\"}, {\"lat\": [18.337299346923828, 41.97859955], \"line\": {\"color\": \"red\", \"width\": 1}, \"lon\": [-64.97339630126953, -87.90480042], \"mode\": \"lines\", \"opacity\": 0.08333333333333333, \"type\": \"scattergeo\"}, {\"lat\": [18.337299346923828, 39.87189865112305], \"line\": {\"color\": \"red\", \"width\": 1}, \"lon\": [-64.97339630126953, -75.24109649658203], \"mode\": \"lines\", \"opacity\": 0.16666666666666666, \"type\": \"scattergeo\"}, {\"lat\": [17.701900482177734, 25.79319953918457], \"line\": {\"color\": \"red\", \"width\": 1}, \"lon\": [-64.79859924316406, -80.29060363769531], \"mode\": \"lines\", \"opacity\": 0.16666666666666666, \"type\": \"scattergeo\"}, {\"lat\": [55.972599, 38.94449997], \"line\": {\"color\": \"red\", \"width\": 1}, \"lon\": [37.4146, -77.45580292], \"mode\": \"lines\", \"opacity\": 0.16666666666666666, \"type\": \"scattergeo\"}, {\"lat\": [55.972599, 40.63980103], \"line\": {\"color\": \"red\", \"width\": 1}, \"lon\": [37.4146, -73.77890015], \"mode\": \"lines\", \"opacity\": 0.16666666666666666, \"type\": \"scattergeo\"}, {\"lat\": [55.972599, 33.94250107], \"line\": {\"color\": \"red\", \"width\": 1}, \"lon\": [37.4146, -118.40799709999999], \"mode\": \"lines\", \"opacity\": 0.16666666666666666, \"type\": \"scattergeo\"}, {\"lat\": [55.972599, 25.79319953918457], \"line\": {\"color\": \"red\", \"width\": 1}, \"lon\": [37.4146, -80.29060363769531], \"mode\": \"lines\", \"opacity\": 0.16666666666666666, \"type\": \"scattergeo\"}, {\"lat\": [18.0410003662, 33.63669967651367], \"line\": {\"color\": \"red\", \"width\": 1}, \"lon\": [-63.108898162799996, -84.4281005859375], \"mode\": \"lines\", \"opacity\": 0.08333333333333333, \"type\": \"scattergeo\"}, {\"lat\": [18.0410003662, 42.36429977], \"line\": {\"color\": \"red\", \"width\": 1}, \"lon\": [-63.108898162799996, -71.00520325], \"mode\": \"lines\", \"opacity\": 0.08333333333333333, \"type\": \"scattergeo\"}, {\"lat\": [18.0410003662, 35.2140007019043], \"line\": {\"color\": \"red\", \"width\": 1}, \"lon\": [-63.108898162799996, -80.94309997558594], \"mode\": \"lines\", \"opacity\": 0.16666666666666666, \"type\": \"scattergeo\"}, {\"lat\": [18.0410003662, 40.69250106811523], \"line\": {\"color\": \"red\", \"width\": 1}, \"lon\": [-63.108898162799996, -74.168701171875], \"mode\": \"lines\", \"opacity\": 0.08333333333333333, \"type\": \"scattergeo\"}, {\"lat\": [18.0410003662, 26.072599411010746], \"line\": {\"color\": \"red\", \"width\": 1}, \"lon\": [-63.108898162799996, -80.15270233154297], \"mode\": \"lines\", \"opacity\": 0.08333333333333333, \"type\": \"scattergeo\"}, {\"lat\": [18.0410003662, 38.94449997], \"line\": {\"color\": \"red\", \"width\": 1}, \"lon\": [-63.108898162799996, -77.45580292], \"mode\": \"lines\", \"opacity\": 0.08333333333333333, \"type\": \"scattergeo\"}, {\"lat\": [18.0410003662, 40.63980103], \"line\": {\"color\": \"red\", \"width\": 1}, \"lon\": [-63.108898162799996, -73.77890015], \"mode\": \"lines\", \"opacity\": 0.3333333333333333, \"type\": \"scattergeo\"}, {\"lat\": [18.0410003662, 25.79319953918457], \"line\": {\"color\": \"red\", \"width\": 1}, \"lon\": [-63.108898162799996, -80.29060363769531], \"mode\": \"lines\", \"opacity\": 0.16666666666666666, \"type\": \"scattergeo\"}, {\"lat\": [18.0410003662, 41.97859955], \"line\": {\"color\": \"red\", \"width\": 1}, \"lon\": [-63.108898162799996, -87.90480042], \"mode\": \"lines\", \"opacity\": 0.08333333333333333, \"type\": \"scattergeo\"}, {\"lat\": [18.0410003662, 39.87189865112305], \"line\": {\"color\": \"red\", \"width\": 1}, \"lon\": [-63.108898162799996, -75.24109649658203], \"mode\": \"lines\", \"opacity\": 0.16666666666666666, \"type\": \"scattergeo\"}, {\"lat\": [-33.94609832763672, 32.896800994873054], \"line\": {\"color\": \"red\", \"width\": 1}, \"lon\": [151.177001953125, -97.03800201416016], \"mode\": \"lines\", \"opacity\": 0.16666666666666666, \"type\": \"scattergeo\"}, {\"lat\": [-33.94609832763672, 21.318700790405273], \"line\": {\"color\": \"red\", \"width\": 1}, \"lon\": [151.177001953125, -157.9219970703125], \"mode\": \"lines\", \"opacity\": 0.4166666666666667, \"type\": \"scattergeo\"}, {\"lat\": [-33.94609832763672, 33.94250107], \"line\": {\"color\": \"red\", \"width\": 1}, \"lon\": [151.177001953125, -118.40799709999999], \"mode\": \"lines\", \"opacity\": 0.5, \"type\": \"scattergeo\"}, {\"lat\": [-33.94609832763672, 37.61899948120117], \"line\": {\"color\": \"red\", \"width\": 1}, \"lon\": [151.177001953125, -122.375], \"mode\": \"lines\", \"opacity\": 0.16666666666666666, \"type\": \"scattergeo\"}, {\"lat\": [11.149700164794922, 40.63980103], \"line\": {\"color\": \"red\", \"width\": 1}, \"lon\": [-60.83219909667969, -73.77890015], \"mode\": \"lines\", \"opacity\": 0.08333333333333333, \"type\": \"scattergeo\"}, {\"lat\": [22.2964000702, 29.98439979553223], \"line\": {\"color\": \"red\", \"width\": 1}, \"lon\": [-97.86589813229999, -95.34140014648438], \"mode\": \"lines\", \"opacity\": 0.08333333333333333, \"type\": \"scattergeo\"}, {\"lat\": [26.745300293000003, 26.072599411010746], \"line\": {\"color\": \"red\", \"width\": 1}, \"lon\": [-77.3912963867, -80.15270233154297], \"mode\": \"lines\", \"opacity\": 0.16666666666666666, \"type\": \"scattergeo\"}, {\"lat\": [14.06089973449707, 33.63669967651367], \"line\": {\"color\": \"red\", \"width\": 1}, \"lon\": [-87.21720123291016, -84.4281005859375], \"mode\": \"lines\", \"opacity\": 0.08333333333333333, \"type\": \"scattergeo\"}, {\"lat\": [14.06089973449707, 29.98439979553223], \"line\": {\"color\": \"red\", \"width\": 1}, \"lon\": [-87.21720123291016, -95.34140014648438], \"mode\": \"lines\", \"opacity\": 0.08333333333333333, \"type\": \"scattergeo\"}, {\"lat\": [14.06089973449707, 25.79319953918457], \"line\": {\"color\": \"red\", \"width\": 1}, \"lon\": [-87.21720123291016, -80.29060363769531], \"mode\": \"lines\", \"opacity\": 0.16666666666666666, \"type\": \"scattergeo\"}, {\"lat\": [19.3370990753, 26.072599411010746], \"line\": {\"color\": \"red\", \"width\": 1}, \"lon\": [-99.5660018921, -80.15270233154297], \"mode\": \"lines\", \"opacity\": 0.08333333333333333, \"type\": \"scattergeo\"}, {\"lat\": [19.3370990753, 36.08010101], \"line\": {\"color\": \"red\", \"width\": 1}, \"lon\": [-99.5660018921, -115.15200039999999], \"mode\": \"lines\", \"opacity\": 0.08333333333333333, \"type\": \"scattergeo\"}, {\"lat\": [19.3370990753, 29.533700942993164], \"line\": {\"color\": \"red\", \"width\": 1}, \"lon\": [-99.5660018921, -98.46980285644531], \"mode\": \"lines\", \"opacity\": 0.08333333333333333, \"type\": \"scattergeo\"}, {\"lat\": [32.011398315429695, 40.69250106811523], \"line\": {\"color\": \"red\", \"width\": 1}, \"lon\": [34.88669967651367, -74.168701171875], \"mode\": \"lines\", \"opacity\": 0.16666666666666666, \"type\": \"scattergeo\"}, {\"lat\": [32.011398315429695, 40.63980103], \"line\": {\"color\": \"red\", \"width\": 1}, \"lon\": [34.88669967651367, -73.77890015], \"mode\": \"lines\", \"opacity\": 0.16666666666666666, \"type\": \"scattergeo\"}, {\"lat\": [32.011398315429695, 33.94250107], \"line\": {\"color\": \"red\", \"width\": 1}, \"lon\": [34.88669967651367, -118.40799709999999], \"mode\": \"lines\", \"opacity\": 0.08333333333333333, \"type\": \"scattergeo\"}, {\"lat\": [32.011398315429695, 39.87189865112305], \"line\": {\"color\": \"red\", \"width\": 1}, \"lon\": [34.88669967651367, -75.24109649658203], \"mode\": \"lines\", \"opacity\": 0.16666666666666666, \"type\": \"scattergeo\"}, {\"lat\": [25.0777, 21.318700790405273], \"line\": {\"color\": \"red\", \"width\": 1}, \"lon\": [121.233002, -157.9219970703125], \"mode\": \"lines\", \"opacity\": 0.16666666666666666, \"type\": \"scattergeo\"}, {\"lat\": [25.0777, 40.63980103], \"line\": {\"color\": \"red\", \"width\": 1}, \"lon\": [121.233002, -73.77890015], \"mode\": \"lines\", \"opacity\": 0.08333333333333333, \"type\": \"scattergeo\"}, {\"lat\": [25.0777, 33.94250107], \"line\": {\"color\": \"red\", \"width\": 1}, \"lon\": [121.233002, -118.40799709999999], \"mode\": \"lines\", \"opacity\": 0.3333333333333333, \"type\": \"scattergeo\"}, {\"lat\": [25.0777, 47.44900131225586], \"line\": {\"color\": \"red\", \"width\": 1}, \"lon\": [121.233002, -122.30899810791016], \"mode\": \"lines\", \"opacity\": 0.16666666666666666, \"type\": \"scattergeo\"}, {\"lat\": [25.0777, 37.61899948120117], \"line\": {\"color\": \"red\", \"width\": 1}, \"lon\": [121.233002, -122.375], \"mode\": \"lines\", \"opacity\": 0.4166666666666667, \"type\": \"scattergeo\"}, {\"lat\": [25.568300247199996, 32.896800994873054], \"line\": {\"color\": \"red\", \"width\": 1}, \"lon\": [-103.41100311299999, -97.03800201416016], \"mode\": \"lines\", \"opacity\": 0.16666666666666666, \"type\": \"scattergeo\"}, {\"lat\": [25.568300247199996, 29.98439979553223], \"line\": {\"color\": \"red\", \"width\": 1}, \"lon\": [-103.41100311299999, -95.34140014648438], \"mode\": \"lines\", \"opacity\": 0.08333333333333333, \"type\": \"scattergeo\"}, {\"lat\": [52.559700012200004, 40.69250106811523], \"line\": {\"color\": \"red\", \"width\": 1}, \"lon\": [13.287699699400001, -74.168701171875], \"mode\": \"lines\", \"opacity\": 0.16666666666666666, \"type\": \"scattergeo\"}, {\"lat\": [52.559700012200004, 40.63980103], \"line\": {\"color\": \"red\", \"width\": 1}, \"lon\": [13.287699699400001, -73.77890015], \"mode\": \"lines\", \"opacity\": 0.16666666666666666, \"type\": \"scattergeo\"}, {\"lat\": [52.559700012200004, 25.79319953918457], \"line\": {\"color\": \"red\", \"width\": 1}, \"lon\": [13.287699699400001, -80.29060363769531], \"mode\": \"lines\", \"opacity\": 0.16666666666666666, \"type\": \"scattergeo\"}, {\"lat\": [52.559700012200004, 41.97859955], \"line\": {\"color\": \"red\", \"width\": 1}, \"lon\": [13.287699699400001, -87.90480042], \"mode\": \"lines\", \"opacity\": 0.16666666666666666, \"type\": \"scattergeo\"}, {\"lat\": [-0.129166666667, 33.63669967651367], \"line\": {\"color\": \"red\", \"width\": 1}, \"lon\": [-78.3575, -84.4281005859375], \"mode\": \"lines\", \"opacity\": 0.08333333333333333, \"type\": \"scattergeo\"}, {\"lat\": [-0.129166666667, 29.98439979553223], \"line\": {\"color\": \"red\", \"width\": 1}, \"lon\": [-78.3575, -95.34140014648438], \"mode\": \"lines\", \"opacity\": 0.08333333333333333, \"type\": \"scattergeo\"}, {\"lat\": [-0.129166666667, 25.79319953918457], \"line\": {\"color\": \"red\", \"width\": 1}, \"lon\": [-78.3575, -80.29060363769531], \"mode\": \"lines\", \"opacity\": 0.16666666666666666, \"type\": \"scattergeo\"}, {\"lat\": [19.396699905395508, 33.94250107], \"line\": {\"color\": \"red\", \"width\": 1}, \"lon\": [-102.03900146484376, -118.40799709999999], \"mode\": \"lines\", \"opacity\": 0.08333333333333333, \"type\": \"scattergeo\"}, {\"lat\": [13.7332, 33.63669967651367], \"line\": {\"color\": \"red\", \"width\": 1}, \"lon\": [-60.952599, -84.4281005859375], \"mode\": \"lines\", \"opacity\": 0.08333333333333333, \"type\": \"scattergeo\"}, {\"lat\": [13.7332, 35.2140007019043], \"line\": {\"color\": \"red\", \"width\": 1}, \"lon\": [-60.952599, -80.94309997558594], \"mode\": \"lines\", \"opacity\": 0.16666666666666666, \"type\": \"scattergeo\"}, {\"lat\": [13.7332, 40.69250106811523], \"line\": {\"color\": \"red\", \"width\": 1}, \"lon\": [-60.952599, -74.168701171875], \"mode\": \"lines\", \"opacity\": 0.08333333333333333, \"type\": \"scattergeo\"}, {\"lat\": [13.7332, 40.63980103], \"line\": {\"color\": \"red\", \"width\": 1}, \"lon\": [-60.952599, -73.77890015], \"mode\": \"lines\", \"opacity\": 0.08333333333333333, \"type\": \"scattergeo\"}, {\"lat\": [13.7332, 25.79319953918457], \"line\": {\"color\": \"red\", \"width\": 1}, \"lon\": [-60.952599, -80.29060363769531], \"mode\": \"lines\", \"opacity\": 0.16666666666666666, \"type\": \"scattergeo\"}, {\"lat\": [45.505299, 40.63980103], \"line\": {\"color\": \"red\", \"width\": 1}, \"lon\": [12.3519, -73.77890015], \"mode\": \"lines\", \"opacity\": 0.16666666666666666, \"type\": \"scattergeo\"}, {\"lat\": [45.505299, 39.87189865112305], \"line\": {\"color\": \"red\", \"width\": 1}, \"lon\": [12.3519, -75.24109649658203], \"mode\": \"lines\", \"opacity\": 0.16666666666666666, \"type\": \"scattergeo\"}, {\"lat\": [19.145900726300003, 29.98439979553223], \"line\": {\"color\": \"red\", \"width\": 1}, \"lon\": [-96.1873016357, -95.34140014648438], \"mode\": \"lines\", \"opacity\": 0.08333333333333333, \"type\": \"scattergeo\"}, {\"lat\": [48.110298156738004, 38.94449997], \"line\": {\"color\": \"red\", \"width\": 1}, \"lon\": [16.569700241089002, -77.45580292], \"mode\": \"lines\", \"opacity\": 0.16666666666666666, \"type\": \"scattergeo\"}, {\"lat\": [48.110298156738004, 40.63980103], \"line\": {\"color\": \"red\", \"width\": 1}, \"lon\": [16.569700241089002, -73.77890015], \"mode\": \"lines\", \"opacity\": 0.16666666666666666, \"type\": \"scattergeo\"}, {\"lat\": [48.110298156738004, 41.97859955], \"line\": {\"color\": \"red\", \"width\": 1}, \"lon\": [16.569700241089002, -87.90480042], \"mode\": \"lines\", \"opacity\": 0.16666666666666666, \"type\": \"scattergeo\"}, {\"lat\": [55.591499328599994, 40.63980103], \"line\": {\"color\": \"red\", \"width\": 1}, \"lon\": [37.2615013123, -73.77890015], \"mode\": \"lines\", \"opacity\": 0.08333333333333333, \"type\": \"scattergeo\"}, {\"lat\": [55.591499328599994, 33.94250107], \"line\": {\"color\": \"red\", \"width\": 1}, \"lon\": [37.2615013123, -118.40799709999999], \"mode\": \"lines\", \"opacity\": 0.08333333333333333, \"type\": \"scattergeo\"}, {\"lat\": [55.591499328599994, 25.79319953918457], \"line\": {\"color\": \"red\", \"width\": 1}, \"lon\": [37.2615013123, -80.29060363769531], \"mode\": \"lines\", \"opacity\": 0.08333333333333333, \"type\": \"scattergeo\"}, {\"lat\": [17.996999740600586, 29.98439979553223], \"line\": {\"color\": \"red\", \"width\": 1}, \"lon\": [-92.81739807128906, -95.34140014648438], \"mode\": \"lines\", \"opacity\": 0.08333333333333333, \"type\": \"scattergeo\"}, {\"lat\": [-17.644800186157227, 25.79319953918457], \"line\": {\"color\": \"red\", \"width\": 1}, \"lon\": [-63.1353988647461, -80.29060363769531], \"mode\": \"lines\", \"opacity\": 0.16666666666666666, \"type\": \"scattergeo\"}, {\"lat\": [52.1656990051, 40.63980103], \"line\": {\"color\": \"red\", \"width\": 1}, \"lon\": [20.9671001434, -73.77890015], \"mode\": \"lines\", \"opacity\": 0.08333333333333333, \"type\": \"scattergeo\"}, {\"lat\": [52.1656990051, 41.97859955], \"line\": {\"color\": \"red\", \"width\": 1}, \"lon\": [20.9671001434, -87.90480042], \"mode\": \"lines\", \"opacity\": 0.08333333333333333, \"type\": \"scattergeo\"}, {\"lat\": [53.309700012200004, 39.861698150635], \"line\": {\"color\": \"red\", \"width\": 1}, \"lon\": [-113.580001831, -104.672996521], \"mode\": \"lines\", \"opacity\": 0.16666666666666666, \"type\": \"scattergeo\"}, {\"lat\": [53.309700012200004, 32.896800994873054], \"line\": {\"color\": \"red\", \"width\": 1}, \"lon\": [-113.580001831, -97.03800201416016], \"mode\": \"lines\", \"opacity\": 0.08333333333333333, \"type\": \"scattergeo\"}, {\"lat\": [53.309700012200004, 40.69250106811523], \"line\": {\"color\": \"red\", \"width\": 1}, \"lon\": [-113.580001831, -74.168701171875], \"mode\": \"lines\", \"opacity\": 0.16666666666666666, \"type\": \"scattergeo\"}, {\"lat\": [53.309700012200004, 29.98439979553223], \"line\": {\"color\": \"red\", \"width\": 1}, \"lon\": [-113.580001831, -95.34140014648438], \"mode\": \"lines\", \"opacity\": 0.16666666666666666, \"type\": \"scattergeo\"}, {\"lat\": [53.309700012200004, 36.08010101], \"line\": {\"color\": \"red\", \"width\": 1}, \"lon\": [-113.580001831, -115.15200039999999], \"mode\": \"lines\", \"opacity\": 0.16666666666666666, \"type\": \"scattergeo\"}, {\"lat\": [53.309700012200004, 33.94250107], \"line\": {\"color\": \"red\", \"width\": 1}, \"lon\": [-113.580001831, -118.40799709999999], \"mode\": \"lines\", \"opacity\": 0.25, \"type\": \"scattergeo\"}, {\"lat\": [53.309700012200004, 44.8819999695], \"line\": {\"color\": \"red\", \"width\": 1}, \"lon\": [-113.580001831, -93.22180175780001], \"mode\": \"lines\", \"opacity\": 0.08333333333333333, \"type\": \"scattergeo\"}, {\"lat\": [53.309700012200004, 41.97859955], \"line\": {\"color\": \"red\", \"width\": 1}, \"lon\": [-113.580001831, -87.90480042], \"mode\": \"lines\", \"opacity\": 0.16666666666666666, \"type\": \"scattergeo\"}, {\"lat\": [53.309700012200004, 33.43429946899414], \"line\": {\"color\": \"red\", \"width\": 1}, \"lon\": [-113.580001831, -112.01200103759766], \"mode\": \"lines\", \"opacity\": 0.25, \"type\": \"scattergeo\"}, {\"lat\": [53.309700012200004, 33.829700469970696], \"line\": {\"color\": \"red\", \"width\": 1}, \"lon\": [-113.580001831, -116.50700378417969], \"mode\": \"lines\", \"opacity\": 0.08333333333333333, \"type\": \"scattergeo\"}, {\"lat\": [53.309700012200004, 47.44900131225586], \"line\": {\"color\": \"red\", \"width\": 1}, \"lon\": [-113.580001831, -122.30899810791016], \"mode\": \"lines\", \"opacity\": 0.08333333333333333, \"type\": \"scattergeo\"}, {\"lat\": [53.309700012200004, 37.61899948120117], \"line\": {\"color\": \"red\", \"width\": 1}, \"lon\": [-113.580001831, -122.375], \"mode\": \"lines\", \"opacity\": 0.16666666666666666, \"type\": \"scattergeo\"}, {\"lat\": [44.880798339799995, 42.36429977], \"line\": {\"color\": \"red\", \"width\": 1}, \"lon\": [-63.508598327600005, -71.00520325], \"mode\": \"lines\", \"opacity\": 0.16666666666666666, \"type\": \"scattergeo\"}, {\"lat\": [44.880798339799995, 38.8521], \"line\": {\"color\": \"red\", \"width\": 1}, \"lon\": [-63.508598327600005, -77.037697], \"mode\": \"lines\", \"opacity\": 0.16666666666666666, \"type\": \"scattergeo\"}, {\"lat\": [44.880798339799995, 40.69250106811523], \"line\": {\"color\": \"red\", \"width\": 1}, \"lon\": [-63.508598327600005, -74.168701171875], \"mode\": \"lines\", \"opacity\": 0.08333333333333333, \"type\": \"scattergeo\"}, {\"lat\": [44.880798339799995, 40.77719879], \"line\": {\"color\": \"red\", \"width\": 1}, \"lon\": [-63.508598327600005, -73.87259674], \"mode\": \"lines\", \"opacity\": 0.16666666666666666, \"type\": \"scattergeo\"}, {\"lat\": [44.880798339799995, 28.429399490356445], \"line\": {\"color\": \"red\", \"width\": 1}, \"lon\": [-63.508598327600005, -81.30899810791016], \"mode\": \"lines\", \"opacity\": 0.16666666666666666, \"type\": \"scattergeo\"}, {\"lat\": [44.880798339799995, 41.97859955], \"line\": {\"color\": \"red\", \"width\": 1}, \"lon\": [-63.508598327600005, -87.90480042], \"mode\": \"lines\", \"opacity\": 0.16666666666666666, \"type\": \"scattergeo\"}, {\"lat\": [44.880798339799995, 39.87189865112305], \"line\": {\"color\": \"red\", \"width\": 1}, \"lon\": [-63.508598327600005, -75.24109649658203], \"mode\": \"lines\", \"opacity\": 0.16666666666666666, \"type\": \"scattergeo\"}, {\"lat\": [43.4608001709, 41.97859955], \"line\": {\"color\": \"red\", \"width\": 1}, \"lon\": [-80.3786010742, -87.90480042], \"mode\": \"lines\", \"opacity\": 0.16666666666666666, \"type\": \"scattergeo\"}, {\"lat\": [49.9561004639, 33.94250107], \"line\": {\"color\": \"red\", \"width\": 1}, \"lon\": [-119.377998352, -118.40799709999999], \"mode\": \"lines\", \"opacity\": 0.16666666666666666, \"type\": \"scattergeo\"}, {\"lat\": [49.9561004639, 47.44900131225586], \"line\": {\"color\": \"red\", \"width\": 1}, \"lon\": [-119.377998352, -122.30899810791016], \"mode\": \"lines\", \"opacity\": 0.08333333333333333, \"type\": \"scattergeo\"}, {\"lat\": [56.653301238999994, 39.861698150635], \"line\": {\"color\": \"red\", \"width\": 1}, \"lon\": [-111.22200012200001, -104.672996521], \"mode\": \"lines\", \"opacity\": 0.16666666666666666, \"type\": \"scattergeo\"}, {\"lat\": [45.3224983215332, 42.36429977], \"line\": {\"color\": \"red\", \"width\": 1}, \"lon\": [-75.66919708251953, -71.00520325], \"mode\": \"lines\", \"opacity\": 0.16666666666666666, \"type\": \"scattergeo\"}, {\"lat\": [45.3224983215332, 35.2140007019043], \"line\": {\"color\": \"red\", \"width\": 1}, \"lon\": [-75.66919708251953, -80.94309997558594], \"mode\": \"lines\", \"opacity\": 0.16666666666666666, \"type\": \"scattergeo\"}, {\"lat\": [45.3224983215332, 38.8521], \"line\": {\"color\": \"red\", \"width\": 1}, \"lon\": [-75.66919708251953, -77.037697], \"mode\": \"lines\", \"opacity\": 0.08333333333333333, \"type\": \"scattergeo\"}, {\"lat\": [45.3224983215332, 42.212398529052734], \"line\": {\"color\": \"red\", \"width\": 1}, \"lon\": [-75.66919708251953, -83.35340118408203], \"mode\": \"lines\", \"opacity\": 0.08333333333333333, \"type\": \"scattergeo\"}, {\"lat\": [45.3224983215332, 40.69250106811523], \"line\": {\"color\": \"red\", \"width\": 1}, \"lon\": [-75.66919708251953, -74.168701171875], \"mode\": \"lines\", \"opacity\": 0.08333333333333333, \"type\": \"scattergeo\"}, {\"lat\": [45.3224983215332, 38.94449997], \"line\": {\"color\": \"red\", \"width\": 1}, \"lon\": [-75.66919708251953, -77.45580292], \"mode\": \"lines\", \"opacity\": 0.16666666666666666, \"type\": \"scattergeo\"}, {\"lat\": [45.3224983215332, 40.77719879], \"line\": {\"color\": \"red\", \"width\": 1}, \"lon\": [-75.66919708251953, -73.87259674], \"mode\": \"lines\", \"opacity\": 0.16666666666666666, \"type\": \"scattergeo\"}, {\"lat\": [45.3224983215332, 41.97859955], \"line\": {\"color\": \"red\", \"width\": 1}, \"lon\": [-75.66919708251953, -87.90480042], \"mode\": \"lines\", \"opacity\": 0.16666666666666666, \"type\": \"scattergeo\"}, {\"lat\": [45.3224983215332, 39.87189865112305], \"line\": {\"color\": \"red\", \"width\": 1}, \"lon\": [-75.66919708251953, -75.24109649658203], \"mode\": \"lines\", \"opacity\": 0.16666666666666666, \"type\": \"scattergeo\"}, {\"lat\": [46.7911, 40.69250106811523], \"line\": {\"color\": \"red\", \"width\": 1}, \"lon\": [-71.393303, -74.168701171875], \"mode\": \"lines\", \"opacity\": 0.08333333333333333, \"type\": \"scattergeo\"}, {\"lat\": [46.7911, 41.97859955], \"line\": {\"color\": \"red\", \"width\": 1}, \"lon\": [-71.393303, -87.90480042], \"mode\": \"lines\", \"opacity\": 0.16666666666666666, \"type\": \"scattergeo\"}, {\"lat\": [46.7911, 39.87189865112305], \"line\": {\"color\": \"red\", \"width\": 1}, \"lon\": [-71.393303, -75.24109649658203], \"mode\": \"lines\", \"opacity\": 0.16666666666666666, \"type\": \"scattergeo\"}, {\"lat\": [46.11220169067383, 40.69250106811523], \"line\": {\"color\": \"red\", \"width\": 1}, \"lon\": [-64.67859649658203, -74.168701171875], \"mode\": \"lines\", \"opacity\": 0.08333333333333333, \"type\": \"scattergeo\"}, {\"lat\": [46.11220169067383, 28.429399490356445], \"line\": {\"color\": \"red\", \"width\": 1}, \"lon\": [-64.67859649658203, -81.30899810791016], \"mode\": \"lines\", \"opacity\": 0.16666666666666666, \"type\": \"scattergeo\"}, {\"lat\": [50.43190002441406, 39.861698150635], \"line\": {\"color\": \"red\", \"width\": 1}, \"lon\": [-104.66600036621094, -104.672996521], \"mode\": \"lines\", \"opacity\": 0.16666666666666666, \"type\": \"scattergeo\"}, {\"lat\": [50.43190002441406, 36.08010101], \"line\": {\"color\": \"red\", \"width\": 1}, \"lon\": [-104.66600036621094, -115.15200039999999], \"mode\": \"lines\", \"opacity\": 0.08333333333333333, \"type\": \"scattergeo\"}, {\"lat\": [50.43190002441406, 44.8819999695], \"line\": {\"color\": \"red\", \"width\": 1}, \"lon\": [-104.66600036621094, -93.22180175780001], \"mode\": \"lines\", \"opacity\": 0.08333333333333333, \"type\": \"scattergeo\"}, {\"lat\": [50.43190002441406, 41.97859955], \"line\": {\"color\": \"red\", \"width\": 1}, \"lon\": [-104.66600036621094, -87.90480042], \"mode\": \"lines\", \"opacity\": 0.16666666666666666, \"type\": \"scattergeo\"}, {\"lat\": [43.627499, 42.36429977], \"line\": {\"color\": \"red\", \"width\": 1}, \"lon\": [-79.396202, -71.00520325], \"mode\": \"lines\", \"opacity\": 0.08333333333333333, \"type\": \"scattergeo\"}, {\"lat\": [43.627499, 40.69250106811523], \"line\": {\"color\": \"red\", \"width\": 1}, \"lon\": [-79.396202, -74.168701171875], \"mode\": \"lines\", \"opacity\": 0.08333333333333333, \"type\": \"scattergeo\"}, {\"lat\": [43.627499, 38.94449997], \"line\": {\"color\": \"red\", \"width\": 1}, \"lon\": [-79.396202, -77.45580292], \"mode\": \"lines\", \"opacity\": 0.08333333333333333, \"type\": \"scattergeo\"}, {\"lat\": [43.627499, 41.7859992980957], \"line\": {\"color\": \"red\", \"width\": 1}, \"lon\": [-79.396202, -87.75240325927734], \"mode\": \"lines\", \"opacity\": 0.08333333333333333, \"type\": \"scattergeo\"}, {\"lat\": [43.627499, 33.6796989441], \"line\": {\"color\": \"red\", \"width\": 1}, \"lon\": [-79.396202, -78.9282989502], \"mode\": \"lines\", \"opacity\": 0.08333333333333333, \"type\": \"scattergeo\"}, {\"lat\": [45.4706001282, 33.63669967651367], \"line\": {\"color\": \"red\", \"width\": 1}, \"lon\": [-73.7407989502, -84.4281005859375], \"mode\": \"lines\", \"opacity\": 0.25, \"type\": \"scattergeo\"}, {\"lat\": [45.4706001282, 41.9388999939], \"line\": {\"color\": \"red\", \"width\": 1}, \"lon\": [-73.7407989502, -72.68319702149999], \"mode\": \"lines\", \"opacity\": 0.16666666666666666, \"type\": \"scattergeo\"}, {\"lat\": [45.4706001282, 42.36429977], \"line\": {\"color\": \"red\", \"width\": 1}, \"lon\": [-73.7407989502, -71.00520325], \"mode\": \"lines\", \"opacity\": 0.16666666666666666, \"type\": \"scattergeo\"}, {\"lat\": [45.4706001282, 35.2140007019043], \"line\": {\"color\": \"red\", \"width\": 1}, \"lon\": [-73.7407989502, -80.94309997558594], \"mode\": \"lines\", \"opacity\": 0.16666666666666666, \"type\": \"scattergeo\"}, {\"lat\": [45.4706001282, 38.8521], \"line\": {\"color\": \"red\", \"width\": 1}, \"lon\": [-73.7407989502, -77.037697], \"mode\": \"lines\", \"opacity\": 0.25, \"type\": \"scattergeo\"}, {\"lat\": [45.4706001282, 39.861698150635], \"line\": {\"color\": \"red\", \"width\": 1}, \"lon\": [-73.7407989502, -104.672996521], \"mode\": \"lines\", \"opacity\": 0.16666666666666666, \"type\": \"scattergeo\"}, {\"lat\": [45.4706001282, 32.896800994873054], \"line\": {\"color\": \"red\", \"width\": 1}, \"lon\": [-73.7407989502, -97.03800201416016], \"mode\": \"lines\", \"opacity\": 0.25, \"type\": \"scattergeo\"}, {\"lat\": [45.4706001282, 42.212398529052734], \"line\": {\"color\": \"red\", \"width\": 1}, \"lon\": [-73.7407989502, -83.35340118408203], \"mode\": \"lines\", \"opacity\": 0.3333333333333333, \"type\": \"scattergeo\"}, {\"lat\": [45.4706001282, 40.69250106811523], \"line\": {\"color\": \"red\", \"width\": 1}, \"lon\": [-73.7407989502, -74.168701171875], \"mode\": \"lines\", \"opacity\": 0.16666666666666666, \"type\": \"scattergeo\"}, {\"lat\": [45.4706001282, 26.072599411010746], \"line\": {\"color\": \"red\", \"width\": 1}, \"lon\": [-73.7407989502, -80.15270233154297], \"mode\": \"lines\", \"opacity\": 0.25, \"type\": \"scattergeo\"}, {\"lat\": [45.4706001282, 38.94449997], \"line\": {\"color\": \"red\", \"width\": 1}, \"lon\": [-73.7407989502, -77.45580292], \"mode\": \"lines\", \"opacity\": 0.16666666666666666, \"type\": \"scattergeo\"}, {\"lat\": [45.4706001282, 29.98439979553223], \"line\": {\"color\": \"red\", \"width\": 1}, \"lon\": [-73.7407989502, -95.34140014648438], \"mode\": \"lines\", \"opacity\": 0.16666666666666666, \"type\": \"scattergeo\"}, {\"lat\": [45.4706001282, 40.63980103], \"line\": {\"color\": \"red\", \"width\": 1}, \"lon\": [-73.7407989502, -73.77890015], \"mode\": \"lines\", \"opacity\": 0.5, \"type\": \"scattergeo\"}, {\"lat\": [45.4706001282, 36.08010101], \"line\": {\"color\": \"red\", \"width\": 1}, \"lon\": [-73.7407989502, -115.15200039999999], \"mode\": \"lines\", \"opacity\": 0.16666666666666666, \"type\": \"scattergeo\"}, {\"lat\": [45.4706001282, 33.94250107], \"line\": {\"color\": \"red\", \"width\": 1}, \"lon\": [-73.7407989502, -118.40799709999999], \"mode\": \"lines\", \"opacity\": 0.16666666666666666, \"type\": \"scattergeo\"}, {\"lat\": [45.4706001282, 40.77719879], \"line\": {\"color\": \"red\", \"width\": 1}, \"lon\": [-73.7407989502, -73.87259674], \"mode\": \"lines\", \"opacity\": 0.5, \"type\": \"scattergeo\"}, {\"lat\": [45.4706001282, 28.429399490356445], \"line\": {\"color\": \"red\", \"width\": 1}, \"lon\": [-73.7407989502, -81.30899810791016], \"mode\": \"lines\", \"opacity\": 0.16666666666666666, \"type\": \"scattergeo\"}, {\"lat\": [45.4706001282, 25.79319953918457], \"line\": {\"color\": \"red\", \"width\": 1}, \"lon\": [-73.7407989502, -80.29060363769531], \"mode\": \"lines\", \"opacity\": 0.25, \"type\": \"scattergeo\"}, {\"lat\": [45.4706001282, 44.8819999695], \"line\": {\"color\": \"red\", \"width\": 1}, \"lon\": [-73.7407989502, -93.22180175780001], \"mode\": \"lines\", \"opacity\": 0.16666666666666666, \"type\": \"scattergeo\"}, {\"lat\": [45.4706001282, 41.97859955], \"line\": {\"color\": \"red\", \"width\": 1}, \"lon\": [-73.7407989502, -87.90480042], \"mode\": \"lines\", \"opacity\": 0.5, \"type\": \"scattergeo\"}, {\"lat\": [45.4706001282, 39.87189865112305], \"line\": {\"color\": \"red\", \"width\": 1}, \"lon\": [-73.7407989502, -75.24109649658203], \"mode\": \"lines\", \"opacity\": 0.16666666666666666, \"type\": \"scattergeo\"}, {\"lat\": [45.4706001282, 37.61899948120117], \"line\": {\"color\": \"red\", \"width\": 1}, \"lon\": [-73.7407989502, -122.375], \"mode\": \"lines\", \"opacity\": 0.16666666666666666, \"type\": \"scattergeo\"}, {\"lat\": [49.193901061999995, 39.861698150635], \"line\": {\"color\": \"red\", \"width\": 1}, \"lon\": [-123.183998108, -104.672996521], \"mode\": \"lines\", \"opacity\": 0.16666666666666666, \"type\": \"scattergeo\"}, {\"lat\": [49.193901061999995, 32.896800994873054], \"line\": {\"color\": \"red\", \"width\": 1}, \"lon\": [-123.183998108, -97.03800201416016], \"mode\": \"lines\", \"opacity\": 0.25, \"type\": \"scattergeo\"}, {\"lat\": [49.193901061999995, 40.69250106811523], \"line\": {\"color\": \"red\", \"width\": 1}, \"lon\": [-123.183998108, -74.168701171875], \"mode\": \"lines\", \"opacity\": 0.25, \"type\": \"scattergeo\"}, {\"lat\": [49.193901061999995, 21.318700790405273], \"line\": {\"color\": \"red\", \"width\": 1}, \"lon\": [-123.183998108, -157.9219970703125], \"mode\": \"lines\", \"opacity\": 0.25, \"type\": \"scattergeo\"}, {\"lat\": [49.193901061999995, 29.98439979553223], \"line\": {\"color\": \"red\", \"width\": 1}, \"lon\": [-123.183998108, -95.34140014648438], \"mode\": \"lines\", \"opacity\": 0.08333333333333333, \"type\": \"scattergeo\"}, {\"lat\": [49.193901061999995, 40.63980103], \"line\": {\"color\": \"red\", \"width\": 1}, \"lon\": [-123.183998108, -73.77890015], \"mode\": \"lines\", \"opacity\": 0.08333333333333333, \"type\": \"scattergeo\"}, {\"lat\": [49.193901061999995, 19.738800048828125], \"line\": {\"color\": \"red\", \"width\": 1}, \"lon\": [-123.183998108, -156.04600524902344], \"mode\": \"lines\", \"opacity\": 0.08333333333333333, \"type\": \"scattergeo\"}, {\"lat\": [49.193901061999995, 36.08010101], \"line\": {\"color\": \"red\", \"width\": 1}, \"lon\": [-123.183998108, -115.15200039999999], \"mode\": \"lines\", \"opacity\": 0.3333333333333333, \"type\": \"scattergeo\"}, {\"lat\": [49.193901061999995, 33.94250107], \"line\": {\"color\": \"red\", \"width\": 1}, \"lon\": [-123.183998108, -118.40799709999999], \"mode\": \"lines\", \"opacity\": 0.4166666666666667, \"type\": \"scattergeo\"}, {\"lat\": [49.193901061999995, 21.97599983215332], \"line\": {\"color\": \"red\", \"width\": 1}, \"lon\": [-123.183998108, -159.33900451660156], \"mode\": \"lines\", \"opacity\": 0.08333333333333333, \"type\": \"scattergeo\"}, {\"lat\": [49.193901061999995, 44.8819999695], \"line\": {\"color\": \"red\", \"width\": 1}, \"lon\": [-123.183998108, -93.22180175780001], \"mode\": \"lines\", \"opacity\": 0.08333333333333333, \"type\": \"scattergeo\"}, {\"lat\": [49.193901061999995, 20.89859962463379], \"line\": {\"color\": \"red\", \"width\": 1}, \"lon\": [-123.183998108, -156.42999267578125], \"mode\": \"lines\", \"opacity\": 0.16666666666666666, \"type\": \"scattergeo\"}, {\"lat\": [49.193901061999995, 41.97859955], \"line\": {\"color\": \"red\", \"width\": 1}, \"lon\": [-123.183998108, -87.90480042], \"mode\": \"lines\", \"opacity\": 0.4166666666666667, \"type\": \"scattergeo\"}, {\"lat\": [49.193901061999995, 45.58869934], \"line\": {\"color\": \"red\", \"width\": 1}, \"lon\": [-123.183998108, -122.59799960000001], \"mode\": \"lines\", \"opacity\": 0.3333333333333333, \"type\": \"scattergeo\"}, {\"lat\": [49.193901061999995, 33.43429946899414], \"line\": {\"color\": \"red\", \"width\": 1}, \"lon\": [-123.183998108, -112.01200103759766], \"mode\": \"lines\", \"opacity\": 0.16666666666666666, \"type\": \"scattergeo\"}, {\"lat\": [49.193901061999995, 33.829700469970696], \"line\": {\"color\": \"red\", \"width\": 1}, \"lon\": [-123.183998108, -116.50700378417969], \"mode\": \"lines\", \"opacity\": 0.08333333333333333, \"type\": \"scattergeo\"}, {\"lat\": [49.193901061999995, 47.44900131225586], \"line\": {\"color\": \"red\", \"width\": 1}, \"lon\": [-123.183998108, -122.30899810791016], \"mode\": \"lines\", \"opacity\": 0.4166666666666667, \"type\": \"scattergeo\"}, {\"lat\": [49.193901061999995, 37.61899948120117], \"line\": {\"color\": \"red\", \"width\": 1}, \"lon\": [-123.183998108, -122.375], \"mode\": \"lines\", \"opacity\": 0.25, \"type\": \"scattergeo\"}, {\"lat\": [49.193901061999995, 40.78839874267578], \"line\": {\"color\": \"red\", \"width\": 1}, \"lon\": [-123.183998108, -111.97799682617188], \"mode\": \"lines\", \"opacity\": 0.08333333333333333, \"type\": \"scattergeo\"}, {\"lat\": [49.193901061999995, 33.67570114], \"line\": {\"color\": \"red\", \"width\": 1}, \"lon\": [-123.183998108, -117.86799620000001], \"mode\": \"lines\", \"opacity\": 0.16666666666666666, \"type\": \"scattergeo\"}, {\"lat\": [49.909999847399995, 39.861698150635], \"line\": {\"color\": \"red\", \"width\": 1}, \"lon\": [-97.2398986816, -104.672996521], \"mode\": \"lines\", \"opacity\": 0.16666666666666666, \"type\": \"scattergeo\"}, {\"lat\": [49.909999847399995, 36.08010101], \"line\": {\"color\": \"red\", \"width\": 1}, \"lon\": [-97.2398986816, -115.15200039999999], \"mode\": \"lines\", \"opacity\": 0.08333333333333333, \"type\": \"scattergeo\"}, {\"lat\": [49.909999847399995, 44.8819999695], \"line\": {\"color\": \"red\", \"width\": 1}, \"lon\": [-97.2398986816, -93.22180175780001], \"mode\": \"lines\", \"opacity\": 0.08333333333333333, \"type\": \"scattergeo\"}, {\"lat\": [49.909999847399995, 41.97859955], \"line\": {\"color\": \"red\", \"width\": 1}, \"lon\": [-97.2398986816, -87.90480042], \"mode\": \"lines\", \"opacity\": 0.16666666666666666, \"type\": \"scattergeo\"}, {\"lat\": [52.170799255371094, 39.861698150635], \"line\": {\"color\": \"red\", \"width\": 1}, \"lon\": [-106.6999969482422, -104.672996521], \"mode\": \"lines\", \"opacity\": 0.16666666666666666, \"type\": \"scattergeo\"}, {\"lat\": [52.170799255371094, 36.08010101], \"line\": {\"color\": \"red\", \"width\": 1}, \"lon\": [-106.6999969482422, -115.15200039999999], \"mode\": \"lines\", \"opacity\": 0.08333333333333333, \"type\": \"scattergeo\"}, {\"lat\": [52.170799255371094, 44.8819999695], \"line\": {\"color\": \"red\", \"width\": 1}, \"lon\": [-106.6999969482422, -93.22180175780001], \"mode\": \"lines\", \"opacity\": 0.08333333333333333, \"type\": \"scattergeo\"}, {\"lat\": [52.170799255371094, 41.97859955], \"line\": {\"color\": \"red\", \"width\": 1}, \"lon\": [-106.6999969482422, -87.90480042], \"mode\": \"lines\", \"opacity\": 0.08333333333333333, \"type\": \"scattergeo\"}, {\"lat\": [43.035599, 41.97859955], \"line\": {\"color\": \"red\", \"width\": 1}, \"lon\": [-81.1539, -87.90480042], \"mode\": \"lines\", \"opacity\": 0.16666666666666666, \"type\": \"scattergeo\"}, {\"lat\": [51.113899231000005, 39.861698150635], \"line\": {\"color\": \"red\", \"width\": 1}, \"lon\": [-114.019996643, -104.672996521], \"mode\": \"lines\", \"opacity\": 0.16666666666666666, \"type\": \"scattergeo\"}, {\"lat\": [51.113899231000005, 32.896800994873054], \"line\": {\"color\": \"red\", \"width\": 1}, \"lon\": [-114.019996643, -97.03800201416016], \"mode\": \"lines\", \"opacity\": 0.3333333333333333, \"type\": \"scattergeo\"}, {\"lat\": [51.113899231000005, 40.69250106811523], \"line\": {\"color\": \"red\", \"width\": 1}, \"lon\": [-114.019996643, -74.168701171875], \"mode\": \"lines\", \"opacity\": 0.08333333333333333, \"type\": \"scattergeo\"}, {\"lat\": [51.113899231000005, 29.98439979553223], \"line\": {\"color\": \"red\", \"width\": 1}, \"lon\": [-114.019996643, -95.34140014648438], \"mode\": \"lines\", \"opacity\": 0.16666666666666666, \"type\": \"scattergeo\"}, {\"lat\": [51.113899231000005, 40.63980103], \"line\": {\"color\": \"red\", \"width\": 1}, \"lon\": [-114.019996643, -73.77890015], \"mode\": \"lines\", \"opacity\": 0.25, \"type\": \"scattergeo\"}, {\"lat\": [51.113899231000005, 36.08010101], \"line\": {\"color\": \"red\", \"width\": 1}, \"lon\": [-114.019996643, -115.15200039999999], \"mode\": \"lines\", \"opacity\": 0.3333333333333333, \"type\": \"scattergeo\"}, {\"lat\": [51.113899231000005, 33.94250107], \"line\": {\"color\": \"red\", \"width\": 1}, \"lon\": [-114.019996643, -118.40799709999999], \"mode\": \"lines\", \"opacity\": 0.3333333333333333, \"type\": \"scattergeo\"}, {\"lat\": [51.113899231000005, 28.429399490356445], \"line\": {\"color\": \"red\", \"width\": 1}, \"lon\": [-114.019996643, -81.30899810791016], \"mode\": \"lines\", \"opacity\": 0.08333333333333333, \"type\": \"scattergeo\"}, {\"lat\": [51.113899231000005, 44.8819999695], \"line\": {\"color\": \"red\", \"width\": 1}, \"lon\": [-114.019996643, -93.22180175780001], \"mode\": \"lines\", \"opacity\": 0.08333333333333333, \"type\": \"scattergeo\"}, {\"lat\": [51.113899231000005, 41.97859955], \"line\": {\"color\": \"red\", \"width\": 1}, \"lon\": [-114.019996643, -87.90480042], \"mode\": \"lines\", \"opacity\": 0.4166666666666667, \"type\": \"scattergeo\"}, {\"lat\": [51.113899231000005, 45.58869934], \"line\": {\"color\": \"red\", \"width\": 1}, \"lon\": [-114.019996643, -122.59799960000001], \"mode\": \"lines\", \"opacity\": 0.16666666666666666, \"type\": \"scattergeo\"}, {\"lat\": [51.113899231000005, 33.43429946899414], \"line\": {\"color\": \"red\", \"width\": 1}, \"lon\": [-114.019996643, -112.01200103759766], \"mode\": \"lines\", \"opacity\": 0.25, \"type\": \"scattergeo\"}, {\"lat\": [51.113899231000005, 33.829700469970696], \"line\": {\"color\": \"red\", \"width\": 1}, \"lon\": [-114.019996643, -116.50700378417969], \"mode\": \"lines\", \"opacity\": 0.08333333333333333, \"type\": \"scattergeo\"}, {\"lat\": [51.113899231000005, 32.7336006165], \"line\": {\"color\": \"red\", \"width\": 1}, \"lon\": [-114.019996643, -117.190002441], \"mode\": \"lines\", \"opacity\": 0.16666666666666666, \"type\": \"scattergeo\"}, {\"lat\": [51.113899231000005, 47.44900131225586], \"line\": {\"color\": \"red\", \"width\": 1}, \"lon\": [-114.019996643, -122.30899810791016], \"mode\": \"lines\", \"opacity\": 0.08333333333333333, \"type\": \"scattergeo\"}, {\"lat\": [51.113899231000005, 37.61899948120117], \"line\": {\"color\": \"red\", \"width\": 1}, \"lon\": [-114.019996643, -122.375], \"mode\": \"lines\", \"opacity\": 0.25, \"type\": \"scattergeo\"}, {\"lat\": [51.113899231000005, 40.78839874267578], \"line\": {\"color\": \"red\", \"width\": 1}, \"lon\": [-114.019996643, -111.97799682617188], \"mode\": \"lines\", \"opacity\": 0.08333333333333333, \"type\": \"scattergeo\"}, {\"lat\": [48.646900177, 36.08010101], \"line\": {\"color\": \"red\", \"width\": 1}, \"lon\": [-123.426002502, -115.15200039999999], \"mode\": \"lines\", \"opacity\": 0.08333333333333333, \"type\": \"scattergeo\"}, {\"lat\": [48.646900177, 47.44900131225586], \"line\": {\"color\": \"red\", \"width\": 1}, \"lon\": [-123.426002502, -122.30899810791016], \"mode\": \"lines\", \"opacity\": 0.08333333333333333, \"type\": \"scattergeo\"}, {\"lat\": [48.646900177, 37.61899948120117], \"line\": {\"color\": \"red\", \"width\": 1}, \"lon\": [-123.426002502, -122.375], \"mode\": \"lines\", \"opacity\": 0.16666666666666666, \"type\": \"scattergeo\"}, {\"lat\": [47.618598938000005, 40.69250106811523], \"line\": {\"color\": \"red\", \"width\": 1}, \"lon\": [-52.751899719200004, -74.168701171875], \"mode\": \"lines\", \"opacity\": 0.08333333333333333, \"type\": \"scattergeo\"}, {\"lat\": [47.618598938000005, 28.429399490356445], \"line\": {\"color\": \"red\", \"width\": 1}, \"lon\": [-52.751899719200004, -81.30899810791016], \"mode\": \"lines\", \"opacity\": 0.16666666666666666, \"type\": \"scattergeo\"}, {\"lat\": [43.6772003174, 33.63669967651367], \"line\": {\"color\": \"red\", \"width\": 1}, \"lon\": [-79.63059997559999, -84.4281005859375], \"mode\": \"lines\", \"opacity\": 0.5, \"type\": \"scattergeo\"}, {\"lat\": [43.6772003174, 41.9388999939], \"line\": {\"color\": \"red\", \"width\": 1}, \"lon\": [-79.63059997559999, -72.68319702149999], \"mode\": \"lines\", \"opacity\": 0.16666666666666666, \"type\": \"scattergeo\"}, {\"lat\": [43.6772003174, 36.1245002746582], \"line\": {\"color\": \"red\", \"width\": 1}, \"lon\": [-79.63059997559999, -86.6781997680664], \"mode\": \"lines\", \"opacity\": 0.08333333333333333, \"type\": \"scattergeo\"}, {\"lat\": [43.6772003174, 42.36429977], \"line\": {\"color\": \"red\", \"width\": 1}, \"lon\": [-79.63059997559999, -71.00520325], \"mode\": \"lines\", \"opacity\": 0.16666666666666666, \"type\": \"scattergeo\"}, {\"lat\": [43.6772003174, 39.17539978], \"line\": {\"color\": \"red\", \"width\": 1}, \"lon\": [-79.63059997559999, -76.66829681], \"mode\": \"lines\", \"opacity\": 0.08333333333333333, \"type\": \"scattergeo\"}, {\"lat\": [43.6772003174, 41.411701202399996], \"line\": {\"color\": \"red\", \"width\": 1}, \"lon\": [-79.63059997559999, -81.8498001099], \"mode\": \"lines\", \"opacity\": 0.16666666666666666, \"type\": \"scattergeo\"}, {\"lat\": [43.6772003174, 35.2140007019043], \"line\": {\"color\": \"red\", \"width\": 1}, \"lon\": [-79.63059997559999, -80.94309997558594], \"mode\": \"lines\", \"opacity\": 0.25, \"type\": \"scattergeo\"}, {\"lat\": [43.6772003174, 39.99800109863281], \"line\": {\"color\": \"red\", \"width\": 1}, \"lon\": [-79.63059997559999, -82.89189910888672], \"mode\": \"lines\", \"opacity\": 0.16666666666666666, \"type\": \"scattergeo\"}, {\"lat\": [43.6772003174, 39.0488014221], \"line\": {\"color\": \"red\", \"width\": 1}, \"lon\": [-79.63059997559999, -84.6678009033], \"mode\": \"lines\", \"opacity\": 0.25, \"type\": \"scattergeo\"}, {\"lat\": [43.6772003174, 38.8521], \"line\": {\"color\": \"red\", \"width\": 1}, \"lon\": [-79.63059997559999, -77.037697], \"mode\": \"lines\", \"opacity\": 0.25, \"type\": \"scattergeo\"}, {\"lat\": [43.6772003174, 39.861698150635], \"line\": {\"color\": \"red\", \"width\": 1}, \"lon\": [-79.63059997559999, -104.672996521], \"mode\": \"lines\", \"opacity\": 0.16666666666666666, \"type\": \"scattergeo\"}, {\"lat\": [43.6772003174, 32.896800994873054], \"line\": {\"color\": \"red\", \"width\": 1}, \"lon\": [-79.63059997559999, -97.03800201416016], \"mode\": \"lines\", \"opacity\": 0.4166666666666667, \"type\": \"scattergeo\"}, {\"lat\": [43.6772003174, 42.212398529052734], \"line\": {\"color\": \"red\", \"width\": 1}, \"lon\": [-79.63059997559999, -83.35340118408203], \"mode\": \"lines\", \"opacity\": 0.4166666666666667, \"type\": \"scattergeo\"}, {\"lat\": [43.6772003174, 40.69250106811523], \"line\": {\"color\": \"red\", \"width\": 1}, \"lon\": [-79.63059997559999, -74.168701171875], \"mode\": \"lines\", \"opacity\": 0.16666666666666666, \"type\": \"scattergeo\"}, {\"lat\": [43.6772003174, 26.072599411010746], \"line\": {\"color\": \"red\", \"width\": 1}, \"lon\": [-79.63059997559999, -80.15270233154297], \"mode\": \"lines\", \"opacity\": 0.3333333333333333, \"type\": \"scattergeo\"}, {\"lat\": [43.6772003174, 38.94449997], \"line\": {\"color\": \"red\", \"width\": 1}, \"lon\": [-79.63059997559999, -77.45580292], \"mode\": \"lines\", \"opacity\": 0.16666666666666666, \"type\": \"scattergeo\"}, {\"lat\": [43.6772003174, 29.98439979553223], \"line\": {\"color\": \"red\", \"width\": 1}, \"lon\": [-79.63059997559999, -95.34140014648438], \"mode\": \"lines\", \"opacity\": 0.16666666666666666, \"type\": \"scattergeo\"}, {\"lat\": [43.6772003174, 39.7173], \"line\": {\"color\": \"red\", \"width\": 1}, \"lon\": [-79.63059997559999, -86.294403], \"mode\": \"lines\", \"opacity\": 0.08333333333333333, \"type\": \"scattergeo\"}, {\"lat\": [43.6772003174, 40.63980103], \"line\": {\"color\": \"red\", \"width\": 1}, \"lon\": [-79.63059997559999, -73.77890015], \"mode\": \"lines\", \"opacity\": 0.5, \"type\": \"scattergeo\"}, {\"lat\": [43.6772003174, 36.08010101], \"line\": {\"color\": \"red\", \"width\": 1}, \"lon\": [-79.63059997559999, -115.15200039999999], \"mode\": \"lines\", \"opacity\": 0.3333333333333333, \"type\": \"scattergeo\"}, {\"lat\": [43.6772003174, 33.94250107], \"line\": {\"color\": \"red\", \"width\": 1}, \"lon\": [-79.63059997559999, -118.40799709999999], \"mode\": \"lines\", \"opacity\": 0.4166666666666667, \"type\": \"scattergeo\"}, {\"lat\": [43.6772003174, 40.77719879], \"line\": {\"color\": \"red\", \"width\": 1}, \"lon\": [-79.63059997559999, -73.87259674], \"mode\": \"lines\", \"opacity\": 0.5, \"type\": \"scattergeo\"}, {\"lat\": [43.6772003174, 39.2976], \"line\": {\"color\": \"red\", \"width\": 1}, \"lon\": [-79.63059997559999, -94.713898], \"mode\": \"lines\", \"opacity\": 0.08333333333333333, \"type\": \"scattergeo\"}, {\"lat\": [43.6772003174, 28.429399490356445], \"line\": {\"color\": \"red\", \"width\": 1}, \"lon\": [-79.63059997559999, -81.30899810791016], \"mode\": \"lines\", \"opacity\": 0.4166666666666667, \"type\": \"scattergeo\"}, {\"lat\": [43.6772003174, 40.1935005188], \"line\": {\"color\": \"red\", \"width\": 1}, \"lon\": [-79.63059997559999, -76.7633972168], \"mode\": \"lines\", \"opacity\": 0.08333333333333333, \"type\": \"scattergeo\"}, {\"lat\": [43.6772003174, 25.79319953918457], \"line\": {\"color\": \"red\", \"width\": 1}, \"lon\": [-79.63059997559999, -80.29060363769531], \"mode\": \"lines\", \"opacity\": 0.3333333333333333, \"type\": \"scattergeo\"}, {\"lat\": [43.6772003174, 42.94720077514648], \"line\": {\"color\": \"red\", \"width\": 1}, \"lon\": [-79.63059997559999, -87.89659881591797], \"mode\": \"lines\", \"opacity\": 0.08333333333333333, \"type\": \"scattergeo\"}, {\"lat\": [43.6772003174, 44.8819999695], \"line\": {\"color\": \"red\", \"width\": 1}, \"lon\": [-79.63059997559999, -93.22180175780001], \"mode\": \"lines\", \"opacity\": 0.3333333333333333, \"type\": \"scattergeo\"}, {\"lat\": [43.6772003174, 29.99340057373047], \"line\": {\"color\": \"red\", \"width\": 1}, \"lon\": [-79.63059997559999, -90.25800323486328], \"mode\": \"lines\", \"opacity\": 0.16666666666666666, \"type\": \"scattergeo\"}, {\"lat\": [43.6772003174, 33.6796989441], \"line\": {\"color\": \"red\", \"width\": 1}, \"lon\": [-79.63059997559999, -78.9282989502], \"mode\": \"lines\", \"opacity\": 0.08333333333333333, \"type\": \"scattergeo\"}, {\"lat\": [43.6772003174, 41.97859955], \"line\": {\"color\": \"red\", \"width\": 1}, \"lon\": [-79.63059997559999, -87.90480042], \"mode\": \"lines\", \"opacity\": 0.5, \"type\": \"scattergeo\"}, {\"lat\": [43.6772003174, 39.87189865112305], \"line\": {\"color\": \"red\", \"width\": 1}, \"lon\": [-79.63059997559999, -75.24109649658203], \"mode\": \"lines\", \"opacity\": 0.3333333333333333, \"type\": \"scattergeo\"}, {\"lat\": [43.6772003174, 33.43429946899414], \"line\": {\"color\": \"red\", \"width\": 1}, \"lon\": [-79.63059997559999, -112.01200103759766], \"mode\": \"lines\", \"opacity\": 0.08333333333333333, \"type\": \"scattergeo\"}, {\"lat\": [43.6772003174, 40.49150085], \"line\": {\"color\": \"red\", \"width\": 1}, \"lon\": [-79.63059997559999, -80.23290253], \"mode\": \"lines\", \"opacity\": 0.16666666666666666, \"type\": \"scattergeo\"}, {\"lat\": [43.6772003174, 35.877601623535156], \"line\": {\"color\": \"red\", \"width\": 1}, \"lon\": [-79.63059997559999, -78.7874984741211], \"mode\": \"lines\", \"opacity\": 0.08333333333333333, \"type\": \"scattergeo\"}, {\"lat\": [43.6772003174, 43.118900299072266], \"line\": {\"color\": \"red\", \"width\": 1}, \"lon\": [-79.63059997559999, -77.67240142822266], \"mode\": \"lines\", \"opacity\": 0.08333333333333333, \"type\": \"scattergeo\"}, {\"lat\": [43.6772003174, 26.53619956970215], \"line\": {\"color\": \"red\", \"width\": 1}, \"lon\": [-79.63059997559999, -81.75520324707031], \"mode\": \"lines\", \"opacity\": 0.16666666666666666, \"type\": \"scattergeo\"}, {\"lat\": [43.6772003174, 32.7336006165], \"line\": {\"color\": \"red\", \"width\": 1}, \"lon\": [-79.63059997559999, -117.190002441], \"mode\": \"lines\", \"opacity\": 0.08333333333333333, \"type\": \"scattergeo\"}, {\"lat\": [43.6772003174, 47.44900131225586], \"line\": {\"color\": \"red\", \"width\": 1}, \"lon\": [-79.63059997559999, -122.30899810791016], \"mode\": \"lines\", \"opacity\": 0.08333333333333333, \"type\": \"scattergeo\"}, {\"lat\": [43.6772003174, 37.61899948120117], \"line\": {\"color\": \"red\", \"width\": 1}, \"lon\": [-79.63059997559999, -122.375], \"mode\": \"lines\", \"opacity\": 0.16666666666666666, \"type\": \"scattergeo\"}, {\"lat\": [43.6772003174, 38.74869918823242], \"line\": {\"color\": \"red\", \"width\": 1}, \"lon\": [-79.63059997559999, -90.37000274658205], \"mode\": \"lines\", \"opacity\": 0.16666666666666666, \"type\": \"scattergeo\"}, {\"lat\": [43.6772003174, 43.11119842529297], \"line\": {\"color\": \"red\", \"width\": 1}, \"lon\": [-79.63059997559999, -76.1063003540039], \"mode\": \"lines\", \"opacity\": 0.08333333333333333, \"type\": \"scattergeo\"}, {\"lat\": [43.6772003174, 27.975500106811523], \"line\": {\"color\": \"red\", \"width\": 1}, \"lon\": [-79.63059997559999, -82.533203125], \"mode\": \"lines\", \"opacity\": 0.16666666666666666, \"type\": \"scattergeo\"}, {\"lat\": [22.8971004486, 32.896800994873054], \"line\": {\"color\": \"red\", \"width\": 1}, \"lon\": [-102.68699646, -97.03800201416016], \"mode\": \"lines\", \"opacity\": 0.16666666666666666, \"type\": \"scattergeo\"}, {\"lat\": [22.8971004486, 33.94250107], \"line\": {\"color\": \"red\", \"width\": 1}, \"lon\": [-102.68699646, -118.40799709999999], \"mode\": \"lines\", \"opacity\": 0.08333333333333333, \"type\": \"scattergeo\"}, {\"lat\": [22.8971004486, 41.7859992980957], \"line\": {\"color\": \"red\", \"width\": 1}, \"lon\": [-102.68699646, -87.75240325927734], \"mode\": \"lines\", \"opacity\": 0.08333333333333333, \"type\": \"scattergeo\"}, {\"lat\": [17.601600647, 29.98439979553223], \"line\": {\"color\": \"red\", \"width\": 1}, \"lon\": [-101.460998535, -95.34140014648438], \"mode\": \"lines\", \"opacity\": 0.08333333333333333, \"type\": \"scattergeo\"}, {\"lat\": [17.601600647, 33.94250107], \"line\": {\"color\": \"red\", \"width\": 1}, \"lon\": [-101.460998535, -118.40799709999999], \"mode\": \"lines\", \"opacity\": 0.16666666666666666, \"type\": \"scattergeo\"}, {\"lat\": [17.601600647, 33.43429946899414], \"line\": {\"color\": \"red\", \"width\": 1}, \"lon\": [-101.460998535, -112.01200103759766], \"mode\": \"lines\", \"opacity\": 0.16666666666666666, \"type\": \"scattergeo\"}, {\"lat\": [19.144800186199998, 29.98439979553223], \"line\": {\"color\": \"red\", \"width\": 1}, \"lon\": [-104.558998108, -95.34140014648438], \"mode\": \"lines\", \"opacity\": 0.08333333333333333, \"type\": \"scattergeo\"}, {\"lat\": [19.144800186199998, 33.94250107], \"line\": {\"color\": \"red\", \"width\": 1}, \"lon\": [-104.558998108, -118.40799709999999], \"mode\": \"lines\", \"opacity\": 0.16666666666666666, \"type\": \"scattergeo\"}, {\"lat\": [47.464698791504, 33.63669967651367], \"line\": {\"color\": \"red\", \"width\": 1}, \"lon\": [8.5491695404053, -84.4281005859375], \"mode\": \"lines\", \"opacity\": 0.08333333333333333, \"type\": \"scattergeo\"}, {\"lat\": [47.464698791504, 42.36429977], \"line\": {\"color\": \"red\", \"width\": 1}, \"lon\": [8.5491695404053, -71.00520325], \"mode\": \"lines\", \"opacity\": 0.16666666666666666, \"type\": \"scattergeo\"}, {\"lat\": [47.464698791504, 40.69250106811523], \"line\": {\"color\": \"red\", \"width\": 1}, \"lon\": [8.5491695404053, -74.168701171875], \"mode\": \"lines\", \"opacity\": 0.16666666666666666, \"type\": \"scattergeo\"}, {\"lat\": [47.464698791504, 38.94449997], \"line\": {\"color\": \"red\", \"width\": 1}, \"lon\": [8.5491695404053, -77.45580292], \"mode\": \"lines\", \"opacity\": 0.16666666666666666, \"type\": \"scattergeo\"}, {\"lat\": [47.464698791504, 40.63980103], \"line\": {\"color\": \"red\", \"width\": 1}, \"lon\": [8.5491695404053, -73.77890015], \"mode\": \"lines\", \"opacity\": 0.3333333333333333, \"type\": \"scattergeo\"}, {\"lat\": [47.464698791504, 36.08010101], \"line\": {\"color\": \"red\", \"width\": 1}, \"lon\": [8.5491695404053, -115.15200039999999], \"mode\": \"lines\", \"opacity\": 0.08333333333333333, \"type\": \"scattergeo\"}, {\"lat\": [47.464698791504, 33.94250107], \"line\": {\"color\": \"red\", \"width\": 1}, \"lon\": [8.5491695404053, -118.40799709999999], \"mode\": \"lines\", \"opacity\": 0.16666666666666666, \"type\": \"scattergeo\"}, {\"lat\": [47.464698791504, 25.79319953918457], \"line\": {\"color\": \"red\", \"width\": 1}, \"lon\": [8.5491695404053, -80.29060363769531], \"mode\": \"lines\", \"opacity\": 0.16666666666666666, \"type\": \"scattergeo\"}, {\"lat\": [47.464698791504, 41.97859955], \"line\": {\"color\": \"red\", \"width\": 1}, \"lon\": [8.5491695404053, -87.90480042], \"mode\": \"lines\", \"opacity\": 0.16666666666666666, \"type\": \"scattergeo\"}, {\"lat\": [47.464698791504, 39.87189865112305], \"line\": {\"color\": \"red\", \"width\": 1}, \"lon\": [8.5491695404053, -75.24109649658203], \"mode\": \"lines\", \"opacity\": 0.16666666666666666, \"type\": \"scattergeo\"}, {\"lat\": [47.464698791504, 37.61899948120117], \"line\": {\"color\": \"red\", \"width\": 1}, \"lon\": [8.5491695404053, -122.375], \"mode\": \"lines\", \"opacity\": 0.16666666666666666, \"type\": \"scattergeo\"}, {\"lat\": [47.464698791504, 27.975500106811523], \"line\": {\"color\": \"red\", \"width\": 1}, \"lon\": [8.5491695404053, -82.533203125], \"mode\": \"lines\", \"opacity\": 0.08333333333333333, \"type\": \"scattergeo\"}, {\"lat\": [24.06329917907715, 26.072599411010746], \"line\": {\"color\": \"red\", \"width\": 1}, \"lon\": [-74.52400207519531, -80.15270233154297], \"mode\": \"lines\", \"opacity\": 0.08333333333333333, \"type\": \"scattergeo\"}, {\"hoverinfo\": \"text\", \"lat\": [70.13400268550001, 68.87509918, 69.73290253, 19.721399307250977, 28.545499801635998, 66.91390228, 64.301201, 65.99279785, 66.57150268554689, 61.09740067, 61.26639938, 62.894401550299996, 61.78030014, 42.47000122, 57.16730117797852, 58.6464004517, 56.5783004761, 59.75439835, 59.01139831542969, 59.361198425299996, 44.45159912, 36.68190002, 38.55390167, 35.2804985046, 34.2961998, 35.33660125732422, 61.2135009765625, 35.167301178, 36.73199844, 32.00999832, 47.949298999999996, 34.173099517800004, 30.724199300000002, 20.79560089111328, 34.65449905, 40.27669906616211, 42.36429977, 38.262699127196996, 43.23379898, 40.7187004089, 30.626800537100006, 37.72129821777344, 41.303199768066406, 48.14149856567383, 20.89859962463379, 37.649898529052734, 39.2976, 43.13990020751953, 59.04470062, 36.26150131225586, 33.43429946899414, 44.80739974975586, 26.1972999573, 32.38399887084961, 34.4945983887, 47.61989974975586, 26.0011997223, 37.61899948120117, 48.6083984375, 30.0378, 29.6900997162, 35.04240036010742, 31.4689998627, 63.994499206499995, 31.6378002167, 55.04240036010742, 46.8714981079, 34.916900634799994, 34.67869949, 35.1708984375, 36.0225982666, 29.359500885, 33.94250107, 33.58819962, 41.411701202399996, 39.12950134, 39.0488014221, 39.08539962769999, 35.6853981, 44.38520050048828, 58.35499954223633, 30.20529938, 40.69250106811523, 43.56439972, 36.5872001648, 37.9275016785, 48.2593994140625, 21.48349953, 32.38290023803711, 32.84709930419922, 38.67839813, 46.6068000793457, 32.86840057, 33.534999847399995, 33.922798, 46.123100280799996, 36.339199066199996, 34.120300293, 34.905398999999996, 30.12610054016113, 19.738800048828125, 33.6796989441, 36.33300018, 41.25310135, 37.1324996948, 36.668598175, 38.8521, 38.28599929999999, 28.727500915527, 35.9642982483, 39.45759963989258, 35.414699554443004, 38.289100646972656, 46.68899918, 47.07920074, 57.75, 20.265300750732425, 26.072599411010746, 35.65650177, 48.566200256347656, 40.78839874267578, 34.4337997437, 30.4104003906, 32.337299346900004, 39.05530167, 40.1935005188, 40.85100173950195, 42.77870178222656, 20.001300811767575, 44.93579864501953, 35.74110031, 27.765100479125977, 26.58659935, 29.98439979553223, 45.64780044555664, 38.810798645, 36.13370132446289, 34.597499847399995, 30.778799056999997, 44.05559921, 42.91099929999999, 35.43360138, 31.80719948, 26.228500366210934, 33.93880081176758, 32.1665000916, 30.35269928, 30.473400115967003, 47.961101532, 29.64539909, 39.701698303200004, 62.96129989999999, 61.59489822387695, 40.49150085, 71.285402, 29.6072998047, 48.35179901, 27.740900039699998, 30.967800140399998, 25.79319953918457, 47.44900131225586, 35.03530120849609, 41.16350173950195, 32.3111991882, 29.265300750732425, 33.81769943, 21.5795001984, 41.241798400878906, 39.7173, 38.73030090332, 41.0374984741, 33.4943008423, 41.06700134277344, 40.8437004089, 35.83169937133789, 26.59300041, 32.69919968, 31.84950066, 32.65660095, 32.337501525878906, 46.8420982361, 60.77980042, 38.2280006409, 31.58849906921387, 21.97599983215332, 39.45149993896485, 48.54299927, 47.20769882, 44.20349884, 37.50519943237305, 32.44660186767578, 60.49179839999999, 36.89459991455078, 29.9507999420166, 32.12760162, 41.12403, 64.51219940185547, 27.91020012, 45.12670135498047, 30.351800918600002, 70.19470215, 29.533700942993164, 43.118900299072266, 28.2348995209, 40.85010147089999, 44.14500046, 35.877601623535156, 39.90240097045898, 60.57310104370117, 34.88240051, 43.1072998046875, 30.715700149499998, 37.13190079, 31.3948993683, 34.667098999000004, 32.116100311279304, 48.41559982, 39.136100769, 41.07139968869999, 35.33940125, 41.73260116577149, 38.34049987792969, 38.48680114746094, 34.200698852539055, 42.212398529052734, 27.975500106811523, 48.94250106810001, 31.044799800000003, 64.66570282, 47.38660049, 31.2339992523, 31.9424991607666, 44.48509979248047, 34.30301, 40.01559829999999, 32.609100341796875, 33.36989974975586, 48.177898407, 34.729400634799994, 41.50410079956055, 48.7284011841, 38.5125007629, 59.64559936523438, 37.74160004, 33.91540146, 47.6151008606, 44.359798, 30.0695991516, 32.896800994873054, 28.10280036926269, 47.1376991272, 30.194499969482425, 39.813801, 46.3535995483, 35.81100082, 31.1387004852, 38.74869918823242, 39.36780166625977, 33.98880005, 39.10329819, 33.63669967651367, 37.38050079, 38.66759872, 42.88079834, 31.779600143400003, 36.77619934082031, 27.655599594116, 32.834201812699995, 36.1245002746582, 27.543800354003906, 61.2509994506836, 66.88469696, 40.29639816, 32.4207992554, 33.22100067138672, 40.77719879, 30.396499633789066, 41.90779877, 31.61129951477051, 44.320598602299995, 32.08349991, 35.59989929, 21.15290069580078, 37.9071006775, 31.35770034790039, 32.6694984436, 39.79539871, 44.471900939899996, 30.49410057067871, 37.1515007019, 38.94449997, 30.58860016, 47.682800292969, 42.94720077514648, 32.4113006592, 38.81809997558594, 45.58869934, 25.861799240112, 26.68320083618164, 32.8198013306, 44.681900024399994, 47.52999877929688, 29.38419914, 21.318700790405273, 41.53400039672852, 35.0730018616, 32.7336006165, 32.51089859008789, 33.97269821, 34.05599975585937, 33.0677986145, 33.30160140991211, 42.40919876, 25.90679931640625, 31.3213005065918, 39.008499145500004, 42.608299255371094, 36.7411994934, 27.77039909362793, 43.11119842529297, 24.57579994, 41.7859992980957, 37.36259841918945, 32.6875, 40.08190155, 39.861698150635, 39.87189865112305, 42.40259933, 32.692798614501946, 33.2369003296, 34.62939835, 29.52969933, 32.829200744628906, 39.99800109863281, 36.00510025024414, 34.64979935, 45.55989838, 39.8260993958, 64.73619843, 32.7816009521, 37.62189865, 29.82530022, 32.4122009277, 33.45370101928711, 44.6509017944336, 39.466202, 35.182800293, 61.174400329589844, 31.067199706999997, 35.08319854736328, 48.79280090332031, 35.356700897217, 38.88940048, 41.736698150635, 41.9207992554, 30.691200256348, 37.416099548339844, 35.617099761999995, 22.022800445599998, 30.8316993713, 19.760099411, 31.41769981384277, 27.84930038, 38.5452, 25.90699959, 29.3742008209, 26.53619956970215, 58.67679977, 40.43479919, 20.962900161743164, 40.63980103, 25.48859978, 33.95190048, 39.3683013916, 37.9402008057, 32.8525009155, 40.19979858, 41.15570068, 37.894199371338, 32.89860153, 39.49909973144531, 55.35559845, 42.23789978, 34.7373008728, 33.56290054, 40.03329849, 36.2361984253, 33.88069916, 37.62580109, 38.69540023803711, 42.422199249268, 38.805801391602, 42.94049835, 41.4333992004, 47.90629959, 43.043597999999996, 37.70100021362305, 41.9388999939, 26.17580032, 36.93759918, 42.19400024, 33.66360092163086, 41.97859955, 26.3784999847, 64.81510162, 38.50170135, 34.3828010559, 21.450500488299998, 41.118301391602, 62.15489960000001, 43.99190139770508, 33.829700469970696, 35.219398498535156, 42.55149841, 32.5018005371, 38.9509010315, 28.45669937, 34.27059936523437, 30.53319931, 32.35409927368164, 39.17539978, 34.991316999999995, 20.785600662231445, 31.32740020751953, 32.34149933, 55.20610046386719, 36.19839859008789, 57.04710006713867, 40.79520035, 44.8819999695, 39.67869949, 53.900100708000004, 29.99340057373047, 43.64619827, 35.39310073852539, 42.74829864501953, 61.13389969, 37.082901000999996, 33.67570114, 33.643798828099996, 25.6478996277, 36.8207016, 40.648101806599996, 42.90800095, 30.4832, 32.343898773193004, 24.556100845336914, 35.2140007019043, 36.08010101, 28.429399490356445, 34.18539810180664, 47.48199844, 41.26070023, 64.83750153, 45.19440079, 32.640098571799996, 46.7439, 46.3745002746582, 42.1599006652832, 42.49100112915039, 36.58700180053711, 34.42620087, 29.179899, 62.320499420165994, 41.26369858, 35.43619918823242, 36.097801208496094, 43.5820007324, 42.93259811401367, 26.1525993347, 38.1744, 38.13859939575195, 37.3255004883, 38.0364990234375, 38.0369987488, 35.04019927978516, 45.77750015, 45.807701110839844, 45.95479965209961, 44.74140167236328, 44.45000076, 44.06010056, 43.6072998046875, 42.19540023803711, 34.895698547399995, 40.47710037, 30.40730094909668, 42.234901428222656, 41.58679962, 40.97850037, 39.83459854125977, 41.88470077514648, 43.879002, 44.7775993347, 40.664199829100006, 44.258098602299995, 43.90829849243164, 40.03919983, 39.14099884033203, 41.3778991699, 39.1223983765, 37.0363888889, 30.0618000031, 28.42970085144043, 27.39539909362793, 34.209800720215, 41.44850158691406, 30.212099, 46.77270126342773, 37.9538002, 44.0452995300293, 33.12829971, 42.96540069580078, 40.50899887, 44.12459945678711, 43.51459884643555, 42.37419891357422, 44.254100799999996, 40.916099548339844, 34.637199401855, 39.34510040283203, 32.30059814, 36.47520065307617, 37.06079864501953, 36.92610168, 48.31050109863281, 43.532901763916016, 42.20869827, 33.6192016602, 56.80170059, 28.7775993347168, 40.31610107421875, 46.91630173, 35.95240020751953, 29.622299194335998, 39.57009888, 34.4250984192, 30.9157009125, 35.6542015076, 29.8181991577, 38.04970169, 32.28939819335937, 32.71900177, 31.15250015258789, 30.735300064087, 39.64260101, 41.5651016235, 40.82139968869999, 32.516300201416016, 34.5676994324, 40.4518013, 35.13850021, 38.89390182495117, 42.48180008, 41.393100738499996, 43.20270157, 41.3301010131836, 45.54660034179688, 33.450298309299995, 46.9711990356, 42.0831270134, 41.66930008, 34.848598480225, 39.64289856, 38.37310028076172, 41.338500976599995, 47.50939941, 46.92070007324219, 39.12319946289063, 44.3488998413, 40.8493003845, 32.33259963989258, 39.84410095, 37.3030014038, 40.48120117, 35.511100769, 37.04420089999999, 38.069698333699996, 39.37060165, 44.520198822, 37.24570084, 37.151798248291016, 40.652099609375, 36.281898, 41.70869827270508, 41.14339828, 40.97809982299805, 34.8292007446, 33.220600128174, 42.40200043, 45.44910049438477, 31.535499572753906, 33.94860076904297, 32.839900970500004, 42.55709838867188, 46.09489822, 45.07809829999999, 44.91400146, 41.8031005859375, 41.87400055, 37.787300109899995, 31.2588005065918, 40.783199310302734, 41.78020096, 37.22529983520508, 46.25080108642578, 39.2966003418, 48.120201110839844, 47.16839981079102, 37.76340103149414, 41.17829895, 44.86579895019531, 40.82490158081055, 41.67610168457031, 34.991199493408196, 48.2125015258789, 40.96749877929688, 34.47800064086914, 38.36669922, 40.09349822998047, 46.92969894, 41.31209945678711, 40.27590179, 41.12620163, 43.626098632799994, 42.15610122680664, 40.12170028686523, 47.04930114746094, 37.326698303222656, 43.16949844, 46.428001403808594, 34.74530029, 43.41709899902344, 37.74010086, 31.467100143432614, 42.9098014831543, 44.38270187, 45.57089996, 43.0778999329, 40.378501892089844, 45.63119888305664, 41.59420013, 43.52939987, 35.2368011475, 44.76919937133789, 44.38529968261719, 38.79100036621094, 34.89889908, 34.26810073852539, 39.94269943, 28.85260009765625, 30.78249931335449, 43.9656982421875, 46.56819916, 51.87799835205078, 58.42530060000001, 59.46009826660156, 62.18830108642578, 59.24380111694336, 61.53630065917969, 62.95289993, 62.09540176391602, 61.58160018920898, 61.5409, 56.48429871, 21.21100044, 59.2826004028, 37.295799255371094, 33.482898712158196, 46.26470184326172, 54.1337704415, 48.4838981628418, 19.9205, 42.26729965209961, 47.490200042725, 43.165500640869, 38.591201782199995, 42.071899414099995, 33.8720016479, 43.50439835, 43.15779876710001, 33.30780029, 68.13359833, 62.646702000000005, 70.46730041503906, 63.76679992675781, 61.52389908, 64.31909943, 62.0605011, 67.73619842529297, 60.37139892578125, 64.72720337, 66.249604, 63.6864013671875, 67.56610107421875, 68.1147, 39.707901, 55.31499862670898, 66.0696029663, 59.32400131225586, 59.4499015808, 55.11629867553711, 56.95909881591797, 59.05279922485352, 45.7226982117, 59.503299713100006, 37.75500107, 45.8184013367, 66.5518035889, 41.703300476100004, 60.12689971923828, 47.838298797600004, 44.9262008667, 40.2422981262207, 40.41230010986328, 36.21070098877, 42.59569931, 38.5097999573, 43.064201355, 45.695098877, 43.98440170288086, 47.3988990784, 41.61629867553711, 46.39830017, 37.8582992554, 35.6352005, 60.1492004395, 34.200801849365, 42.852500915527, 29.959199905395998, 38.50899887, 28.289800643899998, 30.181999206500002, 41.7911987305, 41.552398681599996, 42.16659927368164, 39.22320175, 29.9766998291, 38.68920135, 38.3442993164, 38.84220123, 38.662101745605, 47.82450104, 47.21110153, 48.06570053, 45.9323005676, 45.92789841, 41.69139862060547, 27.69260025, 33.4049, 35.05939865, 38.0654983521, 39.771900177002, 43.938999176025, 38.53390121, 33.803398132324, 44.2723999, 26.92020035, 47.2854995728, 42.15340042, 37.0533981323, 38.2638015747, 48.11420059, 46.7974014282, 47.70690155, 42.837600708000004, 42.0531997681, 40.20629883, 24.72610092, 47.13869858, 48.0945014954, 44.68840027, 37.434898, 38.75500107, 39.29970169, 40.4408989, 33.462799072266, 34.265499115, 44.88970184, 45.1237983704, 37.62409973, 48.5219993591, 48.708198547399995, 46.158000946, 44.58039855957031, 62.78609848, 63.88840103, 70.33080291750001, 62.6922988892, 70.2099990845, 60.21367264, 60.87440109, 60.790298461899994, 59.876499, 61.8642997742, 61.7788848877, 59.726600647, 58.9902000427, 66.6449966431, 64.77639771, 66.04109955, 65.69789886, 64.72930145263672, 67.0086975098, 66.36219787600001, 65.57379913, 66.88809967041, 35.65879822, 36.3186988831, 37.28469849, 57.503601, 58.1952018738, 58.2543983459, 58.0961, 56.9613990784, 55.13100051879883, 55.206298828125, 58.1855010986, 55.905998, 57.5803985596, 58.7033996582, 56.9387016296, 57.5671005249, 57.535099029499996, 67.106300354, 65.9815979004, 66.9759979248, 66.9123001099, 66.81790161, 66.60009766, 65.3312988281, 64.61470032, 64.5504989624, 65.2404022217, 65.62259300000001, 64.689201355, 64.9394989014, 63.49010086, 64.37110138, 65.56310272, 52.22029877, 60.0820007324, 62.6800422668, 59.9329986572, 54.8474006652832, 56.007499694824, 56.0060005188, 55.5792007446, 59.75510025, 63.030601501499994, 64.8760986328, 61.84529876710001, 59.980201721190994, 59.9608001709, 63.01860046386719, 60.9029006958, 70.6380004883, 60.0773010254, 63.32949829, 65.83049799999999, 61.7005004883, 63.8661994934082, 55.5546989440918, 63.88600158691406, 64.99759674069999, 39.40190125, 34.9878006, 40.354400634765625, 33.7790985107, 40.0797996521, 32.9686012268, 30.40010071, 35.331401825, 36.0181999207, 40.219200134277, 40.5163002, 39.3805999756, 38.73640060424805, 39.61389923, 35.8797988892, 34.571098, 35.021900177, 31.3425998688, 27.943399429299998, 37.6934013367, 37.510898590100005, 33.62670135498, 34.015800476100004, 33.748401641846, 33.622898101806996, 46.9693985, 38.57910156, 39.52629852, 41.44490051269531, 33.8755989075, 39.14599990844727, 27.18169975, 40.799400329589844, 38.2132, 32.572299957275, 27.071599960327, 26.78499985, 30.357105999999998, 34.0954017639, 37.511901855469, 35.856300354003906, 60.47570037841797, 32.826198577880994, 39.3199996948, 34.01319885, 44.7356987, 45.6994018555, 45.80640029907226, 42.742900848389, 27.988899230999998, 33.485699, 33.5741996765, 41.516300201416016, 39.5890007019, 39.75719833374024, 41.013500213600004, 44.48030090332, 34.9786987305, 39.90879822, 44.90950012, 34.680999755859, 43.11040115356445, 42.620300293, 32.66389846801758, 33.97809982, 36.9645004272, 36.039600372314, 37.706401825, 38.830898284899995, 38.8041992188, 39.09780121, 34.47090149, 29.2112998962, 41.6072998, 37.9897003174, 25.325399398804002, 39.840301513671996, 39.068698883056996, 33.17789841, 42.114222, 46.11800003049999, 39.427898407, 32.4095993042, 32.954899, 33.42039871, 32.95809937, 35.39730072, 40.61529922, 41.80559921, 40.875198364300005, 38.0960006714, 30.901599884032997, 35.9728012085, 31.429000854499996, 33.688301086399996, 29.35950088501, 63.7326011658, 61.18000030517578, 66.814102172852, 40.1749992371, 31.68370056152344, 28.086799621599997, 31.98880005, 29.300600051879886, 45.54940032959001, 45.540401, 39.168300628699996, 45.3047981262207, 29.467399600000004, 44.53459930419999, 32.6809005737, 41.3496017456, 41.1680984497, 60.471000671386996, 60.54140091, 30.971500399999996, 39.40299987792969, 34.2593002319, 36.9886016846, 29.72750092, 31.47669982910156, 27.49510002, 41.8744010925293, 41.90900039672852, 41.597099304199, 42.1904983521, 42.157799, 41.74399948120117, 41.50999832, 40.2170982361, 42.09830093383789, 41.3714981079, 42.781700134299996, 42.7172012329, 41.47859954834, 42.554100036621094, 34.12310028076172, 34.089977000000005, 34.3506011963, 33.972599, 35.96390151977539, 33.98289871, 32.645301818847656, 34.72290039, 33.63100051879883, 33.0088996887, 33.15420151, 32.8406982422, 33.3572998046875, 34.27259827, 40.470901489258, 34.44940186, 32.2243995667, 33.4664993286, 35.8202018737793, 37.561798100000004, 34.59379959, 32.9875984192, 42.79719924926758, 39.01119995, 37.32360076904297, 26.247100830078, 33.17699814, 39.93519974, 37.0821990967, 35.13180161, 42.7606010437, 34.08530044555664, 33.989700317382805, 47.26789856, 30.29050064, 40.9868011475, 39.615398407, 43.2117004395, 41.51779938, 41.351898, 42.2597999573, 40.1375007629, 27.2628002167, 27.45639992, 27.59119987, 28.06290054, 28.2282009125, 29.17259979, 31.55400085, 33.6120986938, 33.311599731445305, 33.52970123, 33.6493988037, 34.2835998535, 34.609901428200004, 35.23740005, 34.8913, 43.52270126, 35.765300750732, 42.69070053100586, 41.13560104, 41.34429932, 41.51750183105469, 42.49330139, 39.9429016113, 40.617401123, 41.639702, 40.86470031738281, 43.03170013, 27.9766998291, 41.85879898071289, 34.453399658203125, 33.811698913600004, 41.5349006652832, 33.039199829101555, 41.933399200000004, 41.2971992493, 41.6839981079, 38.18249893, 44.048500061000006, 25.9950008392, 46.0093002319, 43.9706001282, 42.35120010375977, 44.6369018555, 44.360298156700004, 41.8311004639, 42.5842018127, 36.773899078369006, 44.910099029541016, 40.4598999023, 44.93450164794922, 43.771198272700005, 44.33330154, 44.5452003479, 46.31119918823242, 40.7533988953, 36.621898651100004, 34.665599823, 39.97900009, 44.264499664300004, 40.706902, 31.15180016, 40.7724990845, 33.311698913600004, 35.22010040283203, 47.4930992126, 34.091598510742, 29.6354999542, 34.67190170000001, 37.6944999695, 30.678800582885746, 41.10129929, 44.312801, 39.07799911499024, 43.23469925, 40.039398193400004, 37.461101532, 33.4608001709, 32.935901641845696, 34.7299995422, 32.9908056, 33.96889877, 42.665500640869006, 42.898399353027344, 41.639198303200004, 43.91339874267578, 38.942902000000004, 31.382400512694996, 31.26479912, 42.916698455811, 37.659198761, 42.2229995728, 33.389099, 26.43320084, 37.183799743652, 43.76959991, 32.5106010437, 33.526901245117195, 32.85480118, 36.898899078369006, 43.3412017822, 43.05130005, 28.867300033569336, 39.32569885, 38.90919876098633, 41.19079971, 43.9911003113, 30.042400360107003, 47.77429962, 30.070699691799998, 40.19919968, 28.514799118042003, 29.722499847399998, 44.827201843299996, 38.84759903, 39.9901008605957, 38.72140121, 39.410400390599996, 34.31549835205078, 43.28409957885742, 38.0582008362, 41.3918991089, 46.21340179, 46.6769981384, 46.687400817871094, 41.27479935, 39.90420150756836, 32.89780045, 31.951299667399997, 33.92679977416992, 35.91899872, 32.61510086, 42.078499, 33.31290054, 38.8744010925293, 45.0620002746582, 32.0848999023, 32.56439972, 44.49720001, 41.195899963379, 35.02159881591797, 40.1755981445, 47.233600616455, 60.69029998779297, 60.70289993, 35.911800384521484, 40.3330001831, 35.570499420166, 35.562400817871094, 36.2228012085, 32.70090103149414, 36.572898864746094, 37.1417007446, 34.71289825, 33.82849884, 35.65449905, 36.6869010925293, 34.086101532, 37.600399017333984, 29.336999893188, 35.438201899999996, 30.88570023, 37.8567008972168, 30.371098999999997, 30.3841991425, 34.1115989685, 38.05810165, 41.7193984985, 41.44620132446289, 33.970500946, 36.60680008, 38.35240173, 34.7583007812, 32.51060104370117, 34.403099060100004, 35.935001, 33.9292984, 37.40650177, 36.36159897, 28.82309914, 33.97470093, 39.93270111, 35.67290115, 37.5134010315, 34.74110031, 36.28490067, 33.569900512699995, 34.847900390599996, 44.22159958, 31.860399246216, 33.171798706054695, 31.29969978, 32.914699554399995, 39.87590027, 38.47430038452149, 40.452099, 37.70159912, 41.241298675500005, 40.7910003662, 37.49140167, 41.2592010498, 40.528198242188, 37.43539810180664, 37.000702000000004, 39.785301208496094, 40.9379997253, 36.6851005554, 37.27690124511719, 37.60400009, 37.1584014893, 37.67160034179688, 38.20859909, 31.10619926452637, 28.9733009338, 33.636600494385, 37.09400177, 40.4374008179, 41.44910049, 45.29019927979999, 41.13750076, 40.435199737549, 33.923099517800004, 41.985500335693004, 48.16070175, 27.915599822998, 41.07649993896485, 41.45399857, 43.96250153, 37.332901000999996, 36.9356994629, 37.239200592041016, 40.224700927734375, 38.89030075069999, 45.866298675500005, 39.2619018555, 31.179300308200002, 37.373100280799996, 44.8372993469, 42.58509827, 36.3689002991, 42.3073005676, 42.5425987244, 43.072601318400004, 37.668800354, 30.3362998962, 35.9513015747, 38.715000152600005, 34.85369873, 32.262298584, 36.6194, 34.7663002014, 30.65040016, 40.8033981323, 29.8927001953125, 46.02519989010001, 30.5112991333, 33.638599400000004, 40.0663986206, 45.54650116, 31.17849922, 37.778099060058594, 33.92079926, 43.89220047, 30.39109993, 33.456798553467, 41.44800186, 41.10660172, 31.27569962, 42.79550171, 41.6265983581543, 45.14830017, 38.872100830078004, 44.54719925, 36.662799835205, 30.585699081420998, 34.59059906, 38.06019974, 45.24710083007813, 39.125999450684, 34.384300231934, 30.7469005585, 42.85779953, 40.8965988159, 36.438, 28.4675998688, 39.9444007874, 64.54730224609375, 61.5717010498, 63.985000610352, 53.309700012200004, 44.880798339799995, 43.4608001709, 49.9561004639, 56.653301238999994, 45.3224983215332, 46.7911, 46.11220169067383, 50.43190002441406, 43.627499, 45.4706001282, 49.193901061999995, 49.909999847399995, 52.170799255371094, 43.035599, 51.113899231000005, 48.646900177, 47.618598938000005, 43.6772003174, 5.605189800262451, 6.5773701667785645, 50.9014015198, 50.033333299999995, 53.630401611328004, 51.28950119018555, 48.353801727295, 48.6898994446, 52.559700012200004, 60.317199707031, 54.6575012207, 52.4538993835, 53.35369873046875, 51.14810180664063, 51.4706, 55.8718986511, 55.95000076293945, 52.308601379399995, 53.42129898071289, 52.701999664307, 55.617900848389, 60.29339981, 60.193901062011996, 52.1656990051, 59.651901245116996, -26.1392, 33.36750030517578, 14.739700317382812, 30.12190055847168, 41.297100067139, 40.471926, 43.658401489300005, 49.0127983093, 48.7233333, 45.6306, 45.505299, 41.800277799999996, 32.011398315429695, 48.110298156738004, 37.7411994934, 41.248100280799996, 38.7812995911, 46.23809814453125, 47.464698791504, 40.976898193400004, 21.77359962463379, 18.45070075988769, 18.567399978599997, 19.75790023803711, 18.42970085144, 19.406099319458008, 14.58329963684082, 15.45259952545166, 16.316799, 14.06089973449707, 17.935699462890625, 18.503700256347656, 16.757099151611328, 21.705601, 15.77530002593994, 18.65369987487793, 28.702899932900003, 20.52239990234375, 24.1242008209, 20.521799087524414, 29.095899581900007, 25.54949951171875, 20.993499755900004, 25.989200592041016, 20.9370002747, 19.849899292, 19.4363, 25.7784996033, 23.1613998413, 16.9999008179, 19.1581001282, 19.396699905395508, 20.680099487304688, 20.6173000336, 23.15180015563965, 22.254299163800006, 25.568300247199996, 22.2964000702, 19.3370990753, 21.036500930800003, 17.996999740600586, 19.145900726300003, 22.8971004486, 17.601600647, 19.144800186199998, 12.141500473022461, 9.0713596344, 10.593299865722656, 9.993860244750977, 13.4409, 18.57999992370605, 19.292800903299998, 26.511400222800003, 26.745300293000003, 25.6998996735, 23.5625991821, 25.474899291999996, 25.2847003937, 26.5587005615, 25.0389995575, 24.06329917907715, 17.539100646972653, -21.202699661300002, -17.755399703979492, -13.829999923706055, -14.3310003281, -37.0080986023, 21.6796, 24.957599639892575, 31.7226009369, 29.226600646972656, 24.433000564575195, 25.252799987800003, 13.4834003448, 7.064760208129883, 1.9861600399017332, 25.0777, 35.764701843299996, 42.77519989013672, 33.585899353027344, 35.552299, 14.5086, -1.3792500495900002, -15.86916732788086, -19.62444305419922, -3.038609981536865, -22.809999465900002, -23.435556411743164, -29.994400024414066, -8.126489639282228, -12.9086112976, -33.393001556396484, -2.15741991997, -0.129166666667, -25.239999771118164, 4.452780000000001, 4.70159, 10.8896, 10.4424, 3.54322, 6.164540000000001, -17.644800186157227, -12.0219, -34.838401794433594, 10.107099533081056, 10.5582084656, 10.6031169891, 17.1367, 13.0746002197, 14.590999603271484, 16.265300750732422, 12.004199981689453, 18.337299346923828, 17.701900482177734, 18.49489974975586, 18.00830078125, 18.4393997192, 17.311199188232422, 13.7332, 12.501399993896484, 12.130999565124512, 12.1889, 18.0410003662, 11.149700164794922, 10.595399856567383, 50.34500122070313, 55.972599, 55.591499328599994, 19.088699340799998, 22.3089008331, 28.56649971008301, -27.38419914245605, -37.673301696777344, -33.94609832763672, 40.0801010131836, 23.39240074157715, 31.143400192260746, 37.46910095214844, 37.9364013672, 34.8583984375, 56.92359924316406, -34.8222, 34.42729949951172, 55.40879821777344, 32.363998413085945, -17.5536994934, 6.498549938201903, 14.924500465393065, 19.267000198399998], \"lon\": [-143.582000732, -166.1100006, -163.00500490000002, -155.04800415039062, -81.332901000977, -151.529007, -149.119995, -153.7039948, -145.25, -155.5740051, -149.6529999, -155.977005005, -166.03900149999998, -71.28900146, -170.22000122070312, -162.06300354, -169.662002563, -154.9109955, -161.82000732421875, -155.259002686, -83.39409637, -121.762001, -121.29799650000001, -116.629997253, -116.16200259999998, -94.36740112304688, -149.843994140625, -107.902000427, -97.09980011, -81.14569855, -97.176102, -91.9356002808, -87.02189636, -156.01400756835938, -112.41999820000001, -74.8134994506836, -71.00520325, -121.92700195312, -75.40699768, -114.03099823, -88.06809997559998, -122.22100067138672, -95.89409637451172, -123.41400146484376, -156.42999267578125, -97.43309783935548, -94.713898, -89.3375015258789, -158.50500490000002, -93.15470123291016, -112.01200103759766, -68.82810211181639, -80.1707000732, -94.71150207519531, -82.70939636230001, -117.53399658203124, -80.24069976810001, -122.375, -112.375999451, -91.883904, -82.27179718020001, -89.97669982910156, -109.60399627700001, -145.722000122, -97.07409667969999, -131.57200622558594, -68.0178985596, -92.14969635010002, -86.68479919, -79.014503479004, -102.54699707, -100.77799987799999, -118.40799709999999, -85.85810089, -81.8498001099, -75.46600342, -84.6678009033, -76.7593994141, -117.6920013, -98.22850036621094, -134.57600402832028, -91.98760223, -74.168701171875, -116.22299960000001, -115.672996521, -100.72399902299999, -101.27999877929688, -158.03999330000002, -86.36579895019531, -96.85179901123048, -104.75700379999999, -111.98300170898438, -117.1429977, -112.383003235, -118.334999, -67.79209899899999, -97.9164962769, -119.12100219700001, -117.884003, -93.22329711914062, -156.04600524902344, -78.9282989502, -119.95200349999999, -70.06020355, -76.60880279540002, -87.49620056150002, -77.037697, -76.41179657, -96.25099945068399, -89.94400024410002, -74.57720184326172, -97.386596679688, -104.49700164794922, -68.0447998, -122.5810013, -152.4940033, -155.86000061035156, -80.15270233154297, -95.36669922, -93.4030990600586, -111.97799682617188, -100.288002014, -88.92440032959999, -84.9913024902, -96.76450348, -76.7633972168, -96.75920104980469, -84.58740234375, -155.66799926757812, -74.84559631347656, -81.38950348, -82.62699890136719, -81.86329650879998, -95.34140014648438, -68.68560028076172, -76.86699676510001, -80.22200012207031, -117.383003235, -86.522102356, -75.71949768, -82.52890015, -119.0569992, -106.37799840000002, -97.65440368652344, -81.11949920654297, -110.883003235, -87.31860352, -87.18659973144501, -97.4011993408, -95.27890015, -104.75199890100001, -141.9290009, -149.08900451660156, -80.23290253, -156.766008, -95.15879821780001, -122.65599820000001, -98.02690124510002, -83.1930007935, -80.29060363769531, -122.30899810791016, -85.20379638671875, -73.1261978149414, -90.0758972168, -94.8603973388672, -118.15200039999999, -158.197006226, -76.92109680175781, -86.294403, -93.547897338867, -81.46690368649999, -90.08470153809999, -73.70760345458984, -72.6317977905, -90.64640045166016, -80.08509827, -117.2149963, -106.3799973, -114.6060028, -104.26300048828124, -92.19360351559999, -161.8379974, -85.6636962891, -110.34400177001952, -159.33900451660156, -87.30760192871094, -109.762001, -119.3199997, -72.56230164, -77.3197021484375, -93.82559967041016, -145.4779968, -76.20120239257812, -94.02069854736328, -81.20210266, -111.97308600000001, -165.44500732421875, -82.68740082, -87.63839721679688, -95.41449737549999, -148.46499630000002, -98.46980285644531, -77.67240142822266, -80.6100997925, -74.060798645, -103.1039963, -78.7874984741211, -84.21939849853516, -151.2449951171875, -95.78350067, -78.94619750976562, -96.3313980103, -76.49299622, -92.29579925540001, -99.26670074459999, -110.94100189208984, -101.3580017, -121.43699646, -87.84629821780001, -77.96060181, -71.42040252685547, -75.51029968261719, -121.10299682617188, -118.35900115966795, -83.35340118408203, -82.533203125, -97.2407989502, -93.1917038, -147.102005, -92.83899689, -94.75, -102.2020034790039, -88.12960052490234, -97.01963420000001, -74.59169769, -82.36990356445312, -81.9645004272461, -103.64199829100001, -92.22429656979999, -74.10479736328125, -94.61219787600001, -121.49299621600001, -151.4770050048828, -92.14070129, -84.51629639, -117.65599823, -84.671095, -85.57540130619998, -97.03800201416016, -80.64530181884766, -122.475997925, -97.6698989868164, -82.927803, -87.39540100100001, -83.99400329999999, -97.7145004272, -90.37000274658205, -75.07219696044922, -98.49189758, -84.41860199, -84.4281005859375, -120.5680008, -121.40100100000001, -85.52279663, -103.20099639899999, -119.71800231933594, -80.417900085449, -115.57900238, -86.6781997680664, -99.46160125732422, -149.8070068359375, -162.598999, -78.31999969, -99.85459899899999, -92.81330108642578, -73.87259674, -84.35030364990234, -88.24859619, -97.23049926757812, -69.7973022461, -97.09719849, -88.91560364, -157.0959930419922, -85.9720993042, -100.49600219726562, -115.51300048799999, -121.8580017, -73.15329742429998, -81.68789672851562, -107.75399780299999, -77.45580292, -96.36380005, -117.32299804688, -87.89659881591797, -99.68190002440001, -92.21959686279295, -122.59799960000001, -80.897003173828, -80.09559631347656, -97.36239624019998, -75.46549987790002, -122.302001953125, -98.58110046, -157.9219970703125, -93.66310119628906, -77.04290008539998, -117.190002441, -92.0376968383789, -80.47059631, -117.60099792480469, -96.0652999878, -104.53099822998048, -83.00990295, -97.4259033203125, -85.44960021972656, -74.9083023071, -82.83550262451172, -108.230003357, -97.5011978149414, -76.1063003540039, -81.68890381, -87.75240325927734, -121.9290008544922, -103.21700290000001, -75.01059723, -104.672996521, -75.24109649658203, -96.38439941, -83.64920043945312, -107.27200317399999, -118.08499909999999, -98.27890015, -115.6719970703125, -82.89189910888672, -94.17009735107422, -98.40219879, -93.60820007, -84.04830169680001, -156.93699650000002, -98.0602035522, -97.26820374, -90.03500366, -80.6343994141, -93.99099731445312, -73.46810150146484, -76.1688, -103.60299682600001, -149.99600219726562, -97.8289031982, -108.79199981689452, -122.53800201416016, -89.87030029296899, -79.85710144, -72.64939880371101, -71.49140167239999, -88.242797851562, -122.04900360107422, -106.08899688700001, -159.785003662, -93.3398971558, -155.554000854, -110.8479995727539, -82.52120209, -89.835197, -80.27839661, -100.92700195299999, -81.75520324707031, -156.6490021, -76.56939697, -156.67300415039062, -73.77890015, -80.38359833, -117.4449997, -94.9147033691, -75.46640014649999, -106.107002258, -75.14820099, -104.81199649999999, -121.2379989624, -80.04049683, -119.76799774169922, -131.7140045, -83.53040314, -120.583999634, -86.75350189, -74.353302, -115.03399658200001, -117.2590027, -120.9540024, -121.59100341796876, -87.86789703369101, -104.70099639893, -78.73220062, -82.6522979736, -122.28199769999999, -115.872002, -113.0989990234375, -72.68319702149999, -98.23860168, -76.28929901, -72.53479767, -101.822998046875, -87.90480042, -80.1076965332, -147.85600280000003, -77.30529785, -103.321998596, -157.76800537100002, -95.912498474121, -145.4570007, -76.02169799804688, -116.50700378417969, -101.70600128173828, -94.19259644, -93.6626968384, -95.6635971069, -99.22029877, -77.90260314941406, -91.14959717, -95.40239715576172, -76.66829681, -99.05131300000001, -156.9510040283203, -92.54979705810548, -106.40299990000001, -162.72500610351562, -95.88809967041016, -135.36199951171878, -73.10019684, -93.22180175780001, -75.60649872, -166.54400634799998, -90.25800323486328, -70.30930328, -97.60070037841795, -73.80169677734375, -146.24800109999998, -76.360496521, -117.86799620000001, -88.44380187990002, -80.432800293, -76.03350067, -86.15209960940001, -106.4639969, -86.525398, -86.98780059814501, -81.75959777832031, -80.94309997558594, -115.15200039999999, -81.30899810791016, -79.7238998413086, -111.3710022, -80.67910004, -147.6139984, -123.13600159999999, -83.59190368649999, -117.110001, -117.01499938964844, -76.8916015625, -76.4583969116211, -121.84300231933594, -119.8399963, -81.058098, -150.09399414062, -72.88680267, -82.54180145263672, -79.93730163574219, -96.741897583, -71.43569946289062, -81.7752990723, -85.736, -78.4529037475586, -79.975402832, -84.60590362548828, -87.53240203860001, -106.60900115966795, -111.15299990000001, -108.54299926757812, -112.49700164794922, -85.58219909667969, -68.36150359999999, -69.09919739, -110.73799896240234, -89.09719848632812, -82.2189025879, -88.91590118, -89.07009887695312, -85.5521011352539, -83.80780029, -85.19509888, -88.8656997680664, -91.71080017089844, -91.256699, -89.6668014526, -89.6932983398, -88.51909637450001, -92.5, -88.27809906, -96.6707992553711, -79.8603973389, -108.527000427, -113.510305556, -95.5528030396, -96.44439697265624, -82.55439758300781, -118.48999786376999, -90.50749969482422, -85.6828, -100.74600219726562, -107.90799709999999, -103.05699920654295, -117.27999879999999, -83.74359893798828, -122.2929993, -123.21199798583984, -112.0709991455078, -122.8730010986328, -121.15000149999999, -81.44219970703125, -86.775100708008, -81.43920135498047, -86.39399719, -82.40740203857422, -88.7738037109375, -111.447998, -114.25599670410156, -84.07959747314453, -75.97979736, -114.717002869, -132.9450073, -81.23750305175781, -78.83390045166016, -114.0910034, -112.14700317382812, -95.65650177001999, -104.84899899999999, -103.07900238, -102.916000366, -105.14199829100001, -95.6725997925, -103.5090027, -106.9219970703125, -98.8909988403, -97.40779876708984, -101.20300292969, -106.9179993, -81.4863967896, -82.5166015625, -84.93890380859375, -98.4166030884, -105.01100158700001, -111.6709976, -119.99500274658205, -114.487999, -70.6143035889, -71.50229645, -72.04509735107422, -94.05989837646484, -88.59140014649999, -123.93699646, -80.1738667488, -70.28040314, -111.78800201416, -79.91629791, -81.59320068359375, -75.72339630130001, -94.93370056, -96.81580352783205, -94.5927963256836, -105.539001465, -77.84870147710002, -88.75189971923828, -89.67790222, -108.627998352, -107.21800230000001, -108.789001465, -100.95999909999999, -102.68800354, -101.6989975, -109.024002075, -93.38860321, -94.49829864501952, -75.44080352783203, -94.30680100000001, -86.31729888916016, -85.15280151, -124.10900115966795, -77.61209869380002, -87.611396789551, -90.70950317, -98.42179870605469, -84.19450378417969, -83.32630157470703, -105.990997314, -92.40029907226562, -118.288002, -83.56030273, -97.15470123, -78.64009857177734, -103.5960007, -81.1241989136, -81.46649932861328, -91.12550354003906, -124.23699950000001, -89.57080078125, -84.47239685058594, -80.2281036377, -123.5, -88.48909759521484, -99.9655990600586, -78.8986969, -91.48429870605469, -115.79199981689452, -70.95690155029297, -78.88030242919922, -106.61499786376952, -98.30960083007812, -93.09619903564452, -82.55799866, -92.5448989868164, -98.67819977, -105.6750030517578, -79.40480042, -100.6839981, -72.30419921880002, -121.73300170898438, -76.29609680175781, -109.46700286865234, -79.20040130615234, -86.23819733, -105.88600158691406, -87.61019897, -124.24600219726562, -87.16680145, -89.33709716796875, -112.59600067138672, -100.2860031, -84.79669952, -70.8233032227, -75.96520233154297, -89.46749877929688, -109.0650024, -72.94960022, -120.64199829100001, -106.9800033569336, -74.2061996459961, -97.6521987915039, -120.4570007, -88.7698974609375, -91.19460297, -96.9185028076172, -83.27670288085938, -107.95099639892578, -120.5439987, -176.64599609375, -135.7070007, -135.31599426269528, -159.77499389648438, -135.52400207519528, -160.34100341796875, -155.60600280000003, -163.6820068359375, -159.54299926757812, -165.6005, -132.36999509999998, -156.973999, -158.617996216, -81.20770263671875, -90.98560333251952, -119.11900329589844, -165.77889561700002, -122.93800354003906, -155.8607, -71.87570190429688, -122.76499938965, -95.202796936035, -92.1560974121, -70.2213973999, -117.980003357, -114.2959976, -93.33129882809999, -111.65499879999999, -151.7429962, -160.190994, -157.43600463867188, -171.73300170898438, -166.1470032, -158.74099730000003, -163.30200200000002, -164.56300354003906, -166.27099609375, -155.47000119999998, -166.089112, -170.4929962158203, -162.97500610351562, -145.578995, -77.72949982, -160.5229949951172, -162.76600647, -155.90199279785156, -157.32800293, -162.26600646972656, -158.63299560546875, -160.39700317382812, -87.0936965942, -139.660003662, -89.01110077, -88.11450195309999, -152.621994019, -86.8211975098, -149.41900634765625, -90.3828964233, -89.62660217290001, -85.3958969116211, -86.93689727783203, -115.19400024414, -87.92780304, -107.89399719200001, -108.459999084, -118.84100341799999, -88.55699920654297, -120.20700073200001, -87.41280364990234, -94.13809967, -80.3994979858, -77.38529968, -164.285995483, -119.20700073241998, -73.92890167236301, -81.339797973633, -122.8130035, -81.43710327149999, -82.57689666750002, -111.851997375, -112.06199646, -112.2969970703125, -106.8690033, -99.08570098879999, -75.35890198, -98.85919952389999, -99.27320099, -90.652000427246, -91.83070374, -93.50980377, -96.18499756, -89.26830291750002, -89.73090363, -93.56639862060548, -97.29109955, -118.416, -118.15200039999999, -97.86060333250002, -94.909698486328, -90.253402709961, -106.9329987, -118.33999633789, -86.24690247, -81.99050140000001, -68.31279754639999, -79.25800323, -84.61589813229999, -78.8964004517, -98.90879822, -102.80200195299999, -104.1930008, -103.095001221, -102.804000854, -100.59200290000001, -81.05139923, -104.8069992, -105.57499694799999, -111.11799620000001, -105.866997, -109.7549973, -114.84200290000001, -109.5100021, -105.53500366211, -110.005996704, -116.10099790000001, -113.880996704, -118.83799740000002, -123.024002075, -122.91000366200001, -123.87899780299999, -124.05799865722656, -164.49099730000003, -160.798996, -149.59800720200002, -159.569000244, -151.00599670399998, -162.0438843, -162.5240021, -161.444000244, -163.169005, -162.026000977, -161.319458008, -157.259002686, -159.050003052, -143.74000549299998, -141.151001, -154.26300049999998, -156.3509979, -158.07400512695312, -146.365997314, -147.406997681, -144.78300480000001, -157.16200256348, -117.83000179999999, -119.392997742, -120.5139999, -134.58500700000002, -136.347000122, -134.897994995, -135.410111, -133.910003662, -131.5780029296875, -132.8280029296875, -157.375, -159.162993, -157.572006226, -157.007995605, -154.182998657, -154.449996948, -153.977996826, -157.85699462899998, -161.149002075, -160.43699646, -156.897003174, -161.01899719999997, -159.98599240000001, -166.46600341799999, -162.2720032, -163.007003784, -166.339004517, -168.095, -163.412994385, -161.154006958, -162.1100006, -161.223999, -167.9219971, -174.2059937, -142.492996216, -164.65992736799998, -164.031005859, -163.41000366210938, -161.16000366211, -160.561004639, -133.076004028, -161.84500119999998, -163.533004761, -157.727005005, -165.570999146, -154.8390045166, -162.88099670399998, -154.35800170898438, -161.231002808, -159.994995117, -147.992004395, -142.9539948, -144.076008, -157.166000366, -148.968994140625, -133.10200500488278, -152.302001953125, -150.643997192, -77.98459625, -81.05719757, -79.9301986694336, -84.5214004517, -83.072998046875, -96.8364028931, -86.47149658, -77.60880279540002, -75.67130279540002, -111.72299957275, -106.8659973, -112.508003235, -112.0989990234375, -110.7509995, -106.26899719200001, -114.358002, -110.722999573, -109.505996704, -81.78340148930002, -121.819999695, -120.040000916, -116.16000366211, -118.45099639899999, -116.27500152588001, -111.91100311279, -122.90299990000001, -121.8570023, -107.72699740000002, -106.8239974975586, -84.3020019531, -86.61669921875, -80.22109985, -74.41490173339844, -122.280998, -116.98000335693001, -82.440299987793, -80.69339752, -85.79541400000001, -117.23500061, -122.25, -77.89189910888672, -151.03399658203125, -116.97200012206999, -120.13999939, -84.59860229, -112.720001221, -110.44799804700001, -109.9810028076172, -86.10739898681601, -82.0186004639, -90.67890200000001, -117.127998352, -82.86869812011719, -84.224899292, -84.8427963256836, -83.66870117190001, -103.78299713135, -89.78690338130001, -105.11699679999998, -123.00299840000002, -90.34670257568399, -88.0344009399414, -89.0416030884, -97.09429931640624, -83.96240234, -86.41970062259999, -95.98459625244101, -112.144996643, -94.890296936, -76.06900024410002, -121.5699997, -97.95989990000001, -99.74359893799999, -88.09619904, -122.056999207, -80.274803161621, -83.840202331543, -95.62249755859399, -96.59049988, -87.901494, -122.898002625, -83.79209899899999, -111.21800231899999, -111.766998, -112.685997, -112.6780014, -84.56259918, -103.26499940000001, -107.1999969, -74.2814025879, -92.54949951170002, -83.881301879883, -115.134002686, -83.4885025024, -112.083000183, -99.17669677734399, -148.910995483, -149.9720001220703, -150.64399719238, -80.6463012695, -83.27050018310547, -97.04460144040002, -83.77390289, -81.11360168457031, -122.40100097656, -122.949997, -77.1660003662, -85.2748031616211, -81.20629883, -72.6139984131, -96.86820220950001, -71.80339813229999, -71.577796936, -164.70100402832, -165.0870056, -84.63739777, -119.2509994506836, -118.413002014, -120.11199951200001, -85.02749634, -82.8604965209961, -80.36830139, -71.0166015625, -70.72879791259766, -71.412101745605, -71.1728973389, -72.715599, -72.1802978515625, -74.26460266, -76.85150146480001, -70.67220306396484, -73.48220062259999, -71.51480102539998, -71.1233978271, -73.13520050048801, -71.75900268554688, -84.84870147705078, -85.610069, -85.15799713130002, -86.088996, -83.8739013671875, -83.66739655, -81.59709930419922, -84.87020111, -85.1520004272461, -85.0726013184, -83.24069977, -84.8824005127, -84.5718002319336, -83.8302002, -81.419700622559, -79.89009857, -80.6975021362, -82.0393981934, -81.61139678955078, -82.56639862, -83.29579926, -97.3188018799, -88.37259674072266, -95.21659851, -97.38829803466795, -80.11109924316399, -86.78279877, -86.04499817, -84.08489990230001, -78.93669891, -87.8152008057, -117.14600372314452, -117.41100311279295, -122.57800290000002, -87.67179871, -75.99490356449999, -78.76090240479999, -90.18160247799999, -88.17549896, -89.153099, -84.45939636230001, -75.26509857180001, -80.8498001099, -81.3423996, -81.52780151, -81.75330353, -82.15589904790002, -82.22419739, -81.88249969, -83.46040344240002, -84.7697982788086, -82.51650238, -81.68499755859999, -80.56490325930001, -79.05940246579998, -79.39119720000001, -79.759598, -89.77020264, -80.953903198242, -88.30460357666016, -77.42230225, -82.17759705, -81.68329620361328, -79.27200317, -74.845703125, -74.2445983887, -85.083504, -84.6093978881836, -78.16760254, -82.7586975098, -87.60790252685547, -84.4573974609375, -78.72389984130002, -87.52950286865234, -116.91500091552734, -85.05259705, -75.8511962891, -81.3897018433, -84.90470123, -70.2835006714, -81.6725006104, -83.74389648440001, -84.47499847410002, -86.25569915771484, -90.1893005371, -89.83899688720001, -90.3291015625, -70.91649627689999, -90.324897766113, -67.01270294189453, -91.4284973145, -93.05999755859376, -88.48840332030001, -89.01979828, -89.53029632568399, -85.4572982788086, -82.7238006592, -87.41500091549999, -120.46800231899999, -75.86550140000001, -73.96189880370002, -84.026703, -81.39129639, -80.39140319820001, -79.3196029663, -84.8323974609375, -122.21600341799999, -117.78199768066001, -83.10479736330002, -82.8864975, -97.2149963379, -97.6793975830078, -102.98500059999999, -83.422302, -77.55750274658203, -77.1210022, -105.225997925, -122.114997864, -111.72799682600001, -111.427001953125, -112.03500366200001, -111.91852779999999, -112.79900359999999, -83.420097351074, -72.27079772949219, -91.5465011597, -95.1093978881836, -76.568398, -103.51100158691, -89.25279999, -97.385902404785, -122.122001648, -83.74559783939999, -84.332397, -81.40100098, -77.507400512695, -87.85140228, -111.32800293, -112.29499816894531, -109.6350021, -89.561798095703, -73.6102981567, -73.86119843, -82.57129669189453, -76.4138031, -121.35099792480469, -83.39450073, -70.94789886470001, -90.02829742431601, -116.8199997, -94.21579742430002, -87.59590149, -80.799201965332, -95.5883026123, -93.4570999146, -94.73760223, -75.58190155029297, -77.51540375, -88.8453979492, -81.10880279541016, -70.9292984008789, -97.2744979858, -110.40699768100001, -119.7910004, -122.98300170899999, -119.9209976196289, -111.0350037, -95.77940368652344, -79.78289795, -85.1288986206, -81.79460144042969, -75.69550323, -85.43399811, -76.096296, -86.92590332, -104.41000366210938, -93.35389709472656, -88.738899231, -82.98529816, -123.29000090000001, -112.0120010376, -94.62129974365234, -103.22200012200001, -123.14800262451, -161.97900390625, -161.7779999, -79.61759948730469, -75.1222991943, -77.049797058105, -75.9552001953125, -81.09829711910002, -80.00289916992188, -79.33609771728516, -79.01640319820001, -79.95700073, -79.12220001, -79.8946991, -77.48280334472656, -118.03500366200001, -81.5593032836914, -98.47109985351601, -94.80280304, -94.03489685, -93.99909973144531, -104.017997, -103.683998108, -117.68800354, -83.979599, -86.00319671630001, -85.93479919433594, -80.9952011108, -94.73860168, -97.69129944, -82.3764038086, -83.76730346679688, -80.11920166019999, -79.06590200000001, -78.07499695, -77.52500153, -78.52919769, -81.80870056, -117.637001, -83.46199799, -120.6269989, -122.500999451, -118.21900179999999, -78.98419952, -86.05090332030001, -82.34999847410002, -93.91870117, -86.012100219727, -86.30549621582031, -85.89990234, -85.96299743649999, -85.32649994, -100.88500213623048, -99.336502, -98.74690247, -96.59400177, -99.7772979736, -100.83000179999999, -95.760597229, -86.05899810791, -95.64610290527344, -101.879997, -104.54299926757812, -90.43109893799999, -101.508003235, -100.3560028076172, -101.3740005, -95.7783966064, -97.0779037475586, -99.08599854, -98.1958999633789, -95.8635025024, -95.45079803466801, -95.5718994141, -104.633003235, -96.52020264, -118.00700378399999, -75.37889862, -75.38189697265601, -116.850997925, -97.435096740723, -122.1589966, -82.44930267334, -71.9207992553711, -87.00710297, -86.40789795, -121.819000244, -121.790000916, -76.71610260009766, -83.35160064697266, -90.04599761959999, -95.3946990967, -85.8963012695, -99.32389831540002, -118.36399841299999, -117.808998108, -110.1110001, -92.4704971313, -85.25150299069999, -113.77200317399999, -92.61080169680001, -95.4850997925, -81.51439666750002, -85.08499908450001, -77.1809997559, -116.78700259999998, -107.721000671, -116.032997, -114.62300109899999, -86.52290344, -124.112998962, -97.86299896240234, -91.44429779050002, -99.76349639889999, -91.75099945, -118.565002441, -100.40799709999999, -90.47190094, -89.25199890136719, -80.80130005, -69.93859863, -81.42469788, -80.859497070312, -97.34259796, -92.44789886, -85.71340179, -109.8069992, -73.88420104980469, -92.5381012, -98.811798095703, -95.08229828, -121.60600280761999, -100.6490020752, -92.47940063, -117.086998, -122.7699966430664, -123.20099639893, -89.536796569824, -95.5871963501, -100.5479965, -117.805999756, -99.5226667, -80.56659698490002, -81.89209747310001, -149.07400512695312, -149.539993286, -22.605600357055998, -113.580001831, -63.508598327600005, -80.3786010742, -119.377998352, -111.22200012200001, -75.66919708251953, -71.393303, -64.67859649658203, -104.66600036621094, -79.396202, -73.7407989502, -123.183998108, -97.2398986816, -106.6999969482422, -81.1539, -114.019996643, -123.426002502, -52.751899719200004, -79.63059997559999, -0.16678600013256073, 3.321160078048706, 4.48443984985, 8.5705556, 9.988229751586902, 6.766779899597168, 11.786100387572999, 9.22196006775, 13.287699699400001, 24.963300704956, -6.21582984924, -1.7480299472799998, -2.2749500274658203, -0.19027799367904666, -0.461941, -4.43306016922, -3.372499942779541, 4.7638897895799985, -6.2700700759887695, -8.9248199462891, 12.656000137328999, 5.218140125, 11.100399971008, 20.9671001434, 17.918600082397, 28.246, -7.589970111846924, -17.49020004272461, 31.40559959411621, 2.0784599781036, -3.56264, 7.215869903560001, 2.54999995232, 2.3794444, 8.728110000000001, 12.3519, 12.238888900000001, 34.88669967651367, 16.569700241089002, -25.6979007721, -8.68138980865, -9.13591957092, 6.108950138092041, 8.5491695404053, 28.814599990799998, -72.26589965820312, -68.91179656982422, -68.36340332030001, -70.56999969482422, -69.668899536133, -70.60469818115234, -90.52749633789062, -87.92359924316406, -86.523003, -87.21720123291016, -76.7874984741211, -77.91339874267578, -99.75399780273438, -102.318001, -96.26260375976562, -91.79900360107422, -105.96499633799999, -86.92559814453125, -104.52799987799999, -103.31099700927734, -111.047996521, -100.9290008544922, -101.48100280799999, -111.3479995727539, -89.657699585, -101.025001526, -99.072098, -100.107002258, -106.26599884, -96.72660064700001, -98.3713989258, -102.03900146484376, -105.25399780273438, -100.18599700899999, -109.72100067138672, -100.930999756, -103.41100311299999, -97.86589813229999, -99.5660018921, -86.8770980835, -92.81739807128906, -96.1873016357, -102.68699646, -101.460998535, -104.558998108, -86.16819763183594, -79.3834991455, -85.54440307617188, -84.20880126953125, -89.055702, -72.2925033569336, -81.3576965332, -77.08350372310001, -77.3912963867, -79.2647018433, -75.8779983521, -76.6835021973, -76.3310012817, -78.695602417, -77.46620178219999, -74.52400207519531, -88.30819702148438, -159.805999756, 177.4429931640625, -172.00799560546875, -170.710006714, 174.79200744599999, 39.156502, 46.69879913330078, 35.9931983948, 47.96889877319336, 54.651100158691406, 55.3643989563, 144.796005249, 171.27200317382812, -157.35000610351562, 121.233002, 140.386001587, 141.69200134277344, 130.45100402832028, 139.779999, 121.019997, -48.476299285900005, -47.92083358764648, -43.97194290161133, -60.04970169067383, -43.2505569458, -46.47305679321289, -51.1713981628418, -34.923599243164055, -38.3224983215, -70.78579711914062, -79.88359832760001, -78.3575, -57.52000045776367, -75.7664, -74.1469, -74.7808, -75.513, -76.3816, -75.4231, -63.1353988647461, -77.114304, -56.030799865722656, -64.68920135498047, -71.7278594971, -66.9905853271, -61.792702, -59.492500305200004, -61.00320053100586, -61.53179931640625, -61.78620147705078, -64.97339630126953, -64.79859924316406, -67.12940216064453, -66.56300354003906, -66.0018005371, -62.71870040893555, -60.952599, -70.01519775390625, -68.26850128173828, -68.959801, -63.108898162799996, -60.83219909667969, -61.33720016479492, 30.89469909667969, 37.4146, 37.2615013123, 72.8678970337, 113.915000916, 77.10310363769531, 153.11700439453125, 144.84300231933594, 151.177001953125, 116.58499908447266, 113.29900360107422, 121.80500030517578, 126.45099639892578, 23.944499969499997, 136.80499267578122, 23.971099853515625, -58.5358, 135.24400329589844, 37.90629959106445, -64.67870330810547, -149.60699462899998, -58.25410079956055, -23.49349975585937, -69.7419967651], \"marker\": {\"color\": \"rgb(255, 0, 0)\", \"line\": {\"color\": \"rgba(68, 68, 68, 0)\", \"width\": 3}, \"size\": 2}, \"mode\": \"markers\", \"text\": [\"Barter Island LRRS Airport\", \"Cape Lisburne LRRS Airport\", \"Point Lay LRRS Airport\", \"Hilo International Airport\", \"Orlando Executive Airport\", \"Bettles Airport\", \"Clear Airport\", \"Indian Mountain LRRS Airport\", \"Fort Yukon Airport\", \"Sparrevohn LRRS Airport\", \"Bryant Army Heliport\", \"Tatalina LRRS Airport\", \"Cape Romanzof LRRS Airport\", \"Laurence G Hanscom Field\", \"St Paul Island Airport\", \"Cape Newenham LRRS Airport\", \"St George Airport\", \"Iliamna Airport\", \"Platinum Airport\", \"Big Mountain Airport\", \"Oscoda Wurtsmith Airport\", \"Marina Municipal Airport\", \"Sacramento Mather Airport\", \"Bicycle Lake Army Air Field\", \"Twentynine Palms (Self) Airport\", \"Fort Smith Regional Airport\", \"Merrill Field\", \"Grants-Milan Municipal Airport\", \"Ponca City Regional Airport\", \"Hunter Army Air Field\", \"Grand Forks International Airport\", \"Grider Field\", \"Whiting Field Naval Air Station - North\", \"Hana Airport\", \"Ernest A. Love Field\", \"Trenton Mercer Airport\", \"General Edward Lawrence Logan International Airport\", \"Travis Air Force Base\", \"Griffiss International Airport\", \"Wendover Airport\", \"Mobile Downtown Airport\", \"Metropolitan Oakland International Airport\", \"Eppley Airfield\", \"Port Angeles Cgas Airport\", \"Kahului Airport\", \"Wichita Mid Continent Airport\", \"Kansas City International Airport\", \"Dane County Regional Truax Field\", \"Dillingham Airport\", \"Boone County Airport\", \"Phoenix Sky Harbor International Airport\", \"Bangor International Airport\", \"Fort Lauderdale Executive Airport\", \"East Texas Regional Airport\", \"Anderson Regional Airport\", \"Spokane International Airport\", \"North Perry Airport\", \"San Francisco International Airport\", \"Cut Bank International Airport\", \"Acadiana Regional Airport\", \"Gainesville Regional Airport\", \"Memphis International Airport\", \"Bisbee Douglas International Airport\", \"Allen Army Airfield\", \"TSTC Waco Airport\", \"Annette Island Airport\", \"Caribou Municipal Airport\", \"Little Rock Air Force Base\", \"Redstone Army Air Field\", \"Pope Field\", \"Dalhart Municipal Airport\", \"Laughlin Air Force Base\", \"Los Angeles International Airport\", \"Anniston Metropolitan Airport\", \"Cleveland Hopkins International Airport\", \"Dover Air Force Base\", \"Cincinnati Northern Kentucky International Airport\", \"Tipton Airport\", \"China Lake Naws (Armitage Field) Airport\", \"Huron Regional Airport\", \"Juneau International Airport\", \"Lafayette Regional Airport\", \"Newark Liberty International Airport\", \"Boise Air Terminal/Gowen field\", \"Creech Air Force Base\", \"Garden City Regional Airport\", \"Minot International Airport\", \"Wheeler Army Airfield\", \"Maxwell Air Force Base\", \"Dallas Love Field\", \"Butts AAF (Fort Carson) Air Field\", \"Helena Regional Airport\", \"Miramar Marine Corps Air Station - Mitscher Field\", \"Luke Air Force Base\", \"Jack Northrop Field Hawthorne Municipal Airport\", \"Houlton International Airport\", \"Vance Air Force Base\", \"Point Mugu Naval Air Station (Naval Base Ventura Co)\", \"Edwards Air Force Base\", \"Lake Charles Regional Airport\", \"Kona International At Keahole Airport\", \"Myrtle Beach International Airport\", \"Lemoore Naval Air Station (Reeves Field) Airport\", \"Nantucket Memorial Airport\", \"Felker Army Air Field\", \"Campbell AAF (Fort Campbell) Air Field\", \"Ronald Reagan Washington National Airport\", \"Patuxent River Naval Air Station/Trapnell Field Aiport\", \"Palacios Municipal Airport\", \"Arkansas International Airport\", \"Atlantic City International Airport\", \"Tinker Air Force Base\", \"Pueblo Memorial Airport\", \"Northern Maine Regional Airport at Presque Isle\", \"Gray Army Air Field\", \"Kodiak Airport\", \"Upolu Airport\", \"Fort Lauderdale Hollywood International Airport\", \"Davis Field\", \"Falls International Airport\", \"Salt Lake City International Airport\", \"Childress Municipal Airport\", \"Keesler Air Force Base\", \"Lawson Army Air Field (Fort Benning)\", \"Marshall Army Air Field\", \"Harrisburg International Airport\", \"Lincoln Airport\", \"Capital City Airport\", \"Waimea Kohala Airport\", \"Massena International Richards Field\", \"Hickory Regional Airport\", \"Albert Whitted Airport\", \"Page Field\", \"George Bush Intercontinental Houston Airport\", \"Millinocket Municipal Airport\", \"Andrews Air Force Base\", \"Smith Reynolds Airport\", \"Southern California Logistics Airport\", \"Bob Sikes Airport\", \"Wheeler Sack Army Air Field\", \"St Clair County International Airport\", \"Meadows Field\", \"El Paso International Airport\", \"Valley International Airport\", \"Columbia Metropolitan Airport\", \"Davis Monthan Air Force Base\", \"Pensacola Naval Air Station/Forrest Sherman Field\", \"Pensacola Regional Airport\", \"Grand Forks Air Force Base\", \"William P Hobby Airport\", \"Buckley Air Force Base\", \"Northway Airport\", \"Palmer Municipal Airport\", \"Pittsburgh International Airport\", \"Wiley Post Will Rogers Memorial Airport\", \"Ellington Airport\", \"Whidbey Island Naval Air Station /Ault Field/ Airport\", \"Alice International Airport\", \"Moody Air Force Base\", \"Miami International Airport\", \"Seattle Tacoma International Airport\", \"Lovell Field\", \"Igor I Sikorsky Memorial Airport\", \"Jackson-Medgar Wiley Evers International Airport\", \"Scholes International At Galveston Airport\", \"Long Beach /Daugherty Field/ Airport\", \"Dillingham Airfield\", \"Williamsport Regional Airport\", \"Indianapolis International Airport\", \"Whiteman Air Force Base\", \"Akron Fulton International Airport\", \"Greenwood\\u2013Leflore Airport\", \"Westchester County Airport\", \"Francis S Gabreski Airport\", \"Jonesboro Municipal Airport\", \"Palm Beach County Park Airport\", \"North Island Naval Air Station-Halsey Field\", \"Biggs Army Air Field (Fort Bliss)\", \"Yuma MCAS/Yuma International Airport\", \"Cavern City Air Terminal\", \"Duluth International Airport\", \"Bethel Airport\", \"Bowman Field\", \"Sierra Vista Municipal Libby Army Air Field\", \"Lihue Airport\", \"Terre Haute International Hulman Field\", \"Havre City County Airport\", \"Grant County International Airport\", \"Edward F Knapp State Airport\", \"Richmond International Airport\", \"Shreveport Regional Airport\", \"Merle K (Mudhole) Smith Airport\", \"Norfolk International Airport\", \"Southeast Texas Regional Airport\", \"Savannah Hilton Head International Airport\", \"Hill Air Force Base\", \"Nome Airport\", \"St Petersburg Clearwater International Airport\", \"Menominee Marinette Twin County Airport\", \"Lone Star Executive Airport\", \"Deadhorse Airport\", \"San Antonio International Airport\", \"Greater Rochester International Airport\", \"Patrick Air Force Base\", \"Teterboro Airport\", \"Ellsworth Air Force Base\", \"Raleigh Durham International Airport\", \"James M Cox Dayton International Airport\", \"Kenai Municipal Airport\", \"Mc Alester Regional Airport\", \"Niagara Falls International Airport\", \"Coulter Field\", \"Newport News Williamsburg International Airport\", \"Esler Regional Airport\", \"Altus Air Force Base\", \"Tucson International Airport\", \"Minot Air Force Base\", \"Beale Air Force Base\", \"Greater Kankakee Airport\", \"Seymour Johnson Air Force Base\", \"Theodore Francis Green State Airport\", \"Salisbury Ocean City Wicomico Regional Airport\", \"Rancho Murieta Airport\", \"Bob Hope Airport\", \"Detroit Metropolitan Wayne County Airport\", \"Tampa International Airport\", \"Pembina Municipal Airport\", \"Polk Army Air Field\", \"Eielson Air Force Base\", \"Range Regional Airport\", \"Angelina County Airport\", \"Midland International Airport\", \"Austin Straubel International Airport\", \"Ardmore Municipal Airport\", \"Mc Guire Air Force Base\", \"Emanuel County Airport\", \"Augusta Regional At Bush Field\", \"Sloulin Field International Airport\", \"Bill & Hillary Clinton National Airport/Adams Field\", \"Stewart International Airport\", \"Baudette International Airport\", \"Sacramento Executive Airport\", \"Homer Airport\", \"Waynesville-St. Robert Regional Forney field\", \"Dobbins Air Reserve Base\", \"Fairchild Air Force Base\", \"Roscommon County - Blodgett Memorial Airport\", \"Tyndall Air Force Base\", \"Dallas Fort Worth International Airport\", \"Melbourne International Airport\", \"McChord Air Force Base\", \"Austin Bergstrom International Airport\", \"Rickenbacker International Airport\", \"Sawyer International Airport\", \"McGhee Tyson Airport\", \"Hood Army Air Field\", \"Lambert St Louis International Airport\", \"Millville Municipal Airport\", \"Sheppard Air Force Base-Wichita Falls Municipal Airport\", \"Cincinnati Municipal Airport Lunken Field\", \"Hartsfield Jackson Atlanta International Airport\", \"Castle Airport\", \"Mc Clellan Airfield\", \"Gerald R. Ford International Airport\", \"Winkler County Airport\", \"Fresno Yosemite International Airport\", \"Vero Beach Municipal Airport\", \"Imperial County Airport\", \"Nashville International Airport\", \"Laredo International Airport\", \"Elmendorf Air Force Base\", \"Ralph Wien Memorial Airport\", \"Altoona Blair County Airport\", \"Dyess Air Force Base\", \"South Arkansas Regional At Goodwin Field\", \"La Guardia Airport\", \"Tallahassee Regional Airport\", \"Dupage Airport\", \"Waco Regional Airport\", \"Augusta State Airport\", \"Hillsboro Municipal Airport\", \"Mc Kellar Sipes Regional Airport\", \"Molokai Airport\", \"Godman Army Air Field\", \"San Angelo Regional Mathis Field\", \"Calexico International Airport\", \"Chico Municipal Airport\", \"Burlington International Airport\", \"Jacksonville International Airport\", \"Durango La Plata County Airport\", \"Washington Dulles International Airport\", \"Easterwood Field\", \"Felts Field\", \"General Mitchell International Airport\", \"Abilene Regional Airport\", \"Columbia Regional Airport\", \"Portland International Airport\", \"Dade Collier Training and Transition Airport\", \"Palm Beach International Airport\", \"Fort Worth Meacham International Airport\", \"Ogdensburg International Airport\", \"Boeing Field King County International Airport\", \"Lackland Air Force Base\", \"Honolulu International Airport\", \"Des Moines International Airport\", \"Coastal Carolina Regional Airport\", \"San Diego International Airport\", \"Monroe Regional Airport\", \"Shaw Air Force Base\", \"Ontario International Airport\", \"Majors Airport\", \"Roswell International Air Center Airport\", \"Coleman A. Young Municipal Airport\", \"Brownsville South Padre Island International Airport\", \"Dothan Regional Airport\", \"Cape May County Airport\", \"Selfridge Angb Airport\", \"Four Corners Regional Airport\", \"Corpus Christi International Airport\", \"Syracuse Hancock International Airport\", \"Naval Air Station Key West/Boca Chica Field\", \"Chicago Midway International Airport\", \"Norman Y. Mineta San Jose International Airport\", \"Lea County Regional Airport\", \"Northeast Philadelphia Airport\", \"Denver International Airport\", \"Philadelphia International Airport\", \"Sioux Gateway Col. Bud Day Field\", \"Middle Georgia Regional Airport\", \"Truth Or Consequences Municipal Airport\", \"Palmdale Regional/USAF Plant 42 Airport\", \"Randolph Air Force Base\", \"El Centro Naf Airport\", \"Port Columbus International Airport\", \"Drake Field\", \"Henry Post Army Air Field (Fort Sill)\", \"Princeton Municipal Airport\", \"Wright-Patterson Air Force Base\", \"Edward G. Pitka Sr Airport\", \"Mineral Wells Airport\", \"Mc Connell Air Force Base\", \"New Orleans NAS JRB/Alvin Callender Field\", \"Beaufort County Airport\", \"Texarkana Regional Webb Field\", \"Plattsburgh International Airport\", \"Phillips Army Air Field\", \"Tucumcari Municipal Airport\", \"Ted Stevens Anchorage International Airport\", \"Robert Gray  Army Air Field Airport\", \"Black Rock Airport\", \"Bellingham International Airport\", \"Millington Regional Jetport Airport\", \"Elkins-Randolph Co-Jennings Randolph Field\", \"Hartford Brainard Airport\", \"North Central State Airport\", \"Mobile Regional Airport\", \"Moffett Federal Airfield\", \"Santa Fe Municipal Airport\", \"Barking Sands Airport\", \"Beauregard Regional Airport\", \"Bradshaw Army Airfield\", \"Nogales International Airport\", \"Mac Dill Air Force Base\", \"Scott AFB/Midamerica Airport\", \"Opa-locka Executive Airport\", \"Del Rio International Airport\", \"Southwest Florida International Airport\", \"King Salmon Airport\", \"Muir Army Air Field (Fort Indiantown Gap) Airport\", \"Kapalua Airport\", \"John F Kennedy International Airport\", \"Homestead ARB Airport\", \"Riverside Municipal Airport\", \"Sherman Army Air Field\", \"Wallops Flight Facility Airport\", \"Holloman Air Force Base\", \"Willow Grove Naval Air Station/Joint Reserve Base\", \"Cheyenne Regional Jerry Olson Field\", \"Stockton Metropolitan Airport\", \"Charleston Air Force Base-International Airport\", \"Reno Tahoe International Airport\", \"Ketchikan International Airport\", \"Willow Run Airport\", \"Vandenberg Air Force Base\", \"Birmingham-Shuttlesworth International Airport\", \"Lakehurst Maxfield Field Airport\", \"Nellis Air Force Base\", \"March ARB Airport\", \"Modesto City Co-Harry Sham Field\", \"Sacramento International Airport\", \"Waukegan National Airport\", \"City of Colorado Springs Municipal Airport\", \"Buffalo Niagara International Airport\", \"Griffing Sandusky Airport\", \"Snohomish County (Paine Field) Airport\", \"Mountain Home Air Force Base\", \"Cedar City Regional Airport\", \"Bradley International Airport\", \"Mc Allen Miller International Airport\", \"Norfolk Ns (Chambers Fld) Airport\", \"Westover ARB/Metropolitan Airport\", \"Lubbock Preston Smith International Airport\", \"Chicago O'Hare International Airport\", \"Boca Raton Airport\", \"Fairbanks International Airport\", \"Quantico MCAF /Turner field\", \"Cannon Air Force Base\", \"Kaneohe Bay MCAS (Marion E. Carl Field) Airport\", \"Offutt Air Force Base\", \"Gulkana Airport\", \"Watertown International Airport\", \"Palm Springs International Airport\", \"Rick Husband Amarillo International Airport\", \"Fort Dodge Regional Airport\", \"Barksdale Air Force Base\", \"Topeka Regional Airport - Forbes Field\", \"Cotulla-La Salle County Airport\", \"Wilmington International Airport\", \"Baton Rouge Metropolitan, Ryan Field\", \"Tyler Pounds Regional Airport\", \"Baltimore/Washington International Thurgood Marshall Airport\", \"Hobart Regional Airport\", \"Lanai Airport\", \"Alexandria International Airport\", \"Condron Army Air Field\", \"Cold Bay Airport\", \"Tulsa International Airport\", \"Sitka Rocky Gutierrez Airport\", \"Long Island Mac Arthur Airport\", \"Minneapolis-St Paul International/Wold-Chamberlain Airport\", \"New Castle Airport\", \"Unalaska Airport\", \"Louis Armstrong New Orleans International Airport\", \"Portland International Jetport Airport\", \"Will Rogers World Airport\", \"Albany International Airport\", \"Valdez Pioneer Field\", \"Langley Air Force Base\", \"John Wayne Airport-Orange County Airport\", \"Columbus Air Force Base\", \"Kendall-Tamiami Executive Airport\", \"Oceana NAS\", \"Grissom Air Reserve Base\", \"Casper-Natrona County International Airport\", \"Destin-Ft Walton Beach Airport\", \"Craig Field\", \"Key West International Airport\", \"Charlotte Douglas International Airport\", \"McCarran International Airport\", \"Orlando International Airport\", \"Florence Regional Airport\", \"Great Falls International Airport\", \"Youngstown Warren Regional Airport\", \"Ladd AAF Airfield\", \"Mc Minnville Municipal Airport\", \"Robins Air Force Base\", \"Pullman Moscow Regional Airport\", \"Lewiston Nez Perce County Airport\", \"Elmira Corning Regional Airport\", \"Ithaca Tompkins Regional Airport\", \"Monterey Peninsula Airport\", \"Santa Barbara Municipal Airport\", \"Daytona Beach International Airport\", \"Talkeetna Airport\", \"Tweed New Haven Airport\", \"Asheville Regional Airport\", \"Piedmont Triad International Airport\", \"Joe Foss Field Airport\", \"Manchester Airport\", \"Naples Municipal Airport\", \"Louisville International Standiford Field\", \"Charlottesville Albemarle Airport\", \"Roanoke\\u2013Blacksburg Regional Airport\", \"Blue Grass Airport\", \"Evansville Regional Airport\", \"Albuquerque International Sunport Airport\", \"Gallatin Field\", \"Billings Logan International Airport\", \"Bert Mooney Airport\", \"Cherry Capital Airport\", \"Hancock County-Bar Harbor Airport\", \"Knox County Regional Airport\", \"Jackson Hole Airport\", \"Chicago Rockford International Airport\", \"Greenville Spartanburg International Airport\", \"Central Illinois Regional Airport at Bloomington-Normal\", \"Gulfport Biloxi International Airport\", \"Kalamazoo Battle Creek International Airport\", \"Toledo Express Airport\", \"Fort Wayne International Airport\", \"Decatur Airport\", \"The Eastern Iowa Airport\", \"La Crosse Municipal Airport\", \"Central Wisconsin Airport\", \"General Wayne A. Downing Peoria International Airport\", \"Appleton International Airport\", \"Rochester International Airport\", \"University of Illinois Willard Airport\", \"Manhattan Regional Airport\", \"Venango Regional Airport\", \"Grand Junction Regional Airport\", \"St George Municipal Airport\", \"David Wayne Hooks Memorial Airport\", \"Port O'Connor Private Airport\", \"Sarasota Bradenton International Airport\", \"Van Nuys Airport\", \"Quad City International Airport\", \"Panama City-Bay Co International Airport\", \"Bismarck Municipal Airport\", \"Telluride Regional Airport\", \"Rapid City Regional Airport\", \"Mc Clellan-Palomar Airport\", \"Bishop International Airport\", \"Redding Municipal Airport\", \"Mahlon Sweet Field\", \"Idaho Falls Regional Airport\", \"Rogue Valley International Medford Airport\", \"Roberts Field\", \"Akron Canton Regional Airport\", \"Huntsville International Carl T Jones Field\", \"Mid Ohio Valley Regional Airport\", \"Montgomery Regional (Dannelly Field) Airport\", \"Tri Cities Regional Tn Va Airport\", \"Barkley Regional Airport\", \"Page Municipal Airport\", \"Glacier Park International Airport\", \"MBS International Airport\", \"Greater Binghamton/Edwin A Link field\", \"Blythe Airport\", \"Petersburg James A Johnson Airport\", \"Orlando Sanford International Airport\", \"John Murtha Johnstown Cambria County Airport\", \"Missoula International Airport\", \"Grand Canyon National Park Airport\", \"Sugar Land Regional Airport\", \"Centennial Airport\", \"Clovis Municipal Airport\", \"Fort Stockton Pecos County Airport\", \"Las Vegas Municipal Airport\", \"West Houston Airport\", \"La Junta Municipal Airport\", \"Las Cruces International Airport\", \"Stephens County Airport\", \"Draughon Miller Central Texas Regional Airport\", \"Ozona Municipal Airport\", \"Eagle County Regional Airport\", \"Cuyahoga County Airport\", \"Mansfield Lahm Regional Airport\", \"Columbus Metropolitan Airport\", \"Lawton Fort Sill Regional Airport\", \"Fort Collins Loveland Municipal Airport\", \"Flagstaff Pulliam Airport\", \"Lake Tahoe Airport\", \"Joslin Field Magic Valley Regional Airport\", \"Martha's Vineyard Airport\", \"Concord Municipal Airport\", \"Groton New London Airport\", \"St Cloud Regional Airport\", \"Golden Triangle Regional Airport\", \"Bowerman Airport\", \"Erie International Tom Ridge Field\", \"Barnstable Municipal Boardman Polando Field\", \"Sedona Airport\", \"Morgantown Municipal Walter L. Bill Hart Field\", \"Yeager Airport\", \"Wilkes Barre Scranton International Airport\", \"Bemidji Regional Airport\", \"Hector International Airport\", \"Charles B. Wheeler Downtown Airport\", \"Gillette Campbell County Airport\", \"University Park Airport\", \"Key Field\", \"Abraham Lincoln Capital Airport\", \"Cortez Municipal Airport\", \"Yampa Valley Airport\", \"Gallup Municipal Airport\", \"Liberal Mid-America Regional Airport\", \"Lamar Municipal Airport\", \"Renner Field-Goodland Municipal Airport\", \"Yellowstone Regional Airport\", \"Springfield Branson National Airport\", \"Joplin Regional Airport\", \"Lehigh Valley International Airport\", \"Northwest Arkansas Regional Airport\", \"South Bend Regional Airport\", \"Smith Field\", \"Arcata Airport\", \"Albert J Ellis Airport\", \"Tuscaloosa Regional Airport\", \"Dubuque Regional Airport\", \"Aberdeen Regional Airport\", \"Southwest Georgia Regional Airport\", \"Athens Ben Epps Airport\", \"Alamogordo White Sands Regional Airport\", \"Waterloo Regional Airport\", \"Walla Walla Regional Airport\", \"Alpena County Regional Airport\", \"Watertown Regional Airport\", \"Bradford Regional Airport\", \"Western Neb. Rgnl/William B. Heilig Airport\", \"Raleigh County Memorial Airport\", \"Brunswick Golden Isles Airport\", \"Southeast Iowa Regional Airport\", \"Jack Mc Namara Field Airport\", \"Cape Girardeau Regional Airport\", \"Chippewa County International Airport\", \"North Central West Virginia Airport\", \"William R Fairchild International Airport\", \"Houghton County Memorial Airport\", \"Dodge City Regional Airport\", \"DuBois Regional Airport\", \"Chippewa Valley Regional Airport\", \"Elko Regional Airport\", \"New Bedford Regional Airport\", \"Fayetteville Regional Grannis Field\", \"Wokal Field Glasgow International Airport\", \"Central Nebraska Regional Airport\", \"Memorial Field\", \"Tri-State/Milton J. Ferguson Field\", \"Kirksville Regional Airport\", \"Jamestown Regional Airport\", \"Laramie Regional Airport\", \"Arnold Palmer Regional Airport\", \"North Platte Regional Airport Lee Bird Field\", \"Lebanon Municipal Airport\", \"Klamath Falls Airport\", \"Lancaster Airport\", \"Lewistown Municipal Airport\", \"Lynchburg Regional Preston Glenn Field\", \"Muskegon County Airport\", \"Frank Wiley Field\", \"Northwest Alabama Regional Airport\", \"Southwest Oregon Regional Airport\", \"Owensboro Daviess County Airport\", \"Hattiesburg Laurel Regional Airport\", \"Pocatello Regional Airport\", \"Pierre Regional Airport\", \"Pellston Regional Airport of Emmet County Airport\", \"Portsmouth International at Pease Airport\", \"Reading Regional Carl A Spaatz Field\", \"Rhinelander Oneida County Airport\", \"Rock Springs Sweetwater County Airport\", \"Rutland - Southern Vermont Regional Airport\", \"San Luis County Regional Airport\", \"Sheridan County Airport\", \"Adirondack Regional Airport\", \"Salina Municipal Airport\", \"Santa Maria Pub/Capt G Allan Hancock Field\", \"Tupelo Regional Airport\", \"Quincy Regional Baldwin Field\", \"Victoria Regional Airport\", \"Valdosta Regional Airport\", \"Worland Municipal Airport\", \"Yakima Air Terminal McAllister Field\", \"Adak Airport\", \"Gustavus Airport\", \"Skagway Airport\", \"Holy Cross Airport\", \"Haines Airport\", \"Kalskag Airport\", \"McGrath Airport\", \"Mountain Village Airport\", \"Aniak Airport\", \"Chevak Airport\", \"Wrangell Airport\", \"Kalaupapa Airport\", \"Aleknagik / New Airport\", \"Mercer County Airport\", \"Mid Delta Regional Airport\", \"Tri Cities Airport\", \"Akutan Seaplane Base\", \"Lopez Island Airport\", \"Waikoloa Heliport\", \"Worcester Regional Airport\", \"Bremerton National Airport\", \"Spencer Municipal Airport\", \"Jefferson City Memorial Airport\", \"Provincetown Municipal Airport\", \"Fullerton Municipal Airport\", \"Friedman Memorial Airport\", \"Mason City Municipal Airport\", \"Phoenix-Mesa-Gateway Airport\", \"Anaktuvuk Pass Airport\", \"Anvik Airport\", \"Atqasuk Edward Burnell Sr Memorial Airport\", \"Gambell Airport\", \"Hooper Bay Airport\", \"Kaltag Airport\", \"St Mary's Airport\", \"Kivalina Airport\", \"Mekoryuk Airport\", \"Ruby Airport\", \"Shishmaref Airport\", \"Savoonga Airport\", \"Noatak Airport\", \"Arctic Village Airport\", \"Hagerstown Regional Richard A Henson Field\", \"Sand Point Airport\", \"Deering Airport\", \"Igiugig Airport\", \"New Stuyahok Airport\", \"King Cove Airport\", \"Port Heiden Airport\", \"Togiak Airport\", \"Delta County Airport\", \"Yakutat Airport\", \"Williamson County Regional Airport\", \"Ford Airport\", \"Allakaket Airport\", \"Michigan City Municipal Airport\", \"Seward Airport\", \"Grand Marais Cook County Airport\", \"Wausau Downtown Airport\", \"Delaware County Johnson Field\", \"Purdue University Airport\", \"North Las Vegas Airport\", \"Kenosha Regional Airport\", \"Montrose Regional Airport\", \"Riverton Regional Airport\", \"Eastern Oregon Regional At Pendleton Airport\", \"Wittman Regional Airport\", \"Pangborn Memorial Airport\", \"Gary Chicago International Airport\", \"Brainerd Lakes Regional Airport\", \"Greenbrier Valley Airport\", \"Pitt Greenville Airport\", \"Chefornak Airport\", \"Oxnard Airport\", \"Schenectady County Airport\", \"Northeast Florida Regional Airport\", \"Charles M. Schulz Sonoma County Airport\", \"Kissimmee Gateway Airport\", \"Lake City Gateway Airport\", \"Logan-Cache Airport\", \"Brigham City Airport\", \"Malad City Airport\", \"Aspen-Pitkin Co/Sardy Field\", \"Kerrville Municipal Louis Schreiner Field\", \"Sussex County Airport\", \"Great Bend Municipal Airport\", \"Hays Regional Airport\", \"Spirit of St Louis Airport\", \"Ely Municipal Airport\", \"Grand Rapids Itasca Co-Gordon Newstrom field\", \"Thief River Falls Regional Airport\", \"Eagle River Union Airport\", \"Lakeland-Noble F. Lee Memorial field\", \"Ankeny Regional Airport\", \"Corpus Christi Naval Air Station/Truax Field\", \"Catalina Airport\", \"Mojave Airport\", \"Hutchinson Municipal Airport\", \"Rosecrans Memorial Airport\", \"Volk Field\", \"Gunnison Crested Butte Regional Airport\", \"Zamperini Field\", \"Manistee Co Blacker Airport\", \"Charlotte County Airport\", \"Northern Aroostook Regional Airport\", \"Chautauqua County-Jamestown Airport\", \"Lake Cumberland Regional Airport\", \"Shenandoah Valley Regional Airport\", \"Devils Lake Regional Airport\", \"Dickinson Theodore Roosevelt Regional Airport\", \"Sidney Richland Municipal Airport\", \"Chadron Municipal Airport\", \"Alliance Municipal Airport\", \"Mc Cook Ben Nelson Regional Airport\", \"The Florida Keys Marathon Airport\", \"Dawson Community Airport\", \"L M Clayton Airport\", \"Yellowstone Airport\", \"San Luis Valley Regional Bergman Field\", \"Canyonlands Field\", \"Ely Airport Yelland Field\", \"Vernal Regional Airport\", \"Sierra Blanca Regional Airport\", \"Show Low Regional Airport\", \"McCall Municipal Airport\", \"Lemhi County Airport\", \"Mammoth Yosemite Airport\", \"Friday Harbor Airport\", \"Orcas Island Airport\", \"Astoria Regional Airport\", \"Newport Municipal Airport\", \"Emmonak Airport\", \"Unalakleet Airport\", \"Ugnu-Kuparuk Airport\", \"Shageluk Airport\", \"Nuiqsut Airport\", \"Eek Airport\", \"Kasigluk Airport\", \"Kwethluk Airport\", \"Kwigillingok Airport\", \"Marshall Don Hunter Sr Airport\", \"Russian Mission Airport\", \"Koliganek Airport\", \"Manokotak Airport\", \"Chalkyitsik Airport\", \"Eagle Airport\", \"Hughes Airport\", \"Huslia Airport\", \"Nulato Airport\", \"Venetie Airport\", \"Beaver Airport\", \"Central Airport\", \"Shungnak Airport\", \"Inyokern Airport\", \"Visalia Municipal Airport\", \"Merced Regional Macready Field\", \"Angoon Seaplane Base\", \"Elfin Cove Seaplane Base\", \"Funter Bay Seaplane Base\", \"Hoonah Airport\", \"Kake Airport\", \"Metlakatla Seaplane Base\", \"Hydaburg Seaplane Base\", \"Egegik Airport\", \"Perryville Airport\", \"Pilot Point Airport\", \"South Naknek Nr 2 Airport\", \"Akhiok Airport\", \"Karluk Airport\", \"Larsen Bay Airport\", \"Ambler Airport\", \"Buckland Airport\", \"Bob Baker Memorial Airport\", \"Kobuk Airport\", \"Robert (Bob) Curtis Memorial Airport\", \"Selawik Airport\", \"Brevig Mission Airport\", \"Elim Airport\", \"Golovin Airport\", \"Teller Airport\", \"Wales Airport\", \"White Mountain Airport\", \"Koyuk Alfred Adams Airport\", \"St Michael Airport\", \"Shaktoolik Airport\", \"Tin City Long Range Radar Station Airport\", \"Atka Airport\", \"Yakataga Airport\", \"Alakanuk Airport\", \"Kipnuk Airport\", \"False Pass Airport\", \"Nelson Lagoon Airport\", \"Port Moller Airport\", \"Klawock Airport\", \"Quinhagak Airport\", \"Kotlik Airport\", \"Koyukuk Airport\", \"Scammon Bay Airport\", \"Nondalton Airport\", \"Kongiganak Airport\", \"Nikolai Airport\", \"Akiak Airport\", \"Wainwright Airport\", \"Chenega Bay Airport\", \"Tok Junction Airport\", \"Circle City /New/ Airport\", \"Sleetmute Airport\", \"Healy River Airport\", \"Klawock Seaplane Base\", \"Minchumina Airport\", \"Manley Hot Springs Airport\", \"Eastern WV Regional Airport/Shepherd Field\", \"Rock Hill - York County Airport\", \"Allegheny County Airport\", \"Fulton County Airport Brown Field\", \"Ohio State University Airport\", \"Addison Airport\", \"Destin Executive Airport\", \"Kinston Regional Jetport At Stallings Field\", \"First Flight Airport\", \"Provo Municipal Airport\", \"Steamboat Springs Bob Adams Field\", \"Delta Municipal Airport\", \"Richfield Municipal Airport\", \"Carbon County Regional/Buck Davis Field\", \"Los Alamos Airport\", \"Lake Havasu City Airport\", \"Winslow Lindbergh Regional Airport\", \"Douglas Municipal Airport\", \"Bartow Municipal Airport\", \"Livermore Municipal Airport\", \"Mariposa Yosemite Airport\", \"Jacqueline Cochran Regional Airport\", \"Santa Monica Municipal Airport\", \"Bermuda Dunes Airport\", \"Scottsdale Airport\", \"Olympia Regional Airport\", \"Yolo County Davis Woodland Winters Airport\", \"Garfield County Regional Airport\", \"Shively Field\", \"DeKalb Peachtree Airport\", \"Monroe County Airport\", \"Witham Field\", \"Morristown Municipal Airport\", \"Napa County Airport\", \"Brown Field Municipal Airport\", \"Venice Municipal Airport\", \"Palm Beach County Glades Airport\", \"Northwest Florida Beaches International Airport\", \"San Bernardino International Airport\", \"San Carlos Airport\", \"Rocky Mount Wilson Regional Airport\", \"Soldotna Airport\", \"Gillespie Field\", \"Truckee Tahoe Airport\", \"Cobb County-Mc Collum Field\", \"Dell Flight Strip\", \"Mission Field\", \"Big Timber Airport\", \"Tulip City Airport\", \"Lakeland Linder Regional Airport\", \"Indianola Municipal Airport\", \"French Valley Airport\", \"Carl R Keller Field\", \"Dayton-Wright Brothers Airport\", \"Richmond Municipal Airport\", \"Findlay Airport\", \"Black Hills Airport-Clyde Ice Field\", \"Olive Branch Airport\", \"Rocky Mountain Metropolitan Airport\", \"Salem Municipal Airport/McNary Field\", \"Tunica Municipal Airport\", \"Lawrence J Timmerman Airport\", \"Southern Wisconsin Regional Airport\", \"Arlington Municipal Airport\", \"Gwinnett County Briscoe Field\", \"Bowling Green Warren County Regional Airport\", \"Richard Lloyd Jones Jr Airport\", \"Bryce Canyon Airport\", \"New Century Aircenter Airport\", \"Easton Newnam Field\", \"Yuba County Airport\", \"Halliburton Field\", \"Garner Field\", \"Lewis University Airport\", \"Buchanan Field\", \"Ocean Reef Club Airport\", \"Springfield-Beckley Municipal Airport\", \"Philip Billard Municipal Airport\", \"Collin County Regional At Mc Kinney Airport\", \"Chicago Executive Airport\", \"Southwest Washington Regional Airport\", \"Wilmington Airpark\", \"Marana Regional Airport\", \"Casa Grande Municipal Airport\", \"Buckeye Municipal Airport\", \"Gila Bend Municipal Airport\", \"McMinn County Airport\", \"Sterling Municipal Airport\", \"Rawlins Municipal Airport/Harvey Field\", \"Essex County Airport\", \"Lee C Fine Memorial Airport\", \"Thomasville Regional Airport\", \"Henderson Executive Airport\", \"Henry Tift Myers Airport\", \"Phoenix Deer Valley Airport\", \"South Texas Regional Airport at Hondo\", \"McKinley National Park Airport\", \"Lake Hood Seaplane Base\", \"Prospect Creek Airport\", \"Wheeling Ohio County Airport\", \"Fitzgerald Municipal Airport\", \"Aransas County Airport\", \"Crisp County Cordele Airport\", \"Ormond Beach Municipal Airport\", \"Portland Troutdale Airport\", \"Portland Hillsboro Airport\", \"Montgomery County Airpark\", \"Charlevoix Municipal Airport\", \"Flagler County Airport\", \"Morrisville Stowe State Airport\", \"Dallas Executive Airport\", \"Westerly State Airport\", \"Block Island State Airport\", \"Nightmute Airport\", \"Toksook Bay Airport\", \"Decatur County Industrial Air Park\", \"Silver Springs Airport\", \"Whiteman Airport\", \"Madera Municipal Airport\", \"Apalachicola Regional Airport\", \"Douglas Municipal Airport\", \"St Lucie County International Airport\", \"Taunton Municipal King Field\", \"Plymouth Municipal Airport\", \"Quonset State Airport\", \"Norwood Memorial Airport\", \"Barnes Municipal Airport\", \"Windham Airport\", \"Orange County Airport\", \"Capital City Airport\", \"Marshfield Municipal George Harlow Field\", \"Danbury Municipal Airport\", \"Boire Field\", \"Lawrence Municipal Airport\", \"Waterbury Oxford Airport\", \"Fitchburg Municipal Airport\", \"Cartersville Airport\", \"Centre-Piedmont-Cherokee County Regional Airport\", \"Richard B Russell Airport\", \"Northeast Alabama Regional Airport\", \"Knoxville Downtown Island Airport\", \"Barrow County Airport\", \"Plantation Airpark\", \"Dalton Municipal Airport\", \"West Georgia Regional O V Gray Field\", \"Lagrange Callaway Airport\", \"Baldwin County Airport\", \"Harris County Airport\", \"Peachtree City Falcon Field\", \"Lee Gilmer Memorial Airport\", \"Harry Clever Field\", \"Darlington County Jetport Airport\", \"Hilton Head Airport\", \"Daniel Field\", \"Foothills Regional Airport\", \"Pike County-Hatcher Field\", \"Toccoa Airport - R.G. Letourneau Field\", \"Fort Worth Alliance Airport\", \"East Troy Municipal Airport\", \"Lawrence Municipal Airport\", \"Wellington Municipal Airport\", \"Pompano Beach Airpark\", \"Shelby County Airport\", \"Indianapolis Metropolitan Airport\", \"London-Corbin Airport/Magee Field\", \"Simmons Army Air Field\", \"John H Batten Airport\", \"Redlands Municipal Airport\", \"Flabob Airport\", \"Tacoma Narrows Airport\", \"Jack Edwards Airport\", \"Hazleton Municipal Airport\", \"Greater Cumberland Regional Airport\", \"Tri-County Regional Airport\", \"Joliet Regional Airport\", \"Illinois Valley Regional Airport-Walter A Duncan Field\", \"Jackson County Reynolds Field\", \"Wings Field\", \"Okeechobee County Airport\", \"Sebring Regional Airport\", \"Avon Park Executive Airport\", \"Winter Haven Municipal Airport - Gilbert Field\", \"Zephyrhills Municipal Airport\", \"Ocala International Airport - Jim Taylor Field\", \"Jesup Wayne County Airport\", \"Madison Municipal Airport\", \"Newnan Coweta County Airport\", \"Thomson-McDuffie County Airport\", \"Aiken Municipal Airport\", \"Woodward Field\", \"Lumberton Regional Airport\", \"Moore County Airport\", \"Richmond County Airport\", \"Baraboo Wisconsin Dells Airport\", \"Statesville Regional Airport\", \"Burlington Municipal Airport\", \"William T. Piper Memorial Airport\", \"Lorain County Regional Airport\", \"Burke Lakefront Airport\", \"Chautauqua County-Dunkirk Airport\", \"South Jersey Regional Airport\", \"Linden Airport\", \"Tri State Steuben County Airport\", \"Van Wert County Airport\", \"Genesee County Airport\", \"Clearwater Air Park\", \"Chicago Meigs Airport\", \"Pickens County Airport\", \"Grand Strand Airport\", \"Lansing Municipal Airport\", \"Ramona Airport\", \"Branch County Memorial Airport\", \"Wilkes Barre Wyoming Valley Airport\", \"Willoughby Lost Nation Municipal Airport\", \"Capital City Airport\", \"Auburn Lewiston Municipal Airport\", \"Marco Island Airport\", \"Drummond Island Airport\", \"Gladwin Zettel Memorial Airport\", \"South Haven Area Regional Airport\", \"Marshfield Municipal Airport\", \"Alexander Field South Wood County Airport\", \"Clinton Municipal Airport\", \"Beverly Municipal Airport\", \"Poplar Bluff Municipal Airport\", \"Eastport Municipal Airport\", \"Keokuk Municipal Airport\", \"St Paul Downtown Holman Field\", \"Fond du Lac County Airport\", \"Waupaca Municipal Airport\", \"Stevens Point Municipal Airport\", \"Luce County Airport\", \"Galion Municipal Airport\", \"Clarksville\\u2013Montgomery County Regional Airport\", \"Lompoc Airport\", \"Chester County G O Carlson Airport\", \"Lake Placid Airport\", \"Lima Allen County Airport\", \"Malcolm McKinnon Airport\", \"Beaver County Airport\", \"Georgetown County Airport\", \"Hardwick Field\", \"Renton Municipal Airport\", \"Brackett Field\", \"Cross City Airport\", \"Oconee County Regional Airport\", \"Beech Factory Airport\", \"Georgetown Municipal Airport\", \"Sidney Municipal-Lloyd W Carr Field\", \"Iosco County Airport\", \"Leesburg Executive Airport\", \"Williamson Sodus Airport\", \"Boulder Municipal Airport\", \"Palo Alto Airport of Santa Clara County\", \"Falcon Field\", \"Coolidge Municipal Airport\", \"Cottonwood Airport\", \"Ak-Chin Regional Airport\", \"Wickenburg Municipal Airport\", \"Oakland County International Airport\", \"Dillant Hopkins Airport\", \"Iowa City Municipal Airport\", \"Windom Municipal Airport\", \"Lee Airport\", \"Pecos Municipal Airport\", \"Hattiesburg Bobby L Chain Municipal Airport\", \"Chan Gurney Municipal Airport\", \"Hayward Executive Airport\", \"Ann Arbor Municipal Airport\", \"Atlanta South Regional Airport/Tara Field\", \"Immokalee Regional Airport\", \"Dinwiddie County Airport\", \"Sheboygan County Memorial Airport\", \"Pinal Airpark\", \"Glendale Municipal Airport\", \"Safford Regional Airport\", \"Sikeston Memorial Municipal Airport\", \"Floyd Bennett Memorial Airport\", \"Saratoga County Airport\", \"Crystal River Airport\", \"Martin State Airport\", \"Lincoln Regional Karl Harder Field\", \"Fostoria Metropolitan Airport\", \"Eastern Slopes Regional Airport\", \"Lakefront Airport\", \"Coeur D'Alene - Pappy Boyington Field\", \"Beaumont Municipal Airport\", \"Vermilion Regional Airport\", \"Space Coast Regional Airport\", \"Andrau Airpark\", \"Flying Cloud Airport\", \"Johnson County Executive Airport\", \"Brandywine Airport\", \"Manassas Regional Airport/Harry P. Davis Field\", \"Shelby County Airport\", \"Fairfield County Airport\", \"Skyhaven Airport\", \"Newton City-County Airport\", \"Fort Bridger Airport\", \"Prosser Airport\", \"Chehalis Centralia Airport\", \"Desert Aire Airport\", \"Evanston-Uinta County Airport-Burns Field\", \"Sabetha Municipal Airport\", \"Mt Pleasant Regional-Faison field\", \"Weedon Field\", \"Saluda County Airport\", \"Dare County Regional Airport\", \"Auburn Opelika Robert G. Pitts Airport\", \"Tri Cities Airport\", \"Bessemer Airport\", \"Colorado Springs East Airport\", \"Crystal Airport\", \"Clarke County Airport\", \"W H 'Bud' Barron Airport\", \"Corvallis Municipal Airport\", \"Ogden Hinckley Airport\", \"Robert S Kerr Airport\", \"Colorado Plains Regional Airport\", \"Sanderson Field\", \"Napakiak Airport\", \"Napaskiak Airport\", \"Causey Airport\", \"Doylestown Airport\", \"Warren Field\", \"Hyde County Airport\", \"Wilkes County Airport\", \"Charleston Executive Airport\", \"Danville Regional Airport\", \"Brookneal/Campbell County Airport\", \"Cheraw Municipal Airport/Lynch Bellinger Field\", \"Conway Horry County Airport\", \"Asheboro Regional Airport\", \"Emporia Greensville Regional Airport\", \"El Monte Airport\", \"Kee Field\", \"Stinson Municipal Airport\", \"Sallisaw Municipal Airport\", \"Jasper County Airport-Bell Field\", \"El Dorado Springs Memorial Airport\", \"Marfa Municipal Airport\", \"Alpine Casparis Municipal Airport\", \"Cable Airport\", \"Mount Sterling Montgomery County Airport\", \"Elkhart Municipal Airport\", \"Nappanee Municipal Airport\", \"Jim Hamilton L.B. Owens Airport\", \"Grove Municipal Airport\", \"Mc Pherson Airport\", \"Donaldson Center Airport\", \"Perry Houston County Airport\", \"Hartsville Regional Airport\", \"Horace Williams Airport\", \"Brunswick County Airport\", \"Chesterfield County Airport\", \"Henderson Oxford Airport\", \"Leesburg International Airport\", \"Chino Airport\", \"Madison County Airport\", \"Paso Robles Municipal Airport\", \"Half Moon Bay Airport\", \"General WM J Fox Airfield\", \"Person County Airport\", \"Talladega Municipal Airport\", \"Greenville Downtown Airport\", \"Mankato Regional Airport\", \"Troy Municipal Airport\", \"Merkel Field Sylacauga Municipal Airport\", \"Enterprise Municipal Airport\", \"Thomas C Russell Field\", \"New Castle Henry Co. Municipal Airport\", \"Scott City Municipal Airport\", \"Brewster Field\", \"Pratt Regional Airport\", \"Wahoo Municipal Airport\", \"Jim Kelly Field\", \"Sublette Municipal Airport\", \"Council Bluffs Municipal Airport\", \"Kokomo Municipal Airport\", \"Neodesha Municipal Airport\", \"Elkhart Morton County Airport\", \"Front Range Airport\", \"Galesburg Municipal Airport\", \"Guymon Municipal Airport\", \"Meade Municipal Airport\", \"Ulysses Airport\", \"Independence Municipal Airport\", \"Augusta Municipal Airport\", \"Larned Pawnee County Airport\", \"Lampasas Airport\", \"Bay City Municipal Airport\", \"Cox Field\", \"Coffeyville Municipal Airport\", \"Greeley\\u2013Weld County Airport\", \"Fremont Municipal Airport\", \"La Grande/Union County Airport\", \"Pocono Mountains Municipal Airport\", \"Quakertown Airport\", \"Banning Municipal Airport\", \"Karl Stefan Memorial Airport\", \"Arlington Municipal Airport\", \"Peter O Knight Airport\", \"Montauk Airport\", \"Porter County Municipal Airport\", \"Mason County Airport\", \"Reid-Hillview Airport of Santa Clara County\", \"Watsonville Municipal Airport\", \"Williamsburg Jamestown Airport\", \"Union County Airport\", \"St Louis Regional Airport\", \"Chandler Field\", \"Columbus Municipal Airport\", \"Curtis Field\", \"Eastern Sierra Regional Airport\", \"Baker City Municipal Airport\", \"Miley Memorial Field\", \"Ozark Regional Airport\", \"W K Kellogg Airport\", \"Burley Municipal Airport\", \"Northeast Iowa Regional Airport\", \"Chanute Martin Johnson Airport\", \"Jacksonville Executive at Craig Airport\", \"Crossville Memorial Whitson Field\", \"Davison Army Air Field\", \"Barstow Daggett Airport\", \"Deming Municipal Airport\", \"Desert Rock Airport\", \"Needles Airport\", \"Duke Field\", \"Murray Field\", \"San Marcos Municipal Airport\", \"Sawyer County Airport\", \"Kimble County Airport\", \"Monticello Municipal Ellis Field\", \"Derby Field\", \"Mobridge Municipal Airport\", \"Mc Comb/Pike County Airport/John E Lewis Field\", \"Southern Illinois Airport\", \"Mc Entire Joint National Guard Base\", \"Brunswick Executive Airport\", \"Naval Station Mayport (Admiral David L. Mcdonald Field)\", \"Orangeburg Municipal Airport\", \"Columbus Municipal Airport\", \"Ottumwa Regional Airport\", \"Cairns AAF (Fort Rucker) Air Field\", \"Ralph Wenz Field\", \"Dutchess County Airport\", \"New Richmond Regional Airport\", \"Russell Municipal Airport\", \"Redwood Falls Municipal Airport\", \"Salinas Municipal Airport\", \"Sonora Municipal Airport\", \"Saline County Regional Airport\", \"Tonopah Airport\", \"Aurora State Airport\", \"Ukiah Municipal Airport\", \"University Oxford Airport\", \"Huntsville Regional Airport\", \"Miller Field\", \"Winnemucca Municipal Airport\", \"West Woodward Airport\", \"Cape Canaveral AFS Skid Strip\", \"Zanesville Municipal Airport\", \"Nenana Municipal Airport\", \"Wasilla Airport\", \"Keflavik International Airport\", \"Edmonton International Airport\", \"Halifax / Stanfield International Airport\", \"Waterloo Airport\", \"Kelowna International Airport\", \"Fort McMurray Airport\", \"Ottawa Macdonald-Cartier International Airport\", \"Quebec Jean Lesage International Airport\", \"Greater Moncton International Airport\", \"Regina International Airport\", \"Billy Bishop Toronto City Centre Airport\", \"Montreal / Pierre Elliott Trudeau International Airport\", \"Vancouver International Airport\", \"Winnipeg / James Armstrong Richardson International Airport\", \"Saskatoon John G. Diefenbaker International Airport\", \"London Airport\", \"Calgary International Airport\", \"Victoria International Airport\", \"St. John's International Airport\", \"Lester B. Pearson International Airport\", \"Kotoka International Airport\", \"Murtala Muhammed International Airport\", \"Brussels Airport\", \"Frankfurt am Main International Airport\", \"Hamburg Airport\", \"D\\u00fcsseldorf International Airport\", \"Munich International Airport\", \"Stuttgart Airport\", \"Berlin-Tegel International Airport\", \"Helsinki Vantaa Airport\", \"Belfast International Airport\", \"Birmingham International Airport\", \"Manchester Airport\", \"London Gatwick Airport\", \"London Heathrow Airport\", \"Glasgow International Airport\", \"Edinburgh Airport\", \"Amsterdam Airport Schiphol\", \"Dublin Airport\", \"Shannon Airport\", \"Copenhagen Kastrup Airport\", \"Bergen Airport Flesland\", \"Oslo Gardermoen Airport\", \"Warsaw Chopin Airport\", \"Stockholm-Arlanda Airport\", \"OR Tambo International Airport\", \"Mohammed V International Airport\", \"L\\u00e9opold S\\u00e9dar Senghor International Airport\", \"Cairo International Airport\", \"Barcelona International Airport\", \"Adolfo Su\\u00e1rez Madrid\\u2013Barajas Airport\", \"Nice-C\\u00f4te d'Azur Airport\", \"Charles de Gaulle International Airport\", \"Paris-Orly Airport\", \"Malpensa International Airport\", \"Venice Marco Polo Airport\", \"Leonardo da Vinci\\u2013Fiumicino Airport\", \"Ben Gurion International Airport\", \"Vienna International Airport\", \"Jo\\u00e3o Paulo II Airport\", \"Francisco de S\\u00e1 Carneiro Airport\", \"Lisbon Portela Airport\", \"Geneva Cointrin International Airport\", \"Z\\u00fcrich Airport\", \"Atat\\u00fcrk International Airport\", \"Providenciales Airport\", \"Casa De Campo International Airport\", \"Punta Cana International Airport\", \"Gregorio Luperon International Airport\", \"Las Am\\u00e9ricas International Airport\", \"Cibao International Airport\", \"La Aurora Airport\", \"Ram\\u00f3n Villeda Morales International Airport\", \"Juan Manuel Galvez International Airport\", \"Toncont\\u00edn International Airport\", \"Norman Manley International Airport\", \"Sangster International Airport\", \"General Juan N Alvarez International Airport\", \"Jes\\u00fas Ter\\u00e1n Paredo International Airport\", \"Bah\\u00edas de Huatulco International Airport\", \"Ciudad del Carmen International Airport\", \"General Roberto Fierro Villalobos International Airport\", \"Cozumel International Airport\", \"General Guadalupe Victoria International Airport\", \"Don Miguel Hidalgo Y Costilla International Airport\", \"General Ignacio P. Garcia International Airport\", \"Plan De Guadalupe International Airport\", \"Del Baj\\u00edo International Airport\", \"Loreto International Airport\", \"Licenciado Manuel Crescencio Rejon Int Airport\", \"General Francisco J. Mujica International Airport\", \"Licenciado Benito Juarez International Airport\", \"General Mariano Escobedo International Airport\", \"General Rafael Buelna International Airport\", \"Xoxocotl\\u00e1n International Airport\", \"Hermanos Serd\\u00e1n International Airport\", \"Licenciado y General Ignacio Lopez Rayon Airport\", \"Licenciado Gustavo D\\u00edaz Ordaz International Airport\", \"Quer\\u00e9taro Intercontinental Airport\", \"Los Cabos International Airport\", \"Ponciano Arriaga International Airport\", \"Francisco Sarabia International Airport\", \"General Francisco Javier Mina International Airport\", \"Licenciado Adolfo Lopez Mateos International Airport\", \"Canc\\u00fan International Airport\", \"Carlos Rovirosa P\\u00e9rez International Airport\", \"General Heriberto Jara International Airport\", \"General Leobardo C. Ruiz International Airport\", \"Ixtapa Zihuatanejo International Airport\", \"Playa De Oro International Airport\", \"Augusto C. Sandino (Managua) International Airport\", \"Tocumen International Airport\", \"Daniel Oduber Quiros International Airport\", \"Juan Santamaria International Airport\", \"El Salvador International Airport\", \"Toussaint Louverture International Airport\", \"Owen Roberts International Airport\", \"Marsh Harbour International Airport\", \"Treasure Cay Airport\", \"South Bimini Airport\", \"Exuma International Airport\", \"North Eleuthera Airport\", \"Governor's Harbour Airport\", \"Grand Bahama International Airport\", \"Lynden Pindling International Airport\", \"San Salvador Airport\", \"Philip S. W. Goldson International Airport\", \"Rarotonga International Airport\", \"Nadi International Airport\", \"Faleolo International Airport\", \"Pago Pago International Airport\", \"Auckland International Airport\", \"King Abdulaziz International Airport\", \"King Khaled International Airport\", \"Queen Alia International Airport\", \"Kuwait International Airport\", \"Abu Dhabi International Airport\", \"Dubai International Airport\", \"Antonio B. Won Pat International Airport\", \"Marshall Islands International Airport\", \"Cassidy International Airport\", \"Taiwan Taoyuan International Airport\", \"Narita International Airport\", \"New Chitose Airport\", \"Fukuoka Airport\", \"Tokyo Haneda International Airport\", \"Ninoy Aquino International Airport\", \"Val de Cans/J\\u00falio Cezar Ribeiro International Airport\", \"Presidente Juscelino Kubistschek International Airport\", \"Tancredo Neves International Airport\", \"Eduardo Gomes International Airport\", \"Rio Gale\\u00e3o \\u2013 Tom Jobim International Airport\", \"Guarulhos - Governador Andr\\u00e9 Franco Montoro International Airport\", \"Salgado Filho Airport\", \"Guararapes - Gilberto Freyre International Airport\", \"Deputado Luiz Eduardo Magalh\\u00e3es International Airport\", \"Comodoro Arturo Merino Ben\\u00edtez International Airport\", \"Jos\\u00e9 Joaqu\\u00edn de Olmedo International Airport\", \"Mariscal Sucre International Airport\", \"Silvio Pettirossi International Airport\", \"El Eden Airport\", \"El Dorado International Airport\", \"Ernesto Cortissoz International Airport\", \"Rafael Nu\\u00f1ez International Airport\", \"Alfonso Bonilla Aragon International Airport\", \"Jose Maria C\\u00f3rdova International Airport\", \"Viru Viru International Airport\", \"Jorge Ch\\u00e1vez International Airport\", \"Carrasco International /General C L Berisso Airport\", \"General Jose Antonio Anzoategui International Airport\", \"La Chinita International Airport\", \"Sim\\u00f3n Bol\\u00edvar International Airport\", \"V.C. Bird International Airport\", \"Sir Grantley Adams International Airport\", \"Martinique Aim\\u00e9 C\\u00e9saire International Airport\", \"Pointe-\\u00e0-Pitre Le Raizet\", \"Point Salines International Airport\", \"Cyril E. King Airport\", \"Henry E Rohlsen Airport\", \"Rafael Hernandez Airport\", \"Mercedita Airport\", \"Luis Munoz Marin International Airport\", \"Robert L. Bradshaw International Airport\", \"Hewanorra International Airport\", \"Queen Beatrix International Airport\", \"Flamingo International Airport\", \"Hato International Airport\", \"Princess Juliana International Airport\", \"Tobago-Crown Point Airport\", \"Piarco International Airport\", \"Boryspil International Airport\", \"Sheremetyevo International Airport\", \"Vnukovo International Airport\", \"Chhatrapati Shivaji International Airport\", \"Chek Lap Kok International Airport\", \"Indira Gandhi International Airport\", \"Brisbane International Airport\", \"Melbourne International Airport\", \"Sydney Kingsford Smith International Airport\", \"Beijing Capital International Airport\", \"Guangzhou Baiyun International Airport\", \"Shanghai Pudong International Airport\", \"Incheon International Airport\", \"Eleftherios Venizelos International Airport\", \"Chubu Centrair International Airport\", \"Riga International Airport\", \"Ministro Pistarini International Airport\", \"Kansai International Airport\", \"Domodedovo International Airport\", \"L.F. Wade International International Airport\", \"Faa'a International Airport\", \"Cheddi Jagan International Airport\", \"Praia International Airport\", \"Saman\\u00e1 El Catey International Airport\"], \"type\": \"scattergeo\"}],\n",
       "                        {\"geo\": {\"countrycolor\": \"rgb(204, 204, 204)\", \"landcolor\": \"rgb(243, 243, 243)\", \"projection\": {\"type\": \"natural earth\"}, \"scope\": \"world\", \"showland\": true}, \"margin\": {\"b\": 1, \"l\": 1, \"r\": 50, \"t\": 50}, \"showlegend\": false, \"template\": {\"data\": {\"bar\": [{\"error_x\": {\"color\": \"#2a3f5f\"}, \"error_y\": {\"color\": \"#2a3f5f\"}, \"marker\": {\"line\": {\"color\": \"#E5ECF6\", \"width\": 0.5}}, \"type\": \"bar\"}], \"barpolar\": [{\"marker\": {\"line\": {\"color\": \"#E5ECF6\", \"width\": 0.5}}, \"type\": \"barpolar\"}], \"carpet\": [{\"aaxis\": {\"endlinecolor\": \"#2a3f5f\", \"gridcolor\": \"white\", \"linecolor\": \"white\", \"minorgridcolor\": \"white\", \"startlinecolor\": \"#2a3f5f\"}, \"baxis\": {\"endlinecolor\": \"#2a3f5f\", \"gridcolor\": \"white\", \"linecolor\": \"white\", \"minorgridcolor\": \"white\", \"startlinecolor\": \"#2a3f5f\"}, \"type\": \"carpet\"}], \"choropleth\": [{\"colorbar\": {\"outlinewidth\": 0, \"ticks\": \"\"}, \"type\": \"choropleth\"}], \"contour\": [{\"colorbar\": {\"outlinewidth\": 0, \"ticks\": \"\"}, \"colorscale\": [[0.0, \"#0d0887\"], [0.1111111111111111, \"#46039f\"], [0.2222222222222222, \"#7201a8\"], [0.3333333333333333, \"#9c179e\"], [0.4444444444444444, \"#bd3786\"], [0.5555555555555556, \"#d8576b\"], [0.6666666666666666, \"#ed7953\"], [0.7777777777777778, \"#fb9f3a\"], [0.8888888888888888, \"#fdca26\"], [1.0, \"#f0f921\"]], \"type\": \"contour\"}], \"contourcarpet\": [{\"colorbar\": {\"outlinewidth\": 0, \"ticks\": \"\"}, \"type\": \"contourcarpet\"}], \"heatmap\": [{\"colorbar\": {\"outlinewidth\": 0, \"ticks\": \"\"}, \"colorscale\": [[0.0, \"#0d0887\"], [0.1111111111111111, \"#46039f\"], [0.2222222222222222, \"#7201a8\"], [0.3333333333333333, \"#9c179e\"], [0.4444444444444444, \"#bd3786\"], [0.5555555555555556, \"#d8576b\"], [0.6666666666666666, \"#ed7953\"], [0.7777777777777778, \"#fb9f3a\"], [0.8888888888888888, \"#fdca26\"], [1.0, \"#f0f921\"]], \"type\": \"heatmap\"}], \"heatmapgl\": [{\"colorbar\": {\"outlinewidth\": 0, \"ticks\": \"\"}, \"colorscale\": [[0.0, \"#0d0887\"], [0.1111111111111111, \"#46039f\"], [0.2222222222222222, \"#7201a8\"], [0.3333333333333333, \"#9c179e\"], [0.4444444444444444, \"#bd3786\"], [0.5555555555555556, \"#d8576b\"], [0.6666666666666666, \"#ed7953\"], [0.7777777777777778, \"#fb9f3a\"], [0.8888888888888888, \"#fdca26\"], [1.0, \"#f0f921\"]], \"type\": \"heatmapgl\"}], \"histogram\": [{\"marker\": {\"colorbar\": {\"outlinewidth\": 0, \"ticks\": \"\"}}, \"type\": \"histogram\"}], \"histogram2d\": [{\"colorbar\": {\"outlinewidth\": 0, \"ticks\": \"\"}, \"colorscale\": [[0.0, \"#0d0887\"], [0.1111111111111111, \"#46039f\"], [0.2222222222222222, \"#7201a8\"], [0.3333333333333333, \"#9c179e\"], [0.4444444444444444, \"#bd3786\"], [0.5555555555555556, \"#d8576b\"], [0.6666666666666666, \"#ed7953\"], [0.7777777777777778, \"#fb9f3a\"], [0.8888888888888888, \"#fdca26\"], [1.0, \"#f0f921\"]], \"type\": \"histogram2d\"}], \"histogram2dcontour\": [{\"colorbar\": {\"outlinewidth\": 0, \"ticks\": \"\"}, \"colorscale\": [[0.0, \"#0d0887\"], [0.1111111111111111, \"#46039f\"], [0.2222222222222222, \"#7201a8\"], [0.3333333333333333, \"#9c179e\"], [0.4444444444444444, \"#bd3786\"], [0.5555555555555556, \"#d8576b\"], [0.6666666666666666, \"#ed7953\"], [0.7777777777777778, \"#fb9f3a\"], [0.8888888888888888, \"#fdca26\"], [1.0, \"#f0f921\"]], \"type\": \"histogram2dcontour\"}], \"mesh3d\": [{\"colorbar\": {\"outlinewidth\": 0, \"ticks\": \"\"}, \"type\": \"mesh3d\"}], \"parcoords\": [{\"line\": {\"colorbar\": {\"outlinewidth\": 0, \"ticks\": \"\"}}, \"type\": \"parcoords\"}], \"pie\": [{\"automargin\": true, \"type\": \"pie\"}], \"scatter\": [{\"marker\": {\"colorbar\": {\"outlinewidth\": 0, \"ticks\": \"\"}}, \"type\": \"scatter\"}], \"scatter3d\": [{\"line\": {\"colorbar\": {\"outlinewidth\": 0, \"ticks\": \"\"}}, \"marker\": {\"colorbar\": {\"outlinewidth\": 0, \"ticks\": \"\"}}, \"type\": \"scatter3d\"}], \"scattercarpet\": [{\"marker\": {\"colorbar\": {\"outlinewidth\": 0, \"ticks\": \"\"}}, \"type\": \"scattercarpet\"}], \"scattergeo\": [{\"marker\": {\"colorbar\": {\"outlinewidth\": 0, \"ticks\": \"\"}}, \"type\": \"scattergeo\"}], \"scattergl\": [{\"marker\": {\"colorbar\": {\"outlinewidth\": 0, \"ticks\": \"\"}}, \"type\": \"scattergl\"}], \"scattermapbox\": [{\"marker\": {\"colorbar\": {\"outlinewidth\": 0, \"ticks\": \"\"}}, \"type\": \"scattermapbox\"}], \"scatterpolar\": [{\"marker\": {\"colorbar\": {\"outlinewidth\": 0, \"ticks\": \"\"}}, \"type\": \"scatterpolar\"}], \"scatterpolargl\": [{\"marker\": {\"colorbar\": {\"outlinewidth\": 0, \"ticks\": \"\"}}, \"type\": \"scatterpolargl\"}], \"scatterternary\": [{\"marker\": {\"colorbar\": {\"outlinewidth\": 0, \"ticks\": \"\"}}, \"type\": \"scatterternary\"}], \"surface\": [{\"colorbar\": {\"outlinewidth\": 0, \"ticks\": \"\"}, \"colorscale\": [[0.0, \"#0d0887\"], [0.1111111111111111, \"#46039f\"], [0.2222222222222222, \"#7201a8\"], [0.3333333333333333, \"#9c179e\"], [0.4444444444444444, \"#bd3786\"], [0.5555555555555556, \"#d8576b\"], [0.6666666666666666, \"#ed7953\"], [0.7777777777777778, \"#fb9f3a\"], [0.8888888888888888, \"#fdca26\"], [1.0, \"#f0f921\"]], \"type\": \"surface\"}], \"table\": [{\"cells\": {\"fill\": {\"color\": \"#EBF0F8\"}, \"line\": {\"color\": \"white\"}}, \"header\": {\"fill\": {\"color\": \"#C8D4E3\"}, \"line\": {\"color\": \"white\"}}, \"type\": \"table\"}]}, \"layout\": {\"annotationdefaults\": {\"arrowcolor\": \"#2a3f5f\", \"arrowhead\": 0, \"arrowwidth\": 1}, \"coloraxis\": {\"colorbar\": {\"outlinewidth\": 0, \"ticks\": \"\"}}, \"colorscale\": {\"diverging\": [[0, \"#8e0152\"], [0.1, \"#c51b7d\"], [0.2, \"#de77ae\"], [0.3, \"#f1b6da\"], [0.4, \"#fde0ef\"], [0.5, \"#f7f7f7\"], [0.6, \"#e6f5d0\"], [0.7, \"#b8e186\"], [0.8, \"#7fbc41\"], [0.9, \"#4d9221\"], [1, \"#276419\"]], \"sequential\": [[0.0, \"#0d0887\"], [0.1111111111111111, \"#46039f\"], [0.2222222222222222, \"#7201a8\"], [0.3333333333333333, \"#9c179e\"], [0.4444444444444444, \"#bd3786\"], [0.5555555555555556, \"#d8576b\"], [0.6666666666666666, \"#ed7953\"], [0.7777777777777778, \"#fb9f3a\"], [0.8888888888888888, \"#fdca26\"], [1.0, \"#f0f921\"]], \"sequentialminus\": [[0.0, \"#0d0887\"], [0.1111111111111111, \"#46039f\"], [0.2222222222222222, \"#7201a8\"], [0.3333333333333333, \"#9c179e\"], [0.4444444444444444, \"#bd3786\"], [0.5555555555555556, \"#d8576b\"], [0.6666666666666666, \"#ed7953\"], [0.7777777777777778, \"#fb9f3a\"], [0.8888888888888888, \"#fdca26\"], [1.0, \"#f0f921\"]]}, \"colorway\": [\"#636efa\", \"#EF553B\", \"#00cc96\", \"#ab63fa\", \"#FFA15A\", \"#19d3f3\", \"#FF6692\", \"#B6E880\", \"#FF97FF\", \"#FECB52\"], \"font\": {\"color\": \"#2a3f5f\"}, \"geo\": {\"bgcolor\": \"white\", \"lakecolor\": \"white\", \"landcolor\": \"#E5ECF6\", \"showlakes\": true, \"showland\": true, \"subunitcolor\": \"white\"}, \"hoverlabel\": {\"align\": \"left\"}, \"hovermode\": \"closest\", \"mapbox\": {\"style\": \"light\"}, \"paper_bgcolor\": \"white\", \"plot_bgcolor\": \"#E5ECF6\", \"polar\": {\"angularaxis\": {\"gridcolor\": \"white\", \"linecolor\": \"white\", \"ticks\": \"\"}, \"bgcolor\": \"#E5ECF6\", \"radialaxis\": {\"gridcolor\": \"white\", \"linecolor\": \"white\", \"ticks\": \"\"}}, \"scene\": {\"xaxis\": {\"backgroundcolor\": \"#E5ECF6\", \"gridcolor\": \"white\", \"gridwidth\": 2, \"linecolor\": \"white\", \"showbackground\": true, \"ticks\": \"\", \"zerolinecolor\": \"white\"}, \"yaxis\": {\"backgroundcolor\": \"#E5ECF6\", \"gridcolor\": \"white\", \"gridwidth\": 2, \"linecolor\": \"white\", \"showbackground\": true, \"ticks\": \"\", \"zerolinecolor\": \"white\"}, \"zaxis\": {\"backgroundcolor\": \"#E5ECF6\", \"gridcolor\": \"white\", \"gridwidth\": 2, \"linecolor\": \"white\", \"showbackground\": true, \"ticks\": \"\", \"zerolinecolor\": \"white\"}}, \"shapedefaults\": {\"line\": {\"color\": \"#2a3f5f\"}}, \"ternary\": {\"aaxis\": {\"gridcolor\": \"white\", \"linecolor\": \"white\", \"ticks\": \"\"}, \"baxis\": {\"gridcolor\": \"white\", \"linecolor\": \"white\", \"ticks\": \"\"}, \"bgcolor\": \"#E5ECF6\", \"caxis\": {\"gridcolor\": \"white\", \"linecolor\": \"white\", \"ticks\": \"\"}}, \"title\": {\"x\": 0.05}, \"xaxis\": {\"automargin\": true, \"gridcolor\": \"white\", \"linecolor\": \"white\", \"ticks\": \"\", \"title\": {\"standoff\": 15}, \"zerolinecolor\": \"white\", \"zerolinewidth\": 2}, \"yaxis\": {\"automargin\": true, \"gridcolor\": \"white\", \"linecolor\": \"white\", \"ticks\": \"\", \"title\": {\"standoff\": 15}, \"zerolinecolor\": \"white\", \"zerolinewidth\": 2}}}, \"title\": {\"text\": \"\\u0420\\u0410\\u041a\\u0415\\u0422\\u041d\\u0410\\u042f \\u0410\\u0422\\u0410\\u041a\\u0410 \\u041f\\u041e \\u0421\\u0428\\u0410\"}},\n",
       "                        {\"responsive\": true}\n",
       "                    ).then(function(){\n",
       "                            \n",
       "var gd = document.getElementById('e201142b-f3b7-4388-9990-3e3ec91648a1');\n",
       "var x = new MutationObserver(function (mutations, observer) {{\n",
       "        var display = window.getComputedStyle(gd).display;\n",
       "        if (!display || display === 'none') {{\n",
       "            console.log([gd, 'removed!']);\n",
       "            Plotly.purge(gd);\n",
       "            observer.disconnect();\n",
       "        }}\n",
       "}});\n",
       "\n",
       "// Listen for the removal of the full notebook cells\n",
       "var notebookContainer = gd.closest('#notebook-container');\n",
       "if (notebookContainer) {{\n",
       "    x.observe(notebookContainer, {childList: true});\n",
       "}}\n",
       "\n",
       "// Listen for the clearing of the current output cell\n",
       "var outputEl = gd.closest('.output');\n",
       "if (outputEl) {{\n",
       "    x.observe(outputEl, {childList: true});\n",
       "}}\n",
       "\n",
       "                        })\n",
       "                };\n",
       "                });\n",
       "            </script>\n",
       "        </div>"
      ]
     },
     "metadata": {},
     "output_type": "display_data"
    }
   ],
   "source": [
    "fig = go.Figure()\n",
    "\n",
    "flight_paths = []\n",
    "for i in range(len(unstack_table)):\n",
    "    fig.add_trace(\n",
    "        go.Scattergeo(\n",
    "            lon = [unstack_table['start_lon'][i], unstack_table['end_lon'][i]],\n",
    "            lat = [unstack_table['start_lat'][i], unstack_table['end_lat'][i]],\n",
    "            mode = 'lines',\n",
    "            line = dict(width = 1,color = 'red'),\n",
    "            opacity = float(unstack_table['Stops'][i]) / float(unstack_table['Stops'].max()),\n",
    "        )\n",
    "    )\n",
    "\n",
    "fig.update_layout(\n",
    "    title_text = 'РАКЕТНАЯ АТАКА ПО США',\n",
    "    showlegend = False,\n",
    "    geo = go.layout.Geo(\n",
    "        scope = 'world',\n",
    "        #projection=dict( type='equirectangular' ),\n",
    "            projection=dict( type =\"natural earth\"),\n",
    "            showland = True,\n",
    "            landcolor = 'rgb(243, 243, 243)',\n",
    "            countrycolor = 'rgb(204, 204, 204)',\n",
    "        ),\n",
    "        margin={\"r\":50,\"t\":50,\"l\":1,\"b\":1}\n",
    ")\n",
    "\n",
    "fig.add_trace(go.Scattergeo(\n",
    "    lon = markers['Longitude'],\n",
    "    lat = markers['Latitude'],\n",
    "    hoverinfo = 'text',\n",
    "    text = markers['Name'],\n",
    "    mode = 'markers',\n",
    "    marker = dict(\n",
    "        size = 2,\n",
    "        color = 'rgb(255, 0, 0)',\n",
    "        line = dict(\n",
    "            width = 3,\n",
    "            color = 'rgba(68, 68, 68, 0)'\n",
    "        )\n",
    "    )))\n",
    "\n",
    "fig.show()"
   ]
  },
  {
   "cell_type": "code",
   "execution_count": null,
   "metadata": {},
   "outputs": [],
   "source": []
  }
 ],
 "metadata": {
  "kernelspec": {
   "display_name": "Python 3",
   "language": "python",
   "name": "python3"
  },
  "language_info": {
   "codemirror_mode": {
    "name": "ipython",
    "version": 3
   },
   "file_extension": ".py",
   "mimetype": "text/x-python",
   "name": "python",
   "nbconvert_exporter": "python",
   "pygments_lexer": "ipython3",
   "version": "3.7.3"
  }
 },
 "nbformat": 4,
 "nbformat_minor": 2
}
